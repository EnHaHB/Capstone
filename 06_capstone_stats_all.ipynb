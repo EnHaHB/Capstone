{
 "metadata": {
  "language_info": {
   "codemirror_mode": {
    "name": "ipython",
    "version": 3
   },
   "file_extension": ".py",
   "mimetype": "text/x-python",
   "name": "python",
   "nbconvert_exporter": "python",
   "pygments_lexer": "ipython3",
   "version": "3.8.5-final"
  },
  "orig_nbformat": 2,
  "kernelspec": {
   "name": "python385jvsc74a57bd064e7fe895b7a30084ff24eba202738ac5aa85c3b47075d056ba99cbf74e6a593",
   "display_name": "Python 3.8.5 64-bit ('.venv': venv)",
   "language": "python"
  }
 },
 "nbformat": 4,
 "nbformat_minor": 2,
 "cells": [
  {
   "cell_type": "code",
   "execution_count": 26,
   "metadata": {},
   "outputs": [],
   "source": [
    "import pandas as pd\n",
    "import numpy as np\n",
    "import seaborn as sns\n",
    "import matplotlib.pyplot as plt\n",
    "\n",
    "from scipy.stats import kruskal, mannwhitneyu\n",
    "\n",
    "from itertools import product\n",
    " "
   ]
  },
  {
   "cell_type": "code",
   "execution_count": 2,
   "metadata": {},
   "outputs": [],
   "source": [
    "df = pd.read_csv('data/IST_corrected_clean.csv',  index_col= [0])"
   ]
  },
  {
   "cell_type": "code",
   "execution_count": 3,
   "metadata": {},
   "outputs": [],
   "source": [
    "def print_stats(stat, p):\n",
    "    print('stat = %.3f, p = %.3f' % (stat, p))\n",
    "    if p > 0.05:\n",
    "\t    print('Probably the same distribution')\n",
    "    else:\n",
    "\t    print('Probably different distributions')"
   ]
  },
  {
   "source": [
    "+ aspirin vs non-aspirin\n",
    "    + aspirin vs non-aspirin subdivided in prior aspirin\n",
    "    + aspirin vs non-aspirin subdivided in hours between onset and randomisation (3, 6, 12, 24, 48)\n",
    "+ heparin vs non-heparin\n",
    "    + non vs low vs medium heparin\n",
    "    + heparin vs non-heparin subdivided in prior heparin\n",
    "    + heparin vs non-heparin subdivided in hours between onset and randomisation (3, 6, 12, 24, 48)\n",
    "+ combination of aspirin and heparin\n",
    "    + (significantly) different outcome than separate effects of aspirin and heparin"
   ],
   "cell_type": "markdown",
   "metadata": {}
  },
  {
   "cell_type": "code",
   "execution_count": 4,
   "metadata": {},
   "outputs": [],
   "source": [
    "def r_time(x):\n",
    "        if x <= 3: return '0 - 3'\n",
    "        elif x <= 6: return '4 - 6'\n",
    "        elif x <= 12: return '7 - 12'\n",
    "        elif x <= 24: return '13 - 24'\n",
    "        elif x <= 48: return '25 - 48'\n",
    "\n",
    "df['RDELAY_bin'] = pd.Categorical(df.RDELAY.apply(r_time), \n",
    "                ['0 - 3', '4 - 6', '7 - 12', '13 - 24', '25 - 48'])"
   ]
  },
  {
   "source": [
    "+ DASP14 - Aspirin given (Y/N)\n",
    "+ HEP14 - Heparin given (L, M, None)\n",
    "+ RXHEP14 - Heparin given (Y/N)\n",
    "\n",
    "+ RHEP24 - Heparin 24h prior to stroke\n",
    "+ RASP3 - Aspirin 3 days prior to stroke"
   ],
   "cell_type": "markdown",
   "metadata": {}
  },
  {
   "cell_type": "code",
   "execution_count": 8,
   "metadata": {},
   "outputs": [
    {
     "output_type": "stream",
     "name": "stdout",
     "text": [
      "Y    9906\nN    8886\nName: DALIVE, dtype: int64\n"
     ]
    },
    {
     "output_type": "execute_result",
     "data": {
      "text/plain": [
       "Discharged alive from hospital    9906\n",
       "Not discharged                    6896\n",
       "Dead on discharge form            1990\n",
       "Name: RDISCH14, dtype: int64"
      ]
     },
     "metadata": {},
     "execution_count": 8
    }
   ],
   "source": [
    "print(df.DALIVE.value_counts())\n",
    "df.RDISCH14.value_counts()"
   ]
  },
  {
   "source": [
    "### aspirin vs non-aspirin\n",
    "#### aspirin vs non-aspirin\n"
   ],
   "cell_type": "markdown",
   "metadata": {}
  },
  {
   "cell_type": "code",
   "execution_count": 5,
   "metadata": {},
   "outputs": [
    {
     "output_type": "execute_result",
     "data": {
      "text/plain": [
       "RASP3  RDISCH14                      \n",
       "N      Discharged alive from hospital    7396\n",
       "       Not discharged                    5129\n",
       "       Dead on discharge form            1505\n",
       "Y      Discharged alive from hospital    2037\n",
       "       Not discharged                    1383\n",
       "       Dead on discharge form             374\n",
       "Name: RDISCH14, dtype: int64"
      ]
     },
     "metadata": {},
     "execution_count": 5
    }
   ],
   "source": [
    "group_asp = df.groupby(by=['RASP3'])\n",
    "group_asp['RDISCH14'].value_counts()"
   ]
  },
  {
   "cell_type": "code",
   "execution_count": 6,
   "metadata": {},
   "outputs": [
    {
     "output_type": "execute_result",
     "data": {
      "text/plain": [
       "N    14030\n",
       "Y     3794\n",
       "Name: RASP3, dtype: int64"
      ]
     },
     "metadata": {},
     "execution_count": 6
    }
   ],
   "source": [
    "df.RASP3.value_counts()"
   ]
  },
  {
   "cell_type": "code",
   "execution_count": 9,
   "metadata": {},
   "outputs": [
    {
     "output_type": "stream",
     "name": "stdout",
     "text": [
      "Kruskal Wallis\nstat = 3.142, p = 0.076\nProbably the same distribution\n"
     ]
    }
   ],
   "source": [
    "group_asp = df.groupby('DASP14')\n",
    "group_asp_n = []\n",
    "group_asp_y = []\n",
    "for name, group in group_asp:\n",
    "    if name == 'Y':\n",
    "        group_asp_y.append(group['RDISCH14'])\n",
    "    if name == 'N':\n",
    "        group_asp_n.append(group['RDISCH14'])\n",
    "\n",
    "stat, p = kruskal(group_asp_y[0], group_asp_n[0])\n",
    "print('Kruskal Wallis')\n",
    "print_stats(stat, p)"
   ]
  },
  {
   "cell_type": "code",
   "execution_count": 8,
   "metadata": {},
   "outputs": [],
   "source": [
    "group_asp = df.groupby('DASP14')"
   ]
  },
  {
   "source": [
    "After 14 days: No difference between patients who were given Aspirin in comparison to those who didn't.\n"
   ],
   "cell_type": "markdown",
   "metadata": {}
  },
  {
   "cell_type": "code",
   "execution_count": 91,
   "metadata": {},
   "outputs": [
    {
     "output_type": "stream",
     "name": "stdout",
     "text": [
      "Kruskal Wallis\nstat = 35.669, p = 0.000\nProbably different distributions\n"
     ]
    }
   ],
   "source": [
    "group_asp = df.groupby('DASP14')\n",
    "group_asp_n = []\n",
    "group_asp_y = []\n",
    "for name, group in group_asp:\n",
    "    if name == 'Y':\n",
    "        group_asp_y.append(group['OCCODE'])\n",
    "    if name == 'N':\n",
    "        group_asp_n.append(group['OCCODE'])\n",
    "\n",
    "stat, p = kruskal(group_asp_y[0], group_asp_n[0])\n",
    "print('Kruskal Wallis')\n",
    "print_stats(stat, p)"
   ]
  },
  {
   "source": [
    "After 6 months: Difference between patients who received Aspirin and those who did not."
   ],
   "cell_type": "markdown",
   "metadata": {}
  },
  {
   "cell_type": "code",
   "execution_count": 93,
   "metadata": {},
   "outputs": [
    {
     "output_type": "execute_result",
     "data": {
      "text/plain": [
       "DASP14  OCCODE       \n",
       "N       Dependent        4135\n",
       "        Dead             2320\n",
       "        Not recovered    1927\n",
       "        Recovered        1581\n",
       "Y       Dependent        3605\n",
       "        Not recovered    1817\n",
       "        Dead             1801\n",
       "        Recovered        1600\n",
       "Name: OCCODE, dtype: int64"
      ]
     },
     "metadata": {},
     "execution_count": 93
    }
   ],
   "source": [
    "group_asp['OCCODE'].value_counts()"
   ]
  },
  {
   "cell_type": "code",
   "execution_count": 104,
   "metadata": {},
   "outputs": [
    {
     "output_type": "stream",
     "name": "stderr",
     "text": [
      "<ipython-input-104-b8684f48b9c8>:14: UserWarning: FixedFormatter should only be used together with FixedLocator\n  ax.set_xticklabels(xlabels)\n"
     ]
    },
    {
     "output_type": "display_data",
     "data": {
      "text/plain": "<Figure size 432x288 with 1 Axes>",
      "image/svg+xml": "<?xml version=\"1.0\" encoding=\"utf-8\" standalone=\"no\"?>\n<!DOCTYPE svg PUBLIC \"-//W3C//DTD SVG 1.1//EN\"\n  \"http://www.w3.org/Graphics/SVG/1.1/DTD/svg11.dtd\">\n<!-- Created with matplotlib (https://matplotlib.org/) -->\n<svg height=\"262.19625pt\" version=\"1.1\" viewBox=\"0 0 450.235937 262.19625\" width=\"450.235937pt\" xmlns=\"http://www.w3.org/2000/svg\" xmlns:xlink=\"http://www.w3.org/1999/xlink\">\n <metadata>\n  <rdf:RDF xmlns:cc=\"http://creativecommons.org/ns#\" xmlns:dc=\"http://purl.org/dc/elements/1.1/\" xmlns:rdf=\"http://www.w3.org/1999/02/22-rdf-syntax-ns#\">\n   <cc:Work>\n    <dc:type rdf:resource=\"http://purl.org/dc/dcmitype/StillImage\"/>\n    <dc:date>2021-04-12T18:03:02.515179</dc:date>\n    <dc:format>image/svg+xml</dc:format>\n    <dc:creator>\n     <cc:Agent>\n      <dc:title>Matplotlib v3.3.4, https://matplotlib.org/</dc:title>\n     </cc:Agent>\n    </dc:creator>\n   </cc:Work>\n  </rdf:RDF>\n </metadata>\n <defs>\n  <style type=\"text/css\">*{stroke-linecap:butt;stroke-linejoin:round;}</style>\n </defs>\n <g id=\"figure_1\">\n  <g id=\"patch_1\">\n   <path d=\"M 0 262.19625 \nL 450.235937 262.19625 \nL 450.235937 0 \nL 0 0 \nz\n\" style=\"fill:none;\"/>\n  </g>\n  <g id=\"axes_1\">\n   <g id=\"patch_2\">\n    <path d=\"M 98.692188 224.64 \nL 433.492188 224.64 \nL 433.492188 7.2 \nL 98.692188 7.2 \nz\n\" style=\"fill:#ffffff;\"/>\n   </g>\n   <g id=\"patch_3\">\n    <path clip-path=\"url(#pe1b091ebd4)\" d=\"M 98.692188 7.2 \nL 277.554978 7.2 \nL 277.554978 61.56 \nL 98.692188 61.56 \nz\n\" style=\"fill:#ff7f0e;fill-opacity:0.75;stroke:#000000;stroke-linejoin:miter;stroke-width:-5.436;\"/>\n   </g>\n   <g id=\"patch_4\">\n    <path clip-path=\"url(#pe1b091ebd4)\" d=\"M 98.692188 61.56 \nL 265.092313 61.56 \nL 265.092313 115.92 \nL 98.692188 115.92 \nz\n\" style=\"fill:#ff7f0e;fill-opacity:0.75;stroke:#000000;stroke-linejoin:miter;stroke-width:-5.436;\"/>\n   </g>\n   <g id=\"patch_5\">\n    <path clip-path=\"url(#pe1b091ebd4)\" d=\"M 98.692188 115.92 \nL 271.010457 115.92 \nL 271.010457 170.28 \nL 98.692188 170.28 \nz\n\" style=\"fill:#ff7f0e;fill-opacity:0.75;stroke:#000000;stroke-linejoin:miter;stroke-width:-5.436;\"/>\n   </g>\n   <g id=\"patch_6\">\n    <path clip-path=\"url(#pe1b091ebd4)\" d=\"M 98.692188 170.28 \nL 287.174595 170.28 \nL 287.174595 224.64 \nL 98.692188 224.64 \nz\n\" style=\"fill:#ff7f0e;fill-opacity:0.75;stroke:#000000;stroke-linejoin:miter;stroke-width:-5.436;\"/>\n   </g>\n   <g id=\"patch_7\">\n    <path clip-path=\"url(#pe1b091ebd4)\" d=\"M 277.554978 7.2 \nL 433.492188 7.2 \nL 433.492188 61.56 \nL 277.554978 61.56 \nz\n\" style=\"fill:#1f77b4;fill-opacity:0.75;stroke:#000000;stroke-linejoin:miter;stroke-width:-5.436;\"/>\n   </g>\n   <g id=\"patch_8\">\n    <path clip-path=\"url(#pe1b091ebd4)\" d=\"M 265.092313 61.56 \nL 433.492188 61.56 \nL 433.492188 115.92 \nL 265.092313 115.92 \nz\n\" style=\"fill:#1f77b4;fill-opacity:0.75;stroke:#000000;stroke-linejoin:miter;stroke-width:-5.436;\"/>\n   </g>\n   <g id=\"patch_9\">\n    <path clip-path=\"url(#pe1b091ebd4)\" d=\"M 271.010457 115.92 \nL 433.492188 115.92 \nL 433.492188 170.28 \nL 271.010457 170.28 \nz\n\" style=\"fill:#1f77b4;fill-opacity:0.75;stroke:#000000;stroke-linejoin:miter;stroke-width:-5.436;\"/>\n   </g>\n   <g id=\"patch_10\">\n    <path clip-path=\"url(#pe1b091ebd4)\" d=\"M 287.174595 170.28 \nL 433.492187 170.28 \nL 433.492187 224.64 \nL 287.174595 224.64 \nz\n\" style=\"fill:#1f77b4;fill-opacity:0.75;stroke:#000000;stroke-linejoin:miter;stroke-width:-5.436;\"/>\n   </g>\n   <g id=\"patch_11\">\n    <path clip-path=\"url(#pe1b091ebd4)\" d=\"M 265.757387 224.64 \nL 265.757387 7.2 \nL 266.426987 7.2 \nL 266.426987 224.64 \nz\n\" style=\"fill:#008000;stroke:#008000;stroke-linejoin:miter;\"/>\n   </g>\n   <g id=\"matplotlib.axis_1\">\n    <g id=\"xtick_1\">\n     <g id=\"line2d_1\">\n      <defs>\n       <path d=\"M 0 0 \nL 0 3.5 \n\" id=\"mbc7369d140\" style=\"stroke:#000000;stroke-width:0.8;\"/>\n      </defs>\n      <g>\n       <use style=\"stroke:#000000;stroke-width:0.8;\" x=\"98.692188\" xlink:href=\"#mbc7369d140\" y=\"224.64\"/>\n      </g>\n     </g>\n     <g id=\"text_1\">\n      <!-- 0 -->\n      <g transform=\"translate(95.510938 239.238437)scale(0.1 -0.1)\">\n       <defs>\n        <path d=\"M 31.78125 66.40625 \nQ 24.171875 66.40625 20.328125 58.90625 \nQ 16.5 51.421875 16.5 36.375 \nQ 16.5 21.390625 20.328125 13.890625 \nQ 24.171875 6.390625 31.78125 6.390625 \nQ 39.453125 6.390625 43.28125 13.890625 \nQ 47.125 21.390625 47.125 36.375 \nQ 47.125 51.421875 43.28125 58.90625 \nQ 39.453125 66.40625 31.78125 66.40625 \nz\nM 31.78125 74.21875 \nQ 44.046875 74.21875 50.515625 64.515625 \nQ 56.984375 54.828125 56.984375 36.375 \nQ 56.984375 17.96875 50.515625 8.265625 \nQ 44.046875 -1.421875 31.78125 -1.421875 \nQ 19.53125 -1.421875 13.0625 8.265625 \nQ 6.59375 17.96875 6.59375 36.375 \nQ 6.59375 54.828125 13.0625 64.515625 \nQ 19.53125 74.21875 31.78125 74.21875 \nz\n\" id=\"DejaVuSans-48\"/>\n       </defs>\n       <use xlink:href=\"#DejaVuSans-48\"/>\n      </g>\n     </g>\n    </g>\n    <g id=\"xtick_2\">\n     <g id=\"line2d_2\">\n      <g>\n       <use style=\"stroke:#000000;stroke-width:0.8;\" x=\"165.652188\" xlink:href=\"#mbc7369d140\" y=\"224.64\"/>\n      </g>\n     </g>\n     <g id=\"text_2\">\n      <!-- 20 -->\n      <g transform=\"translate(159.289688 239.238437)scale(0.1 -0.1)\">\n       <defs>\n        <path d=\"M 19.1875 8.296875 \nL 53.609375 8.296875 \nL 53.609375 0 \nL 7.328125 0 \nL 7.328125 8.296875 \nQ 12.9375 14.109375 22.625 23.890625 \nQ 32.328125 33.6875 34.8125 36.53125 \nQ 39.546875 41.84375 41.421875 45.53125 \nQ 43.3125 49.21875 43.3125 52.78125 \nQ 43.3125 58.59375 39.234375 62.25 \nQ 35.15625 65.921875 28.609375 65.921875 \nQ 23.96875 65.921875 18.8125 64.3125 \nQ 13.671875 62.703125 7.8125 59.421875 \nL 7.8125 69.390625 \nQ 13.765625 71.78125 18.9375 73 \nQ 24.125 74.21875 28.421875 74.21875 \nQ 39.75 74.21875 46.484375 68.546875 \nQ 53.21875 62.890625 53.21875 53.421875 \nQ 53.21875 48.921875 51.53125 44.890625 \nQ 49.859375 40.875 45.40625 35.40625 \nQ 44.1875 33.984375 37.640625 27.21875 \nQ 31.109375 20.453125 19.1875 8.296875 \nz\n\" id=\"DejaVuSans-50\"/>\n       </defs>\n       <use xlink:href=\"#DejaVuSans-50\"/>\n       <use x=\"63.623047\" xlink:href=\"#DejaVuSans-48\"/>\n      </g>\n     </g>\n    </g>\n    <g id=\"xtick_3\">\n     <g id=\"line2d_3\">\n      <g>\n       <use style=\"stroke:#000000;stroke-width:0.8;\" x=\"232.612188\" xlink:href=\"#mbc7369d140\" y=\"224.64\"/>\n      </g>\n     </g>\n     <g id=\"text_3\">\n      <!-- 40 -->\n      <g transform=\"translate(226.249687 239.238437)scale(0.1 -0.1)\">\n       <defs>\n        <path d=\"M 37.796875 64.3125 \nL 12.890625 25.390625 \nL 37.796875 25.390625 \nz\nM 35.203125 72.90625 \nL 47.609375 72.90625 \nL 47.609375 25.390625 \nL 58.015625 25.390625 \nL 58.015625 17.1875 \nL 47.609375 17.1875 \nL 47.609375 0 \nL 37.796875 0 \nL 37.796875 17.1875 \nL 4.890625 17.1875 \nL 4.890625 26.703125 \nz\n\" id=\"DejaVuSans-52\"/>\n       </defs>\n       <use xlink:href=\"#DejaVuSans-52\"/>\n       <use x=\"63.623047\" xlink:href=\"#DejaVuSans-48\"/>\n      </g>\n     </g>\n    </g>\n    <g id=\"xtick_4\">\n     <g id=\"line2d_4\">\n      <g>\n       <use style=\"stroke:#000000;stroke-width:0.8;\" x=\"299.572188\" xlink:href=\"#mbc7369d140\" y=\"224.64\"/>\n      </g>\n     </g>\n     <g id=\"text_4\">\n      <!-- 60 -->\n      <g transform=\"translate(293.209688 239.238437)scale(0.1 -0.1)\">\n       <defs>\n        <path d=\"M 33.015625 40.375 \nQ 26.375 40.375 22.484375 35.828125 \nQ 18.609375 31.296875 18.609375 23.390625 \nQ 18.609375 15.53125 22.484375 10.953125 \nQ 26.375 6.390625 33.015625 6.390625 \nQ 39.65625 6.390625 43.53125 10.953125 \nQ 47.40625 15.53125 47.40625 23.390625 \nQ 47.40625 31.296875 43.53125 35.828125 \nQ 39.65625 40.375 33.015625 40.375 \nz\nM 52.59375 71.296875 \nL 52.59375 62.3125 \nQ 48.875 64.0625 45.09375 64.984375 \nQ 41.3125 65.921875 37.59375 65.921875 \nQ 27.828125 65.921875 22.671875 59.328125 \nQ 17.53125 52.734375 16.796875 39.40625 \nQ 19.671875 43.65625 24.015625 45.921875 \nQ 28.375 48.1875 33.59375 48.1875 \nQ 44.578125 48.1875 50.953125 41.515625 \nQ 57.328125 34.859375 57.328125 23.390625 \nQ 57.328125 12.15625 50.6875 5.359375 \nQ 44.046875 -1.421875 33.015625 -1.421875 \nQ 20.359375 -1.421875 13.671875 8.265625 \nQ 6.984375 17.96875 6.984375 36.375 \nQ 6.984375 53.65625 15.1875 63.9375 \nQ 23.390625 74.21875 37.203125 74.21875 \nQ 40.921875 74.21875 44.703125 73.484375 \nQ 48.484375 72.75 52.59375 71.296875 \nz\n\" id=\"DejaVuSans-54\"/>\n       </defs>\n       <use xlink:href=\"#DejaVuSans-54\"/>\n       <use x=\"63.623047\" xlink:href=\"#DejaVuSans-48\"/>\n      </g>\n     </g>\n    </g>\n    <g id=\"xtick_5\">\n     <g id=\"line2d_5\">\n      <g>\n       <use style=\"stroke:#000000;stroke-width:0.8;\" x=\"366.532187\" xlink:href=\"#mbc7369d140\" y=\"224.64\"/>\n      </g>\n     </g>\n     <g id=\"text_5\">\n      <!-- 80 -->\n      <g transform=\"translate(360.169687 239.238437)scale(0.1 -0.1)\">\n       <defs>\n        <path d=\"M 31.78125 34.625 \nQ 24.75 34.625 20.71875 30.859375 \nQ 16.703125 27.09375 16.703125 20.515625 \nQ 16.703125 13.921875 20.71875 10.15625 \nQ 24.75 6.390625 31.78125 6.390625 \nQ 38.8125 6.390625 42.859375 10.171875 \nQ 46.921875 13.96875 46.921875 20.515625 \nQ 46.921875 27.09375 42.890625 30.859375 \nQ 38.875 34.625 31.78125 34.625 \nz\nM 21.921875 38.8125 \nQ 15.578125 40.375 12.03125 44.71875 \nQ 8.5 49.078125 8.5 55.328125 \nQ 8.5 64.0625 14.71875 69.140625 \nQ 20.953125 74.21875 31.78125 74.21875 \nQ 42.671875 74.21875 48.875 69.140625 \nQ 55.078125 64.0625 55.078125 55.328125 \nQ 55.078125 49.078125 51.53125 44.71875 \nQ 48 40.375 41.703125 38.8125 \nQ 48.828125 37.15625 52.796875 32.3125 \nQ 56.78125 27.484375 56.78125 20.515625 \nQ 56.78125 9.90625 50.3125 4.234375 \nQ 43.84375 -1.421875 31.78125 -1.421875 \nQ 19.734375 -1.421875 13.25 4.234375 \nQ 6.78125 9.90625 6.78125 20.515625 \nQ 6.78125 27.484375 10.78125 32.3125 \nQ 14.796875 37.15625 21.921875 38.8125 \nz\nM 18.3125 54.390625 \nQ 18.3125 48.734375 21.84375 45.5625 \nQ 25.390625 42.390625 31.78125 42.390625 \nQ 38.140625 42.390625 41.71875 45.5625 \nQ 45.3125 48.734375 45.3125 54.390625 \nQ 45.3125 60.0625 41.71875 63.234375 \nQ 38.140625 66.40625 31.78125 66.40625 \nQ 25.390625 66.40625 21.84375 63.234375 \nQ 18.3125 60.0625 18.3125 54.390625 \nz\n\" id=\"DejaVuSans-56\"/>\n       </defs>\n       <use xlink:href=\"#DejaVuSans-56\"/>\n       <use x=\"63.623047\" xlink:href=\"#DejaVuSans-48\"/>\n      </g>\n     </g>\n    </g>\n    <g id=\"xtick_6\">\n     <g id=\"line2d_6\">\n      <g>\n       <use style=\"stroke:#000000;stroke-width:0.8;\" x=\"433.492188\" xlink:href=\"#mbc7369d140\" y=\"224.64\"/>\n      </g>\n     </g>\n     <g id=\"text_6\">\n      <!-- 100 -->\n      <g transform=\"translate(423.948438 239.238437)scale(0.1 -0.1)\">\n       <defs>\n        <path d=\"M 12.40625 8.296875 \nL 28.515625 8.296875 \nL 28.515625 63.921875 \nL 10.984375 60.40625 \nL 10.984375 69.390625 \nL 28.421875 72.90625 \nL 38.28125 72.90625 \nL 38.28125 8.296875 \nL 54.390625 8.296875 \nL 54.390625 0 \nL 12.40625 0 \nz\n\" id=\"DejaVuSans-49\"/>\n       </defs>\n       <use xlink:href=\"#DejaVuSans-49\"/>\n       <use x=\"63.623047\" xlink:href=\"#DejaVuSans-48\"/>\n       <use x=\"127.246094\" xlink:href=\"#DejaVuSans-48\"/>\n      </g>\n     </g>\n    </g>\n    <g id=\"text_7\">\n     <!-- Percent -->\n     <g transform=\"translate(247.284375 252.916562)scale(0.1 -0.1)\">\n      <defs>\n       <path d=\"M 19.671875 64.796875 \nL 19.671875 37.40625 \nL 32.078125 37.40625 \nQ 38.96875 37.40625 42.71875 40.96875 \nQ 46.484375 44.53125 46.484375 51.125 \nQ 46.484375 57.671875 42.71875 61.234375 \nQ 38.96875 64.796875 32.078125 64.796875 \nz\nM 9.8125 72.90625 \nL 32.078125 72.90625 \nQ 44.34375 72.90625 50.609375 67.359375 \nQ 56.890625 61.8125 56.890625 51.125 \nQ 56.890625 40.328125 50.609375 34.8125 \nQ 44.34375 29.296875 32.078125 29.296875 \nL 19.671875 29.296875 \nL 19.671875 0 \nL 9.8125 0 \nz\n\" id=\"DejaVuSans-80\"/>\n       <path d=\"M 56.203125 29.59375 \nL 56.203125 25.203125 \nL 14.890625 25.203125 \nQ 15.484375 15.921875 20.484375 11.0625 \nQ 25.484375 6.203125 34.421875 6.203125 \nQ 39.59375 6.203125 44.453125 7.46875 \nQ 49.3125 8.734375 54.109375 11.28125 \nL 54.109375 2.78125 \nQ 49.265625 0.734375 44.1875 -0.34375 \nQ 39.109375 -1.421875 33.890625 -1.421875 \nQ 20.796875 -1.421875 13.15625 6.1875 \nQ 5.515625 13.8125 5.515625 26.8125 \nQ 5.515625 40.234375 12.765625 48.109375 \nQ 20.015625 56 32.328125 56 \nQ 43.359375 56 49.78125 48.890625 \nQ 56.203125 41.796875 56.203125 29.59375 \nz\nM 47.21875 32.234375 \nQ 47.125 39.59375 43.09375 43.984375 \nQ 39.0625 48.390625 32.421875 48.390625 \nQ 24.90625 48.390625 20.390625 44.140625 \nQ 15.875 39.890625 15.1875 32.171875 \nz\n\" id=\"DejaVuSans-101\"/>\n       <path d=\"M 41.109375 46.296875 \nQ 39.59375 47.171875 37.8125 47.578125 \nQ 36.03125 48 33.890625 48 \nQ 26.265625 48 22.1875 43.046875 \nQ 18.109375 38.09375 18.109375 28.8125 \nL 18.109375 0 \nL 9.078125 0 \nL 9.078125 54.6875 \nL 18.109375 54.6875 \nL 18.109375 46.1875 \nQ 20.953125 51.171875 25.484375 53.578125 \nQ 30.03125 56 36.53125 56 \nQ 37.453125 56 38.578125 55.875 \nQ 39.703125 55.765625 41.0625 55.515625 \nz\n\" id=\"DejaVuSans-114\"/>\n       <path d=\"M 48.78125 52.59375 \nL 48.78125 44.1875 \nQ 44.96875 46.296875 41.140625 47.34375 \nQ 37.3125 48.390625 33.40625 48.390625 \nQ 24.65625 48.390625 19.8125 42.84375 \nQ 14.984375 37.3125 14.984375 27.296875 \nQ 14.984375 17.28125 19.8125 11.734375 \nQ 24.65625 6.203125 33.40625 6.203125 \nQ 37.3125 6.203125 41.140625 7.25 \nQ 44.96875 8.296875 48.78125 10.40625 \nL 48.78125 2.09375 \nQ 45.015625 0.34375 40.984375 -0.53125 \nQ 36.96875 -1.421875 32.421875 -1.421875 \nQ 20.0625 -1.421875 12.78125 6.34375 \nQ 5.515625 14.109375 5.515625 27.296875 \nQ 5.515625 40.671875 12.859375 48.328125 \nQ 20.21875 56 33.015625 56 \nQ 37.15625 56 41.109375 55.140625 \nQ 45.0625 54.296875 48.78125 52.59375 \nz\n\" id=\"DejaVuSans-99\"/>\n       <path d=\"M 54.890625 33.015625 \nL 54.890625 0 \nL 45.90625 0 \nL 45.90625 32.71875 \nQ 45.90625 40.484375 42.875 44.328125 \nQ 39.84375 48.1875 33.796875 48.1875 \nQ 26.515625 48.1875 22.3125 43.546875 \nQ 18.109375 38.921875 18.109375 30.90625 \nL 18.109375 0 \nL 9.078125 0 \nL 9.078125 54.6875 \nL 18.109375 54.6875 \nL 18.109375 46.1875 \nQ 21.34375 51.125 25.703125 53.5625 \nQ 30.078125 56 35.796875 56 \nQ 45.21875 56 50.046875 50.171875 \nQ 54.890625 44.34375 54.890625 33.015625 \nz\n\" id=\"DejaVuSans-110\"/>\n       <path d=\"M 18.3125 70.21875 \nL 18.3125 54.6875 \nL 36.8125 54.6875 \nL 36.8125 47.703125 \nL 18.3125 47.703125 \nL 18.3125 18.015625 \nQ 18.3125 11.328125 20.140625 9.421875 \nQ 21.96875 7.515625 27.59375 7.515625 \nL 36.8125 7.515625 \nL 36.8125 0 \nL 27.59375 0 \nQ 17.1875 0 13.234375 3.875 \nQ 9.28125 7.765625 9.28125 18.015625 \nL 9.28125 47.703125 \nL 2.6875 47.703125 \nL 2.6875 54.6875 \nL 9.28125 54.6875 \nL 9.28125 70.21875 \nz\n\" id=\"DejaVuSans-116\"/>\n      </defs>\n      <use xlink:href=\"#DejaVuSans-80\"/>\n      <use x=\"56.677734\" xlink:href=\"#DejaVuSans-101\"/>\n      <use x=\"118.201172\" xlink:href=\"#DejaVuSans-114\"/>\n      <use x=\"157.064453\" xlink:href=\"#DejaVuSans-99\"/>\n      <use x=\"212.044922\" xlink:href=\"#DejaVuSans-101\"/>\n      <use x=\"273.568359\" xlink:href=\"#DejaVuSans-110\"/>\n      <use x=\"336.947266\" xlink:href=\"#DejaVuSans-116\"/>\n     </g>\n    </g>\n   </g>\n   <g id=\"matplotlib.axis_2\">\n    <g id=\"ytick_1\">\n     <g id=\"line2d_7\">\n      <defs>\n       <path d=\"M 0 0 \nL -3.5 0 \n\" id=\"maf912b5c87\" style=\"stroke:#000000;stroke-width:0.8;\"/>\n      </defs>\n      <g>\n       <use style=\"stroke:#000000;stroke-width:0.8;\" x=\"98.692188\" xlink:href=\"#maf912b5c87\" y=\"34.38\"/>\n      </g>\n     </g>\n     <g id=\"text_8\">\n      <!-- Dependent -->\n      <g transform=\"translate(36.240625 38.179219)scale(0.1 -0.1)\">\n       <defs>\n        <path d=\"M 19.671875 64.796875 \nL 19.671875 8.109375 \nL 31.59375 8.109375 \nQ 46.6875 8.109375 53.6875 14.9375 \nQ 60.6875 21.78125 60.6875 36.53125 \nQ 60.6875 51.171875 53.6875 57.984375 \nQ 46.6875 64.796875 31.59375 64.796875 \nz\nM 9.8125 72.90625 \nL 30.078125 72.90625 \nQ 51.265625 72.90625 61.171875 64.09375 \nQ 71.09375 55.28125 71.09375 36.53125 \nQ 71.09375 17.671875 61.125 8.828125 \nQ 51.171875 0 30.078125 0 \nL 9.8125 0 \nz\n\" id=\"DejaVuSans-68\"/>\n        <path d=\"M 18.109375 8.203125 \nL 18.109375 -20.796875 \nL 9.078125 -20.796875 \nL 9.078125 54.6875 \nL 18.109375 54.6875 \nL 18.109375 46.390625 \nQ 20.953125 51.265625 25.265625 53.625 \nQ 29.59375 56 35.59375 56 \nQ 45.5625 56 51.78125 48.09375 \nQ 58.015625 40.1875 58.015625 27.296875 \nQ 58.015625 14.40625 51.78125 6.484375 \nQ 45.5625 -1.421875 35.59375 -1.421875 \nQ 29.59375 -1.421875 25.265625 0.953125 \nQ 20.953125 3.328125 18.109375 8.203125 \nz\nM 48.6875 27.296875 \nQ 48.6875 37.203125 44.609375 42.84375 \nQ 40.53125 48.484375 33.40625 48.484375 \nQ 26.265625 48.484375 22.1875 42.84375 \nQ 18.109375 37.203125 18.109375 27.296875 \nQ 18.109375 17.390625 22.1875 11.75 \nQ 26.265625 6.109375 33.40625 6.109375 \nQ 40.53125 6.109375 44.609375 11.75 \nQ 48.6875 17.390625 48.6875 27.296875 \nz\n\" id=\"DejaVuSans-112\"/>\n        <path d=\"M 45.40625 46.390625 \nL 45.40625 75.984375 \nL 54.390625 75.984375 \nL 54.390625 0 \nL 45.40625 0 \nL 45.40625 8.203125 \nQ 42.578125 3.328125 38.25 0.953125 \nQ 33.9375 -1.421875 27.875 -1.421875 \nQ 17.96875 -1.421875 11.734375 6.484375 \nQ 5.515625 14.40625 5.515625 27.296875 \nQ 5.515625 40.1875 11.734375 48.09375 \nQ 17.96875 56 27.875 56 \nQ 33.9375 56 38.25 53.625 \nQ 42.578125 51.265625 45.40625 46.390625 \nz\nM 14.796875 27.296875 \nQ 14.796875 17.390625 18.875 11.75 \nQ 22.953125 6.109375 30.078125 6.109375 \nQ 37.203125 6.109375 41.296875 11.75 \nQ 45.40625 17.390625 45.40625 27.296875 \nQ 45.40625 37.203125 41.296875 42.84375 \nQ 37.203125 48.484375 30.078125 48.484375 \nQ 22.953125 48.484375 18.875 42.84375 \nQ 14.796875 37.203125 14.796875 27.296875 \nz\n\" id=\"DejaVuSans-100\"/>\n       </defs>\n       <use xlink:href=\"#DejaVuSans-68\"/>\n       <use x=\"77.001953\" xlink:href=\"#DejaVuSans-101\"/>\n       <use x=\"138.525391\" xlink:href=\"#DejaVuSans-112\"/>\n       <use x=\"202.001953\" xlink:href=\"#DejaVuSans-101\"/>\n       <use x=\"263.525391\" xlink:href=\"#DejaVuSans-110\"/>\n       <use x=\"326.904297\" xlink:href=\"#DejaVuSans-100\"/>\n       <use x=\"390.380859\" xlink:href=\"#DejaVuSans-101\"/>\n       <use x=\"451.904297\" xlink:href=\"#DejaVuSans-110\"/>\n       <use x=\"515.283203\" xlink:href=\"#DejaVuSans-116\"/>\n      </g>\n     </g>\n    </g>\n    <g id=\"ytick_2\">\n     <g id=\"line2d_8\">\n      <g>\n       <use style=\"stroke:#000000;stroke-width:0.8;\" x=\"98.692188\" xlink:href=\"#maf912b5c87\" y=\"88.74\"/>\n      </g>\n     </g>\n     <g id=\"text_9\">\n      <!-- Recovered -->\n      <g transform=\"translate(38.964063 92.539219)scale(0.1 -0.1)\">\n       <defs>\n        <path d=\"M 44.390625 34.1875 \nQ 47.5625 33.109375 50.5625 29.59375 \nQ 53.5625 26.078125 56.59375 19.921875 \nL 66.609375 0 \nL 56 0 \nL 46.6875 18.703125 \nQ 43.0625 26.03125 39.671875 28.421875 \nQ 36.28125 30.8125 30.421875 30.8125 \nL 19.671875 30.8125 \nL 19.671875 0 \nL 9.8125 0 \nL 9.8125 72.90625 \nL 32.078125 72.90625 \nQ 44.578125 72.90625 50.734375 67.671875 \nQ 56.890625 62.453125 56.890625 51.90625 \nQ 56.890625 45.015625 53.6875 40.46875 \nQ 50.484375 35.9375 44.390625 34.1875 \nz\nM 19.671875 64.796875 \nL 19.671875 38.921875 \nL 32.078125 38.921875 \nQ 39.203125 38.921875 42.84375 42.21875 \nQ 46.484375 45.515625 46.484375 51.90625 \nQ 46.484375 58.296875 42.84375 61.546875 \nQ 39.203125 64.796875 32.078125 64.796875 \nz\n\" id=\"DejaVuSans-82\"/>\n        <path d=\"M 30.609375 48.390625 \nQ 23.390625 48.390625 19.1875 42.75 \nQ 14.984375 37.109375 14.984375 27.296875 \nQ 14.984375 17.484375 19.15625 11.84375 \nQ 23.34375 6.203125 30.609375 6.203125 \nQ 37.796875 6.203125 41.984375 11.859375 \nQ 46.1875 17.53125 46.1875 27.296875 \nQ 46.1875 37.015625 41.984375 42.703125 \nQ 37.796875 48.390625 30.609375 48.390625 \nz\nM 30.609375 56 \nQ 42.328125 56 49.015625 48.375 \nQ 55.71875 40.765625 55.71875 27.296875 \nQ 55.71875 13.875 49.015625 6.21875 \nQ 42.328125 -1.421875 30.609375 -1.421875 \nQ 18.84375 -1.421875 12.171875 6.21875 \nQ 5.515625 13.875 5.515625 27.296875 \nQ 5.515625 40.765625 12.171875 48.375 \nQ 18.84375 56 30.609375 56 \nz\n\" id=\"DejaVuSans-111\"/>\n        <path d=\"M 2.984375 54.6875 \nL 12.5 54.6875 \nL 29.59375 8.796875 \nL 46.6875 54.6875 \nL 56.203125 54.6875 \nL 35.6875 0 \nL 23.484375 0 \nz\n\" id=\"DejaVuSans-118\"/>\n       </defs>\n       <use xlink:href=\"#DejaVuSans-82\"/>\n       <use x=\"64.982422\" xlink:href=\"#DejaVuSans-101\"/>\n       <use x=\"126.505859\" xlink:href=\"#DejaVuSans-99\"/>\n       <use x=\"181.486328\" xlink:href=\"#DejaVuSans-111\"/>\n       <use x=\"242.667969\" xlink:href=\"#DejaVuSans-118\"/>\n       <use x=\"301.847656\" xlink:href=\"#DejaVuSans-101\"/>\n       <use x=\"363.371094\" xlink:href=\"#DejaVuSans-114\"/>\n       <use x=\"402.234375\" xlink:href=\"#DejaVuSans-101\"/>\n       <use x=\"463.757812\" xlink:href=\"#DejaVuSans-100\"/>\n      </g>\n     </g>\n    </g>\n    <g id=\"ytick_3\">\n     <g id=\"line2d_9\">\n      <g>\n       <use style=\"stroke:#000000;stroke-width:0.8;\" x=\"98.692188\" xlink:href=\"#maf912b5c87\" y=\"143.1\"/>\n      </g>\n     </g>\n     <g id=\"text_10\">\n      <!-- Not recovered -->\n      <g transform=\"translate(20.878125 146.899219)scale(0.1 -0.1)\">\n       <defs>\n        <path d=\"M 9.8125 72.90625 \nL 23.09375 72.90625 \nL 55.421875 11.921875 \nL 55.421875 72.90625 \nL 64.984375 72.90625 \nL 64.984375 0 \nL 51.703125 0 \nL 19.390625 60.984375 \nL 19.390625 0 \nL 9.8125 0 \nz\n\" id=\"DejaVuSans-78\"/>\n        <path id=\"DejaVuSans-32\"/>\n       </defs>\n       <use xlink:href=\"#DejaVuSans-78\"/>\n       <use x=\"74.804688\" xlink:href=\"#DejaVuSans-111\"/>\n       <use x=\"135.986328\" xlink:href=\"#DejaVuSans-116\"/>\n       <use x=\"175.195312\" xlink:href=\"#DejaVuSans-32\"/>\n       <use x=\"206.982422\" xlink:href=\"#DejaVuSans-114\"/>\n       <use x=\"245.845703\" xlink:href=\"#DejaVuSans-101\"/>\n       <use x=\"307.369141\" xlink:href=\"#DejaVuSans-99\"/>\n       <use x=\"362.349609\" xlink:href=\"#DejaVuSans-111\"/>\n       <use x=\"423.53125\" xlink:href=\"#DejaVuSans-118\"/>\n       <use x=\"482.710938\" xlink:href=\"#DejaVuSans-101\"/>\n       <use x=\"544.234375\" xlink:href=\"#DejaVuSans-114\"/>\n       <use x=\"583.097656\" xlink:href=\"#DejaVuSans-101\"/>\n       <use x=\"644.621094\" xlink:href=\"#DejaVuSans-100\"/>\n      </g>\n     </g>\n    </g>\n    <g id=\"ytick_4\">\n     <g id=\"line2d_10\">\n      <g>\n       <use style=\"stroke:#000000;stroke-width:0.8;\" x=\"98.692188\" xlink:href=\"#maf912b5c87\" y=\"197.46\"/>\n      </g>\n     </g>\n     <g id=\"text_11\">\n      <!-- Dead -->\n      <g transform=\"translate(65.3625 201.259219)scale(0.1 -0.1)\">\n       <defs>\n        <path d=\"M 34.28125 27.484375 \nQ 23.390625 27.484375 19.1875 25 \nQ 14.984375 22.515625 14.984375 16.5 \nQ 14.984375 11.71875 18.140625 8.90625 \nQ 21.296875 6.109375 26.703125 6.109375 \nQ 34.1875 6.109375 38.703125 11.40625 \nQ 43.21875 16.703125 43.21875 25.484375 \nL 43.21875 27.484375 \nz\nM 52.203125 31.203125 \nL 52.203125 0 \nL 43.21875 0 \nL 43.21875 8.296875 \nQ 40.140625 3.328125 35.546875 0.953125 \nQ 30.953125 -1.421875 24.3125 -1.421875 \nQ 15.921875 -1.421875 10.953125 3.296875 \nQ 6 8.015625 6 15.921875 \nQ 6 25.140625 12.171875 29.828125 \nQ 18.359375 34.515625 30.609375 34.515625 \nL 43.21875 34.515625 \nL 43.21875 35.40625 \nQ 43.21875 41.609375 39.140625 45 \nQ 35.0625 48.390625 27.6875 48.390625 \nQ 23 48.390625 18.546875 47.265625 \nQ 14.109375 46.140625 10.015625 43.890625 \nL 10.015625 52.203125 \nQ 14.9375 54.109375 19.578125 55.046875 \nQ 24.21875 56 28.609375 56 \nQ 40.484375 56 46.34375 49.84375 \nQ 52.203125 43.703125 52.203125 31.203125 \nz\n\" id=\"DejaVuSans-97\"/>\n       </defs>\n       <use xlink:href=\"#DejaVuSans-68\"/>\n       <use x=\"77.001953\" xlink:href=\"#DejaVuSans-101\"/>\n       <use x=\"138.525391\" xlink:href=\"#DejaVuSans-97\"/>\n       <use x=\"199.804688\" xlink:href=\"#DejaVuSans-100\"/>\n      </g>\n     </g>\n    </g>\n    <g id=\"text_12\">\n     <!-- Outcome after 6 months -->\n     <g transform=\"translate(14.798438 177.349687)rotate(-90)scale(0.1 -0.1)\">\n      <defs>\n       <path d=\"M 39.40625 66.21875 \nQ 28.65625 66.21875 22.328125 58.203125 \nQ 16.015625 50.203125 16.015625 36.375 \nQ 16.015625 22.609375 22.328125 14.59375 \nQ 28.65625 6.59375 39.40625 6.59375 \nQ 50.140625 6.59375 56.421875 14.59375 \nQ 62.703125 22.609375 62.703125 36.375 \nQ 62.703125 50.203125 56.421875 58.203125 \nQ 50.140625 66.21875 39.40625 66.21875 \nz\nM 39.40625 74.21875 \nQ 54.734375 74.21875 63.90625 63.9375 \nQ 73.09375 53.65625 73.09375 36.375 \nQ 73.09375 19.140625 63.90625 8.859375 \nQ 54.734375 -1.421875 39.40625 -1.421875 \nQ 24.03125 -1.421875 14.8125 8.828125 \nQ 5.609375 19.09375 5.609375 36.375 \nQ 5.609375 53.65625 14.8125 63.9375 \nQ 24.03125 74.21875 39.40625 74.21875 \nz\n\" id=\"DejaVuSans-79\"/>\n       <path d=\"M 8.5 21.578125 \nL 8.5 54.6875 \nL 17.484375 54.6875 \nL 17.484375 21.921875 \nQ 17.484375 14.15625 20.5 10.265625 \nQ 23.53125 6.390625 29.59375 6.390625 \nQ 36.859375 6.390625 41.078125 11.03125 \nQ 45.3125 15.671875 45.3125 23.6875 \nL 45.3125 54.6875 \nL 54.296875 54.6875 \nL 54.296875 0 \nL 45.3125 0 \nL 45.3125 8.40625 \nQ 42.046875 3.421875 37.71875 1 \nQ 33.40625 -1.421875 27.6875 -1.421875 \nQ 18.265625 -1.421875 13.375 4.4375 \nQ 8.5 10.296875 8.5 21.578125 \nz\nM 31.109375 56 \nz\n\" id=\"DejaVuSans-117\"/>\n       <path d=\"M 52 44.1875 \nQ 55.375 50.25 60.0625 53.125 \nQ 64.75 56 71.09375 56 \nQ 79.640625 56 84.28125 50.015625 \nQ 88.921875 44.046875 88.921875 33.015625 \nL 88.921875 0 \nL 79.890625 0 \nL 79.890625 32.71875 \nQ 79.890625 40.578125 77.09375 44.375 \nQ 74.3125 48.1875 68.609375 48.1875 \nQ 61.625 48.1875 57.5625 43.546875 \nQ 53.515625 38.921875 53.515625 30.90625 \nL 53.515625 0 \nL 44.484375 0 \nL 44.484375 32.71875 \nQ 44.484375 40.625 41.703125 44.40625 \nQ 38.921875 48.1875 33.109375 48.1875 \nQ 26.21875 48.1875 22.15625 43.53125 \nQ 18.109375 38.875 18.109375 30.90625 \nL 18.109375 0 \nL 9.078125 0 \nL 9.078125 54.6875 \nL 18.109375 54.6875 \nL 18.109375 46.1875 \nQ 21.1875 51.21875 25.484375 53.609375 \nQ 29.78125 56 35.6875 56 \nQ 41.65625 56 45.828125 52.96875 \nQ 50 49.953125 52 44.1875 \nz\n\" id=\"DejaVuSans-109\"/>\n       <path d=\"M 37.109375 75.984375 \nL 37.109375 68.5 \nL 28.515625 68.5 \nQ 23.6875 68.5 21.796875 66.546875 \nQ 19.921875 64.59375 19.921875 59.515625 \nL 19.921875 54.6875 \nL 34.71875 54.6875 \nL 34.71875 47.703125 \nL 19.921875 47.703125 \nL 19.921875 0 \nL 10.890625 0 \nL 10.890625 47.703125 \nL 2.296875 47.703125 \nL 2.296875 54.6875 \nL 10.890625 54.6875 \nL 10.890625 58.5 \nQ 10.890625 67.625 15.140625 71.796875 \nQ 19.390625 75.984375 28.609375 75.984375 \nz\n\" id=\"DejaVuSans-102\"/>\n       <path d=\"M 54.890625 33.015625 \nL 54.890625 0 \nL 45.90625 0 \nL 45.90625 32.71875 \nQ 45.90625 40.484375 42.875 44.328125 \nQ 39.84375 48.1875 33.796875 48.1875 \nQ 26.515625 48.1875 22.3125 43.546875 \nQ 18.109375 38.921875 18.109375 30.90625 \nL 18.109375 0 \nL 9.078125 0 \nL 9.078125 75.984375 \nL 18.109375 75.984375 \nL 18.109375 46.1875 \nQ 21.34375 51.125 25.703125 53.5625 \nQ 30.078125 56 35.796875 56 \nQ 45.21875 56 50.046875 50.171875 \nQ 54.890625 44.34375 54.890625 33.015625 \nz\n\" id=\"DejaVuSans-104\"/>\n       <path d=\"M 44.28125 53.078125 \nL 44.28125 44.578125 \nQ 40.484375 46.53125 36.375 47.5 \nQ 32.28125 48.484375 27.875 48.484375 \nQ 21.1875 48.484375 17.84375 46.4375 \nQ 14.5 44.390625 14.5 40.28125 \nQ 14.5 37.15625 16.890625 35.375 \nQ 19.28125 33.59375 26.515625 31.984375 \nL 29.59375 31.296875 \nQ 39.15625 29.25 43.1875 25.515625 \nQ 47.21875 21.78125 47.21875 15.09375 \nQ 47.21875 7.46875 41.1875 3.015625 \nQ 35.15625 -1.421875 24.609375 -1.421875 \nQ 20.21875 -1.421875 15.453125 -0.5625 \nQ 10.6875 0.296875 5.421875 2 \nL 5.421875 11.28125 \nQ 10.40625 8.6875 15.234375 7.390625 \nQ 20.0625 6.109375 24.8125 6.109375 \nQ 31.15625 6.109375 34.5625 8.28125 \nQ 37.984375 10.453125 37.984375 14.40625 \nQ 37.984375 18.0625 35.515625 20.015625 \nQ 33.0625 21.96875 24.703125 23.78125 \nL 21.578125 24.515625 \nQ 13.234375 26.265625 9.515625 29.90625 \nQ 5.8125 33.546875 5.8125 39.890625 \nQ 5.8125 47.609375 11.28125 51.796875 \nQ 16.75 56 26.8125 56 \nQ 31.78125 56 36.171875 55.265625 \nQ 40.578125 54.546875 44.28125 53.078125 \nz\n\" id=\"DejaVuSans-115\"/>\n      </defs>\n      <use xlink:href=\"#DejaVuSans-79\"/>\n      <use x=\"78.710938\" xlink:href=\"#DejaVuSans-117\"/>\n      <use x=\"142.089844\" xlink:href=\"#DejaVuSans-116\"/>\n      <use x=\"181.298828\" xlink:href=\"#DejaVuSans-99\"/>\n      <use x=\"236.279297\" xlink:href=\"#DejaVuSans-111\"/>\n      <use x=\"297.460938\" xlink:href=\"#DejaVuSans-109\"/>\n      <use x=\"394.873047\" xlink:href=\"#DejaVuSans-101\"/>\n      <use x=\"456.396484\" xlink:href=\"#DejaVuSans-32\"/>\n      <use x=\"488.183594\" xlink:href=\"#DejaVuSans-97\"/>\n      <use x=\"549.462891\" xlink:href=\"#DejaVuSans-102\"/>\n      <use x=\"582.917969\" xlink:href=\"#DejaVuSans-116\"/>\n      <use x=\"622.126953\" xlink:href=\"#DejaVuSans-101\"/>\n      <use x=\"683.650391\" xlink:href=\"#DejaVuSans-114\"/>\n      <use x=\"724.763672\" xlink:href=\"#DejaVuSans-32\"/>\n      <use x=\"756.550781\" xlink:href=\"#DejaVuSans-54\"/>\n      <use x=\"820.173828\" xlink:href=\"#DejaVuSans-32\"/>\n      <use x=\"851.960938\" xlink:href=\"#DejaVuSans-109\"/>\n      <use x=\"949.373047\" xlink:href=\"#DejaVuSans-111\"/>\n      <use x=\"1010.554688\" xlink:href=\"#DejaVuSans-110\"/>\n      <use x=\"1073.933594\" xlink:href=\"#DejaVuSans-116\"/>\n      <use x=\"1113.142578\" xlink:href=\"#DejaVuSans-104\"/>\n      <use x=\"1176.521484\" xlink:href=\"#DejaVuSans-115\"/>\n     </g>\n    </g>\n   </g>\n   <g id=\"patch_12\">\n    <path d=\"M 98.692188 224.64 \nL 98.692188 7.2 \n\" style=\"fill:none;stroke:#000000;stroke-linecap:square;stroke-linejoin:miter;stroke-width:0.8;\"/>\n   </g>\n   <g id=\"patch_13\">\n    <path d=\"M 433.492188 224.64 \nL 433.492188 7.2 \n\" style=\"fill:none;stroke:#000000;stroke-linecap:square;stroke-linejoin:miter;stroke-width:0.8;\"/>\n   </g>\n   <g id=\"patch_14\">\n    <path d=\"M 98.692188 224.64 \nL 433.492188 224.64 \n\" style=\"fill:none;stroke:#000000;stroke-linecap:square;stroke-linejoin:miter;stroke-width:0.8;\"/>\n   </g>\n   <g id=\"patch_15\">\n    <path d=\"M 98.692188 7.2 \nL 433.492188 7.2 \n\" style=\"fill:none;stroke:#000000;stroke-linecap:square;stroke-linejoin:miter;stroke-width:0.8;\"/>\n   </g>\n   <g id=\"legend_1\">\n    <g id=\"patch_16\">\n     <path d=\"M 383.023438 59.234375 \nL 426.492188 59.234375 \nQ 428.492188 59.234375 428.492188 57.234375 \nL 428.492188 14.2 \nQ 428.492188 12.2 426.492188 12.2 \nL 383.023438 12.2 \nQ 381.023438 12.2 381.023438 14.2 \nL 381.023438 57.234375 \nQ 381.023438 59.234375 383.023438 59.234375 \nz\n\" style=\"fill:#ffffff;opacity:0.8;stroke:#cccccc;stroke-linejoin:miter;\"/>\n    </g>\n    <g id=\"text_13\">\n     <!-- DASP14 -->\n     <g transform=\"translate(385.023438 23.798437)scale(0.1 -0.1)\">\n      <defs>\n       <path d=\"M 34.1875 63.1875 \nL 20.796875 26.90625 \nL 47.609375 26.90625 \nz\nM 28.609375 72.90625 \nL 39.796875 72.90625 \nL 67.578125 0 \nL 57.328125 0 \nL 50.6875 18.703125 \nL 17.828125 18.703125 \nL 11.1875 0 \nL 0.78125 0 \nz\n\" id=\"DejaVuSans-65\"/>\n       <path d=\"M 53.515625 70.515625 \nL 53.515625 60.890625 \nQ 47.90625 63.578125 42.921875 64.890625 \nQ 37.9375 66.21875 33.296875 66.21875 \nQ 25.25 66.21875 20.875 63.09375 \nQ 16.5 59.96875 16.5 54.203125 \nQ 16.5 49.359375 19.40625 46.890625 \nQ 22.3125 44.4375 30.421875 42.921875 \nL 36.375 41.703125 \nQ 47.40625 39.59375 52.65625 34.296875 \nQ 57.90625 29 57.90625 20.125 \nQ 57.90625 9.515625 50.796875 4.046875 \nQ 43.703125 -1.421875 29.984375 -1.421875 \nQ 24.8125 -1.421875 18.96875 -0.25 \nQ 13.140625 0.921875 6.890625 3.21875 \nL 6.890625 13.375 \nQ 12.890625 10.015625 18.65625 8.296875 \nQ 24.421875 6.59375 29.984375 6.59375 \nQ 38.421875 6.59375 43.015625 9.90625 \nQ 47.609375 13.234375 47.609375 19.390625 \nQ 47.609375 24.75 44.3125 27.78125 \nQ 41.015625 30.8125 33.5 32.328125 \nL 27.484375 33.5 \nQ 16.453125 35.6875 11.515625 40.375 \nQ 6.59375 45.0625 6.59375 53.421875 \nQ 6.59375 63.09375 13.40625 68.65625 \nQ 20.21875 74.21875 32.171875 74.21875 \nQ 37.3125 74.21875 42.625 73.28125 \nQ 47.953125 72.359375 53.515625 70.515625 \nz\n\" id=\"DejaVuSans-83\"/>\n      </defs>\n      <use xlink:href=\"#DejaVuSans-68\"/>\n      <use x=\"75.251953\" xlink:href=\"#DejaVuSans-65\"/>\n      <use x=\"143.660156\" xlink:href=\"#DejaVuSans-83\"/>\n      <use x=\"207.136719\" xlink:href=\"#DejaVuSans-80\"/>\n      <use x=\"267.439453\" xlink:href=\"#DejaVuSans-49\"/>\n      <use x=\"331.0625\" xlink:href=\"#DejaVuSans-52\"/>\n     </g>\n    </g>\n    <g id=\"patch_17\">\n     <path d=\"M 387.017187 38.476562 \nL 407.017187 38.476562 \nL 407.017187 31.476562 \nL 387.017187 31.476562 \nz\n\" style=\"fill:#1f77b4;fill-opacity:0.75;stroke:#000000;stroke-linejoin:miter;\"/>\n    </g>\n    <g id=\"text_14\">\n     <!-- Y -->\n     <g transform=\"translate(415.017187 38.476562)scale(0.1 -0.1)\">\n      <defs>\n       <path d=\"M -0.203125 72.90625 \nL 10.40625 72.90625 \nL 30.609375 42.921875 \nL 50.6875 72.90625 \nL 61.28125 72.90625 \nL 35.5 34.71875 \nL 35.5 0 \nL 25.59375 0 \nL 25.59375 34.71875 \nz\n\" id=\"DejaVuSans-89\"/>\n      </defs>\n      <use xlink:href=\"#DejaVuSans-89\"/>\n     </g>\n    </g>\n    <g id=\"patch_18\">\n     <path d=\"M 387.017187 53.154687 \nL 407.017187 53.154687 \nL 407.017187 46.154687 \nL 387.017187 46.154687 \nz\n\" style=\"fill:#ff7f0e;fill-opacity:0.75;stroke:#000000;stroke-linejoin:miter;\"/>\n    </g>\n    <g id=\"text_15\">\n     <!-- N -->\n     <g transform=\"translate(415.017187 53.154687)scale(0.1 -0.1)\">\n      <use xlink:href=\"#DejaVuSans-78\"/>\n     </g>\n    </g>\n   </g>\n  </g>\n </g>\n <defs>\n  <clipPath id=\"pe1b091ebd4\">\n   <rect height=\"217.44\" width=\"334.8\" x=\"98.692188\" y=\"7.2\"/>\n  </clipPath>\n </defs>\n</svg>\n",
      "image/png": "[encoded data removed]"
     },
     "metadata": {
      "needs_background": "light"
     }
    }
   ],
   "source": [
    "ax = sns.histplot(y = df.OCCODE,\n",
    "                 hue= df.DASP14,\n",
    "                 stat = 'probability',\n",
    "                 multiple=\"fill\",\n",
    "                 #order = ['Control', 'Aspirin', 'Low Heparin', 'Medium Heparin', 'Aspirin + Low Heparin', 'Aspirin + Medium Heparin']\n",
    "                 #palette = COLOR_STYPE\n",
    "                 )\n",
    "ax.set(xlabel=\"Percent\")\n",
    "ax.set(ylabel=\"Outcome after 6 months\")\n",
    "\n",
    "plt.axvspan(0.499, 0.501, color = 'green')\n",
    "\n",
    "xlabels = ['{:,.0f}'.format(x) for x in ax.get_xticks()*100]\n",
    "ax.set_xticklabels(xlabels)\n",
    "\n",
    "#plt.legend(bbox_to_anchor=(1.05, 1), loc='upper left', \n",
    "#           labels = ['Indeterminate stroke', 'Haemorrhagic stroke', 'Ischaemic stroke'], labelspacing=1.2)\n",
    "\n",
    "#plt.savefig(\"images/treat_perc_diagstr.png\", bbox_inches=\"tight\")\n",
    "plt.show()"
   ]
  },
  {
   "source": [
    "#### aspirin vs non-aspirin subdivided in prior aspirin"
   ],
   "cell_type": "markdown",
   "metadata": {}
  },
  {
   "cell_type": "code",
   "execution_count": 10,
   "metadata": {},
   "outputs": [],
   "source": [
    "group_asp_asp = df.groupby(by = ['DASP14','RASP3'])"
   ]
  },
  {
   "cell_type": "code",
   "execution_count": 11,
   "metadata": {},
   "outputs": [
    {
     "output_type": "execute_result",
     "data": {
      "text/plain": [
       "dict_keys([('N', 'N'), ('N', 'Y'), ('N', nan), ('Y', 'N'), ('Y', 'Y'), ('Y', nan), (nan, 'N')])"
      ]
     },
     "metadata": {},
     "execution_count": 11
    }
   ],
   "source": [
    "group_asp_asp.groups.keys()"
   ]
  },
  {
   "cell_type": "code",
   "execution_count": 12,
   "metadata": {},
   "outputs": [
    {
     "output_type": "stream",
     "name": "stdout",
     "text": [
      "Kruskal Wallis\nstat = 3.565, p = 0.312\nProbably the same distribution\n"
     ]
    }
   ],
   "source": [
    "group_asp_yy = []\n",
    "group_asp_yn = []\n",
    "group_asp_nn = []\n",
    "group_asp_ny = []\n",
    "\n",
    "asp_yy = group_asp_asp.get_group(('Y', 'Y'))    # Aspirin prior to stroke and aspirin during study\n",
    "group_asp_yy.append(asp_yy['RDISCH14'])\n",
    "\n",
    "asp_yn = group_asp_asp.get_group(('Y', 'N'))    # Aspirin prior to stroke and no aspirin during study\n",
    "group_asp_yn.append(asp_yn['RDISCH14'])\n",
    "\n",
    "asp_ny = group_asp_asp.get_group(('N', 'Y'))    # No Aspirin prior to stroke and aspirin during study\n",
    "group_asp_ny.append(asp_ny['RDISCH14'])\n",
    "\n",
    "asp_nn = group_asp_asp.get_group(('N', 'N'))    # No Aspirin prior to stroke and no aspirin during study\n",
    "group_asp_nn.append(asp_nn['RDISCH14'])\n",
    "\n",
    "stat, p = kruskal(group_asp_yy[0], group_asp_yn[0],group_asp_ny[0], group_asp_nn[0])\n",
    "print('Kruskal Wallis')\n",
    "print_stats(stat, p)"
   ]
  },
  {
   "cell_type": "code",
   "execution_count": null,
   "metadata": {},
   "outputs": [],
   "source": [
    "# different approach - this way i get mann-whitney-test-loop running (if needed - not in this case)"
   ]
  },
  {
   "cell_type": "code",
   "execution_count": 95,
   "metadata": {},
   "outputs": [],
   "source": [
    "group_asp_y = df[df['DASP14']=='Y'] # patients were given aspirin for at least 14 days\n",
    "group_asp_n = df[df['DASP14']=='N'] # patients did not receive aspirin"
   ]
  },
  {
   "cell_type": "code",
   "execution_count": 17,
   "metadata": {},
   "outputs": [],
   "source": [
    "group_asp_yy = group_asp_y[group_asp_y['RASP3']=='Y'] # patients received aspirin and self-medicated with aspirin prior to their stroke\n",
    "group_asp_yn = group_asp_y[group_asp_y['RASP3']=='N'] # patients received aspirin and did not take aspirin prior to their stroke\n",
    "group_asp_nn = group_asp_n[group_asp_n['RASP3']=='N'] # patients did not receive aspirin and selfmedicated with aspirin prior to their stroke\n",
    "group_asp_ny = group_asp_n[group_asp_n['RASP3']=='Y'] # patients did not receive aspirin and did not take aspirin prior to their stroke"
   ]
  },
  {
   "cell_type": "code",
   "execution_count": 18,
   "metadata": {},
   "outputs": [],
   "source": [
    "data1 = group_asp_yy['RDISCH14'].tolist()\n",
    "data2 = group_asp_yn['RDISCH14'].tolist()\n",
    "data3 = group_asp_nn['RDISCH14'].tolist()\n",
    "data4 = group_asp_ny['RDISCH14'].tolist()\n",
    "stat, p = kruskal(data1, data2, data3, data4)"
   ]
  },
  {
   "cell_type": "code",
   "execution_count": 19,
   "metadata": {},
   "outputs": [
    {
     "output_type": "stream",
     "name": "stdout",
     "text": [
      "stat = 3.565, p = 0.312\nProbably the same distribution\n"
     ]
    }
   ],
   "source": [
    "print_stats(stat, p)"
   ]
  },
  {
   "source": [
    "After 14 days: No difference between patients that were given Aspirin and additionally took Aspirin prior to their stroke, compared to patients the other groups."
   ],
   "cell_type": "markdown",
   "metadata": {}
  },
  {
   "cell_type": "code",
   "execution_count": null,
   "metadata": {},
   "outputs": [],
   "source": [
    "data0 = group_asp_yy['OCCODE'].tolist()\n",
    "data1 = group_asp_yn['OCCODE'].tolist()\n",
    "data2 = group_asp_nn['OCCODE'].tolist()\n",
    "data3 = group_asp_ny['OCCODE'].tolist()\n",
    "stat, p = kruskal(data0, data1, data2, data3)"
   ]
  },
  {
   "cell_type": "code",
   "execution_count": 89,
   "metadata": {},
   "outputs": [
    {
     "output_type": "stream",
     "name": "stdout",
     "text": [
      "stat = 1998000.500, p = 0.500\nProbably the same distribution\n"
     ]
    }
   ],
   "source": [
    "print_stats(stat, p)"
   ]
  },
  {
   "source": [
    "After 6 months: no difference between patients that were given Aspirin and additionally took Aspirin prior to their stroke, compared to patients the other groups."
   ],
   "cell_type": "markdown",
   "metadata": {}
  },
  {
   "source": [
    "#### aspirin vs non-aspirin subdivided in hours between onset and randomisation (3, 6, 12, 24, 48)"
   ],
   "cell_type": "markdown",
   "metadata": {}
  },
  {
   "cell_type": "code",
   "execution_count": 20,
   "metadata": {},
   "outputs": [
    {
     "output_type": "execute_result",
     "data": {
      "text/plain": [
       "dict_keys([('N', '0 - 3'), ('N', '13 - 24'), ('N', '25 - 48'), ('N', '4 - 6'), ('N', '7 - 12'), ('Y', '0 - 3'), ('Y', '13 - 24'), ('Y', '25 - 48'), ('Y', '4 - 6'), ('Y', '7 - 12'), (nan, '13 - 24'), (nan, '25 - 48'), (nan, '7 - 12')])"
      ]
     },
     "metadata": {},
     "execution_count": 20
    }
   ],
   "source": [
    "group_asp_delay = df.groupby(by = ['DASP14','RDELAY_bin'])\n",
    "group_asp_delay.groups.keys()"
   ]
  },
  {
   "cell_type": "code",
   "execution_count": 21,
   "metadata": {},
   "outputs": [],
   "source": [
    "group_asp_y3 = []\n",
    "group_asp_y6 = []\n",
    "group_asp_y12 = []\n",
    "group_asp_y24 = []\n",
    "group_asp_y48 = []\n",
    "\n",
    "group_asp_n3 = []\n",
    "group_asp_n6 = []\n",
    "group_asp_n12 = []\n",
    "group_asp_n24 = []\n",
    "group_asp_n48 = []"
   ]
  },
  {
   "cell_type": "code",
   "execution_count": 105,
   "metadata": {},
   "outputs": [
    {
     "output_type": "execute_result",
     "data": {
      "text/plain": [
       "          HOSPNUM  RDELAY RCONSC  SEX   AGE RSLEEP RATRIAL  RCT RVISINF  \\\n",
       "5             1.0    39.0      F    M  54.0      N     NaN    Y       N   \n",
       "17            1.0    29.0      F    M  63.0      N     NaN    Y       Y   \n",
       "25            4.0    35.0      F    M  47.0      Y     NaN    N       N   \n",
       "47            1.0    26.0      D    M  64.0      N     NaN    Y       Y   \n",
       "48            3.0    47.0      F    F  79.0      N     NaN    Y       Y   \n",
       "...           ...     ...    ...  ...   ...    ...     ...  ...     ...   \n",
       "19423       113.0    33.0      F    F  76.0      Y       N    N       N   \n",
       "19430       255.0    42.0      F    M  66.0      N       N    Y       Y   \n",
       "19431       255.0    47.0      F    M  75.0      N       N    Y       Y   \n",
       "19433       255.0    40.0      D    F  87.0      N       N    Y       Y   \n",
       "RDISCH14      NaN     NaN    NaN  NaN   NaN    NaN     NaN  NaN     NaN   \n",
       "\n",
       "         RHEP24  ...                           19396                   19401  \\\n",
       "5           NaN  ...                             NaN                     NaN   \n",
       "17          NaN  ...                             NaN                     NaN   \n",
       "25          NaN  ...                             NaN                     NaN   \n",
       "47          NaN  ...                             NaN                     NaN   \n",
       "48          NaN  ...                             NaN                     NaN   \n",
       "...         ...  ...                             ...                     ...   \n",
       "19423         N  ...                             NaN                     NaN   \n",
       "19430         N  ...                             NaN                     NaN   \n",
       "19431         N  ...                             NaN                     NaN   \n",
       "19433         N  ...                             NaN                     NaN   \n",
       "RDISCH14    NaN  ...  Discharged alive from hospital  Dead on discharge form   \n",
       "\n",
       "                   19405           19408                   19409  \\\n",
       "5                    NaN             NaN                     NaN   \n",
       "17                   NaN             NaN                     NaN   \n",
       "25                   NaN             NaN                     NaN   \n",
       "47                   NaN             NaN                     NaN   \n",
       "48                   NaN             NaN                     NaN   \n",
       "...                  ...             ...                     ...   \n",
       "19423                NaN             NaN                     NaN   \n",
       "19430                NaN             NaN                     NaN   \n",
       "19431                NaN             NaN                     NaN   \n",
       "19433                NaN             NaN                     NaN   \n",
       "RDISCH14  Not discharged  Not discharged  Dead on discharge form   \n",
       "\n",
       "                                   19417                           19423  \\\n",
       "5                                    NaN                             NaN   \n",
       "17                                   NaN                             NaN   \n",
       "25                                   NaN                             NaN   \n",
       "47                                   NaN                             NaN   \n",
       "48                                   NaN                             NaN   \n",
       "...                                  ...                             ...   \n",
       "19423                                NaN                             NaN   \n",
       "19430                                NaN                             NaN   \n",
       "19431                                NaN                             NaN   \n",
       "19433                                NaN                             NaN   \n",
       "RDISCH14  Discharged alive from hospital  Discharged alive from hospital   \n",
       "\n",
       "                   19430           19431                   19433  \n",
       "5                    NaN             NaN                     NaN  \n",
       "17                   NaN             NaN                     NaN  \n",
       "25                   NaN             NaN                     NaN  \n",
       "47                   NaN             NaN                     NaN  \n",
       "48                   NaN             NaN                     NaN  \n",
       "...                  ...             ...                     ...  \n",
       "19423                NaN             NaN                     NaN  \n",
       "19430                NaN             NaN                     NaN  \n",
       "19431                NaN             NaN                     NaN  \n",
       "19433                NaN             NaN                     NaN  \n",
       "RDISCH14  Not discharged  Not discharged  Dead on discharge form  \n",
       "\n",
       "[3363 rows x 3477 columns]"
      ],
      "text/html": "<div>\n<style scoped>\n    .dataframe tbody tr th:only-of-type {\n        vertical-align: middle;\n    }\n\n    .dataframe tbody tr th {\n        vertical-align: top;\n    }\n\n    .dataframe thead th {\n        text-align: right;\n    }\n</style>\n<table border=\"1\" class=\"dataframe\">\n  <thead>\n    <tr style=\"text-align: right;\">\n      <th></th>\n      <th>HOSPNUM</th>\n      <th>RDELAY</th>\n      <th>RCONSC</th>\n      <th>SEX</th>\n      <th>AGE</th>\n      <th>RSLEEP</th>\n      <th>RATRIAL</th>\n      <th>RCT</th>\n      <th>RVISINF</th>\n      <th>RHEP24</th>\n      <th>...</th>\n      <th>19396</th>\n      <th>19401</th>\n      <th>19405</th>\n      <th>19408</th>\n      <th>19409</th>\n      <th>19417</th>\n      <th>19423</th>\n      <th>19430</th>\n      <th>19431</th>\n      <th>19433</th>\n    </tr>\n  </thead>\n  <tbody>\n    <tr>\n      <th>5</th>\n      <td>1.0</td>\n      <td>39.0</td>\n      <td>F</td>\n      <td>M</td>\n      <td>54.0</td>\n      <td>N</td>\n      <td>NaN</td>\n      <td>Y</td>\n      <td>N</td>\n      <td>NaN</td>\n      <td>...</td>\n      <td>NaN</td>\n      <td>NaN</td>\n      <td>NaN</td>\n      <td>NaN</td>\n      <td>NaN</td>\n      <td>NaN</td>\n      <td>NaN</td>\n      <td>NaN</td>\n      <td>NaN</td>\n      <td>NaN</td>\n    </tr>\n    <tr>\n      <th>17</th>\n      <td>1.0</td>\n      <td>29.0</td>\n      <td>F</td>\n      <td>M</td>\n      <td>63.0</td>\n      <td>N</td>\n      <td>NaN</td>\n      <td>Y</td>\n      <td>Y</td>\n      <td>NaN</td>\n      <td>...</td>\n      <td>NaN</td>\n      <td>NaN</td>\n      <td>NaN</td>\n      <td>NaN</td>\n      <td>NaN</td>\n      <td>NaN</td>\n      <td>NaN</td>\n      <td>NaN</td>\n      <td>NaN</td>\n      <td>NaN</td>\n    </tr>\n    <tr>\n      <th>25</th>\n      <td>4.0</td>\n      <td>35.0</td>\n      <td>F</td>\n      <td>M</td>\n      <td>47.0</td>\n      <td>Y</td>\n      <td>NaN</td>\n      <td>N</td>\n      <td>N</td>\n      <td>NaN</td>\n      <td>...</td>\n      <td>NaN</td>\n      <td>NaN</td>\n      <td>NaN</td>\n      <td>NaN</td>\n      <td>NaN</td>\n      <td>NaN</td>\n      <td>NaN</td>\n      <td>NaN</td>\n      <td>NaN</td>\n      <td>NaN</td>\n    </tr>\n    <tr>\n      <th>47</th>\n      <td>1.0</td>\n      <td>26.0</td>\n      <td>D</td>\n      <td>M</td>\n      <td>64.0</td>\n      <td>N</td>\n      <td>NaN</td>\n      <td>Y</td>\n      <td>Y</td>\n      <td>NaN</td>\n      <td>...</td>\n      <td>NaN</td>\n      <td>NaN</td>\n      <td>NaN</td>\n      <td>NaN</td>\n      <td>NaN</td>\n      <td>NaN</td>\n      <td>NaN</td>\n      <td>NaN</td>\n      <td>NaN</td>\n      <td>NaN</td>\n    </tr>\n    <tr>\n      <th>48</th>\n      <td>3.0</td>\n      <td>47.0</td>\n      <td>F</td>\n      <td>F</td>\n      <td>79.0</td>\n      <td>N</td>\n      <td>NaN</td>\n      <td>Y</td>\n      <td>Y</td>\n      <td>NaN</td>\n      <td>...</td>\n      <td>NaN</td>\n      <td>NaN</td>\n      <td>NaN</td>\n      <td>NaN</td>\n      <td>NaN</td>\n      <td>NaN</td>\n      <td>NaN</td>\n      <td>NaN</td>\n      <td>NaN</td>\n      <td>NaN</td>\n    </tr>\n    <tr>\n      <th>...</th>\n      <td>...</td>\n      <td>...</td>\n      <td>...</td>\n      <td>...</td>\n      <td>...</td>\n      <td>...</td>\n      <td>...</td>\n      <td>...</td>\n      <td>...</td>\n      <td>...</td>\n      <td>...</td>\n      <td>...</td>\n      <td>...</td>\n      <td>...</td>\n      <td>...</td>\n      <td>...</td>\n      <td>...</td>\n      <td>...</td>\n      <td>...</td>\n      <td>...</td>\n      <td>...</td>\n    </tr>\n    <tr>\n      <th>19423</th>\n      <td>113.0</td>\n      <td>33.0</td>\n      <td>F</td>\n      <td>F</td>\n      <td>76.0</td>\n      <td>Y</td>\n      <td>N</td>\n      <td>N</td>\n      <td>N</td>\n      <td>N</td>\n      <td>...</td>\n      <td>NaN</td>\n      <td>NaN</td>\n      <td>NaN</td>\n      <td>NaN</td>\n      <td>NaN</td>\n      <td>NaN</td>\n      <td>NaN</td>\n      <td>NaN</td>\n      <td>NaN</td>\n      <td>NaN</td>\n    </tr>\n    <tr>\n      <th>19430</th>\n      <td>255.0</td>\n      <td>42.0</td>\n      <td>F</td>\n      <td>M</td>\n      <td>66.0</td>\n      <td>N</td>\n      <td>N</td>\n      <td>Y</td>\n      <td>Y</td>\n      <td>N</td>\n      <td>...</td>\n      <td>NaN</td>\n      <td>NaN</td>\n      <td>NaN</td>\n      <td>NaN</td>\n      <td>NaN</td>\n      <td>NaN</td>\n      <td>NaN</td>\n      <td>NaN</td>\n      <td>NaN</td>\n      <td>NaN</td>\n    </tr>\n    <tr>\n      <th>19431</th>\n      <td>255.0</td>\n      <td>47.0</td>\n      <td>F</td>\n      <td>M</td>\n      <td>75.0</td>\n      <td>N</td>\n      <td>N</td>\n      <td>Y</td>\n      <td>Y</td>\n      <td>N</td>\n      <td>...</td>\n      <td>NaN</td>\n      <td>NaN</td>\n      <td>NaN</td>\n      <td>NaN</td>\n      <td>NaN</td>\n      <td>NaN</td>\n      <td>NaN</td>\n      <td>NaN</td>\n      <td>NaN</td>\n      <td>NaN</td>\n    </tr>\n    <tr>\n      <th>19433</th>\n      <td>255.0</td>\n      <td>40.0</td>\n      <td>D</td>\n      <td>F</td>\n      <td>87.0</td>\n      <td>N</td>\n      <td>N</td>\n      <td>Y</td>\n      <td>Y</td>\n      <td>N</td>\n      <td>...</td>\n      <td>NaN</td>\n      <td>NaN</td>\n      <td>NaN</td>\n      <td>NaN</td>\n      <td>NaN</td>\n      <td>NaN</td>\n      <td>NaN</td>\n      <td>NaN</td>\n      <td>NaN</td>\n      <td>NaN</td>\n    </tr>\n    <tr>\n      <th>RDISCH14</th>\n      <td>NaN</td>\n      <td>NaN</td>\n      <td>NaN</td>\n      <td>NaN</td>\n      <td>NaN</td>\n      <td>NaN</td>\n      <td>NaN</td>\n      <td>NaN</td>\n      <td>NaN</td>\n      <td>NaN</td>\n      <td>...</td>\n      <td>Discharged alive from hospital</td>\n      <td>Dead on discharge form</td>\n      <td>Not discharged</td>\n      <td>Not discharged</td>\n      <td>Dead on discharge form</td>\n      <td>Discharged alive from hospital</td>\n      <td>Discharged alive from hospital</td>\n      <td>Not discharged</td>\n      <td>Not discharged</td>\n      <td>Dead on discharge form</td>\n    </tr>\n  </tbody>\n</table>\n<p>3363 rows × 3477 columns</p>\n</div>"
     },
     "metadata": {},
     "execution_count": 105
    }
   ],
   "source": [
    "asp_y3 = group_asp_delay.get_group(('Y', '0 - 3'))    # Aspirin prior to stroke and aspirin during study\n",
    "group_asp_y3.append(asp_y3['RDISCH14'])\n",
    "asp_y6 = group_asp_delay.get_group(('Y', '4 - 6'))    # Aspirin prior to stroke and aspirin during study\n",
    "group_asp_y6.append(asp_y6['RDISCH14'])\n",
    "asp_y12 = group_asp_delay.get_group(('Y', '7 - 12'))    # Aspirin prior to stroke and aspirin during study\n",
    "group_asp_y12.append(asp_y12['RDISCH14'])\n",
    "asp_y24 = group_asp_delay.get_group(('Y', '13 - 24'))    # Aspirin prior to stroke and aspirin during study\n",
    "group_asp_y24.append(asp_y24['RDISCH14'])\n",
    "asp_y48 = group_asp_delay.get_group(('Y', '25 - 48'))    # Aspirin prior to stroke and aspirin during study\n",
    "group_asp_y48.append(asp_y48['RDISCH14'])\n",
    "\n",
    "#\n",
    "\n",
    "asp_n3 = group_asp_delay.get_group(('N', '0 - 3'))    # Aspirin prior to stroke and aspirin during study\n",
    "group_asp_n3.append(asp_n3['RDISCH14'])\n",
    "asp_n6 = group_asp_delay.get_group(('N', '4 - 6'))    # Aspirin prior to stroke and aspirin during study\n",
    "group_asp_n6.append(asp_n6['RDISCH14'])\n",
    "asp_n12 = group_asp_delay.get_group(('N', '7 - 12'))    # Aspirin prior to stroke and aspirin during study\n",
    "group_asp_n12.append(asp_n12['RDISCH14'])\n",
    "asp_n24 = group_asp_delay.get_group(('N', '13 - 24'))    # Aspirin prior to stroke and aspirin during study\n",
    "group_asp_n24.append(asp_n24['RDISCH14'])\n",
    "asp_n48 = group_asp_delay.get_group(('N', '25 - 48'))    # Aspirin prior to stroke and aspirin during study\n",
    "group_asp_n48.append(asp_n48['RDISCH14'])"
   ]
  },
  {
   "cell_type": "code",
   "execution_count": 23,
   "metadata": {},
   "outputs": [
    {
     "output_type": "stream",
     "name": "stdout",
     "text": [
      "Kruskal Wallis\nstat = 27.864, p = 0.001\nProbably different distributions\n"
     ]
    }
   ],
   "source": [
    "stat, p = kruskal(group_asp_y3[0], group_asp_y6[0],group_asp_y12[0], group_asp_y24[0], group_asp_y48[0],\n",
    "                group_asp_n3[0], group_asp_n6[0],group_asp_n12[0], group_asp_n24[0], group_asp_n48[0])\n",
    "print('Kruskal Wallis')\n",
    "print_stats(stat, p)"
   ]
  },
  {
   "cell_type": "code",
   "execution_count": 24,
   "metadata": {},
   "outputs": [],
   "source": [
    "datax = [group_asp_y3, group_asp_y6,group_asp_y12, group_asp_y24, group_asp_y48,\n",
    "                group_asp_n3, group_asp_n6,group_asp_n12, group_asp_n24, group_asp_n48]\n",
    "datay = [group_asp_y3, group_asp_y6,group_asp_y12, group_asp_y24, group_asp_y48,\n",
    "                group_asp_n3, group_asp_n6,group_asp_n12, group_asp_n24, group_asp_n48]"
   ]
  },
  {
   "cell_type": "code",
   "execution_count": 28,
   "metadata": {},
   "outputs": [
    {
     "output_type": "stream",
     "name": "stdout",
     "text": [
      "\nstat = 64082.000, p = 0.500\nProbably the same distribution\n"
     ]
    }
   ],
   "source": [
    "for datax, datay in product(datax, datay):\n",
    "    print()\n",
    "    stat, p = mannwhitneyu(datax, datay)\n",
    "    print_stats(stat, p)"
   ]
  },
  {
   "cell_type": "code",
   "execution_count": 95,
   "metadata": {},
   "outputs": [],
   "source": [
    "#asp_delay1, asp_delay2, asp_delay3, asp_delay4, asp_delay5, asp_delay6, asp_delay7, asp_delay8, asp_delay9, asp_delay10 = ([] for i in range(10))"
   ]
  },
  {
   "cell_type": "code",
   "execution_count": null,
   "metadata": {},
   "outputs": [],
   "source": [
    "#for i in keys:\n",
    "#    asp_delay = group_asp_delay.get_group([i])    # Aspirin prior to stroke and aspirin during study\n",
    "#    asp_delay1.append(asp_delay['RDISCH14'])"
   ]
  },
  {
   "cell_type": "code",
   "execution_count": 106,
   "metadata": {},
   "outputs": [],
   "source": [
    "group_asp_y3 = group_asp_y[group_asp_y['RDELAY_bin']=='0 - 3'] # patients received aspirin within 3 hours after their stroke\n",
    "group_asp_y6 = group_asp_y[group_asp_y['RDELAY_bin']=='4 - 6'] # patients received aspirin within 6 hours after their stroke\n",
    "group_asp_y12 = group_asp_y[group_asp_y['RDELAY_bin']=='7 - 12'] # patients received aspirin within 12 hours after their stroke\n",
    "group_asp_y24 = group_asp_y[group_asp_y['RDELAY_bin']=='13 - 24'] # patients received aspirin within 24 hours after their stroke\n",
    "group_asp_y48 = group_asp_y[group_asp_y['RDELAY_bin']=='25 - 48'] # patients received aspirin within 48 hours after their stroke\n",
    "\n",
    "group_asp_n3 = group_asp_n[group_asp_n['RDELAY_bin']=='0 - 3'] # patients did not receive aspirin and joined the study within 3 hours after their stroke\n",
    "group_asp_n6 = group_asp_n[group_asp_n['RDELAY_bin']=='4 - 6'] # patients did not receive aspirin and joined the study within 6 hours after their stroke\n",
    "group_asp_n12 = group_asp_n[group_asp_n['RDELAY_bin']=='7 - 12'] # patients did not receive aspirin and joined the study within 12 hours after their stroke\n",
    "group_asp_n24 = group_asp_n[group_asp_n['RDELAY_bin']=='13 - 24'] # patients did not receive aspirin and joined the study within 24 hours after their stroke\n",
    "group_asp_n48 = group_asp_n[group_asp_n['RDELAY_bin']=='25 - 48'] # patients did not receive aspirin and joined the study within 48 hours after their stroke"
   ]
  },
  {
   "cell_type": "code",
   "execution_count": 68,
   "metadata": {},
   "outputs": [],
   "source": [
    "data0 = group_asp_y3['RDISCH14'].tolist()\n",
    "data1 = group_asp_y6['RDISCH14'].tolist()\n",
    "data2 = group_asp_y12['RDISCH14'].tolist()\n",
    "data3 = group_asp_y24['RDISCH14'].tolist()\n",
    "data4 = group_asp_y48['RDISCH14'].tolist()\n",
    "\n",
    "data5 = group_asp_n3['RDISCH14'].tolist()\n",
    "data6 = group_asp_n6['RDISCH14'].tolist()\n",
    "data7 = group_asp_n12['RDISCH14'].tolist()\n",
    "data8 = group_asp_n24['RDISCH14'].tolist()\n",
    "data9 = group_asp_n48['RDISCH14'].tolist()\n",
    "stat, p = kruskal(data0, data1, data2, data3, data4, data5, data6, data7, data8, data9)"
   ]
  },
  {
   "cell_type": "code",
   "execution_count": 69,
   "metadata": {},
   "outputs": [
    {
     "output_type": "stream",
     "name": "stdout",
     "text": [
      "stat = 27.864, p = 0.001\nProbably different distributions\n"
     ]
    }
   ],
   "source": [
    "print_stats(stat, p)"
   ]
  },
  {
   "source": [
    "There are differences between those groups. Let's check which groups differ significantly."
   ],
   "cell_type": "markdown",
   "metadata": {}
  },
  {
   "cell_type": "code",
   "execution_count": 70,
   "metadata": {},
   "outputs": [],
   "source": [
    "datax = [data0, data1, data2, data3, data4, data5, data6, data7, data8, data9]\n",
    "datay = [data0, data1, data2, data3, data4, data5, data6, data7, data8, data9]"
   ]
  },
  {
   "cell_type": "code",
   "execution_count": 75,
   "metadata": {},
   "outputs": [
    {
     "output_type": "stream",
     "name": "stdout",
     "text": [
      "0 0\n",
      "stat = 64082.000, p = 0.500\n",
      "Probably the same distribution\n",
      "\n",
      "0 1\n",
      "stat = 176842.500, p = 0.187\n",
      "Probably the same distribution\n",
      "\n",
      "0 2\n",
      "stat = 318515.000, p = 0.234\n",
      "Probably the same distribution\n",
      "\n",
      "0 3\n",
      "stat = 440764.000, p = 0.059\n",
      "Probably the same distribution\n",
      "\n",
      "0 4\n",
      "stat = 508649.500, p = 0.008\n",
      "Probably different distributions\n",
      "\n",
      "0 5\n",
      "stat = 80694.000, p = 0.449\n",
      "Probably the same distribution\n",
      "\n",
      "0 6\n",
      "stat = 209523.000, p = 0.198\n",
      "Probably the same distribution\n",
      "\n",
      "0 7\n",
      "stat = 358405.500, p = 0.013\n",
      "Probably different distributions\n",
      "\n",
      "0 8\n",
      "stat = 474956.000, p = 0.036\n",
      "Probably different distributions\n",
      "\n",
      "0 9\n",
      "stat = 558869.500, p = 0.006\n",
      "Probably different distributions\n",
      "\n",
      "1 0\n",
      "stat = 176842.500, p = 0.187\n",
      "Probably the same distribution\n",
      "\n",
      "1 1\n",
      "stat = 517144.500, p = 0.500\n",
      "Probably the same distribution\n",
      "\n",
      "1 2\n",
      "stat = 918241.500, p = 0.360\n",
      "Probably the same distribution\n",
      "\n",
      "1 3\n",
      "stat = 1290742.000, p = 0.204\n",
      "Probably the same distribution\n",
      "\n",
      "1 4\n",
      "stat = 1490677.500, p = 0.018\n",
      "Probably different distributions\n",
      "\n",
      "1 5\n",
      "stat = 225201.500, p = 0.226\n",
      "Probably the same distribution\n",
      "\n",
      "1 6\n",
      "stat = 611243.500, p = 0.486\n",
      "Probably the same distribution\n",
      "\n",
      "1 7\n",
      "stat = 1049082.000, p = 0.027\n",
      "Probably different distributions\n",
      "\n",
      "1 8\n",
      "stat = 1390044.500, p = 0.107\n",
      "Probably the same distribution\n",
      "\n",
      "1 9\n",
      "stat = 1637026.500, p = 0.011\n",
      "Probably different distributions\n",
      "\n",
      "2 0\n",
      "stat = 318515.000, p = 0.234\n",
      "Probably the same distribution\n",
      "\n",
      "2 1\n",
      "stat = 918241.500, p = 0.360\n",
      "Probably the same distribution\n",
      "\n",
      "2 2\n",
      "stat = 1654380.500, p = 0.500\n",
      "Probably the same distribution\n",
      "\n",
      "2 3\n",
      "stat = 2290446.500, p = 0.067\n",
      "Probably the same distribution\n",
      "\n",
      "2 4\n",
      "stat = 2643685.000, p = 0.001\n",
      "Probably different distributions\n",
      "\n",
      "2 5\n",
      "stat = 405495.500, p = 0.282\n",
      "Probably the same distribution\n",
      "\n",
      "2 6\n",
      "stat = 1087272.500, p = 0.373\n",
      "Probably the same distribution\n",
      "\n",
      "2 7\n",
      "stat = 1861111.500, p = 0.003\n",
      "Probably different distributions\n",
      "\n",
      "2 8\n",
      "stat = 2466694.000, p = 0.022\n",
      "Probably different distributions\n",
      "\n",
      "2 9\n",
      "stat = 2903413.000, p = 0.000\n",
      "Probably different distributions\n",
      "\n",
      "3 0\n",
      "stat = 440764.000, p = 0.059\n",
      "Probably the same distribution\n",
      "\n",
      "3 1\n",
      "stat = 1290742.000, p = 0.204\n",
      "Probably the same distribution\n",
      "\n",
      "3 2\n",
      "stat = 2290446.500, p = 0.067\n",
      "Probably the same distribution\n",
      "\n",
      "3 3\n",
      "stat = 3325620.500, p = 0.500\n",
      "Probably the same distribution\n",
      "\n",
      "3 4\n",
      "stat = 3839439.500, p = 0.041\n",
      "Probably different distributions\n",
      "\n",
      "3 5\n",
      "stat = 561910.500, p = 0.073\n",
      "Probably the same distribution\n",
      "\n",
      "3 6\n",
      "stat = 1526214.500, p = 0.186\n",
      "Probably the same distribution\n",
      "\n",
      "3 7\n",
      "stat = 2700371.000, p = 0.058\n",
      "Probably the same distribution\n",
      "\n",
      "3 8\n",
      "stat = 3579449.000, p = 0.270\n",
      "Probably the same distribution\n",
      "\n",
      "3 9\n",
      "stat = 4214753.500, p = 0.019\n",
      "Probably different distributions\n",
      "\n",
      "4 0\n",
      "stat = 508649.500, p = 0.008\n",
      "Probably different distributions\n",
      "\n",
      "4 1\n",
      "stat = 1490677.500, p = 0.018\n",
      "Probably different distributions\n",
      "\n",
      "4 2\n",
      "stat = 2643685.000, p = 0.001\n",
      "Probably different distributions\n",
      "\n",
      "4 3\n",
      "stat = 3839439.500, p = 0.041\n",
      "Probably different distributions\n",
      "\n",
      "4 4\n",
      "stat = 4651250.000, p = 0.500\n",
      "Probably the same distribution\n",
      "\n",
      "4 5\n",
      "stat = 649341.000, p = 0.010\n",
      "Probably different distributions\n",
      "\n",
      "4 6\n",
      "stat = 1763763.000, p = 0.014\n",
      "Probably different distributions\n",
      "\n",
      "4 7\n",
      "stat = 3268377.000, p = 0.477\n",
      "Probably the same distribution\n",
      "\n",
      "4 8\n",
      "stat = 4208075.500, p = 0.141\n",
      "Probably the same distribution\n",
      "\n",
      "4 9\n",
      "stat = 5104007.000, p = 0.363\n",
      "Probably the same distribution\n",
      "\n",
      "5 0\n",
      "stat = 80694.000, p = 0.449\n",
      "Probably the same distribution\n",
      "\n",
      "5 1\n",
      "stat = 225201.500, p = 0.226\n",
      "Probably the same distribution\n",
      "\n",
      "5 2\n",
      "stat = 405495.500, p = 0.282\n",
      "Probably the same distribution\n",
      "\n",
      "5 3\n",
      "stat = 561910.500, p = 0.073\n",
      "Probably the same distribution\n",
      "\n",
      "5 4\n",
      "stat = 649341.000, p = 0.010\n",
      "Probably different distributions\n",
      "\n",
      "5 5\n",
      "stat = 102604.500, p = 0.500\n",
      "Probably the same distribution\n",
      "\n",
      "5 6\n",
      "stat = 266759.500, p = 0.236\n",
      "Probably the same distribution\n",
      "\n",
      "5 7\n",
      "stat = 457398.500, p = 0.015\n",
      "Probably different distributions\n",
      "\n",
      "5 8\n",
      "stat = 605665.000, p = 0.044\n",
      "Probably different distributions\n",
      "\n",
      "5 9\n",
      "stat = 713507.000, p = 0.008\n",
      "Probably different distributions\n",
      "\n",
      "6 0\n",
      "stat = 209523.000, p = 0.198\n",
      "Probably the same distribution\n",
      "\n",
      "6 1\n",
      "stat = 611243.500, p = 0.486\n",
      "Probably the same distribution\n",
      "\n",
      "6 2\n",
      "stat = 1087272.500, p = 0.373\n",
      "Probably the same distribution\n",
      "\n",
      "6 3\n",
      "stat = 1526214.500, p = 0.186\n",
      "Probably the same distribution\n",
      "\n",
      "6 4\n",
      "stat = 1763763.000, p = 0.014\n",
      "Probably different distributions\n",
      "\n",
      "6 5\n",
      "stat = 266759.500, p = 0.236\n",
      "Probably the same distribution\n",
      "\n",
      "6 6\n",
      "stat = 723604.500, p = 0.500\n",
      "Probably the same distribution\n",
      "\n",
      "6 7\n",
      "stat = 1241285.500, p = 0.022\n",
      "Probably different distributions\n",
      "\n",
      "6 8\n",
      "stat = 1644030.000, p = 0.093\n",
      "Probably the same distribution\n",
      "\n",
      "6 9\n",
      "stat = 1937155.000, p = 0.008\n",
      "Probably different distributions\n",
      "\n",
      "7 0\n",
      "stat = 358405.500, p = 0.013\n",
      "Probably different distributions\n",
      "\n",
      "7 1\n",
      "stat = 1049082.000, p = 0.027\n",
      "Probably different distributions\n",
      "\n",
      "7 2\n",
      "stat = 1861111.500, p = 0.003\n",
      "Probably different distributions\n",
      "\n",
      "7 3\n",
      "stat = 2700371.000, p = 0.058\n",
      "Probably the same distribution\n",
      "\n",
      "7 4\n",
      "stat = 3268377.000, p = 0.477\n",
      "Probably the same distribution\n",
      "\n",
      "7 5\n",
      "stat = 457398.500, p = 0.015\n",
      "Probably different distributions\n",
      "\n",
      "7 6\n",
      "stat = 1241285.500, p = 0.022\n",
      "Probably different distributions\n",
      "\n",
      "7 7\n",
      "stat = 2300512.500, p = 0.500\n",
      "Probably the same distribution\n",
      "\n",
      "7 8\n",
      "stat = 2958650.500, p = 0.161\n",
      "Probably the same distribution\n",
      "\n",
      "7 9\n",
      "stat = 3593124.000, p = 0.403\n",
      "Probably the same distribution\n",
      "\n",
      "8 0\n",
      "stat = 474956.000, p = 0.036\n",
      "Probably different distributions\n",
      "\n",
      "8 1\n",
      "stat = 1390044.500, p = 0.107\n",
      "Probably the same distribution\n",
      "\n",
      "8 2\n",
      "stat = 2466694.000, p = 0.022\n",
      "Probably different distributions\n",
      "\n",
      "8 3\n",
      "stat = 3579449.000, p = 0.270\n",
      "Probably the same distribution\n",
      "\n",
      "8 4\n",
      "stat = 4208075.500, p = 0.141\n",
      "Probably the same distribution\n",
      "\n",
      "8 5\n",
      "stat = 605665.000, p = 0.044\n",
      "Probably different distributions\n",
      "\n",
      "8 6\n",
      "stat = 1644030.000, p = 0.093\n",
      "Probably the same distribution\n",
      "\n",
      "8 7\n",
      "stat = 2958650.500, p = 0.161\n",
      "Probably the same distribution\n",
      "\n",
      "8 8\n",
      "stat = 3920000.000, p = 0.500\n",
      "Probably the same distribution\n",
      "\n",
      "8 9\n",
      "stat = 4619319.500, p = 0.080\n",
      "Probably the same distribution\n",
      "\n",
      "9 0\n",
      "stat = 558869.500, p = 0.006\n",
      "Probably different distributions\n",
      "\n",
      "9 1\n",
      "stat = 1637026.500, p = 0.011\n",
      "Probably different distributions\n",
      "\n",
      "9 2\n",
      "stat = 2903413.000, p = 0.000\n",
      "Probably different distributions\n",
      "\n",
      "9 3\n",
      "stat = 4214753.500, p = 0.019\n",
      "Probably different distributions\n",
      "\n",
      "9 4\n",
      "stat = 5104007.000, p = 0.363\n",
      "Probably the same distribution\n",
      "\n",
      "9 5\n",
      "stat = 713507.000, p = 0.008\n",
      "Probably different distributions\n",
      "\n",
      "9 6\n",
      "stat = 1937155.000, p = 0.008\n",
      "Probably different distributions\n",
      "\n",
      "9 7\n",
      "stat = 3593124.000, p = 0.403\n",
      "Probably the same distribution\n",
      "\n",
      "9 8\n",
      "stat = 4619319.500, p = 0.080\n",
      "Probably the same distribution\n",
      "\n",
      "9 9\n",
      "stat = 5651522.000, p = 0.500\n",
      "Probably the same distribution\n",
      "\n"
     ]
    }
   ],
   "source": [
    "iterator = product(enumerate(datax), enumerate(datay))\n",
    "for (first_idx, first_group), (second_idx, second_group) in iterator:\n",
    "    print(first_idx, second_idx)\n",
    "    stat, p = mannwhitneyu(first_group, second_group)\n",
    "    print_stats(stat, p)\n",
    "    print()"
   ]
  },
  {
   "source": [
    "+ 0 4: p = 0.008\n",
    "+ 0 7: p = 0.013\n",
    "+ 0 8: p = 0.036\n",
    "+ 0 9: p = 0.006\n",
    "+ 1 4: p = 0.018\n",
    "+ 1 7: p = 0.027\n",
    "+ 1 9: p = 0.011\n",
    "+ 2 4: p = 0.001\n",
    "+ 2 7: p = 0.003\n",
    "+ 2 8: p = 0.022\n",
    "+ 2 9: p = 0.000\n",
    "+ 3 4: p = 0.041\n",
    "+ 3 9: p = 0.019\n",
    "+ 4 5: p = 0.010\n",
    "+ 4 6: p = 0.014\n",
    "+ 5 7: p = 0.015\n",
    "+ 5 8: p = 0.044\n",
    "+ 5 9: p = 0.008\n",
    "+ 6 7: p = 0.022\n",
    "+ 6 9: p = 0.008\n",
    "\n"
   ],
   "cell_type": "markdown",
   "metadata": {}
  },
  {
   "cell_type": "code",
   "execution_count": 77,
   "metadata": {},
   "outputs": [
    {
     "output_type": "stream",
     "name": "stdout",
     "text": [
      "0 0\n",
      "stat = 64082.000, p = 0.500\n",
      "Probably the same distribution\n",
      "\n",
      "0 1\n",
      "stat = 176842.500, p = 0.187\n",
      "Probably the same distribution\n",
      "\n",
      "0 2\n",
      "stat = 318515.000, p = 0.234\n",
      "Probably the same distribution\n",
      "\n",
      "0 3\n",
      "stat = 440764.000, p = 0.059\n",
      "Probably the same distribution\n",
      "\n",
      "0 4\n",
      "stat = 508649.500, p = 0.008\n",
      "Probably different distributions\n",
      "\n",
      "0 5\n",
      "stat = 80694.000, p = 0.449\n",
      "Probably the same distribution\n",
      "\n",
      "0 6\n",
      "stat = 209523.000, p = 0.198\n",
      "Probably the same distribution\n",
      "\n",
      "0 7\n",
      "stat = 358405.500, p = 0.013\n",
      "Probably different distributions\n",
      "\n",
      "0 8\n",
      "stat = 474956.000, p = 0.036\n",
      "Probably different distributions\n",
      "\n",
      "0 9\n",
      "stat = 558869.500, p = 0.006\n",
      "Probably different distributions\n",
      "\n",
      "1 0\n",
      "stat = 176842.500, p = 0.187\n",
      "Probably the same distribution\n",
      "\n",
      "1 1\n",
      "stat = 517144.500, p = 0.500\n",
      "Probably the same distribution\n",
      "\n",
      "1 2\n",
      "stat = 918241.500, p = 0.360\n",
      "Probably the same distribution\n",
      "\n",
      "1 3\n",
      "stat = 1290742.000, p = 0.204\n",
      "Probably the same distribution\n",
      "\n",
      "1 4\n",
      "stat = 1490677.500, p = 0.018\n",
      "Probably different distributions\n",
      "\n",
      "1 5\n",
      "stat = 225201.500, p = 0.226\n",
      "Probably the same distribution\n",
      "\n",
      "1 6\n",
      "stat = 611243.500, p = 0.486\n",
      "Probably the same distribution\n",
      "\n",
      "1 7\n",
      "stat = 1049082.000, p = 0.027\n",
      "Probably different distributions\n",
      "\n",
      "1 8\n",
      "stat = 1390044.500, p = 0.107\n",
      "Probably the same distribution\n",
      "\n",
      "1 9\n",
      "stat = 1637026.500, p = 0.011\n",
      "Probably different distributions\n",
      "\n",
      "2 0\n",
      "stat = 318515.000, p = 0.234\n",
      "Probably the same distribution\n",
      "\n",
      "2 1\n",
      "stat = 918241.500, p = 0.360\n",
      "Probably the same distribution\n",
      "\n",
      "2 2\n",
      "stat = 1654380.500, p = 0.500\n",
      "Probably the same distribution\n",
      "\n",
      "2 3\n",
      "stat = 2290446.500, p = 0.067\n",
      "Probably the same distribution\n",
      "\n",
      "2 4\n",
      "stat = 2643685.000, p = 0.001\n",
      "Probably different distributions\n",
      "\n",
      "2 5\n",
      "stat = 405495.500, p = 0.282\n",
      "Probably the same distribution\n",
      "\n",
      "2 6\n",
      "stat = 1087272.500, p = 0.373\n",
      "Probably the same distribution\n",
      "\n",
      "2 7\n",
      "stat = 1861111.500, p = 0.003\n",
      "Probably different distributions\n",
      "\n",
      "2 8\n",
      "stat = 2466694.000, p = 0.022\n",
      "Probably different distributions\n",
      "\n",
      "2 9\n",
      "stat = 2903413.000, p = 0.000\n",
      "Probably different distributions\n",
      "\n",
      "3 0\n",
      "stat = 440764.000, p = 0.059\n",
      "Probably the same distribution\n",
      "\n",
      "3 1\n",
      "stat = 1290742.000, p = 0.204\n",
      "Probably the same distribution\n",
      "\n",
      "3 2\n",
      "stat = 2290446.500, p = 0.067\n",
      "Probably the same distribution\n",
      "\n",
      "3 3\n",
      "stat = 3325620.500, p = 0.500\n",
      "Probably the same distribution\n",
      "\n",
      "3 4\n",
      "stat = 3839439.500, p = 0.041\n",
      "Probably different distributions\n",
      "\n",
      "3 5\n",
      "stat = 561910.500, p = 0.073\n",
      "Probably the same distribution\n",
      "\n",
      "3 6\n",
      "stat = 1526214.500, p = 0.186\n",
      "Probably the same distribution\n",
      "\n",
      "3 7\n",
      "stat = 2700371.000, p = 0.058\n",
      "Probably the same distribution\n",
      "\n",
      "3 8\n",
      "stat = 3579449.000, p = 0.270\n",
      "Probably the same distribution\n",
      "\n",
      "3 9\n",
      "stat = 4214753.500, p = 0.019\n",
      "Probably different distributions\n",
      "\n",
      "4 0\n",
      "stat = 508649.500, p = 0.008\n",
      "Probably different distributions\n",
      "\n",
      "4 1\n",
      "stat = 1490677.500, p = 0.018\n",
      "Probably different distributions\n",
      "\n",
      "4 2\n",
      "stat = 2643685.000, p = 0.001\n",
      "Probably different distributions\n",
      "\n",
      "4 3\n",
      "stat = 3839439.500, p = 0.041\n",
      "Probably different distributions\n",
      "\n",
      "4 4\n",
      "stat = 4651250.000, p = 0.500\n",
      "Probably the same distribution\n",
      "\n",
      "4 5\n",
      "stat = 649341.000, p = 0.010\n",
      "Probably different distributions\n",
      "\n",
      "4 6\n",
      "stat = 1763763.000, p = 0.014\n",
      "Probably different distributions\n",
      "\n",
      "4 7\n",
      "stat = 3268377.000, p = 0.477\n",
      "Probably the same distribution\n",
      "\n",
      "4 8\n",
      "stat = 4208075.500, p = 0.141\n",
      "Probably the same distribution\n",
      "\n",
      "4 9\n",
      "stat = 5104007.000, p = 0.363\n",
      "Probably the same distribution\n",
      "\n",
      "5 0\n",
      "stat = 80694.000, p = 0.449\n",
      "Probably the same distribution\n",
      "\n",
      "5 1\n",
      "stat = 225201.500, p = 0.226\n",
      "Probably the same distribution\n",
      "\n",
      "5 2\n",
      "stat = 405495.500, p = 0.282\n",
      "Probably the same distribution\n",
      "\n",
      "5 3\n",
      "stat = 561910.500, p = 0.073\n",
      "Probably the same distribution\n",
      "\n",
      "5 4\n",
      "stat = 649341.000, p = 0.010\n",
      "Probably different distributions\n",
      "\n",
      "5 5\n",
      "stat = 102604.500, p = 0.500\n",
      "Probably the same distribution\n",
      "\n",
      "5 6\n",
      "stat = 266759.500, p = 0.236\n",
      "Probably the same distribution\n",
      "\n",
      "5 7\n",
      "stat = 457398.500, p = 0.015\n",
      "Probably different distributions\n",
      "\n",
      "5 8\n",
      "stat = 605665.000, p = 0.044\n",
      "Probably different distributions\n",
      "\n",
      "5 9\n",
      "stat = 713507.000, p = 0.008\n",
      "Probably different distributions\n",
      "\n",
      "6 0\n",
      "stat = 209523.000, p = 0.198\n",
      "Probably the same distribution\n",
      "\n",
      "6 1\n",
      "stat = 611243.500, p = 0.486\n",
      "Probably the same distribution\n",
      "\n",
      "6 2\n",
      "stat = 1087272.500, p = 0.373\n",
      "Probably the same distribution\n",
      "\n",
      "6 3\n",
      "stat = 1526214.500, p = 0.186\n",
      "Probably the same distribution\n",
      "\n",
      "6 4\n",
      "stat = 1763763.000, p = 0.014\n",
      "Probably different distributions\n",
      "\n",
      "6 5\n",
      "stat = 266759.500, p = 0.236\n",
      "Probably the same distribution\n",
      "\n",
      "6 6\n",
      "stat = 723604.500, p = 0.500\n",
      "Probably the same distribution\n",
      "\n",
      "6 7\n",
      "stat = 1241285.500, p = 0.022\n",
      "Probably different distributions\n",
      "\n",
      "6 8\n",
      "stat = 1644030.000, p = 0.093\n",
      "Probably the same distribution\n",
      "\n",
      "6 9\n",
      "stat = 1937155.000, p = 0.008\n",
      "Probably different distributions\n",
      "\n",
      "7 0\n",
      "stat = 358405.500, p = 0.013\n",
      "Probably different distributions\n",
      "\n",
      "7 1\n",
      "stat = 1049082.000, p = 0.027\n",
      "Probably different distributions\n",
      "\n",
      "7 2\n",
      "stat = 1861111.500, p = 0.003\n",
      "Probably different distributions\n",
      "\n",
      "7 3\n",
      "stat = 2700371.000, p = 0.058\n",
      "Probably the same distribution\n",
      "\n",
      "7 4\n",
      "stat = 3268377.000, p = 0.477\n",
      "Probably the same distribution\n",
      "\n",
      "7 5\n",
      "stat = 457398.500, p = 0.015\n",
      "Probably different distributions\n",
      "\n",
      "7 6\n",
      "stat = 1241285.500, p = 0.022\n",
      "Probably different distributions\n",
      "\n",
      "7 7\n",
      "stat = 2300512.500, p = 0.500\n",
      "Probably the same distribution\n",
      "\n",
      "7 8\n",
      "stat = 2958650.500, p = 0.161\n",
      "Probably the same distribution\n",
      "\n",
      "7 9\n",
      "stat = 3593124.000, p = 0.403\n",
      "Probably the same distribution\n",
      "\n",
      "8 0\n",
      "stat = 474956.000, p = 0.036\n",
      "Probably different distributions\n",
      "\n",
      "8 1\n",
      "stat = 1390044.500, p = 0.107\n",
      "Probably the same distribution\n",
      "\n",
      "8 2\n",
      "stat = 2466694.000, p = 0.022\n",
      "Probably different distributions\n",
      "\n",
      "8 3\n",
      "stat = 3579449.000, p = 0.270\n",
      "Probably the same distribution\n",
      "\n",
      "8 4\n",
      "stat = 4208075.500, p = 0.141\n",
      "Probably the same distribution\n",
      "\n",
      "8 5\n",
      "stat = 605665.000, p = 0.044\n",
      "Probably different distributions\n",
      "\n",
      "8 6\n",
      "stat = 1644030.000, p = 0.093\n",
      "Probably the same distribution\n",
      "\n",
      "8 7\n",
      "stat = 2958650.500, p = 0.161\n",
      "Probably the same distribution\n",
      "\n",
      "8 8\n",
      "stat = 3920000.000, p = 0.500\n",
      "Probably the same distribution\n",
      "\n",
      "8 9\n",
      "stat = 4619319.500, p = 0.080\n",
      "Probably the same distribution\n",
      "\n",
      "9 0\n",
      "stat = 558869.500, p = 0.006\n",
      "Probably different distributions\n",
      "\n",
      "9 1\n",
      "stat = 1637026.500, p = 0.011\n",
      "Probably different distributions\n",
      "\n",
      "9 2\n",
      "stat = 2903413.000, p = 0.000\n",
      "Probably different distributions\n",
      "\n",
      "9 3\n",
      "stat = 4214753.500, p = 0.019\n",
      "Probably different distributions\n",
      "\n",
      "9 4\n",
      "stat = 5104007.000, p = 0.363\n",
      "Probably the same distribution\n",
      "\n",
      "9 5\n",
      "stat = 713507.000, p = 0.008\n",
      "Probably different distributions\n",
      "\n",
      "9 6\n",
      "stat = 1937155.000, p = 0.008\n",
      "Probably different distributions\n",
      "\n",
      "9 7\n",
      "stat = 3593124.000, p = 0.403\n",
      "Probably the same distribution\n",
      "\n",
      "9 8\n",
      "stat = 4619319.500, p = 0.080\n",
      "Probably the same distribution\n",
      "\n",
      "9 9\n",
      "stat = 5651522.000, p = 0.500\n",
      "Probably the same distribution\n",
      "\n"
     ]
    }
   ],
   "source": [
    "# why isn't that working?\n",
    "iterator = product(enumerate(datax), enumerate(datay))\n",
    "for (first_idx, first_group), (second_idx, second_group) in iterator:\n",
    "    stat, p = mannwhitneyu(first_group, second_group)\n",
    "    if p > 0.5:\n",
    "        print()\n",
    "    else:\n",
    "        print(first_idx, second_idx)\n",
    "        print_stats(stat, p)\n",
    "    print()"
   ]
  },
  {
   "source": [
    "Patients who did receive aspirin in the study, show a difference when comparing joining the study within 3 hours or 48 hours after their stroke. "
   ],
   "cell_type": "markdown",
   "metadata": {}
  },
  {
   "source": [
    "There is a difference in putcome when comparing patients who received aspirin and joined the study within 3 hours after their stroke with patients who did not receive aspirin and joined the study within 12, 24 and 48 hours after their stroke."
   ],
   "cell_type": "markdown",
   "metadata": {}
  },
  {
   "cell_type": "code",
   "execution_count": 107,
   "metadata": {},
   "outputs": [],
   "source": [
    "data0 = group_asp_y3['OCCODE'].tolist()\n",
    "data1 = group_asp_y6['OCCODE'].tolist()\n",
    "data2 = group_asp_y12['OCCODE'].tolist()\n",
    "data3 = group_asp_y24['OCCODE'].tolist()\n",
    "data4 = group_asp_y48['OCCODE'].tolist()\n",
    "\n",
    "data5 = group_asp_n3['OCCODE'].tolist()\n",
    "data6 = group_asp_n6['OCCODE'].tolist()\n",
    "data7 = group_asp_n12['OCCODE'].tolist()\n",
    "data8 = group_asp_n24['OCCODE'].tolist()\n",
    "data9 = group_asp_n48['OCCODE'].tolist()\n",
    "stat, p = kruskal(data0, data1, data2, data3, data4, data5, data6, data7, data8, data9)"
   ]
  },
  {
   "cell_type": "code",
   "execution_count": 108,
   "metadata": {},
   "outputs": [
    {
     "output_type": "stream",
     "name": "stdout",
     "text": [
      "stat = 131.437, p = 0.000\nProbably different distributions\n"
     ]
    }
   ],
   "source": [
    "print_stats(stat, p)"
   ]
  },
  {
   "cell_type": "code",
   "execution_count": 109,
   "metadata": {},
   "outputs": [],
   "source": [
    "datax = [data0, data1, data2, data3, data4, data5, data6, data7, data8, data9]\n",
    "datay = [data0, data1, data2, data3, data4, data5, data6, data7, data8, data9]"
   ]
  },
  {
   "cell_type": "code",
   "execution_count": 110,
   "metadata": {},
   "outputs": [
    {
     "output_type": "stream",
     "name": "stdout",
     "text": [
      "0 0\n",
      "stat = 64082.000, p = 0.500\n",
      "Probably the same distribution\n",
      "\n",
      "0 1\n",
      "stat = 177388.500, p = 0.225\n",
      "Probably the same distribution\n",
      "\n",
      "0 2\n",
      "stat = 305725.500, p = 0.028\n",
      "Probably different distributions\n",
      "\n",
      "0 3\n",
      "stat = 411241.000, p = 0.000\n",
      "Probably different distributions\n",
      "\n",
      "0 4\n",
      "stat = 477989.500, p = 0.000\n",
      "Probably different distributions\n",
      "\n",
      "0 5\n",
      "stat = 76648.000, p = 0.078\n",
      "Probably the same distribution\n",
      "\n",
      "0 6\n",
      "stat = 209800.000, p = 0.217\n",
      "Probably the same distribution\n",
      "\n",
      "0 7\n",
      "stat = 371407.000, p = 0.149\n",
      "Probably the same distribution\n",
      "\n",
      "0 8\n",
      "stat = 471951.000, p = 0.029\n",
      "Probably different distributions\n",
      "\n",
      "0 9\n",
      "stat = 554646.000, p = 0.005\n",
      "Probably different distributions\n",
      "\n",
      "1 0\n",
      "stat = 177388.500, p = 0.225\n",
      "Probably the same distribution\n",
      "\n",
      "1 1\n",
      "stat = 517144.500, p = 0.500\n",
      "Probably the same distribution\n",
      "\n",
      "1 2\n",
      "stat = 891514.000, p = 0.047\n",
      "Probably different distributions\n",
      "\n",
      "1 3\n",
      "stat = 1202397.500, p = 0.000\n",
      "Probably different distributions\n",
      "\n",
      "1 4\n",
      "stat = 1398419.500, p = 0.000\n",
      "Probably different distributions\n",
      "\n",
      "1 5\n",
      "stat = 211506.000, p = 0.004\n",
      "Probably different distributions\n",
      "\n",
      "1 6\n",
      "stat = 579375.000, p = 0.012\n",
      "Probably different distributions\n",
      "\n",
      "1 7\n",
      "stat = 1083794.000, p = 0.381\n",
      "Probably the same distribution\n",
      "\n",
      "1 8\n",
      "stat = 1378267.000, p = 0.056\n",
      "Probably the same distribution\n",
      "\n",
      "1 9\n",
      "stat = 1620784.000, p = 0.004\n",
      "Probably different distributions\n",
      "\n",
      "2 0\n",
      "stat = 305725.500, p = 0.028\n",
      "Probably different distributions\n",
      "\n",
      "2 1\n",
      "stat = 891514.000, p = 0.047\n",
      "Probably different distributions\n",
      "\n",
      "2 2\n",
      "stat = 1654380.500, p = 0.500\n",
      "Probably the same distribution\n",
      "\n",
      "2 3\n",
      "stat = 2238725.500, p = 0.003\n",
      "Probably different distributions\n",
      "\n",
      "2 4\n",
      "stat = 2606211.000, p = 0.000\n",
      "Probably different distributions\n",
      "\n",
      "2 5\n",
      "stat = 363568.000, p = 0.000\n",
      "Probably different distributions\n",
      "\n",
      "2 6\n",
      "stat = 996517.000, p = 0.000\n",
      "Probably different distributions\n",
      "\n",
      "2 7\n",
      "stat = 1891391.000, p = 0.041\n",
      "Probably different distributions\n",
      "\n",
      "2 8\n",
      "stat = 2533439.000, p = 0.378\n",
      "Probably the same distribution\n",
      "\n",
      "2 9\n",
      "stat = 3013552.000, p = 0.184\n",
      "Probably the same distribution\n",
      "\n",
      "3 0\n",
      "stat = 411241.000, p = 0.000\n",
      "Probably different distributions\n",
      "\n",
      "3 1\n",
      "stat = 1202397.500, p = 0.000\n",
      "Probably different distributions\n",
      "\n",
      "3 2\n",
      "stat = 2238725.500, p = 0.003\n",
      "Probably different distributions\n",
      "\n",
      "3 3\n",
      "stat = 3325620.500, p = 0.500\n",
      "Probably the same distribution\n",
      "\n",
      "3 4\n",
      "stat = 3873302.000, p = 0.151\n",
      "Probably the same distribution\n",
      "\n",
      "3 5\n",
      "stat = 485835.500, p = 0.000\n",
      "Probably different distributions\n",
      "\n",
      "3 6\n",
      "stat = 1335345.500, p = 0.000\n",
      "Probably different distributions\n",
      "\n",
      "3 7\n",
      "stat = 2550680.000, p = 0.000\n",
      "Probably different distributions\n",
      "\n",
      "3 8\n",
      "stat = 3422357.500, p = 0.000\n",
      "Probably different distributions\n",
      "\n",
      "3 9\n",
      "stat = 4196502.000, p = 0.013\n",
      "Probably different distributions\n",
      "\n",
      "4 0\n",
      "stat = 477989.500, p = 0.000\n",
      "Probably different distributions\n",
      "\n",
      "4 1\n",
      "stat = 1398419.500, p = 0.000\n",
      "Probably different distributions\n",
      "\n",
      "4 2\n",
      "stat = 2606211.000, p = 0.000\n",
      "Probably different distributions\n",
      "\n",
      "4 3\n",
      "stat = 3873302.000, p = 0.151\n",
      "Probably the same distribution\n",
      "\n",
      "4 4\n",
      "stat = 4651250.000, p = 0.500\n",
      "Probably the same distribution\n",
      "\n",
      "4 5\n",
      "stat = 563592.500, p = 0.000\n",
      "Probably different distributions\n",
      "\n",
      "4 6\n",
      "stat = 1550169.500, p = 0.000\n",
      "Probably different distributions\n",
      "\n",
      "4 7\n",
      "stat = 2966133.000, p = 0.000\n",
      "Probably different distributions\n",
      "\n",
      "4 8\n",
      "stat = 3981715.500, p = 0.000\n",
      "Probably different distributions\n",
      "\n",
      "4 9\n",
      "stat = 4884260.000, p = 0.000\n",
      "Probably different distributions\n",
      "\n",
      "5 0\n",
      "stat = 76648.000, p = 0.078\n",
      "Probably the same distribution\n",
      "\n",
      "5 1\n",
      "stat = 211506.000, p = 0.004\n",
      "Probably different distributions\n",
      "\n",
      "5 2\n",
      "stat = 363568.000, p = 0.000\n",
      "Probably different distributions\n",
      "\n",
      "5 3\n",
      "stat = 485835.500, p = 0.000\n",
      "Probably different distributions\n",
      "\n",
      "5 4\n",
      "stat = 563592.500, p = 0.000\n",
      "Probably different distributions\n",
      "\n",
      "5 5\n",
      "stat = 102604.500, p = 0.500\n",
      "Probably the same distribution\n",
      "\n",
      "5 6\n",
      "stat = 264238.500, p = 0.157\n",
      "Probably the same distribution\n",
      "\n",
      "5 7\n",
      "stat = 442056.000, p = 0.001\n",
      "Probably different distributions\n",
      "\n",
      "5 8\n",
      "stat = 560366.500, p = 0.000\n",
      "Probably different distributions\n",
      "\n",
      "5 9\n",
      "stat = 657062.000, p = 0.000\n",
      "Probably different distributions\n",
      "\n",
      "6 0\n",
      "stat = 209800.000, p = 0.217\n",
      "Probably the same distribution\n",
      "\n",
      "6 1\n",
      "stat = 579375.000, p = 0.012\n",
      "Probably different distributions\n",
      "\n",
      "6 2\n",
      "stat = 996517.000, p = 0.000\n",
      "Probably different distributions\n",
      "\n",
      "6 3\n",
      "stat = 1335345.500, p = 0.000\n",
      "Probably different distributions\n",
      "\n",
      "6 4\n",
      "stat = 1550169.500, p = 0.000\n",
      "Probably different distributions\n",
      "\n",
      "6 5\n",
      "stat = 264238.500, p = 0.157\n",
      "Probably the same distribution\n",
      "\n",
      "6 6\n",
      "stat = 723604.500, p = 0.500\n",
      "Probably the same distribution\n",
      "\n",
      "6 7\n",
      "stat = 1211931.000, p = 0.001\n",
      "Probably different distributions\n",
      "\n",
      "6 8\n",
      "stat = 1537727.500, p = 0.000\n",
      "Probably different distributions\n",
      "\n",
      "6 9\n",
      "stat = 1804424.000, p = 0.000\n",
      "Probably different distributions\n",
      "\n",
      "7 0\n",
      "stat = 371407.000, p = 0.149\n",
      "Probably the same distribution\n",
      "\n",
      "7 1\n",
      "stat = 1083794.000, p = 0.381\n",
      "Probably the same distribution\n",
      "\n",
      "7 2\n",
      "stat = 1891391.000, p = 0.041\n",
      "Probably different distributions\n",
      "\n",
      "7 3\n",
      "stat = 2550680.000, p = 0.000\n",
      "Probably different distributions\n",
      "\n",
      "7 4\n",
      "stat = 2966133.000, p = 0.000\n",
      "Probably different distributions\n",
      "\n",
      "7 5\n",
      "stat = 442056.000, p = 0.001\n",
      "Probably different distributions\n",
      "\n",
      "7 6\n",
      "stat = 1211931.000, p = 0.001\n",
      "Probably different distributions\n",
      "\n",
      "7 7\n",
      "stat = 2300512.500, p = 0.500\n",
      "Probably the same distribution\n",
      "\n",
      "7 8\n",
      "stat = 2925276.500, p = 0.050\n",
      "Probably the same distribution\n",
      "\n",
      "7 9\n",
      "stat = 3439243.000, p = 0.001\n",
      "Probably different distributions\n",
      "\n",
      "8 0\n",
      "stat = 471951.000, p = 0.029\n",
      "Probably different distributions\n",
      "\n",
      "8 1\n",
      "stat = 1378267.000, p = 0.056\n",
      "Probably the same distribution\n",
      "\n",
      "8 2\n",
      "stat = 2533439.000, p = 0.378\n",
      "Probably the same distribution\n",
      "\n",
      "8 3\n",
      "stat = 3422357.500, p = 0.000\n",
      "Probably different distributions\n",
      "\n",
      "8 4\n",
      "stat = 3981715.500, p = 0.000\n",
      "Probably different distributions\n",
      "\n",
      "8 5\n",
      "stat = 560366.500, p = 0.000\n",
      "Probably different distributions\n",
      "\n",
      "8 6\n",
      "stat = 1537727.500, p = 0.000\n",
      "Probably different distributions\n",
      "\n",
      "8 7\n",
      "stat = 2925276.500, p = 0.050\n",
      "Probably the same distribution\n",
      "\n",
      "8 8\n",
      "stat = 3920000.000, p = 0.500\n",
      "Probably the same distribution\n",
      "\n",
      "8 9\n",
      "stat = 4611211.000, p = 0.074\n",
      "Probably the same distribution\n",
      "\n",
      "9 0\n",
      "stat = 554646.000, p = 0.005\n",
      "Probably different distributions\n",
      "\n",
      "9 1\n",
      "stat = 1620784.000, p = 0.004\n",
      "Probably different distributions\n",
      "\n",
      "9 2\n",
      "stat = 3013552.000, p = 0.184\n",
      "Probably the same distribution\n",
      "\n",
      "9 3\n",
      "stat = 4196502.000, p = 0.013\n",
      "Probably different distributions\n",
      "\n",
      "9 4\n",
      "stat = 4884260.000, p = 0.000\n",
      "Probably different distributions\n",
      "\n",
      "9 5\n",
      "stat = 657062.000, p = 0.000\n",
      "Probably different distributions\n",
      "\n",
      "9 6\n",
      "stat = 1804424.000, p = 0.000\n",
      "Probably different distributions\n",
      "\n",
      "9 7\n",
      "stat = 3439243.000, p = 0.001\n",
      "Probably different distributions\n",
      "\n",
      "9 8\n",
      "stat = 4611211.000, p = 0.074\n",
      "Probably the same distribution\n",
      "\n",
      "9 9\n",
      "stat = 5651522.000, p = 0.500\n",
      "Probably the same distribution\n",
      "\n"
     ]
    }
   ],
   "source": [
    "iterator = product(enumerate(datax), enumerate(datay))\n",
    "for (first_idx, first_group), (second_idx, second_group) in iterator:\n",
    "    print(first_idx, second_idx)\n",
    "    stat, p = mannwhitneyu(first_group, second_group)\n",
    "    print_stats(stat, p)\n",
    "    print()"
   ]
  },
  {
   "source": [
    "+ 0 2: p = 0.028\n",
    "+ 0 3: p = 0.000\n",
    "+ 0 4: p = 0.000\n",
    "+ 0 8: p = 0.029\n",
    "+ 0 9: p = 0.005\n",
    "+ 1 2: p = 0.047\n",
    "+ 1 3: p = 0.000\n",
    "+ 1 4: p = 0.000\n",
    "+ 1 5: p = 0.004\n",
    "+ 1 6: p = 0.012\n",
    "+ 1 9: p = 0.004\n",
    "+ 2 3: p = 0.003\n",
    "+ 2 4: p = 0.000\n",
    "+ 2 5: p = 0.000\n",
    "+ 2 6: p = 0.041\n",
    "+ 3 5: p = 0.000\n",
    "+ 3 6: p = 0.000\n",
    "+ 3 7: p = 0.000\n",
    "+ 3 8: p = 0.000\n",
    "+ 3 9: p = 0.013\n",
    "+ 4 5: p = 0.000\n",
    "+ 4 6: p = 0.000\n",
    "+ 4 7: p = 0.000\n",
    "+ 4 8: p = 0.000\n",
    "+ 4 9: p = 0.000\n",
    "+ 5 7: p = 0.001\n",
    "+ 5 8: p = 0.000\n",
    "+ 5 9: p = 0.000\n",
    "+ 6 7: p = 0.001\n",
    "+ 6 8: p = 0.000\n",
    "+ 6 9: p = 0.000\n",
    "+ 7 8: p = 0.050\n",
    "+ 7 9: p = 0.001\n",
    "\n"
   ],
   "cell_type": "markdown",
   "metadata": {}
  },
  {
   "cell_type": "code",
   "execution_count": 129,
   "metadata": {},
   "outputs": [
    {
     "output_type": "execute_result",
     "data": {
      "text/plain": [
       "<seaborn.axisgrid.FacetGrid at 0x13eb1b4f0>"
      ]
     },
     "metadata": {},
     "execution_count": 129
    },
    {
     "output_type": "display_data",
     "data": {
      "text/plain": "<Figure size 1847.38x360 with 5 Axes>",
      "image/svg+xml": "<?xml version=\"1.0\" encoding=\"utf-8\" standalone=\"no\"?>\n<!DOCTYPE svg PUBLIC \"-//W3C//DTD SVG 1.1//EN\"\n  \"http://www.w3.org/Graphics/SVG/1.1/DTD/svg11.dtd\">\n<!-- Created with matplotlib (https://matplotlib.org/) -->\n<svg height=\"365.754687pt\" version=\"1.1\" viewBox=\"0 0 1858.720073 365.754687\" width=\"1858.720073pt\" xmlns=\"http://www.w3.org/2000/svg\" xmlns:xlink=\"http://www.w3.org/1999/xlink\">\n <metadata>\n  <rdf:RDF xmlns:cc=\"http://creativecommons.org/ns#\" xmlns:dc=\"http://purl.org/dc/elements/1.1/\" xmlns:rdf=\"http://www.w3.org/1999/02/22-rdf-syntax-ns#\">\n   <cc:Work>\n    <dc:type rdf:resource=\"http://purl.org/dc/dcmitype/StillImage\"/>\n    <dc:date>2021-04-12T18:38:59.183437</dc:date>\n    <dc:format>image/svg+xml</dc:format>\n    <dc:creator>\n     <cc:Agent>\n      <dc:title>Matplotlib v3.3.4, https://matplotlib.org/</dc:title>\n     </cc:Agent>\n    </dc:creator>\n   </cc:Work>\n  </rdf:RDF>\n </metadata>\n <defs>\n  <style type=\"text/css\">*{stroke-linecap:butt;stroke-linejoin:round;}</style>\n </defs>\n <g id=\"figure_1\">\n  <g id=\"patch_1\">\n   <path d=\"M 0 365.754687 \nL 1858.720073 365.754687 \nL 1858.720073 -0 \nL 0 -0 \nz\n\" style=\"fill:none;\"/>\n  </g>\n  <g id=\"axes_1\">\n   <g id=\"patch_2\">\n    <path d=\"M 53.328125 328.198437 \nL 389.414463 328.198437 \nL 389.414463 20.798437 \nL 53.328125 20.798437 \nz\n\" style=\"fill:#ffffff;\"/>\n   </g>\n   <g id=\"patch_3\">\n    <path clip-path=\"url(#pf893e47687)\" d=\"M 61.730283 328.198437 \nL 95.338917 328.198437 \nL 95.338917 297.071453 \nL 61.730283 297.071453 \nz\n\" style=\"fill:#3274a1;\"/>\n   </g>\n   <g id=\"patch_4\">\n    <path clip-path=\"url(#pf893e47687)\" d=\"M 145.751868 328.198437 \nL 179.360502 328.198437 \nL 179.360502 314.948437 \nL 145.751868 314.948437 \nz\n\" style=\"fill:#3274a1;\"/>\n   </g>\n   <g id=\"patch_5\">\n    <path clip-path=\"url(#pf893e47687)\" d=\"M 229.773452 328.198437 \nL 263.382086 328.198437 \nL 263.382086 317.892882 \nL 229.773452 317.892882 \nz\n\" style=\"fill:#3274a1;\"/>\n   </g>\n   <g id=\"patch_6\">\n    <path clip-path=\"url(#pf893e47687)\" d=\"M 313.795037 328.198437 \nL 347.403671 328.198437 \nL 347.403671 307.587326 \nL 313.795037 307.587326 \nz\n\" style=\"fill:#3274a1;\"/>\n   </g>\n   <g id=\"patch_7\">\n    <path clip-path=\"url(#pf893e47687)\" d=\"M 95.338917 328.198437 \nL 128.947551 328.198437 \nL 128.947551 286.765898 \nL 95.338917 286.765898 \nz\n\" style=\"fill:#e1812c;\"/>\n   </g>\n   <g id=\"patch_8\">\n    <path clip-path=\"url(#pf893e47687)\" d=\"M 179.360502 328.198437 \nL 212.969135 328.198437 \nL 212.969135 314.527803 \nL 179.360502 314.527803 \nz\n\" style=\"fill:#e1812c;\"/>\n   </g>\n   <g id=\"patch_9\">\n    <path clip-path=\"url(#pf893e47687)\" d=\"M 263.382086 328.198437 \nL 296.99072 328.198437 \nL 296.99072 316.630977 \nL 263.382086 316.630977 \nz\n\" style=\"fill:#e1812c;\"/>\n   </g>\n   <g id=\"patch_10\">\n    <path clip-path=\"url(#pf893e47687)\" d=\"M 347.403671 328.198437 \nL 381.012304 328.198437 \nL 381.012304 299.595263 \nL 347.403671 299.595263 \nz\n\" style=\"fill:#e1812c;\"/>\n   </g>\n   <g id=\"matplotlib.axis_1\">\n    <g id=\"xtick_1\">\n     <g id=\"line2d_1\">\n      <defs>\n       <path d=\"M 0 0 \nL 0 3.5 \n\" id=\"m15741deeb0\" style=\"stroke:#000000;stroke-width:0.8;\"/>\n      </defs>\n      <g>\n       <use style=\"stroke:#000000;stroke-width:0.8;\" x=\"95.338917\" xlink:href=\"#m15741deeb0\" y=\"328.198437\"/>\n      </g>\n     </g>\n     <g id=\"text_1\">\n      <!-- Dependent -->\n      <g transform=\"translate(67.613136 342.796875)scale(0.1 -0.1)\">\n       <defs>\n        <path d=\"M 19.671875 64.796875 \nL 19.671875 8.109375 \nL 31.59375 8.109375 \nQ 46.6875 8.109375 53.6875 14.9375 \nQ 60.6875 21.78125 60.6875 36.53125 \nQ 60.6875 51.171875 53.6875 57.984375 \nQ 46.6875 64.796875 31.59375 64.796875 \nz\nM 9.8125 72.90625 \nL 30.078125 72.90625 \nQ 51.265625 72.90625 61.171875 64.09375 \nQ 71.09375 55.28125 71.09375 36.53125 \nQ 71.09375 17.671875 61.125 8.828125 \nQ 51.171875 0 30.078125 0 \nL 9.8125 0 \nz\n\" id=\"DejaVuSans-68\"/>\n        <path d=\"M 56.203125 29.59375 \nL 56.203125 25.203125 \nL 14.890625 25.203125 \nQ 15.484375 15.921875 20.484375 11.0625 \nQ 25.484375 6.203125 34.421875 6.203125 \nQ 39.59375 6.203125 44.453125 7.46875 \nQ 49.3125 8.734375 54.109375 11.28125 \nL 54.109375 2.78125 \nQ 49.265625 0.734375 44.1875 -0.34375 \nQ 39.109375 -1.421875 33.890625 -1.421875 \nQ 20.796875 -1.421875 13.15625 6.1875 \nQ 5.515625 13.8125 5.515625 26.8125 \nQ 5.515625 40.234375 12.765625 48.109375 \nQ 20.015625 56 32.328125 56 \nQ 43.359375 56 49.78125 48.890625 \nQ 56.203125 41.796875 56.203125 29.59375 \nz\nM 47.21875 32.234375 \nQ 47.125 39.59375 43.09375 43.984375 \nQ 39.0625 48.390625 32.421875 48.390625 \nQ 24.90625 48.390625 20.390625 44.140625 \nQ 15.875 39.890625 15.1875 32.171875 \nz\n\" id=\"DejaVuSans-101\"/>\n        <path d=\"M 18.109375 8.203125 \nL 18.109375 -20.796875 \nL 9.078125 -20.796875 \nL 9.078125 54.6875 \nL 18.109375 54.6875 \nL 18.109375 46.390625 \nQ 20.953125 51.265625 25.265625 53.625 \nQ 29.59375 56 35.59375 56 \nQ 45.5625 56 51.78125 48.09375 \nQ 58.015625 40.1875 58.015625 27.296875 \nQ 58.015625 14.40625 51.78125 6.484375 \nQ 45.5625 -1.421875 35.59375 -1.421875 \nQ 29.59375 -1.421875 25.265625 0.953125 \nQ 20.953125 3.328125 18.109375 8.203125 \nz\nM 48.6875 27.296875 \nQ 48.6875 37.203125 44.609375 42.84375 \nQ 40.53125 48.484375 33.40625 48.484375 \nQ 26.265625 48.484375 22.1875 42.84375 \nQ 18.109375 37.203125 18.109375 27.296875 \nQ 18.109375 17.390625 22.1875 11.75 \nQ 26.265625 6.109375 33.40625 6.109375 \nQ 40.53125 6.109375 44.609375 11.75 \nQ 48.6875 17.390625 48.6875 27.296875 \nz\n\" id=\"DejaVuSans-112\"/>\n        <path d=\"M 54.890625 33.015625 \nL 54.890625 0 \nL 45.90625 0 \nL 45.90625 32.71875 \nQ 45.90625 40.484375 42.875 44.328125 \nQ 39.84375 48.1875 33.796875 48.1875 \nQ 26.515625 48.1875 22.3125 43.546875 \nQ 18.109375 38.921875 18.109375 30.90625 \nL 18.109375 0 \nL 9.078125 0 \nL 9.078125 54.6875 \nL 18.109375 54.6875 \nL 18.109375 46.1875 \nQ 21.34375 51.125 25.703125 53.5625 \nQ 30.078125 56 35.796875 56 \nQ 45.21875 56 50.046875 50.171875 \nQ 54.890625 44.34375 54.890625 33.015625 \nz\n\" id=\"DejaVuSans-110\"/>\n        <path d=\"M 45.40625 46.390625 \nL 45.40625 75.984375 \nL 54.390625 75.984375 \nL 54.390625 0 \nL 45.40625 0 \nL 45.40625 8.203125 \nQ 42.578125 3.328125 38.25 0.953125 \nQ 33.9375 -1.421875 27.875 -1.421875 \nQ 17.96875 -1.421875 11.734375 6.484375 \nQ 5.515625 14.40625 5.515625 27.296875 \nQ 5.515625 40.1875 11.734375 48.09375 \nQ 17.96875 56 27.875 56 \nQ 33.9375 56 38.25 53.625 \nQ 42.578125 51.265625 45.40625 46.390625 \nz\nM 14.796875 27.296875 \nQ 14.796875 17.390625 18.875 11.75 \nQ 22.953125 6.109375 30.078125 6.109375 \nQ 37.203125 6.109375 41.296875 11.75 \nQ 45.40625 17.390625 45.40625 27.296875 \nQ 45.40625 37.203125 41.296875 42.84375 \nQ 37.203125 48.484375 30.078125 48.484375 \nQ 22.953125 48.484375 18.875 42.84375 \nQ 14.796875 37.203125 14.796875 27.296875 \nz\n\" id=\"DejaVuSans-100\"/>\n        <path d=\"M 18.3125 70.21875 \nL 18.3125 54.6875 \nL 36.8125 54.6875 \nL 36.8125 47.703125 \nL 18.3125 47.703125 \nL 18.3125 18.015625 \nQ 18.3125 11.328125 20.140625 9.421875 \nQ 21.96875 7.515625 27.59375 7.515625 \nL 36.8125 7.515625 \nL 36.8125 0 \nL 27.59375 0 \nQ 17.1875 0 13.234375 3.875 \nQ 9.28125 7.765625 9.28125 18.015625 \nL 9.28125 47.703125 \nL 2.6875 47.703125 \nL 2.6875 54.6875 \nL 9.28125 54.6875 \nL 9.28125 70.21875 \nz\n\" id=\"DejaVuSans-116\"/>\n       </defs>\n       <use xlink:href=\"#DejaVuSans-68\"/>\n       <use x=\"77.001953\" xlink:href=\"#DejaVuSans-101\"/>\n       <use x=\"138.525391\" xlink:href=\"#DejaVuSans-112\"/>\n       <use x=\"202.001953\" xlink:href=\"#DejaVuSans-101\"/>\n       <use x=\"263.525391\" xlink:href=\"#DejaVuSans-110\"/>\n       <use x=\"326.904297\" xlink:href=\"#DejaVuSans-100\"/>\n       <use x=\"390.380859\" xlink:href=\"#DejaVuSans-101\"/>\n       <use x=\"451.904297\" xlink:href=\"#DejaVuSans-110\"/>\n       <use x=\"515.283203\" xlink:href=\"#DejaVuSans-116\"/>\n      </g>\n     </g>\n    </g>\n    <g id=\"xtick_2\">\n     <g id=\"line2d_2\">\n      <g>\n       <use style=\"stroke:#000000;stroke-width:0.8;\" x=\"179.360502\" xlink:href=\"#m15741deeb0\" y=\"328.198437\"/>\n      </g>\n     </g>\n     <g id=\"text_2\">\n      <!-- Recovered -->\n      <g transform=\"translate(152.996439 342.796875)scale(0.1 -0.1)\">\n       <defs>\n        <path d=\"M 44.390625 34.1875 \nQ 47.5625 33.109375 50.5625 29.59375 \nQ 53.5625 26.078125 56.59375 19.921875 \nL 66.609375 0 \nL 56 0 \nL 46.6875 18.703125 \nQ 43.0625 26.03125 39.671875 28.421875 \nQ 36.28125 30.8125 30.421875 30.8125 \nL 19.671875 30.8125 \nL 19.671875 0 \nL 9.8125 0 \nL 9.8125 72.90625 \nL 32.078125 72.90625 \nQ 44.578125 72.90625 50.734375 67.671875 \nQ 56.890625 62.453125 56.890625 51.90625 \nQ 56.890625 45.015625 53.6875 40.46875 \nQ 50.484375 35.9375 44.390625 34.1875 \nz\nM 19.671875 64.796875 \nL 19.671875 38.921875 \nL 32.078125 38.921875 \nQ 39.203125 38.921875 42.84375 42.21875 \nQ 46.484375 45.515625 46.484375 51.90625 \nQ 46.484375 58.296875 42.84375 61.546875 \nQ 39.203125 64.796875 32.078125 64.796875 \nz\n\" id=\"DejaVuSans-82\"/>\n        <path d=\"M 48.78125 52.59375 \nL 48.78125 44.1875 \nQ 44.96875 46.296875 41.140625 47.34375 \nQ 37.3125 48.390625 33.40625 48.390625 \nQ 24.65625 48.390625 19.8125 42.84375 \nQ 14.984375 37.3125 14.984375 27.296875 \nQ 14.984375 17.28125 19.8125 11.734375 \nQ 24.65625 6.203125 33.40625 6.203125 \nQ 37.3125 6.203125 41.140625 7.25 \nQ 44.96875 8.296875 48.78125 10.40625 \nL 48.78125 2.09375 \nQ 45.015625 0.34375 40.984375 -0.53125 \nQ 36.96875 -1.421875 32.421875 -1.421875 \nQ 20.0625 -1.421875 12.78125 6.34375 \nQ 5.515625 14.109375 5.515625 27.296875 \nQ 5.515625 40.671875 12.859375 48.328125 \nQ 20.21875 56 33.015625 56 \nQ 37.15625 56 41.109375 55.140625 \nQ 45.0625 54.296875 48.78125 52.59375 \nz\n\" id=\"DejaVuSans-99\"/>\n        <path d=\"M 30.609375 48.390625 \nQ 23.390625 48.390625 19.1875 42.75 \nQ 14.984375 37.109375 14.984375 27.296875 \nQ 14.984375 17.484375 19.15625 11.84375 \nQ 23.34375 6.203125 30.609375 6.203125 \nQ 37.796875 6.203125 41.984375 11.859375 \nQ 46.1875 17.53125 46.1875 27.296875 \nQ 46.1875 37.015625 41.984375 42.703125 \nQ 37.796875 48.390625 30.609375 48.390625 \nz\nM 30.609375 56 \nQ 42.328125 56 49.015625 48.375 \nQ 55.71875 40.765625 55.71875 27.296875 \nQ 55.71875 13.875 49.015625 6.21875 \nQ 42.328125 -1.421875 30.609375 -1.421875 \nQ 18.84375 -1.421875 12.171875 6.21875 \nQ 5.515625 13.875 5.515625 27.296875 \nQ 5.515625 40.765625 12.171875 48.375 \nQ 18.84375 56 30.609375 56 \nz\n\" id=\"DejaVuSans-111\"/>\n        <path d=\"M 2.984375 54.6875 \nL 12.5 54.6875 \nL 29.59375 8.796875 \nL 46.6875 54.6875 \nL 56.203125 54.6875 \nL 35.6875 0 \nL 23.484375 0 \nz\n\" id=\"DejaVuSans-118\"/>\n        <path d=\"M 41.109375 46.296875 \nQ 39.59375 47.171875 37.8125 47.578125 \nQ 36.03125 48 33.890625 48 \nQ 26.265625 48 22.1875 43.046875 \nQ 18.109375 38.09375 18.109375 28.8125 \nL 18.109375 0 \nL 9.078125 0 \nL 9.078125 54.6875 \nL 18.109375 54.6875 \nL 18.109375 46.1875 \nQ 20.953125 51.171875 25.484375 53.578125 \nQ 30.03125 56 36.53125 56 \nQ 37.453125 56 38.578125 55.875 \nQ 39.703125 55.765625 41.0625 55.515625 \nz\n\" id=\"DejaVuSans-114\"/>\n       </defs>\n       <use xlink:href=\"#DejaVuSans-82\"/>\n       <use x=\"64.982422\" xlink:href=\"#DejaVuSans-101\"/>\n       <use x=\"126.505859\" xlink:href=\"#DejaVuSans-99\"/>\n       <use x=\"181.486328\" xlink:href=\"#DejaVuSans-111\"/>\n       <use x=\"242.667969\" xlink:href=\"#DejaVuSans-118\"/>\n       <use x=\"301.847656\" xlink:href=\"#DejaVuSans-101\"/>\n       <use x=\"363.371094\" xlink:href=\"#DejaVuSans-114\"/>\n       <use x=\"402.234375\" xlink:href=\"#DejaVuSans-101\"/>\n       <use x=\"463.757812\" xlink:href=\"#DejaVuSans-100\"/>\n      </g>\n     </g>\n    </g>\n    <g id=\"xtick_3\">\n     <g id=\"line2d_3\">\n      <g>\n       <use style=\"stroke:#000000;stroke-width:0.8;\" x=\"263.382086\" xlink:href=\"#m15741deeb0\" y=\"328.198437\"/>\n      </g>\n     </g>\n     <g id=\"text_3\">\n      <!-- Not recovered -->\n      <g transform=\"translate(227.975055 342.796875)scale(0.1 -0.1)\">\n       <defs>\n        <path d=\"M 9.8125 72.90625 \nL 23.09375 72.90625 \nL 55.421875 11.921875 \nL 55.421875 72.90625 \nL 64.984375 72.90625 \nL 64.984375 0 \nL 51.703125 0 \nL 19.390625 60.984375 \nL 19.390625 0 \nL 9.8125 0 \nz\n\" id=\"DejaVuSans-78\"/>\n        <path id=\"DejaVuSans-32\"/>\n       </defs>\n       <use xlink:href=\"#DejaVuSans-78\"/>\n       <use x=\"74.804688\" xlink:href=\"#DejaVuSans-111\"/>\n       <use x=\"135.986328\" xlink:href=\"#DejaVuSans-116\"/>\n       <use x=\"175.195312\" xlink:href=\"#DejaVuSans-32\"/>\n       <use x=\"206.982422\" xlink:href=\"#DejaVuSans-114\"/>\n       <use x=\"245.845703\" xlink:href=\"#DejaVuSans-101\"/>\n       <use x=\"307.369141\" xlink:href=\"#DejaVuSans-99\"/>\n       <use x=\"362.349609\" xlink:href=\"#DejaVuSans-111\"/>\n       <use x=\"423.53125\" xlink:href=\"#DejaVuSans-118\"/>\n       <use x=\"482.710938\" xlink:href=\"#DejaVuSans-101\"/>\n       <use x=\"544.234375\" xlink:href=\"#DejaVuSans-114\"/>\n       <use x=\"583.097656\" xlink:href=\"#DejaVuSans-101\"/>\n       <use x=\"644.621094\" xlink:href=\"#DejaVuSans-100\"/>\n      </g>\n     </g>\n    </g>\n    <g id=\"xtick_4\">\n     <g id=\"line2d_4\">\n      <g>\n       <use style=\"stroke:#000000;stroke-width:0.8;\" x=\"347.403671\" xlink:href=\"#m15741deeb0\" y=\"328.198437\"/>\n      </g>\n     </g>\n     <g id=\"text_4\">\n      <!-- Dead -->\n      <g transform=\"translate(334.238827 342.796875)scale(0.1 -0.1)\">\n       <defs>\n        <path d=\"M 34.28125 27.484375 \nQ 23.390625 27.484375 19.1875 25 \nQ 14.984375 22.515625 14.984375 16.5 \nQ 14.984375 11.71875 18.140625 8.90625 \nQ 21.296875 6.109375 26.703125 6.109375 \nQ 34.1875 6.109375 38.703125 11.40625 \nQ 43.21875 16.703125 43.21875 25.484375 \nL 43.21875 27.484375 \nz\nM 52.203125 31.203125 \nL 52.203125 0 \nL 43.21875 0 \nL 43.21875 8.296875 \nQ 40.140625 3.328125 35.546875 0.953125 \nQ 30.953125 -1.421875 24.3125 -1.421875 \nQ 15.921875 -1.421875 10.953125 3.296875 \nQ 6 8.015625 6 15.921875 \nQ 6 25.140625 12.171875 29.828125 \nQ 18.359375 34.515625 30.609375 34.515625 \nL 43.21875 34.515625 \nL 43.21875 35.40625 \nQ 43.21875 41.609375 39.140625 45 \nQ 35.0625 48.390625 27.6875 48.390625 \nQ 23 48.390625 18.546875 47.265625 \nQ 14.109375 46.140625 10.015625 43.890625 \nL 10.015625 52.203125 \nQ 14.9375 54.109375 19.578125 55.046875 \nQ 24.21875 56 28.609375 56 \nQ 40.484375 56 46.34375 49.84375 \nQ 52.203125 43.703125 52.203125 31.203125 \nz\n\" id=\"DejaVuSans-97\"/>\n       </defs>\n       <use xlink:href=\"#DejaVuSans-68\"/>\n       <use x=\"77.001953\" xlink:href=\"#DejaVuSans-101\"/>\n       <use x=\"138.525391\" xlink:href=\"#DejaVuSans-97\"/>\n       <use x=\"199.804688\" xlink:href=\"#DejaVuSans-100\"/>\n      </g>\n     </g>\n    </g>\n    <g id=\"text_5\">\n     <!-- OCCODE -->\n     <g transform=\"translate(199.507231 356.475)scale(0.1 -0.1)\">\n      <defs>\n       <path d=\"M 39.40625 66.21875 \nQ 28.65625 66.21875 22.328125 58.203125 \nQ 16.015625 50.203125 16.015625 36.375 \nQ 16.015625 22.609375 22.328125 14.59375 \nQ 28.65625 6.59375 39.40625 6.59375 \nQ 50.140625 6.59375 56.421875 14.59375 \nQ 62.703125 22.609375 62.703125 36.375 \nQ 62.703125 50.203125 56.421875 58.203125 \nQ 50.140625 66.21875 39.40625 66.21875 \nz\nM 39.40625 74.21875 \nQ 54.734375 74.21875 63.90625 63.9375 \nQ 73.09375 53.65625 73.09375 36.375 \nQ 73.09375 19.140625 63.90625 8.859375 \nQ 54.734375 -1.421875 39.40625 -1.421875 \nQ 24.03125 -1.421875 14.8125 8.828125 \nQ 5.609375 19.09375 5.609375 36.375 \nQ 5.609375 53.65625 14.8125 63.9375 \nQ 24.03125 74.21875 39.40625 74.21875 \nz\n\" id=\"DejaVuSans-79\"/>\n       <path d=\"M 64.40625 67.28125 \nL 64.40625 56.890625 \nQ 59.421875 61.53125 53.78125 63.8125 \nQ 48.140625 66.109375 41.796875 66.109375 \nQ 29.296875 66.109375 22.65625 58.46875 \nQ 16.015625 50.828125 16.015625 36.375 \nQ 16.015625 21.96875 22.65625 14.328125 \nQ 29.296875 6.6875 41.796875 6.6875 \nQ 48.140625 6.6875 53.78125 8.984375 \nQ 59.421875 11.28125 64.40625 15.921875 \nL 64.40625 5.609375 \nQ 59.234375 2.09375 53.4375 0.328125 \nQ 47.65625 -1.421875 41.21875 -1.421875 \nQ 24.65625 -1.421875 15.125 8.703125 \nQ 5.609375 18.84375 5.609375 36.375 \nQ 5.609375 53.953125 15.125 64.078125 \nQ 24.65625 74.21875 41.21875 74.21875 \nQ 47.75 74.21875 53.53125 72.484375 \nQ 59.328125 70.75 64.40625 67.28125 \nz\n\" id=\"DejaVuSans-67\"/>\n       <path d=\"M 9.8125 72.90625 \nL 55.90625 72.90625 \nL 55.90625 64.59375 \nL 19.671875 64.59375 \nL 19.671875 43.015625 \nL 54.390625 43.015625 \nL 54.390625 34.71875 \nL 19.671875 34.71875 \nL 19.671875 8.296875 \nL 56.78125 8.296875 \nL 56.78125 0 \nL 9.8125 0 \nz\n\" id=\"DejaVuSans-69\"/>\n      </defs>\n      <use xlink:href=\"#DejaVuSans-79\"/>\n      <use x=\"78.710938\" xlink:href=\"#DejaVuSans-67\"/>\n      <use x=\"148.535156\" xlink:href=\"#DejaVuSans-67\"/>\n      <use x=\"218.359375\" xlink:href=\"#DejaVuSans-79\"/>\n      <use x=\"297.070312\" xlink:href=\"#DejaVuSans-68\"/>\n      <use x=\"374.072266\" xlink:href=\"#DejaVuSans-69\"/>\n     </g>\n    </g>\n   </g>\n   <g id=\"matplotlib.axis_2\">\n    <g id=\"ytick_1\">\n     <g id=\"line2d_5\">\n      <defs>\n       <path d=\"M 0 0 \nL -3.5 0 \n\" id=\"m74cfa3368d\" style=\"stroke:#000000;stroke-width:0.8;\"/>\n      </defs>\n      <g>\n       <use style=\"stroke:#000000;stroke-width:0.8;\" x=\"53.328125\" xlink:href=\"#m74cfa3368d\" y=\"328.198437\"/>\n      </g>\n     </g>\n     <g id=\"text_6\">\n      <!-- 0 -->\n      <g transform=\"translate(39.965625 331.997656)scale(0.1 -0.1)\">\n       <defs>\n        <path d=\"M 31.78125 66.40625 \nQ 24.171875 66.40625 20.328125 58.90625 \nQ 16.5 51.421875 16.5 36.375 \nQ 16.5 21.390625 20.328125 13.890625 \nQ 24.171875 6.390625 31.78125 6.390625 \nQ 39.453125 6.390625 43.28125 13.890625 \nQ 47.125 21.390625 47.125 36.375 \nQ 47.125 51.421875 43.28125 58.90625 \nQ 39.453125 66.40625 31.78125 66.40625 \nz\nM 31.78125 74.21875 \nQ 44.046875 74.21875 50.515625 64.515625 \nQ 56.984375 54.828125 56.984375 36.375 \nQ 56.984375 17.96875 50.515625 8.265625 \nQ 44.046875 -1.421875 31.78125 -1.421875 \nQ 19.53125 -1.421875 13.0625 8.265625 \nQ 6.59375 17.96875 6.59375 36.375 \nQ 6.59375 54.828125 13.0625 64.515625 \nQ 19.53125 74.21875 31.78125 74.21875 \nz\n\" id=\"DejaVuSans-48\"/>\n       </defs>\n       <use xlink:href=\"#DejaVuSans-48\"/>\n      </g>\n     </g>\n    </g>\n    <g id=\"ytick_2\">\n     <g id=\"line2d_6\">\n      <g>\n       <use style=\"stroke:#000000;stroke-width:0.8;\" x=\"53.328125\" xlink:href=\"#m74cfa3368d\" y=\"286.134945\"/>\n      </g>\n     </g>\n     <g id=\"text_7\">\n      <!-- 200 -->\n      <g transform=\"translate(27.240625 289.934164)scale(0.1 -0.1)\">\n       <defs>\n        <path d=\"M 19.1875 8.296875 \nL 53.609375 8.296875 \nL 53.609375 0 \nL 7.328125 0 \nL 7.328125 8.296875 \nQ 12.9375 14.109375 22.625 23.890625 \nQ 32.328125 33.6875 34.8125 36.53125 \nQ 39.546875 41.84375 41.421875 45.53125 \nQ 43.3125 49.21875 43.3125 52.78125 \nQ 43.3125 58.59375 39.234375 62.25 \nQ 35.15625 65.921875 28.609375 65.921875 \nQ 23.96875 65.921875 18.8125 64.3125 \nQ 13.671875 62.703125 7.8125 59.421875 \nL 7.8125 69.390625 \nQ 13.765625 71.78125 18.9375 73 \nQ 24.125 74.21875 28.421875 74.21875 \nQ 39.75 74.21875 46.484375 68.546875 \nQ 53.21875 62.890625 53.21875 53.421875 \nQ 53.21875 48.921875 51.53125 44.890625 \nQ 49.859375 40.875 45.40625 35.40625 \nQ 44.1875 33.984375 37.640625 27.21875 \nQ 31.109375 20.453125 19.1875 8.296875 \nz\n\" id=\"DejaVuSans-50\"/>\n       </defs>\n       <use xlink:href=\"#DejaVuSans-50\"/>\n       <use x=\"63.623047\" xlink:href=\"#DejaVuSans-48\"/>\n       <use x=\"127.246094\" xlink:href=\"#DejaVuSans-48\"/>\n      </g>\n     </g>\n    </g>\n    <g id=\"ytick_3\">\n     <g id=\"line2d_7\">\n      <g>\n       <use style=\"stroke:#000000;stroke-width:0.8;\" x=\"53.328125\" xlink:href=\"#m74cfa3368d\" y=\"244.071453\"/>\n      </g>\n     </g>\n     <g id=\"text_8\">\n      <!-- 400 -->\n      <g transform=\"translate(27.240625 247.870672)scale(0.1 -0.1)\">\n       <defs>\n        <path d=\"M 37.796875 64.3125 \nL 12.890625 25.390625 \nL 37.796875 25.390625 \nz\nM 35.203125 72.90625 \nL 47.609375 72.90625 \nL 47.609375 25.390625 \nL 58.015625 25.390625 \nL 58.015625 17.1875 \nL 47.609375 17.1875 \nL 47.609375 0 \nL 37.796875 0 \nL 37.796875 17.1875 \nL 4.890625 17.1875 \nL 4.890625 26.703125 \nz\n\" id=\"DejaVuSans-52\"/>\n       </defs>\n       <use xlink:href=\"#DejaVuSans-52\"/>\n       <use x=\"63.623047\" xlink:href=\"#DejaVuSans-48\"/>\n       <use x=\"127.246094\" xlink:href=\"#DejaVuSans-48\"/>\n      </g>\n     </g>\n    </g>\n    <g id=\"ytick_4\">\n     <g id=\"line2d_8\">\n      <g>\n       <use style=\"stroke:#000000;stroke-width:0.8;\" x=\"53.328125\" xlink:href=\"#m74cfa3368d\" y=\"202.007961\"/>\n      </g>\n     </g>\n     <g id=\"text_9\">\n      <!-- 600 -->\n      <g transform=\"translate(27.240625 205.80718)scale(0.1 -0.1)\">\n       <defs>\n        <path d=\"M 33.015625 40.375 \nQ 26.375 40.375 22.484375 35.828125 \nQ 18.609375 31.296875 18.609375 23.390625 \nQ 18.609375 15.53125 22.484375 10.953125 \nQ 26.375 6.390625 33.015625 6.390625 \nQ 39.65625 6.390625 43.53125 10.953125 \nQ 47.40625 15.53125 47.40625 23.390625 \nQ 47.40625 31.296875 43.53125 35.828125 \nQ 39.65625 40.375 33.015625 40.375 \nz\nM 52.59375 71.296875 \nL 52.59375 62.3125 \nQ 48.875 64.0625 45.09375 64.984375 \nQ 41.3125 65.921875 37.59375 65.921875 \nQ 27.828125 65.921875 22.671875 59.328125 \nQ 17.53125 52.734375 16.796875 39.40625 \nQ 19.671875 43.65625 24.015625 45.921875 \nQ 28.375 48.1875 33.59375 48.1875 \nQ 44.578125 48.1875 50.953125 41.515625 \nQ 57.328125 34.859375 57.328125 23.390625 \nQ 57.328125 12.15625 50.6875 5.359375 \nQ 44.046875 -1.421875 33.015625 -1.421875 \nQ 20.359375 -1.421875 13.671875 8.265625 \nQ 6.984375 17.96875 6.984375 36.375 \nQ 6.984375 53.65625 15.1875 63.9375 \nQ 23.390625 74.21875 37.203125 74.21875 \nQ 40.921875 74.21875 44.703125 73.484375 \nQ 48.484375 72.75 52.59375 71.296875 \nz\n\" id=\"DejaVuSans-54\"/>\n       </defs>\n       <use xlink:href=\"#DejaVuSans-54\"/>\n       <use x=\"63.623047\" xlink:href=\"#DejaVuSans-48\"/>\n       <use x=\"127.246094\" xlink:href=\"#DejaVuSans-48\"/>\n      </g>\n     </g>\n    </g>\n    <g id=\"ytick_5\">\n     <g id=\"line2d_9\">\n      <g>\n       <use style=\"stroke:#000000;stroke-width:0.8;\" x=\"53.328125\" xlink:href=\"#m74cfa3368d\" y=\"159.944469\"/>\n      </g>\n     </g>\n     <g id=\"text_10\">\n      <!-- 800 -->\n      <g transform=\"translate(27.240625 163.743688)scale(0.1 -0.1)\">\n       <defs>\n        <path d=\"M 31.78125 34.625 \nQ 24.75 34.625 20.71875 30.859375 \nQ 16.703125 27.09375 16.703125 20.515625 \nQ 16.703125 13.921875 20.71875 10.15625 \nQ 24.75 6.390625 31.78125 6.390625 \nQ 38.8125 6.390625 42.859375 10.171875 \nQ 46.921875 13.96875 46.921875 20.515625 \nQ 46.921875 27.09375 42.890625 30.859375 \nQ 38.875 34.625 31.78125 34.625 \nz\nM 21.921875 38.8125 \nQ 15.578125 40.375 12.03125 44.71875 \nQ 8.5 49.078125 8.5 55.328125 \nQ 8.5 64.0625 14.71875 69.140625 \nQ 20.953125 74.21875 31.78125 74.21875 \nQ 42.671875 74.21875 48.875 69.140625 \nQ 55.078125 64.0625 55.078125 55.328125 \nQ 55.078125 49.078125 51.53125 44.71875 \nQ 48 40.375 41.703125 38.8125 \nQ 48.828125 37.15625 52.796875 32.3125 \nQ 56.78125 27.484375 56.78125 20.515625 \nQ 56.78125 9.90625 50.3125 4.234375 \nQ 43.84375 -1.421875 31.78125 -1.421875 \nQ 19.734375 -1.421875 13.25 4.234375 \nQ 6.78125 9.90625 6.78125 20.515625 \nQ 6.78125 27.484375 10.78125 32.3125 \nQ 14.796875 37.15625 21.921875 38.8125 \nz\nM 18.3125 54.390625 \nQ 18.3125 48.734375 21.84375 45.5625 \nQ 25.390625 42.390625 31.78125 42.390625 \nQ 38.140625 42.390625 41.71875 45.5625 \nQ 45.3125 48.734375 45.3125 54.390625 \nQ 45.3125 60.0625 41.71875 63.234375 \nQ 38.140625 66.40625 31.78125 66.40625 \nQ 25.390625 66.40625 21.84375 63.234375 \nQ 18.3125 60.0625 18.3125 54.390625 \nz\n\" id=\"DejaVuSans-56\"/>\n       </defs>\n       <use xlink:href=\"#DejaVuSans-56\"/>\n       <use x=\"63.623047\" xlink:href=\"#DejaVuSans-48\"/>\n       <use x=\"127.246094\" xlink:href=\"#DejaVuSans-48\"/>\n      </g>\n     </g>\n    </g>\n    <g id=\"ytick_6\">\n     <g id=\"line2d_10\">\n      <g>\n       <use style=\"stroke:#000000;stroke-width:0.8;\" x=\"53.328125\" xlink:href=\"#m74cfa3368d\" y=\"117.880977\"/>\n      </g>\n     </g>\n     <g id=\"text_11\">\n      <!-- 1000 -->\n      <g transform=\"translate(20.878125 121.680196)scale(0.1 -0.1)\">\n       <defs>\n        <path d=\"M 12.40625 8.296875 \nL 28.515625 8.296875 \nL 28.515625 63.921875 \nL 10.984375 60.40625 \nL 10.984375 69.390625 \nL 28.421875 72.90625 \nL 38.28125 72.90625 \nL 38.28125 8.296875 \nL 54.390625 8.296875 \nL 54.390625 0 \nL 12.40625 0 \nz\n\" id=\"DejaVuSans-49\"/>\n       </defs>\n       <use xlink:href=\"#DejaVuSans-49\"/>\n       <use x=\"63.623047\" xlink:href=\"#DejaVuSans-48\"/>\n       <use x=\"127.246094\" xlink:href=\"#DejaVuSans-48\"/>\n       <use x=\"190.869141\" xlink:href=\"#DejaVuSans-48\"/>\n      </g>\n     </g>\n    </g>\n    <g id=\"ytick_7\">\n     <g id=\"line2d_11\">\n      <g>\n       <use style=\"stroke:#000000;stroke-width:0.8;\" x=\"53.328125\" xlink:href=\"#m74cfa3368d\" y=\"75.817485\"/>\n      </g>\n     </g>\n     <g id=\"text_12\">\n      <!-- 1200 -->\n      <g transform=\"translate(20.878125 79.616704)scale(0.1 -0.1)\">\n       <use xlink:href=\"#DejaVuSans-49\"/>\n       <use x=\"63.623047\" xlink:href=\"#DejaVuSans-50\"/>\n       <use x=\"127.246094\" xlink:href=\"#DejaVuSans-48\"/>\n       <use x=\"190.869141\" xlink:href=\"#DejaVuSans-48\"/>\n      </g>\n     </g>\n    </g>\n    <g id=\"ytick_8\">\n     <g id=\"line2d_12\">\n      <g>\n       <use style=\"stroke:#000000;stroke-width:0.8;\" x=\"53.328125\" xlink:href=\"#m74cfa3368d\" y=\"33.753993\"/>\n      </g>\n     </g>\n     <g id=\"text_13\">\n      <!-- 1400 -->\n      <g transform=\"translate(20.878125 37.553212)scale(0.1 -0.1)\">\n       <use xlink:href=\"#DejaVuSans-49\"/>\n       <use x=\"63.623047\" xlink:href=\"#DejaVuSans-52\"/>\n       <use x=\"127.246094\" xlink:href=\"#DejaVuSans-48\"/>\n       <use x=\"190.869141\" xlink:href=\"#DejaVuSans-48\"/>\n      </g>\n     </g>\n    </g>\n    <g id=\"text_14\">\n     <!-- count -->\n     <g transform=\"translate(14.798437 188.604687)rotate(-90)scale(0.1 -0.1)\">\n      <defs>\n       <path d=\"M 8.5 21.578125 \nL 8.5 54.6875 \nL 17.484375 54.6875 \nL 17.484375 21.921875 \nQ 17.484375 14.15625 20.5 10.265625 \nQ 23.53125 6.390625 29.59375 6.390625 \nQ 36.859375 6.390625 41.078125 11.03125 \nQ 45.3125 15.671875 45.3125 23.6875 \nL 45.3125 54.6875 \nL 54.296875 54.6875 \nL 54.296875 0 \nL 45.3125 0 \nL 45.3125 8.40625 \nQ 42.046875 3.421875 37.71875 1 \nQ 33.40625 -1.421875 27.6875 -1.421875 \nQ 18.265625 -1.421875 13.375 4.4375 \nQ 8.5 10.296875 8.5 21.578125 \nz\nM 31.109375 56 \nz\n\" id=\"DejaVuSans-117\"/>\n      </defs>\n      <use xlink:href=\"#DejaVuSans-99\"/>\n      <use x=\"54.980469\" xlink:href=\"#DejaVuSans-111\"/>\n      <use x=\"116.162109\" xlink:href=\"#DejaVuSans-117\"/>\n      <use x=\"179.541016\" xlink:href=\"#DejaVuSans-110\"/>\n      <use x=\"242.919922\" xlink:href=\"#DejaVuSans-116\"/>\n     </g>\n    </g>\n   </g>\n   <g id=\"patch_11\">\n    <path d=\"M 53.328125 328.198437 \nL 53.328125 20.798437 \n\" style=\"fill:none;stroke:#000000;stroke-linecap:square;stroke-linejoin:miter;stroke-width:0.8;\"/>\n   </g>\n   <g id=\"patch_12\">\n    <path d=\"M 53.328125 328.198437 \nL 389.414463 328.198437 \n\" style=\"fill:none;stroke:#000000;stroke-linecap:square;stroke-linejoin:miter;stroke-width:0.8;\"/>\n   </g>\n   <g id=\"text_15\">\n    <!-- RDELAY_bin = 0 - 3 -->\n    <g transform=\"translate(172.958013 14.798437)scale(0.1 -0.1)\">\n     <defs>\n      <path d=\"M 9.8125 72.90625 \nL 19.671875 72.90625 \nL 19.671875 8.296875 \nL 55.171875 8.296875 \nL 55.171875 0 \nL 9.8125 0 \nz\n\" id=\"DejaVuSans-76\"/>\n      <path d=\"M 34.1875 63.1875 \nL 20.796875 26.90625 \nL 47.609375 26.90625 \nz\nM 28.609375 72.90625 \nL 39.796875 72.90625 \nL 67.578125 0 \nL 57.328125 0 \nL 50.6875 18.703125 \nL 17.828125 18.703125 \nL 11.1875 0 \nL 0.78125 0 \nz\n\" id=\"DejaVuSans-65\"/>\n      <path d=\"M -0.203125 72.90625 \nL 10.40625 72.90625 \nL 30.609375 42.921875 \nL 50.6875 72.90625 \nL 61.28125 72.90625 \nL 35.5 34.71875 \nL 35.5 0 \nL 25.59375 0 \nL 25.59375 34.71875 \nz\n\" id=\"DejaVuSans-89\"/>\n      <path d=\"M 50.984375 -16.609375 \nL 50.984375 -23.578125 \nL -0.984375 -23.578125 \nL -0.984375 -16.609375 \nz\n\" id=\"DejaVuSans-95\"/>\n      <path d=\"M 48.6875 27.296875 \nQ 48.6875 37.203125 44.609375 42.84375 \nQ 40.53125 48.484375 33.40625 48.484375 \nQ 26.265625 48.484375 22.1875 42.84375 \nQ 18.109375 37.203125 18.109375 27.296875 \nQ 18.109375 17.390625 22.1875 11.75 \nQ 26.265625 6.109375 33.40625 6.109375 \nQ 40.53125 6.109375 44.609375 11.75 \nQ 48.6875 17.390625 48.6875 27.296875 \nz\nM 18.109375 46.390625 \nQ 20.953125 51.265625 25.265625 53.625 \nQ 29.59375 56 35.59375 56 \nQ 45.5625 56 51.78125 48.09375 \nQ 58.015625 40.1875 58.015625 27.296875 \nQ 58.015625 14.40625 51.78125 6.484375 \nQ 45.5625 -1.421875 35.59375 -1.421875 \nQ 29.59375 -1.421875 25.265625 0.953125 \nQ 20.953125 3.328125 18.109375 8.203125 \nL 18.109375 0 \nL 9.078125 0 \nL 9.078125 75.984375 \nL 18.109375 75.984375 \nz\n\" id=\"DejaVuSans-98\"/>\n      <path d=\"M 9.421875 54.6875 \nL 18.40625 54.6875 \nL 18.40625 0 \nL 9.421875 0 \nz\nM 9.421875 75.984375 \nL 18.40625 75.984375 \nL 18.40625 64.59375 \nL 9.421875 64.59375 \nz\n\" id=\"DejaVuSans-105\"/>\n      <path d=\"M 10.59375 45.40625 \nL 73.1875 45.40625 \nL 73.1875 37.203125 \nL 10.59375 37.203125 \nz\nM 10.59375 25.484375 \nL 73.1875 25.484375 \nL 73.1875 17.1875 \nL 10.59375 17.1875 \nz\n\" id=\"DejaVuSans-61\"/>\n      <path d=\"M 4.890625 31.390625 \nL 31.203125 31.390625 \nL 31.203125 23.390625 \nL 4.890625 23.390625 \nz\n\" id=\"DejaVuSans-45\"/>\n      <path d=\"M 40.578125 39.3125 \nQ 47.65625 37.796875 51.625 33 \nQ 55.609375 28.21875 55.609375 21.1875 \nQ 55.609375 10.40625 48.1875 4.484375 \nQ 40.765625 -1.421875 27.09375 -1.421875 \nQ 22.515625 -1.421875 17.65625 -0.515625 \nQ 12.796875 0.390625 7.625 2.203125 \nL 7.625 11.71875 \nQ 11.71875 9.328125 16.59375 8.109375 \nQ 21.484375 6.890625 26.8125 6.890625 \nQ 36.078125 6.890625 40.9375 10.546875 \nQ 45.796875 14.203125 45.796875 21.1875 \nQ 45.796875 27.640625 41.28125 31.265625 \nQ 36.765625 34.90625 28.71875 34.90625 \nL 20.21875 34.90625 \nL 20.21875 43.015625 \nL 29.109375 43.015625 \nQ 36.375 43.015625 40.234375 45.921875 \nQ 44.09375 48.828125 44.09375 54.296875 \nQ 44.09375 59.90625 40.109375 62.90625 \nQ 36.140625 65.921875 28.71875 65.921875 \nQ 24.65625 65.921875 20.015625 65.03125 \nQ 15.375 64.15625 9.8125 62.3125 \nL 9.8125 71.09375 \nQ 15.4375 72.65625 20.34375 73.4375 \nQ 25.25 74.21875 29.59375 74.21875 \nQ 40.828125 74.21875 47.359375 69.109375 \nQ 53.90625 64.015625 53.90625 55.328125 \nQ 53.90625 49.265625 50.4375 45.09375 \nQ 46.96875 40.921875 40.578125 39.3125 \nz\n\" id=\"DejaVuSans-51\"/>\n     </defs>\n     <use xlink:href=\"#DejaVuSans-82\"/>\n     <use x=\"69.482422\" xlink:href=\"#DejaVuSans-68\"/>\n     <use x=\"146.484375\" xlink:href=\"#DejaVuSans-69\"/>\n     <use x=\"209.667969\" xlink:href=\"#DejaVuSans-76\"/>\n     <use x=\"267.630859\" xlink:href=\"#DejaVuSans-65\"/>\n     <use x=\"328.289062\" xlink:href=\"#DejaVuSans-89\"/>\n     <use x=\"389.373047\" xlink:href=\"#DejaVuSans-95\"/>\n     <use x=\"439.373047\" xlink:href=\"#DejaVuSans-98\"/>\n     <use x=\"502.849609\" xlink:href=\"#DejaVuSans-105\"/>\n     <use x=\"530.632812\" xlink:href=\"#DejaVuSans-110\"/>\n     <use x=\"594.011719\" xlink:href=\"#DejaVuSans-32\"/>\n     <use x=\"625.798828\" xlink:href=\"#DejaVuSans-61\"/>\n     <use x=\"709.587891\" xlink:href=\"#DejaVuSans-32\"/>\n     <use x=\"741.375\" xlink:href=\"#DejaVuSans-48\"/>\n     <use x=\"804.998047\" xlink:href=\"#DejaVuSans-32\"/>\n     <use x=\"836.785156\" xlink:href=\"#DejaVuSans-45\"/>\n     <use x=\"872.869141\" xlink:href=\"#DejaVuSans-32\"/>\n     <use x=\"904.65625\" xlink:href=\"#DejaVuSans-51\"/>\n    </g>\n   </g>\n  </g>\n  <g id=\"axes_2\">\n   <g id=\"patch_13\">\n    <path d=\"M 403.64234 328.198437 \nL 739.728678 328.198437 \nL 739.728678 20.798437 \nL 403.64234 20.798437 \nz\n\" style=\"fill:#ffffff;\"/>\n   </g>\n   <g id=\"patch_14\">\n    <path clip-path=\"url(#p3c7339ac13)\" d=\"M 412.044498 328.198437 \nL 445.653132 328.198437 \nL 445.653132 243.861136 \nL 412.044498 243.861136 \nz\n\" style=\"fill:#3274a1;\"/>\n   </g>\n   <g id=\"patch_15\">\n    <path clip-path=\"url(#p3c7339ac13)\" d=\"M 496.066083 328.198437 \nL 529.674717 328.198437 \nL 529.674717 293.075422 \nL 496.066083 293.075422 \nz\n\" style=\"fill:#3274a1;\"/>\n   </g>\n   <g id=\"patch_16\">\n    <path clip-path=\"url(#p3c7339ac13)\" d=\"M 580.087667 328.198437 \nL 613.696301 328.198437 \nL 613.696301 289.07939 \nL 580.087667 289.07939 \nz\n\" style=\"fill:#3274a1;\"/>\n   </g>\n   <g id=\"patch_17\">\n    <path clip-path=\"url(#p3c7339ac13)\" d=\"M 664.109252 328.198437 \nL 697.717886 328.198437 \nL 697.717886 272.884945 \nL 664.109252 272.884945 \nz\n\" style=\"fill:#3274a1;\"/>\n   </g>\n   <g id=\"patch_18\">\n    <path clip-path=\"url(#p3c7339ac13)\" d=\"M 445.653132 328.198437 \nL 479.261766 328.198437 \nL 479.261766 218.623041 \nL 445.653132 218.623041 \nz\n\" style=\"fill:#e1812c;\"/>\n   </g>\n   <g id=\"patch_19\">\n    <path clip-path=\"url(#p3c7339ac13)\" d=\"M 529.674717 328.198437 \nL 563.28335 328.198437 \nL 563.28335 291.813517 \nL 529.674717 291.813517 \nz\n\" style=\"fill:#e1812c;\"/>\n   </g>\n   <g id=\"patch_20\">\n    <path clip-path=\"url(#p3c7339ac13)\" d=\"M 613.696301 328.198437 \nL 647.304935 328.198437 \nL 647.304935 291.392882 \nL 613.696301 291.392882 \nz\n\" style=\"fill:#e1812c;\"/>\n   </g>\n   <g id=\"patch_21\">\n    <path clip-path=\"url(#p3c7339ac13)\" d=\"M 697.717886 328.198437 \nL 731.326519 328.198437 \nL 731.326519 257.952406 \nL 697.717886 257.952406 \nz\n\" style=\"fill:#e1812c;\"/>\n   </g>\n   <g id=\"matplotlib.axis_3\">\n    <g id=\"xtick_5\">\n     <g id=\"line2d_13\">\n      <g>\n       <use style=\"stroke:#000000;stroke-width:0.8;\" x=\"445.653132\" xlink:href=\"#m15741deeb0\" y=\"328.198437\"/>\n      </g>\n     </g>\n     <g id=\"text_16\">\n      <!-- Dependent -->\n      <g transform=\"translate(417.927351 342.796875)scale(0.1 -0.1)\">\n       <use xlink:href=\"#DejaVuSans-68\"/>\n       <use x=\"77.001953\" xlink:href=\"#DejaVuSans-101\"/>\n       <use x=\"138.525391\" xlink:href=\"#DejaVuSans-112\"/>\n       <use x=\"202.001953\" xlink:href=\"#DejaVuSans-101\"/>\n       <use x=\"263.525391\" xlink:href=\"#DejaVuSans-110\"/>\n       <use x=\"326.904297\" xlink:href=\"#DejaVuSans-100\"/>\n       <use x=\"390.380859\" xlink:href=\"#DejaVuSans-101\"/>\n       <use x=\"451.904297\" xlink:href=\"#DejaVuSans-110\"/>\n       <use x=\"515.283203\" xlink:href=\"#DejaVuSans-116\"/>\n      </g>\n     </g>\n    </g>\n    <g id=\"xtick_6\">\n     <g id=\"line2d_14\">\n      <g>\n       <use style=\"stroke:#000000;stroke-width:0.8;\" x=\"529.674717\" xlink:href=\"#m15741deeb0\" y=\"328.198437\"/>\n      </g>\n     </g>\n     <g id=\"text_17\">\n      <!-- Recovered -->\n      <g transform=\"translate(503.310654 342.796875)scale(0.1 -0.1)\">\n       <use xlink:href=\"#DejaVuSans-82\"/>\n       <use x=\"64.982422\" xlink:href=\"#DejaVuSans-101\"/>\n       <use x=\"126.505859\" xlink:href=\"#DejaVuSans-99\"/>\n       <use x=\"181.486328\" xlink:href=\"#DejaVuSans-111\"/>\n       <use x=\"242.667969\" xlink:href=\"#DejaVuSans-118\"/>\n       <use x=\"301.847656\" xlink:href=\"#DejaVuSans-101\"/>\n       <use x=\"363.371094\" xlink:href=\"#DejaVuSans-114\"/>\n       <use x=\"402.234375\" xlink:href=\"#DejaVuSans-101\"/>\n       <use x=\"463.757812\" xlink:href=\"#DejaVuSans-100\"/>\n      </g>\n     </g>\n    </g>\n    <g id=\"xtick_7\">\n     <g id=\"line2d_15\">\n      <g>\n       <use style=\"stroke:#000000;stroke-width:0.8;\" x=\"613.696301\" xlink:href=\"#m15741deeb0\" y=\"328.198437\"/>\n      </g>\n     </g>\n     <g id=\"text_18\">\n      <!-- Not recovered -->\n      <g transform=\"translate(578.28927 342.796875)scale(0.1 -0.1)\">\n       <use xlink:href=\"#DejaVuSans-78\"/>\n       <use x=\"74.804688\" xlink:href=\"#DejaVuSans-111\"/>\n       <use x=\"135.986328\" xlink:href=\"#DejaVuSans-116\"/>\n       <use x=\"175.195312\" xlink:href=\"#DejaVuSans-32\"/>\n       <use x=\"206.982422\" xlink:href=\"#DejaVuSans-114\"/>\n       <use x=\"245.845703\" xlink:href=\"#DejaVuSans-101\"/>\n       <use x=\"307.369141\" xlink:href=\"#DejaVuSans-99\"/>\n       <use x=\"362.349609\" xlink:href=\"#DejaVuSans-111\"/>\n       <use x=\"423.53125\" xlink:href=\"#DejaVuSans-118\"/>\n       <use x=\"482.710938\" xlink:href=\"#DejaVuSans-101\"/>\n       <use x=\"544.234375\" xlink:href=\"#DejaVuSans-114\"/>\n       <use x=\"583.097656\" xlink:href=\"#DejaVuSans-101\"/>\n       <use x=\"644.621094\" xlink:href=\"#DejaVuSans-100\"/>\n      </g>\n     </g>\n    </g>\n    <g id=\"xtick_8\">\n     <g id=\"line2d_16\">\n      <g>\n       <use style=\"stroke:#000000;stroke-width:0.8;\" x=\"697.717886\" xlink:href=\"#m15741deeb0\" y=\"328.198437\"/>\n      </g>\n     </g>\n     <g id=\"text_19\">\n      <!-- Dead -->\n      <g transform=\"translate(684.553042 342.796875)scale(0.1 -0.1)\">\n       <use xlink:href=\"#DejaVuSans-68\"/>\n       <use x=\"77.001953\" xlink:href=\"#DejaVuSans-101\"/>\n       <use x=\"138.525391\" xlink:href=\"#DejaVuSans-97\"/>\n       <use x=\"199.804688\" xlink:href=\"#DejaVuSans-100\"/>\n      </g>\n     </g>\n    </g>\n    <g id=\"text_20\">\n     <!-- OCCODE -->\n     <g transform=\"translate(549.821446 356.475)scale(0.1 -0.1)\">\n      <use xlink:href=\"#DejaVuSans-79\"/>\n      <use x=\"78.710938\" xlink:href=\"#DejaVuSans-67\"/>\n      <use x=\"148.535156\" xlink:href=\"#DejaVuSans-67\"/>\n      <use x=\"218.359375\" xlink:href=\"#DejaVuSans-79\"/>\n      <use x=\"297.070312\" xlink:href=\"#DejaVuSans-68\"/>\n      <use x=\"374.072266\" xlink:href=\"#DejaVuSans-69\"/>\n     </g>\n    </g>\n   </g>\n   <g id=\"matplotlib.axis_4\">\n    <g id=\"ytick_9\">\n     <g id=\"line2d_17\">\n      <g>\n       <use style=\"stroke:#000000;stroke-width:0.8;\" x=\"403.64234\" xlink:href=\"#m74cfa3368d\" y=\"328.198437\"/>\n      </g>\n     </g>\n    </g>\n    <g id=\"ytick_10\">\n     <g id=\"line2d_18\">\n      <g>\n       <use style=\"stroke:#000000;stroke-width:0.8;\" x=\"403.64234\" xlink:href=\"#m74cfa3368d\" y=\"286.134945\"/>\n      </g>\n     </g>\n    </g>\n    <g id=\"ytick_11\">\n     <g id=\"line2d_19\">\n      <g>\n       <use style=\"stroke:#000000;stroke-width:0.8;\" x=\"403.64234\" xlink:href=\"#m74cfa3368d\" y=\"244.071453\"/>\n      </g>\n     </g>\n    </g>\n    <g id=\"ytick_12\">\n     <g id=\"line2d_20\">\n      <g>\n       <use style=\"stroke:#000000;stroke-width:0.8;\" x=\"403.64234\" xlink:href=\"#m74cfa3368d\" y=\"202.007961\"/>\n      </g>\n     </g>\n    </g>\n    <g id=\"ytick_13\">\n     <g id=\"line2d_21\">\n      <g>\n       <use style=\"stroke:#000000;stroke-width:0.8;\" x=\"403.64234\" xlink:href=\"#m74cfa3368d\" y=\"159.944469\"/>\n      </g>\n     </g>\n    </g>\n    <g id=\"ytick_14\">\n     <g id=\"line2d_22\">\n      <g>\n       <use style=\"stroke:#000000;stroke-width:0.8;\" x=\"403.64234\" xlink:href=\"#m74cfa3368d\" y=\"117.880977\"/>\n      </g>\n     </g>\n    </g>\n    <g id=\"ytick_15\">\n     <g id=\"line2d_23\">\n      <g>\n       <use style=\"stroke:#000000;stroke-width:0.8;\" x=\"403.64234\" xlink:href=\"#m74cfa3368d\" y=\"75.817485\"/>\n      </g>\n     </g>\n    </g>\n    <g id=\"ytick_16\">\n     <g id=\"line2d_24\">\n      <g>\n       <use style=\"stroke:#000000;stroke-width:0.8;\" x=\"403.64234\" xlink:href=\"#m74cfa3368d\" y=\"33.753993\"/>\n      </g>\n     </g>\n    </g>\n   </g>\n   <g id=\"patch_22\">\n    <path d=\"M 403.64234 328.198437 \nL 403.64234 20.798437 \n\" style=\"fill:none;stroke:#000000;stroke-linecap:square;stroke-linejoin:miter;stroke-width:0.8;\"/>\n   </g>\n   <g id=\"patch_23\">\n    <path d=\"M 403.64234 328.198437 \nL 739.728678 328.198437 \n\" style=\"fill:none;stroke:#000000;stroke-linecap:square;stroke-linejoin:miter;stroke-width:0.8;\"/>\n   </g>\n   <g id=\"text_21\">\n    <!-- RDELAY_bin = 4 - 6 -->\n    <g transform=\"translate(523.272228 14.798437)scale(0.1 -0.1)\">\n     <use xlink:href=\"#DejaVuSans-82\"/>\n     <use x=\"69.482422\" xlink:href=\"#DejaVuSans-68\"/>\n     <use x=\"146.484375\" xlink:href=\"#DejaVuSans-69\"/>\n     <use x=\"209.667969\" xlink:href=\"#DejaVuSans-76\"/>\n     <use x=\"267.630859\" xlink:href=\"#DejaVuSans-65\"/>\n     <use x=\"328.289062\" xlink:href=\"#DejaVuSans-89\"/>\n     <use x=\"389.373047\" xlink:href=\"#DejaVuSans-95\"/>\n     <use x=\"439.373047\" xlink:href=\"#DejaVuSans-98\"/>\n     <use x=\"502.849609\" xlink:href=\"#DejaVuSans-105\"/>\n     <use x=\"530.632812\" xlink:href=\"#DejaVuSans-110\"/>\n     <use x=\"594.011719\" xlink:href=\"#DejaVuSans-32\"/>\n     <use x=\"625.798828\" xlink:href=\"#DejaVuSans-61\"/>\n     <use x=\"709.587891\" xlink:href=\"#DejaVuSans-32\"/>\n     <use x=\"741.375\" xlink:href=\"#DejaVuSans-52\"/>\n     <use x=\"804.998047\" xlink:href=\"#DejaVuSans-32\"/>\n     <use x=\"836.785156\" xlink:href=\"#DejaVuSans-45\"/>\n     <use x=\"872.869141\" xlink:href=\"#DejaVuSans-32\"/>\n     <use x=\"904.65625\" xlink:href=\"#DejaVuSans-54\"/>\n    </g>\n   </g>\n  </g>\n  <g id=\"axes_3\">\n   <g id=\"patch_24\">\n    <path d=\"M 753.956555 328.198437 \nL 1090.042893 328.198437 \nL 1090.042893 20.798437 \nL 753.956555 20.798437 \nz\n\" style=\"fill:#ffffff;\"/>\n   </g>\n   <g id=\"patch_25\">\n    <path clip-path=\"url(#pbea28de6d4)\" d=\"M 762.358713 328.198437 \nL 795.967347 328.198437 \nL 795.967347 180.345263 \nL 762.358713 180.345263 \nz\n\" style=\"fill:#3274a1;\"/>\n   </g>\n   <g id=\"patch_26\">\n    <path clip-path=\"url(#pbea28de6d4)\" d=\"M 846.380298 328.198437 \nL 879.988932 328.198437 \nL 879.988932 258.373041 \nL 846.380298 258.373041 \nz\n\" style=\"fill:#3274a1;\"/>\n   </g>\n   <g id=\"patch_27\">\n    <path clip-path=\"url(#pbea28de6d4)\" d=\"M 930.401882 328.198437 \nL 964.010516 328.198437 \nL 964.010516 254.377009 \nL 930.401882 254.377009 \nz\n\" style=\"fill:#3274a1;\"/>\n   </g>\n   <g id=\"patch_28\">\n    <path clip-path=\"url(#pbea28de6d4)\" d=\"M 1014.423467 328.198437 \nL 1048.032101 328.198437 \nL 1048.032101 237.130977 \nL 1014.423467 237.130977 \nz\n\" style=\"fill:#3274a1;\"/>\n   </g>\n   <g id=\"patch_29\">\n    <path clip-path=\"url(#pbea28de6d4)\" d=\"M 795.967347 328.198437 \nL 829.575981 328.198437 \nL 829.575981 146.063517 \nL 795.967347 146.063517 \nz\n\" style=\"fill:#e1812c;\"/>\n   </g>\n   <g id=\"patch_30\">\n    <path clip-path=\"url(#pbea28de6d4)\" d=\"M 879.988932 328.198437 \nL 913.597566 328.198437 \nL 913.597566 259.424628 \nL 879.988932 259.424628 \nz\n\" style=\"fill:#e1812c;\"/>\n   </g>\n   <g id=\"patch_31\">\n    <path clip-path=\"url(#pbea28de6d4)\" d=\"M 964.010516 328.198437 \nL 997.61915 328.198437 \nL 997.61915 238.813517 \nL 964.010516 238.813517 \nz\n\" style=\"fill:#e1812c;\"/>\n   </g>\n   <g id=\"patch_32\">\n    <path clip-path=\"url(#pbea28de6d4)\" d=\"M 1048.032101 328.198437 \nL 1081.640734 328.198437 \nL 1081.640734 217.361136 \nL 1048.032101 217.361136 \nz\n\" style=\"fill:#e1812c;\"/>\n   </g>\n   <g id=\"matplotlib.axis_5\">\n    <g id=\"xtick_9\">\n     <g id=\"line2d_25\">\n      <g>\n       <use style=\"stroke:#000000;stroke-width:0.8;\" x=\"795.967347\" xlink:href=\"#m15741deeb0\" y=\"328.198437\"/>\n      </g>\n     </g>\n     <g id=\"text_22\">\n      <!-- Dependent -->\n      <g transform=\"translate(768.241566 342.796875)scale(0.1 -0.1)\">\n       <use xlink:href=\"#DejaVuSans-68\"/>\n       <use x=\"77.001953\" xlink:href=\"#DejaVuSans-101\"/>\n       <use x=\"138.525391\" xlink:href=\"#DejaVuSans-112\"/>\n       <use x=\"202.001953\" xlink:href=\"#DejaVuSans-101\"/>\n       <use x=\"263.525391\" xlink:href=\"#DejaVuSans-110\"/>\n       <use x=\"326.904297\" xlink:href=\"#DejaVuSans-100\"/>\n       <use x=\"390.380859\" xlink:href=\"#DejaVuSans-101\"/>\n       <use x=\"451.904297\" xlink:href=\"#DejaVuSans-110\"/>\n       <use x=\"515.283203\" xlink:href=\"#DejaVuSans-116\"/>\n      </g>\n     </g>\n    </g>\n    <g id=\"xtick_10\">\n     <g id=\"line2d_26\">\n      <g>\n       <use style=\"stroke:#000000;stroke-width:0.8;\" x=\"879.988932\" xlink:href=\"#m15741deeb0\" y=\"328.198437\"/>\n      </g>\n     </g>\n     <g id=\"text_23\">\n      <!-- Recovered -->\n      <g transform=\"translate(853.624869 342.796875)scale(0.1 -0.1)\">\n       <use xlink:href=\"#DejaVuSans-82\"/>\n       <use x=\"64.982422\" xlink:href=\"#DejaVuSans-101\"/>\n       <use x=\"126.505859\" xlink:href=\"#DejaVuSans-99\"/>\n       <use x=\"181.486328\" xlink:href=\"#DejaVuSans-111\"/>\n       <use x=\"242.667969\" xlink:href=\"#DejaVuSans-118\"/>\n       <use x=\"301.847656\" xlink:href=\"#DejaVuSans-101\"/>\n       <use x=\"363.371094\" xlink:href=\"#DejaVuSans-114\"/>\n       <use x=\"402.234375\" xlink:href=\"#DejaVuSans-101\"/>\n       <use x=\"463.757812\" xlink:href=\"#DejaVuSans-100\"/>\n      </g>\n     </g>\n    </g>\n    <g id=\"xtick_11\">\n     <g id=\"line2d_27\">\n      <g>\n       <use style=\"stroke:#000000;stroke-width:0.8;\" x=\"964.010516\" xlink:href=\"#m15741deeb0\" y=\"328.198437\"/>\n      </g>\n     </g>\n     <g id=\"text_24\">\n      <!-- Not recovered -->\n      <g transform=\"translate(928.603485 342.796875)scale(0.1 -0.1)\">\n       <use xlink:href=\"#DejaVuSans-78\"/>\n       <use x=\"74.804688\" xlink:href=\"#DejaVuSans-111\"/>\n       <use x=\"135.986328\" xlink:href=\"#DejaVuSans-116\"/>\n       <use x=\"175.195312\" xlink:href=\"#DejaVuSans-32\"/>\n       <use x=\"206.982422\" xlink:href=\"#DejaVuSans-114\"/>\n       <use x=\"245.845703\" xlink:href=\"#DejaVuSans-101\"/>\n       <use x=\"307.369141\" xlink:href=\"#DejaVuSans-99\"/>\n       <use x=\"362.349609\" xlink:href=\"#DejaVuSans-111\"/>\n       <use x=\"423.53125\" xlink:href=\"#DejaVuSans-118\"/>\n       <use x=\"482.710938\" xlink:href=\"#DejaVuSans-101\"/>\n       <use x=\"544.234375\" xlink:href=\"#DejaVuSans-114\"/>\n       <use x=\"583.097656\" xlink:href=\"#DejaVuSans-101\"/>\n       <use x=\"644.621094\" xlink:href=\"#DejaVuSans-100\"/>\n      </g>\n     </g>\n    </g>\n    <g id=\"xtick_12\">\n     <g id=\"line2d_28\">\n      <g>\n       <use style=\"stroke:#000000;stroke-width:0.8;\" x=\"1048.032101\" xlink:href=\"#m15741deeb0\" y=\"328.198437\"/>\n      </g>\n     </g>\n     <g id=\"text_25\">\n      <!-- Dead -->\n      <g transform=\"translate(1034.867257 342.796875)scale(0.1 -0.1)\">\n       <use xlink:href=\"#DejaVuSans-68\"/>\n       <use x=\"77.001953\" xlink:href=\"#DejaVuSans-101\"/>\n       <use x=\"138.525391\" xlink:href=\"#DejaVuSans-97\"/>\n       <use x=\"199.804688\" xlink:href=\"#DejaVuSans-100\"/>\n      </g>\n     </g>\n    </g>\n    <g id=\"text_26\">\n     <!-- OCCODE -->\n     <g transform=\"translate(900.135661 356.475)scale(0.1 -0.1)\">\n      <use xlink:href=\"#DejaVuSans-79\"/>\n      <use x=\"78.710938\" xlink:href=\"#DejaVuSans-67\"/>\n      <use x=\"148.535156\" xlink:href=\"#DejaVuSans-67\"/>\n      <use x=\"218.359375\" xlink:href=\"#DejaVuSans-79\"/>\n      <use x=\"297.070312\" xlink:href=\"#DejaVuSans-68\"/>\n      <use x=\"374.072266\" xlink:href=\"#DejaVuSans-69\"/>\n     </g>\n    </g>\n   </g>\n   <g id=\"matplotlib.axis_6\">\n    <g id=\"ytick_17\">\n     <g id=\"line2d_29\">\n      <g>\n       <use style=\"stroke:#000000;stroke-width:0.8;\" x=\"753.956555\" xlink:href=\"#m74cfa3368d\" y=\"328.198437\"/>\n      </g>\n     </g>\n    </g>\n    <g id=\"ytick_18\">\n     <g id=\"line2d_30\">\n      <g>\n       <use style=\"stroke:#000000;stroke-width:0.8;\" x=\"753.956555\" xlink:href=\"#m74cfa3368d\" y=\"286.134945\"/>\n      </g>\n     </g>\n    </g>\n    <g id=\"ytick_19\">\n     <g id=\"line2d_31\">\n      <g>\n       <use style=\"stroke:#000000;stroke-width:0.8;\" x=\"753.956555\" xlink:href=\"#m74cfa3368d\" y=\"244.071453\"/>\n      </g>\n     </g>\n    </g>\n    <g id=\"ytick_20\">\n     <g id=\"line2d_32\">\n      <g>\n       <use style=\"stroke:#000000;stroke-width:0.8;\" x=\"753.956555\" xlink:href=\"#m74cfa3368d\" y=\"202.007961\"/>\n      </g>\n     </g>\n    </g>\n    <g id=\"ytick_21\">\n     <g id=\"line2d_33\">\n      <g>\n       <use style=\"stroke:#000000;stroke-width:0.8;\" x=\"753.956555\" xlink:href=\"#m74cfa3368d\" y=\"159.944469\"/>\n      </g>\n     </g>\n    </g>\n    <g id=\"ytick_22\">\n     <g id=\"line2d_34\">\n      <g>\n       <use style=\"stroke:#000000;stroke-width:0.8;\" x=\"753.956555\" xlink:href=\"#m74cfa3368d\" y=\"117.880977\"/>\n      </g>\n     </g>\n    </g>\n    <g id=\"ytick_23\">\n     <g id=\"line2d_35\">\n      <g>\n       <use style=\"stroke:#000000;stroke-width:0.8;\" x=\"753.956555\" xlink:href=\"#m74cfa3368d\" y=\"75.817485\"/>\n      </g>\n     </g>\n    </g>\n    <g id=\"ytick_24\">\n     <g id=\"line2d_36\">\n      <g>\n       <use style=\"stroke:#000000;stroke-width:0.8;\" x=\"753.956555\" xlink:href=\"#m74cfa3368d\" y=\"33.753993\"/>\n      </g>\n     </g>\n    </g>\n   </g>\n   <g id=\"patch_33\">\n    <path d=\"M 753.956555 328.198437 \nL 753.956555 20.798437 \n\" style=\"fill:none;stroke:#000000;stroke-linecap:square;stroke-linejoin:miter;stroke-width:0.8;\"/>\n   </g>\n   <g id=\"patch_34\">\n    <path d=\"M 753.956555 328.198437 \nL 1090.042893 328.198437 \n\" style=\"fill:none;stroke:#000000;stroke-linecap:square;stroke-linejoin:miter;stroke-width:0.8;\"/>\n   </g>\n   <g id=\"text_27\">\n    <!-- RDELAY_bin = 7 - 12 -->\n    <g transform=\"translate(870.405193 14.798437)scale(0.1 -0.1)\">\n     <defs>\n      <path d=\"M 8.203125 72.90625 \nL 55.078125 72.90625 \nL 55.078125 68.703125 \nL 28.609375 0 \nL 18.3125 0 \nL 43.21875 64.59375 \nL 8.203125 64.59375 \nz\n\" id=\"DejaVuSans-55\"/>\n     </defs>\n     <use xlink:href=\"#DejaVuSans-82\"/>\n     <use x=\"69.482422\" xlink:href=\"#DejaVuSans-68\"/>\n     <use x=\"146.484375\" xlink:href=\"#DejaVuSans-69\"/>\n     <use x=\"209.667969\" xlink:href=\"#DejaVuSans-76\"/>\n     <use x=\"267.630859\" xlink:href=\"#DejaVuSans-65\"/>\n     <use x=\"328.289062\" xlink:href=\"#DejaVuSans-89\"/>\n     <use x=\"389.373047\" xlink:href=\"#DejaVuSans-95\"/>\n     <use x=\"439.373047\" xlink:href=\"#DejaVuSans-98\"/>\n     <use x=\"502.849609\" xlink:href=\"#DejaVuSans-105\"/>\n     <use x=\"530.632812\" xlink:href=\"#DejaVuSans-110\"/>\n     <use x=\"594.011719\" xlink:href=\"#DejaVuSans-32\"/>\n     <use x=\"625.798828\" xlink:href=\"#DejaVuSans-61\"/>\n     <use x=\"709.587891\" xlink:href=\"#DejaVuSans-32\"/>\n     <use x=\"741.375\" xlink:href=\"#DejaVuSans-55\"/>\n     <use x=\"804.998047\" xlink:href=\"#DejaVuSans-32\"/>\n     <use x=\"836.785156\" xlink:href=\"#DejaVuSans-45\"/>\n     <use x=\"872.869141\" xlink:href=\"#DejaVuSans-32\"/>\n     <use x=\"904.65625\" xlink:href=\"#DejaVuSans-49\"/>\n     <use x=\"968.279297\" xlink:href=\"#DejaVuSans-50\"/>\n    </g>\n   </g>\n  </g>\n  <g id=\"axes_4\">\n   <g id=\"patch_35\">\n    <path d=\"M 1104.27077 328.198437 \nL 1440.357108 328.198437 \nL 1440.357108 20.798437 \nL 1104.27077 20.798437 \nz\n\" style=\"fill:#ffffff;\"/>\n   </g>\n   <g id=\"patch_36\">\n    <path clip-path=\"url(#p86dd654291)\" d=\"M 1112.672929 328.198437 \nL 1146.281562 328.198437 \nL 1146.281562 102.527803 \nL 1112.672929 102.527803 \nz\n\" style=\"fill:#3274a1;\"/>\n   </g>\n   <g id=\"patch_37\">\n    <path clip-path=\"url(#p86dd654291)\" d=\"M 1196.694513 328.198437 \nL 1230.303147 328.198437 \nL 1230.303147 228.928596 \nL 1196.694513 228.928596 \nz\n\" style=\"fill:#3274a1;\"/>\n   </g>\n   <g id=\"patch_38\">\n    <path clip-path=\"url(#p86dd654291)\" d=\"M 1280.716097 328.198437 \nL 1314.324731 328.198437 \nL 1314.324731 211.682564 \nL 1280.716097 211.682564 \nz\n\" style=\"fill:#3274a1;\"/>\n   </g>\n   <g id=\"patch_39\">\n    <path clip-path=\"url(#p86dd654291)\" d=\"M 1364.737682 328.198437 \nL 1398.346316 328.198437 \nL 1398.346316 227.246057 \nL 1364.737682 227.246057 \nz\n\" style=\"fill:#3274a1;\"/>\n   </g>\n   <g id=\"patch_40\">\n    <path clip-path=\"url(#p86dd654291)\" d=\"M 1146.281562 328.198437 \nL 1179.890196 328.198437 \nL 1179.890196 84.440501 \nL 1146.281562 84.440501 \nz\n\" style=\"fill:#e1812c;\"/>\n   </g>\n   <g id=\"patch_41\">\n    <path clip-path=\"url(#p86dd654291)\" d=\"M 1230.303147 328.198437 \nL 1263.911781 328.198437 \nL 1263.911781 231.873041 \nL 1230.303147 231.873041 \nz\n\" style=\"fill:#e1812c;\"/>\n   </g>\n   <g id=\"patch_42\">\n    <path clip-path=\"url(#p86dd654291)\" d=\"M 1314.324731 328.198437 \nL 1347.933365 328.198437 \nL 1347.933365 210.841295 \nL 1314.324731 210.841295 \nz\n\" style=\"fill:#e1812c;\"/>\n   </g>\n   <g id=\"patch_43\">\n    <path clip-path=\"url(#p86dd654291)\" d=\"M 1398.346316 328.198437 \nL 1431.954949 328.198437 \nL 1431.954949 196.750025 \nL 1398.346316 196.750025 \nz\n\" style=\"fill:#e1812c;\"/>\n   </g>\n   <g id=\"matplotlib.axis_7\">\n    <g id=\"xtick_13\">\n     <g id=\"line2d_37\">\n      <g>\n       <use style=\"stroke:#000000;stroke-width:0.8;\" x=\"1146.281562\" xlink:href=\"#m15741deeb0\" y=\"328.198437\"/>\n      </g>\n     </g>\n     <g id=\"text_28\">\n      <!-- Dependent -->\n      <g transform=\"translate(1118.555781 342.796875)scale(0.1 -0.1)\">\n       <use xlink:href=\"#DejaVuSans-68\"/>\n       <use x=\"77.001953\" xlink:href=\"#DejaVuSans-101\"/>\n       <use x=\"138.525391\" xlink:href=\"#DejaVuSans-112\"/>\n       <use x=\"202.001953\" xlink:href=\"#DejaVuSans-101\"/>\n       <use x=\"263.525391\" xlink:href=\"#DejaVuSans-110\"/>\n       <use x=\"326.904297\" xlink:href=\"#DejaVuSans-100\"/>\n       <use x=\"390.380859\" xlink:href=\"#DejaVuSans-101\"/>\n       <use x=\"451.904297\" xlink:href=\"#DejaVuSans-110\"/>\n       <use x=\"515.283203\" xlink:href=\"#DejaVuSans-116\"/>\n      </g>\n     </g>\n    </g>\n    <g id=\"xtick_14\">\n     <g id=\"line2d_38\">\n      <g>\n       <use style=\"stroke:#000000;stroke-width:0.8;\" x=\"1230.303147\" xlink:href=\"#m15741deeb0\" y=\"328.198437\"/>\n      </g>\n     </g>\n     <g id=\"text_29\">\n      <!-- Recovered -->\n      <g transform=\"translate(1203.939084 342.796875)scale(0.1 -0.1)\">\n       <use xlink:href=\"#DejaVuSans-82\"/>\n       <use x=\"64.982422\" xlink:href=\"#DejaVuSans-101\"/>\n       <use x=\"126.505859\" xlink:href=\"#DejaVuSans-99\"/>\n       <use x=\"181.486328\" xlink:href=\"#DejaVuSans-111\"/>\n       <use x=\"242.667969\" xlink:href=\"#DejaVuSans-118\"/>\n       <use x=\"301.847656\" xlink:href=\"#DejaVuSans-101\"/>\n       <use x=\"363.371094\" xlink:href=\"#DejaVuSans-114\"/>\n       <use x=\"402.234375\" xlink:href=\"#DejaVuSans-101\"/>\n       <use x=\"463.757812\" xlink:href=\"#DejaVuSans-100\"/>\n      </g>\n     </g>\n    </g>\n    <g id=\"xtick_15\">\n     <g id=\"line2d_39\">\n      <g>\n       <use style=\"stroke:#000000;stroke-width:0.8;\" x=\"1314.324731\" xlink:href=\"#m15741deeb0\" y=\"328.198437\"/>\n      </g>\n     </g>\n     <g id=\"text_30\">\n      <!-- Not recovered -->\n      <g transform=\"translate(1278.9177 342.796875)scale(0.1 -0.1)\">\n       <use xlink:href=\"#DejaVuSans-78\"/>\n       <use x=\"74.804688\" xlink:href=\"#DejaVuSans-111\"/>\n       <use x=\"135.986328\" xlink:href=\"#DejaVuSans-116\"/>\n       <use x=\"175.195312\" xlink:href=\"#DejaVuSans-32\"/>\n       <use x=\"206.982422\" xlink:href=\"#DejaVuSans-114\"/>\n       <use x=\"245.845703\" xlink:href=\"#DejaVuSans-101\"/>\n       <use x=\"307.369141\" xlink:href=\"#DejaVuSans-99\"/>\n       <use x=\"362.349609\" xlink:href=\"#DejaVuSans-111\"/>\n       <use x=\"423.53125\" xlink:href=\"#DejaVuSans-118\"/>\n       <use x=\"482.710938\" xlink:href=\"#DejaVuSans-101\"/>\n       <use x=\"544.234375\" xlink:href=\"#DejaVuSans-114\"/>\n       <use x=\"583.097656\" xlink:href=\"#DejaVuSans-101\"/>\n       <use x=\"644.621094\" xlink:href=\"#DejaVuSans-100\"/>\n      </g>\n     </g>\n    </g>\n    <g id=\"xtick_16\">\n     <g id=\"line2d_40\">\n      <g>\n       <use style=\"stroke:#000000;stroke-width:0.8;\" x=\"1398.346316\" xlink:href=\"#m15741deeb0\" y=\"328.198437\"/>\n      </g>\n     </g>\n     <g id=\"text_31\">\n      <!-- Dead -->\n      <g transform=\"translate(1385.181472 342.796875)scale(0.1 -0.1)\">\n       <use xlink:href=\"#DejaVuSans-68\"/>\n       <use x=\"77.001953\" xlink:href=\"#DejaVuSans-101\"/>\n       <use x=\"138.525391\" xlink:href=\"#DejaVuSans-97\"/>\n       <use x=\"199.804688\" xlink:href=\"#DejaVuSans-100\"/>\n      </g>\n     </g>\n    </g>\n    <g id=\"text_32\">\n     <!-- OCCODE -->\n     <g transform=\"translate(1250.449876 356.475)scale(0.1 -0.1)\">\n      <use xlink:href=\"#DejaVuSans-79\"/>\n      <use x=\"78.710938\" xlink:href=\"#DejaVuSans-67\"/>\n      <use x=\"148.535156\" xlink:href=\"#DejaVuSans-67\"/>\n      <use x=\"218.359375\" xlink:href=\"#DejaVuSans-79\"/>\n      <use x=\"297.070312\" xlink:href=\"#DejaVuSans-68\"/>\n      <use x=\"374.072266\" xlink:href=\"#DejaVuSans-69\"/>\n     </g>\n    </g>\n   </g>\n   <g id=\"matplotlib.axis_8\">\n    <g id=\"ytick_25\">\n     <g id=\"line2d_41\">\n      <g>\n       <use style=\"stroke:#000000;stroke-width:0.8;\" x=\"1104.27077\" xlink:href=\"#m74cfa3368d\" y=\"328.198437\"/>\n      </g>\n     </g>\n    </g>\n    <g id=\"ytick_26\">\n     <g id=\"line2d_42\">\n      <g>\n       <use style=\"stroke:#000000;stroke-width:0.8;\" x=\"1104.27077\" xlink:href=\"#m74cfa3368d\" y=\"286.134945\"/>\n      </g>\n     </g>\n    </g>\n    <g id=\"ytick_27\">\n     <g id=\"line2d_43\">\n      <g>\n       <use style=\"stroke:#000000;stroke-width:0.8;\" x=\"1104.27077\" xlink:href=\"#m74cfa3368d\" y=\"244.071453\"/>\n      </g>\n     </g>\n    </g>\n    <g id=\"ytick_28\">\n     <g id=\"line2d_44\">\n      <g>\n       <use style=\"stroke:#000000;stroke-width:0.8;\" x=\"1104.27077\" xlink:href=\"#m74cfa3368d\" y=\"202.007961\"/>\n      </g>\n     </g>\n    </g>\n    <g id=\"ytick_29\">\n     <g id=\"line2d_45\">\n      <g>\n       <use style=\"stroke:#000000;stroke-width:0.8;\" x=\"1104.27077\" xlink:href=\"#m74cfa3368d\" y=\"159.944469\"/>\n      </g>\n     </g>\n    </g>\n    <g id=\"ytick_30\">\n     <g id=\"line2d_46\">\n      <g>\n       <use style=\"stroke:#000000;stroke-width:0.8;\" x=\"1104.27077\" xlink:href=\"#m74cfa3368d\" y=\"117.880977\"/>\n      </g>\n     </g>\n    </g>\n    <g id=\"ytick_31\">\n     <g id=\"line2d_47\">\n      <g>\n       <use style=\"stroke:#000000;stroke-width:0.8;\" x=\"1104.27077\" xlink:href=\"#m74cfa3368d\" y=\"75.817485\"/>\n      </g>\n     </g>\n    </g>\n    <g id=\"ytick_32\">\n     <g id=\"line2d_48\">\n      <g>\n       <use style=\"stroke:#000000;stroke-width:0.8;\" x=\"1104.27077\" xlink:href=\"#m74cfa3368d\" y=\"33.753993\"/>\n      </g>\n     </g>\n    </g>\n   </g>\n   <g id=\"patch_44\">\n    <path d=\"M 1104.27077 328.198437 \nL 1104.27077 20.798437 \n\" style=\"fill:none;stroke:#000000;stroke-linecap:square;stroke-linejoin:miter;stroke-width:0.8;\"/>\n   </g>\n   <g id=\"patch_45\">\n    <path d=\"M 1104.27077 328.198437 \nL 1440.357108 328.198437 \n\" style=\"fill:none;stroke:#000000;stroke-linecap:square;stroke-linejoin:miter;stroke-width:0.8;\"/>\n   </g>\n   <g id=\"text_33\">\n    <!-- RDELAY_bin = 13 - 24 -->\n    <g transform=\"translate(1217.538158 14.798437)scale(0.1 -0.1)\">\n     <use xlink:href=\"#DejaVuSans-82\"/>\n     <use x=\"69.482422\" xlink:href=\"#DejaVuSans-68\"/>\n     <use x=\"146.484375\" xlink:href=\"#DejaVuSans-69\"/>\n     <use x=\"209.667969\" xlink:href=\"#DejaVuSans-76\"/>\n     <use x=\"267.630859\" xlink:href=\"#DejaVuSans-65\"/>\n     <use x=\"328.289062\" xlink:href=\"#DejaVuSans-89\"/>\n     <use x=\"389.373047\" xlink:href=\"#DejaVuSans-95\"/>\n     <use x=\"439.373047\" xlink:href=\"#DejaVuSans-98\"/>\n     <use x=\"502.849609\" xlink:href=\"#DejaVuSans-105\"/>\n     <use x=\"530.632812\" xlink:href=\"#DejaVuSans-110\"/>\n     <use x=\"594.011719\" xlink:href=\"#DejaVuSans-32\"/>\n     <use x=\"625.798828\" xlink:href=\"#DejaVuSans-61\"/>\n     <use x=\"709.587891\" xlink:href=\"#DejaVuSans-32\"/>\n     <use x=\"741.375\" xlink:href=\"#DejaVuSans-49\"/>\n     <use x=\"804.998047\" xlink:href=\"#DejaVuSans-51\"/>\n     <use x=\"868.621094\" xlink:href=\"#DejaVuSans-32\"/>\n     <use x=\"900.408203\" xlink:href=\"#DejaVuSans-45\"/>\n     <use x=\"936.492188\" xlink:href=\"#DejaVuSans-32\"/>\n     <use x=\"968.279297\" xlink:href=\"#DejaVuSans-50\"/>\n     <use x=\"1031.902344\" xlink:href=\"#DejaVuSans-52\"/>\n    </g>\n   </g>\n  </g>\n  <g id=\"axes_5\">\n   <g id=\"patch_46\">\n    <path d=\"M 1454.584985 328.198437 \nL 1790.671323 328.198437 \nL 1790.671323 20.798437 \nL 1454.584985 20.798437 \nz\n\" style=\"fill:#ffffff;\"/>\n   </g>\n   <g id=\"patch_47\">\n    <path clip-path=\"url(#p2c7b8f7568)\" d=\"M 1462.987144 328.198437 \nL 1496.595777 328.198437 \nL 1496.595777 58.992088 \nL 1462.987144 58.992088 \nz\n\" style=\"fill:#3274a1;\"/>\n   </g>\n   <g id=\"patch_48\">\n    <path clip-path=\"url(#p2c7b8f7568)\" d=\"M 1547.008728 328.198437 \nL 1580.617362 328.198437 \nL 1580.617362 209.158755 \nL 1547.008728 209.158755 \nz\n\" style=\"fill:#3274a1;\"/>\n   </g>\n   <g id=\"patch_49\">\n    <path clip-path=\"url(#p2c7b8f7568)\" d=\"M 1631.030312 328.198437 \nL 1664.638946 328.198437 \nL 1664.638946 185.813517 \nL 1631.030312 185.813517 \nz\n\" style=\"fill:#3274a1;\"/>\n   </g>\n   <g id=\"patch_50\">\n    <path clip-path=\"url(#p2c7b8f7568)\" d=\"M 1715.051897 328.198437 \nL 1748.660531 328.198437 \nL 1748.660531 217.361136 \nL 1715.051897 217.361136 \nz\n\" style=\"fill:#3274a1;\"/>\n   </g>\n   <g id=\"patch_51\">\n    <path clip-path=\"url(#p2c7b8f7568)\" d=\"M 1496.595777 328.198437 \nL 1530.204411 328.198437 \nL 1530.204411 35.436533 \nL 1496.595777 35.436533 \nz\n\" style=\"fill:#e1812c;\"/>\n   </g>\n   <g id=\"patch_52\">\n    <path clip-path=\"url(#p2c7b8f7568)\" d=\"M 1580.617362 328.198437 \nL 1614.225996 328.198437 \nL 1614.225996 210.841295 \nL 1580.617362 210.841295 \nz\n\" style=\"fill:#e1812c;\"/>\n   </g>\n   <g id=\"patch_53\">\n    <path clip-path=\"url(#p2c7b8f7568)\" d=\"M 1664.638946 328.198437 \nL 1698.24758 328.198437 \nL 1698.24758 178.031771 \nL 1664.638946 178.031771 \nz\n\" style=\"fill:#e1812c;\"/>\n   </g>\n   <g id=\"patch_54\">\n    <path clip-path=\"url(#p2c7b8f7568)\" d=\"M 1748.660531 328.198437 \nL 1782.269164 328.198437 \nL 1782.269164 181.39685 \nL 1748.660531 181.39685 \nz\n\" style=\"fill:#e1812c;\"/>\n   </g>\n   <g id=\"matplotlib.axis_9\">\n    <g id=\"xtick_17\">\n     <g id=\"line2d_49\">\n      <g>\n       <use style=\"stroke:#000000;stroke-width:0.8;\" x=\"1496.595777\" xlink:href=\"#m15741deeb0\" y=\"328.198437\"/>\n      </g>\n     </g>\n     <g id=\"text_34\">\n      <!-- Dependent -->\n      <g transform=\"translate(1468.869996 342.796875)scale(0.1 -0.1)\">\n       <use xlink:href=\"#DejaVuSans-68\"/>\n       <use x=\"77.001953\" xlink:href=\"#DejaVuSans-101\"/>\n       <use x=\"138.525391\" xlink:href=\"#DejaVuSans-112\"/>\n       <use x=\"202.001953\" xlink:href=\"#DejaVuSans-101\"/>\n       <use x=\"263.525391\" xlink:href=\"#DejaVuSans-110\"/>\n       <use x=\"326.904297\" xlink:href=\"#DejaVuSans-100\"/>\n       <use x=\"390.380859\" xlink:href=\"#DejaVuSans-101\"/>\n       <use x=\"451.904297\" xlink:href=\"#DejaVuSans-110\"/>\n       <use x=\"515.283203\" xlink:href=\"#DejaVuSans-116\"/>\n      </g>\n     </g>\n    </g>\n    <g id=\"xtick_18\">\n     <g id=\"line2d_50\">\n      <g>\n       <use style=\"stroke:#000000;stroke-width:0.8;\" x=\"1580.617362\" xlink:href=\"#m15741deeb0\" y=\"328.198437\"/>\n      </g>\n     </g>\n     <g id=\"text_35\">\n      <!-- Recovered -->\n      <g transform=\"translate(1554.253299 342.796875)scale(0.1 -0.1)\">\n       <use xlink:href=\"#DejaVuSans-82\"/>\n       <use x=\"64.982422\" xlink:href=\"#DejaVuSans-101\"/>\n       <use x=\"126.505859\" xlink:href=\"#DejaVuSans-99\"/>\n       <use x=\"181.486328\" xlink:href=\"#DejaVuSans-111\"/>\n       <use x=\"242.667969\" xlink:href=\"#DejaVuSans-118\"/>\n       <use x=\"301.847656\" xlink:href=\"#DejaVuSans-101\"/>\n       <use x=\"363.371094\" xlink:href=\"#DejaVuSans-114\"/>\n       <use x=\"402.234375\" xlink:href=\"#DejaVuSans-101\"/>\n       <use x=\"463.757812\" xlink:href=\"#DejaVuSans-100\"/>\n      </g>\n     </g>\n    </g>\n    <g id=\"xtick_19\">\n     <g id=\"line2d_51\">\n      <g>\n       <use style=\"stroke:#000000;stroke-width:0.8;\" x=\"1664.638946\" xlink:href=\"#m15741deeb0\" y=\"328.198437\"/>\n      </g>\n     </g>\n     <g id=\"text_36\">\n      <!-- Not recovered -->\n      <g transform=\"translate(1629.231915 342.796875)scale(0.1 -0.1)\">\n       <use xlink:href=\"#DejaVuSans-78\"/>\n       <use x=\"74.804688\" xlink:href=\"#DejaVuSans-111\"/>\n       <use x=\"135.986328\" xlink:href=\"#DejaVuSans-116\"/>\n       <use x=\"175.195312\" xlink:href=\"#DejaVuSans-32\"/>\n       <use x=\"206.982422\" xlink:href=\"#DejaVuSans-114\"/>\n       <use x=\"245.845703\" xlink:href=\"#DejaVuSans-101\"/>\n       <use x=\"307.369141\" xlink:href=\"#DejaVuSans-99\"/>\n       <use x=\"362.349609\" xlink:href=\"#DejaVuSans-111\"/>\n       <use x=\"423.53125\" xlink:href=\"#DejaVuSans-118\"/>\n       <use x=\"482.710938\" xlink:href=\"#DejaVuSans-101\"/>\n       <use x=\"544.234375\" xlink:href=\"#DejaVuSans-114\"/>\n       <use x=\"583.097656\" xlink:href=\"#DejaVuSans-101\"/>\n       <use x=\"644.621094\" xlink:href=\"#DejaVuSans-100\"/>\n      </g>\n     </g>\n    </g>\n    <g id=\"xtick_20\">\n     <g id=\"line2d_52\">\n      <g>\n       <use style=\"stroke:#000000;stroke-width:0.8;\" x=\"1748.660531\" xlink:href=\"#m15741deeb0\" y=\"328.198437\"/>\n      </g>\n     </g>\n     <g id=\"text_37\">\n      <!-- Dead -->\n      <g transform=\"translate(1735.495687 342.796875)scale(0.1 -0.1)\">\n       <use xlink:href=\"#DejaVuSans-68\"/>\n       <use x=\"77.001953\" xlink:href=\"#DejaVuSans-101\"/>\n       <use x=\"138.525391\" xlink:href=\"#DejaVuSans-97\"/>\n       <use x=\"199.804688\" xlink:href=\"#DejaVuSans-100\"/>\n      </g>\n     </g>\n    </g>\n    <g id=\"text_38\">\n     <!-- OCCODE -->\n     <g transform=\"translate(1600.764091 356.475)scale(0.1 -0.1)\">\n      <use xlink:href=\"#DejaVuSans-79\"/>\n      <use x=\"78.710938\" xlink:href=\"#DejaVuSans-67\"/>\n      <use x=\"148.535156\" xlink:href=\"#DejaVuSans-67\"/>\n      <use x=\"218.359375\" xlink:href=\"#DejaVuSans-79\"/>\n      <use x=\"297.070312\" xlink:href=\"#DejaVuSans-68\"/>\n      <use x=\"374.072266\" xlink:href=\"#DejaVuSans-69\"/>\n     </g>\n    </g>\n   </g>\n   <g id=\"matplotlib.axis_10\">\n    <g id=\"ytick_33\">\n     <g id=\"line2d_53\">\n      <g>\n       <use style=\"stroke:#000000;stroke-width:0.8;\" x=\"1454.584985\" xlink:href=\"#m74cfa3368d\" y=\"328.198437\"/>\n      </g>\n     </g>\n    </g>\n    <g id=\"ytick_34\">\n     <g id=\"line2d_54\">\n      <g>\n       <use style=\"stroke:#000000;stroke-width:0.8;\" x=\"1454.584985\" xlink:href=\"#m74cfa3368d\" y=\"286.134945\"/>\n      </g>\n     </g>\n    </g>\n    <g id=\"ytick_35\">\n     <g id=\"line2d_55\">\n      <g>\n       <use style=\"stroke:#000000;stroke-width:0.8;\" x=\"1454.584985\" xlink:href=\"#m74cfa3368d\" y=\"244.071453\"/>\n      </g>\n     </g>\n    </g>\n    <g id=\"ytick_36\">\n     <g id=\"line2d_56\">\n      <g>\n       <use style=\"stroke:#000000;stroke-width:0.8;\" x=\"1454.584985\" xlink:href=\"#m74cfa3368d\" y=\"202.007961\"/>\n      </g>\n     </g>\n    </g>\n    <g id=\"ytick_37\">\n     <g id=\"line2d_57\">\n      <g>\n       <use style=\"stroke:#000000;stroke-width:0.8;\" x=\"1454.584985\" xlink:href=\"#m74cfa3368d\" y=\"159.944469\"/>\n      </g>\n     </g>\n    </g>\n    <g id=\"ytick_38\">\n     <g id=\"line2d_58\">\n      <g>\n       <use style=\"stroke:#000000;stroke-width:0.8;\" x=\"1454.584985\" xlink:href=\"#m74cfa3368d\" y=\"117.880977\"/>\n      </g>\n     </g>\n    </g>\n    <g id=\"ytick_39\">\n     <g id=\"line2d_59\">\n      <g>\n       <use style=\"stroke:#000000;stroke-width:0.8;\" x=\"1454.584985\" xlink:href=\"#m74cfa3368d\" y=\"75.817485\"/>\n      </g>\n     </g>\n    </g>\n    <g id=\"ytick_40\">\n     <g id=\"line2d_60\">\n      <g>\n       <use style=\"stroke:#000000;stroke-width:0.8;\" x=\"1454.584985\" xlink:href=\"#m74cfa3368d\" y=\"33.753993\"/>\n      </g>\n     </g>\n    </g>\n   </g>\n   <g id=\"patch_55\">\n    <path d=\"M 1454.584985 328.198437 \nL 1454.584985 20.798437 \n\" style=\"fill:none;stroke:#000000;stroke-linecap:square;stroke-linejoin:miter;stroke-width:0.8;\"/>\n   </g>\n   <g id=\"patch_56\">\n    <path d=\"M 1454.584985 328.198437 \nL 1790.671323 328.198437 \n\" style=\"fill:none;stroke:#000000;stroke-linecap:square;stroke-linejoin:miter;stroke-width:0.8;\"/>\n   </g>\n   <g id=\"text_39\">\n    <!-- RDELAY_bin = 25 - 48 -->\n    <g transform=\"translate(1567.852373 14.798437)scale(0.1 -0.1)\">\n     <defs>\n      <path d=\"M 10.796875 72.90625 \nL 49.515625 72.90625 \nL 49.515625 64.59375 \nL 19.828125 64.59375 \nL 19.828125 46.734375 \nQ 21.96875 47.46875 24.109375 47.828125 \nQ 26.265625 48.1875 28.421875 48.1875 \nQ 40.625 48.1875 47.75 41.5 \nQ 54.890625 34.8125 54.890625 23.390625 \nQ 54.890625 11.625 47.5625 5.09375 \nQ 40.234375 -1.421875 26.90625 -1.421875 \nQ 22.3125 -1.421875 17.546875 -0.640625 \nQ 12.796875 0.140625 7.71875 1.703125 \nL 7.71875 11.625 \nQ 12.109375 9.234375 16.796875 8.0625 \nQ 21.484375 6.890625 26.703125 6.890625 \nQ 35.15625 6.890625 40.078125 11.328125 \nQ 45.015625 15.765625 45.015625 23.390625 \nQ 45.015625 31 40.078125 35.4375 \nQ 35.15625 39.890625 26.703125 39.890625 \nQ 22.75 39.890625 18.8125 39.015625 \nQ 14.890625 38.140625 10.796875 36.28125 \nz\n\" id=\"DejaVuSans-53\"/>\n     </defs>\n     <use xlink:href=\"#DejaVuSans-82\"/>\n     <use x=\"69.482422\" xlink:href=\"#DejaVuSans-68\"/>\n     <use x=\"146.484375\" xlink:href=\"#DejaVuSans-69\"/>\n     <use x=\"209.667969\" xlink:href=\"#DejaVuSans-76\"/>\n     <use x=\"267.630859\" xlink:href=\"#DejaVuSans-65\"/>\n     <use x=\"328.289062\" xlink:href=\"#DejaVuSans-89\"/>\n     <use x=\"389.373047\" xlink:href=\"#DejaVuSans-95\"/>\n     <use x=\"439.373047\" xlink:href=\"#DejaVuSans-98\"/>\n     <use x=\"502.849609\" xlink:href=\"#DejaVuSans-105\"/>\n     <use x=\"530.632812\" xlink:href=\"#DejaVuSans-110\"/>\n     <use x=\"594.011719\" xlink:href=\"#DejaVuSans-32\"/>\n     <use x=\"625.798828\" xlink:href=\"#DejaVuSans-61\"/>\n     <use x=\"709.587891\" xlink:href=\"#DejaVuSans-32\"/>\n     <use x=\"741.375\" xlink:href=\"#DejaVuSans-50\"/>\n     <use x=\"804.998047\" xlink:href=\"#DejaVuSans-53\"/>\n     <use x=\"868.621094\" xlink:href=\"#DejaVuSans-32\"/>\n     <use x=\"900.408203\" xlink:href=\"#DejaVuSans-45\"/>\n     <use x=\"936.492188\" xlink:href=\"#DejaVuSans-32\"/>\n     <use x=\"968.279297\" xlink:href=\"#DejaVuSans-52\"/>\n     <use x=\"1031.902344\" xlink:href=\"#DejaVuSans-56\"/>\n    </g>\n   </g>\n  </g>\n  <g id=\"legend_1\">\n   <g id=\"text_40\">\n    <!-- DASP14 -->\n    <g transform=\"translate(1810.251323 170.958594)scale(0.1 -0.1)\">\n     <defs>\n      <path d=\"M 53.515625 70.515625 \nL 53.515625 60.890625 \nQ 47.90625 63.578125 42.921875 64.890625 \nQ 37.9375 66.21875 33.296875 66.21875 \nQ 25.25 66.21875 20.875 63.09375 \nQ 16.5 59.96875 16.5 54.203125 \nQ 16.5 49.359375 19.40625 46.890625 \nQ 22.3125 44.4375 30.421875 42.921875 \nL 36.375 41.703125 \nQ 47.40625 39.59375 52.65625 34.296875 \nQ 57.90625 29 57.90625 20.125 \nQ 57.90625 9.515625 50.796875 4.046875 \nQ 43.703125 -1.421875 29.984375 -1.421875 \nQ 24.8125 -1.421875 18.96875 -0.25 \nQ 13.140625 0.921875 6.890625 3.21875 \nL 6.890625 13.375 \nQ 12.890625 10.015625 18.65625 8.296875 \nQ 24.421875 6.59375 29.984375 6.59375 \nQ 38.421875 6.59375 43.015625 9.90625 \nQ 47.609375 13.234375 47.609375 19.390625 \nQ 47.609375 24.75 44.3125 27.78125 \nQ 41.015625 30.8125 33.5 32.328125 \nL 27.484375 33.5 \nQ 16.453125 35.6875 11.515625 40.375 \nQ 6.59375 45.0625 6.59375 53.421875 \nQ 6.59375 63.09375 13.40625 68.65625 \nQ 20.21875 74.21875 32.171875 74.21875 \nQ 37.3125 74.21875 42.625 73.28125 \nQ 47.953125 72.359375 53.515625 70.515625 \nz\n\" id=\"DejaVuSans-83\"/>\n      <path d=\"M 19.671875 64.796875 \nL 19.671875 37.40625 \nL 32.078125 37.40625 \nQ 38.96875 37.40625 42.71875 40.96875 \nQ 46.484375 44.53125 46.484375 51.125 \nQ 46.484375 57.671875 42.71875 61.234375 \nQ 38.96875 64.796875 32.078125 64.796875 \nz\nM 9.8125 72.90625 \nL 32.078125 72.90625 \nQ 44.34375 72.90625 50.609375 67.359375 \nQ 56.890625 61.8125 56.890625 51.125 \nQ 56.890625 40.328125 50.609375 34.8125 \nQ 44.34375 29.296875 32.078125 29.296875 \nL 19.671875 29.296875 \nL 19.671875 0 \nL 9.8125 0 \nz\n\" id=\"DejaVuSans-80\"/>\n     </defs>\n     <use xlink:href=\"#DejaVuSans-68\"/>\n     <use x=\"75.251953\" xlink:href=\"#DejaVuSans-65\"/>\n     <use x=\"143.660156\" xlink:href=\"#DejaVuSans-83\"/>\n     <use x=\"207.136719\" xlink:href=\"#DejaVuSans-80\"/>\n     <use x=\"267.439453\" xlink:href=\"#DejaVuSans-49\"/>\n     <use x=\"331.0625\" xlink:href=\"#DejaVuSans-52\"/>\n    </g>\n   </g>\n   <g id=\"patch_57\">\n    <path d=\"M 1812.245073 185.636719 \nL 1832.245073 185.636719 \nL 1832.245073 178.636719 \nL 1812.245073 178.636719 \nz\n\" style=\"fill:#3274a1;\"/>\n   </g>\n   <g id=\"text_41\">\n    <!-- Y -->\n    <g transform=\"translate(1840.245073 185.636719)scale(0.1 -0.1)\">\n     <use xlink:href=\"#DejaVuSans-89\"/>\n    </g>\n   </g>\n   <g id=\"patch_58\">\n    <path d=\"M 1812.245073 200.314844 \nL 1832.245073 200.314844 \nL 1832.245073 193.314844 \nL 1812.245073 193.314844 \nz\n\" style=\"fill:#e1812c;\"/>\n   </g>\n   <g id=\"text_42\">\n    <!-- N -->\n    <g transform=\"translate(1840.245073 200.314844)scale(0.1 -0.1)\">\n     <use xlink:href=\"#DejaVuSans-78\"/>\n    </g>\n   </g>\n  </g>\n </g>\n <defs>\n  <clipPath id=\"pf893e47687\">\n   <rect height=\"307.4\" width=\"336.086338\" x=\"53.328125\" y=\"20.798437\"/>\n  </clipPath>\n  <clipPath id=\"p3c7339ac13\">\n   <rect height=\"307.4\" width=\"336.086338\" x=\"403.64234\" y=\"20.798437\"/>\n  </clipPath>\n  <clipPath id=\"pbea28de6d4\">\n   <rect height=\"307.4\" width=\"336.086338\" x=\"753.956555\" y=\"20.798437\"/>\n  </clipPath>\n  <clipPath id=\"p86dd654291\">\n   <rect height=\"307.4\" width=\"336.086338\" x=\"1104.27077\" y=\"20.798437\"/>\n  </clipPath>\n  <clipPath id=\"p2c7b8f7568\">\n   <rect height=\"307.4\" width=\"336.086338\" x=\"1454.584985\" y=\"20.798437\"/>\n  </clipPath>\n </defs>\n</svg>\n",
      "image/png": "[encoded data removed]"
     },
     "metadata": {
      "needs_background": "light"
     }
    }
   ],
   "source": [
    "sns.catplot(x=\"OCCODE\", col=\"RDELAY_bin\", hue ='DASP14', data=df,kind=\"count\")"
   ]
  },
  {
   "cell_type": "code",
   "execution_count": 117,
   "metadata": {},
   "outputs": [
    {
     "output_type": "stream",
     "name": "stderr",
     "text": [
      "<ipython-input-117-d3d1a9175ea4>:12: UserWarning: FixedFormatter should only be used together with FixedLocator\n  ax.set_xticklabels(xlabels)\n"
     ]
    },
    {
     "output_type": "display_data",
     "data": {
      "text/plain": "<Figure size 432x288 with 1 Axes>",
      "image/svg+xml": "<?xml version=\"1.0\" encoding=\"utf-8\" standalone=\"no\"?>\n<!DOCTYPE svg PUBLIC \"-//W3C//DTD SVG 1.1//EN\"\n  \"http://www.w3.org/Graphics/SVG/1.1/DTD/svg11.dtd\">\n<!-- Created with matplotlib (https://matplotlib.org/) -->\n<svg height=\"262.19625pt\" version=\"1.1\" viewBox=\"0 0 450.235937 262.19625\" width=\"450.235937pt\" xmlns=\"http://www.w3.org/2000/svg\" xmlns:xlink=\"http://www.w3.org/1999/xlink\">\n <metadata>\n  <rdf:RDF xmlns:cc=\"http://creativecommons.org/ns#\" xmlns:dc=\"http://purl.org/dc/elements/1.1/\" xmlns:rdf=\"http://www.w3.org/1999/02/22-rdf-syntax-ns#\">\n   <cc:Work>\n    <dc:type rdf:resource=\"http://purl.org/dc/dcmitype/StillImage\"/>\n    <dc:date>2021-04-12T18:28:57.396929</dc:date>\n    <dc:format>image/svg+xml</dc:format>\n    <dc:creator>\n     <cc:Agent>\n      <dc:title>Matplotlib v3.3.4, https://matplotlib.org/</dc:title>\n     </cc:Agent>\n    </dc:creator>\n   </cc:Work>\n  </rdf:RDF>\n </metadata>\n <defs>\n  <style type=\"text/css\">*{stroke-linecap:butt;stroke-linejoin:round;}</style>\n </defs>\n <g id=\"figure_1\">\n  <g id=\"patch_1\">\n   <path d=\"M 0 262.19625 \nL 450.235937 262.19625 \nL 450.235937 0 \nL 0 0 \nz\n\" style=\"fill:none;\"/>\n  </g>\n  <g id=\"axes_1\">\n   <g id=\"patch_2\">\n    <path d=\"M 98.692188 224.64 \nL 433.492188 224.64 \nL 433.492188 7.2 \nL 98.692188 7.2 \nz\n\" style=\"fill:#ffffff;\"/>\n   </g>\n   <g id=\"patch_3\">\n    <path clip-path=\"url(#pac5548a340)\" d=\"M 98.692188 7.2 \nL 217.567083 7.2 \nL 217.567083 61.56 \nL 98.692188 61.56 \nz\n\" style=\"fill:#9467bd;fill-opacity:0.75;stroke:#000000;stroke-linejoin:miter;stroke-width:-5.436;\"/>\n   </g>\n   <g id=\"patch_4\">\n    <path clip-path=\"url(#pac5548a340)\" d=\"M 98.692188 61.56 \nL 223.436051 61.56 \nL 223.436051 115.92 \nL 98.692188 115.92 \nz\n\" style=\"fill:#9467bd;fill-opacity:0.75;stroke:#000000;stroke-linejoin:miter;stroke-width:-5.436;\"/>\n   </g>\n   <g id=\"patch_5\">\n    <path clip-path=\"url(#pac5548a340)\" d=\"M 98.692188 115.92 \nL 196.659761 115.92 \nL 196.659761 170.28 \nL 98.692188 170.28 \nz\n\" style=\"fill:#9467bd;fill-opacity:0.75;stroke:#000000;stroke-linejoin:miter;stroke-width:-5.436;\"/>\n   </g>\n   <g id=\"patch_6\">\n    <path clip-path=\"url(#pac5548a340)\" d=\"M 98.692188 170.28 \nL 217.127688 170.28 \nL 217.127688 224.64 \nL 98.692188 224.64 \nz\n\" style=\"fill:#9467bd;fill-opacity:0.75;stroke:#000000;stroke-linejoin:miter;stroke-width:-5.436;\"/>\n   </g>\n   <g id=\"patch_7\">\n    <path clip-path=\"url(#pac5548a340)\" d=\"M 217.567083 7.2 \nL 317.21768 7.2 \nL 317.21768 61.56 \nL 217.567083 61.56 \nz\n\" style=\"fill:#d62728;fill-opacity:0.75;stroke:#000000;stroke-linejoin:miter;stroke-width:-5.436;\"/>\n   </g>\n   <g id=\"patch_8\">\n    <path clip-path=\"url(#pac5548a340)\" d=\"M 223.436051 61.56 \nL 325.515963 61.56 \nL 325.515963 115.92 \nL 223.436051 115.92 \nz\n\" style=\"fill:#d62728;fill-opacity:0.75;stroke:#000000;stroke-linejoin:miter;stroke-width:-5.436;\"/>\n   </g>\n   <g id=\"patch_9\">\n    <path clip-path=\"url(#pac5548a340)\" d=\"M 196.659761 115.92 \nL 285.890189 115.92 \nL 285.890189 170.28 \nL 196.659761 170.28 \nz\n\" style=\"fill:#d62728;fill-opacity:0.75;stroke:#000000;stroke-linejoin:miter;stroke-width:-5.436;\"/>\n   </g>\n   <g id=\"patch_10\">\n    <path clip-path=\"url(#pac5548a340)\" d=\"M 217.127688 170.28 \nL 315.893687 170.28 \nL 315.893687 224.64 \nL 217.127688 224.64 \nz\n\" style=\"fill:#d62728;fill-opacity:0.75;stroke:#000000;stroke-linejoin:miter;stroke-width:-5.436;\"/>\n   </g>\n   <g id=\"patch_11\">\n    <path clip-path=\"url(#pac5548a340)\" d=\"M 317.21768 7.2 \nL 382.506002 7.2 \nL 382.506002 61.56 \nL 317.21768 61.56 \nz\n\" style=\"fill:#2ca02c;fill-opacity:0.75;stroke:#000000;stroke-linejoin:miter;stroke-width:-5.436;\"/>\n   </g>\n   <g id=\"patch_12\">\n    <path clip-path=\"url(#pac5548a340)\" d=\"M 325.515963 61.56 \nL 390.191142 61.56 \nL 390.191142 115.92 \nL 325.515963 115.92 \nz\n\" style=\"fill:#2ca02c;fill-opacity:0.75;stroke:#000000;stroke-linejoin:miter;stroke-width:-5.436;\"/>\n   </g>\n   <g id=\"patch_13\">\n    <path clip-path=\"url(#pac5548a340)\" d=\"M 285.890189 115.92 \nL 366.38347 115.92 \nL 366.38347 170.28 \nL 285.890189 170.28 \nz\n\" style=\"fill:#2ca02c;fill-opacity:0.75;stroke:#000000;stroke-linejoin:miter;stroke-width:-5.436;\"/>\n   </g>\n   <g id=\"patch_14\">\n    <path clip-path=\"url(#pac5548a340)\" d=\"M 315.893687 170.28 \nL 385.364688 170.28 \nL 385.364688 224.64 \nL 315.893687 224.64 \nz\n\" style=\"fill:#2ca02c;fill-opacity:0.75;stroke:#000000;stroke-linejoin:miter;stroke-width:-5.436;\"/>\n   </g>\n   <g id=\"patch_15\">\n    <path clip-path=\"url(#pac5548a340)\" d=\"M 382.506002 7.2 \nL 419.747278 7.2 \nL 419.747278 61.56 \nL 382.506002 61.56 \nz\n\" style=\"fill:#ff7f0e;fill-opacity:0.75;stroke:#000000;stroke-linejoin:miter;stroke-width:-5.436;\"/>\n   </g>\n   <g id=\"patch_16\">\n    <path clip-path=\"url(#pac5548a340)\" d=\"M 390.191142 61.56 \nL 424.463459 61.56 \nL 424.463459 115.92 \nL 390.191142 115.92 \nz\n\" style=\"fill:#ff7f0e;fill-opacity:0.75;stroke:#000000;stroke-linejoin:miter;stroke-width:-5.436;\"/>\n   </g>\n   <g id=\"patch_17\">\n    <path clip-path=\"url(#pac5548a340)\" d=\"M 366.38347 115.92 \nL 415.274309 115.92 \nL 415.274309 170.28 \nL 366.38347 170.28 \nz\n\" style=\"fill:#ff7f0e;fill-opacity:0.75;stroke:#000000;stroke-linejoin:miter;stroke-width:-5.436;\"/>\n   </g>\n   <g id=\"patch_18\">\n    <path clip-path=\"url(#pac5548a340)\" d=\"M 385.364687 170.28 \nL 420.309437 170.28 \nL 420.309437 224.64 \nL 385.364687 224.64 \nz\n\" style=\"fill:#ff7f0e;fill-opacity:0.75;stroke:#000000;stroke-linejoin:miter;stroke-width:-5.436;\"/>\n   </g>\n   <g id=\"patch_19\">\n    <path clip-path=\"url(#pac5548a340)\" d=\"M 419.747278 7.2 \nL 433.492187 7.2 \nL 433.492187 61.56 \nL 419.747278 61.56 \nz\n\" style=\"fill:#1f77b4;fill-opacity:0.75;stroke:#000000;stroke-linejoin:miter;stroke-width:-5.436;\"/>\n   </g>\n   <g id=\"patch_20\">\n    <path clip-path=\"url(#pac5548a340)\" d=\"M 424.463459 61.56 \nL 433.492187 61.56 \nL 433.492187 115.92 \nL 424.463459 115.92 \nz\n\" style=\"fill:#1f77b4;fill-opacity:0.75;stroke:#000000;stroke-linejoin:miter;stroke-width:-5.436;\"/>\n   </g>\n   <g id=\"patch_21\">\n    <path clip-path=\"url(#pac5548a340)\" d=\"M 415.274309 115.92 \nL 433.492187 115.92 \nL 433.492187 170.28 \nL 415.274309 170.28 \nz\n\" style=\"fill:#1f77b4;fill-opacity:0.75;stroke:#000000;stroke-linejoin:miter;stroke-width:-5.436;\"/>\n   </g>\n   <g id=\"patch_22\">\n    <path clip-path=\"url(#pac5548a340)\" d=\"M 420.309437 170.28 \nL 433.492187 170.28 \nL 433.492187 224.64 \nL 420.309437 224.64 \nz\n\" style=\"fill:#1f77b4;fill-opacity:0.75;stroke:#000000;stroke-linejoin:miter;stroke-width:-5.436;\"/>\n   </g>\n   <g id=\"matplotlib.axis_1\">\n    <g id=\"xtick_1\">\n     <g id=\"line2d_1\">\n      <defs>\n       <path d=\"M 0 0 \nL 0 3.5 \n\" id=\"m62073165b7\" style=\"stroke:#000000;stroke-width:0.8;\"/>\n      </defs>\n      <g>\n       <use style=\"stroke:#000000;stroke-width:0.8;\" x=\"98.692188\" xlink:href=\"#m62073165b7\" y=\"224.64\"/>\n      </g>\n     </g>\n     <g id=\"text_1\">\n      <!-- 0 -->\n      <g transform=\"translate(95.510938 239.238437)scale(0.1 -0.1)\">\n       <defs>\n        <path d=\"M 31.78125 66.40625 \nQ 24.171875 66.40625 20.328125 58.90625 \nQ 16.5 51.421875 16.5 36.375 \nQ 16.5 21.390625 20.328125 13.890625 \nQ 24.171875 6.390625 31.78125 6.390625 \nQ 39.453125 6.390625 43.28125 13.890625 \nQ 47.125 21.390625 47.125 36.375 \nQ 47.125 51.421875 43.28125 58.90625 \nQ 39.453125 66.40625 31.78125 66.40625 \nz\nM 31.78125 74.21875 \nQ 44.046875 74.21875 50.515625 64.515625 \nQ 56.984375 54.828125 56.984375 36.375 \nQ 56.984375 17.96875 50.515625 8.265625 \nQ 44.046875 -1.421875 31.78125 -1.421875 \nQ 19.53125 -1.421875 13.0625 8.265625 \nQ 6.59375 17.96875 6.59375 36.375 \nQ 6.59375 54.828125 13.0625 64.515625 \nQ 19.53125 74.21875 31.78125 74.21875 \nz\n\" id=\"DejaVuSans-48\"/>\n       </defs>\n       <use xlink:href=\"#DejaVuSans-48\"/>\n      </g>\n     </g>\n    </g>\n    <g id=\"xtick_2\">\n     <g id=\"line2d_2\">\n      <g>\n       <use style=\"stroke:#000000;stroke-width:0.8;\" x=\"165.652188\" xlink:href=\"#m62073165b7\" y=\"224.64\"/>\n      </g>\n     </g>\n     <g id=\"text_2\">\n      <!-- 20 -->\n      <g transform=\"translate(159.289688 239.238437)scale(0.1 -0.1)\">\n       <defs>\n        <path d=\"M 19.1875 8.296875 \nL 53.609375 8.296875 \nL 53.609375 0 \nL 7.328125 0 \nL 7.328125 8.296875 \nQ 12.9375 14.109375 22.625 23.890625 \nQ 32.328125 33.6875 34.8125 36.53125 \nQ 39.546875 41.84375 41.421875 45.53125 \nQ 43.3125 49.21875 43.3125 52.78125 \nQ 43.3125 58.59375 39.234375 62.25 \nQ 35.15625 65.921875 28.609375 65.921875 \nQ 23.96875 65.921875 18.8125 64.3125 \nQ 13.671875 62.703125 7.8125 59.421875 \nL 7.8125 69.390625 \nQ 13.765625 71.78125 18.9375 73 \nQ 24.125 74.21875 28.421875 74.21875 \nQ 39.75 74.21875 46.484375 68.546875 \nQ 53.21875 62.890625 53.21875 53.421875 \nQ 53.21875 48.921875 51.53125 44.890625 \nQ 49.859375 40.875 45.40625 35.40625 \nQ 44.1875 33.984375 37.640625 27.21875 \nQ 31.109375 20.453125 19.1875 8.296875 \nz\n\" id=\"DejaVuSans-50\"/>\n       </defs>\n       <use xlink:href=\"#DejaVuSans-50\"/>\n       <use x=\"63.623047\" xlink:href=\"#DejaVuSans-48\"/>\n      </g>\n     </g>\n    </g>\n    <g id=\"xtick_3\">\n     <g id=\"line2d_3\">\n      <g>\n       <use style=\"stroke:#000000;stroke-width:0.8;\" x=\"232.612188\" xlink:href=\"#m62073165b7\" y=\"224.64\"/>\n      </g>\n     </g>\n     <g id=\"text_3\">\n      <!-- 40 -->\n      <g transform=\"translate(226.249687 239.238437)scale(0.1 -0.1)\">\n       <defs>\n        <path d=\"M 37.796875 64.3125 \nL 12.890625 25.390625 \nL 37.796875 25.390625 \nz\nM 35.203125 72.90625 \nL 47.609375 72.90625 \nL 47.609375 25.390625 \nL 58.015625 25.390625 \nL 58.015625 17.1875 \nL 47.609375 17.1875 \nL 47.609375 0 \nL 37.796875 0 \nL 37.796875 17.1875 \nL 4.890625 17.1875 \nL 4.890625 26.703125 \nz\n\" id=\"DejaVuSans-52\"/>\n       </defs>\n       <use xlink:href=\"#DejaVuSans-52\"/>\n       <use x=\"63.623047\" xlink:href=\"#DejaVuSans-48\"/>\n      </g>\n     </g>\n    </g>\n    <g id=\"xtick_4\">\n     <g id=\"line2d_4\">\n      <g>\n       <use style=\"stroke:#000000;stroke-width:0.8;\" x=\"299.572188\" xlink:href=\"#m62073165b7\" y=\"224.64\"/>\n      </g>\n     </g>\n     <g id=\"text_4\">\n      <!-- 60 -->\n      <g transform=\"translate(293.209688 239.238437)scale(0.1 -0.1)\">\n       <defs>\n        <path d=\"M 33.015625 40.375 \nQ 26.375 40.375 22.484375 35.828125 \nQ 18.609375 31.296875 18.609375 23.390625 \nQ 18.609375 15.53125 22.484375 10.953125 \nQ 26.375 6.390625 33.015625 6.390625 \nQ 39.65625 6.390625 43.53125 10.953125 \nQ 47.40625 15.53125 47.40625 23.390625 \nQ 47.40625 31.296875 43.53125 35.828125 \nQ 39.65625 40.375 33.015625 40.375 \nz\nM 52.59375 71.296875 \nL 52.59375 62.3125 \nQ 48.875 64.0625 45.09375 64.984375 \nQ 41.3125 65.921875 37.59375 65.921875 \nQ 27.828125 65.921875 22.671875 59.328125 \nQ 17.53125 52.734375 16.796875 39.40625 \nQ 19.671875 43.65625 24.015625 45.921875 \nQ 28.375 48.1875 33.59375 48.1875 \nQ 44.578125 48.1875 50.953125 41.515625 \nQ 57.328125 34.859375 57.328125 23.390625 \nQ 57.328125 12.15625 50.6875 5.359375 \nQ 44.046875 -1.421875 33.015625 -1.421875 \nQ 20.359375 -1.421875 13.671875 8.265625 \nQ 6.984375 17.96875 6.984375 36.375 \nQ 6.984375 53.65625 15.1875 63.9375 \nQ 23.390625 74.21875 37.203125 74.21875 \nQ 40.921875 74.21875 44.703125 73.484375 \nQ 48.484375 72.75 52.59375 71.296875 \nz\n\" id=\"DejaVuSans-54\"/>\n       </defs>\n       <use xlink:href=\"#DejaVuSans-54\"/>\n       <use x=\"63.623047\" xlink:href=\"#DejaVuSans-48\"/>\n      </g>\n     </g>\n    </g>\n    <g id=\"xtick_5\">\n     <g id=\"line2d_5\">\n      <g>\n       <use style=\"stroke:#000000;stroke-width:0.8;\" x=\"366.532187\" xlink:href=\"#m62073165b7\" y=\"224.64\"/>\n      </g>\n     </g>\n     <g id=\"text_5\">\n      <!-- 80 -->\n      <g transform=\"translate(360.169687 239.238437)scale(0.1 -0.1)\">\n       <defs>\n        <path d=\"M 31.78125 34.625 \nQ 24.75 34.625 20.71875 30.859375 \nQ 16.703125 27.09375 16.703125 20.515625 \nQ 16.703125 13.921875 20.71875 10.15625 \nQ 24.75 6.390625 31.78125 6.390625 \nQ 38.8125 6.390625 42.859375 10.171875 \nQ 46.921875 13.96875 46.921875 20.515625 \nQ 46.921875 27.09375 42.890625 30.859375 \nQ 38.875 34.625 31.78125 34.625 \nz\nM 21.921875 38.8125 \nQ 15.578125 40.375 12.03125 44.71875 \nQ 8.5 49.078125 8.5 55.328125 \nQ 8.5 64.0625 14.71875 69.140625 \nQ 20.953125 74.21875 31.78125 74.21875 \nQ 42.671875 74.21875 48.875 69.140625 \nQ 55.078125 64.0625 55.078125 55.328125 \nQ 55.078125 49.078125 51.53125 44.71875 \nQ 48 40.375 41.703125 38.8125 \nQ 48.828125 37.15625 52.796875 32.3125 \nQ 56.78125 27.484375 56.78125 20.515625 \nQ 56.78125 9.90625 50.3125 4.234375 \nQ 43.84375 -1.421875 31.78125 -1.421875 \nQ 19.734375 -1.421875 13.25 4.234375 \nQ 6.78125 9.90625 6.78125 20.515625 \nQ 6.78125 27.484375 10.78125 32.3125 \nQ 14.796875 37.15625 21.921875 38.8125 \nz\nM 18.3125 54.390625 \nQ 18.3125 48.734375 21.84375 45.5625 \nQ 25.390625 42.390625 31.78125 42.390625 \nQ 38.140625 42.390625 41.71875 45.5625 \nQ 45.3125 48.734375 45.3125 54.390625 \nQ 45.3125 60.0625 41.71875 63.234375 \nQ 38.140625 66.40625 31.78125 66.40625 \nQ 25.390625 66.40625 21.84375 63.234375 \nQ 18.3125 60.0625 18.3125 54.390625 \nz\n\" id=\"DejaVuSans-56\"/>\n       </defs>\n       <use xlink:href=\"#DejaVuSans-56\"/>\n       <use x=\"63.623047\" xlink:href=\"#DejaVuSans-48\"/>\n      </g>\n     </g>\n    </g>\n    <g id=\"xtick_6\">\n     <g id=\"line2d_6\">\n      <g>\n       <use style=\"stroke:#000000;stroke-width:0.8;\" x=\"433.492188\" xlink:href=\"#m62073165b7\" y=\"224.64\"/>\n      </g>\n     </g>\n     <g id=\"text_6\">\n      <!-- 100 -->\n      <g transform=\"translate(423.948438 239.238437)scale(0.1 -0.1)\">\n       <defs>\n        <path d=\"M 12.40625 8.296875 \nL 28.515625 8.296875 \nL 28.515625 63.921875 \nL 10.984375 60.40625 \nL 10.984375 69.390625 \nL 28.421875 72.90625 \nL 38.28125 72.90625 \nL 38.28125 8.296875 \nL 54.390625 8.296875 \nL 54.390625 0 \nL 12.40625 0 \nz\n\" id=\"DejaVuSans-49\"/>\n       </defs>\n       <use xlink:href=\"#DejaVuSans-49\"/>\n       <use x=\"63.623047\" xlink:href=\"#DejaVuSans-48\"/>\n       <use x=\"127.246094\" xlink:href=\"#DejaVuSans-48\"/>\n      </g>\n     </g>\n    </g>\n    <g id=\"text_7\">\n     <!-- Percent -->\n     <g transform=\"translate(247.284375 252.916562)scale(0.1 -0.1)\">\n      <defs>\n       <path d=\"M 19.671875 64.796875 \nL 19.671875 37.40625 \nL 32.078125 37.40625 \nQ 38.96875 37.40625 42.71875 40.96875 \nQ 46.484375 44.53125 46.484375 51.125 \nQ 46.484375 57.671875 42.71875 61.234375 \nQ 38.96875 64.796875 32.078125 64.796875 \nz\nM 9.8125 72.90625 \nL 32.078125 72.90625 \nQ 44.34375 72.90625 50.609375 67.359375 \nQ 56.890625 61.8125 56.890625 51.125 \nQ 56.890625 40.328125 50.609375 34.8125 \nQ 44.34375 29.296875 32.078125 29.296875 \nL 19.671875 29.296875 \nL 19.671875 0 \nL 9.8125 0 \nz\n\" id=\"DejaVuSans-80\"/>\n       <path d=\"M 56.203125 29.59375 \nL 56.203125 25.203125 \nL 14.890625 25.203125 \nQ 15.484375 15.921875 20.484375 11.0625 \nQ 25.484375 6.203125 34.421875 6.203125 \nQ 39.59375 6.203125 44.453125 7.46875 \nQ 49.3125 8.734375 54.109375 11.28125 \nL 54.109375 2.78125 \nQ 49.265625 0.734375 44.1875 -0.34375 \nQ 39.109375 -1.421875 33.890625 -1.421875 \nQ 20.796875 -1.421875 13.15625 6.1875 \nQ 5.515625 13.8125 5.515625 26.8125 \nQ 5.515625 40.234375 12.765625 48.109375 \nQ 20.015625 56 32.328125 56 \nQ 43.359375 56 49.78125 48.890625 \nQ 56.203125 41.796875 56.203125 29.59375 \nz\nM 47.21875 32.234375 \nQ 47.125 39.59375 43.09375 43.984375 \nQ 39.0625 48.390625 32.421875 48.390625 \nQ 24.90625 48.390625 20.390625 44.140625 \nQ 15.875 39.890625 15.1875 32.171875 \nz\n\" id=\"DejaVuSans-101\"/>\n       <path d=\"M 41.109375 46.296875 \nQ 39.59375 47.171875 37.8125 47.578125 \nQ 36.03125 48 33.890625 48 \nQ 26.265625 48 22.1875 43.046875 \nQ 18.109375 38.09375 18.109375 28.8125 \nL 18.109375 0 \nL 9.078125 0 \nL 9.078125 54.6875 \nL 18.109375 54.6875 \nL 18.109375 46.1875 \nQ 20.953125 51.171875 25.484375 53.578125 \nQ 30.03125 56 36.53125 56 \nQ 37.453125 56 38.578125 55.875 \nQ 39.703125 55.765625 41.0625 55.515625 \nz\n\" id=\"DejaVuSans-114\"/>\n       <path d=\"M 48.78125 52.59375 \nL 48.78125 44.1875 \nQ 44.96875 46.296875 41.140625 47.34375 \nQ 37.3125 48.390625 33.40625 48.390625 \nQ 24.65625 48.390625 19.8125 42.84375 \nQ 14.984375 37.3125 14.984375 27.296875 \nQ 14.984375 17.28125 19.8125 11.734375 \nQ 24.65625 6.203125 33.40625 6.203125 \nQ 37.3125 6.203125 41.140625 7.25 \nQ 44.96875 8.296875 48.78125 10.40625 \nL 48.78125 2.09375 \nQ 45.015625 0.34375 40.984375 -0.53125 \nQ 36.96875 -1.421875 32.421875 -1.421875 \nQ 20.0625 -1.421875 12.78125 6.34375 \nQ 5.515625 14.109375 5.515625 27.296875 \nQ 5.515625 40.671875 12.859375 48.328125 \nQ 20.21875 56 33.015625 56 \nQ 37.15625 56 41.109375 55.140625 \nQ 45.0625 54.296875 48.78125 52.59375 \nz\n\" id=\"DejaVuSans-99\"/>\n       <path d=\"M 54.890625 33.015625 \nL 54.890625 0 \nL 45.90625 0 \nL 45.90625 32.71875 \nQ 45.90625 40.484375 42.875 44.328125 \nQ 39.84375 48.1875 33.796875 48.1875 \nQ 26.515625 48.1875 22.3125 43.546875 \nQ 18.109375 38.921875 18.109375 30.90625 \nL 18.109375 0 \nL 9.078125 0 \nL 9.078125 54.6875 \nL 18.109375 54.6875 \nL 18.109375 46.1875 \nQ 21.34375 51.125 25.703125 53.5625 \nQ 30.078125 56 35.796875 56 \nQ 45.21875 56 50.046875 50.171875 \nQ 54.890625 44.34375 54.890625 33.015625 \nz\n\" id=\"DejaVuSans-110\"/>\n       <path d=\"M 18.3125 70.21875 \nL 18.3125 54.6875 \nL 36.8125 54.6875 \nL 36.8125 47.703125 \nL 18.3125 47.703125 \nL 18.3125 18.015625 \nQ 18.3125 11.328125 20.140625 9.421875 \nQ 21.96875 7.515625 27.59375 7.515625 \nL 36.8125 7.515625 \nL 36.8125 0 \nL 27.59375 0 \nQ 17.1875 0 13.234375 3.875 \nQ 9.28125 7.765625 9.28125 18.015625 \nL 9.28125 47.703125 \nL 2.6875 47.703125 \nL 2.6875 54.6875 \nL 9.28125 54.6875 \nL 9.28125 70.21875 \nz\n\" id=\"DejaVuSans-116\"/>\n      </defs>\n      <use xlink:href=\"#DejaVuSans-80\"/>\n      <use x=\"56.677734\" xlink:href=\"#DejaVuSans-101\"/>\n      <use x=\"118.201172\" xlink:href=\"#DejaVuSans-114\"/>\n      <use x=\"157.064453\" xlink:href=\"#DejaVuSans-99\"/>\n      <use x=\"212.044922\" xlink:href=\"#DejaVuSans-101\"/>\n      <use x=\"273.568359\" xlink:href=\"#DejaVuSans-110\"/>\n      <use x=\"336.947266\" xlink:href=\"#DejaVuSans-116\"/>\n     </g>\n    </g>\n   </g>\n   <g id=\"matplotlib.axis_2\">\n    <g id=\"ytick_1\">\n     <g id=\"line2d_7\">\n      <defs>\n       <path d=\"M 0 0 \nL -3.5 0 \n\" id=\"m4e04c2a15c\" style=\"stroke:#000000;stroke-width:0.8;\"/>\n      </defs>\n      <g>\n       <use style=\"stroke:#000000;stroke-width:0.8;\" x=\"98.692188\" xlink:href=\"#m4e04c2a15c\" y=\"34.38\"/>\n      </g>\n     </g>\n     <g id=\"text_8\">\n      <!-- Dependent -->\n      <g transform=\"translate(36.240625 38.179219)scale(0.1 -0.1)\">\n       <defs>\n        <path d=\"M 19.671875 64.796875 \nL 19.671875 8.109375 \nL 31.59375 8.109375 \nQ 46.6875 8.109375 53.6875 14.9375 \nQ 60.6875 21.78125 60.6875 36.53125 \nQ 60.6875 51.171875 53.6875 57.984375 \nQ 46.6875 64.796875 31.59375 64.796875 \nz\nM 9.8125 72.90625 \nL 30.078125 72.90625 \nQ 51.265625 72.90625 61.171875 64.09375 \nQ 71.09375 55.28125 71.09375 36.53125 \nQ 71.09375 17.671875 61.125 8.828125 \nQ 51.171875 0 30.078125 0 \nL 9.8125 0 \nz\n\" id=\"DejaVuSans-68\"/>\n        <path d=\"M 18.109375 8.203125 \nL 18.109375 -20.796875 \nL 9.078125 -20.796875 \nL 9.078125 54.6875 \nL 18.109375 54.6875 \nL 18.109375 46.390625 \nQ 20.953125 51.265625 25.265625 53.625 \nQ 29.59375 56 35.59375 56 \nQ 45.5625 56 51.78125 48.09375 \nQ 58.015625 40.1875 58.015625 27.296875 \nQ 58.015625 14.40625 51.78125 6.484375 \nQ 45.5625 -1.421875 35.59375 -1.421875 \nQ 29.59375 -1.421875 25.265625 0.953125 \nQ 20.953125 3.328125 18.109375 8.203125 \nz\nM 48.6875 27.296875 \nQ 48.6875 37.203125 44.609375 42.84375 \nQ 40.53125 48.484375 33.40625 48.484375 \nQ 26.265625 48.484375 22.1875 42.84375 \nQ 18.109375 37.203125 18.109375 27.296875 \nQ 18.109375 17.390625 22.1875 11.75 \nQ 26.265625 6.109375 33.40625 6.109375 \nQ 40.53125 6.109375 44.609375 11.75 \nQ 48.6875 17.390625 48.6875 27.296875 \nz\n\" id=\"DejaVuSans-112\"/>\n        <path d=\"M 45.40625 46.390625 \nL 45.40625 75.984375 \nL 54.390625 75.984375 \nL 54.390625 0 \nL 45.40625 0 \nL 45.40625 8.203125 \nQ 42.578125 3.328125 38.25 0.953125 \nQ 33.9375 -1.421875 27.875 -1.421875 \nQ 17.96875 -1.421875 11.734375 6.484375 \nQ 5.515625 14.40625 5.515625 27.296875 \nQ 5.515625 40.1875 11.734375 48.09375 \nQ 17.96875 56 27.875 56 \nQ 33.9375 56 38.25 53.625 \nQ 42.578125 51.265625 45.40625 46.390625 \nz\nM 14.796875 27.296875 \nQ 14.796875 17.390625 18.875 11.75 \nQ 22.953125 6.109375 30.078125 6.109375 \nQ 37.203125 6.109375 41.296875 11.75 \nQ 45.40625 17.390625 45.40625 27.296875 \nQ 45.40625 37.203125 41.296875 42.84375 \nQ 37.203125 48.484375 30.078125 48.484375 \nQ 22.953125 48.484375 18.875 42.84375 \nQ 14.796875 37.203125 14.796875 27.296875 \nz\n\" id=\"DejaVuSans-100\"/>\n       </defs>\n       <use xlink:href=\"#DejaVuSans-68\"/>\n       <use x=\"77.001953\" xlink:href=\"#DejaVuSans-101\"/>\n       <use x=\"138.525391\" xlink:href=\"#DejaVuSans-112\"/>\n       <use x=\"202.001953\" xlink:href=\"#DejaVuSans-101\"/>\n       <use x=\"263.525391\" xlink:href=\"#DejaVuSans-110\"/>\n       <use x=\"326.904297\" xlink:href=\"#DejaVuSans-100\"/>\n       <use x=\"390.380859\" xlink:href=\"#DejaVuSans-101\"/>\n       <use x=\"451.904297\" xlink:href=\"#DejaVuSans-110\"/>\n       <use x=\"515.283203\" xlink:href=\"#DejaVuSans-116\"/>\n      </g>\n     </g>\n    </g>\n    <g id=\"ytick_2\">\n     <g id=\"line2d_8\">\n      <g>\n       <use style=\"stroke:#000000;stroke-width:0.8;\" x=\"98.692188\" xlink:href=\"#m4e04c2a15c\" y=\"88.74\"/>\n      </g>\n     </g>\n     <g id=\"text_9\">\n      <!-- Not recovered -->\n      <g transform=\"translate(20.878125 92.539219)scale(0.1 -0.1)\">\n       <defs>\n        <path d=\"M 9.8125 72.90625 \nL 23.09375 72.90625 \nL 55.421875 11.921875 \nL 55.421875 72.90625 \nL 64.984375 72.90625 \nL 64.984375 0 \nL 51.703125 0 \nL 19.390625 60.984375 \nL 19.390625 0 \nL 9.8125 0 \nz\n\" id=\"DejaVuSans-78\"/>\n        <path d=\"M 30.609375 48.390625 \nQ 23.390625 48.390625 19.1875 42.75 \nQ 14.984375 37.109375 14.984375 27.296875 \nQ 14.984375 17.484375 19.15625 11.84375 \nQ 23.34375 6.203125 30.609375 6.203125 \nQ 37.796875 6.203125 41.984375 11.859375 \nQ 46.1875 17.53125 46.1875 27.296875 \nQ 46.1875 37.015625 41.984375 42.703125 \nQ 37.796875 48.390625 30.609375 48.390625 \nz\nM 30.609375 56 \nQ 42.328125 56 49.015625 48.375 \nQ 55.71875 40.765625 55.71875 27.296875 \nQ 55.71875 13.875 49.015625 6.21875 \nQ 42.328125 -1.421875 30.609375 -1.421875 \nQ 18.84375 -1.421875 12.171875 6.21875 \nQ 5.515625 13.875 5.515625 27.296875 \nQ 5.515625 40.765625 12.171875 48.375 \nQ 18.84375 56 30.609375 56 \nz\n\" id=\"DejaVuSans-111\"/>\n        <path id=\"DejaVuSans-32\"/>\n        <path d=\"M 2.984375 54.6875 \nL 12.5 54.6875 \nL 29.59375 8.796875 \nL 46.6875 54.6875 \nL 56.203125 54.6875 \nL 35.6875 0 \nL 23.484375 0 \nz\n\" id=\"DejaVuSans-118\"/>\n       </defs>\n       <use xlink:href=\"#DejaVuSans-78\"/>\n       <use x=\"74.804688\" xlink:href=\"#DejaVuSans-111\"/>\n       <use x=\"135.986328\" xlink:href=\"#DejaVuSans-116\"/>\n       <use x=\"175.195312\" xlink:href=\"#DejaVuSans-32\"/>\n       <use x=\"206.982422\" xlink:href=\"#DejaVuSans-114\"/>\n       <use x=\"245.845703\" xlink:href=\"#DejaVuSans-101\"/>\n       <use x=\"307.369141\" xlink:href=\"#DejaVuSans-99\"/>\n       <use x=\"362.349609\" xlink:href=\"#DejaVuSans-111\"/>\n       <use x=\"423.53125\" xlink:href=\"#DejaVuSans-118\"/>\n       <use x=\"482.710938\" xlink:href=\"#DejaVuSans-101\"/>\n       <use x=\"544.234375\" xlink:href=\"#DejaVuSans-114\"/>\n       <use x=\"583.097656\" xlink:href=\"#DejaVuSans-101\"/>\n       <use x=\"644.621094\" xlink:href=\"#DejaVuSans-100\"/>\n      </g>\n     </g>\n    </g>\n    <g id=\"ytick_3\">\n     <g id=\"line2d_9\">\n      <g>\n       <use style=\"stroke:#000000;stroke-width:0.8;\" x=\"98.692188\" xlink:href=\"#m4e04c2a15c\" y=\"143.1\"/>\n      </g>\n     </g>\n     <g id=\"text_10\">\n      <!-- Dead -->\n      <g transform=\"translate(65.3625 146.899219)scale(0.1 -0.1)\">\n       <defs>\n        <path d=\"M 34.28125 27.484375 \nQ 23.390625 27.484375 19.1875 25 \nQ 14.984375 22.515625 14.984375 16.5 \nQ 14.984375 11.71875 18.140625 8.90625 \nQ 21.296875 6.109375 26.703125 6.109375 \nQ 34.1875 6.109375 38.703125 11.40625 \nQ 43.21875 16.703125 43.21875 25.484375 \nL 43.21875 27.484375 \nz\nM 52.203125 31.203125 \nL 52.203125 0 \nL 43.21875 0 \nL 43.21875 8.296875 \nQ 40.140625 3.328125 35.546875 0.953125 \nQ 30.953125 -1.421875 24.3125 -1.421875 \nQ 15.921875 -1.421875 10.953125 3.296875 \nQ 6 8.015625 6 15.921875 \nQ 6 25.140625 12.171875 29.828125 \nQ 18.359375 34.515625 30.609375 34.515625 \nL 43.21875 34.515625 \nL 43.21875 35.40625 \nQ 43.21875 41.609375 39.140625 45 \nQ 35.0625 48.390625 27.6875 48.390625 \nQ 23 48.390625 18.546875 47.265625 \nQ 14.109375 46.140625 10.015625 43.890625 \nL 10.015625 52.203125 \nQ 14.9375 54.109375 19.578125 55.046875 \nQ 24.21875 56 28.609375 56 \nQ 40.484375 56 46.34375 49.84375 \nQ 52.203125 43.703125 52.203125 31.203125 \nz\n\" id=\"DejaVuSans-97\"/>\n       </defs>\n       <use xlink:href=\"#DejaVuSans-68\"/>\n       <use x=\"77.001953\" xlink:href=\"#DejaVuSans-101\"/>\n       <use x=\"138.525391\" xlink:href=\"#DejaVuSans-97\"/>\n       <use x=\"199.804688\" xlink:href=\"#DejaVuSans-100\"/>\n      </g>\n     </g>\n    </g>\n    <g id=\"ytick_4\">\n     <g id=\"line2d_10\">\n      <g>\n       <use style=\"stroke:#000000;stroke-width:0.8;\" x=\"98.692188\" xlink:href=\"#m4e04c2a15c\" y=\"197.46\"/>\n      </g>\n     </g>\n     <g id=\"text_11\">\n      <!-- Recovered -->\n      <g transform=\"translate(38.964063 201.259219)scale(0.1 -0.1)\">\n       <defs>\n        <path d=\"M 44.390625 34.1875 \nQ 47.5625 33.109375 50.5625 29.59375 \nQ 53.5625 26.078125 56.59375 19.921875 \nL 66.609375 0 \nL 56 0 \nL 46.6875 18.703125 \nQ 43.0625 26.03125 39.671875 28.421875 \nQ 36.28125 30.8125 30.421875 30.8125 \nL 19.671875 30.8125 \nL 19.671875 0 \nL 9.8125 0 \nL 9.8125 72.90625 \nL 32.078125 72.90625 \nQ 44.578125 72.90625 50.734375 67.671875 \nQ 56.890625 62.453125 56.890625 51.90625 \nQ 56.890625 45.015625 53.6875 40.46875 \nQ 50.484375 35.9375 44.390625 34.1875 \nz\nM 19.671875 64.796875 \nL 19.671875 38.921875 \nL 32.078125 38.921875 \nQ 39.203125 38.921875 42.84375 42.21875 \nQ 46.484375 45.515625 46.484375 51.90625 \nQ 46.484375 58.296875 42.84375 61.546875 \nQ 39.203125 64.796875 32.078125 64.796875 \nz\n\" id=\"DejaVuSans-82\"/>\n       </defs>\n       <use xlink:href=\"#DejaVuSans-82\"/>\n       <use x=\"64.982422\" xlink:href=\"#DejaVuSans-101\"/>\n       <use x=\"126.505859\" xlink:href=\"#DejaVuSans-99\"/>\n       <use x=\"181.486328\" xlink:href=\"#DejaVuSans-111\"/>\n       <use x=\"242.667969\" xlink:href=\"#DejaVuSans-118\"/>\n       <use x=\"301.847656\" xlink:href=\"#DejaVuSans-101\"/>\n       <use x=\"363.371094\" xlink:href=\"#DejaVuSans-114\"/>\n       <use x=\"402.234375\" xlink:href=\"#DejaVuSans-101\"/>\n       <use x=\"463.757812\" xlink:href=\"#DejaVuSans-100\"/>\n      </g>\n     </g>\n    </g>\n    <g id=\"text_12\">\n     <!-- Outcome after 6 months -->\n     <g transform=\"translate(14.798438 177.349687)rotate(-90)scale(0.1 -0.1)\">\n      <defs>\n       <path d=\"M 39.40625 66.21875 \nQ 28.65625 66.21875 22.328125 58.203125 \nQ 16.015625 50.203125 16.015625 36.375 \nQ 16.015625 22.609375 22.328125 14.59375 \nQ 28.65625 6.59375 39.40625 6.59375 \nQ 50.140625 6.59375 56.421875 14.59375 \nQ 62.703125 22.609375 62.703125 36.375 \nQ 62.703125 50.203125 56.421875 58.203125 \nQ 50.140625 66.21875 39.40625 66.21875 \nz\nM 39.40625 74.21875 \nQ 54.734375 74.21875 63.90625 63.9375 \nQ 73.09375 53.65625 73.09375 36.375 \nQ 73.09375 19.140625 63.90625 8.859375 \nQ 54.734375 -1.421875 39.40625 -1.421875 \nQ 24.03125 -1.421875 14.8125 8.828125 \nQ 5.609375 19.09375 5.609375 36.375 \nQ 5.609375 53.65625 14.8125 63.9375 \nQ 24.03125 74.21875 39.40625 74.21875 \nz\n\" id=\"DejaVuSans-79\"/>\n       <path d=\"M 8.5 21.578125 \nL 8.5 54.6875 \nL 17.484375 54.6875 \nL 17.484375 21.921875 \nQ 17.484375 14.15625 20.5 10.265625 \nQ 23.53125 6.390625 29.59375 6.390625 \nQ 36.859375 6.390625 41.078125 11.03125 \nQ 45.3125 15.671875 45.3125 23.6875 \nL 45.3125 54.6875 \nL 54.296875 54.6875 \nL 54.296875 0 \nL 45.3125 0 \nL 45.3125 8.40625 \nQ 42.046875 3.421875 37.71875 1 \nQ 33.40625 -1.421875 27.6875 -1.421875 \nQ 18.265625 -1.421875 13.375 4.4375 \nQ 8.5 10.296875 8.5 21.578125 \nz\nM 31.109375 56 \nz\n\" id=\"DejaVuSans-117\"/>\n       <path d=\"M 52 44.1875 \nQ 55.375 50.25 60.0625 53.125 \nQ 64.75 56 71.09375 56 \nQ 79.640625 56 84.28125 50.015625 \nQ 88.921875 44.046875 88.921875 33.015625 \nL 88.921875 0 \nL 79.890625 0 \nL 79.890625 32.71875 \nQ 79.890625 40.578125 77.09375 44.375 \nQ 74.3125 48.1875 68.609375 48.1875 \nQ 61.625 48.1875 57.5625 43.546875 \nQ 53.515625 38.921875 53.515625 30.90625 \nL 53.515625 0 \nL 44.484375 0 \nL 44.484375 32.71875 \nQ 44.484375 40.625 41.703125 44.40625 \nQ 38.921875 48.1875 33.109375 48.1875 \nQ 26.21875 48.1875 22.15625 43.53125 \nQ 18.109375 38.875 18.109375 30.90625 \nL 18.109375 0 \nL 9.078125 0 \nL 9.078125 54.6875 \nL 18.109375 54.6875 \nL 18.109375 46.1875 \nQ 21.1875 51.21875 25.484375 53.609375 \nQ 29.78125 56 35.6875 56 \nQ 41.65625 56 45.828125 52.96875 \nQ 50 49.953125 52 44.1875 \nz\n\" id=\"DejaVuSans-109\"/>\n       <path d=\"M 37.109375 75.984375 \nL 37.109375 68.5 \nL 28.515625 68.5 \nQ 23.6875 68.5 21.796875 66.546875 \nQ 19.921875 64.59375 19.921875 59.515625 \nL 19.921875 54.6875 \nL 34.71875 54.6875 \nL 34.71875 47.703125 \nL 19.921875 47.703125 \nL 19.921875 0 \nL 10.890625 0 \nL 10.890625 47.703125 \nL 2.296875 47.703125 \nL 2.296875 54.6875 \nL 10.890625 54.6875 \nL 10.890625 58.5 \nQ 10.890625 67.625 15.140625 71.796875 \nQ 19.390625 75.984375 28.609375 75.984375 \nz\n\" id=\"DejaVuSans-102\"/>\n       <path d=\"M 54.890625 33.015625 \nL 54.890625 0 \nL 45.90625 0 \nL 45.90625 32.71875 \nQ 45.90625 40.484375 42.875 44.328125 \nQ 39.84375 48.1875 33.796875 48.1875 \nQ 26.515625 48.1875 22.3125 43.546875 \nQ 18.109375 38.921875 18.109375 30.90625 \nL 18.109375 0 \nL 9.078125 0 \nL 9.078125 75.984375 \nL 18.109375 75.984375 \nL 18.109375 46.1875 \nQ 21.34375 51.125 25.703125 53.5625 \nQ 30.078125 56 35.796875 56 \nQ 45.21875 56 50.046875 50.171875 \nQ 54.890625 44.34375 54.890625 33.015625 \nz\n\" id=\"DejaVuSans-104\"/>\n       <path d=\"M 44.28125 53.078125 \nL 44.28125 44.578125 \nQ 40.484375 46.53125 36.375 47.5 \nQ 32.28125 48.484375 27.875 48.484375 \nQ 21.1875 48.484375 17.84375 46.4375 \nQ 14.5 44.390625 14.5 40.28125 \nQ 14.5 37.15625 16.890625 35.375 \nQ 19.28125 33.59375 26.515625 31.984375 \nL 29.59375 31.296875 \nQ 39.15625 29.25 43.1875 25.515625 \nQ 47.21875 21.78125 47.21875 15.09375 \nQ 47.21875 7.46875 41.1875 3.015625 \nQ 35.15625 -1.421875 24.609375 -1.421875 \nQ 20.21875 -1.421875 15.453125 -0.5625 \nQ 10.6875 0.296875 5.421875 2 \nL 5.421875 11.28125 \nQ 10.40625 8.6875 15.234375 7.390625 \nQ 20.0625 6.109375 24.8125 6.109375 \nQ 31.15625 6.109375 34.5625 8.28125 \nQ 37.984375 10.453125 37.984375 14.40625 \nQ 37.984375 18.0625 35.515625 20.015625 \nQ 33.0625 21.96875 24.703125 23.78125 \nL 21.578125 24.515625 \nQ 13.234375 26.265625 9.515625 29.90625 \nQ 5.8125 33.546875 5.8125 39.890625 \nQ 5.8125 47.609375 11.28125 51.796875 \nQ 16.75 56 26.8125 56 \nQ 31.78125 56 36.171875 55.265625 \nQ 40.578125 54.546875 44.28125 53.078125 \nz\n\" id=\"DejaVuSans-115\"/>\n      </defs>\n      <use xlink:href=\"#DejaVuSans-79\"/>\n      <use x=\"78.710938\" xlink:href=\"#DejaVuSans-117\"/>\n      <use x=\"142.089844\" xlink:href=\"#DejaVuSans-116\"/>\n      <use x=\"181.298828\" xlink:href=\"#DejaVuSans-99\"/>\n      <use x=\"236.279297\" xlink:href=\"#DejaVuSans-111\"/>\n      <use x=\"297.460938\" xlink:href=\"#DejaVuSans-109\"/>\n      <use x=\"394.873047\" xlink:href=\"#DejaVuSans-101\"/>\n      <use x=\"456.396484\" xlink:href=\"#DejaVuSans-32\"/>\n      <use x=\"488.183594\" xlink:href=\"#DejaVuSans-97\"/>\n      <use x=\"549.462891\" xlink:href=\"#DejaVuSans-102\"/>\n      <use x=\"582.917969\" xlink:href=\"#DejaVuSans-116\"/>\n      <use x=\"622.126953\" xlink:href=\"#DejaVuSans-101\"/>\n      <use x=\"683.650391\" xlink:href=\"#DejaVuSans-114\"/>\n      <use x=\"724.763672\" xlink:href=\"#DejaVuSans-32\"/>\n      <use x=\"756.550781\" xlink:href=\"#DejaVuSans-54\"/>\n      <use x=\"820.173828\" xlink:href=\"#DejaVuSans-32\"/>\n      <use x=\"851.960938\" xlink:href=\"#DejaVuSans-109\"/>\n      <use x=\"949.373047\" xlink:href=\"#DejaVuSans-111\"/>\n      <use x=\"1010.554688\" xlink:href=\"#DejaVuSans-110\"/>\n      <use x=\"1073.933594\" xlink:href=\"#DejaVuSans-116\"/>\n      <use x=\"1113.142578\" xlink:href=\"#DejaVuSans-104\"/>\n      <use x=\"1176.521484\" xlink:href=\"#DejaVuSans-115\"/>\n     </g>\n    </g>\n   </g>\n   <g id=\"patch_23\">\n    <path d=\"M 98.692188 224.64 \nL 98.692188 7.2 \n\" style=\"fill:none;stroke:#000000;stroke-linecap:square;stroke-linejoin:miter;stroke-width:0.8;\"/>\n   </g>\n   <g id=\"patch_24\">\n    <path d=\"M 433.492188 224.64 \nL 433.492188 7.2 \n\" style=\"fill:none;stroke:#000000;stroke-linecap:square;stroke-linejoin:miter;stroke-width:0.8;\"/>\n   </g>\n   <g id=\"patch_25\">\n    <path d=\"M 98.692188 224.64 \nL 433.492188 224.64 \n\" style=\"fill:none;stroke:#000000;stroke-linecap:square;stroke-linejoin:miter;stroke-width:0.8;\"/>\n   </g>\n   <g id=\"patch_26\">\n    <path d=\"M 98.692188 7.2 \nL 433.492188 7.2 \n\" style=\"fill:none;stroke:#000000;stroke-linecap:square;stroke-linejoin:miter;stroke-width:0.8;\"/>\n   </g>\n   <g id=\"legend_1\">\n    <g id=\"patch_27\">\n     <path d=\"M 105.692188 103.546875 \nL 173.10625 103.546875 \nQ 175.10625 103.546875 175.10625 101.546875 \nL 175.10625 14.2 \nQ 175.10625 12.2 173.10625 12.2 \nL 105.692188 12.2 \nQ 103.692188 12.2 103.692188 14.2 \nL 103.692188 101.546875 \nQ 103.692188 103.546875 105.692188 103.546875 \nz\n\" style=\"fill:#ffffff;opacity:0.8;stroke:#cccccc;stroke-linejoin:miter;\"/>\n    </g>\n    <g id=\"text_13\">\n     <!-- RDELAY_bin -->\n     <g transform=\"translate(109.698438 23.798437)scale(0.1 -0.1)\">\n      <defs>\n       <path d=\"M 9.8125 72.90625 \nL 55.90625 72.90625 \nL 55.90625 64.59375 \nL 19.671875 64.59375 \nL 19.671875 43.015625 \nL 54.390625 43.015625 \nL 54.390625 34.71875 \nL 19.671875 34.71875 \nL 19.671875 8.296875 \nL 56.78125 8.296875 \nL 56.78125 0 \nL 9.8125 0 \nz\n\" id=\"DejaVuSans-69\"/>\n       <path d=\"M 9.8125 72.90625 \nL 19.671875 72.90625 \nL 19.671875 8.296875 \nL 55.171875 8.296875 \nL 55.171875 0 \nL 9.8125 0 \nz\n\" id=\"DejaVuSans-76\"/>\n       <path d=\"M 34.1875 63.1875 \nL 20.796875 26.90625 \nL 47.609375 26.90625 \nz\nM 28.609375 72.90625 \nL 39.796875 72.90625 \nL 67.578125 0 \nL 57.328125 0 \nL 50.6875 18.703125 \nL 17.828125 18.703125 \nL 11.1875 0 \nL 0.78125 0 \nz\n\" id=\"DejaVuSans-65\"/>\n       <path d=\"M -0.203125 72.90625 \nL 10.40625 72.90625 \nL 30.609375 42.921875 \nL 50.6875 72.90625 \nL 61.28125 72.90625 \nL 35.5 34.71875 \nL 35.5 0 \nL 25.59375 0 \nL 25.59375 34.71875 \nz\n\" id=\"DejaVuSans-89\"/>\n       <path d=\"M 50.984375 -16.609375 \nL 50.984375 -23.578125 \nL -0.984375 -23.578125 \nL -0.984375 -16.609375 \nz\n\" id=\"DejaVuSans-95\"/>\n       <path d=\"M 48.6875 27.296875 \nQ 48.6875 37.203125 44.609375 42.84375 \nQ 40.53125 48.484375 33.40625 48.484375 \nQ 26.265625 48.484375 22.1875 42.84375 \nQ 18.109375 37.203125 18.109375 27.296875 \nQ 18.109375 17.390625 22.1875 11.75 \nQ 26.265625 6.109375 33.40625 6.109375 \nQ 40.53125 6.109375 44.609375 11.75 \nQ 48.6875 17.390625 48.6875 27.296875 \nz\nM 18.109375 46.390625 \nQ 20.953125 51.265625 25.265625 53.625 \nQ 29.59375 56 35.59375 56 \nQ 45.5625 56 51.78125 48.09375 \nQ 58.015625 40.1875 58.015625 27.296875 \nQ 58.015625 14.40625 51.78125 6.484375 \nQ 45.5625 -1.421875 35.59375 -1.421875 \nQ 29.59375 -1.421875 25.265625 0.953125 \nQ 20.953125 3.328125 18.109375 8.203125 \nL 18.109375 0 \nL 9.078125 0 \nL 9.078125 75.984375 \nL 18.109375 75.984375 \nz\n\" id=\"DejaVuSans-98\"/>\n       <path d=\"M 9.421875 54.6875 \nL 18.40625 54.6875 \nL 18.40625 0 \nL 9.421875 0 \nz\nM 9.421875 75.984375 \nL 18.40625 75.984375 \nL 18.40625 64.59375 \nL 9.421875 64.59375 \nz\n\" id=\"DejaVuSans-105\"/>\n      </defs>\n      <use xlink:href=\"#DejaVuSans-82\"/>\n      <use x=\"69.482422\" xlink:href=\"#DejaVuSans-68\"/>\n      <use x=\"146.484375\" xlink:href=\"#DejaVuSans-69\"/>\n      <use x=\"209.667969\" xlink:href=\"#DejaVuSans-76\"/>\n      <use x=\"267.630859\" xlink:href=\"#DejaVuSans-65\"/>\n      <use x=\"328.289062\" xlink:href=\"#DejaVuSans-89\"/>\n      <use x=\"389.373047\" xlink:href=\"#DejaVuSans-95\"/>\n      <use x=\"439.373047\" xlink:href=\"#DejaVuSans-98\"/>\n      <use x=\"502.849609\" xlink:href=\"#DejaVuSans-105\"/>\n      <use x=\"530.632812\" xlink:href=\"#DejaVuSans-110\"/>\n     </g>\n    </g>\n    <g id=\"patch_28\">\n     <path d=\"M 107.692188 38.754687 \nL 127.692188 38.754687 \nL 127.692188 31.754687 \nL 107.692188 31.754687 \nz\n\" style=\"fill:#1f77b4;fill-opacity:0.75;stroke:#000000;stroke-linejoin:miter;\"/>\n    </g>\n    <g id=\"text_14\">\n     <!-- 0 - 3 -->\n     <g transform=\"translate(135.692188 38.754687)scale(0.1 -0.1)\">\n      <defs>\n       <path d=\"M 4.890625 31.390625 \nL 31.203125 31.390625 \nL 31.203125 23.390625 \nL 4.890625 23.390625 \nz\n\" id=\"DejaVuSans-45\"/>\n       <path d=\"M 40.578125 39.3125 \nQ 47.65625 37.796875 51.625 33 \nQ 55.609375 28.21875 55.609375 21.1875 \nQ 55.609375 10.40625 48.1875 4.484375 \nQ 40.765625 -1.421875 27.09375 -1.421875 \nQ 22.515625 -1.421875 17.65625 -0.515625 \nQ 12.796875 0.390625 7.625 2.203125 \nL 7.625 11.71875 \nQ 11.71875 9.328125 16.59375 8.109375 \nQ 21.484375 6.890625 26.8125 6.890625 \nQ 36.078125 6.890625 40.9375 10.546875 \nQ 45.796875 14.203125 45.796875 21.1875 \nQ 45.796875 27.640625 41.28125 31.265625 \nQ 36.765625 34.90625 28.71875 34.90625 \nL 20.21875 34.90625 \nL 20.21875 43.015625 \nL 29.109375 43.015625 \nQ 36.375 43.015625 40.234375 45.921875 \nQ 44.09375 48.828125 44.09375 54.296875 \nQ 44.09375 59.90625 40.109375 62.90625 \nQ 36.140625 65.921875 28.71875 65.921875 \nQ 24.65625 65.921875 20.015625 65.03125 \nQ 15.375 64.15625 9.8125 62.3125 \nL 9.8125 71.09375 \nQ 15.4375 72.65625 20.34375 73.4375 \nQ 25.25 74.21875 29.59375 74.21875 \nQ 40.828125 74.21875 47.359375 69.109375 \nQ 53.90625 64.015625 53.90625 55.328125 \nQ 53.90625 49.265625 50.4375 45.09375 \nQ 46.96875 40.921875 40.578125 39.3125 \nz\n\" id=\"DejaVuSans-51\"/>\n      </defs>\n      <use xlink:href=\"#DejaVuSans-48\"/>\n      <use x=\"63.623047\" xlink:href=\"#DejaVuSans-32\"/>\n      <use x=\"95.410156\" xlink:href=\"#DejaVuSans-45\"/>\n      <use x=\"131.494141\" xlink:href=\"#DejaVuSans-32\"/>\n      <use x=\"163.28125\" xlink:href=\"#DejaVuSans-51\"/>\n     </g>\n    </g>\n    <g id=\"patch_29\">\n     <path d=\"M 107.692188 53.432812 \nL 127.692188 53.432812 \nL 127.692188 46.432812 \nL 107.692188 46.432812 \nz\n\" style=\"fill:#ff7f0e;fill-opacity:0.75;stroke:#000000;stroke-linejoin:miter;\"/>\n    </g>\n    <g id=\"text_15\">\n     <!-- 4 - 6 -->\n     <g transform=\"translate(135.692188 53.432812)scale(0.1 -0.1)\">\n      <use xlink:href=\"#DejaVuSans-52\"/>\n      <use x=\"63.623047\" xlink:href=\"#DejaVuSans-32\"/>\n      <use x=\"95.410156\" xlink:href=\"#DejaVuSans-45\"/>\n      <use x=\"131.494141\" xlink:href=\"#DejaVuSans-32\"/>\n      <use x=\"163.28125\" xlink:href=\"#DejaVuSans-54\"/>\n     </g>\n    </g>\n    <g id=\"patch_30\">\n     <path d=\"M 107.692188 68.110937 \nL 127.692188 68.110937 \nL 127.692188 61.110937 \nL 107.692188 61.110937 \nz\n\" style=\"fill:#2ca02c;fill-opacity:0.75;stroke:#000000;stroke-linejoin:miter;\"/>\n    </g>\n    <g id=\"text_16\">\n     <!-- 7 - 12 -->\n     <g transform=\"translate(135.692188 68.110937)scale(0.1 -0.1)\">\n      <defs>\n       <path d=\"M 8.203125 72.90625 \nL 55.078125 72.90625 \nL 55.078125 68.703125 \nL 28.609375 0 \nL 18.3125 0 \nL 43.21875 64.59375 \nL 8.203125 64.59375 \nz\n\" id=\"DejaVuSans-55\"/>\n      </defs>\n      <use xlink:href=\"#DejaVuSans-55\"/>\n      <use x=\"63.623047\" xlink:href=\"#DejaVuSans-32\"/>\n      <use x=\"95.410156\" xlink:href=\"#DejaVuSans-45\"/>\n      <use x=\"131.494141\" xlink:href=\"#DejaVuSans-32\"/>\n      <use x=\"163.28125\" xlink:href=\"#DejaVuSans-49\"/>\n      <use x=\"226.904297\" xlink:href=\"#DejaVuSans-50\"/>\n     </g>\n    </g>\n    <g id=\"patch_31\">\n     <path d=\"M 107.692188 82.789062 \nL 127.692188 82.789062 \nL 127.692188 75.789062 \nL 107.692188 75.789062 \nz\n\" style=\"fill:#d62728;fill-opacity:0.75;stroke:#000000;stroke-linejoin:miter;\"/>\n    </g>\n    <g id=\"text_17\">\n     <!-- 13 - 24 -->\n     <g transform=\"translate(135.692188 82.789062)scale(0.1 -0.1)\">\n      <use xlink:href=\"#DejaVuSans-49\"/>\n      <use x=\"63.623047\" xlink:href=\"#DejaVuSans-51\"/>\n      <use x=\"127.246094\" xlink:href=\"#DejaVuSans-32\"/>\n      <use x=\"159.033203\" xlink:href=\"#DejaVuSans-45\"/>\n      <use x=\"195.117188\" xlink:href=\"#DejaVuSans-32\"/>\n      <use x=\"226.904297\" xlink:href=\"#DejaVuSans-50\"/>\n      <use x=\"290.527344\" xlink:href=\"#DejaVuSans-52\"/>\n     </g>\n    </g>\n    <g id=\"patch_32\">\n     <path d=\"M 107.692188 97.467187 \nL 127.692188 97.467187 \nL 127.692188 90.467187 \nL 107.692188 90.467187 \nz\n\" style=\"fill:#9467bd;fill-opacity:0.75;stroke:#000000;stroke-linejoin:miter;\"/>\n    </g>\n    <g id=\"text_18\">\n     <!-- 25 - 48 -->\n     <g transform=\"translate(135.692188 97.467187)scale(0.1 -0.1)\">\n      <defs>\n       <path d=\"M 10.796875 72.90625 \nL 49.515625 72.90625 \nL 49.515625 64.59375 \nL 19.828125 64.59375 \nL 19.828125 46.734375 \nQ 21.96875 47.46875 24.109375 47.828125 \nQ 26.265625 48.1875 28.421875 48.1875 \nQ 40.625 48.1875 47.75 41.5 \nQ 54.890625 34.8125 54.890625 23.390625 \nQ 54.890625 11.625 47.5625 5.09375 \nQ 40.234375 -1.421875 26.90625 -1.421875 \nQ 22.3125 -1.421875 17.546875 -0.640625 \nQ 12.796875 0.140625 7.71875 1.703125 \nL 7.71875 11.625 \nQ 12.109375 9.234375 16.796875 8.0625 \nQ 21.484375 6.890625 26.703125 6.890625 \nQ 35.15625 6.890625 40.078125 11.328125 \nQ 45.015625 15.765625 45.015625 23.390625 \nQ 45.015625 31 40.078125 35.4375 \nQ 35.15625 39.890625 26.703125 39.890625 \nQ 22.75 39.890625 18.8125 39.015625 \nQ 14.890625 38.140625 10.796875 36.28125 \nz\n\" id=\"DejaVuSans-53\"/>\n      </defs>\n      <use xlink:href=\"#DejaVuSans-50\"/>\n      <use x=\"63.623047\" xlink:href=\"#DejaVuSans-53\"/>\n      <use x=\"127.246094\" xlink:href=\"#DejaVuSans-32\"/>\n      <use x=\"159.033203\" xlink:href=\"#DejaVuSans-45\"/>\n      <use x=\"195.117188\" xlink:href=\"#DejaVuSans-32\"/>\n      <use x=\"226.904297\" xlink:href=\"#DejaVuSans-52\"/>\n      <use x=\"290.527344\" xlink:href=\"#DejaVuSans-56\"/>\n     </g>\n    </g>\n   </g>\n  </g>\n </g>\n <defs>\n  <clipPath id=\"pac5548a340\">\n   <rect height=\"217.44\" width=\"334.8\" x=\"98.692188\" y=\"7.2\"/>\n  </clipPath>\n </defs>\n</svg>\n",
      "image/png": "[encoded data removed]"
     },
     "metadata": {
      "needs_background": "light"
     }
    }
   ],
   "source": [
    "ax = sns.histplot(y = group_asp_y.OCCODE,\n",
    "                 hue= group_asp_y.RDELAY_bin,\n",
    "                 stat = 'probability',\n",
    "                 multiple=\"fill\",\n",
    "                 #order = ['Control', 'Aspirin', 'Low Heparin', 'Medium Heparin', 'Aspirin + Low Heparin', 'Aspirin + Medium Heparin']\n",
    "                 #palette = COLOR_STYPE\n",
    "                 )\n",
    "ax.set(xlabel=\"Percent\")\n",
    "ax.set(ylabel=\"Outcome after 6 months\")\n",
    "\n",
    "xlabels = ['{:,.0f}'.format(x) for x in ax.get_xticks()*100]\n",
    "ax.set_xticklabels(xlabels)\n",
    "\n",
    "#plt.legend(bbox_to_anchor=(1.05, 1), loc='upper left', \n",
    "#           labels = ['Indeterminate stroke', 'Haemorrhagic stroke', 'Ischaemic stroke'], labelspacing=1.2)\n",
    "\n",
    "#plt.savefig(\"images/treat_perc_diagstr.png\", bbox_inches=\"tight\")\n",
    "plt.show()"
   ]
  },
  {
   "cell_type": "code",
   "execution_count": 118,
   "metadata": {},
   "outputs": [
    {
     "output_type": "stream",
     "name": "stderr",
     "text": [
      "<ipython-input-118-15097053b16f>:12: UserWarning: FixedFormatter should only be used together with FixedLocator\n  ax.set_xticklabels(xlabels)\n"
     ]
    },
    {
     "output_type": "display_data",
     "data": {
      "text/plain": "<Figure size 432x288 with 1 Axes>",
      "image/svg+xml": "<?xml version=\"1.0\" encoding=\"utf-8\" standalone=\"no\"?>\n<!DOCTYPE svg PUBLIC \"-//W3C//DTD SVG 1.1//EN\"\n  \"http://www.w3.org/Graphics/SVG/1.1/DTD/svg11.dtd\">\n<!-- Created with matplotlib (https://matplotlib.org/) -->\n<svg height=\"262.19625pt\" version=\"1.1\" viewBox=\"0 0 450.235937 262.19625\" width=\"450.235937pt\" xmlns=\"http://www.w3.org/2000/svg\" xmlns:xlink=\"http://www.w3.org/1999/xlink\">\n <metadata>\n  <rdf:RDF xmlns:cc=\"http://creativecommons.org/ns#\" xmlns:dc=\"http://purl.org/dc/elements/1.1/\" xmlns:rdf=\"http://www.w3.org/1999/02/22-rdf-syntax-ns#\">\n   <cc:Work>\n    <dc:type rdf:resource=\"http://purl.org/dc/dcmitype/StillImage\"/>\n    <dc:date>2021-04-12T18:29:16.476727</dc:date>\n    <dc:format>image/svg+xml</dc:format>\n    <dc:creator>\n     <cc:Agent>\n      <dc:title>Matplotlib v3.3.4, https://matplotlib.org/</dc:title>\n     </cc:Agent>\n    </dc:creator>\n   </cc:Work>\n  </rdf:RDF>\n </metadata>\n <defs>\n  <style type=\"text/css\">*{stroke-linecap:butt;stroke-linejoin:round;}</style>\n </defs>\n <g id=\"figure_1\">\n  <g id=\"patch_1\">\n   <path d=\"M 0 262.19625 \nL 450.235937 262.19625 \nL 450.235937 0 \nL 0 0 \nz\n\" style=\"fill:none;\"/>\n  </g>\n  <g id=\"axes_1\">\n   <g id=\"patch_2\">\n    <path d=\"M 98.692188 224.64 \nL 433.492188 224.64 \nL 433.492188 7.2 \nL 98.692188 7.2 \nz\n\" style=\"fill:#ffffff;\"/>\n   </g>\n   <g id=\"patch_3\">\n    <path clip-path=\"url(#p8519012409)\" d=\"M 98.692188 7.2 \nL 211.398741 7.2 \nL 211.398741 61.56 \nL 98.692188 61.56 \nz\n\" style=\"fill:#9467bd;fill-opacity:0.75;stroke:#000000;stroke-linejoin:miter;stroke-width:-5.436;\"/>\n   </g>\n   <g id=\"patch_4\">\n    <path clip-path=\"url(#p8519012409)\" d=\"M 98.692188 61.56 \nL 216.856893 61.56 \nL 216.856893 115.92 \nL 98.692188 115.92 \nz\n\" style=\"fill:#9467bd;fill-opacity:0.75;stroke:#000000;stroke-linejoin:miter;stroke-width:-5.436;\"/>\n   </g>\n   <g id=\"patch_5\">\n    <path clip-path=\"url(#p8519012409)\" d=\"M 98.692188 115.92 \nL 222.743666 115.92 \nL 222.743666 170.28 \nL 98.692188 170.28 \nz\n\" style=\"fill:#9467bd;fill-opacity:0.75;stroke:#000000;stroke-linejoin:miter;stroke-width:-5.436;\"/>\n   </g>\n   <g id=\"patch_6\">\n    <path clip-path=\"url(#p8519012409)\" d=\"M 98.692188 170.28 \nL 199.420808 170.28 \nL 199.420808 224.64 \nL 98.692188 224.64 \nz\n\" style=\"fill:#9467bd;fill-opacity:0.75;stroke:#000000;stroke-linejoin:miter;stroke-width:-5.436;\"/>\n   </g>\n   <g id=\"patch_7\">\n    <path clip-path=\"url(#p8519012409)\" d=\"M 211.398741 7.2 \nL 305.239902 7.2 \nL 305.239902 61.56 \nL 211.398741 61.56 \nz\n\" style=\"fill:#d62728;fill-opacity:0.75;stroke:#000000;stroke-linejoin:miter;stroke-width:-5.436;\"/>\n   </g>\n   <g id=\"patch_8\">\n    <path clip-path=\"url(#p8519012409)\" d=\"M 216.856893 61.56 \nL 313.845129 61.56 \nL 313.845129 115.92 \nL 216.856893 115.92 \nz\n\" style=\"fill:#d62728;fill-opacity:0.75;stroke:#000000;stroke-linejoin:miter;stroke-width:-5.436;\"/>\n   </g>\n   <g id=\"patch_9\">\n    <path clip-path=\"url(#p8519012409)\" d=\"M 222.743666 115.92 \nL 319.691461 115.92 \nL 319.691461 170.28 \nL 222.743666 170.28 \nz\n\" style=\"fill:#d62728;fill-opacity:0.75;stroke:#000000;stroke-linejoin:miter;stroke-width:-5.436;\"/>\n   </g>\n   <g id=\"patch_10\">\n    <path clip-path=\"url(#p8519012409)\" d=\"M 199.420808 170.28 \nL 289.614774 170.28 \nL 289.614774 224.64 \nL 199.420808 224.64 \nz\n\" style=\"fill:#d62728;fill-opacity:0.75;stroke:#000000;stroke-linejoin:miter;stroke-width:-5.436;\"/>\n   </g>\n   <g id=\"patch_11\">\n    <path clip-path=\"url(#p8519012409)\" d=\"M 305.239902 7.2 \nL 375.357629 7.2 \nL 375.357629 61.56 \nL 305.239902 61.56 \nz\n\" style=\"fill:#2ca02c;fill-opacity:0.75;stroke:#000000;stroke-linejoin:miter;stroke-width:-5.436;\"/>\n   </g>\n   <g id=\"patch_12\">\n    <path clip-path=\"url(#p8519012409)\" d=\"M 313.845129 61.56 \nL 383.092188 61.56 \nL 383.092188 115.92 \nL 313.845129 115.92 \nz\n\" style=\"fill:#2ca02c;fill-opacity:0.75;stroke:#000000;stroke-linejoin:miter;stroke-width:-5.436;\"/>\n   </g>\n   <g id=\"patch_13\">\n    <path clip-path=\"url(#p8519012409)\" d=\"M 319.691461 115.92 \nL 393.531627 115.92 \nL 393.531627 170.28 \nL 319.691461 170.28 \nz\n\" style=\"fill:#2ca02c;fill-opacity:0.75;stroke:#000000;stroke-linejoin:miter;stroke-width:-5.436;\"/>\n   </g>\n   <g id=\"patch_14\">\n    <path clip-path=\"url(#p8519012409)\" d=\"M 289.614774 170.28 \nL 365.666325 170.28 \nL 365.666325 224.64 \nL 289.614774 224.64 \nz\n\" style=\"fill:#2ca02c;fill-opacity:0.75;stroke:#000000;stroke-linejoin:miter;stroke-width:-5.436;\"/>\n   </g>\n   <g id=\"patch_15\">\n    <path clip-path=\"url(#p8519012409)\" d=\"M 375.357629 7.2 \nL 417.541619 7.2 \nL 417.541619 61.56 \nL 375.357629 61.56 \nz\n\" style=\"fill:#ff7f0e;fill-opacity:0.75;stroke:#000000;stroke-linejoin:miter;stroke-width:-5.436;\"/>\n   </g>\n   <g id=\"patch_16\">\n    <path clip-path=\"url(#p8519012409)\" d=\"M 383.092188 61.56 \nL 419.727482 61.56 \nL 419.727482 115.92 \nL 383.092188 115.92 \nz\n\" style=\"fill:#ff7f0e;fill-opacity:0.75;stroke:#000000;stroke-linejoin:miter;stroke-width:-5.436;\"/>\n   </g>\n   <g id=\"patch_17\">\n    <path clip-path=\"url(#p8519012409)\" d=\"M 393.531627 115.92 \nL 423.936401 115.92 \nL 423.936401 170.28 \nL 393.531627 170.28 \nz\n\" style=\"fill:#ff7f0e;fill-opacity:0.75;stroke:#000000;stroke-linejoin:miter;stroke-width:-5.436;\"/>\n   </g>\n   <g id=\"patch_18\">\n    <path clip-path=\"url(#p8519012409)\" d=\"M 365.666325 170.28 \nL 413.865981 170.28 \nL 413.865981 224.64 \nL 365.666325 224.64 \nz\n\" style=\"fill:#ff7f0e;fill-opacity:0.75;stroke:#000000;stroke-linejoin:miter;stroke-width:-5.436;\"/>\n   </g>\n   <g id=\"patch_19\">\n    <path clip-path=\"url(#p8519012409)\" d=\"M 417.541619 7.2 \nL 433.492188 7.2 \nL 433.492188 61.56 \nL 417.541619 61.56 \nz\n\" style=\"fill:#1f77b4;fill-opacity:0.75;stroke:#000000;stroke-linejoin:miter;stroke-width:-5.436;\"/>\n   </g>\n   <g id=\"patch_20\">\n    <path clip-path=\"url(#p8519012409)\" d=\"M 419.727482 61.56 \nL 433.492188 61.56 \nL 433.492188 115.92 \nL 419.727482 115.92 \nz\n\" style=\"fill:#1f77b4;fill-opacity:0.75;stroke:#000000;stroke-linejoin:miter;stroke-width:-5.436;\"/>\n   </g>\n   <g id=\"patch_21\">\n    <path clip-path=\"url(#p8519012409)\" d=\"M 423.936401 115.92 \nL 433.492188 115.92 \nL 433.492188 170.28 \nL 423.936401 170.28 \nz\n\" style=\"fill:#1f77b4;fill-opacity:0.75;stroke:#000000;stroke-linejoin:miter;stroke-width:-5.436;\"/>\n   </g>\n   <g id=\"patch_22\">\n    <path clip-path=\"url(#p8519012409)\" d=\"M 413.865981 170.28 \nL 433.492188 170.28 \nL 433.492188 224.64 \nL 413.865981 224.64 \nz\n\" style=\"fill:#1f77b4;fill-opacity:0.75;stroke:#000000;stroke-linejoin:miter;stroke-width:-5.436;\"/>\n   </g>\n   <g id=\"matplotlib.axis_1\">\n    <g id=\"xtick_1\">\n     <g id=\"line2d_1\">\n      <defs>\n       <path d=\"M 0 0 \nL 0 3.5 \n\" id=\"m0ddbd662b0\" style=\"stroke:#000000;stroke-width:0.8;\"/>\n      </defs>\n      <g>\n       <use style=\"stroke:#000000;stroke-width:0.8;\" x=\"98.692188\" xlink:href=\"#m0ddbd662b0\" y=\"224.64\"/>\n      </g>\n     </g>\n     <g id=\"text_1\">\n      <!-- 0 -->\n      <g transform=\"translate(95.510938 239.238437)scale(0.1 -0.1)\">\n       <defs>\n        <path d=\"M 31.78125 66.40625 \nQ 24.171875 66.40625 20.328125 58.90625 \nQ 16.5 51.421875 16.5 36.375 \nQ 16.5 21.390625 20.328125 13.890625 \nQ 24.171875 6.390625 31.78125 6.390625 \nQ 39.453125 6.390625 43.28125 13.890625 \nQ 47.125 21.390625 47.125 36.375 \nQ 47.125 51.421875 43.28125 58.90625 \nQ 39.453125 66.40625 31.78125 66.40625 \nz\nM 31.78125 74.21875 \nQ 44.046875 74.21875 50.515625 64.515625 \nQ 56.984375 54.828125 56.984375 36.375 \nQ 56.984375 17.96875 50.515625 8.265625 \nQ 44.046875 -1.421875 31.78125 -1.421875 \nQ 19.53125 -1.421875 13.0625 8.265625 \nQ 6.59375 17.96875 6.59375 36.375 \nQ 6.59375 54.828125 13.0625 64.515625 \nQ 19.53125 74.21875 31.78125 74.21875 \nz\n\" id=\"DejaVuSans-48\"/>\n       </defs>\n       <use xlink:href=\"#DejaVuSans-48\"/>\n      </g>\n     </g>\n    </g>\n    <g id=\"xtick_2\">\n     <g id=\"line2d_2\">\n      <g>\n       <use style=\"stroke:#000000;stroke-width:0.8;\" x=\"165.652188\" xlink:href=\"#m0ddbd662b0\" y=\"224.64\"/>\n      </g>\n     </g>\n     <g id=\"text_2\">\n      <!-- 20 -->\n      <g transform=\"translate(159.289688 239.238437)scale(0.1 -0.1)\">\n       <defs>\n        <path d=\"M 19.1875 8.296875 \nL 53.609375 8.296875 \nL 53.609375 0 \nL 7.328125 0 \nL 7.328125 8.296875 \nQ 12.9375 14.109375 22.625 23.890625 \nQ 32.328125 33.6875 34.8125 36.53125 \nQ 39.546875 41.84375 41.421875 45.53125 \nQ 43.3125 49.21875 43.3125 52.78125 \nQ 43.3125 58.59375 39.234375 62.25 \nQ 35.15625 65.921875 28.609375 65.921875 \nQ 23.96875 65.921875 18.8125 64.3125 \nQ 13.671875 62.703125 7.8125 59.421875 \nL 7.8125 69.390625 \nQ 13.765625 71.78125 18.9375 73 \nQ 24.125 74.21875 28.421875 74.21875 \nQ 39.75 74.21875 46.484375 68.546875 \nQ 53.21875 62.890625 53.21875 53.421875 \nQ 53.21875 48.921875 51.53125 44.890625 \nQ 49.859375 40.875 45.40625 35.40625 \nQ 44.1875 33.984375 37.640625 27.21875 \nQ 31.109375 20.453125 19.1875 8.296875 \nz\n\" id=\"DejaVuSans-50\"/>\n       </defs>\n       <use xlink:href=\"#DejaVuSans-50\"/>\n       <use x=\"63.623047\" xlink:href=\"#DejaVuSans-48\"/>\n      </g>\n     </g>\n    </g>\n    <g id=\"xtick_3\">\n     <g id=\"line2d_3\">\n      <g>\n       <use style=\"stroke:#000000;stroke-width:0.8;\" x=\"232.612188\" xlink:href=\"#m0ddbd662b0\" y=\"224.64\"/>\n      </g>\n     </g>\n     <g id=\"text_3\">\n      <!-- 40 -->\n      <g transform=\"translate(226.249687 239.238437)scale(0.1 -0.1)\">\n       <defs>\n        <path d=\"M 37.796875 64.3125 \nL 12.890625 25.390625 \nL 37.796875 25.390625 \nz\nM 35.203125 72.90625 \nL 47.609375 72.90625 \nL 47.609375 25.390625 \nL 58.015625 25.390625 \nL 58.015625 17.1875 \nL 47.609375 17.1875 \nL 47.609375 0 \nL 37.796875 0 \nL 37.796875 17.1875 \nL 4.890625 17.1875 \nL 4.890625 26.703125 \nz\n\" id=\"DejaVuSans-52\"/>\n       </defs>\n       <use xlink:href=\"#DejaVuSans-52\"/>\n       <use x=\"63.623047\" xlink:href=\"#DejaVuSans-48\"/>\n      </g>\n     </g>\n    </g>\n    <g id=\"xtick_4\">\n     <g id=\"line2d_4\">\n      <g>\n       <use style=\"stroke:#000000;stroke-width:0.8;\" x=\"299.572188\" xlink:href=\"#m0ddbd662b0\" y=\"224.64\"/>\n      </g>\n     </g>\n     <g id=\"text_4\">\n      <!-- 60 -->\n      <g transform=\"translate(293.209688 239.238437)scale(0.1 -0.1)\">\n       <defs>\n        <path d=\"M 33.015625 40.375 \nQ 26.375 40.375 22.484375 35.828125 \nQ 18.609375 31.296875 18.609375 23.390625 \nQ 18.609375 15.53125 22.484375 10.953125 \nQ 26.375 6.390625 33.015625 6.390625 \nQ 39.65625 6.390625 43.53125 10.953125 \nQ 47.40625 15.53125 47.40625 23.390625 \nQ 47.40625 31.296875 43.53125 35.828125 \nQ 39.65625 40.375 33.015625 40.375 \nz\nM 52.59375 71.296875 \nL 52.59375 62.3125 \nQ 48.875 64.0625 45.09375 64.984375 \nQ 41.3125 65.921875 37.59375 65.921875 \nQ 27.828125 65.921875 22.671875 59.328125 \nQ 17.53125 52.734375 16.796875 39.40625 \nQ 19.671875 43.65625 24.015625 45.921875 \nQ 28.375 48.1875 33.59375 48.1875 \nQ 44.578125 48.1875 50.953125 41.515625 \nQ 57.328125 34.859375 57.328125 23.390625 \nQ 57.328125 12.15625 50.6875 5.359375 \nQ 44.046875 -1.421875 33.015625 -1.421875 \nQ 20.359375 -1.421875 13.671875 8.265625 \nQ 6.984375 17.96875 6.984375 36.375 \nQ 6.984375 53.65625 15.1875 63.9375 \nQ 23.390625 74.21875 37.203125 74.21875 \nQ 40.921875 74.21875 44.703125 73.484375 \nQ 48.484375 72.75 52.59375 71.296875 \nz\n\" id=\"DejaVuSans-54\"/>\n       </defs>\n       <use xlink:href=\"#DejaVuSans-54\"/>\n       <use x=\"63.623047\" xlink:href=\"#DejaVuSans-48\"/>\n      </g>\n     </g>\n    </g>\n    <g id=\"xtick_5\">\n     <g id=\"line2d_5\">\n      <g>\n       <use style=\"stroke:#000000;stroke-width:0.8;\" x=\"366.532187\" xlink:href=\"#m0ddbd662b0\" y=\"224.64\"/>\n      </g>\n     </g>\n     <g id=\"text_5\">\n      <!-- 80 -->\n      <g transform=\"translate(360.169687 239.238437)scale(0.1 -0.1)\">\n       <defs>\n        <path d=\"M 31.78125 34.625 \nQ 24.75 34.625 20.71875 30.859375 \nQ 16.703125 27.09375 16.703125 20.515625 \nQ 16.703125 13.921875 20.71875 10.15625 \nQ 24.75 6.390625 31.78125 6.390625 \nQ 38.8125 6.390625 42.859375 10.171875 \nQ 46.921875 13.96875 46.921875 20.515625 \nQ 46.921875 27.09375 42.890625 30.859375 \nQ 38.875 34.625 31.78125 34.625 \nz\nM 21.921875 38.8125 \nQ 15.578125 40.375 12.03125 44.71875 \nQ 8.5 49.078125 8.5 55.328125 \nQ 8.5 64.0625 14.71875 69.140625 \nQ 20.953125 74.21875 31.78125 74.21875 \nQ 42.671875 74.21875 48.875 69.140625 \nQ 55.078125 64.0625 55.078125 55.328125 \nQ 55.078125 49.078125 51.53125 44.71875 \nQ 48 40.375 41.703125 38.8125 \nQ 48.828125 37.15625 52.796875 32.3125 \nQ 56.78125 27.484375 56.78125 20.515625 \nQ 56.78125 9.90625 50.3125 4.234375 \nQ 43.84375 -1.421875 31.78125 -1.421875 \nQ 19.734375 -1.421875 13.25 4.234375 \nQ 6.78125 9.90625 6.78125 20.515625 \nQ 6.78125 27.484375 10.78125 32.3125 \nQ 14.796875 37.15625 21.921875 38.8125 \nz\nM 18.3125 54.390625 \nQ 18.3125 48.734375 21.84375 45.5625 \nQ 25.390625 42.390625 31.78125 42.390625 \nQ 38.140625 42.390625 41.71875 45.5625 \nQ 45.3125 48.734375 45.3125 54.390625 \nQ 45.3125 60.0625 41.71875 63.234375 \nQ 38.140625 66.40625 31.78125 66.40625 \nQ 25.390625 66.40625 21.84375 63.234375 \nQ 18.3125 60.0625 18.3125 54.390625 \nz\n\" id=\"DejaVuSans-56\"/>\n       </defs>\n       <use xlink:href=\"#DejaVuSans-56\"/>\n       <use x=\"63.623047\" xlink:href=\"#DejaVuSans-48\"/>\n      </g>\n     </g>\n    </g>\n    <g id=\"xtick_6\">\n     <g id=\"line2d_6\">\n      <g>\n       <use style=\"stroke:#000000;stroke-width:0.8;\" x=\"433.492188\" xlink:href=\"#m0ddbd662b0\" y=\"224.64\"/>\n      </g>\n     </g>\n     <g id=\"text_6\">\n      <!-- 100 -->\n      <g transform=\"translate(423.948438 239.238437)scale(0.1 -0.1)\">\n       <defs>\n        <path d=\"M 12.40625 8.296875 \nL 28.515625 8.296875 \nL 28.515625 63.921875 \nL 10.984375 60.40625 \nL 10.984375 69.390625 \nL 28.421875 72.90625 \nL 38.28125 72.90625 \nL 38.28125 8.296875 \nL 54.390625 8.296875 \nL 54.390625 0 \nL 12.40625 0 \nz\n\" id=\"DejaVuSans-49\"/>\n       </defs>\n       <use xlink:href=\"#DejaVuSans-49\"/>\n       <use x=\"63.623047\" xlink:href=\"#DejaVuSans-48\"/>\n       <use x=\"127.246094\" xlink:href=\"#DejaVuSans-48\"/>\n      </g>\n     </g>\n    </g>\n    <g id=\"text_7\">\n     <!-- Percent -->\n     <g transform=\"translate(247.284375 252.916562)scale(0.1 -0.1)\">\n      <defs>\n       <path d=\"M 19.671875 64.796875 \nL 19.671875 37.40625 \nL 32.078125 37.40625 \nQ 38.96875 37.40625 42.71875 40.96875 \nQ 46.484375 44.53125 46.484375 51.125 \nQ 46.484375 57.671875 42.71875 61.234375 \nQ 38.96875 64.796875 32.078125 64.796875 \nz\nM 9.8125 72.90625 \nL 32.078125 72.90625 \nQ 44.34375 72.90625 50.609375 67.359375 \nQ 56.890625 61.8125 56.890625 51.125 \nQ 56.890625 40.328125 50.609375 34.8125 \nQ 44.34375 29.296875 32.078125 29.296875 \nL 19.671875 29.296875 \nL 19.671875 0 \nL 9.8125 0 \nz\n\" id=\"DejaVuSans-80\"/>\n       <path d=\"M 56.203125 29.59375 \nL 56.203125 25.203125 \nL 14.890625 25.203125 \nQ 15.484375 15.921875 20.484375 11.0625 \nQ 25.484375 6.203125 34.421875 6.203125 \nQ 39.59375 6.203125 44.453125 7.46875 \nQ 49.3125 8.734375 54.109375 11.28125 \nL 54.109375 2.78125 \nQ 49.265625 0.734375 44.1875 -0.34375 \nQ 39.109375 -1.421875 33.890625 -1.421875 \nQ 20.796875 -1.421875 13.15625 6.1875 \nQ 5.515625 13.8125 5.515625 26.8125 \nQ 5.515625 40.234375 12.765625 48.109375 \nQ 20.015625 56 32.328125 56 \nQ 43.359375 56 49.78125 48.890625 \nQ 56.203125 41.796875 56.203125 29.59375 \nz\nM 47.21875 32.234375 \nQ 47.125 39.59375 43.09375 43.984375 \nQ 39.0625 48.390625 32.421875 48.390625 \nQ 24.90625 48.390625 20.390625 44.140625 \nQ 15.875 39.890625 15.1875 32.171875 \nz\n\" id=\"DejaVuSans-101\"/>\n       <path d=\"M 41.109375 46.296875 \nQ 39.59375 47.171875 37.8125 47.578125 \nQ 36.03125 48 33.890625 48 \nQ 26.265625 48 22.1875 43.046875 \nQ 18.109375 38.09375 18.109375 28.8125 \nL 18.109375 0 \nL 9.078125 0 \nL 9.078125 54.6875 \nL 18.109375 54.6875 \nL 18.109375 46.1875 \nQ 20.953125 51.171875 25.484375 53.578125 \nQ 30.03125 56 36.53125 56 \nQ 37.453125 56 38.578125 55.875 \nQ 39.703125 55.765625 41.0625 55.515625 \nz\n\" id=\"DejaVuSans-114\"/>\n       <path d=\"M 48.78125 52.59375 \nL 48.78125 44.1875 \nQ 44.96875 46.296875 41.140625 47.34375 \nQ 37.3125 48.390625 33.40625 48.390625 \nQ 24.65625 48.390625 19.8125 42.84375 \nQ 14.984375 37.3125 14.984375 27.296875 \nQ 14.984375 17.28125 19.8125 11.734375 \nQ 24.65625 6.203125 33.40625 6.203125 \nQ 37.3125 6.203125 41.140625 7.25 \nQ 44.96875 8.296875 48.78125 10.40625 \nL 48.78125 2.09375 \nQ 45.015625 0.34375 40.984375 -0.53125 \nQ 36.96875 -1.421875 32.421875 -1.421875 \nQ 20.0625 -1.421875 12.78125 6.34375 \nQ 5.515625 14.109375 5.515625 27.296875 \nQ 5.515625 40.671875 12.859375 48.328125 \nQ 20.21875 56 33.015625 56 \nQ 37.15625 56 41.109375 55.140625 \nQ 45.0625 54.296875 48.78125 52.59375 \nz\n\" id=\"DejaVuSans-99\"/>\n       <path d=\"M 54.890625 33.015625 \nL 54.890625 0 \nL 45.90625 0 \nL 45.90625 32.71875 \nQ 45.90625 40.484375 42.875 44.328125 \nQ 39.84375 48.1875 33.796875 48.1875 \nQ 26.515625 48.1875 22.3125 43.546875 \nQ 18.109375 38.921875 18.109375 30.90625 \nL 18.109375 0 \nL 9.078125 0 \nL 9.078125 54.6875 \nL 18.109375 54.6875 \nL 18.109375 46.1875 \nQ 21.34375 51.125 25.703125 53.5625 \nQ 30.078125 56 35.796875 56 \nQ 45.21875 56 50.046875 50.171875 \nQ 54.890625 44.34375 54.890625 33.015625 \nz\n\" id=\"DejaVuSans-110\"/>\n       <path d=\"M 18.3125 70.21875 \nL 18.3125 54.6875 \nL 36.8125 54.6875 \nL 36.8125 47.703125 \nL 18.3125 47.703125 \nL 18.3125 18.015625 \nQ 18.3125 11.328125 20.140625 9.421875 \nQ 21.96875 7.515625 27.59375 7.515625 \nL 36.8125 7.515625 \nL 36.8125 0 \nL 27.59375 0 \nQ 17.1875 0 13.234375 3.875 \nQ 9.28125 7.765625 9.28125 18.015625 \nL 9.28125 47.703125 \nL 2.6875 47.703125 \nL 2.6875 54.6875 \nL 9.28125 54.6875 \nL 9.28125 70.21875 \nz\n\" id=\"DejaVuSans-116\"/>\n      </defs>\n      <use xlink:href=\"#DejaVuSans-80\"/>\n      <use x=\"56.677734\" xlink:href=\"#DejaVuSans-101\"/>\n      <use x=\"118.201172\" xlink:href=\"#DejaVuSans-114\"/>\n      <use x=\"157.064453\" xlink:href=\"#DejaVuSans-99\"/>\n      <use x=\"212.044922\" xlink:href=\"#DejaVuSans-101\"/>\n      <use x=\"273.568359\" xlink:href=\"#DejaVuSans-110\"/>\n      <use x=\"336.947266\" xlink:href=\"#DejaVuSans-116\"/>\n     </g>\n    </g>\n   </g>\n   <g id=\"matplotlib.axis_2\">\n    <g id=\"ytick_1\">\n     <g id=\"line2d_7\">\n      <defs>\n       <path d=\"M 0 0 \nL -3.5 0 \n\" id=\"mc9020182a7\" style=\"stroke:#000000;stroke-width:0.8;\"/>\n      </defs>\n      <g>\n       <use style=\"stroke:#000000;stroke-width:0.8;\" x=\"98.692188\" xlink:href=\"#mc9020182a7\" y=\"34.38\"/>\n      </g>\n     </g>\n     <g id=\"text_8\">\n      <!-- Dependent -->\n      <g transform=\"translate(36.240625 38.179219)scale(0.1 -0.1)\">\n       <defs>\n        <path d=\"M 19.671875 64.796875 \nL 19.671875 8.109375 \nL 31.59375 8.109375 \nQ 46.6875 8.109375 53.6875 14.9375 \nQ 60.6875 21.78125 60.6875 36.53125 \nQ 60.6875 51.171875 53.6875 57.984375 \nQ 46.6875 64.796875 31.59375 64.796875 \nz\nM 9.8125 72.90625 \nL 30.078125 72.90625 \nQ 51.265625 72.90625 61.171875 64.09375 \nQ 71.09375 55.28125 71.09375 36.53125 \nQ 71.09375 17.671875 61.125 8.828125 \nQ 51.171875 0 30.078125 0 \nL 9.8125 0 \nz\n\" id=\"DejaVuSans-68\"/>\n        <path d=\"M 18.109375 8.203125 \nL 18.109375 -20.796875 \nL 9.078125 -20.796875 \nL 9.078125 54.6875 \nL 18.109375 54.6875 \nL 18.109375 46.390625 \nQ 20.953125 51.265625 25.265625 53.625 \nQ 29.59375 56 35.59375 56 \nQ 45.5625 56 51.78125 48.09375 \nQ 58.015625 40.1875 58.015625 27.296875 \nQ 58.015625 14.40625 51.78125 6.484375 \nQ 45.5625 -1.421875 35.59375 -1.421875 \nQ 29.59375 -1.421875 25.265625 0.953125 \nQ 20.953125 3.328125 18.109375 8.203125 \nz\nM 48.6875 27.296875 \nQ 48.6875 37.203125 44.609375 42.84375 \nQ 40.53125 48.484375 33.40625 48.484375 \nQ 26.265625 48.484375 22.1875 42.84375 \nQ 18.109375 37.203125 18.109375 27.296875 \nQ 18.109375 17.390625 22.1875 11.75 \nQ 26.265625 6.109375 33.40625 6.109375 \nQ 40.53125 6.109375 44.609375 11.75 \nQ 48.6875 17.390625 48.6875 27.296875 \nz\n\" id=\"DejaVuSans-112\"/>\n        <path d=\"M 45.40625 46.390625 \nL 45.40625 75.984375 \nL 54.390625 75.984375 \nL 54.390625 0 \nL 45.40625 0 \nL 45.40625 8.203125 \nQ 42.578125 3.328125 38.25 0.953125 \nQ 33.9375 -1.421875 27.875 -1.421875 \nQ 17.96875 -1.421875 11.734375 6.484375 \nQ 5.515625 14.40625 5.515625 27.296875 \nQ 5.515625 40.1875 11.734375 48.09375 \nQ 17.96875 56 27.875 56 \nQ 33.9375 56 38.25 53.625 \nQ 42.578125 51.265625 45.40625 46.390625 \nz\nM 14.796875 27.296875 \nQ 14.796875 17.390625 18.875 11.75 \nQ 22.953125 6.109375 30.078125 6.109375 \nQ 37.203125 6.109375 41.296875 11.75 \nQ 45.40625 17.390625 45.40625 27.296875 \nQ 45.40625 37.203125 41.296875 42.84375 \nQ 37.203125 48.484375 30.078125 48.484375 \nQ 22.953125 48.484375 18.875 42.84375 \nQ 14.796875 37.203125 14.796875 27.296875 \nz\n\" id=\"DejaVuSans-100\"/>\n       </defs>\n       <use xlink:href=\"#DejaVuSans-68\"/>\n       <use x=\"77.001953\" xlink:href=\"#DejaVuSans-101\"/>\n       <use x=\"138.525391\" xlink:href=\"#DejaVuSans-112\"/>\n       <use x=\"202.001953\" xlink:href=\"#DejaVuSans-101\"/>\n       <use x=\"263.525391\" xlink:href=\"#DejaVuSans-110\"/>\n       <use x=\"326.904297\" xlink:href=\"#DejaVuSans-100\"/>\n       <use x=\"390.380859\" xlink:href=\"#DejaVuSans-101\"/>\n       <use x=\"451.904297\" xlink:href=\"#DejaVuSans-110\"/>\n       <use x=\"515.283203\" xlink:href=\"#DejaVuSans-116\"/>\n      </g>\n     </g>\n    </g>\n    <g id=\"ytick_2\">\n     <g id=\"line2d_8\">\n      <g>\n       <use style=\"stroke:#000000;stroke-width:0.8;\" x=\"98.692188\" xlink:href=\"#mc9020182a7\" y=\"88.74\"/>\n      </g>\n     </g>\n     <g id=\"text_9\">\n      <!-- Recovered -->\n      <g transform=\"translate(38.964063 92.539219)scale(0.1 -0.1)\">\n       <defs>\n        <path d=\"M 44.390625 34.1875 \nQ 47.5625 33.109375 50.5625 29.59375 \nQ 53.5625 26.078125 56.59375 19.921875 \nL 66.609375 0 \nL 56 0 \nL 46.6875 18.703125 \nQ 43.0625 26.03125 39.671875 28.421875 \nQ 36.28125 30.8125 30.421875 30.8125 \nL 19.671875 30.8125 \nL 19.671875 0 \nL 9.8125 0 \nL 9.8125 72.90625 \nL 32.078125 72.90625 \nQ 44.578125 72.90625 50.734375 67.671875 \nQ 56.890625 62.453125 56.890625 51.90625 \nQ 56.890625 45.015625 53.6875 40.46875 \nQ 50.484375 35.9375 44.390625 34.1875 \nz\nM 19.671875 64.796875 \nL 19.671875 38.921875 \nL 32.078125 38.921875 \nQ 39.203125 38.921875 42.84375 42.21875 \nQ 46.484375 45.515625 46.484375 51.90625 \nQ 46.484375 58.296875 42.84375 61.546875 \nQ 39.203125 64.796875 32.078125 64.796875 \nz\n\" id=\"DejaVuSans-82\"/>\n        <path d=\"M 30.609375 48.390625 \nQ 23.390625 48.390625 19.1875 42.75 \nQ 14.984375 37.109375 14.984375 27.296875 \nQ 14.984375 17.484375 19.15625 11.84375 \nQ 23.34375 6.203125 30.609375 6.203125 \nQ 37.796875 6.203125 41.984375 11.859375 \nQ 46.1875 17.53125 46.1875 27.296875 \nQ 46.1875 37.015625 41.984375 42.703125 \nQ 37.796875 48.390625 30.609375 48.390625 \nz\nM 30.609375 56 \nQ 42.328125 56 49.015625 48.375 \nQ 55.71875 40.765625 55.71875 27.296875 \nQ 55.71875 13.875 49.015625 6.21875 \nQ 42.328125 -1.421875 30.609375 -1.421875 \nQ 18.84375 -1.421875 12.171875 6.21875 \nQ 5.515625 13.875 5.515625 27.296875 \nQ 5.515625 40.765625 12.171875 48.375 \nQ 18.84375 56 30.609375 56 \nz\n\" id=\"DejaVuSans-111\"/>\n        <path d=\"M 2.984375 54.6875 \nL 12.5 54.6875 \nL 29.59375 8.796875 \nL 46.6875 54.6875 \nL 56.203125 54.6875 \nL 35.6875 0 \nL 23.484375 0 \nz\n\" id=\"DejaVuSans-118\"/>\n       </defs>\n       <use xlink:href=\"#DejaVuSans-82\"/>\n       <use x=\"64.982422\" xlink:href=\"#DejaVuSans-101\"/>\n       <use x=\"126.505859\" xlink:href=\"#DejaVuSans-99\"/>\n       <use x=\"181.486328\" xlink:href=\"#DejaVuSans-111\"/>\n       <use x=\"242.667969\" xlink:href=\"#DejaVuSans-118\"/>\n       <use x=\"301.847656\" xlink:href=\"#DejaVuSans-101\"/>\n       <use x=\"363.371094\" xlink:href=\"#DejaVuSans-114\"/>\n       <use x=\"402.234375\" xlink:href=\"#DejaVuSans-101\"/>\n       <use x=\"463.757812\" xlink:href=\"#DejaVuSans-100\"/>\n      </g>\n     </g>\n    </g>\n    <g id=\"ytick_3\">\n     <g id=\"line2d_9\">\n      <g>\n       <use style=\"stroke:#000000;stroke-width:0.8;\" x=\"98.692188\" xlink:href=\"#mc9020182a7\" y=\"143.1\"/>\n      </g>\n     </g>\n     <g id=\"text_10\">\n      <!-- Not recovered -->\n      <g transform=\"translate(20.878125 146.899219)scale(0.1 -0.1)\">\n       <defs>\n        <path d=\"M 9.8125 72.90625 \nL 23.09375 72.90625 \nL 55.421875 11.921875 \nL 55.421875 72.90625 \nL 64.984375 72.90625 \nL 64.984375 0 \nL 51.703125 0 \nL 19.390625 60.984375 \nL 19.390625 0 \nL 9.8125 0 \nz\n\" id=\"DejaVuSans-78\"/>\n        <path id=\"DejaVuSans-32\"/>\n       </defs>\n       <use xlink:href=\"#DejaVuSans-78\"/>\n       <use x=\"74.804688\" xlink:href=\"#DejaVuSans-111\"/>\n       <use x=\"135.986328\" xlink:href=\"#DejaVuSans-116\"/>\n       <use x=\"175.195312\" xlink:href=\"#DejaVuSans-32\"/>\n       <use x=\"206.982422\" xlink:href=\"#DejaVuSans-114\"/>\n       <use x=\"245.845703\" xlink:href=\"#DejaVuSans-101\"/>\n       <use x=\"307.369141\" xlink:href=\"#DejaVuSans-99\"/>\n       <use x=\"362.349609\" xlink:href=\"#DejaVuSans-111\"/>\n       <use x=\"423.53125\" xlink:href=\"#DejaVuSans-118\"/>\n       <use x=\"482.710938\" xlink:href=\"#DejaVuSans-101\"/>\n       <use x=\"544.234375\" xlink:href=\"#DejaVuSans-114\"/>\n       <use x=\"583.097656\" xlink:href=\"#DejaVuSans-101\"/>\n       <use x=\"644.621094\" xlink:href=\"#DejaVuSans-100\"/>\n      </g>\n     </g>\n    </g>\n    <g id=\"ytick_4\">\n     <g id=\"line2d_10\">\n      <g>\n       <use style=\"stroke:#000000;stroke-width:0.8;\" x=\"98.692188\" xlink:href=\"#mc9020182a7\" y=\"197.46\"/>\n      </g>\n     </g>\n     <g id=\"text_11\">\n      <!-- Dead -->\n      <g transform=\"translate(65.3625 201.259219)scale(0.1 -0.1)\">\n       <defs>\n        <path d=\"M 34.28125 27.484375 \nQ 23.390625 27.484375 19.1875 25 \nQ 14.984375 22.515625 14.984375 16.5 \nQ 14.984375 11.71875 18.140625 8.90625 \nQ 21.296875 6.109375 26.703125 6.109375 \nQ 34.1875 6.109375 38.703125 11.40625 \nQ 43.21875 16.703125 43.21875 25.484375 \nL 43.21875 27.484375 \nz\nM 52.203125 31.203125 \nL 52.203125 0 \nL 43.21875 0 \nL 43.21875 8.296875 \nQ 40.140625 3.328125 35.546875 0.953125 \nQ 30.953125 -1.421875 24.3125 -1.421875 \nQ 15.921875 -1.421875 10.953125 3.296875 \nQ 6 8.015625 6 15.921875 \nQ 6 25.140625 12.171875 29.828125 \nQ 18.359375 34.515625 30.609375 34.515625 \nL 43.21875 34.515625 \nL 43.21875 35.40625 \nQ 43.21875 41.609375 39.140625 45 \nQ 35.0625 48.390625 27.6875 48.390625 \nQ 23 48.390625 18.546875 47.265625 \nQ 14.109375 46.140625 10.015625 43.890625 \nL 10.015625 52.203125 \nQ 14.9375 54.109375 19.578125 55.046875 \nQ 24.21875 56 28.609375 56 \nQ 40.484375 56 46.34375 49.84375 \nQ 52.203125 43.703125 52.203125 31.203125 \nz\n\" id=\"DejaVuSans-97\"/>\n       </defs>\n       <use xlink:href=\"#DejaVuSans-68\"/>\n       <use x=\"77.001953\" xlink:href=\"#DejaVuSans-101\"/>\n       <use x=\"138.525391\" xlink:href=\"#DejaVuSans-97\"/>\n       <use x=\"199.804688\" xlink:href=\"#DejaVuSans-100\"/>\n      </g>\n     </g>\n    </g>\n    <g id=\"text_12\">\n     <!-- Outcome after 6 months -->\n     <g transform=\"translate(14.798438 177.349687)rotate(-90)scale(0.1 -0.1)\">\n      <defs>\n       <path d=\"M 39.40625 66.21875 \nQ 28.65625 66.21875 22.328125 58.203125 \nQ 16.015625 50.203125 16.015625 36.375 \nQ 16.015625 22.609375 22.328125 14.59375 \nQ 28.65625 6.59375 39.40625 6.59375 \nQ 50.140625 6.59375 56.421875 14.59375 \nQ 62.703125 22.609375 62.703125 36.375 \nQ 62.703125 50.203125 56.421875 58.203125 \nQ 50.140625 66.21875 39.40625 66.21875 \nz\nM 39.40625 74.21875 \nQ 54.734375 74.21875 63.90625 63.9375 \nQ 73.09375 53.65625 73.09375 36.375 \nQ 73.09375 19.140625 63.90625 8.859375 \nQ 54.734375 -1.421875 39.40625 -1.421875 \nQ 24.03125 -1.421875 14.8125 8.828125 \nQ 5.609375 19.09375 5.609375 36.375 \nQ 5.609375 53.65625 14.8125 63.9375 \nQ 24.03125 74.21875 39.40625 74.21875 \nz\n\" id=\"DejaVuSans-79\"/>\n       <path d=\"M 8.5 21.578125 \nL 8.5 54.6875 \nL 17.484375 54.6875 \nL 17.484375 21.921875 \nQ 17.484375 14.15625 20.5 10.265625 \nQ 23.53125 6.390625 29.59375 6.390625 \nQ 36.859375 6.390625 41.078125 11.03125 \nQ 45.3125 15.671875 45.3125 23.6875 \nL 45.3125 54.6875 \nL 54.296875 54.6875 \nL 54.296875 0 \nL 45.3125 0 \nL 45.3125 8.40625 \nQ 42.046875 3.421875 37.71875 1 \nQ 33.40625 -1.421875 27.6875 -1.421875 \nQ 18.265625 -1.421875 13.375 4.4375 \nQ 8.5 10.296875 8.5 21.578125 \nz\nM 31.109375 56 \nz\n\" id=\"DejaVuSans-117\"/>\n       <path d=\"M 52 44.1875 \nQ 55.375 50.25 60.0625 53.125 \nQ 64.75 56 71.09375 56 \nQ 79.640625 56 84.28125 50.015625 \nQ 88.921875 44.046875 88.921875 33.015625 \nL 88.921875 0 \nL 79.890625 0 \nL 79.890625 32.71875 \nQ 79.890625 40.578125 77.09375 44.375 \nQ 74.3125 48.1875 68.609375 48.1875 \nQ 61.625 48.1875 57.5625 43.546875 \nQ 53.515625 38.921875 53.515625 30.90625 \nL 53.515625 0 \nL 44.484375 0 \nL 44.484375 32.71875 \nQ 44.484375 40.625 41.703125 44.40625 \nQ 38.921875 48.1875 33.109375 48.1875 \nQ 26.21875 48.1875 22.15625 43.53125 \nQ 18.109375 38.875 18.109375 30.90625 \nL 18.109375 0 \nL 9.078125 0 \nL 9.078125 54.6875 \nL 18.109375 54.6875 \nL 18.109375 46.1875 \nQ 21.1875 51.21875 25.484375 53.609375 \nQ 29.78125 56 35.6875 56 \nQ 41.65625 56 45.828125 52.96875 \nQ 50 49.953125 52 44.1875 \nz\n\" id=\"DejaVuSans-109\"/>\n       <path d=\"M 37.109375 75.984375 \nL 37.109375 68.5 \nL 28.515625 68.5 \nQ 23.6875 68.5 21.796875 66.546875 \nQ 19.921875 64.59375 19.921875 59.515625 \nL 19.921875 54.6875 \nL 34.71875 54.6875 \nL 34.71875 47.703125 \nL 19.921875 47.703125 \nL 19.921875 0 \nL 10.890625 0 \nL 10.890625 47.703125 \nL 2.296875 47.703125 \nL 2.296875 54.6875 \nL 10.890625 54.6875 \nL 10.890625 58.5 \nQ 10.890625 67.625 15.140625 71.796875 \nQ 19.390625 75.984375 28.609375 75.984375 \nz\n\" id=\"DejaVuSans-102\"/>\n       <path d=\"M 54.890625 33.015625 \nL 54.890625 0 \nL 45.90625 0 \nL 45.90625 32.71875 \nQ 45.90625 40.484375 42.875 44.328125 \nQ 39.84375 48.1875 33.796875 48.1875 \nQ 26.515625 48.1875 22.3125 43.546875 \nQ 18.109375 38.921875 18.109375 30.90625 \nL 18.109375 0 \nL 9.078125 0 \nL 9.078125 75.984375 \nL 18.109375 75.984375 \nL 18.109375 46.1875 \nQ 21.34375 51.125 25.703125 53.5625 \nQ 30.078125 56 35.796875 56 \nQ 45.21875 56 50.046875 50.171875 \nQ 54.890625 44.34375 54.890625 33.015625 \nz\n\" id=\"DejaVuSans-104\"/>\n       <path d=\"M 44.28125 53.078125 \nL 44.28125 44.578125 \nQ 40.484375 46.53125 36.375 47.5 \nQ 32.28125 48.484375 27.875 48.484375 \nQ 21.1875 48.484375 17.84375 46.4375 \nQ 14.5 44.390625 14.5 40.28125 \nQ 14.5 37.15625 16.890625 35.375 \nQ 19.28125 33.59375 26.515625 31.984375 \nL 29.59375 31.296875 \nQ 39.15625 29.25 43.1875 25.515625 \nQ 47.21875 21.78125 47.21875 15.09375 \nQ 47.21875 7.46875 41.1875 3.015625 \nQ 35.15625 -1.421875 24.609375 -1.421875 \nQ 20.21875 -1.421875 15.453125 -0.5625 \nQ 10.6875 0.296875 5.421875 2 \nL 5.421875 11.28125 \nQ 10.40625 8.6875 15.234375 7.390625 \nQ 20.0625 6.109375 24.8125 6.109375 \nQ 31.15625 6.109375 34.5625 8.28125 \nQ 37.984375 10.453125 37.984375 14.40625 \nQ 37.984375 18.0625 35.515625 20.015625 \nQ 33.0625 21.96875 24.703125 23.78125 \nL 21.578125 24.515625 \nQ 13.234375 26.265625 9.515625 29.90625 \nQ 5.8125 33.546875 5.8125 39.890625 \nQ 5.8125 47.609375 11.28125 51.796875 \nQ 16.75 56 26.8125 56 \nQ 31.78125 56 36.171875 55.265625 \nQ 40.578125 54.546875 44.28125 53.078125 \nz\n\" id=\"DejaVuSans-115\"/>\n      </defs>\n      <use xlink:href=\"#DejaVuSans-79\"/>\n      <use x=\"78.710938\" xlink:href=\"#DejaVuSans-117\"/>\n      <use x=\"142.089844\" xlink:href=\"#DejaVuSans-116\"/>\n      <use x=\"181.298828\" xlink:href=\"#DejaVuSans-99\"/>\n      <use x=\"236.279297\" xlink:href=\"#DejaVuSans-111\"/>\n      <use x=\"297.460938\" xlink:href=\"#DejaVuSans-109\"/>\n      <use x=\"394.873047\" xlink:href=\"#DejaVuSans-101\"/>\n      <use x=\"456.396484\" xlink:href=\"#DejaVuSans-32\"/>\n      <use x=\"488.183594\" xlink:href=\"#DejaVuSans-97\"/>\n      <use x=\"549.462891\" xlink:href=\"#DejaVuSans-102\"/>\n      <use x=\"582.917969\" xlink:href=\"#DejaVuSans-116\"/>\n      <use x=\"622.126953\" xlink:href=\"#DejaVuSans-101\"/>\n      <use x=\"683.650391\" xlink:href=\"#DejaVuSans-114\"/>\n      <use x=\"724.763672\" xlink:href=\"#DejaVuSans-32\"/>\n      <use x=\"756.550781\" xlink:href=\"#DejaVuSans-54\"/>\n      <use x=\"820.173828\" xlink:href=\"#DejaVuSans-32\"/>\n      <use x=\"851.960938\" xlink:href=\"#DejaVuSans-109\"/>\n      <use x=\"949.373047\" xlink:href=\"#DejaVuSans-111\"/>\n      <use x=\"1010.554688\" xlink:href=\"#DejaVuSans-110\"/>\n      <use x=\"1073.933594\" xlink:href=\"#DejaVuSans-116\"/>\n      <use x=\"1113.142578\" xlink:href=\"#DejaVuSans-104\"/>\n      <use x=\"1176.521484\" xlink:href=\"#DejaVuSans-115\"/>\n     </g>\n    </g>\n   </g>\n   <g id=\"patch_23\">\n    <path d=\"M 98.692188 224.64 \nL 98.692188 7.2 \n\" style=\"fill:none;stroke:#000000;stroke-linecap:square;stroke-linejoin:miter;stroke-width:0.8;\"/>\n   </g>\n   <g id=\"patch_24\">\n    <path d=\"M 433.492188 224.64 \nL 433.492188 7.2 \n\" style=\"fill:none;stroke:#000000;stroke-linecap:square;stroke-linejoin:miter;stroke-width:0.8;\"/>\n   </g>\n   <g id=\"patch_25\">\n    <path d=\"M 98.692188 224.64 \nL 433.492188 224.64 \n\" style=\"fill:none;stroke:#000000;stroke-linecap:square;stroke-linejoin:miter;stroke-width:0.8;\"/>\n   </g>\n   <g id=\"patch_26\">\n    <path d=\"M 98.692188 7.2 \nL 433.492188 7.2 \n\" style=\"fill:none;stroke:#000000;stroke-linecap:square;stroke-linejoin:miter;stroke-width:0.8;\"/>\n   </g>\n   <g id=\"legend_1\">\n    <g id=\"patch_27\">\n     <path d=\"M 105.692188 103.546875 \nL 173.10625 103.546875 \nQ 175.10625 103.546875 175.10625 101.546875 \nL 175.10625 14.2 \nQ 175.10625 12.2 173.10625 12.2 \nL 105.692188 12.2 \nQ 103.692188 12.2 103.692188 14.2 \nL 103.692188 101.546875 \nQ 103.692188 103.546875 105.692188 103.546875 \nz\n\" style=\"fill:#ffffff;opacity:0.8;stroke:#cccccc;stroke-linejoin:miter;\"/>\n    </g>\n    <g id=\"text_13\">\n     <!-- RDELAY_bin -->\n     <g transform=\"translate(109.698438 23.798437)scale(0.1 -0.1)\">\n      <defs>\n       <path d=\"M 9.8125 72.90625 \nL 55.90625 72.90625 \nL 55.90625 64.59375 \nL 19.671875 64.59375 \nL 19.671875 43.015625 \nL 54.390625 43.015625 \nL 54.390625 34.71875 \nL 19.671875 34.71875 \nL 19.671875 8.296875 \nL 56.78125 8.296875 \nL 56.78125 0 \nL 9.8125 0 \nz\n\" id=\"DejaVuSans-69\"/>\n       <path d=\"M 9.8125 72.90625 \nL 19.671875 72.90625 \nL 19.671875 8.296875 \nL 55.171875 8.296875 \nL 55.171875 0 \nL 9.8125 0 \nz\n\" id=\"DejaVuSans-76\"/>\n       <path d=\"M 34.1875 63.1875 \nL 20.796875 26.90625 \nL 47.609375 26.90625 \nz\nM 28.609375 72.90625 \nL 39.796875 72.90625 \nL 67.578125 0 \nL 57.328125 0 \nL 50.6875 18.703125 \nL 17.828125 18.703125 \nL 11.1875 0 \nL 0.78125 0 \nz\n\" id=\"DejaVuSans-65\"/>\n       <path d=\"M -0.203125 72.90625 \nL 10.40625 72.90625 \nL 30.609375 42.921875 \nL 50.6875 72.90625 \nL 61.28125 72.90625 \nL 35.5 34.71875 \nL 35.5 0 \nL 25.59375 0 \nL 25.59375 34.71875 \nz\n\" id=\"DejaVuSans-89\"/>\n       <path d=\"M 50.984375 -16.609375 \nL 50.984375 -23.578125 \nL -0.984375 -23.578125 \nL -0.984375 -16.609375 \nz\n\" id=\"DejaVuSans-95\"/>\n       <path d=\"M 48.6875 27.296875 \nQ 48.6875 37.203125 44.609375 42.84375 \nQ 40.53125 48.484375 33.40625 48.484375 \nQ 26.265625 48.484375 22.1875 42.84375 \nQ 18.109375 37.203125 18.109375 27.296875 \nQ 18.109375 17.390625 22.1875 11.75 \nQ 26.265625 6.109375 33.40625 6.109375 \nQ 40.53125 6.109375 44.609375 11.75 \nQ 48.6875 17.390625 48.6875 27.296875 \nz\nM 18.109375 46.390625 \nQ 20.953125 51.265625 25.265625 53.625 \nQ 29.59375 56 35.59375 56 \nQ 45.5625 56 51.78125 48.09375 \nQ 58.015625 40.1875 58.015625 27.296875 \nQ 58.015625 14.40625 51.78125 6.484375 \nQ 45.5625 -1.421875 35.59375 -1.421875 \nQ 29.59375 -1.421875 25.265625 0.953125 \nQ 20.953125 3.328125 18.109375 8.203125 \nL 18.109375 0 \nL 9.078125 0 \nL 9.078125 75.984375 \nL 18.109375 75.984375 \nz\n\" id=\"DejaVuSans-98\"/>\n       <path d=\"M 9.421875 54.6875 \nL 18.40625 54.6875 \nL 18.40625 0 \nL 9.421875 0 \nz\nM 9.421875 75.984375 \nL 18.40625 75.984375 \nL 18.40625 64.59375 \nL 9.421875 64.59375 \nz\n\" id=\"DejaVuSans-105\"/>\n      </defs>\n      <use xlink:href=\"#DejaVuSans-82\"/>\n      <use x=\"69.482422\" xlink:href=\"#DejaVuSans-68\"/>\n      <use x=\"146.484375\" xlink:href=\"#DejaVuSans-69\"/>\n      <use x=\"209.667969\" xlink:href=\"#DejaVuSans-76\"/>\n      <use x=\"267.630859\" xlink:href=\"#DejaVuSans-65\"/>\n      <use x=\"328.289062\" xlink:href=\"#DejaVuSans-89\"/>\n      <use x=\"389.373047\" xlink:href=\"#DejaVuSans-95\"/>\n      <use x=\"439.373047\" xlink:href=\"#DejaVuSans-98\"/>\n      <use x=\"502.849609\" xlink:href=\"#DejaVuSans-105\"/>\n      <use x=\"530.632812\" xlink:href=\"#DejaVuSans-110\"/>\n     </g>\n    </g>\n    <g id=\"patch_28\">\n     <path d=\"M 107.692188 38.754687 \nL 127.692188 38.754687 \nL 127.692188 31.754687 \nL 107.692188 31.754687 \nz\n\" style=\"fill:#1f77b4;fill-opacity:0.75;stroke:#000000;stroke-linejoin:miter;\"/>\n    </g>\n    <g id=\"text_14\">\n     <!-- 0 - 3 -->\n     <g transform=\"translate(135.692188 38.754687)scale(0.1 -0.1)\">\n      <defs>\n       <path d=\"M 4.890625 31.390625 \nL 31.203125 31.390625 \nL 31.203125 23.390625 \nL 4.890625 23.390625 \nz\n\" id=\"DejaVuSans-45\"/>\n       <path d=\"M 40.578125 39.3125 \nQ 47.65625 37.796875 51.625 33 \nQ 55.609375 28.21875 55.609375 21.1875 \nQ 55.609375 10.40625 48.1875 4.484375 \nQ 40.765625 -1.421875 27.09375 -1.421875 \nQ 22.515625 -1.421875 17.65625 -0.515625 \nQ 12.796875 0.390625 7.625 2.203125 \nL 7.625 11.71875 \nQ 11.71875 9.328125 16.59375 8.109375 \nQ 21.484375 6.890625 26.8125 6.890625 \nQ 36.078125 6.890625 40.9375 10.546875 \nQ 45.796875 14.203125 45.796875 21.1875 \nQ 45.796875 27.640625 41.28125 31.265625 \nQ 36.765625 34.90625 28.71875 34.90625 \nL 20.21875 34.90625 \nL 20.21875 43.015625 \nL 29.109375 43.015625 \nQ 36.375 43.015625 40.234375 45.921875 \nQ 44.09375 48.828125 44.09375 54.296875 \nQ 44.09375 59.90625 40.109375 62.90625 \nQ 36.140625 65.921875 28.71875 65.921875 \nQ 24.65625 65.921875 20.015625 65.03125 \nQ 15.375 64.15625 9.8125 62.3125 \nL 9.8125 71.09375 \nQ 15.4375 72.65625 20.34375 73.4375 \nQ 25.25 74.21875 29.59375 74.21875 \nQ 40.828125 74.21875 47.359375 69.109375 \nQ 53.90625 64.015625 53.90625 55.328125 \nQ 53.90625 49.265625 50.4375 45.09375 \nQ 46.96875 40.921875 40.578125 39.3125 \nz\n\" id=\"DejaVuSans-51\"/>\n      </defs>\n      <use xlink:href=\"#DejaVuSans-48\"/>\n      <use x=\"63.623047\" xlink:href=\"#DejaVuSans-32\"/>\n      <use x=\"95.410156\" xlink:href=\"#DejaVuSans-45\"/>\n      <use x=\"131.494141\" xlink:href=\"#DejaVuSans-32\"/>\n      <use x=\"163.28125\" xlink:href=\"#DejaVuSans-51\"/>\n     </g>\n    </g>\n    <g id=\"patch_29\">\n     <path d=\"M 107.692188 53.432812 \nL 127.692188 53.432812 \nL 127.692188 46.432812 \nL 107.692188 46.432812 \nz\n\" style=\"fill:#ff7f0e;fill-opacity:0.75;stroke:#000000;stroke-linejoin:miter;\"/>\n    </g>\n    <g id=\"text_15\">\n     <!-- 4 - 6 -->\n     <g transform=\"translate(135.692188 53.432812)scale(0.1 -0.1)\">\n      <use xlink:href=\"#DejaVuSans-52\"/>\n      <use x=\"63.623047\" xlink:href=\"#DejaVuSans-32\"/>\n      <use x=\"95.410156\" xlink:href=\"#DejaVuSans-45\"/>\n      <use x=\"131.494141\" xlink:href=\"#DejaVuSans-32\"/>\n      <use x=\"163.28125\" xlink:href=\"#DejaVuSans-54\"/>\n     </g>\n    </g>\n    <g id=\"patch_30\">\n     <path d=\"M 107.692188 68.110937 \nL 127.692188 68.110937 \nL 127.692188 61.110937 \nL 107.692188 61.110937 \nz\n\" style=\"fill:#2ca02c;fill-opacity:0.75;stroke:#000000;stroke-linejoin:miter;\"/>\n    </g>\n    <g id=\"text_16\">\n     <!-- 7 - 12 -->\n     <g transform=\"translate(135.692188 68.110937)scale(0.1 -0.1)\">\n      <defs>\n       <path d=\"M 8.203125 72.90625 \nL 55.078125 72.90625 \nL 55.078125 68.703125 \nL 28.609375 0 \nL 18.3125 0 \nL 43.21875 64.59375 \nL 8.203125 64.59375 \nz\n\" id=\"DejaVuSans-55\"/>\n      </defs>\n      <use xlink:href=\"#DejaVuSans-55\"/>\n      <use x=\"63.623047\" xlink:href=\"#DejaVuSans-32\"/>\n      <use x=\"95.410156\" xlink:href=\"#DejaVuSans-45\"/>\n      <use x=\"131.494141\" xlink:href=\"#DejaVuSans-32\"/>\n      <use x=\"163.28125\" xlink:href=\"#DejaVuSans-49\"/>\n      <use x=\"226.904297\" xlink:href=\"#DejaVuSans-50\"/>\n     </g>\n    </g>\n    <g id=\"patch_31\">\n     <path d=\"M 107.692188 82.789062 \nL 127.692188 82.789062 \nL 127.692188 75.789062 \nL 107.692188 75.789062 \nz\n\" style=\"fill:#d62728;fill-opacity:0.75;stroke:#000000;stroke-linejoin:miter;\"/>\n    </g>\n    <g id=\"text_17\">\n     <!-- 13 - 24 -->\n     <g transform=\"translate(135.692188 82.789062)scale(0.1 -0.1)\">\n      <use xlink:href=\"#DejaVuSans-49\"/>\n      <use x=\"63.623047\" xlink:href=\"#DejaVuSans-51\"/>\n      <use x=\"127.246094\" xlink:href=\"#DejaVuSans-32\"/>\n      <use x=\"159.033203\" xlink:href=\"#DejaVuSans-45\"/>\n      <use x=\"195.117188\" xlink:href=\"#DejaVuSans-32\"/>\n      <use x=\"226.904297\" xlink:href=\"#DejaVuSans-50\"/>\n      <use x=\"290.527344\" xlink:href=\"#DejaVuSans-52\"/>\n     </g>\n    </g>\n    <g id=\"patch_32\">\n     <path d=\"M 107.692188 97.467187 \nL 127.692188 97.467187 \nL 127.692188 90.467187 \nL 107.692188 90.467187 \nz\n\" style=\"fill:#9467bd;fill-opacity:0.75;stroke:#000000;stroke-linejoin:miter;\"/>\n    </g>\n    <g id=\"text_18\">\n     <!-- 25 - 48 -->\n     <g transform=\"translate(135.692188 97.467187)scale(0.1 -0.1)\">\n      <defs>\n       <path d=\"M 10.796875 72.90625 \nL 49.515625 72.90625 \nL 49.515625 64.59375 \nL 19.828125 64.59375 \nL 19.828125 46.734375 \nQ 21.96875 47.46875 24.109375 47.828125 \nQ 26.265625 48.1875 28.421875 48.1875 \nQ 40.625 48.1875 47.75 41.5 \nQ 54.890625 34.8125 54.890625 23.390625 \nQ 54.890625 11.625 47.5625 5.09375 \nQ 40.234375 -1.421875 26.90625 -1.421875 \nQ 22.3125 -1.421875 17.546875 -0.640625 \nQ 12.796875 0.140625 7.71875 1.703125 \nL 7.71875 11.625 \nQ 12.109375 9.234375 16.796875 8.0625 \nQ 21.484375 6.890625 26.703125 6.890625 \nQ 35.15625 6.890625 40.078125 11.328125 \nQ 45.015625 15.765625 45.015625 23.390625 \nQ 45.015625 31 40.078125 35.4375 \nQ 35.15625 39.890625 26.703125 39.890625 \nQ 22.75 39.890625 18.8125 39.015625 \nQ 14.890625 38.140625 10.796875 36.28125 \nz\n\" id=\"DejaVuSans-53\"/>\n      </defs>\n      <use xlink:href=\"#DejaVuSans-50\"/>\n      <use x=\"63.623047\" xlink:href=\"#DejaVuSans-53\"/>\n      <use x=\"127.246094\" xlink:href=\"#DejaVuSans-32\"/>\n      <use x=\"159.033203\" xlink:href=\"#DejaVuSans-45\"/>\n      <use x=\"195.117188\" xlink:href=\"#DejaVuSans-32\"/>\n      <use x=\"226.904297\" xlink:href=\"#DejaVuSans-52\"/>\n      <use x=\"290.527344\" xlink:href=\"#DejaVuSans-56\"/>\n     </g>\n    </g>\n   </g>\n  </g>\n </g>\n <defs>\n  <clipPath id=\"p8519012409\">\n   <rect height=\"217.44\" width=\"334.8\" x=\"98.692188\" y=\"7.2\"/>\n  </clipPath>\n </defs>\n</svg>\n",
      "image/png": "[encoded data removed]"
     },
     "metadata": {
      "needs_background": "light"
     }
    }
   ],
   "source": [
    "ax = sns.histplot(y = group_asp_n.OCCODE,\n",
    "                 hue= group_asp_n.RDELAY_bin,\n",
    "                 stat = 'probability',\n",
    "                 multiple=\"fill\",\n",
    "                 #order = ['Control', 'Aspirin', 'Low Heparin', 'Medium Heparin', 'Aspirin + Low Heparin', 'Aspirin + Medium Heparin']\n",
    "                 #palette = COLOR_STYPE\n",
    "                 )\n",
    "ax.set(xlabel=\"Percent\")\n",
    "ax.set(ylabel=\"Outcome after 6 months\")\n",
    "\n",
    "xlabels = ['{:,.0f}'.format(x) for x in ax.get_xticks()*100]\n",
    "ax.set_xticklabels(xlabels)\n",
    "\n",
    "#plt.legend(bbox_to_anchor=(1.05, 1), loc='upper left', \n",
    "#           labels = ['Indeterminate stroke', 'Haemorrhagic stroke', 'Ischaemic stroke'], labelspacing=1.2)\n",
    "\n",
    "#plt.savefig(\"images/treat_perc_diagstr.png\", bbox_inches=\"tight\")\n",
    "plt.show()"
   ]
  },
  {
   "source": [
    "### Heparin vs non-heparin\n"
   ],
   "cell_type": "markdown",
   "metadata": {}
  },
  {
   "cell_type": "code",
   "execution_count": 79,
   "metadata": {},
   "outputs": [],
   "source": [
    "group_hep_y = df[df['RXHEP14']=='Y'] # patients were given heparin for at least 14 days\n",
    "group_hep_n = df[df['RXHEP14']=='N'] # patients did not receive aspirin"
   ]
  },
  {
   "cell_type": "code",
   "execution_count": 80,
   "metadata": {},
   "outputs": [
    {
     "output_type": "stream",
     "name": "stdout",
     "text": [
      "stat = 0.198, p = 0.656\nProbably the same distribution\n"
     ]
    }
   ],
   "source": [
    "data1 = group_hep_y['RDISCH14'].tolist()\n",
    "data2 = group_hep_n['RDISCH14'].tolist()\n",
    "stat, p = kruskal(data1, data2)\n",
    "print_stats(stat, p)"
   ]
  },
  {
   "source": [
    "After 14 days: No difference between heparin and no heparin."
   ],
   "cell_type": "markdown",
   "metadata": {}
  },
  {
   "cell_type": "code",
   "execution_count": 111,
   "metadata": {},
   "outputs": [
    {
     "output_type": "stream",
     "name": "stdout",
     "text": [
      "stat = 5.679, p = 0.017\nProbably different distributions\n"
     ]
    }
   ],
   "source": [
    "data1 = group_hep_y['OCCODE'].tolist()\n",
    "data2 = group_hep_n['OCCODE'].tolist()\n",
    "stat, p = kruskal(data1, data2)\n",
    "print_stats(stat, p)"
   ]
  },
  {
   "cell_type": "code",
   "execution_count": 112,
   "metadata": {},
   "outputs": [
    {
     "output_type": "stream",
     "name": "stderr",
     "text": [
      "<ipython-input-112-5d7cad7447f2>:14: UserWarning: FixedFormatter should only be used together with FixedLocator\n  ax.set_xticklabels(xlabels)\n"
     ]
    },
    {
     "output_type": "display_data",
     "data": {
      "text/plain": "<Figure size 432x288 with 1 Axes>",
      "image/svg+xml": "<?xml version=\"1.0\" encoding=\"utf-8\" standalone=\"no\"?>\n<!DOCTYPE svg PUBLIC \"-//W3C//DTD SVG 1.1//EN\"\n  \"http://www.w3.org/Graphics/SVG/1.1/DTD/svg11.dtd\">\n<!-- Created with matplotlib (https://matplotlib.org/) -->\n<svg height=\"262.19625pt\" version=\"1.1\" viewBox=\"0 0 450.235937 262.19625\" width=\"450.235937pt\" xmlns=\"http://www.w3.org/2000/svg\" xmlns:xlink=\"http://www.w3.org/1999/xlink\">\n <metadata>\n  <rdf:RDF xmlns:cc=\"http://creativecommons.org/ns#\" xmlns:dc=\"http://purl.org/dc/elements/1.1/\" xmlns:rdf=\"http://www.w3.org/1999/02/22-rdf-syntax-ns#\">\n   <cc:Work>\n    <dc:type rdf:resource=\"http://purl.org/dc/dcmitype/StillImage\"/>\n    <dc:date>2021-04-12T18:18:20.609851</dc:date>\n    <dc:format>image/svg+xml</dc:format>\n    <dc:creator>\n     <cc:Agent>\n      <dc:title>Matplotlib v3.3.4, https://matplotlib.org/</dc:title>\n     </cc:Agent>\n    </dc:creator>\n   </cc:Work>\n  </rdf:RDF>\n </metadata>\n <defs>\n  <style type=\"text/css\">*{stroke-linecap:butt;stroke-linejoin:round;}</style>\n </defs>\n <g id=\"figure_1\">\n  <g id=\"patch_1\">\n   <path d=\"M 0 262.19625 \nL 450.235937 262.19625 \nL 450.235937 0 \nL 0 0 \nz\n\" style=\"fill:none;\"/>\n  </g>\n  <g id=\"axes_1\">\n   <g id=\"patch_2\">\n    <path d=\"M 98.692188 224.64 \nL 433.492188 224.64 \nL 433.492188 7.2 \nL 98.692188 7.2 \nz\n\" style=\"fill:#ffffff;\"/>\n   </g>\n   <g id=\"patch_3\">\n    <path clip-path=\"url(#p3cffb62177)\" d=\"M 98.692188 7.2 \nL 246.910712 7.2 \nL 246.910712 61.56 \nL 98.692188 61.56 \nz\n\" style=\"fill:#ff7f0e;fill-opacity:0.75;stroke:#000000;stroke-linejoin:miter;stroke-width:-5.436;\"/>\n   </g>\n   <g id=\"patch_4\">\n    <path clip-path=\"url(#p3cffb62177)\" d=\"M 98.692188 61.56 \nL 256.418318 61.56 \nL 256.418318 115.92 \nL 98.692188 115.92 \nz\n\" style=\"fill:#ff7f0e;fill-opacity:0.75;stroke:#000000;stroke-linejoin:miter;stroke-width:-5.436;\"/>\n   </g>\n   <g id=\"patch_5\">\n    <path clip-path=\"url(#p3cffb62177)\" d=\"M 98.692188 115.92 \nL 251.426803 115.92 \nL 251.426803 170.28 \nL 98.692188 170.28 \nz\n\" style=\"fill:#ff7f0e;fill-opacity:0.75;stroke:#000000;stroke-linejoin:miter;stroke-width:-5.436;\"/>\n   </g>\n   <g id=\"patch_6\">\n    <path clip-path=\"url(#p3cffb62177)\" d=\"M 98.692188 170.28 \nL 247.853265 170.28 \nL 247.853265 224.64 \nL 98.692188 224.64 \nz\n\" style=\"fill:#ff7f0e;fill-opacity:0.75;stroke:#000000;stroke-linejoin:miter;stroke-width:-5.436;\"/>\n   </g>\n   <g id=\"patch_7\">\n    <path clip-path=\"url(#p3cffb62177)\" d=\"M 246.910712 7.2 \nL 433.492188 7.2 \nL 433.492188 61.56 \nL 246.910712 61.56 \nz\n\" style=\"fill:#1f77b4;fill-opacity:0.75;stroke:#000000;stroke-linejoin:miter;stroke-width:-5.436;\"/>\n   </g>\n   <g id=\"patch_8\">\n    <path clip-path=\"url(#p3cffb62177)\" d=\"M 256.418318 61.56 \nL 433.492188 61.56 \nL 433.492188 115.92 \nL 256.418318 115.92 \nz\n\" style=\"fill:#1f77b4;fill-opacity:0.75;stroke:#000000;stroke-linejoin:miter;stroke-width:-5.436;\"/>\n   </g>\n   <g id=\"patch_9\">\n    <path clip-path=\"url(#p3cffb62177)\" d=\"M 251.426803 115.92 \nL 433.492188 115.92 \nL 433.492188 170.28 \nL 251.426803 170.28 \nz\n\" style=\"fill:#1f77b4;fill-opacity:0.75;stroke:#000000;stroke-linejoin:miter;stroke-width:-5.436;\"/>\n   </g>\n   <g id=\"patch_10\">\n    <path clip-path=\"url(#p3cffb62177)\" d=\"M 247.853265 170.28 \nL 433.492188 170.28 \nL 433.492188 224.64 \nL 247.853265 224.64 \nz\n\" style=\"fill:#1f77b4;fill-opacity:0.75;stroke:#000000;stroke-linejoin:miter;stroke-width:-5.436;\"/>\n   </g>\n   <g id=\"patch_11\">\n    <path clip-path=\"url(#p3cffb62177)\" d=\"M 265.757387 224.64 \nL 265.757387 7.2 \nL 266.426987 7.2 \nL 266.426987 224.64 \nz\n\" style=\"fill:#008000;stroke:#008000;stroke-linejoin:miter;\"/>\n   </g>\n   <g id=\"matplotlib.axis_1\">\n    <g id=\"xtick_1\">\n     <g id=\"line2d_1\">\n      <defs>\n       <path d=\"M 0 0 \nL 0 3.5 \n\" id=\"m6b1babd997\" style=\"stroke:#000000;stroke-width:0.8;\"/>\n      </defs>\n      <g>\n       <use style=\"stroke:#000000;stroke-width:0.8;\" x=\"98.692188\" xlink:href=\"#m6b1babd997\" y=\"224.64\"/>\n      </g>\n     </g>\n     <g id=\"text_1\">\n      <!-- 0 -->\n      <g transform=\"translate(95.510938 239.238437)scale(0.1 -0.1)\">\n       <defs>\n        <path d=\"M 31.78125 66.40625 \nQ 24.171875 66.40625 20.328125 58.90625 \nQ 16.5 51.421875 16.5 36.375 \nQ 16.5 21.390625 20.328125 13.890625 \nQ 24.171875 6.390625 31.78125 6.390625 \nQ 39.453125 6.390625 43.28125 13.890625 \nQ 47.125 21.390625 47.125 36.375 \nQ 47.125 51.421875 43.28125 58.90625 \nQ 39.453125 66.40625 31.78125 66.40625 \nz\nM 31.78125 74.21875 \nQ 44.046875 74.21875 50.515625 64.515625 \nQ 56.984375 54.828125 56.984375 36.375 \nQ 56.984375 17.96875 50.515625 8.265625 \nQ 44.046875 -1.421875 31.78125 -1.421875 \nQ 19.53125 -1.421875 13.0625 8.265625 \nQ 6.59375 17.96875 6.59375 36.375 \nQ 6.59375 54.828125 13.0625 64.515625 \nQ 19.53125 74.21875 31.78125 74.21875 \nz\n\" id=\"DejaVuSans-48\"/>\n       </defs>\n       <use xlink:href=\"#DejaVuSans-48\"/>\n      </g>\n     </g>\n    </g>\n    <g id=\"xtick_2\">\n     <g id=\"line2d_2\">\n      <g>\n       <use style=\"stroke:#000000;stroke-width:0.8;\" x=\"165.652188\" xlink:href=\"#m6b1babd997\" y=\"224.64\"/>\n      </g>\n     </g>\n     <g id=\"text_2\">\n      <!-- 20 -->\n      <g transform=\"translate(159.289688 239.238437)scale(0.1 -0.1)\">\n       <defs>\n        <path d=\"M 19.1875 8.296875 \nL 53.609375 8.296875 \nL 53.609375 0 \nL 7.328125 0 \nL 7.328125 8.296875 \nQ 12.9375 14.109375 22.625 23.890625 \nQ 32.328125 33.6875 34.8125 36.53125 \nQ 39.546875 41.84375 41.421875 45.53125 \nQ 43.3125 49.21875 43.3125 52.78125 \nQ 43.3125 58.59375 39.234375 62.25 \nQ 35.15625 65.921875 28.609375 65.921875 \nQ 23.96875 65.921875 18.8125 64.3125 \nQ 13.671875 62.703125 7.8125 59.421875 \nL 7.8125 69.390625 \nQ 13.765625 71.78125 18.9375 73 \nQ 24.125 74.21875 28.421875 74.21875 \nQ 39.75 74.21875 46.484375 68.546875 \nQ 53.21875 62.890625 53.21875 53.421875 \nQ 53.21875 48.921875 51.53125 44.890625 \nQ 49.859375 40.875 45.40625 35.40625 \nQ 44.1875 33.984375 37.640625 27.21875 \nQ 31.109375 20.453125 19.1875 8.296875 \nz\n\" id=\"DejaVuSans-50\"/>\n       </defs>\n       <use xlink:href=\"#DejaVuSans-50\"/>\n       <use x=\"63.623047\" xlink:href=\"#DejaVuSans-48\"/>\n      </g>\n     </g>\n    </g>\n    <g id=\"xtick_3\">\n     <g id=\"line2d_3\">\n      <g>\n       <use style=\"stroke:#000000;stroke-width:0.8;\" x=\"232.612188\" xlink:href=\"#m6b1babd997\" y=\"224.64\"/>\n      </g>\n     </g>\n     <g id=\"text_3\">\n      <!-- 40 -->\n      <g transform=\"translate(226.249687 239.238437)scale(0.1 -0.1)\">\n       <defs>\n        <path d=\"M 37.796875 64.3125 \nL 12.890625 25.390625 \nL 37.796875 25.390625 \nz\nM 35.203125 72.90625 \nL 47.609375 72.90625 \nL 47.609375 25.390625 \nL 58.015625 25.390625 \nL 58.015625 17.1875 \nL 47.609375 17.1875 \nL 47.609375 0 \nL 37.796875 0 \nL 37.796875 17.1875 \nL 4.890625 17.1875 \nL 4.890625 26.703125 \nz\n\" id=\"DejaVuSans-52\"/>\n       </defs>\n       <use xlink:href=\"#DejaVuSans-52\"/>\n       <use x=\"63.623047\" xlink:href=\"#DejaVuSans-48\"/>\n      </g>\n     </g>\n    </g>\n    <g id=\"xtick_4\">\n     <g id=\"line2d_4\">\n      <g>\n       <use style=\"stroke:#000000;stroke-width:0.8;\" x=\"299.572188\" xlink:href=\"#m6b1babd997\" y=\"224.64\"/>\n      </g>\n     </g>\n     <g id=\"text_4\">\n      <!-- 60 -->\n      <g transform=\"translate(293.209688 239.238437)scale(0.1 -0.1)\">\n       <defs>\n        <path d=\"M 33.015625 40.375 \nQ 26.375 40.375 22.484375 35.828125 \nQ 18.609375 31.296875 18.609375 23.390625 \nQ 18.609375 15.53125 22.484375 10.953125 \nQ 26.375 6.390625 33.015625 6.390625 \nQ 39.65625 6.390625 43.53125 10.953125 \nQ 47.40625 15.53125 47.40625 23.390625 \nQ 47.40625 31.296875 43.53125 35.828125 \nQ 39.65625 40.375 33.015625 40.375 \nz\nM 52.59375 71.296875 \nL 52.59375 62.3125 \nQ 48.875 64.0625 45.09375 64.984375 \nQ 41.3125 65.921875 37.59375 65.921875 \nQ 27.828125 65.921875 22.671875 59.328125 \nQ 17.53125 52.734375 16.796875 39.40625 \nQ 19.671875 43.65625 24.015625 45.921875 \nQ 28.375 48.1875 33.59375 48.1875 \nQ 44.578125 48.1875 50.953125 41.515625 \nQ 57.328125 34.859375 57.328125 23.390625 \nQ 57.328125 12.15625 50.6875 5.359375 \nQ 44.046875 -1.421875 33.015625 -1.421875 \nQ 20.359375 -1.421875 13.671875 8.265625 \nQ 6.984375 17.96875 6.984375 36.375 \nQ 6.984375 53.65625 15.1875 63.9375 \nQ 23.390625 74.21875 37.203125 74.21875 \nQ 40.921875 74.21875 44.703125 73.484375 \nQ 48.484375 72.75 52.59375 71.296875 \nz\n\" id=\"DejaVuSans-54\"/>\n       </defs>\n       <use xlink:href=\"#DejaVuSans-54\"/>\n       <use x=\"63.623047\" xlink:href=\"#DejaVuSans-48\"/>\n      </g>\n     </g>\n    </g>\n    <g id=\"xtick_5\">\n     <g id=\"line2d_5\">\n      <g>\n       <use style=\"stroke:#000000;stroke-width:0.8;\" x=\"366.532187\" xlink:href=\"#m6b1babd997\" y=\"224.64\"/>\n      </g>\n     </g>\n     <g id=\"text_5\">\n      <!-- 80 -->\n      <g transform=\"translate(360.169687 239.238437)scale(0.1 -0.1)\">\n       <defs>\n        <path d=\"M 31.78125 34.625 \nQ 24.75 34.625 20.71875 30.859375 \nQ 16.703125 27.09375 16.703125 20.515625 \nQ 16.703125 13.921875 20.71875 10.15625 \nQ 24.75 6.390625 31.78125 6.390625 \nQ 38.8125 6.390625 42.859375 10.171875 \nQ 46.921875 13.96875 46.921875 20.515625 \nQ 46.921875 27.09375 42.890625 30.859375 \nQ 38.875 34.625 31.78125 34.625 \nz\nM 21.921875 38.8125 \nQ 15.578125 40.375 12.03125 44.71875 \nQ 8.5 49.078125 8.5 55.328125 \nQ 8.5 64.0625 14.71875 69.140625 \nQ 20.953125 74.21875 31.78125 74.21875 \nQ 42.671875 74.21875 48.875 69.140625 \nQ 55.078125 64.0625 55.078125 55.328125 \nQ 55.078125 49.078125 51.53125 44.71875 \nQ 48 40.375 41.703125 38.8125 \nQ 48.828125 37.15625 52.796875 32.3125 \nQ 56.78125 27.484375 56.78125 20.515625 \nQ 56.78125 9.90625 50.3125 4.234375 \nQ 43.84375 -1.421875 31.78125 -1.421875 \nQ 19.734375 -1.421875 13.25 4.234375 \nQ 6.78125 9.90625 6.78125 20.515625 \nQ 6.78125 27.484375 10.78125 32.3125 \nQ 14.796875 37.15625 21.921875 38.8125 \nz\nM 18.3125 54.390625 \nQ 18.3125 48.734375 21.84375 45.5625 \nQ 25.390625 42.390625 31.78125 42.390625 \nQ 38.140625 42.390625 41.71875 45.5625 \nQ 45.3125 48.734375 45.3125 54.390625 \nQ 45.3125 60.0625 41.71875 63.234375 \nQ 38.140625 66.40625 31.78125 66.40625 \nQ 25.390625 66.40625 21.84375 63.234375 \nQ 18.3125 60.0625 18.3125 54.390625 \nz\n\" id=\"DejaVuSans-56\"/>\n       </defs>\n       <use xlink:href=\"#DejaVuSans-56\"/>\n       <use x=\"63.623047\" xlink:href=\"#DejaVuSans-48\"/>\n      </g>\n     </g>\n    </g>\n    <g id=\"xtick_6\">\n     <g id=\"line2d_6\">\n      <g>\n       <use style=\"stroke:#000000;stroke-width:0.8;\" x=\"433.492188\" xlink:href=\"#m6b1babd997\" y=\"224.64\"/>\n      </g>\n     </g>\n     <g id=\"text_6\">\n      <!-- 100 -->\n      <g transform=\"translate(423.948438 239.238437)scale(0.1 -0.1)\">\n       <defs>\n        <path d=\"M 12.40625 8.296875 \nL 28.515625 8.296875 \nL 28.515625 63.921875 \nL 10.984375 60.40625 \nL 10.984375 69.390625 \nL 28.421875 72.90625 \nL 38.28125 72.90625 \nL 38.28125 8.296875 \nL 54.390625 8.296875 \nL 54.390625 0 \nL 12.40625 0 \nz\n\" id=\"DejaVuSans-49\"/>\n       </defs>\n       <use xlink:href=\"#DejaVuSans-49\"/>\n       <use x=\"63.623047\" xlink:href=\"#DejaVuSans-48\"/>\n       <use x=\"127.246094\" xlink:href=\"#DejaVuSans-48\"/>\n      </g>\n     </g>\n    </g>\n    <g id=\"text_7\">\n     <!-- Percent -->\n     <g transform=\"translate(247.284375 252.916562)scale(0.1 -0.1)\">\n      <defs>\n       <path d=\"M 19.671875 64.796875 \nL 19.671875 37.40625 \nL 32.078125 37.40625 \nQ 38.96875 37.40625 42.71875 40.96875 \nQ 46.484375 44.53125 46.484375 51.125 \nQ 46.484375 57.671875 42.71875 61.234375 \nQ 38.96875 64.796875 32.078125 64.796875 \nz\nM 9.8125 72.90625 \nL 32.078125 72.90625 \nQ 44.34375 72.90625 50.609375 67.359375 \nQ 56.890625 61.8125 56.890625 51.125 \nQ 56.890625 40.328125 50.609375 34.8125 \nQ 44.34375 29.296875 32.078125 29.296875 \nL 19.671875 29.296875 \nL 19.671875 0 \nL 9.8125 0 \nz\n\" id=\"DejaVuSans-80\"/>\n       <path d=\"M 56.203125 29.59375 \nL 56.203125 25.203125 \nL 14.890625 25.203125 \nQ 15.484375 15.921875 20.484375 11.0625 \nQ 25.484375 6.203125 34.421875 6.203125 \nQ 39.59375 6.203125 44.453125 7.46875 \nQ 49.3125 8.734375 54.109375 11.28125 \nL 54.109375 2.78125 \nQ 49.265625 0.734375 44.1875 -0.34375 \nQ 39.109375 -1.421875 33.890625 -1.421875 \nQ 20.796875 -1.421875 13.15625 6.1875 \nQ 5.515625 13.8125 5.515625 26.8125 \nQ 5.515625 40.234375 12.765625 48.109375 \nQ 20.015625 56 32.328125 56 \nQ 43.359375 56 49.78125 48.890625 \nQ 56.203125 41.796875 56.203125 29.59375 \nz\nM 47.21875 32.234375 \nQ 47.125 39.59375 43.09375 43.984375 \nQ 39.0625 48.390625 32.421875 48.390625 \nQ 24.90625 48.390625 20.390625 44.140625 \nQ 15.875 39.890625 15.1875 32.171875 \nz\n\" id=\"DejaVuSans-101\"/>\n       <path d=\"M 41.109375 46.296875 \nQ 39.59375 47.171875 37.8125 47.578125 \nQ 36.03125 48 33.890625 48 \nQ 26.265625 48 22.1875 43.046875 \nQ 18.109375 38.09375 18.109375 28.8125 \nL 18.109375 0 \nL 9.078125 0 \nL 9.078125 54.6875 \nL 18.109375 54.6875 \nL 18.109375 46.1875 \nQ 20.953125 51.171875 25.484375 53.578125 \nQ 30.03125 56 36.53125 56 \nQ 37.453125 56 38.578125 55.875 \nQ 39.703125 55.765625 41.0625 55.515625 \nz\n\" id=\"DejaVuSans-114\"/>\n       <path d=\"M 48.78125 52.59375 \nL 48.78125 44.1875 \nQ 44.96875 46.296875 41.140625 47.34375 \nQ 37.3125 48.390625 33.40625 48.390625 \nQ 24.65625 48.390625 19.8125 42.84375 \nQ 14.984375 37.3125 14.984375 27.296875 \nQ 14.984375 17.28125 19.8125 11.734375 \nQ 24.65625 6.203125 33.40625 6.203125 \nQ 37.3125 6.203125 41.140625 7.25 \nQ 44.96875 8.296875 48.78125 10.40625 \nL 48.78125 2.09375 \nQ 45.015625 0.34375 40.984375 -0.53125 \nQ 36.96875 -1.421875 32.421875 -1.421875 \nQ 20.0625 -1.421875 12.78125 6.34375 \nQ 5.515625 14.109375 5.515625 27.296875 \nQ 5.515625 40.671875 12.859375 48.328125 \nQ 20.21875 56 33.015625 56 \nQ 37.15625 56 41.109375 55.140625 \nQ 45.0625 54.296875 48.78125 52.59375 \nz\n\" id=\"DejaVuSans-99\"/>\n       <path d=\"M 54.890625 33.015625 \nL 54.890625 0 \nL 45.90625 0 \nL 45.90625 32.71875 \nQ 45.90625 40.484375 42.875 44.328125 \nQ 39.84375 48.1875 33.796875 48.1875 \nQ 26.515625 48.1875 22.3125 43.546875 \nQ 18.109375 38.921875 18.109375 30.90625 \nL 18.109375 0 \nL 9.078125 0 \nL 9.078125 54.6875 \nL 18.109375 54.6875 \nL 18.109375 46.1875 \nQ 21.34375 51.125 25.703125 53.5625 \nQ 30.078125 56 35.796875 56 \nQ 45.21875 56 50.046875 50.171875 \nQ 54.890625 44.34375 54.890625 33.015625 \nz\n\" id=\"DejaVuSans-110\"/>\n       <path d=\"M 18.3125 70.21875 \nL 18.3125 54.6875 \nL 36.8125 54.6875 \nL 36.8125 47.703125 \nL 18.3125 47.703125 \nL 18.3125 18.015625 \nQ 18.3125 11.328125 20.140625 9.421875 \nQ 21.96875 7.515625 27.59375 7.515625 \nL 36.8125 7.515625 \nL 36.8125 0 \nL 27.59375 0 \nQ 17.1875 0 13.234375 3.875 \nQ 9.28125 7.765625 9.28125 18.015625 \nL 9.28125 47.703125 \nL 2.6875 47.703125 \nL 2.6875 54.6875 \nL 9.28125 54.6875 \nL 9.28125 70.21875 \nz\n\" id=\"DejaVuSans-116\"/>\n      </defs>\n      <use xlink:href=\"#DejaVuSans-80\"/>\n      <use x=\"56.677734\" xlink:href=\"#DejaVuSans-101\"/>\n      <use x=\"118.201172\" xlink:href=\"#DejaVuSans-114\"/>\n      <use x=\"157.064453\" xlink:href=\"#DejaVuSans-99\"/>\n      <use x=\"212.044922\" xlink:href=\"#DejaVuSans-101\"/>\n      <use x=\"273.568359\" xlink:href=\"#DejaVuSans-110\"/>\n      <use x=\"336.947266\" xlink:href=\"#DejaVuSans-116\"/>\n     </g>\n    </g>\n   </g>\n   <g id=\"matplotlib.axis_2\">\n    <g id=\"ytick_1\">\n     <g id=\"line2d_7\">\n      <defs>\n       <path d=\"M 0 0 \nL -3.5 0 \n\" id=\"m056d45e13e\" style=\"stroke:#000000;stroke-width:0.8;\"/>\n      </defs>\n      <g>\n       <use style=\"stroke:#000000;stroke-width:0.8;\" x=\"98.692188\" xlink:href=\"#m056d45e13e\" y=\"34.38\"/>\n      </g>\n     </g>\n     <g id=\"text_8\">\n      <!-- Dependent -->\n      <g transform=\"translate(36.240625 38.179219)scale(0.1 -0.1)\">\n       <defs>\n        <path d=\"M 19.671875 64.796875 \nL 19.671875 8.109375 \nL 31.59375 8.109375 \nQ 46.6875 8.109375 53.6875 14.9375 \nQ 60.6875 21.78125 60.6875 36.53125 \nQ 60.6875 51.171875 53.6875 57.984375 \nQ 46.6875 64.796875 31.59375 64.796875 \nz\nM 9.8125 72.90625 \nL 30.078125 72.90625 \nQ 51.265625 72.90625 61.171875 64.09375 \nQ 71.09375 55.28125 71.09375 36.53125 \nQ 71.09375 17.671875 61.125 8.828125 \nQ 51.171875 0 30.078125 0 \nL 9.8125 0 \nz\n\" id=\"DejaVuSans-68\"/>\n        <path d=\"M 18.109375 8.203125 \nL 18.109375 -20.796875 \nL 9.078125 -20.796875 \nL 9.078125 54.6875 \nL 18.109375 54.6875 \nL 18.109375 46.390625 \nQ 20.953125 51.265625 25.265625 53.625 \nQ 29.59375 56 35.59375 56 \nQ 45.5625 56 51.78125 48.09375 \nQ 58.015625 40.1875 58.015625 27.296875 \nQ 58.015625 14.40625 51.78125 6.484375 \nQ 45.5625 -1.421875 35.59375 -1.421875 \nQ 29.59375 -1.421875 25.265625 0.953125 \nQ 20.953125 3.328125 18.109375 8.203125 \nz\nM 48.6875 27.296875 \nQ 48.6875 37.203125 44.609375 42.84375 \nQ 40.53125 48.484375 33.40625 48.484375 \nQ 26.265625 48.484375 22.1875 42.84375 \nQ 18.109375 37.203125 18.109375 27.296875 \nQ 18.109375 17.390625 22.1875 11.75 \nQ 26.265625 6.109375 33.40625 6.109375 \nQ 40.53125 6.109375 44.609375 11.75 \nQ 48.6875 17.390625 48.6875 27.296875 \nz\n\" id=\"DejaVuSans-112\"/>\n        <path d=\"M 45.40625 46.390625 \nL 45.40625 75.984375 \nL 54.390625 75.984375 \nL 54.390625 0 \nL 45.40625 0 \nL 45.40625 8.203125 \nQ 42.578125 3.328125 38.25 0.953125 \nQ 33.9375 -1.421875 27.875 -1.421875 \nQ 17.96875 -1.421875 11.734375 6.484375 \nQ 5.515625 14.40625 5.515625 27.296875 \nQ 5.515625 40.1875 11.734375 48.09375 \nQ 17.96875 56 27.875 56 \nQ 33.9375 56 38.25 53.625 \nQ 42.578125 51.265625 45.40625 46.390625 \nz\nM 14.796875 27.296875 \nQ 14.796875 17.390625 18.875 11.75 \nQ 22.953125 6.109375 30.078125 6.109375 \nQ 37.203125 6.109375 41.296875 11.75 \nQ 45.40625 17.390625 45.40625 27.296875 \nQ 45.40625 37.203125 41.296875 42.84375 \nQ 37.203125 48.484375 30.078125 48.484375 \nQ 22.953125 48.484375 18.875 42.84375 \nQ 14.796875 37.203125 14.796875 27.296875 \nz\n\" id=\"DejaVuSans-100\"/>\n       </defs>\n       <use xlink:href=\"#DejaVuSans-68\"/>\n       <use x=\"77.001953\" xlink:href=\"#DejaVuSans-101\"/>\n       <use x=\"138.525391\" xlink:href=\"#DejaVuSans-112\"/>\n       <use x=\"202.001953\" xlink:href=\"#DejaVuSans-101\"/>\n       <use x=\"263.525391\" xlink:href=\"#DejaVuSans-110\"/>\n       <use x=\"326.904297\" xlink:href=\"#DejaVuSans-100\"/>\n       <use x=\"390.380859\" xlink:href=\"#DejaVuSans-101\"/>\n       <use x=\"451.904297\" xlink:href=\"#DejaVuSans-110\"/>\n       <use x=\"515.283203\" xlink:href=\"#DejaVuSans-116\"/>\n      </g>\n     </g>\n    </g>\n    <g id=\"ytick_2\">\n     <g id=\"line2d_8\">\n      <g>\n       <use style=\"stroke:#000000;stroke-width:0.8;\" x=\"98.692188\" xlink:href=\"#m056d45e13e\" y=\"88.74\"/>\n      </g>\n     </g>\n     <g id=\"text_9\">\n      <!-- Recovered -->\n      <g transform=\"translate(38.964063 92.539219)scale(0.1 -0.1)\">\n       <defs>\n        <path d=\"M 44.390625 34.1875 \nQ 47.5625 33.109375 50.5625 29.59375 \nQ 53.5625 26.078125 56.59375 19.921875 \nL 66.609375 0 \nL 56 0 \nL 46.6875 18.703125 \nQ 43.0625 26.03125 39.671875 28.421875 \nQ 36.28125 30.8125 30.421875 30.8125 \nL 19.671875 30.8125 \nL 19.671875 0 \nL 9.8125 0 \nL 9.8125 72.90625 \nL 32.078125 72.90625 \nQ 44.578125 72.90625 50.734375 67.671875 \nQ 56.890625 62.453125 56.890625 51.90625 \nQ 56.890625 45.015625 53.6875 40.46875 \nQ 50.484375 35.9375 44.390625 34.1875 \nz\nM 19.671875 64.796875 \nL 19.671875 38.921875 \nL 32.078125 38.921875 \nQ 39.203125 38.921875 42.84375 42.21875 \nQ 46.484375 45.515625 46.484375 51.90625 \nQ 46.484375 58.296875 42.84375 61.546875 \nQ 39.203125 64.796875 32.078125 64.796875 \nz\n\" id=\"DejaVuSans-82\"/>\n        <path d=\"M 30.609375 48.390625 \nQ 23.390625 48.390625 19.1875 42.75 \nQ 14.984375 37.109375 14.984375 27.296875 \nQ 14.984375 17.484375 19.15625 11.84375 \nQ 23.34375 6.203125 30.609375 6.203125 \nQ 37.796875 6.203125 41.984375 11.859375 \nQ 46.1875 17.53125 46.1875 27.296875 \nQ 46.1875 37.015625 41.984375 42.703125 \nQ 37.796875 48.390625 30.609375 48.390625 \nz\nM 30.609375 56 \nQ 42.328125 56 49.015625 48.375 \nQ 55.71875 40.765625 55.71875 27.296875 \nQ 55.71875 13.875 49.015625 6.21875 \nQ 42.328125 -1.421875 30.609375 -1.421875 \nQ 18.84375 -1.421875 12.171875 6.21875 \nQ 5.515625 13.875 5.515625 27.296875 \nQ 5.515625 40.765625 12.171875 48.375 \nQ 18.84375 56 30.609375 56 \nz\n\" id=\"DejaVuSans-111\"/>\n        <path d=\"M 2.984375 54.6875 \nL 12.5 54.6875 \nL 29.59375 8.796875 \nL 46.6875 54.6875 \nL 56.203125 54.6875 \nL 35.6875 0 \nL 23.484375 0 \nz\n\" id=\"DejaVuSans-118\"/>\n       </defs>\n       <use xlink:href=\"#DejaVuSans-82\"/>\n       <use x=\"64.982422\" xlink:href=\"#DejaVuSans-101\"/>\n       <use x=\"126.505859\" xlink:href=\"#DejaVuSans-99\"/>\n       <use x=\"181.486328\" xlink:href=\"#DejaVuSans-111\"/>\n       <use x=\"242.667969\" xlink:href=\"#DejaVuSans-118\"/>\n       <use x=\"301.847656\" xlink:href=\"#DejaVuSans-101\"/>\n       <use x=\"363.371094\" xlink:href=\"#DejaVuSans-114\"/>\n       <use x=\"402.234375\" xlink:href=\"#DejaVuSans-101\"/>\n       <use x=\"463.757812\" xlink:href=\"#DejaVuSans-100\"/>\n      </g>\n     </g>\n    </g>\n    <g id=\"ytick_3\">\n     <g id=\"line2d_9\">\n      <g>\n       <use style=\"stroke:#000000;stroke-width:0.8;\" x=\"98.692188\" xlink:href=\"#m056d45e13e\" y=\"143.1\"/>\n      </g>\n     </g>\n     <g id=\"text_10\">\n      <!-- Not recovered -->\n      <g transform=\"translate(20.878125 146.899219)scale(0.1 -0.1)\">\n       <defs>\n        <path d=\"M 9.8125 72.90625 \nL 23.09375 72.90625 \nL 55.421875 11.921875 \nL 55.421875 72.90625 \nL 64.984375 72.90625 \nL 64.984375 0 \nL 51.703125 0 \nL 19.390625 60.984375 \nL 19.390625 0 \nL 9.8125 0 \nz\n\" id=\"DejaVuSans-78\"/>\n        <path id=\"DejaVuSans-32\"/>\n       </defs>\n       <use xlink:href=\"#DejaVuSans-78\"/>\n       <use x=\"74.804688\" xlink:href=\"#DejaVuSans-111\"/>\n       <use x=\"135.986328\" xlink:href=\"#DejaVuSans-116\"/>\n       <use x=\"175.195312\" xlink:href=\"#DejaVuSans-32\"/>\n       <use x=\"206.982422\" xlink:href=\"#DejaVuSans-114\"/>\n       <use x=\"245.845703\" xlink:href=\"#DejaVuSans-101\"/>\n       <use x=\"307.369141\" xlink:href=\"#DejaVuSans-99\"/>\n       <use x=\"362.349609\" xlink:href=\"#DejaVuSans-111\"/>\n       <use x=\"423.53125\" xlink:href=\"#DejaVuSans-118\"/>\n       <use x=\"482.710938\" xlink:href=\"#DejaVuSans-101\"/>\n       <use x=\"544.234375\" xlink:href=\"#DejaVuSans-114\"/>\n       <use x=\"583.097656\" xlink:href=\"#DejaVuSans-101\"/>\n       <use x=\"644.621094\" xlink:href=\"#DejaVuSans-100\"/>\n      </g>\n     </g>\n    </g>\n    <g id=\"ytick_4\">\n     <g id=\"line2d_10\">\n      <g>\n       <use style=\"stroke:#000000;stroke-width:0.8;\" x=\"98.692188\" xlink:href=\"#m056d45e13e\" y=\"197.46\"/>\n      </g>\n     </g>\n     <g id=\"text_11\">\n      <!-- Dead -->\n      <g transform=\"translate(65.3625 201.259219)scale(0.1 -0.1)\">\n       <defs>\n        <path d=\"M 34.28125 27.484375 \nQ 23.390625 27.484375 19.1875 25 \nQ 14.984375 22.515625 14.984375 16.5 \nQ 14.984375 11.71875 18.140625 8.90625 \nQ 21.296875 6.109375 26.703125 6.109375 \nQ 34.1875 6.109375 38.703125 11.40625 \nQ 43.21875 16.703125 43.21875 25.484375 \nL 43.21875 27.484375 \nz\nM 52.203125 31.203125 \nL 52.203125 0 \nL 43.21875 0 \nL 43.21875 8.296875 \nQ 40.140625 3.328125 35.546875 0.953125 \nQ 30.953125 -1.421875 24.3125 -1.421875 \nQ 15.921875 -1.421875 10.953125 3.296875 \nQ 6 8.015625 6 15.921875 \nQ 6 25.140625 12.171875 29.828125 \nQ 18.359375 34.515625 30.609375 34.515625 \nL 43.21875 34.515625 \nL 43.21875 35.40625 \nQ 43.21875 41.609375 39.140625 45 \nQ 35.0625 48.390625 27.6875 48.390625 \nQ 23 48.390625 18.546875 47.265625 \nQ 14.109375 46.140625 10.015625 43.890625 \nL 10.015625 52.203125 \nQ 14.9375 54.109375 19.578125 55.046875 \nQ 24.21875 56 28.609375 56 \nQ 40.484375 56 46.34375 49.84375 \nQ 52.203125 43.703125 52.203125 31.203125 \nz\n\" id=\"DejaVuSans-97\"/>\n       </defs>\n       <use xlink:href=\"#DejaVuSans-68\"/>\n       <use x=\"77.001953\" xlink:href=\"#DejaVuSans-101\"/>\n       <use x=\"138.525391\" xlink:href=\"#DejaVuSans-97\"/>\n       <use x=\"199.804688\" xlink:href=\"#DejaVuSans-100\"/>\n      </g>\n     </g>\n    </g>\n    <g id=\"text_12\">\n     <!-- Outcome after 6 months -->\n     <g transform=\"translate(14.798438 177.349687)rotate(-90)scale(0.1 -0.1)\">\n      <defs>\n       <path d=\"M 39.40625 66.21875 \nQ 28.65625 66.21875 22.328125 58.203125 \nQ 16.015625 50.203125 16.015625 36.375 \nQ 16.015625 22.609375 22.328125 14.59375 \nQ 28.65625 6.59375 39.40625 6.59375 \nQ 50.140625 6.59375 56.421875 14.59375 \nQ 62.703125 22.609375 62.703125 36.375 \nQ 62.703125 50.203125 56.421875 58.203125 \nQ 50.140625 66.21875 39.40625 66.21875 \nz\nM 39.40625 74.21875 \nQ 54.734375 74.21875 63.90625 63.9375 \nQ 73.09375 53.65625 73.09375 36.375 \nQ 73.09375 19.140625 63.90625 8.859375 \nQ 54.734375 -1.421875 39.40625 -1.421875 \nQ 24.03125 -1.421875 14.8125 8.828125 \nQ 5.609375 19.09375 5.609375 36.375 \nQ 5.609375 53.65625 14.8125 63.9375 \nQ 24.03125 74.21875 39.40625 74.21875 \nz\n\" id=\"DejaVuSans-79\"/>\n       <path d=\"M 8.5 21.578125 \nL 8.5 54.6875 \nL 17.484375 54.6875 \nL 17.484375 21.921875 \nQ 17.484375 14.15625 20.5 10.265625 \nQ 23.53125 6.390625 29.59375 6.390625 \nQ 36.859375 6.390625 41.078125 11.03125 \nQ 45.3125 15.671875 45.3125 23.6875 \nL 45.3125 54.6875 \nL 54.296875 54.6875 \nL 54.296875 0 \nL 45.3125 0 \nL 45.3125 8.40625 \nQ 42.046875 3.421875 37.71875 1 \nQ 33.40625 -1.421875 27.6875 -1.421875 \nQ 18.265625 -1.421875 13.375 4.4375 \nQ 8.5 10.296875 8.5 21.578125 \nz\nM 31.109375 56 \nz\n\" id=\"DejaVuSans-117\"/>\n       <path d=\"M 52 44.1875 \nQ 55.375 50.25 60.0625 53.125 \nQ 64.75 56 71.09375 56 \nQ 79.640625 56 84.28125 50.015625 \nQ 88.921875 44.046875 88.921875 33.015625 \nL 88.921875 0 \nL 79.890625 0 \nL 79.890625 32.71875 \nQ 79.890625 40.578125 77.09375 44.375 \nQ 74.3125 48.1875 68.609375 48.1875 \nQ 61.625 48.1875 57.5625 43.546875 \nQ 53.515625 38.921875 53.515625 30.90625 \nL 53.515625 0 \nL 44.484375 0 \nL 44.484375 32.71875 \nQ 44.484375 40.625 41.703125 44.40625 \nQ 38.921875 48.1875 33.109375 48.1875 \nQ 26.21875 48.1875 22.15625 43.53125 \nQ 18.109375 38.875 18.109375 30.90625 \nL 18.109375 0 \nL 9.078125 0 \nL 9.078125 54.6875 \nL 18.109375 54.6875 \nL 18.109375 46.1875 \nQ 21.1875 51.21875 25.484375 53.609375 \nQ 29.78125 56 35.6875 56 \nQ 41.65625 56 45.828125 52.96875 \nQ 50 49.953125 52 44.1875 \nz\n\" id=\"DejaVuSans-109\"/>\n       <path d=\"M 37.109375 75.984375 \nL 37.109375 68.5 \nL 28.515625 68.5 \nQ 23.6875 68.5 21.796875 66.546875 \nQ 19.921875 64.59375 19.921875 59.515625 \nL 19.921875 54.6875 \nL 34.71875 54.6875 \nL 34.71875 47.703125 \nL 19.921875 47.703125 \nL 19.921875 0 \nL 10.890625 0 \nL 10.890625 47.703125 \nL 2.296875 47.703125 \nL 2.296875 54.6875 \nL 10.890625 54.6875 \nL 10.890625 58.5 \nQ 10.890625 67.625 15.140625 71.796875 \nQ 19.390625 75.984375 28.609375 75.984375 \nz\n\" id=\"DejaVuSans-102\"/>\n       <path d=\"M 54.890625 33.015625 \nL 54.890625 0 \nL 45.90625 0 \nL 45.90625 32.71875 \nQ 45.90625 40.484375 42.875 44.328125 \nQ 39.84375 48.1875 33.796875 48.1875 \nQ 26.515625 48.1875 22.3125 43.546875 \nQ 18.109375 38.921875 18.109375 30.90625 \nL 18.109375 0 \nL 9.078125 0 \nL 9.078125 75.984375 \nL 18.109375 75.984375 \nL 18.109375 46.1875 \nQ 21.34375 51.125 25.703125 53.5625 \nQ 30.078125 56 35.796875 56 \nQ 45.21875 56 50.046875 50.171875 \nQ 54.890625 44.34375 54.890625 33.015625 \nz\n\" id=\"DejaVuSans-104\"/>\n       <path d=\"M 44.28125 53.078125 \nL 44.28125 44.578125 \nQ 40.484375 46.53125 36.375 47.5 \nQ 32.28125 48.484375 27.875 48.484375 \nQ 21.1875 48.484375 17.84375 46.4375 \nQ 14.5 44.390625 14.5 40.28125 \nQ 14.5 37.15625 16.890625 35.375 \nQ 19.28125 33.59375 26.515625 31.984375 \nL 29.59375 31.296875 \nQ 39.15625 29.25 43.1875 25.515625 \nQ 47.21875 21.78125 47.21875 15.09375 \nQ 47.21875 7.46875 41.1875 3.015625 \nQ 35.15625 -1.421875 24.609375 -1.421875 \nQ 20.21875 -1.421875 15.453125 -0.5625 \nQ 10.6875 0.296875 5.421875 2 \nL 5.421875 11.28125 \nQ 10.40625 8.6875 15.234375 7.390625 \nQ 20.0625 6.109375 24.8125 6.109375 \nQ 31.15625 6.109375 34.5625 8.28125 \nQ 37.984375 10.453125 37.984375 14.40625 \nQ 37.984375 18.0625 35.515625 20.015625 \nQ 33.0625 21.96875 24.703125 23.78125 \nL 21.578125 24.515625 \nQ 13.234375 26.265625 9.515625 29.90625 \nQ 5.8125 33.546875 5.8125 39.890625 \nQ 5.8125 47.609375 11.28125 51.796875 \nQ 16.75 56 26.8125 56 \nQ 31.78125 56 36.171875 55.265625 \nQ 40.578125 54.546875 44.28125 53.078125 \nz\n\" id=\"DejaVuSans-115\"/>\n      </defs>\n      <use xlink:href=\"#DejaVuSans-79\"/>\n      <use x=\"78.710938\" xlink:href=\"#DejaVuSans-117\"/>\n      <use x=\"142.089844\" xlink:href=\"#DejaVuSans-116\"/>\n      <use x=\"181.298828\" xlink:href=\"#DejaVuSans-99\"/>\n      <use x=\"236.279297\" xlink:href=\"#DejaVuSans-111\"/>\n      <use x=\"297.460938\" xlink:href=\"#DejaVuSans-109\"/>\n      <use x=\"394.873047\" xlink:href=\"#DejaVuSans-101\"/>\n      <use x=\"456.396484\" xlink:href=\"#DejaVuSans-32\"/>\n      <use x=\"488.183594\" xlink:href=\"#DejaVuSans-97\"/>\n      <use x=\"549.462891\" xlink:href=\"#DejaVuSans-102\"/>\n      <use x=\"582.917969\" xlink:href=\"#DejaVuSans-116\"/>\n      <use x=\"622.126953\" xlink:href=\"#DejaVuSans-101\"/>\n      <use x=\"683.650391\" xlink:href=\"#DejaVuSans-114\"/>\n      <use x=\"724.763672\" xlink:href=\"#DejaVuSans-32\"/>\n      <use x=\"756.550781\" xlink:href=\"#DejaVuSans-54\"/>\n      <use x=\"820.173828\" xlink:href=\"#DejaVuSans-32\"/>\n      <use x=\"851.960938\" xlink:href=\"#DejaVuSans-109\"/>\n      <use x=\"949.373047\" xlink:href=\"#DejaVuSans-111\"/>\n      <use x=\"1010.554688\" xlink:href=\"#DejaVuSans-110\"/>\n      <use x=\"1073.933594\" xlink:href=\"#DejaVuSans-116\"/>\n      <use x=\"1113.142578\" xlink:href=\"#DejaVuSans-104\"/>\n      <use x=\"1176.521484\" xlink:href=\"#DejaVuSans-115\"/>\n     </g>\n    </g>\n   </g>\n   <g id=\"patch_12\">\n    <path d=\"M 98.692188 224.64 \nL 98.692188 7.2 \n\" style=\"fill:none;stroke:#000000;stroke-linecap:square;stroke-linejoin:miter;stroke-width:0.8;\"/>\n   </g>\n   <g id=\"patch_13\">\n    <path d=\"M 433.492188 224.64 \nL 433.492188 7.2 \n\" style=\"fill:none;stroke:#000000;stroke-linecap:square;stroke-linejoin:miter;stroke-width:0.8;\"/>\n   </g>\n   <g id=\"patch_14\">\n    <path d=\"M 98.692188 224.64 \nL 433.492188 224.64 \n\" style=\"fill:none;stroke:#000000;stroke-linecap:square;stroke-linejoin:miter;stroke-width:0.8;\"/>\n   </g>\n   <g id=\"patch_15\">\n    <path d=\"M 98.692188 7.2 \nL 433.492188 7.2 \n\" style=\"fill:none;stroke:#000000;stroke-linecap:square;stroke-linejoin:miter;stroke-width:0.8;\"/>\n   </g>\n   <g id=\"legend_1\">\n    <g id=\"patch_16\">\n     <path d=\"M 376.1 59.234375 \nL 426.492188 59.234375 \nQ 428.492188 59.234375 428.492188 57.234375 \nL 428.492188 14.2 \nQ 428.492188 12.2 426.492188 12.2 \nL 376.1 12.2 \nQ 374.1 12.2 374.1 14.2 \nL 374.1 57.234375 \nQ 374.1 59.234375 376.1 59.234375 \nz\n\" style=\"fill:#ffffff;opacity:0.8;stroke:#cccccc;stroke-linejoin:miter;\"/>\n    </g>\n    <g id=\"text_13\">\n     <!-- RXHEP14 -->\n     <g transform=\"translate(378.1 23.798437)scale(0.1 -0.1)\">\n      <defs>\n       <path d=\"M 6.296875 72.90625 \nL 16.890625 72.90625 \nL 35.015625 45.796875 \nL 53.21875 72.90625 \nL 63.8125 72.90625 \nL 40.375 37.890625 \nL 65.375 0 \nL 54.78125 0 \nL 34.28125 31 \nL 13.625 0 \nL 2.984375 0 \nL 29 38.921875 \nz\n\" id=\"DejaVuSans-88\"/>\n       <path d=\"M 9.8125 72.90625 \nL 19.671875 72.90625 \nL 19.671875 43.015625 \nL 55.515625 43.015625 \nL 55.515625 72.90625 \nL 65.375 72.90625 \nL 65.375 0 \nL 55.515625 0 \nL 55.515625 34.71875 \nL 19.671875 34.71875 \nL 19.671875 0 \nL 9.8125 0 \nz\n\" id=\"DejaVuSans-72\"/>\n       <path d=\"M 9.8125 72.90625 \nL 55.90625 72.90625 \nL 55.90625 64.59375 \nL 19.671875 64.59375 \nL 19.671875 43.015625 \nL 54.390625 43.015625 \nL 54.390625 34.71875 \nL 19.671875 34.71875 \nL 19.671875 8.296875 \nL 56.78125 8.296875 \nL 56.78125 0 \nL 9.8125 0 \nz\n\" id=\"DejaVuSans-69\"/>\n      </defs>\n      <use xlink:href=\"#DejaVuSans-82\"/>\n      <use x=\"69.482422\" xlink:href=\"#DejaVuSans-88\"/>\n      <use x=\"137.988281\" xlink:href=\"#DejaVuSans-72\"/>\n      <use x=\"213.183594\" xlink:href=\"#DejaVuSans-69\"/>\n      <use x=\"276.367188\" xlink:href=\"#DejaVuSans-80\"/>\n      <use x=\"336.669922\" xlink:href=\"#DejaVuSans-49\"/>\n      <use x=\"400.292969\" xlink:href=\"#DejaVuSans-52\"/>\n     </g>\n    </g>\n    <g id=\"patch_17\">\n     <path d=\"M 383.555469 38.476562 \nL 403.555469 38.476562 \nL 403.555469 31.476562 \nL 383.555469 31.476562 \nz\n\" style=\"fill:#1f77b4;fill-opacity:0.75;stroke:#000000;stroke-linejoin:miter;\"/>\n    </g>\n    <g id=\"text_14\">\n     <!-- N -->\n     <g transform=\"translate(411.555469 38.476562)scale(0.1 -0.1)\">\n      <use xlink:href=\"#DejaVuSans-78\"/>\n     </g>\n    </g>\n    <g id=\"patch_18\">\n     <path d=\"M 383.555469 53.154687 \nL 403.555469 53.154687 \nL 403.555469 46.154687 \nL 383.555469 46.154687 \nz\n\" style=\"fill:#ff7f0e;fill-opacity:0.75;stroke:#000000;stroke-linejoin:miter;\"/>\n    </g>\n    <g id=\"text_15\">\n     <!-- Y -->\n     <g transform=\"translate(411.555469 53.154687)scale(0.1 -0.1)\">\n      <defs>\n       <path d=\"M -0.203125 72.90625 \nL 10.40625 72.90625 \nL 30.609375 42.921875 \nL 50.6875 72.90625 \nL 61.28125 72.90625 \nL 35.5 34.71875 \nL 35.5 0 \nL 25.59375 0 \nL 25.59375 34.71875 \nz\n\" id=\"DejaVuSans-89\"/>\n      </defs>\n      <use xlink:href=\"#DejaVuSans-89\"/>\n     </g>\n    </g>\n   </g>\n  </g>\n </g>\n <defs>\n  <clipPath id=\"p3cffb62177\">\n   <rect height=\"217.44\" width=\"334.8\" x=\"98.692188\" y=\"7.2\"/>\n  </clipPath>\n </defs>\n</svg>\n",
      "image/png": "[encoded data removed]"
     },
     "metadata": {
      "needs_background": "light"
     }
    }
   ],
   "source": [
    "ax = sns.histplot(y = df.OCCODE,\n",
    "                 hue= df.RXHEP14,\n",
    "                 stat = 'probability',\n",
    "                 multiple=\"fill\",\n",
    "                 #order = ['Control', 'Aspirin', 'Low Heparin', 'Medium Heparin', 'Aspirin + Low Heparin', 'Aspirin + Medium Heparin']\n",
    "                 #palette = COLOR_STYPE\n",
    "                 )\n",
    "ax.set(xlabel=\"Percent\")\n",
    "ax.set(ylabel=\"Outcome after 6 months\")\n",
    "\n",
    "plt.axvspan(0.499, 0.501, color = 'green')\n",
    "\n",
    "xlabels = ['{:,.0f}'.format(x) for x in ax.get_xticks()*100]\n",
    "ax.set_xticklabels(xlabels)\n",
    "\n",
    "#plt.legend(bbox_to_anchor=(1.05, 1), loc='upper left', \n",
    "#           labels = ['Indeterminate stroke', 'Haemorrhagic stroke', 'Ischaemic stroke'], labelspacing=1.2)\n",
    "\n",
    "#plt.savefig(\"images/treat_perc_diagstr.png\", bbox_inches=\"tight\")\n",
    "plt.show()"
   ]
  },
  {
   "source": [
    "After 6 months: difference between heparin and no heparin"
   ],
   "cell_type": "markdown",
   "metadata": {}
  },
  {
   "source": [
    "#### non vs low vs medium heparin\n"
   ],
   "cell_type": "markdown",
   "metadata": {}
  },
  {
   "cell_type": "code",
   "execution_count": 81,
   "metadata": {},
   "outputs": [],
   "source": [
    "group_hep_l = df[df['HEP14']=='L'] # patients were given heparin for at least 14 days\n",
    "group_hep_m = df[df['HEP14']=='M'] # patients were given heparin for at least 14 days\n",
    "group_hep_n = df[df['RXHEP14']=='N'] # patients did not receive aspirin"
   ]
  },
  {
   "cell_type": "code",
   "execution_count": 82,
   "metadata": {},
   "outputs": [
    {
     "output_type": "stream",
     "name": "stdout",
     "text": [
      "stat = 0.397, p = 0.820\nProbably the same distribution\n"
     ]
    }
   ],
   "source": [
    "data1 = group_hep_l['RDISCH14'].tolist()\n",
    "data2 = group_hep_m['RDISCH14'].tolist()\n",
    "data3 = group_hep_n['RDISCH14'].tolist()\n",
    "stat, p = kruskal(data1, data2, data3)\n",
    "print_stats(stat, p)"
   ]
  },
  {
   "source": [
    "After 14 days: No difference between low, medium and no heparin."
   ],
   "cell_type": "markdown",
   "metadata": {}
  },
  {
   "cell_type": "code",
   "execution_count": 113,
   "metadata": {},
   "outputs": [
    {
     "output_type": "stream",
     "name": "stdout",
     "text": [
      "stat = 5.865, p = 0.053\nProbably the same distribution\n"
     ]
    }
   ],
   "source": [
    "data1 = group_hep_l['OCCODE'].tolist()\n",
    "data2 = group_hep_m['OCCODE'].tolist()\n",
    "data3 = group_hep_n['OCCODE'].tolist()\n",
    "stat, p = kruskal(data1, data2, data3)\n",
    "print_stats(stat, p)"
   ]
  },
  {
   "source": [
    "After 6 months: No difference between different heparin treatments. \n",
    "Though, with Mann-Whitney-Test between single groups: slight difference between 'no heparin' and 'low heparin# (p = 0.046)"
   ],
   "cell_type": "markdown",
   "metadata": {}
  },
  {
   "cell_type": "code",
   "execution_count": 114,
   "metadata": {},
   "outputs": [],
   "source": [
    "datax = [data1, data2, data3]\n",
    "datay = [data1, data2, data3]"
   ]
  },
  {
   "cell_type": "code",
   "execution_count": 115,
   "metadata": {},
   "outputs": [
    {
     "output_type": "stream",
     "name": "stdout",
     "text": [
      "0 0\nstat = 9383112.000, p = 0.500\nProbably the same distribution\n\n0 1\nstat = 8918638.500, p = 0.333\nProbably the same distribution\n\n0 2\nstat = 21977641.500, p = 0.046\nProbably different distributions\n\n1 0\nstat = 8918638.500, p = 0.333\nProbably the same distribution\n\n1 1\nstat = 8565660.500, p = 0.500\nProbably the same distribution\n\n1 2\nstat = 20888907.500, p = 0.015\nProbably different distributions\n\n2 0\nstat = 21977641.500, p = 0.046\nProbably different distributions\n\n2 1\nstat = 20888907.500, p = 0.015\nProbably different distributions\n\n2 2\nstat = 53240880.500, p = 0.500\nProbably the same distribution\n\n"
     ]
    }
   ],
   "source": [
    "iterator = product(enumerate(datax), enumerate(datay))\n",
    "for (first_idx, first_group), (second_idx, second_group) in iterator:\n",
    "    print(first_idx, second_idx)\n",
    "    stat, p = mannwhitneyu(first_group, second_group)\n",
    "    print_stats(stat, p)\n",
    "    print()"
   ]
  },
  {
   "cell_type": "code",
   "execution_count": null,
   "metadata": {},
   "outputs": [],
   "source": []
  },
  {
   "source": [
    "#### heparin vs non-heparin subdivided in prior heparin"
   ],
   "cell_type": "markdown",
   "metadata": {}
  },
  {
   "source": [
    "#### heparin vs non-heparin subdivided in hours between onset and randomisation (3, 6, 12, 24, 48)"
   ],
   "cell_type": "markdown",
   "metadata": {}
  },
  {
   "cell_type": "code",
   "execution_count": 63,
   "metadata": {},
   "outputs": [
    {
     "output_type": "execute_result",
     "data": {
      "text/plain": [
       "array(['Aspirin', 'Low Heparin', 'Medium Heparin',\n",
       "       'Aspirin + Medium Heparin', 'Control', 'Aspirin + Low Heparin'],\n",
       "      dtype=object)"
      ]
     },
     "metadata": {},
     "execution_count": 63
    }
   ],
   "source": [
    "df.TREAT14.unique()"
   ]
  },
  {
   "cell_type": "code",
   "execution_count": null,
   "metadata": {},
   "outputs": [],
   "source": []
  },
  {
   "source": [
    "### combination of aspirin and heparin\n",
    "(significantly) different outcome than separate effects of aspirin and heparin"
   ],
   "cell_type": "markdown",
   "metadata": {}
  },
  {
   "cell_type": "code",
   "execution_count": 83,
   "metadata": {},
   "outputs": [],
   "source": [
    "group_treat_a = df[df['TREAT14']=='Aspirin'] # patients were given heparin for at least 14 days\n",
    "group_treat_c = df[df['TREAT14']=='Control'] # patients were given heparin for at least 14 days\n",
    "group_treat_lh = df[df['TREAT14']=='Low Heparin'] # patients were given heparin for at least 14 days\n",
    "group_treat_mh = df[df['TREAT14']=='Medium Heparin'] # patients were given heparin for at least 14 days\n",
    "group_treat_alh = df[df['TREAT14']=='Aspirin + Low Heparin'] # patients were given heparin for at least 14 days\n",
    "group_treat_amh = df[df['TREAT14']=='Aspirin + Medium Heparin'] # patients were given heparin for at least 14 days"
   ]
  },
  {
   "cell_type": "code",
   "execution_count": 84,
   "metadata": {},
   "outputs": [
    {
     "output_type": "stream",
     "name": "stdout",
     "text": [
      "stat = 6.635, p = 0.249\nProbably the same distribution\n"
     ]
    }
   ],
   "source": [
    "data1 = group_treat_a['RDISCH14'].tolist()\n",
    "data2 = group_treat_c['RDISCH14'].tolist()\n",
    "data3 = group_treat_lh['RDISCH14'].tolist()\n",
    "data4 = group_treat_mh['RDISCH14'].tolist()\n",
    "data5 = group_treat_alh['RDISCH14'].tolist()\n",
    "data6 = group_treat_amh['RDISCH14'].tolist()\n",
    "stat, p = kruskal(data1, data2, data3, data4, data5, data6)\n",
    "print_stats(stat, p)"
   ]
  },
  {
   "cell_type": "code",
   "execution_count": 85,
   "metadata": {},
   "outputs": [
    {
     "output_type": "stream",
     "name": "stdout",
     "text": [
      "stat = 42.945, p = 0.000\nProbably different distributions\n"
     ]
    }
   ],
   "source": [
    "data0 = group_treat_a['OCCODE'].tolist()\n",
    "data1 = group_treat_c['OCCODE'].tolist()\n",
    "data2 = group_treat_lh['OCCODE'].tolist()\n",
    "data3 = group_treat_mh['OCCODE'].tolist()\n",
    "data4 = group_treat_alh['OCCODE'].tolist()\n",
    "data5 = group_treat_amh['OCCODE'].tolist()\n",
    "stat, p = kruskal(data0, data1, data2, data3, data4, data5)\n",
    "print_stats(stat, p)"
   ]
  },
  {
   "cell_type": "code",
   "execution_count": 87,
   "metadata": {},
   "outputs": [],
   "source": [
    "datax = [data0, data1, data2, data3, data4, data5]\n",
    "datay = [data0, data1, data2, data3, data4, data5]"
   ]
  },
  {
   "cell_type": "code",
   "execution_count": 88,
   "metadata": {
    "tags": []
   },
   "outputs": [
    {
     "output_type": "stream",
     "name": "stdout",
     "text": [
      "0 0\n",
      "stat = 11007432.000, p = 0.500\n",
      "Probably the same distribution\n",
      "\n",
      "0 1\n",
      "stat = 12418896.500, p = 0.000\n",
      "Probably different distributions\n",
      "\n",
      "0 2\n",
      "stat = 4994206.500, p = 0.011\n",
      "Probably different distributions\n",
      "\n",
      "0 3\n",
      "stat = 4893458.000, p = 0.039\n",
      "Probably different distributions\n",
      "\n",
      "0 4\n",
      "stat = 4991736.500, p = 0.445\n",
      "Probably the same distribution\n",
      "\n",
      "0 5\n",
      "stat = 4660267.500, p = 0.335\n",
      "Probably the same distribution\n",
      "\n",
      "1 0\n",
      "stat = 12418896.500, p = 0.000\n",
      "Probably different distributions\n",
      "\n",
      "1 1\n",
      "stat = 15831564.500, p = 0.500\n",
      "Probably the same distribution\n",
      "\n",
      "1 2\n",
      "stat = 6026950.500, p = 0.028\n",
      "Probably different distributions\n",
      "\n",
      "1 3\n",
      "stat = 5820116.000, p = 0.008\n",
      "Probably different distributions\n",
      "\n",
      "1 4\n",
      "stat = 5630761.000, p = 0.000\n",
      "Probably different distributions\n",
      "\n",
      "1 5\n",
      "stat = 5261102.000, p = 0.000\n",
      "Probably different distributions\n",
      "\n",
      "2 0\n",
      "stat = 4994206.500, p = 0.011\n",
      "Probably different distributions\n",
      "\n",
      "2 1\n",
      "stat = 6026950.500, p = 0.028\n",
      "Probably different distributions\n",
      "\n",
      "2 2\n",
      "stat = 2420000.000, p = 0.500\n",
      "Probably the same distribution\n",
      "\n",
      "2 3\n",
      "stat = 2337664.500, p = 0.339\n",
      "Probably the same distribution\n",
      "\n",
      "2 4\n",
      "stat = 2264495.000, p = 0.020\n",
      "Probably different distributions\n",
      "\n",
      "2 5\n",
      "stat = 2115452.000, p = 0.013\n",
      "Probably different distributions\n",
      "\n",
      "3 0\n",
      "stat = 4893458.000, p = 0.039\n",
      "Probably different distributions\n",
      "\n",
      "3 1\n",
      "stat = 5820116.000, p = 0.008\n",
      "Probably different distributions\n",
      "\n",
      "3 2\n",
      "stat = 2337664.500, p = 0.339\n",
      "Probably the same distribution\n",
      "\n",
      "3 3\n",
      "stat = 2289800.000, p = 0.500\n",
      "Probably the same distribution\n",
      "\n",
      "3 4\n",
      "stat = 2218872.500, p = 0.052\n",
      "Probably the same distribution\n",
      "\n",
      "3 5\n",
      "stat = 2072466.000, p = 0.035\n",
      "Probably different distributions\n",
      "\n",
      "4 0\n",
      "stat = 4991736.500, p = 0.445\n",
      "Probably the same distribution\n",
      "\n",
      "4 1\n",
      "stat = 5630761.000, p = 0.000\n",
      "Probably different distributions\n",
      "\n",
      "4 2\n",
      "stat = 2264495.000, p = 0.020\n",
      "Probably different distributions\n",
      "\n",
      "4 3\n",
      "stat = 2218872.500, p = 0.052\n",
      "Probably the same distribution\n",
      "\n",
      "4 4\n",
      "stat = 2272712.000, p = 0.500\n",
      "Probably the same distribution\n",
      "\n",
      "4 5\n",
      "stat = 2121914.500, p = 0.403\n",
      "Probably the same distribution\n",
      "\n",
      "5 0\n",
      "stat = 4660267.500, p = 0.335\n",
      "Probably the same distribution\n",
      "\n",
      "5 1\n",
      "stat = 5261102.000, p = 0.000\n",
      "Probably different distributions\n",
      "\n",
      "5 2\n",
      "stat = 2115452.000, p = 0.013\n",
      "Probably different distributions\n",
      "\n",
      "5 3\n",
      "stat = 2072466.000, p = 0.035\n",
      "Probably different distributions\n",
      "\n",
      "5 4\n",
      "stat = 2121914.500, p = 0.403\n",
      "Probably the same distribution\n",
      "\n",
      "5 5\n",
      "stat = 1998000.500, p = 0.500\n",
      "Probably the same distribution\n",
      "\n"
     ]
    }
   ],
   "source": [
    "iterator = product(enumerate(datax), enumerate(datay))\n",
    "for (first_idx, first_group), (second_idx, second_group) in iterator:\n",
    "    print(first_idx, second_idx)\n",
    "    stat, p = mannwhitneyu(first_group, second_group)\n",
    "    print_stats(stat, p)\n",
    "    print()"
   ]
  },
  {
   "source": [
    "+ 0 1: p = 0.000\n",
    "+ 0 2: p = 0.011\n",
    "+ 1 2: p = 0.028\n",
    "+ 1 3: p = 0.008\n",
    "+ 1 4: p = 0.000\n",
    "+ 1 5: p = 0.000\n",
    "+ 2 4: p = 0.020\n",
    "+ 2 5: p = 0.013\n"
   ],
   "cell_type": "markdown",
   "metadata": {}
  },
  {
   "cell_type": "code",
   "execution_count": null,
   "metadata": {},
   "outputs": [],
   "source": [
    "# randomization aspect"
   ]
  },
  {
   "cell_type": "code",
   "execution_count": null,
   "metadata": {},
   "outputs": [],
   "source": [
    "# hep or asp prior to stroke - aspect"
   ]
  }
 ]
}