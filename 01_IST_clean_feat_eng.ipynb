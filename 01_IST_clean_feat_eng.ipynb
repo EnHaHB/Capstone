{
 "cells": [
  {
   "source": [
    "# Cleaning up the data"
   ],
   "cell_type": "markdown",
   "metadata": {}
  },
  {
   "cell_type": "code",
   "execution_count": 1,
   "metadata": {},
   "outputs": [],
   "source": [
    "# import general libraries\n",
    "import pandas as pd\n",
    "import numpy as np"
   ]
  },
  {
   "cell_type": "code",
   "execution_count": 2,
   "metadata": {},
   "outputs": [],
   "source": [
    "# get the data\n",
    "df = pd.read_csv('data/IST_corrected.csv', low_memory = False)"
   ]
  },
  {
   "cell_type": "code",
   "execution_count": 3,
   "metadata": {},
   "outputs": [
    {
     "output_type": "stream",
     "name": "stdout",
     "text": [
      "<class 'pandas.core.frame.DataFrame'>\nRangeIndex: 19435 entries, 0 to 19434\nColumns: 112 entries, HOSPNUM to NCB14\ndtypes: float64(20), int64(29), object(63)\nmemory usage: 16.6+ MB\n"
     ]
    }
   ],
   "source": [
    "df.info()"
   ]
  },
  {
   "cell_type": "code",
   "execution_count": 4,
   "metadata": {},
   "outputs": [
    {
     "output_type": "execute_result",
     "data": {
      "text/plain": [
       "   HOSPNUM  RDELAY RCONSC SEX  AGE RSLEEP RATRIAL RCT RVISINF RHEP24  ...  \\\n",
       "0        1      17      D   M   69      Y     NaN   Y       Y    NaN  ...   \n",
       "1        1      10      F   M   76      Y     NaN   Y       N    NaN  ...   \n",
       "2        1      43      F   F   71      N     NaN   Y       N    NaN  ...   \n",
       "3        1       6      F   M   81      N     NaN   N       N    NaN  ...   \n",
       "4        4      20      F   M   78      N     NaN   N       N    NaN  ...   \n",
       "\n",
       "  DEAD8  H14 ISC14 NK14 STRK14 HTI14 PE14 DVT14 TRAN14 NCB14  \n",
       "0     0    0     0    0      0     0    0     0      0     0  \n",
       "1     0    0     0    0      0     0    0     0      0     0  \n",
       "2     0    0     0    0      0     0    0     0      0     0  \n",
       "3     0    0     0    0      0     0    0     0      0     0  \n",
       "4     0    0     0    0      0     0    0     0      0     0  \n",
       "\n",
       "[5 rows x 112 columns]"
      ],
      "text/html": "<div>\n<style scoped>\n    .dataframe tbody tr th:only-of-type {\n        vertical-align: middle;\n    }\n\n    .dataframe tbody tr th {\n        vertical-align: top;\n    }\n\n    .dataframe thead th {\n        text-align: right;\n    }\n</style>\n<table border=\"1\" class=\"dataframe\">\n  <thead>\n    <tr style=\"text-align: right;\">\n      <th></th>\n      <th>HOSPNUM</th>\n      <th>RDELAY</th>\n      <th>RCONSC</th>\n      <th>SEX</th>\n      <th>AGE</th>\n      <th>RSLEEP</th>\n      <th>RATRIAL</th>\n      <th>RCT</th>\n      <th>RVISINF</th>\n      <th>RHEP24</th>\n      <th>...</th>\n      <th>DEAD8</th>\n      <th>H14</th>\n      <th>ISC14</th>\n      <th>NK14</th>\n      <th>STRK14</th>\n      <th>HTI14</th>\n      <th>PE14</th>\n      <th>DVT14</th>\n      <th>TRAN14</th>\n      <th>NCB14</th>\n    </tr>\n  </thead>\n  <tbody>\n    <tr>\n      <th>0</th>\n      <td>1</td>\n      <td>17</td>\n      <td>D</td>\n      <td>M</td>\n      <td>69</td>\n      <td>Y</td>\n      <td>NaN</td>\n      <td>Y</td>\n      <td>Y</td>\n      <td>NaN</td>\n      <td>...</td>\n      <td>0</td>\n      <td>0</td>\n      <td>0</td>\n      <td>0</td>\n      <td>0</td>\n      <td>0</td>\n      <td>0</td>\n      <td>0</td>\n      <td>0</td>\n      <td>0</td>\n    </tr>\n    <tr>\n      <th>1</th>\n      <td>1</td>\n      <td>10</td>\n      <td>F</td>\n      <td>M</td>\n      <td>76</td>\n      <td>Y</td>\n      <td>NaN</td>\n      <td>Y</td>\n      <td>N</td>\n      <td>NaN</td>\n      <td>...</td>\n      <td>0</td>\n      <td>0</td>\n      <td>0</td>\n      <td>0</td>\n      <td>0</td>\n      <td>0</td>\n      <td>0</td>\n      <td>0</td>\n      <td>0</td>\n      <td>0</td>\n    </tr>\n    <tr>\n      <th>2</th>\n      <td>1</td>\n      <td>43</td>\n      <td>F</td>\n      <td>F</td>\n      <td>71</td>\n      <td>N</td>\n      <td>NaN</td>\n      <td>Y</td>\n      <td>N</td>\n      <td>NaN</td>\n      <td>...</td>\n      <td>0</td>\n      <td>0</td>\n      <td>0</td>\n      <td>0</td>\n      <td>0</td>\n      <td>0</td>\n      <td>0</td>\n      <td>0</td>\n      <td>0</td>\n      <td>0</td>\n    </tr>\n    <tr>\n      <th>3</th>\n      <td>1</td>\n      <td>6</td>\n      <td>F</td>\n      <td>M</td>\n      <td>81</td>\n      <td>N</td>\n      <td>NaN</td>\n      <td>N</td>\n      <td>N</td>\n      <td>NaN</td>\n      <td>...</td>\n      <td>0</td>\n      <td>0</td>\n      <td>0</td>\n      <td>0</td>\n      <td>0</td>\n      <td>0</td>\n      <td>0</td>\n      <td>0</td>\n      <td>0</td>\n      <td>0</td>\n    </tr>\n    <tr>\n      <th>4</th>\n      <td>4</td>\n      <td>20</td>\n      <td>F</td>\n      <td>M</td>\n      <td>78</td>\n      <td>N</td>\n      <td>NaN</td>\n      <td>N</td>\n      <td>N</td>\n      <td>NaN</td>\n      <td>...</td>\n      <td>0</td>\n      <td>0</td>\n      <td>0</td>\n      <td>0</td>\n      <td>0</td>\n      <td>0</td>\n      <td>0</td>\n      <td>0</td>\n      <td>0</td>\n      <td>0</td>\n    </tr>\n  </tbody>\n</table>\n<p>5 rows × 112 columns</p>\n</div>"
     },
     "metadata": {},
     "execution_count": 4
    }
   ],
   "source": [
    "df.head()"
   ]
  },
  {
   "source": [
    "## Duplicates\n",
    "\n",
    "There are no duplicates in the dataset."
   ],
   "cell_type": "markdown",
   "metadata": {}
  },
  {
   "cell_type": "code",
   "execution_count": 5,
   "metadata": {},
   "outputs": [
    {
     "output_type": "execute_result",
     "data": {
      "text/plain": [
       "Empty DataFrame\n",
       "Columns: [HOSPNUM, RDELAY, RCONSC, SEX, AGE, RSLEEP, RATRIAL, RCT, RVISINF, RHEP24, RASP3, RSBP, RDEF1, RDEF2, RDEF3, RDEF4, RDEF5, RDEF6, RDEF7, RDEF8, STYPE, RDATE, HOURLOCAL, MINLOCAL, DAYLOCAL, RXASP, RXHEP, DASP14, DASPLT, DLH14, DMH14, DHH14, ONDRUG, DSCH, DIVH, DAP, DOAC, DGORM, DSTER, DCAA, DHAEMD, DCAREND, DTHROMB, DMAJNCH, DMAJNCHD, DMAJNCHX, DSIDE, DSIDED, DSIDEX, DDIAGISC, DDIAGHA, DDIAGUN, DNOSTRK, DNOSTRKX, DRSISC, DRSISCD, DRSH, DRSHD, DRSUNK, DRSUNKD, DPE, DPED, DALIVE, DALIVED, DPLACE, DDEAD, DDEADD, DDEADC, DDEADX, FDEAD, FLASTD, FDEADD, FDEADC, FDEADX, FRECOVER, FDENNIS, FPLACE, FAP, FOAC, FU1_RECD, FU2_DONE, COUNTRY, CNTRYNUM, FU1_COMP, NCCODE, CMPLASP, CMPLHEP, DIED, TD, EXPDD, EXPD6, EXPD14, SET14D, ID14, OCCODE, DEAD1, DEAD2, DEAD3, DEAD4, DEAD5, ...]\n",
       "Index: []\n",
       "\n",
       "[0 rows x 112 columns]"
      ],
      "text/html": "<div>\n<style scoped>\n    .dataframe tbody tr th:only-of-type {\n        vertical-align: middle;\n    }\n\n    .dataframe tbody tr th {\n        vertical-align: top;\n    }\n\n    .dataframe thead th {\n        text-align: right;\n    }\n</style>\n<table border=\"1\" class=\"dataframe\">\n  <thead>\n    <tr style=\"text-align: right;\">\n      <th></th>\n      <th>HOSPNUM</th>\n      <th>RDELAY</th>\n      <th>RCONSC</th>\n      <th>SEX</th>\n      <th>AGE</th>\n      <th>RSLEEP</th>\n      <th>RATRIAL</th>\n      <th>RCT</th>\n      <th>RVISINF</th>\n      <th>RHEP24</th>\n      <th>...</th>\n      <th>DEAD8</th>\n      <th>H14</th>\n      <th>ISC14</th>\n      <th>NK14</th>\n      <th>STRK14</th>\n      <th>HTI14</th>\n      <th>PE14</th>\n      <th>DVT14</th>\n      <th>TRAN14</th>\n      <th>NCB14</th>\n    </tr>\n  </thead>\n  <tbody>\n  </tbody>\n</table>\n<p>0 rows × 112 columns</p>\n</div>"
     },
     "metadata": {},
     "execution_count": 5
    }
   ],
   "source": [
    "# check for duplicates\n",
    "double = df[df.duplicated()]\n",
    "double"
   ]
  },
  {
   "source": [
    "There are 112 columns in the dataset. Please see the document [IST_corrected_columns](IST_corrected_columns.md) for a detailed list of columns and which information these store. Generally, the columns are broken down into these categories: \n",
    "+ Randomization data\n",
    "+ Data collected on 14 day/discharge form about treatments given in hospital\n",
    "+ Final diagnisos of initial event\n",
    "+ Other events within 14 days\n",
    "+ Data collected at 6 months\n",
    "+ Other data and derived variables\n",
    "\n",
    "Below we will take an overview of the columns and then a more detailed look at some variables, including the generation of some new variables."
   ],
   "cell_type": "markdown",
   "metadata": {}
  },
  {
   "source": [
    "## General Overview\n",
    "\n",
    "First we want to check which kind of data we have, how many instances per variable and how much missing data."
   ],
   "cell_type": "markdown",
   "metadata": {}
  },
  {
   "cell_type": "code",
   "execution_count": 6,
   "metadata": {},
   "outputs": [
    {
     "output_type": "execute_result",
     "data": {
      "text/plain": [
       "{'int64': Index(['HOSPNUM', 'RDELAY', 'AGE', 'RSBP', 'HOURLOCAL', 'MINLOCAL', 'DAYLOCAL',\n",
       "        'CNTRYNUM', 'DIED', 'SET14D', 'ID14', 'OCCODE', 'DEAD1', 'DEAD2',\n",
       "        'DEAD3', 'DEAD4', 'DEAD5', 'DEAD6', 'DEAD7', 'DEAD8', 'H14', 'ISC14',\n",
       "        'NK14', 'STRK14', 'HTI14', 'PE14', 'DVT14', 'TRAN14', 'NCB14'],\n",
       "       dtype='object'),\n",
       " 'float64': Index(['ONDRUG', 'DMAJNCHD', 'DSIDED', 'DRSISCD', 'DRSHD', 'DRSUNKD', 'DPED',\n",
       "        'DALIVED', 'DDEADD', 'DDEADC', 'FLASTD', 'FDEADD', 'FDEADC', 'FU1_RECD',\n",
       "        'FU2_DONE', 'FU1_COMP', 'TD', 'EXPDD', 'EXPD6', 'EXPD14'],\n",
       "       dtype='object'),\n",
       " 'object': Index(['RCONSC', 'SEX', 'RSLEEP', 'RATRIAL', 'RCT', 'RVISINF', 'RHEP24',\n",
       "        'RASP3', 'RDEF1', 'RDEF2', 'RDEF3', 'RDEF4', 'RDEF5', 'RDEF6', 'RDEF7',\n",
       "        'RDEF8', 'STYPE', 'RDATE', 'RXASP', 'RXHEP', 'DASP14', 'DASPLT',\n",
       "        'DLH14', 'DMH14', 'DHH14', 'DSCH', 'DIVH', 'DAP', 'DOAC', 'DGORM',\n",
       "        'DSTER', 'DCAA', 'DHAEMD', 'DCAREND', 'DTHROMB', 'DMAJNCH', 'DMAJNCHX',\n",
       "        'DSIDE', 'DSIDEX', 'DDIAGISC', 'DDIAGHA', 'DDIAGUN', 'DNOSTRK',\n",
       "        'DNOSTRKX', 'DRSISC', 'DRSH', 'DRSUNK', 'DPE', 'DALIVE', 'DPLACE',\n",
       "        'DDEAD', 'DDEADX', 'FDEAD', 'FDEADX', 'FRECOVER', 'FDENNIS', 'FPLACE',\n",
       "        'FAP', 'FOAC', 'COUNTRY', 'NCCODE', 'CMPLASP', 'CMPLHEP'],\n",
       "       dtype='object')}"
      ]
     },
     "metadata": {},
     "execution_count": 6
    }
   ],
   "source": [
    "df_types = df.columns.to_series().groupby(df.dtypes).groups\n",
    "{k.name: v for k, v in df_types.items()}"
   ]
  },
  {
   "cell_type": "code",
   "execution_count": 7,
   "metadata": {},
   "outputs": [],
   "source": [
    "object_col = list(df.select_dtypes(include='object').columns)\n",
    "num_col = list(df.select_dtypes(include=['float64', 'int64']).columns)"
   ]
  },
  {
   "source": [
    "### Object Columns\n",
    "\n",
    "Here we generate a general output for each variable that is an object. In addition, we transform all categorical information in uppercase. In the variable/column description we saw, that a few variables include a category \"U\" (for \"Unknown\"). We want to check how many U-instances are there for each variable so we know if we can drop these instances entirely."
   ],
   "cell_type": "markdown",
   "metadata": {}
  },
  {
   "cell_type": "code",
   "execution_count": 8,
   "metadata": {
    "tags": []
   },
   "outputs": [
    {
     "output_type": "stream",
     "name": "stdout",
     "text": [
      "\n",
      "Colunm Name:  RCONSC\n",
      "Describe:  count     19435\n",
      "unique        3\n",
      "top           F\n",
      "freq      14921\n",
      "Name: RCONSC, dtype: object\n",
      "Unique values:  ['D' 'F' 'U']\n",
      "Value counts:  F    14921\n",
      "D     4254\n",
      "U      260\n",
      "Name: RCONSC, dtype: int64\n",
      "\n",
      "Colunm Name:  SEX\n",
      "Describe:  count     19435\n",
      "unique        2\n",
      "top           M\n",
      "freq      10407\n",
      "Name: SEX, dtype: object\n",
      "Unique values:  ['M' 'F']\n",
      "Value counts:  M    10407\n",
      "F     9028\n",
      "Name: SEX, dtype: int64\n",
      "\n",
      "Colunm Name:  RSLEEP\n",
      "Describe:  count     19435\n",
      "unique        2\n",
      "top           N\n",
      "freq      13750\n",
      "Name: RSLEEP, dtype: object\n",
      "Unique values:  ['Y' 'N']\n",
      "Value counts:  N    13750\n",
      "Y     5685\n",
      "Name: RSLEEP, dtype: int64\n",
      "\n",
      "Colunm Name:  RATRIAL\n",
      "Describe:  count     18451\n",
      "unique        2\n",
      "top           N\n",
      "freq      15282\n",
      "Name: RATRIAL, dtype: object\n",
      "Unique values:  [nan 'Y' 'N']\n",
      "Value counts:  N    15282\n",
      "Y     3169\n",
      "Name: RATRIAL, dtype: int64\n",
      "\n",
      "Colunm Name:  RCT\n",
      "Describe:  count     19435\n",
      "unique        2\n",
      "top           Y\n",
      "freq      13024\n",
      "Name: RCT, dtype: object\n",
      "Unique values:  ['Y' 'N']\n",
      "Value counts:  Y    13024\n",
      "N     6411\n",
      "Name: RCT, dtype: int64\n",
      "\n",
      "Colunm Name:  RVISINF\n",
      "Describe:  count     19435\n",
      "unique        2\n",
      "top           N\n",
      "freq      13020\n",
      "Name: RVISINF, dtype: object\n",
      "Unique values:  ['Y' 'N']\n",
      "Value counts:  N    13020\n",
      "Y     6415\n",
      "Name: RVISINF, dtype: int64\n",
      "\n",
      "Colunm Name:  RHEP24\n",
      "Describe:  count     19091\n",
      "unique        2\n",
      "top           N\n",
      "freq      18655\n",
      "Name: RHEP24, dtype: object\n",
      "Unique values:  [nan 'N' 'Y']\n",
      "Value counts:  N    18655\n",
      "Y      436\n",
      "Name: RHEP24, dtype: int64\n",
      "\n",
      "Colunm Name:  RASP3\n",
      "Describe:  count     18451\n",
      "unique        2\n",
      "top           N\n",
      "freq      14511\n",
      "Name: RASP3, dtype: object\n",
      "Unique values:  [nan 'N' 'Y']\n",
      "Value counts:  N    14511\n",
      "Y     3940\n",
      "Name: RASP3, dtype: int64\n",
      "\n",
      "Colunm Name:  RDEF1\n",
      "Describe:  count     19435\n",
      "unique        3\n",
      "top           Y\n",
      "freq      14099\n",
      "Name: RDEF1, dtype: object\n",
      "Unique values:  ['N' 'Y' 'C']\n",
      "Value counts:  Y    14099\n",
      "N     5089\n",
      "C      247\n",
      "Name: RDEF1, dtype: int64\n",
      "\n",
      "Colunm Name:  RDEF2\n",
      "Describe:  count     19435\n",
      "unique        3\n",
      "top           Y\n",
      "freq      16645\n",
      "Name: RDEF2, dtype: object\n",
      "Unique values:  ['N' 'Y' 'C']\n",
      "Value counts:  Y    16645\n",
      "N     2667\n",
      "C      123\n",
      "Name: RDEF2, dtype: int64\n",
      "\n",
      "Colunm Name:  RDEF3\n",
      "Describe:  count     19435\n",
      "unique        3\n",
      "top           Y\n",
      "freq      14678\n",
      "Name: RDEF3, dtype: object\n",
      "Unique values:  ['N' 'Y' 'C']\n",
      "Value counts:  Y    14678\n",
      "N     4502\n",
      "C      255\n",
      "Name: RDEF3, dtype: int64\n",
      "\n",
      "Colunm Name:  RDEF4\n",
      "Describe:  count     19435\n",
      "unique        3\n",
      "top           N\n",
      "freq      10342\n",
      "Name: RDEF4, dtype: object\n",
      "Unique values:  ['Y' 'N' 'C']\n",
      "Value counts:  N    10342\n",
      "Y     8509\n",
      "C      584\n",
      "Name: RDEF4, dtype: int64\n",
      "\n",
      "Colunm Name:  RDEF5\n",
      "Describe:  count     19435\n",
      "unique        3\n",
      "top           N\n",
      "freq      12394\n",
      "Name: RDEF5, dtype: object\n",
      "Unique values:  ['N' 'Y' 'C']\n",
      "Value counts:  N    12394\n",
      "C     3945\n",
      "Y     3096\n",
      "Name: RDEF5, dtype: int64\n",
      "\n",
      "Colunm Name:  RDEF6\n",
      "Describe:  count     19435\n",
      "unique        3\n",
      "top           N\n",
      "freq      12809\n",
      "Name: RDEF6, dtype: object\n",
      "Unique values:  ['Y' 'N' 'C']\n",
      "Value counts:  N    12809\n",
      "C     3448\n",
      "Y     3178\n",
      "Name: RDEF6, dtype: int64\n",
      "\n",
      "Colunm Name:  RDEF7\n",
      "Describe:  count     19435\n",
      "unique        3\n",
      "top           N\n",
      "freq      15704\n",
      "Name: RDEF7, dtype: object\n",
      "Unique values:  ['N' 'Y' 'C']\n",
      "Value counts:  N    15704\n",
      "Y     2139\n",
      "C     1592\n",
      "Name: RDEF7, dtype: int64\n",
      "\n",
      "Colunm Name:  RDEF8\n",
      "Describe:  count     19435\n",
      "unique        3\n",
      "top           N\n",
      "freq      16967\n",
      "Name: RDEF8, dtype: object\n",
      "Unique values:  ['Y' 'N' 'C']\n",
      "Value counts:  N    16967\n",
      "C     1249\n",
      "Y     1219\n",
      "Name: RDEF8, dtype: int64\n",
      "\n",
      "Colunm Name:  STYPE\n",
      "Describe:  count     19435\n",
      "unique        5\n",
      "top        PACS\n",
      "freq       7855\n",
      "Name: STYPE, dtype: object\n",
      "Unique values:  ['PACS' 'LACS' 'POCS' 'OTH' 'TACS']\n",
      "Value counts:  PACS    7855\n",
      "LACS    4657\n",
      "TACS    4638\n",
      "POCS    2228\n",
      "OTH       57\n",
      "Name: STYPE, dtype: int64\n",
      "\n",
      "Colunm Name:  RDATE\n",
      "Describe:  count      19435\n",
      "unique        65\n",
      "top       lis-95\n",
      "freq         680\n",
      "Name: RDATE, dtype: object\n",
      "\n",
      "Colunm Name:  RXASP\n",
      "Describe:  count     19435\n",
      "unique        2\n",
      "top           Y\n",
      "freq       9720\n",
      "Name: RXASP, dtype: object\n",
      "Unique values:  ['Y' 'N']\n",
      "Value counts:  Y    9720\n",
      "N    9715\n",
      "Name: RXASP, dtype: int64\n",
      "\n",
      "Colunm Name:  RXHEP\n",
      "Describe:  count     19435\n",
      "unique        4\n",
      "top           N\n",
      "freq       9718\n",
      "Name: RXHEP, dtype: object\n",
      "Unique values:  ['N' 'L' 'H' 'M']\n",
      "Value counts:  N    9718\n",
      "L    4861\n",
      "M    4611\n",
      "H     245\n",
      "Name: RXHEP, dtype: int64\n",
      "\n",
      "Colunm Name:  DASP14\n",
      "Describe:  count     19413\n",
      "unique        5\n",
      "top           N\n",
      "freq      10326\n",
      "Name: DASP14, dtype: object\n",
      "Unique values:  ['Y' 'N' 'U' nan]\n",
      "Value counts:  N    10327\n",
      "Y     9072\n",
      "U       14\n",
      "Name: DASP14, dtype: int64\n",
      "\n",
      "Colunm Name:  DASPLT\n",
      "Describe:  count     19288\n",
      "unique        3\n",
      "top           Y\n",
      "freq      11566\n",
      "Name: DASPLT, dtype: object\n",
      "Unique values:  ['Y' 'N' nan 'U']\n",
      "Value counts:  Y    11566\n",
      "N     7499\n",
      "U      223\n",
      "Name: DASPLT, dtype: int64\n",
      "\n",
      "Colunm Name:  DLH14\n",
      "Describe:  count     19413\n",
      "unique        3\n",
      "top           N\n",
      "freq      14860\n",
      "Name: DLH14, dtype: object\n",
      "Unique values:  ['N' 'Y' 'U' nan]\n",
      "Value counts:  N    14860\n",
      "Y     4541\n",
      "U       12\n",
      "Name: DLH14, dtype: int64\n",
      "\n",
      "Colunm Name:  DMH14\n",
      "Describe:  count     18429\n",
      "unique        3\n",
      "top           N\n",
      "freq      14318\n",
      "Name: DMH14, dtype: object\n",
      "Unique values:  [nan 'N' 'Y' 'U']\n",
      "Value counts:  N    14318\n",
      "Y     4095\n",
      "U       16\n",
      "Name: DMH14, dtype: int64\n",
      "\n",
      "Colunm Name:  DHH14\n",
      "Describe:  count     984\n",
      "unique      2\n",
      "top         N\n",
      "freq      794\n",
      "Name: DHH14, dtype: object\n",
      "Unique values:  ['N' 'Y' nan]\n",
      "Value counts:  N    794\n",
      "Y    190\n",
      "Name: DHH14, dtype: int64\n",
      "\n",
      "Colunm Name:  DSCH\n",
      "Describe:  count     19130\n",
      "unique        3\n",
      "top           N\n",
      "freq      18643\n",
      "Name: DSCH, dtype: object\n",
      "Unique values:  [nan 'N' 'Y' 'U']\n",
      "Value counts:  N    18643\n",
      "Y      473\n",
      "U       14\n",
      "Name: DSCH, dtype: int64\n",
      "\n",
      "Colunm Name:  DIVH\n",
      "Describe:  count     19130\n",
      "unique        3\n",
      "top           N\n",
      "freq      18740\n",
      "Name: DIVH, dtype: object\n",
      "Unique values:  [nan 'N' 'Y' 'U']\n",
      "Value counts:  N    18740\n",
      "Y      374\n",
      "U       16\n",
      "Name: DIVH, dtype: int64\n",
      "\n",
      "Colunm Name:  DAP\n",
      "Describe:  count     19417\n",
      "unique        3\n",
      "top           N\n",
      "freq      18629\n",
      "Name: DAP, dtype: object\n",
      "Unique values:  ['N' 'Y' nan 'U']\n",
      "Value counts:  N    18629\n",
      "Y      771\n",
      "U       17\n",
      "Name: DAP, dtype: int64\n",
      "\n",
      "Colunm Name:  DOAC\n",
      "Describe:  count     19417\n",
      "unique        3\n",
      "top           N\n",
      "freq      18758\n",
      "Name: DOAC, dtype: object\n",
      "Unique values:  ['N' 'Y' nan 'U']\n",
      "Value counts:  N    18758\n",
      "Y      645\n",
      "U       14\n",
      "Name: DOAC, dtype: int64\n",
      "\n",
      "Colunm Name:  DGORM\n",
      "Describe:  count     19412\n",
      "unique        3\n",
      "top           N\n",
      "freq      17358\n",
      "Name: DGORM, dtype: object\n",
      "Unique values:  ['N' 'Y' nan 'U']\n",
      "Value counts:  N    17358\n",
      "Y     2029\n",
      "U       25\n",
      "Name: DGORM, dtype: int64\n",
      "\n",
      "Colunm Name:  DSTER\n",
      "Describe:  count     19407\n",
      "unique        3\n",
      "top           N\n",
      "freq      18672\n",
      "Name: DSTER, dtype: object\n",
      "Unique values:  ['N' 'Y' nan 'U']\n",
      "Value counts:  N    18672\n",
      "Y      711\n",
      "U       24\n",
      "Name: DSTER, dtype: int64\n",
      "\n",
      "Colunm Name:  DCAA\n",
      "Describe:  count     19406\n",
      "unique        3\n",
      "top           N\n",
      "freq      17193\n",
      "Name: DCAA, dtype: object\n",
      "Unique values:  ['N' 'Y' nan 'U']\n",
      "Value counts:  N    17193\n",
      "Y     2186\n",
      "U       27\n",
      "Name: DCAA, dtype: int64\n",
      "\n",
      "Colunm Name:  DHAEMD\n",
      "Describe:  count     19407\n",
      "unique        3\n",
      "top           N\n",
      "freq      18828\n",
      "Name: DHAEMD, dtype: object\n",
      "Unique values:  ['N' nan 'Y' 'U']\n",
      "Value counts:  N    18828\n",
      "Y      554\n",
      "U       25\n",
      "Name: DHAEMD, dtype: int64\n",
      "\n",
      "Colunm Name:  DCAREND\n",
      "Describe:  count     18430\n",
      "unique        3\n",
      "top           N\n",
      "freq      18352\n",
      "Name: DCAREND, dtype: object\n",
      "Unique values:  [nan 'N' 'Y' 'U']\n",
      "Value counts:  N    18352\n",
      "Y       50\n",
      "U       28\n",
      "Name: DCAREND, dtype: int64\n",
      "\n",
      "Colunm Name:  DTHROMB\n",
      "Describe:  count     19120\n",
      "unique        3\n",
      "top           N\n",
      "freq      19090\n",
      "Name: DTHROMB, dtype: object\n",
      "Unique values:  [nan 'N' 'Y' 'U']\n",
      "Value counts:  N    19090\n",
      "U       16\n",
      "Y       14\n",
      "Name: DTHROMB, dtype: int64\n",
      "\n",
      "Colunm Name:  DMAJNCH\n",
      "Describe:  count     19421\n",
      "unique        3\n",
      "top           N\n",
      "freq      19259\n",
      "Name: DMAJNCH, dtype: object\n",
      "Unique values:  ['N' 'Y' 'U' nan]\n",
      "Value counts:  N    19259\n",
      "Y      149\n",
      "U       13\n",
      "Name: DMAJNCH, dtype: int64\n",
      "\n",
      "Colunm Name:  DMAJNCHX\n",
      "Describe:  count            145\n",
      "unique           117\n",
      "top       HAEMATURIA\n",
      "freq               7\n",
      "Name: DMAJNCHX, dtype: object\n",
      "\n",
      "Colunm Name:  DSIDE\n",
      "Describe:  count     19421\n",
      "unique        3\n",
      "top           N\n",
      "freq      18768\n",
      "Name: DSIDE, dtype: object\n",
      "Unique values:  ['N' 'Y' 'U' nan]\n",
      "Value counts:  N    18768\n",
      "Y      638\n",
      "U       15\n",
      "Name: DSIDE, dtype: int64\n",
      "\n",
      "Colunm Name:  DSIDEX\n",
      "Describe:  count            638\n",
      "unique           515\n",
      "top       HAEMATURIA\n",
      "freq              17\n",
      "Name: DSIDEX, dtype: object\n",
      "\n",
      "Colunm Name:  DDIAGISC\n",
      "Describe:  count     19412\n",
      "unique        4\n",
      "top           Y\n",
      "freq      17398\n",
      "Name: DDIAGISC, dtype: object\n",
      "Unique values:  ['Y' 'N' 'U' nan]\n",
      "Value counts:  Y    17398\n",
      "N     1995\n",
      "U       19\n",
      "Name: DDIAGISC, dtype: int64\n",
      "\n",
      "Colunm Name:  DDIAGHA\n",
      "Describe:  count     19409\n",
      "unique        3\n",
      "top           N\n",
      "freq      18804\n",
      "Name: DDIAGHA, dtype: object\n",
      "Unique values:  ['N' 'Y' nan 'U']\n",
      "Value counts:  N    18804\n",
      "Y      599\n",
      "U        6\n",
      "Name: DDIAGHA, dtype: int64\n",
      "\n",
      "Colunm Name:  DDIAGUN\n",
      "Describe:  count     19412\n",
      "unique        3\n",
      "top           N\n",
      "freq      18414\n",
      "Name: DDIAGUN, dtype: object\n",
      "Unique values:  ['N' 'Y' nan 'U']\n",
      "Value counts:  N    18414\n",
      "Y      992\n",
      "U        6\n",
      "Name: DDIAGUN, dtype: int64\n",
      "\n",
      "Colunm Name:  DNOSTRK\n",
      "Describe:  count     19409\n",
      "unique        3\n",
      "top           N\n",
      "freq      18983\n",
      "Name: DNOSTRK, dtype: object\n",
      "Unique values:  ['N' 'Y' nan 'U']\n",
      "Value counts:  N    18983\n",
      "Y      420\n",
      "U        6\n",
      "Name: DNOSTRK, dtype: int64\n",
      "\n",
      "Colunm Name:  DNOSTRKX\n",
      "Describe:  count     427\n",
      "unique    252\n",
      "top       TIA\n",
      "freq      100\n",
      "Name: DNOSTRKX, dtype: object\n",
      "\n",
      "Colunm Name:  DRSISC\n",
      "Describe:  count     19417\n",
      "unique        3\n",
      "top           N\n",
      "freq      18995\n",
      "Name: DRSISC, dtype: object\n",
      "Unique values:  ['N' 'Y' nan 'U']\n",
      "Value counts:  N    18995\n",
      "Y      413\n",
      "U        9\n",
      "Name: DRSISC, dtype: int64\n",
      "\n",
      "Colunm Name:  DRSH\n",
      "Describe:  count     19420\n",
      "unique        3\n",
      "top           N\n",
      "freq      19314\n",
      "Name: DRSH, dtype: object\n",
      "Unique values:  ['N' 'Y' 'U' nan]\n",
      "Value counts:  N    19314\n",
      "Y       97\n",
      "U        9\n",
      "Name: DRSH, dtype: int64\n",
      "\n",
      "Colunm Name:  DRSUNK\n",
      "Describe:  count     18428\n",
      "unique        3\n",
      "top           N\n",
      "freq      18159\n",
      "Name: DRSUNK, dtype: object\n",
      "Unique values:  [nan 'N' 'Y' 'U']\n",
      "Value counts:  N    18159\n",
      "Y      260\n",
      "U        9\n",
      "Name: DRSUNK, dtype: int64\n",
      "\n",
      "Colunm Name:  DPE\n",
      "Describe:  count     19421\n",
      "unique        3\n",
      "top           N\n",
      "freq      19287\n",
      "Name: DPE, dtype: object\n",
      "Unique values:  ['N' 'Y' 'U' nan]\n",
      "Value counts:  N    19287\n",
      "Y      125\n",
      "U        9\n",
      "Name: DPE, dtype: int64\n",
      "\n",
      "Colunm Name:  DALIVE\n",
      "Describe:  count     19407\n",
      "unique        3\n",
      "top           Y\n",
      "freq      10322\n",
      "Name: DALIVE, dtype: object\n",
      "Unique values:  ['N' 'Y' nan 'U']\n",
      "Value counts:  Y    10322\n",
      "N     9078\n",
      "U        7\n",
      "Name: DALIVE, dtype: int64\n",
      "\n",
      "Colunm Name:  DPLACE\n",
      "Describe:  count     9726\n",
      "unique       6\n",
      "top          A\n",
      "freq      7062\n",
      "Name: DPLACE, dtype: object\n",
      "Unique values:  [nan 'A' 'U' 'D' 'E' 'B' 'C']\n",
      "Value counts:  A    7062\n",
      "E    1577\n",
      "D     534\n",
      "B     276\n",
      "C     257\n",
      "U      20\n",
      "Name: DPLACE, dtype: int64\n",
      "\n",
      "Colunm Name:  DDEAD\n",
      "Describe:  count     19416\n",
      "unique        3\n",
      "top           N\n",
      "freq      17376\n",
      "Name: DDEAD, dtype: object\n",
      "Unique values:  ['N' 'Y' nan 'U']\n",
      "Value counts:  N    17376\n",
      "Y     2034\n",
      "U        6\n",
      "Name: DDEAD, dtype: int64\n",
      "\n",
      "Colunm Name:  DDEADX\n",
      "Describe:  count         168\n",
      "unique        138\n",
      "top       UNKNOWN\n",
      "freq            7\n",
      "Name: DDEADX, dtype: object\n",
      "\n",
      "Colunm Name:  FDEAD\n",
      "Describe:  count     19336\n",
      "unique        3\n",
      "top           N\n",
      "freq      14910\n",
      "Name: FDEAD, dtype: object\n",
      "Unique values:  ['N' 'U' 'Y' nan]\n",
      "Value counts:  N    14910\n",
      "Y     4369\n",
      "U       57\n",
      "Name: FDEAD, dtype: int64\n",
      "\n",
      "Colunm Name:  FDEADX\n",
      "Describe:  count         784\n",
      "unique        382\n",
      "top       UNKNOWN\n",
      "freq          142\n",
      "Name: FDEADX, dtype: object\n",
      "\n",
      "Colunm Name:  FRECOVER\n",
      "Describe:  count     15015\n",
      "unique        3\n",
      "top           N\n",
      "freq      11088\n",
      "Name: FRECOVER, dtype: object\n",
      "Unique values:  ['N' 'Y' 'U' nan]\n",
      "Value counts:  N    11088\n",
      "Y     3717\n",
      "U      210\n",
      "Name: FRECOVER, dtype: int64\n",
      "\n",
      "Colunm Name:  FDENNIS\n",
      "Describe:  count     14936\n",
      "unique        3\n",
      "top           Y\n",
      "freq       7727\n",
      "Name: FDENNIS, dtype: object\n",
      "Unique values:  ['Y' 'N' 'U' nan]\n",
      "Value counts:  Y    7727\n",
      "N    7155\n",
      "U      54\n",
      "Name: FDENNIS, dtype: int64\n",
      "\n",
      "Colunm Name:  FPLACE\n",
      "Describe:  count     14933\n",
      "unique        6\n",
      "top           A\n",
      "freq      11607\n",
      "Name: FPLACE, dtype: object\n",
      "Unique values:  ['E' 'A' 'D' 'U' nan 'B' 'C']\n",
      "Value counts:  A    11607\n",
      "D     1324\n",
      "B      844\n",
      "C      660\n",
      "E      455\n",
      "U       43\n",
      "Name: FPLACE, dtype: int64\n",
      "\n",
      "Colunm Name:  FAP\n",
      "Describe:  count     14867\n",
      "unique        4\n",
      "top           Y\n",
      "freq      10516\n",
      "Name: FAP, dtype: object\n",
      "Unique values:  [nan 'U' 'N' 'Y']\n",
      "Value counts:  Y    10516\n",
      "N     3731\n",
      "U      620\n",
      "Name: FAP, dtype: int64\n",
      "\n",
      "Colunm Name:  FOAC\n",
      "Describe:  count     14861\n",
      "unique        3\n",
      "top           N\n",
      "freq      12323\n",
      "Name: FOAC, dtype: object\n",
      "Unique values:  [nan 'U' 'N' 'Y']\n",
      "Value counts:  N    12323\n",
      "Y     1754\n",
      "U      784\n",
      "Name: FOAC, dtype: int64\n",
      "\n",
      "Colunm Name:  COUNTRY\n",
      "Describe:  count     19435\n",
      "unique       36\n",
      "top          UK\n",
      "freq       6257\n",
      "Name: COUNTRY, dtype: object\n",
      "\n",
      "Colunm Name:  NCCODE\n",
      "Describe:  count     1519\n",
      "unique      25\n",
      "top          4\n",
      "freq       296\n",
      "Name: NCCODE, dtype: object\n",
      "\n",
      "Colunm Name:  CMPLASP\n",
      "Describe:  count     19422\n",
      "unique        2\n",
      "top           Y\n",
      "freq      18495\n",
      "Name: CMPLASP, dtype: object\n",
      "Unique values:  ['Y' 'N' nan]\n",
      "Value counts:  Y    18495\n",
      "N      927\n",
      "Name: CMPLASP, dtype: int64\n",
      "\n",
      "Colunm Name:  CMPLHEP\n",
      "Describe:  count     19422\n",
      "unique        2\n",
      "top           Y\n",
      "freq      18359\n",
      "Name: CMPLHEP, dtype: object\n",
      "Unique values:  ['Y' 'N' nan]\n",
      "Value counts:  Y    18359\n",
      "N     1063\n",
      "Name: CMPLHEP, dtype: int64\n"
     ]
    }
   ],
   "source": [
    "# Iterate over object columns\n",
    "for column in object_col:\n",
    "    columnSeriesObj = df[column]\n",
    "    print()\n",
    "    print('Colunm Name: ', column)\n",
    "    print('Describe: ', columnSeriesObj.describe())\n",
    "    if columnSeriesObj.nunique() <= 6:\n",
    "        df[column] = df[column].str.upper()                     # all strings in uppercase\n",
    "        print('Unique values: ', columnSeriesObj.unique())\n",
    "        print('Value counts: ', columnSeriesObj.value_counts()) # Check Categories (particularly 'U' = 'Unknown')"
   ]
  },
  {
   "source": [
    "The 'Unknown' Category does not provide any information whatsoever. So we are planning to drop this category entirely. Though, we won't do it just now. Most values are fairly low for the unknown category. So we won't loose too much other information, but a few variables have more instances. So we will drop 'U' later in the process, when we've picked the variables we want to implement in the model."
   ],
   "cell_type": "markdown",
   "metadata": {}
  },
  {
   "source": [
    "### Numerical columns\n",
    "\n",
    "Here we check the info for each numerical variable . Though, we have to be careful as a lot of those \"numerical variables\" are again cetgeorical variables. Looking at the description of variables/columns we see that moste of those have been categorized by numbers. "
   ],
   "cell_type": "markdown",
   "metadata": {}
  },
  {
   "cell_type": "code",
   "execution_count": 9,
   "metadata": {},
   "outputs": [
    {
     "output_type": "stream",
     "name": "stdout",
     "text": [
      "\n",
      "Colunm Name :  HOSPNUM\n",
      "Describe:  count    19435.000000\n",
      "mean       200.055467\n",
      "std        160.335093\n",
      "min          1.000000\n",
      "25%         60.000000\n",
      "50%        159.000000\n",
      "75%        319.000000\n",
      "max        568.000000\n",
      "Name: HOSPNUM, dtype: float64\n",
      "\n",
      "Colunm Name :  RDELAY\n",
      "Describe:  count    19435.000000\n",
      "mean        20.124363\n",
      "std         12.470330\n",
      "min          1.000000\n",
      "25%          9.000000\n",
      "50%         19.000000\n",
      "75%         29.000000\n",
      "max         48.000000\n",
      "Name: RDELAY, dtype: float64\n",
      "\n",
      "Colunm Name :  AGE\n",
      "Describe:  count    19435.000000\n",
      "mean        71.715410\n",
      "std         11.619714\n",
      "min         16.000000\n",
      "25%         65.000000\n",
      "50%         73.000000\n",
      "75%         80.000000\n",
      "max         99.000000\n",
      "Name: AGE, dtype: float64\n",
      "\n",
      "Colunm Name :  RSBP\n",
      "Describe:  count    19435.000000\n",
      "mean       160.159197\n",
      "std         27.610382\n",
      "min         70.000000\n",
      "25%        140.000000\n",
      "50%        160.000000\n",
      "75%        180.000000\n",
      "max        295.000000\n",
      "Name: RSBP, dtype: float64\n",
      "\n",
      "Colunm Name :  HOURLOCAL\n",
      "Describe:  count    19435.000000\n",
      "mean        15.581528\n",
      "std         12.076144\n",
      "min          0.000000\n",
      "25%         11.000000\n",
      "50%         14.000000\n",
      "75%         17.000000\n",
      "max         99.000000\n",
      "Name: HOURLOCAL, dtype: float64\n",
      "\n",
      "Colunm Name :  MINLOCAL\n",
      "Describe:  count    19435.000000\n",
      "mean        30.840340\n",
      "std         19.356143\n",
      "min          0.000000\n",
      "25%         15.000000\n",
      "50%         30.000000\n",
      "75%         45.000000\n",
      "max         99.000000\n",
      "Name: MINLOCAL, dtype: float64\n",
      "\n",
      "Colunm Name :  DAYLOCAL\n",
      "Describe:  count    19435.000000\n",
      "mean         4.084435\n",
      "std          1.842469\n",
      "min          1.000000\n",
      "25%          3.000000\n",
      "50%          4.000000\n",
      "75%          6.000000\n",
      "max          7.000000\n",
      "Name: DAYLOCAL, dtype: float64\n",
      "\n",
      "Colunm Name :  ONDRUG\n",
      "Describe:  count    19434.000000\n",
      "mean        10.885561\n",
      "std          4.182254\n",
      "min          0.000000\n",
      "25%          8.000000\n",
      "50%         14.000000\n",
      "75%         14.000000\n",
      "max         14.000000\n",
      "Name: ONDRUG, dtype: float64\n",
      "\n",
      "Colunm Name :  DMAJNCHD\n",
      "Describe:  count    149.000000\n",
      "mean       9.590604\n",
      "std       22.408075\n",
      "min        0.000000\n",
      "25%        4.000000\n",
      "50%        6.000000\n",
      "75%       10.000000\n",
      "max      267.000000\n",
      "Name: DMAJNCHD, dtype: float64\n",
      "\n",
      "Colunm Name :  DSIDED\n",
      "Describe:  count    633.000000\n",
      "mean       7.624013\n",
      "std       21.232532\n",
      "min        0.000000\n",
      "25%        2.000000\n",
      "50%        5.000000\n",
      "75%        9.000000\n",
      "max      368.000000\n",
      "Name: DSIDED, dtype: float64\n",
      "\n",
      "Colunm Name :  DRSISCD\n",
      "Describe:  count    413.000000\n",
      "mean       5.694915\n",
      "std       13.768858\n",
      "min        0.000000\n",
      "25%        1.000000\n",
      "50%        3.000000\n",
      "75%        7.000000\n",
      "max      252.000000\n",
      "Name: DRSISCD, dtype: float64\n",
      "\n",
      "Colunm Name :  DRSHD\n",
      "Describe:  count    97.000000\n",
      "mean      6.536082\n",
      "std       7.766195\n",
      "min       0.000000\n",
      "25%       2.000000\n",
      "50%       5.000000\n",
      "75%       9.000000\n",
      "max      65.000000\n",
      "Name: DRSHD, dtype: float64\n",
      "\n",
      "Colunm Name :  DRSUNKD\n",
      "Describe:  count    260.000000\n",
      "mean       7.284615\n",
      "std       10.499299\n",
      "min        0.000000\n",
      "25%        2.000000\n",
      "50%        4.000000\n",
      "75%        9.000000\n",
      "max      101.000000\n",
      "Name: DRSUNKD, dtype: float64\n",
      "\n",
      "Colunm Name :  DPED\n",
      "Describe:  count    125.000000\n",
      "mean      10.640000\n",
      "std        9.659026\n",
      "min        0.000000\n",
      "25%        5.000000\n",
      "50%        9.000000\n",
      "75%       14.000000\n",
      "max       69.000000\n",
      "Name: DPED, dtype: float64\n",
      "\n",
      "Colunm Name :  DALIVED\n",
      "Describe:  count    10322.000000\n",
      "mean        13.140961\n",
      "std         15.249569\n",
      "min          0.000000\n",
      "25%          6.000000\n",
      "50%         11.000000\n",
      "75%         15.000000\n",
      "max        392.000000\n",
      "Name: DALIVED, dtype: float64\n",
      "\n",
      "Colunm Name :  DDEADD\n",
      "Describe:  count    2034.000000\n",
      "mean        9.831367\n",
      "std        17.051514\n",
      "min         0.000000\n",
      "25%         3.000000\n",
      "50%         6.000000\n",
      "75%        12.000000\n",
      "max       579.000000\n",
      "Name: DDEADD, dtype: float64\n",
      "\n",
      "Colunm Name :  DDEADC\n",
      "Describe:  count    2334.000000\n",
      "mean        2.404456\n",
      "std         2.172007\n",
      "min         0.000000\n",
      "25%         1.000000\n",
      "50%         1.000000\n",
      "75%         4.000000\n",
      "max         8.000000\n",
      "Name: DDEADC, dtype: float64\n",
      "\n",
      "Colunm Name :  FLASTD\n",
      "Describe:  count     58.000000\n",
      "mean      81.172414\n",
      "std       98.238367\n",
      "min        0.000000\n",
      "25%       10.000000\n",
      "50%       50.000000\n",
      "75%      128.000000\n",
      "max      606.000000\n",
      "Name: FLASTD, dtype: float64\n",
      "\n",
      "Colunm Name :  FDEADD\n",
      "Describe:  count    4346.000000\n",
      "mean       46.676484\n",
      "std        57.498329\n",
      "min         0.000000\n",
      "25%         7.000000\n",
      "50%        22.000000\n",
      "75%        66.000000\n",
      "max       579.000000\n",
      "Name: FDEADD, dtype: float64\n",
      "\n",
      "Colunm Name :  FDEADC\n",
      "Describe:  count    4364.000000\n",
      "mean        3.441797\n",
      "std         2.382524\n",
      "min         0.000000\n",
      "25%         1.000000\n",
      "50%         4.000000\n",
      "75%         5.000000\n",
      "max         8.000000\n",
      "Name: FDEADC, dtype: float64\n",
      "\n",
      "Colunm Name :  FU1_RECD\n",
      "Describe:  count    19422.000000\n",
      "mean        47.822057\n",
      "std         52.095201\n",
      "min          0.000000\n",
      "25%         22.000000\n",
      "50%         31.000000\n",
      "75%         54.000000\n",
      "max       1036.000000\n",
      "Name: FU1_RECD, dtype: float64\n",
      "\n",
      "Colunm Name :  FU2_DONE\n",
      "Describe:  count    19336.000000\n",
      "mean       185.032168\n",
      "std         73.052666\n",
      "min          0.000000\n",
      "25%        176.000000\n",
      "50%        189.000000\n",
      "75%        209.000000\n",
      "max       1573.000000\n",
      "Name: FU2_DONE, dtype: float64\n",
      "\n",
      "Colunm Name :  CNTRYNUM\n",
      "Describe:  count    19435.000000\n",
      "mean        20.965629\n",
      "std          8.439510\n",
      "min          1.000000\n",
      "25%         14.000000\n",
      "50%         25.000000\n",
      "75%         27.000000\n",
      "max         44.000000\n",
      "Name: CNTRYNUM, dtype: float64\n",
      "\n",
      "Colunm Name :  FU1_COMP\n",
      "Describe:  count    18965.000000\n",
      "mean        31.366201\n",
      "std         46.669627\n",
      "min          0.000000\n",
      "25%         13.000000\n",
      "50%         16.000000\n",
      "75%         30.000000\n",
      "max        957.000000\n",
      "Name: FU1_COMP, dtype: float64\n",
      "\n",
      "Colunm Name :  DIED\n",
      "Describe:  count    19435.000000\n",
      "mean         0.224852\n",
      "std          0.417496\n",
      "min          0.000000\n",
      "25%          0.000000\n",
      "50%          0.000000\n",
      "75%          0.000000\n",
      "max          1.000000\n",
      "Name: DIED, dtype: float64\n",
      "\n",
      "Colunm Name :  TD\n",
      "Describe:  count    19433.000000\n",
      "mean       167.646581\n",
      "std         83.199984\n",
      "min          0.000000\n",
      "25%        163.000000\n",
      "50%        186.000000\n",
      "75%        205.000000\n",
      "max       1322.000000\n",
      "Name: TD, dtype: float64\n",
      "\n",
      "Colunm Name :  EXPDD\n",
      "Describe:  count    19435.000000\n",
      "mean         0.629215\n",
      "std          0.230564\n",
      "min          0.089100\n",
      "25%          0.439100\n",
      "50%          0.637800\n",
      "75%          0.836750\n",
      "max          0.995200\n",
      "Name: EXPDD, dtype: float64\n",
      "\n",
      "Colunm Name :  EXPD6\n",
      "Describe:  count    19435.000000\n",
      "mean         0.229676\n",
      "std          0.194553\n",
      "min          0.003500\n",
      "25%          0.084600\n",
      "50%          0.160100\n",
      "75%          0.319200\n",
      "max          0.901200\n",
      "Name: EXPD6, dtype: float64\n",
      "\n",
      "Colunm Name :  EXPD14\n",
      "Describe:  count    19435.000000\n",
      "mean         0.094167\n",
      "std          0.104473\n",
      "min          0.005000\n",
      "25%          0.028500\n",
      "50%          0.047100\n",
      "75%          0.113100\n",
      "max          0.576100\n",
      "Name: EXPD14, dtype: float64\n",
      "\n",
      "Colunm Name :  SET14D\n",
      "Describe:  count    19435.000000\n",
      "mean         0.999897\n",
      "std          0.010144\n",
      "min          0.000000\n",
      "25%          1.000000\n",
      "50%          1.000000\n",
      "75%          1.000000\n",
      "max          1.000000\n",
      "Name: SET14D, dtype: float64\n",
      "\n",
      "Colunm Name :  ID14\n",
      "Describe:  count    19435.000000\n",
      "mean         0.091639\n",
      "std          0.288523\n",
      "min          0.000000\n",
      "25%          0.000000\n",
      "50%          0.000000\n",
      "75%          0.000000\n",
      "max          1.000000\n",
      "Name: ID14, dtype: float64\n",
      "\n",
      "Colunm Name :  OCCODE\n",
      "Describe:  count    19435.000000\n",
      "mean         2.328891\n",
      "std          1.068117\n",
      "min          0.000000\n",
      "25%          2.000000\n",
      "50%          2.000000\n",
      "75%          3.000000\n",
      "max          9.000000\n",
      "Name: OCCODE, dtype: float64\n",
      "\n",
      "Colunm Name :  DEAD1\n",
      "Describe:  count    19435.000000\n",
      "mean         0.076203\n",
      "std          0.265329\n",
      "min          0.000000\n",
      "25%          0.000000\n",
      "50%          0.000000\n",
      "75%          0.000000\n",
      "max          1.000000\n",
      "Name: DEAD1, dtype: float64\n",
      "\n",
      "Colunm Name :  DEAD2\n",
      "Describe:  count    19435.000000\n",
      "mean         0.027682\n",
      "std          0.164064\n",
      "min          0.000000\n",
      "25%          0.000000\n",
      "50%          0.000000\n",
      "75%          0.000000\n",
      "max          1.000000\n",
      "Name: DEAD2, dtype: float64\n",
      "\n",
      "Colunm Name :  DEAD3\n",
      "Describe:  count    19435.000000\n",
      "mean         0.003962\n",
      "std          0.062821\n",
      "min          0.000000\n",
      "25%          0.000000\n",
      "50%          0.000000\n",
      "75%          0.000000\n",
      "max          1.000000\n",
      "Name: DEAD3, dtype: float64\n",
      "\n",
      "Colunm Name :  DEAD4\n",
      "Describe:  count    19435.000000\n",
      "mean         0.043015\n",
      "std          0.202897\n",
      "min          0.000000\n",
      "25%          0.000000\n",
      "50%          0.000000\n",
      "75%          0.000000\n",
      "max          1.000000\n",
      "Name: DEAD4, dtype: float64\n",
      "\n",
      "Colunm Name :  DEAD5\n",
      "Describe:  count    19435.000000\n",
      "mean         0.019089\n",
      "std          0.136842\n",
      "min          0.000000\n",
      "25%          0.000000\n",
      "50%          0.000000\n",
      "75%          0.000000\n",
      "max          1.000000\n",
      "Name: DEAD5, dtype: float64\n",
      "\n",
      "Colunm Name :  DEAD6\n",
      "Describe:  count    19435.000000\n",
      "mean         0.008799\n",
      "std          0.093389\n",
      "min          0.000000\n",
      "25%          0.000000\n",
      "50%          0.000000\n",
      "75%          0.000000\n",
      "max          1.000000\n",
      "Name: DEAD6, dtype: float64\n",
      "\n",
      "Colunm Name :  DEAD7\n",
      "Describe:  count    19435.000000\n",
      "mean         0.027631\n",
      "std          0.163916\n",
      "min          0.000000\n",
      "25%          0.000000\n",
      "50%          0.000000\n",
      "75%          0.000000\n",
      "max          1.000000\n",
      "Name: DEAD7, dtype: float64\n",
      "\n",
      "Colunm Name :  DEAD8\n",
      "Describe:  count    19435.000000\n",
      "mean         0.011834\n",
      "std          0.108143\n",
      "min          0.000000\n",
      "25%          0.000000\n",
      "50%          0.000000\n",
      "75%          0.000000\n",
      "max          1.000000\n",
      "Name: DEAD8, dtype: float64\n",
      "\n",
      "Colunm Name :  H14\n",
      "Describe:  count    19435.000000\n",
      "mean         0.008284\n",
      "std          0.090641\n",
      "min          0.000000\n",
      "25%          0.000000\n",
      "50%          0.000000\n",
      "75%          0.000000\n",
      "max          1.000000\n",
      "Name: H14, dtype: float64\n",
      "\n",
      "Colunm Name :  ISC14\n",
      "Describe:  count    19435.000000\n",
      "mean         0.020324\n",
      "std          0.141110\n",
      "min          0.000000\n",
      "25%          0.000000\n",
      "50%          0.000000\n",
      "75%          0.000000\n",
      "max          1.000000\n",
      "Name: ISC14, dtype: float64\n",
      "\n",
      "Colunm Name :  NK14\n",
      "Describe:  count    19435.000000\n",
      "mean         0.013378\n",
      "std          0.114890\n",
      "min          0.000000\n",
      "25%          0.000000\n",
      "50%          0.000000\n",
      "75%          0.000000\n",
      "max          1.000000\n",
      "Name: NK14, dtype: float64\n",
      "\n",
      "Colunm Name :  STRK14\n",
      "Describe:  count    19435.000000\n",
      "mean         0.041523\n",
      "std          0.199502\n",
      "min          0.000000\n",
      "25%          0.000000\n",
      "50%          0.000000\n",
      "75%          0.000000\n",
      "max          1.000000\n",
      "Name: STRK14, dtype: float64\n",
      "\n",
      "Colunm Name :  HTI14\n",
      "Describe:  count    19435.000000\n",
      "mean         0.003036\n",
      "std          0.055015\n",
      "min          0.000000\n",
      "25%          0.000000\n",
      "50%          0.000000\n",
      "75%          0.000000\n",
      "max          1.000000\n",
      "Name: HTI14, dtype: float64\n",
      "\n",
      "Colunm Name :  PE14\n",
      "Describe:  count    19435.000000\n",
      "mean         0.006895\n",
      "std          0.082750\n",
      "min          0.000000\n",
      "25%          0.000000\n",
      "50%          0.000000\n",
      "75%          0.000000\n",
      "max          1.000000\n",
      "Name: PE14, dtype: float64\n",
      "\n",
      "Colunm Name :  DVT14\n",
      "Describe:  count    19435.000000\n",
      "mean         0.001132\n",
      "std          0.033627\n",
      "min          0.000000\n",
      "25%          0.000000\n",
      "50%          0.000000\n",
      "75%          0.000000\n",
      "max          1.000000\n",
      "Name: DVT14, dtype: float64\n",
      "\n",
      "Colunm Name :  TRAN14\n",
      "Describe:  count    19435.000000\n",
      "mean         0.008541\n",
      "std          0.092026\n",
      "min          0.000000\n",
      "25%          0.000000\n",
      "50%          0.000000\n",
      "75%          0.000000\n",
      "max          1.000000\n",
      "Name: TRAN14, dtype: float64\n",
      "\n",
      "Colunm Name :  NCB14\n",
      "Describe:  count    19435.000000\n",
      "mean         0.027322\n",
      "std          0.163024\n",
      "min          0.000000\n",
      "25%          0.000000\n",
      "50%          0.000000\n",
      "75%          0.000000\n",
      "max          1.000000\n",
      "Name: NCB14, dtype: float64\n"
     ]
    }
   ],
   "source": [
    "# Iterate over numeric columns\n",
    "for column in num_col:\n",
    "    columnSeriesObj = df[column]\n",
    "    print()\n",
    "    print('Colunm Name : ', column)\n",
    "    print('Describe: ', columnSeriesObj.describe())\n"
   ]
  },
  {
   "source": [
    "## Details\n",
    "\n",
    "Let's have a more detailed look at single variables/columns.\n",
    "\n",
    "### Date of randomization (RDATE)\n",
    "\n",
    "Looking at \"RDATE\" we assume that this information is actually stored in [Polish](https://en.wikipedia.org/wiki/Slavic_calendar)."
   ],
   "cell_type": "markdown",
   "metadata": {}
  },
  {
   "cell_type": "code",
   "execution_count": 10,
   "metadata": {},
   "outputs": [
    {
     "output_type": "execute_result",
     "data": {
      "text/plain": [
       "array(['sty-91', 'lut-91', 'mar-91', 'kwi-91', 'maj-91', 'cze-91',\n",
       "       'lip-91', 'sie-91', 'wrz-91', 'pa�-91', 'lis-91', 'gru-91',\n",
       "       'sty-92', 'lut-92', 'mar-92', 'kwi-92', 'maj-92', 'cze-92',\n",
       "       'lip-92', 'sie-92', 'wrz-92', 'pa�-92', 'lis-92', 'gru-92',\n",
       "       'sty-93', 'lut-93', 'mar-93', 'lip-93', 'sty-94', 'wrz-93',\n",
       "       'sie-93', 'gru-93', 'lis-93', 'kwi-93', 'mar-94', 'wrz-94',\n",
       "       'lip-94', 'sie-94', 'maj-93', 'pa�-93', 'kwi-94', 'lut-94',\n",
       "       'maj-94', 'cze-93', 'cze-94', 'gru-94', 'sty-95', 'pa�-94',\n",
       "       'lis-94', 'lut-95', 'lip-95', 'maj-96', 'maj-95', 'mar-95',\n",
       "       'wrz-95', 'pa�-95', 'kwi-95', 'lut-96', 'sty-96', 'cze-95',\n",
       "       'sie-95', 'lis-95', 'gru-95', 'mar-96', 'kwi-96'], dtype=object)"
      ]
     },
     "metadata": {},
     "execution_count": 10
    }
   ],
   "source": [
    "df.RDATE.unique() "
   ]
  },
  {
   "cell_type": "code",
   "execution_count": 11,
   "metadata": {},
   "outputs": [
    {
     "output_type": "execute_result",
     "data": {
      "text/plain": [
       "array(['91', '92', '93', '94', '95', '96'], dtype=object)"
      ]
     },
     "metadata": {},
     "execution_count": 11
    }
   ],
   "source": [
    "#extract year from RDATE\n",
    "df['RYEAR'] = df.RDATE.str.extract(r'(\\d{2})', expand=False)\n",
    "df.RYEAR.unique()"
   ]
  },
  {
   "source": [
    "Month (EN) | Month (PL) | Month (in df)\n",
    ":----- | ----: | -----:\n",
    "January  | styczeń | sty\n",
    "February  | luty  | lut\n",
    "March | (brzezień) | Mar\n",
    "April | kwiecień | kwi\n",
    "May | (trawień) | maj\n",
    "June | czerwiec | cze\n",
    "July | lipiec | lip\n",
    "August | sierpień | sie\n",
    "September | wrzesień | wrz\n",
    "Ocotber | październik | pa�\n",
    "November | listopad | lis\n",
    "December | grudzień | gru\n",
    "\n",
    "We transferred the information for the months based on this table - and the assumption that the original data is in Polish. With a dictionary of these columns from Polish to the according numbers of the months."
   ],
   "cell_type": "markdown",
   "metadata": {}
  },
  {
   "cell_type": "code",
   "execution_count": 12,
   "metadata": {},
   "outputs": [],
   "source": [
    "# equivalents/translations for months\n",
    "month_dict = {'sty': '01', 'lut': '02', 'mar': '03', 'kwi': '04', 'maj': '05', 'cze': '06',\n",
    "                'lip': '07', 'sie': '08', 'wrz': '09', 'pa�': '10', 'lis': '11', 'gru': '12'}"
   ]
  },
  {
   "cell_type": "code",
   "execution_count": 13,
   "metadata": {},
   "outputs": [],
   "source": [
    "# replace string in RDATE with number (according to month)\n",
    "df.RDATE = df.RDATE.replace(month_dict, regex=True)"
   ]
  },
  {
   "cell_type": "code",
   "execution_count": 14,
   "metadata": {},
   "outputs": [
    {
     "output_type": "execute_result",
     "data": {
      "text/plain": [
       "array(['01-91', '02-91', '03-91', '04-91', '05-91', '06-91', '07-91',\n",
       "       '08-91', '09-91', '10-91', '11-91', '12-91', '01-92', '02-92',\n",
       "       '03-92', '04-92', '05-92', '06-92', '07-92', '08-92', '09-92',\n",
       "       '10-92', '11-92', '12-92', '01-93', '02-93', '03-93', '07-93',\n",
       "       '01-94', '09-93', '08-93', '12-93', '11-93', '04-93', '03-94',\n",
       "       '09-94', '07-94', '08-94', '05-93', '10-93', '04-94', '02-94',\n",
       "       '05-94', '06-93', '06-94', '12-94', '01-95', '10-94', '11-94',\n",
       "       '02-95', '07-95', '05-96', '05-95', '03-95', '09-95', '10-95',\n",
       "       '04-95', '02-96', '01-96', '06-95', '08-95', '11-95', '12-95',\n",
       "       '03-96', '04-96'], dtype=object)"
      ]
     },
     "metadata": {},
     "execution_count": 14
    }
   ],
   "source": [
    "df.RDATE.unique()"
   ]
  },
  {
   "source": [
    "We probably won't need this detail for the date of randomization. So, in addition, we extracted the years of randomization only."
   ],
   "cell_type": "markdown",
   "metadata": {}
  },
  {
   "source": [
    "### Country of hospital/patient (\"CNTRYNM\")\n"
   ],
   "cell_type": "markdown",
   "metadata": {}
  },
  {
   "cell_type": "code",
   "execution_count": 15,
   "metadata": {},
   "outputs": [
    {
     "output_type": "stream",
     "name": "stdout",
     "text": [
      "UK      6257\nITAL    3437\nSWIT    1631\nPOLA     759\nNETH     728\nSWED     636\nAUSL     597\nARGE     545\nNORW     526\nSPAI     478\nCZEC     466\nNEW      453\nPORT     415\nBELG     305\nTURK     286\nAUST     230\nINDI     229\nGREE     152\nSING     140\nUSA      131\nCANA     117\nHONG     115\nISRA     114\nHUNG     105\nSLOK      86\nFINL      85\nBRAS      83\nSOUT      69\nCHIL      65\nEIRE      58\nSLOV      53\nDENM      35\nSRI       20\nROMA      18\nJAPA       9\nFRAN       2\nName: COUNTRY, dtype: int64\n"
     ]
    },
    {
     "output_type": "execute_result",
     "data": {
      "text/plain": [
       "27    6257\n",
       "14    3437\n",
       "25    1631\n",
       "18     759\n",
       "15     728\n",
       "24     636\n",
       "1      597\n",
       "29     545\n",
       "17     526\n",
       "22     478\n",
       "7      466\n",
       "16     453\n",
       "19     415\n",
       "3      305\n",
       "35     286\n",
       "2      230\n",
       "37     229\n",
       "31     152\n",
       "34     140\n",
       "28     131\n",
       "5      117\n",
       "30     115\n",
       "13     114\n",
       "36     105\n",
       "44      86\n",
       "10      85\n",
       "42      83\n",
       "21      69\n",
       "6       65\n",
       "9       58\n",
       "20      53\n",
       "8       35\n",
       "23      20\n",
       "33      18\n",
       "38       9\n",
       "11       2\n",
       "Name: CNTRYNUM, dtype: int64"
      ]
     },
     "metadata": {},
     "execution_count": 15
    }
   ],
   "source": [
    "print(df.COUNTRY.value_counts())\n",
    "df.CNTRYNUM.value_counts()"
   ]
  },
  {
   "source": [
    "The data was generated in a number of countries. However, the info is not stored in an internationally recognized format. We transformed it to the ISO standard and stored in in a new variable (\"COUNTRY_ISO\"):"
   ],
   "cell_type": "markdown",
   "metadata": {}
  },
  {
   "cell_type": "code",
   "execution_count": 16,
   "metadata": {},
   "outputs": [],
   "source": [
    "df['COUNTRY_ISO'] = df['COUNTRY'].replace({'UK': 'GB', 'ITAL': 'IT', 'SWIT': 'CH', 'POLA': 'PL', 'NETH': 'NL', \n",
    "    'SWED': 'SE', 'AUSL': 'AU', 'NORW': 'NO', 'ARGE': 'AR', 'SPAI': 'ES', 'CZEC': 'CZ', 'NEW': 'NZ', 'PORT': 'PT',\n",
    "    'BELG': 'BE', 'TURK': 'TR', 'AUST': 'AT', 'INDI': 'IN', 'GREE': 'GR', 'SING': 'SG', 'USA': 'USA', 'CANA': 'CA',\n",
    "    'ISRA': 'IL', 'HUNG': 'HU', 'HONG': 'HK', 'SLOK': 'SK', 'FINL': 'FI', 'BRAS': 'BR', 'EIRE': 'IE', 'CHIL': 'CL',\n",
    "    'SOUT': 'ZA', 'SLOV': 'SI', 'DENM': 'DK', 'ROMA': 'RO', 'SRI': 'LK', 'JAPA': 'JP', 'FRAN': 'FR'})"
   ]
  },
  {
   "source": [
    "### Age of the patients (\"AGE\")\n"
   ],
   "cell_type": "markdown",
   "metadata": {}
  },
  {
   "cell_type": "code",
   "execution_count": 17,
   "metadata": {},
   "outputs": [
    {
     "output_type": "execute_result",
     "data": {
      "text/plain": [
       "count    19435.000000\n",
       "mean        71.715410\n",
       "std         11.619714\n",
       "min         16.000000\n",
       "25%         65.000000\n",
       "50%         73.000000\n",
       "75%         80.000000\n",
       "max         99.000000\n",
       "Name: AGE, dtype: float64"
      ]
     },
     "metadata": {},
     "execution_count": 17
    }
   ],
   "source": [
    "df.AGE.describe()"
   ]
  },
  {
   "source": [
    "The age of the patients ranges from 16 to 99. Though, the majority of the patients are between 65 and 80 years old. To improve the presentation of age-related information in graphs, we created bins for this variable (with similar size):"
   ],
   "cell_type": "markdown",
   "metadata": {}
  },
  {
   "cell_type": "code",
   "execution_count": 18,
   "metadata": {},
   "outputs": [
    {
     "output_type": "execute_result",
     "data": {
      "text/plain": [
       "0        (63.0, 70.0]\n",
       "1        (70.0, 76.0]\n",
       "2        (70.0, 76.0]\n",
       "3        (76.0, 82.0]\n",
       "4        (76.0, 82.0]\n",
       "             ...     \n",
       "19430    (63.0, 70.0]\n",
       "19431    (70.0, 76.0]\n",
       "19432    (76.0, 82.0]\n",
       "19433    (82.0, 99.0]\n",
       "19434    (15.0, 63.0]\n",
       "Name: AGE, Length: 19435, dtype: category\n",
       "Categories (5, interval[float64]): [(15.0, 63.0] < (63.0, 70.0] < (70.0, 76.0] < (76.0, 82.0] < (82.0, 99.0]]"
      ]
     },
     "metadata": {},
     "execution_count": 18
    }
   ],
   "source": [
    "pd.qcut(x=df['AGE'], q=5, precision=0)"
   ]
  },
  {
   "cell_type": "code",
   "execution_count": 19,
   "metadata": {},
   "outputs": [],
   "source": [
    "# new variable \"AGE_bin\" with information of the bin\n",
    "labels = ['16 - 63', '64 - 70', '71 - 76', '77 - 82', '83 - 99']\n",
    "df['AGE_bin'] = pd.qcut(x=df['AGE'], q=5, labels = labels, precision=0)"
   ]
  },
  {
   "cell_type": "code",
   "execution_count": 20,
   "metadata": {},
   "outputs": [
    {
     "output_type": "execute_result",
     "data": {
      "text/plain": [
       "71 - 76    4266\n",
       "16 - 63    4232\n",
       "77 - 82    3937\n",
       "64 - 70    3570\n",
       "83 - 99    3430\n",
       "Name: AGE_bin, dtype: int64"
      ]
     },
     "metadata": {},
     "execution_count": 20
    }
   ],
   "source": [
    "df.AGE_bin.value_counts()"
   ]
  },
  {
   "source": [
    "### Time of randomization (\"RDELAY\")\n",
    "\n",
    "Patients joined the study within 48 hours after their stroke. Again, we created similarly sized bins for different time spans (and a new variable in accordance):"
   ],
   "cell_type": "markdown",
   "metadata": {}
  },
  {
   "cell_type": "code",
   "execution_count": 21,
   "metadata": {},
   "outputs": [
    {
     "output_type": "execute_result",
     "data": {
      "text/plain": [
       "0        (14.0, 24.0]\n",
       "1         (8.0, 14.0]\n",
       "2        (31.0, 48.0]\n",
       "3          (0.0, 8.0]\n",
       "4        (14.0, 24.0]\n",
       "             ...     \n",
       "19430    (31.0, 48.0]\n",
       "19431    (31.0, 48.0]\n",
       "19432    (14.0, 24.0]\n",
       "19433    (31.0, 48.0]\n",
       "19434    (14.0, 24.0]\n",
       "Name: RDELAY, Length: 19435, dtype: category\n",
       "Categories (5, interval[float64]): [(0.0, 8.0] < (8.0, 14.0] < (14.0, 24.0] < (24.0, 31.0] < (31.0, 48.0]]"
      ]
     },
     "metadata": {},
     "execution_count": 21
    }
   ],
   "source": [
    "pd.qcut(x=df['RDELAY'], q=5, precision=0)"
   ]
  },
  {
   "cell_type": "code",
   "execution_count": 22,
   "metadata": {},
   "outputs": [],
   "source": [
    "# new variable \"RDELAY_bin\" with information of the bin\n",
    "labels = ['0 - 8', '9 - 14', '15 - 24', '25 - 31', '32 - 48']\n",
    "df['RDELAY_bin'] = pd.qcut(x=df['RDELAY'], q=5, labels = labels, precision=0)"
   ]
  },
  {
   "cell_type": "code",
   "execution_count": 23,
   "metadata": {},
   "outputs": [
    {
     "output_type": "execute_result",
     "data": {
      "text/plain": [
       "15 - 24    4876\n",
       "0 - 8      4586\n",
       "32 - 48    3835\n",
       "9 - 14     3385\n",
       "25 - 31    2753\n",
       "Name: RDELAY_bin, dtype: int64"
      ]
     },
     "metadata": {},
     "execution_count": 23
    }
   ],
   "source": [
    "df.RDELAY_bin.value_counts()"
   ]
  },
  {
   "source": [
    "### Treatment during the study\n",
    "\n",
    "There are several variables describing the heparin treatment of the study. The variable \"RXHEP\" stores the information to which treatment the patient was allocated to. Here we need to replace \"H\" with \"M\" as the same dose of heparin was labelled with \"H\" in the pre-trial and with \"M\" in the main trial."
   ],
   "cell_type": "markdown",
   "metadata": {}
  },
  {
   "cell_type": "code",
   "execution_count": 24,
   "metadata": {},
   "outputs": [
    {
     "output_type": "execute_result",
     "data": {
      "text/plain": [
       "array(['N', 'L', 'H', 'M'], dtype=object)"
      ]
     },
     "metadata": {},
     "execution_count": 24
    }
   ],
   "source": [
    "df.RXHEP.unique()"
   ]
  },
  {
   "cell_type": "code",
   "execution_count": 25,
   "metadata": {},
   "outputs": [],
   "source": [
    "# replace H with M\n",
    "df['RXHEP'].replace('H','M', inplace=True)"
   ]
  },
  {
   "cell_type": "code",
   "execution_count": 26,
   "metadata": {},
   "outputs": [
    {
     "output_type": "stream",
     "name": "stdout",
     "text": [
      "count     19435\nunique        3\ntop           N\nfreq       9718\nName: RXHEP, dtype: object\n['N' 'L' 'M']\n"
     ]
    }
   ],
   "source": [
    "print(df.RXHEP.describe())\n",
    "print(df.RXHEP.unique())"
   ]
  },
  {
   "source": [
    "Similarly, there is a variable \"DHH14\", which is only true for patients from the pre-trial. Those patients recevied the same Heparin dose as patients labelled with \"Y\" in \"DMH14\". We merged the variables into one:"
   ],
   "cell_type": "markdown",
   "metadata": {}
  },
  {
   "cell_type": "code",
   "execution_count": 27,
   "metadata": {},
   "outputs": [],
   "source": [
    "df['DMH14'] = np.where(df['DMH14'].isnull() == True, df['DHH14'], df['DMH14'])"
   ]
  },
  {
   "source": [
    "We created a new variable \"RXHEP14\" that stores information whether a patient received Heparin or not, regardless of the dose:"
   ],
   "cell_type": "markdown",
   "metadata": {}
  },
  {
   "cell_type": "code",
   "execution_count": 28,
   "metadata": {},
   "outputs": [],
   "source": [
    "# new variable: RXHEP14\n",
    "# Heparin given for 14 days or till death/discharge (Y, N)\n",
    "\n",
    "conditions = [\n",
    "    df['RXHEP'].eq('M') & df['DMH14'].eq('Y'),\n",
    "    df['RXHEP'].eq('L') & df['DLH14'].eq('Y')]\n",
    "\n",
    "choices = ['Y','Y']\n",
    "\n",
    "df['RXHEP14'] = np.select(conditions, choices, default='N')"
   ]
  },
  {
   "source": [
    "In contrast to \"RXHEP14\" (allocation of heparin treatement), \"DMH14\" and \"DLH14\" give information on the actual heparin treatment. Hence, we created a new variable based on these variables. The variable \"HEP14\" includes all patients that received heparin and in which dose these patients were administered."
   ],
   "cell_type": "markdown",
   "metadata": {}
  },
  {
   "cell_type": "code",
   "execution_count": 29,
   "metadata": {},
   "outputs": [],
   "source": [
    "# new variable: HEP14\n",
    "# Dose Heparin given for 14 days or till death/discharge (Y, N)\n",
    "\n",
    "conditions = [\n",
    "    df['RXHEP'].eq('M') & df['DMH14'].eq('Y'),\n",
    "    df['RXHEP'].eq('L') & df['DLH14'].eq('Y')]\n",
    "\n",
    "choices = ['M','L']\n",
    "\n",
    "df['HEP14'] = np.select(conditions, choices, default='N')"
   ]
  },
  {
   "cell_type": "code",
   "execution_count": 30,
   "metadata": {},
   "outputs": [
    {
     "output_type": "stream",
     "name": "stdout",
     "text": [
      "HEP14  RXHEP\nL      L        4450\nM      M        4242\nN      N        9718\n       M         614\n       L         411\nName: RXHEP, dtype: int64\nDASP14  RXASP\nN       N        9552\n        Y         775\nU       N           9\n        Y           5\nY       Y        8929\n        N         143\nName: RXASP, dtype: int64\n"
     ]
    }
   ],
   "source": [
    "# Do the patients receive the treatment they were assigned to? \n",
    "\n",
    "print(df['RXHEP'].groupby(by = [df['HEP14']]).value_counts())\n",
    "print(df['RXASP'].groupby(df['DASP14']).value_counts())"
   ]
  },
  {
   "source": [
    "The Aspirin treatment was also stored in a variable that included the information whether a patients was allocated to the treatment or not (\"RXASP\") and a variable that gives information on the actual aspririn treatment (\"DASP14\"). Hence, furtheron we will use \"DASP14\" for aspririn treatment and \"HEP14\" for heparin treatment (in combination of \"DLH14\" and \"DMH14\").\n",
    "\n",
    "We also created a new variable that included all treatments:"
   ],
   "cell_type": "markdown",
   "metadata": {}
  },
  {
   "cell_type": "code",
   "execution_count": 31,
   "metadata": {},
   "outputs": [],
   "source": [
    "# new variable: TREAT14 (Meds given for 14 days or till death or discharge)\n",
    "# Treatment: 'Aspirin','Aspirin + Medium Heparin','Aspirin + Low Heparin', 'Medium Heparin', 'Low Heparin'\n",
    "\n",
    "conditions = [\n",
    "    df['DASP14'].eq('Y') & df['HEP14'].eq('N'),     # Aspirin - no Heparin\n",
    "    df['DASP14'].eq('Y') & df['HEP14'].eq('M'),     # Aspirin + Medium Heparin\n",
    "    df['DASP14'].eq('Y') & df['HEP14'].eq('L'),     # Aspirin + Low Heparin\n",
    "    df['HEP14'].eq('M'),                            # Medium Heparin\n",
    "    df['HEP14'].eq('L')]                            # Low Heparin\n",
    "\n",
    "choices = ['Aspirin','Aspirin + Medium Heparin','Aspirin + Low Heparin', 'Medium Heparin', 'Low Heparin']\n",
    "\n",
    "df['TREAT14'] = np.select(conditions, choices, default='Control')"
   ]
  },
  {
   "cell_type": "code",
   "execution_count": 32,
   "metadata": {},
   "outputs": [
    {
     "output_type": "execute_result",
     "data": {
      "text/plain": [
       "Control                     5910\n",
       "Aspirin                     4833\n",
       "Low Heparin                 2263\n",
       "Medium Heparin              2190\n",
       "Aspirin + Low Heparin       2187\n",
       "Aspirin + Medium Heparin    2052\n",
       "Name: TREAT14, dtype: int64"
      ]
     },
     "metadata": {},
     "execution_count": 32
    }
   ],
   "source": [
    "df.TREAT14.value_counts()"
   ]
  },
  {
   "source": [
    "Some patients took some other medication beside the study treatment. Here, we created a variable that includes additional medication and theire according names:"
   ],
   "cell_type": "markdown",
   "metadata": {}
  },
  {
   "cell_type": "code",
   "execution_count": 33,
   "metadata": {},
   "outputs": [],
   "source": [
    "# new variable: DMEDS\n",
    "# additional medication beside ASP or HEP\n",
    "\n",
    "conditions = [\n",
    "    df['DSCH'].eq('Y'), df['DIVH'].eq('Y'), df['DAP'].eq('Y'), df['DOAC'].eq('Y'),\n",
    "    df['DGORM'].eq('Y'), df['DSTER'].eq('Y'), df['DCAA'].eq('Y')]\n",
    "\n",
    "choices = ['Subcut. Heparin','Intrav. Heparin','Antiplatelet drug','Other coanticoagulants',\n",
    "    'Glycerol or mannitol','Steroids','Calcium antagonist']\n",
    "\n",
    "df['DMEDS'] = np.select(conditions, choices, default='N')"
   ]
  },
  {
   "cell_type": "code",
   "execution_count": 34,
   "metadata": {},
   "outputs": [
    {
     "output_type": "execute_result",
     "data": {
      "text/plain": [
       "N                         13959\n",
       "Glycerol or mannitol       1774\n",
       "Calcium antagonist         1467\n",
       "Antiplatelet drug           616\n",
       "Subcut. Heparin             473\n",
       "Steroids                    454\n",
       "Other coanticoagulants      365\n",
       "Intrav. Heparin             327\n",
       "Name: DMEDS, dtype: int64"
      ]
     },
     "metadata": {},
     "execution_count": 34
    }
   ],
   "source": [
    "df.DMEDS.value_counts()"
   ]
  },
  {
   "source": [
    "### Types of stroke\n",
    "\n",
    "The types of strokes the patient suffered are stored in different variables. We combined the information in new variables (\"DIAG\" including \"no stroke\", \"DIAGSTR\" inclduing strokes only):  "
   ],
   "cell_type": "markdown",
   "metadata": {}
  },
  {
   "cell_type": "code",
   "execution_count": 35,
   "metadata": {},
   "outputs": [],
   "source": [
    "# new variable: DIAG\n",
    "# combine all types of first stroke\n",
    "\n",
    "conditions = [\n",
    "    df['DDIAGISC'].eq('Y'), df['DDIAGHA'].eq('Y'), df['DDIAGUN'].eq('Y'), df['DNOSTRK'].eq('Y')]\n",
    "\n",
    "choices = ['Ischaemic stroke','Haemorrhagic stroke','Indeterminate stroke','Not a stroke']\n",
    "\n",
    "df['DIAG'] = np.select(conditions, choices, default='Unknown')"
   ]
  },
  {
   "cell_type": "code",
   "execution_count": 36,
   "metadata": {},
   "outputs": [],
   "source": [
    "# new variable: DIAGSTR\n",
    "# combine all types of first stroke - without DNOSTRK' \n",
    "\n",
    "conditions = [\n",
    "    df['DDIAGISC'].eq('Y'), df['DDIAGHA'].eq('Y'), df['DDIAGUN'].eq('Y')]\n",
    "\n",
    "choices = ['Ischaemic stroke','Haemorrhagic stroke','Indeterminate stroke']\n",
    "\n",
    "df['DIAGSTR'] = np.select(conditions, choices, default='Unknown')"
   ]
  },
  {
   "cell_type": "code",
   "execution_count": 37,
   "metadata": {},
   "outputs": [
    {
     "output_type": "execute_result",
     "data": {
      "text/plain": [
       "DIAGSTR               DIAG                \n",
       "Haemorrhagic stroke   Haemorrhagic stroke       599\n",
       "Indeterminate stroke  Indeterminate stroke      992\n",
       "Ischaemic stroke      Ischaemic stroke        17398\n",
       "Unknown               Not a stroke              420\n",
       "                      Unknown                    26\n",
       "Name: DIAG, dtype: int64"
      ]
     },
     "metadata": {},
     "execution_count": 37
    }
   ],
   "source": [
    "df['DIAG'].groupby(by = [df['DIAGSTR']]).value_counts()"
   ]
  },
  {
   "source": [
    "Drop \"Unkown\" in \"DIAGSTR\" as these include the patients that did not suffer a stroke and a few patients with an unknown diagnosis."
   ],
   "cell_type": "markdown",
   "metadata": {}
  },
  {
   "cell_type": "code",
   "execution_count": 38,
   "metadata": {},
   "outputs": [],
   "source": [
    "df = df[df['DIAGSTR'] != 'Unknown']"
   ]
  },
  {
   "source": [
    "Some patients suffered a recurrent stroke within 14 days of their first stroke. We combined the types of stroke in a new variable:"
   ],
   "cell_type": "markdown",
   "metadata": {}
  },
  {
   "cell_type": "code",
   "execution_count": 39,
   "metadata": {},
   "outputs": [],
   "source": [
    "# new variable: RDIAG14\n",
    "# combine all types of recurrent stroke (within 14 days)\n",
    "\n",
    "conditions = [\n",
    "    df['DRSISC'].eq('Y'), df['DRSH'].eq('Y'), df['DRSUNK'].eq('Y'), df['DPE'].eq('Y')]\n",
    "\n",
    "choices = ['Ischaemic stroke','Haemorrhagic stroke','Unknown type', 'Pulmonary embolism']\n",
    "\n",
    "df['RDIAG14'] = np.select(conditions, choices, default='None')"
   ]
  },
  {
   "cell_type": "code",
   "execution_count": 40,
   "metadata": {},
   "outputs": [
    {
     "output_type": "execute_result",
     "data": {
      "text/plain": [
       "None                   18107\n",
       "Ischaemic stroke         412\n",
       "Unknown type             256\n",
       "Pulmonary embolism       120\n",
       "Haemorrhagic stroke       94\n",
       "Name: RDIAG14, dtype: int64"
      ]
     },
     "metadata": {},
     "execution_count": 40
    }
   ],
   "source": [
    "df.RDIAG14.value_counts()"
   ]
  },
  {
   "source": [
    "### Discharged after 14 days\n",
    "\n",
    "Patients were either did discharged alive within 14 days or not. We created a new variable to combine the possible outcomes. First let's find out what it means if \"DALIVE\" equals \"N\". We assume that these patients were not discharged. So they are still in hospital but are not dead. To prove this we may look at the outcome after 6 months (\"FDEAD\" - dead after 6 months, Y/N). The patients that were annotated \"N\" in \"DALIVE\" should be included marked as not dead in (\"DDEAD\" - dead within 14 days) and may also be still alive after 6 months (FDEAD = N):"
   ],
   "cell_type": "markdown",
   "metadata": {}
  },
  {
   "cell_type": "code",
   "execution_count": 41,
   "metadata": {},
   "outputs": [
    {
     "output_type": "execute_result",
     "data": {
      "text/plain": [
       "DDEAD  DALIVE  FDEAD\n",
       "N      N       N        5546\n",
       "               Y        1358\n",
       "               U          20\n",
       "       Y       N        9022\n",
       "               Y         904\n",
       "               U          33\n",
       "U      U       N           1\n",
       "Y      N       Y        1992\n",
       "               N           1\n",
       "Name: FDEAD, dtype: int64"
      ]
     },
     "metadata": {},
     "execution_count": 41
    }
   ],
   "source": [
    "# when DALIVE = N equals \"not discharged\" then patients should appear in OCCODE (outcome @ 6 months; 1 - dead @ 6 months)\n",
    "group_da = df.groupby(by=['DDEAD','DALIVE'])\n",
    "group_da['FDEAD'].value_counts()"
   ]
  },
  {
   "cell_type": "code",
   "execution_count": 42,
   "metadata": {},
   "outputs": [],
   "source": [
    "# new variable: RDISCH14\n",
    "# Discharged after 14 days - alive or dead?\n",
    "\n",
    "conditions = [\n",
    "    df['DALIVE'].eq('Y'), df['DDEAD'].eq('Y'), df['DALIVE'].eq('N')]\n",
    "\n",
    "choices = ['Discharged alive from hospital', 'Dead on discharge form', 'Not discharged']\n",
    "\n",
    "df['RDISCH14'] = np.select(conditions, choices, default= 'Unknown')"
   ]
  },
  {
   "cell_type": "code",
   "execution_count": 43,
   "metadata": {},
   "outputs": [
    {
     "output_type": "execute_result",
     "data": {
      "text/plain": [
       "Discharged alive from hospital    10038\n",
       "Not discharged                     6943\n",
       "Dead on discharge form             2002\n",
       "Unknown                               6\n",
       "Name: RDISCH14, dtype: int64"
      ]
     },
     "metadata": {},
     "execution_count": 43
    }
   ],
   "source": [
    "df.RDISCH14.value_counts()"
   ]
  },
  {
   "cell_type": "code",
   "execution_count": 44,
   "metadata": {},
   "outputs": [],
   "source": [
    "# drop \"unknown\"\n",
    "df = df[df['RDISCH14'] != 'Unknown']"
   ]
  },
  {
   "source": [
    "### Cause of death\n",
    "\n",
    "As mentioned above some numerical variables are actually categorical variables. We transformed the info for cause of death according the the info for the variables/columns:"
   ],
   "cell_type": "markdown",
   "metadata": {}
  },
  {
   "cell_type": "code",
   "execution_count": 45,
   "metadata": {},
   "outputs": [
    {
     "output_type": "stream",
     "name": "stderr",
     "text": [
      "/Users/Nicole/Documents/Data_Science/neuefische/projects/Capstone/stroke/Stroke-Outcome/.venv/lib/python3.8/site-packages/pandas/core/series.py:4479: SettingWithCopyWarning: \nA value is trying to be set on a copy of a slice from a DataFrame\n\nSee the caveats in the documentation: https://pandas.pydata.org/pandas-docs/stable/user_guide/indexing.html#returning-a-view-versus-a-copy\n  return super().replace(\n"
     ]
    }
   ],
   "source": [
    "df['DDEADC'].replace({1: 'Initial Stroke', 2: 'Recurrent stroke (ischaemic or unknown)', 3: 'Recurrent stroke (haemorrhagic)', \n",
    "4: 'Pneumonia', 5: 'Coronary heart disease', 6: 'Pulmonary embolism', 7: 'Other vascular or unknown', 8: 'Non-vascular', 0: 'Unknown'}, inplace=True)"
   ]
  },
  {
   "cell_type": "code",
   "execution_count": 46,
   "metadata": {},
   "outputs": [],
   "source": [
    "df['FDEADC'].replace({1: 'Initial Stroke', 2: 'Recurrent stroke (ischaemic or unknown)', 3: 'Recurrent stroke (haemorrhagic)', \n",
    "4: 'Pneumonia', 5: 'Coronary heart disease', 6: 'Pulmonary embolism', 7: 'Other vascular or unknown', 8: 'Non-vascular', 0: 'Unknown'}, inplace=True)"
   ]
  },
  {
   "source": [
    "### Outcome after 6 months\n",
    "\n",
    "There are three variables describing the outcome after 6 months. One is \"FDENNIS\" shows, whether a patient is dependent or not, \"FRECOVER\" shows wether a patients has recovered and \"OCCODE\" combines these information and includes \"not recovered\" and \"dead\". Before we compare these variables, let's transform the info on \"OCCODE\":"
   ],
   "cell_type": "markdown",
   "metadata": {}
  },
  {
   "cell_type": "code",
   "execution_count": 47,
   "metadata": {},
   "outputs": [],
   "source": [
    "df['OCCODE'].replace({1: 'Dead', 2: 'Dependent', 3: 'Not recovered', 4: 'Recovered'}, inplace=True)"
   ]
  },
  {
   "cell_type": "code",
   "execution_count": 48,
   "metadata": {},
   "outputs": [
    {
     "output_type": "execute_result",
     "data": {
      "text/plain": [
       "Dependent        7756\n",
       "Dead             4143\n",
       "Not recovered    3755\n",
       "Recovered        3190\n",
       "0                  90\n",
       "9                  49\n",
       "Name: OCCODE, dtype: int64"
      ]
     },
     "metadata": {},
     "execution_count": 48
    }
   ],
   "source": [
    "# drop '0' and '9' - not many values equal to \"missing or unknown\"\n",
    "df.OCCODE.value_counts()"
   ]
  },
  {
   "cell_type": "code",
   "execution_count": 49,
   "metadata": {},
   "outputs": [],
   "source": [
    "df = df[df['OCCODE'] != 0]\n",
    "df = df[df['OCCODE'] != 9]"
   ]
  },
  {
   "cell_type": "code",
   "execution_count": 50,
   "metadata": {},
   "outputs": [
    {
     "output_type": "execute_result",
     "data": {
      "text/plain": [
       "Dependent        7756\n",
       "Dead             4143\n",
       "Not recovered    3755\n",
       "Recovered        3190\n",
       "Name: OCCODE, dtype: int64"
      ]
     },
     "metadata": {},
     "execution_count": 50
    }
   ],
   "source": [
    "df.OCCODE.value_counts()"
   ]
  },
  {
   "source": [
    "When comparing the three variables with each other, we see there are some discrepancies. Particularly, when we look at \"FDENNIS\". We will choose the more conservative way and use \"OCCODE\" for the 6 months outcome."
   ],
   "cell_type": "markdown",
   "metadata": {}
  },
  {
   "cell_type": "code",
   "execution_count": 51,
   "metadata": {},
   "outputs": [
    {
     "output_type": "stream",
     "name": "stdout",
     "text": [
      "OCCODE         FDENNIS  FRECOVER\nDead           N        N              1\nDependent      U        U             15\n                        N              9\n               Y        N           7192\n                        Y            406\n                        U              8\nNot recovered  N        N           3739\n                        U             16\nRecovered      N        Y           3184\n               U        Y              6\nName: FRECOVER, dtype: int64\n"
     ]
    }
   ],
   "source": [
    "# OCCODE has more info on dependency/recovery after 6 months than FDENNIS (no unknown)\n",
    "group_depen = df.groupby(by=['OCCODE', 'FDENNIS'])\n",
    "print(group_depen['FRECOVER'].value_counts())"
   ]
  },
  {
   "source": [
    "### Residence of patients\n",
    "\n",
    "The place of residency was noted after 14 days and after 6 months. We decoded the information:"
   ],
   "cell_type": "markdown",
   "metadata": {}
  },
  {
   "cell_type": "code",
   "execution_count": 52,
   "metadata": {},
   "outputs": [],
   "source": [
    "df['DPLACE'].replace({'A': 'Home', 'B': 'Relatives home', 'C': 'Residential care', 'D': 'Nursing home', 'E': 'Other hospital departments', 'U': 'Unknown'}, inplace=True)"
   ]
  },
  {
   "cell_type": "code",
   "execution_count": 53,
   "metadata": {},
   "outputs": [],
   "source": [
    "df['FPLACE'].replace({'A': 'Home', 'B': 'Relatives home', 'C': 'Residential care', 'D': 'Nursing home', 'E': 'Other hospital departments', 'U': 'Unknown'}, inplace=True)"
   ]
  },
  {
   "source": [
    "## Missing values\n",
    "\n",
    "Before going on we will check the missing values of each variable again. We dropped some rows along the way, but we probably still have some missing values:"
   ],
   "cell_type": "markdown",
   "metadata": {}
  },
  {
   "cell_type": "code",
   "execution_count": 54,
   "metadata": {},
   "outputs": [
    {
     "output_type": "stream",
     "name": "stdout",
     "text": [
      "Column Name:  RATRIAL\n",
      "Missing values :  971\n",
      "Column Name:  RHEP24\n",
      "Missing values :  340\n",
      "Column Name:  RASP3\n",
      "Missing values :  971\n",
      "Column Name:  DASP14\n",
      "Missing values :  8\n",
      "Column Name:  DASPLT\n",
      "Missing values :  129\n",
      "Column Name:  DLH14\n",
      "Missing values :  8\n",
      "Column Name:  DMH14\n",
      "Missing values :  8\n",
      "Column Name:  DHH14\n",
      "Missing values :  17873\n",
      "Column Name:  ONDRUG\n",
      "Missing values :  1\n",
      "Column Name:  DSCH\n",
      "Missing values :  286\n",
      "Column Name:  DIVH\n",
      "Missing values :  287\n",
      "Column Name:  DAP\n",
      "Missing values :  4\n",
      "Column Name:  DOAC\n",
      "Missing values :  4\n",
      "Column Name:  DGORM\n",
      "Missing values :  9\n",
      "Column Name:  DSTER\n",
      "Missing values :  14\n",
      "Column Name:  DCAA\n",
      "Missing values :  15\n",
      "Column Name:  DHAEMD\n",
      "Missing values :  14\n",
      "Column Name:  DCAREND\n",
      "Missing values :  978\n",
      "Column Name:  DTHROMB\n",
      "Missing values :  297\n",
      "Column Name:  DMAJNCHD\n",
      "Missing values :  18696\n",
      "Column Name:  DMAJNCHX\n",
      "Missing values :  18700\n",
      "Column Name:  DSIDED\n",
      "Missing values :  18224\n",
      "Column Name:  DSIDEX\n",
      "Missing values :  18219\n",
      "Column Name:  DDIAGISC\n",
      "Missing values :  6\n",
      "Column Name:  DDIAGHA\n",
      "Missing values :  8\n",
      "Column Name:  DDIAGUN\n",
      "Missing values :  7\n",
      "Column Name:  DNOSTRK\n",
      "Missing values :  9\n",
      "Column Name:  DNOSTRKX\n",
      "Missing values :  18834\n",
      "Column Name:  DRSISC\n",
      "Missing values :  4\n",
      "Column Name:  DRSISCD\n",
      "Missing values :  18434\n",
      "Column Name:  DRSH\n",
      "Missing values :  1\n",
      "Column Name:  DRSHD\n",
      "Missing values :  18748\n",
      "Column Name:  DRSUNK\n",
      "Missing values :  978\n",
      "Column Name:  DRSUNKD\n",
      "Missing values :  18586\n",
      "Column Name:  DPED\n",
      "Missing values :  18720\n",
      "Column Name:  DALIVE\n",
      "Missing values :  9\n",
      "Column Name:  DALIVED\n",
      "Missing values :  8914\n",
      "Column Name:  DPLACE\n",
      "Missing values :  9492\n",
      "Column Name:  DDEAD\n",
      "Missing values :  6\n",
      "Column Name:  DDEADD\n",
      "Missing values :  16842\n",
      "Column Name:  DDEADC\n",
      "Missing values :  16545\n",
      "Column Name:  DDEADX\n",
      "Missing values :  18697\n",
      "Column Name:  FDEAD\n",
      "Missing values :  2\n",
      "Column Name:  FLASTD\n",
      "Missing values :  18839\n",
      "Column Name:  FDEADD\n",
      "Missing values :  14598\n",
      "Column Name:  FDEADC\n",
      "Missing values :  14579\n",
      "Column Name:  FDEADX\n",
      "Missing values :  18125\n",
      "Column Name:  FRECOVER\n",
      "Missing values :  4265\n",
      "Column Name:  FDENNIS\n",
      "Missing values :  4268\n",
      "Column Name:  FPLACE\n",
      "Missing values :  4271\n",
      "Column Name:  FAP\n",
      "Missing values :  4338\n",
      "Column Name:  FOAC\n",
      "Missing values :  4344\n",
      "Column Name:  FU2_DONE\n",
      "Missing values :  2\n",
      "Column Name:  FU1_COMP\n",
      "Missing values :  453\n",
      "Column Name:  NCCODE\n",
      "Missing values :  17448\n"
     ]
    }
   ],
   "source": [
    "for column in df.columns:\n",
    "    columnSeriesObj = df[column]\n",
    "    if columnSeriesObj.isnull().sum() != 0:\n",
    "        print('Column Name: ', column)\n",
    "        print('Missing values : ', columnSeriesObj.isnull().sum() )"
   ]
  },
  {
   "source": [
    "+ Drop NAs:\n",
    "    + RATRIAL not noted during trial phase (984 patients) - we will drop NAs for models if needed\n",
    "    + RHEP24 and RASP3 (info on meds prior to first stroke) - drop if needed/no additional info\n",
    "    + DMH14 and DLH14\n",
    "    + Columns with few NAs\n",
    "    \n",
    "+ Drop entirely:\n",
    "    + DHH14 - (was merged with DMH14)\n",
    "    + FDENNIS and FRECOVER - both included in OCCODE ('dependent' after 6 months)\n",
    "    + 'DMAJNCHX', 'DSIDED', 'DSIDEX', 'DNOSTRKX', 'DDEADX', 'FLASTD', 'FDEADX', 'NCCODE' - (no additional info and many missing values)"
   ],
   "cell_type": "markdown",
   "metadata": {}
  },
  {
   "cell_type": "code",
   "execution_count": 55,
   "metadata": {},
   "outputs": [],
   "source": [
    "df = df.dropna(subset=['DASP14', 'DLH14', 'DMH14', 'ONDRUG', 'DAP', 'DOAC', 'DGORM', 'DSTER', 'DCAA', 'DHAEMD',\n",
    "                        'DDIAGISC', 'DDIAGHA', 'DDIAGUN', 'DNOSTRK', 'DRSISC', 'DRSH', 'DALIVE', 'DDEAD', 'FDEAD'])\n",
    "#df_dropped.info()"
   ]
  },
  {
   "cell_type": "code",
   "execution_count": 56,
   "metadata": {},
   "outputs": [],
   "source": [
    "# drop the following columns entirely\n",
    "df = df.drop(['DHH14', 'FDENNIS', 'FRECOVER', 'DMAJNCHX', 'DSIDED', 'DSIDEX', 'DNOSTRKX', 'DDEADX', 'FLASTD', 'FDEADX', 'NCCODE'], axis=1)"
   ]
  },
  {
   "cell_type": "code",
   "execution_count": 57,
   "metadata": {},
   "outputs": [
    {
     "output_type": "stream",
     "name": "stdout",
     "text": [
      "Column Name:  RATRIAL\n",
      "Missing values :  958\n",
      "Column Name:  RHEP24\n",
      "Missing values :  338\n",
      "Column Name:  RASP3\n",
      "Missing values :  958\n",
      "Column Name:  DASPLT\n",
      "Missing values :  124\n",
      "Column Name:  DSCH\n",
      "Missing values :  280\n",
      "Column Name:  DIVH\n",
      "Missing values :  281\n",
      "Column Name:  DCAREND\n",
      "Missing values :  958\n",
      "Column Name:  DTHROMB\n",
      "Missing values :  286\n",
      "Column Name:  DMAJNCHD\n",
      "Missing values :  18632\n",
      "Column Name:  DRSISCD\n",
      "Missing values :  18371\n",
      "Column Name:  DRSHD\n",
      "Missing values :  18685\n",
      "Column Name:  DRSUNK\n",
      "Missing values :  963\n",
      "Column Name:  DRSUNKD\n",
      "Missing values :  18523\n",
      "Column Name:  DPED\n",
      "Missing values :  18658\n",
      "Column Name:  DALIVED\n",
      "Missing values :  8882\n",
      "Column Name:  DPLACE\n",
      "Missing values :  9456\n",
      "Column Name:  DDEADD\n",
      "Missing values :  16790\n",
      "Column Name:  DDEADC\n",
      "Missing values :  16495\n",
      "Column Name:  FDEADD\n",
      "Missing values :  14557\n",
      "Column Name:  FDEADC\n",
      "Missing values :  14538\n",
      "Column Name:  FPLACE\n",
      "Missing values :  4247\n",
      "Column Name:  FAP\n",
      "Missing values :  4312\n",
      "Column Name:  FOAC\n",
      "Missing values :  4319\n",
      "Column Name:  FU2_DONE\n",
      "Missing values :  2\n",
      "Column Name:  FU1_COMP\n",
      "Missing values :  450\n"
     ]
    }
   ],
   "source": [
    "for column in df.columns:\n",
    "    columnSeriesObj = df[column]\n",
    "    if columnSeriesObj.isnull().sum() != 0:\n",
    "        print('Column Name: ', column)\n",
    "        print('Missing values : ', columnSeriesObj.isnull().sum() )"
   ]
  },
  {
   "source": [
    "## Save the cleaned data set"
   ],
   "cell_type": "markdown",
   "metadata": {}
  },
  {
   "cell_type": "code",
   "execution_count": 58,
   "metadata": {},
   "outputs": [],
   "source": [
    "#save clean file\n",
    "df.to_csv('data/IST_corrected_clean.csv') "
   ]
  },
  {
   "cell_type": "code",
   "execution_count": null,
   "metadata": {},
   "outputs": [],
   "source": []
  }
 ],
 "metadata": {
  "kernelspec": {
   "name": "python385jvsc74a57bd076355bfd15ad92f46738102e8a52a22482697be7a0de2c0a91e21f4d7f6075df",
   "display_name": "Python 3.8.5 64-bit ('.venv')"
  },
  "language_info": {
   "codemirror_mode": {
    "name": "ipython",
    "version": 3
   },
   "file_extension": ".py",
   "mimetype": "text/x-python",
   "name": "python",
   "nbconvert_exporter": "python",
   "pygments_lexer": "ipython3",
   "version": "3.8.5"
  },
  "metadata": {
   "interpreter": {
    "hash": "76355bfd15ad92f46738102e8a52a22482697be7a0de2c0a91e21f4d7f6075df"
   }
  }
 },
 "nbformat": 4,
 "nbformat_minor": 4
}