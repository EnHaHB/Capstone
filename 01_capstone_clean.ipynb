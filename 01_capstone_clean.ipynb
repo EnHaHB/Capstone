{
 "cells": [
  {
   "cell_type": "code",
   "execution_count": 16,
   "metadata": {},
   "outputs": [],
   "source": [
    "import pandas as pd\n",
    "import numpy as np"
   ]
  },
  {
   "cell_type": "code",
   "execution_count": 40,
   "metadata": {},
   "outputs": [],
   "source": [
    "df = pd.read_csv('data/Train1.csv', error_bad_lines=False, index_col=False, dtype= 'unicode')\n"
   ]
  },
  {
   "cell_type": "code",
   "execution_count": 41,
   "metadata": {},
   "outputs": [
    {
     "output_type": "stream",
     "name": "stdout",
     "text": [
      "<class 'pandas.core.frame.DataFrame'>\nRangeIndex: 9762 entries, 0 to 9761\nColumns: 113 entries, ID to NCB14\ndtypes: object(113)\nmemory usage: 8.4+ MB\n"
     ]
    }
   ],
   "source": [
    "df.info()"
   ]
  },
  {
   "cell_type": "code",
   "execution_count": 31,
   "metadata": {},
   "outputs": [
    {
     "output_type": "execute_result",
     "data": {
      "text/plain": [
       "  ID HOSPNUM RDELAY RCONSC SEX AGE RSLEEP RATRIAL RCT RVISINF  ... DEAD8 H14  \\\n",
       "0  1       1     17      D   M  69      Y     NaN   Y       Y  ...     0   0   \n",
       "1  2       1     10      F   M  76      Y     NaN   Y       N  ...     0   0   \n",
       "2  3       1     24      F   M  23      N     NaN   Y       N  ...     0   0   \n",
       "3  4       1      5      D   F  83      N     NaN   N       N  ...     0   0   \n",
       "4  6       1      8      D   F  64      Y     NaN   Y       Y  ...     0   0   \n",
       "\n",
       "  ISC14 NK14 STRK14 HTI14 PE14 DVT14 TRAN14 NCB14  \n",
       "0     0    0      0     0    0     0      0     0  \n",
       "1     0    0      0     0    0     0      0     0  \n",
       "2     0    0      0     0    0     0      0     0  \n",
       "3     0    0      0     0    0     0      0     0  \n",
       "4     0    0      0     0    0     0      0     0  \n",
       "\n",
       "[5 rows x 113 columns]"
      ],
      "text/html": "<div>\n<style scoped>\n    .dataframe tbody tr th:only-of-type {\n        vertical-align: middle;\n    }\n\n    .dataframe tbody tr th {\n        vertical-align: top;\n    }\n\n    .dataframe thead th {\n        text-align: right;\n    }\n</style>\n<table border=\"1\" class=\"dataframe\">\n  <thead>\n    <tr style=\"text-align: right;\">\n      <th></th>\n      <th>ID</th>\n      <th>HOSPNUM</th>\n      <th>RDELAY</th>\n      <th>RCONSC</th>\n      <th>SEX</th>\n      <th>AGE</th>\n      <th>RSLEEP</th>\n      <th>RATRIAL</th>\n      <th>RCT</th>\n      <th>RVISINF</th>\n      <th>...</th>\n      <th>DEAD8</th>\n      <th>H14</th>\n      <th>ISC14</th>\n      <th>NK14</th>\n      <th>STRK14</th>\n      <th>HTI14</th>\n      <th>PE14</th>\n      <th>DVT14</th>\n      <th>TRAN14</th>\n      <th>NCB14</th>\n    </tr>\n  </thead>\n  <tbody>\n    <tr>\n      <th>0</th>\n      <td>1</td>\n      <td>1</td>\n      <td>17</td>\n      <td>D</td>\n      <td>M</td>\n      <td>69</td>\n      <td>Y</td>\n      <td>NaN</td>\n      <td>Y</td>\n      <td>Y</td>\n      <td>...</td>\n      <td>0</td>\n      <td>0</td>\n      <td>0</td>\n      <td>0</td>\n      <td>0</td>\n      <td>0</td>\n      <td>0</td>\n      <td>0</td>\n      <td>0</td>\n      <td>0</td>\n    </tr>\n    <tr>\n      <th>1</th>\n      <td>2</td>\n      <td>1</td>\n      <td>10</td>\n      <td>F</td>\n      <td>M</td>\n      <td>76</td>\n      <td>Y</td>\n      <td>NaN</td>\n      <td>Y</td>\n      <td>N</td>\n      <td>...</td>\n      <td>0</td>\n      <td>0</td>\n      <td>0</td>\n      <td>0</td>\n      <td>0</td>\n      <td>0</td>\n      <td>0</td>\n      <td>0</td>\n      <td>0</td>\n      <td>0</td>\n    </tr>\n    <tr>\n      <th>2</th>\n      <td>3</td>\n      <td>1</td>\n      <td>24</td>\n      <td>F</td>\n      <td>M</td>\n      <td>23</td>\n      <td>N</td>\n      <td>NaN</td>\n      <td>Y</td>\n      <td>N</td>\n      <td>...</td>\n      <td>0</td>\n      <td>0</td>\n      <td>0</td>\n      <td>0</td>\n      <td>0</td>\n      <td>0</td>\n      <td>0</td>\n      <td>0</td>\n      <td>0</td>\n      <td>0</td>\n    </tr>\n    <tr>\n      <th>3</th>\n      <td>4</td>\n      <td>1</td>\n      <td>5</td>\n      <td>D</td>\n      <td>F</td>\n      <td>83</td>\n      <td>N</td>\n      <td>NaN</td>\n      <td>N</td>\n      <td>N</td>\n      <td>...</td>\n      <td>0</td>\n      <td>0</td>\n      <td>0</td>\n      <td>0</td>\n      <td>0</td>\n      <td>0</td>\n      <td>0</td>\n      <td>0</td>\n      <td>0</td>\n      <td>0</td>\n    </tr>\n    <tr>\n      <th>4</th>\n      <td>6</td>\n      <td>1</td>\n      <td>8</td>\n      <td>D</td>\n      <td>F</td>\n      <td>64</td>\n      <td>Y</td>\n      <td>NaN</td>\n      <td>Y</td>\n      <td>Y</td>\n      <td>...</td>\n      <td>0</td>\n      <td>0</td>\n      <td>0</td>\n      <td>0</td>\n      <td>0</td>\n      <td>0</td>\n      <td>0</td>\n      <td>0</td>\n      <td>0</td>\n      <td>0</td>\n    </tr>\n  </tbody>\n</table>\n<p>5 rows × 113 columns</p>\n</div>"
     },
     "metadata": {},
     "execution_count": 31
    }
   ],
   "source": [
    "df.head()"
   ]
  },
  {
   "cell_type": "code",
   "execution_count": 29,
   "metadata": {},
   "outputs": [
    {
     "output_type": "execute_result",
     "data": {
      "text/plain": [
       "['ID',\n",
       " 'HOSPNUM',\n",
       " 'RDELAY',\n",
       " 'RCONSC',\n",
       " 'SEX',\n",
       " 'AGE',\n",
       " 'RSLEEP',\n",
       " 'RATRIAL',\n",
       " 'RCT',\n",
       " 'RVISINF',\n",
       " 'RHEP24',\n",
       " 'RASP3',\n",
       " 'RSBP',\n",
       " 'RDEF1',\n",
       " 'RDEF2',\n",
       " 'RDEF3',\n",
       " 'RDEF4',\n",
       " 'RDEF5',\n",
       " 'RDEF6',\n",
       " 'RDEF7',\n",
       " 'RDEF8',\n",
       " 'STYPE',\n",
       " 'RDATE',\n",
       " 'HOURLOCAL',\n",
       " 'MINLOCAL',\n",
       " 'DAYLOCAL',\n",
       " 'RXASP',\n",
       " 'RXHEP',\n",
       " 'DASP14',\n",
       " 'DASPLT',\n",
       " 'DLH14',\n",
       " 'DMH14',\n",
       " 'DHH14',\n",
       " 'ONDRUG',\n",
       " 'DSCH',\n",
       " 'DIVH',\n",
       " 'DAP',\n",
       " 'DOAC',\n",
       " 'DGORM',\n",
       " 'DSTER',\n",
       " 'DCAA',\n",
       " 'DHAEMD',\n",
       " 'DCAREND',\n",
       " 'DTHROMB',\n",
       " 'DMAJNCH',\n",
       " 'DMAJNCHD',\n",
       " 'DMAJNCHX',\n",
       " 'DSIDE',\n",
       " 'DSIDED',\n",
       " 'DSIDEX',\n",
       " 'DDIAGISC',\n",
       " 'DDIAGHA',\n",
       " 'DDIAGUN',\n",
       " 'DNOSTRK',\n",
       " 'DNOSTRKX',\n",
       " 'DRSISC',\n",
       " 'DRSISCD',\n",
       " 'DRSH',\n",
       " 'DRSHD',\n",
       " 'DRSUNK',\n",
       " 'DRSUNKD',\n",
       " 'DPE',\n",
       " 'DPED',\n",
       " 'DALIVE',\n",
       " 'DALIVED',\n",
       " 'DPLACE',\n",
       " 'DDEAD',\n",
       " 'DDEADD',\n",
       " 'DDEADC',\n",
       " 'DDEADX',\n",
       " 'FDEAD',\n",
       " 'FLASTD',\n",
       " 'FDEADD',\n",
       " 'FDEADC',\n",
       " 'FDEADX',\n",
       " 'FRECOVER',\n",
       " 'FDENNIS',\n",
       " 'FPLACE',\n",
       " 'FAP',\n",
       " 'FOAC',\n",
       " 'FU1_RECD',\n",
       " 'FU2_DONE',\n",
       " 'COUNTRY',\n",
       " 'CNTRYNUM',\n",
       " 'FU1_COMP',\n",
       " 'NCCODE',\n",
       " 'CMPLASP',\n",
       " 'CMPLHEP',\n",
       " 'DIED',\n",
       " 'TD',\n",
       " 'EXPDD',\n",
       " 'EXPD6',\n",
       " 'EXPD14',\n",
       " 'SET14D',\n",
       " 'ID14',\n",
       " 'OCCODE',\n",
       " 'DEAD1',\n",
       " 'DEAD2',\n",
       " 'DEAD3',\n",
       " 'DEAD4',\n",
       " 'DEAD5',\n",
       " 'DEAD6',\n",
       " 'DEAD7',\n",
       " 'DEAD8',\n",
       " 'H14',\n",
       " 'ISC14',\n",
       " 'NK14',\n",
       " 'STRK14',\n",
       " 'HTI14',\n",
       " 'PE14',\n",
       " 'DVT14',\n",
       " 'TRAN14',\n",
       " 'NCB14']"
      ]
     },
     "metadata": {},
     "execution_count": 29
    }
   ],
   "source": [
    "df.columns.tolist()"
   ]
  },
  {
   "cell_type": "code",
   "execution_count": 84,
   "metadata": {},
   "outputs": [
    {
     "output_type": "execute_result",
     "data": {
      "text/plain": [
       "[0,\n",
       " 0,\n",
       " 0,\n",
       " 0,\n",
       " 0,\n",
       " 0,\n",
       " 0,\n",
       " 484,\n",
       " 0,\n",
       " 0,\n",
       " 175,\n",
       " 484,\n",
       " 0,\n",
       " 0,\n",
       " 0,\n",
       " 0,\n",
       " 0,\n",
       " 0,\n",
       " 0,\n",
       " 0,\n",
       " 0,\n",
       " 0,\n",
       " 0,\n",
       " 0,\n",
       " 0,\n",
       " 0,\n",
       " 0,\n",
       " 0,\n",
       " 12,\n",
       " 81,\n",
       " 14,\n",
       " 498,\n",
       " 9278,\n",
       " 0,\n",
       " 152,\n",
       " 152,\n",
       " 11,\n",
       " 11,\n",
       " 15,\n",
       " 16,\n",
       " 17,\n",
       " 16,\n",
       " 498,\n",
       " 158,\n",
       " 8,\n",
       " 9686,\n",
       " 9689,\n",
       " 8,\n",
       " 9442,\n",
       " 9438,\n",
       " 12,\n",
       " 12,\n",
       " 10,\n",
       " 12,\n",
       " 9560,\n",
       " 11,\n",
       " 9556,\n",
       " 8,\n",
       " 9709,\n",
       " 497,\n",
       " 9626,\n",
       " 8,\n",
       " 9695,\n",
       " 17,\n",
       " 4599,\n",
       " 4901,\n",
       " 9,\n",
       " 8694,\n",
       " 8545,\n",
       " 9673,\n",
       " 21,\n",
       " 9762,\n",
       " 7504,\n",
       " 7496,\n",
       " 9356,\n",
       " 2251,\n",
       " 2287,\n",
       " 2288,\n",
       " 2323,\n",
       " 2325,\n",
       " 7,\n",
       " 20,\n",
       " 0,\n",
       " 0,\n",
       " 242,\n",
       " 9008,\n",
       " 7,\n",
       " 7,\n",
       " 0,\n",
       " 1,\n",
       " 0,\n",
       " 0,\n",
       " 0,\n",
       " 0,\n",
       " 0,\n",
       " 0,\n",
       " 0,\n",
       " 0,\n",
       " 0,\n",
       " 0,\n",
       " 0,\n",
       " 0,\n",
       " 0,\n",
       " 0,\n",
       " 0,\n",
       " 0,\n",
       " 0,\n",
       " 0,\n",
       " 0,\n",
       " 0,\n",
       " 0,\n",
       " 0,\n",
       " 0,\n",
       " 0]"
      ]
     },
     "metadata": {},
     "execution_count": 84
    }
   ],
   "source": [
    "df.isnull().sum().tolist()"
   ]
  },
  {
   "cell_type": "code",
   "execution_count": 8,
   "metadata": {},
   "outputs": [
    {
     "output_type": "execute_result",
     "data": {
      "text/plain": [
       "Empty DataFrame\n",
       "Columns: [ID, HOSPNUM, RDELAY, RCONSC, SEX, AGE, RSLEEP, RATRIAL, RCT, RVISINF, RHEP24, RASP3, RSBP, RDEF1, RDEF2, RDEF3, RDEF4, RDEF5, RDEF6, RDEF7, RDEF8, STYPE, RDATE, HOURLOCAL, MINLOCAL, DAYLOCAL, RXASP, RXHEP, DASP14, DASPLT, DLH14, DMH14, DHH14, ONDRUG, DSCH, DIVH, DAP, DOAC, DGORM, DSTER, DCAA, DHAEMD, DCAREND, DTHROMB, DMAJNCH, DMAJNCHD, DMAJNCHX, DSIDE, DSIDED, DSIDEX, DDIAGISC, DDIAGHA, DDIAGUN, DNOSTRK, DNOSTRKX, DRSISC, DRSISCD, DRSH, DRSHD, DRSUNK, DRSUNKD, DPE, DPED, DALIVE, DALIVED, DPLACE, DDEAD, DDEADD, DDEADC, DDEADX, FDEAD, FLASTD, FDEADD, FDEADC, FDEADX, FRECOVER, FDENNIS, FPLACE, FAP, FOAC, FU1_RECD, FU2_DONE, COUNTRY, CNTRYNUM, FU1_COMP, NCCODE, CMPLASP, CMPLHEP, DIED, TD, EXPDD, EXPD6, EXPD14, SET14D, ID14, OCCODE, DEAD1, DEAD2, DEAD3, DEAD4, ...]\n",
       "Index: []\n",
       "\n",
       "[0 rows x 113 columns]"
      ],
      "text/html": "<div>\n<style scoped>\n    .dataframe tbody tr th:only-of-type {\n        vertical-align: middle;\n    }\n\n    .dataframe tbody tr th {\n        vertical-align: top;\n    }\n\n    .dataframe thead th {\n        text-align: right;\n    }\n</style>\n<table border=\"1\" class=\"dataframe\">\n  <thead>\n    <tr style=\"text-align: right;\">\n      <th></th>\n      <th>ID</th>\n      <th>HOSPNUM</th>\n      <th>RDELAY</th>\n      <th>RCONSC</th>\n      <th>SEX</th>\n      <th>AGE</th>\n      <th>RSLEEP</th>\n      <th>RATRIAL</th>\n      <th>RCT</th>\n      <th>RVISINF</th>\n      <th>...</th>\n      <th>DEAD8</th>\n      <th>H14</th>\n      <th>ISC14</th>\n      <th>NK14</th>\n      <th>STRK14</th>\n      <th>HTI14</th>\n      <th>PE14</th>\n      <th>DVT14</th>\n      <th>TRAN14</th>\n      <th>NCB14</th>\n    </tr>\n  </thead>\n  <tbody>\n  </tbody>\n</table>\n<p>0 rows × 113 columns</p>\n</div>"
     },
     "metadata": {},
     "execution_count": 8
    }
   ],
   "source": [
    "# check for duplicates\n",
    "double = df[df.duplicated()]\n",
    "double"
   ]
  },
  {
   "cell_type": "code",
   "execution_count": 20,
   "metadata": {},
   "outputs": [
    {
     "output_type": "execute_result",
     "data": {
      "text/plain": [
       "array(['sty-91', 'lut-91', 'Mar-91', 'kwi-91', 'maj-91', 'cze-91',\n",
       "       'lip-91', 'sie-91', 'wrz-91', 'pa�-91', 'lis-91', 'gru-91',\n",
       "       'sty-92', 'lut-92', 'Mar-92', 'kwi-92', 'maj-92', 'cze-92',\n",
       "       'lip-92', 'sie-92', 'wrz-92', 'pa�-92', 'lis-92', 'gru-92',\n",
       "       'sty-93', 'lut-93', 'Mar-93', 'lip-93', 'wrz-93', 'gru-93',\n",
       "       'lis-93', 'kwi-93', 'Mar-94', 'sie-94', 'maj-93', 'cze-93',\n",
       "       'kwi-94', 'pa�-93', 'sty-94', 'cze-94', 'sie-93', 'sty-95',\n",
       "       'lut-94', 'lip-94', 'pa�-94', 'lis-94', 'maj-94', 'wrz-94',\n",
       "       'gru-94', 'lut-95', 'maj-96', 'maj-95', 'Mar-95', 'lip-95',\n",
       "       'wrz-95', 'pa�-95', 'kwi-95', 'sty-96', 'cze-95', 'sie-95',\n",
       "       'lis-95', 'lut-96', 'gru-95', 'Mar-96', 'kwi-96'], dtype=object)"
      ]
     },
     "metadata": {},
     "execution_count": 20
    }
   ],
   "source": [
    "df.RDATE.unique() # probably polish (https://en.wikipedia.org/wiki/Slavic_calendar)"
   ]
  },
  {
   "cell_type": "code",
   "execution_count": 68,
   "metadata": {},
   "outputs": [
    {
     "output_type": "execute_result",
     "data": {
      "text/plain": [
       "0       sty-91\n",
       "1       sty-91\n",
       "2       lut-91\n",
       "3       Mar-91\n",
       "4       Mar-91\n",
       "         ...  \n",
       "9757    lip-93\n",
       "9758    maj-93\n",
       "9759    lip-94\n",
       "9760    lut-94\n",
       "9761    gru-93\n",
       "Name: RDATE, Length: 9762, dtype: object"
      ]
     },
     "metadata": {},
     "execution_count": 68
    }
   ],
   "source": [
    "df.RDATE"
   ]
  },
  {
   "cell_type": "code",
   "execution_count": 28,
   "metadata": {},
   "outputs": [],
   "source": [
    "#extract year from RDATE\n",
    "df['RYEAR'] = df.RDATE.str.extract(r'(\\d{2})', expand=False)"
   ]
  },
  {
   "cell_type": "code",
   "execution_count": 29,
   "metadata": {},
   "outputs": [
    {
     "output_type": "execute_result",
     "data": {
      "text/plain": [
       "array(['91', '92', '93', '94', '95', '96'], dtype=object)"
      ]
     },
     "metadata": {},
     "execution_count": 29
    }
   ],
   "source": [
    "df.RYEAR.unique()"
   ]
  },
  {
   "source": [
    "Month (EN) | Month (PL) | Month (in df)\n",
    ":----- | ----: | -----:\n",
    "January  | styczeń | sty\n",
    "February  | luty  | lut\n",
    "March | (brzezień) | Mar\n",
    "April | kwiecień | kwi\n",
    "May | (trawień) | maj\n",
    "June | czerwiec | cze\n",
    "July | lipiec | lip\n",
    "August | sierpień | sie\n",
    "September | wrzesień | wrz\n",
    "Ocotber | październik | pa�\n",
    "November | listopad | lis\n",
    "December | grudzień | gru"
   ],
   "cell_type": "markdown",
   "metadata": {}
  },
  {
   "cell_type": "code",
   "execution_count": 39,
   "metadata": {},
   "outputs": [
    {
     "output_type": "execute_result",
     "data": {
      "text/plain": [
       "pandas.core.series.Series"
      ]
     },
     "metadata": {},
     "execution_count": 39
    }
   ],
   "source": [
    "#df.RDATE.to_string()\n",
    "#type(df.RDATE)"
   ]
  },
  {
   "cell_type": "code",
   "execution_count": 30,
   "metadata": {},
   "outputs": [],
   "source": [
    "# equivalents/translations for months\n",
    "month_dict = {'sty': '01', 'lut': '02', 'Mar': '03', 'kwi': '04', 'maj': '05', 'cze': '06',\n",
    "                'lip': '07', 'sie': '08', 'wrz': '09', 'pa�': '10', 'lis': '11', 'gru': '12'}"
   ]
  },
  {
   "cell_type": "code",
   "execution_count": 31,
   "metadata": {},
   "outputs": [],
   "source": [
    "# replace string in RDATE with number (according to month)\n",
    "df.RDATE = df.RDATE.replace(month_dict, regex=True)"
   ]
  },
  {
   "cell_type": "code",
   "execution_count": 32,
   "metadata": {},
   "outputs": [
    {
     "output_type": "execute_result",
     "data": {
      "text/plain": [
       "array(['01-91', '02-91', '03-91', '04-91', '05-91', '06-91', '07-91',\n",
       "       '08-91', '09-91', '10-91', '11-91', '12-91', '01-92', '02-92',\n",
       "       '03-92', '04-92', '05-92', '06-92', '07-92', '08-92', '09-92',\n",
       "       '10-92', '11-92', '12-92', '01-93', '02-93', '03-93', '07-93',\n",
       "       '09-93', '12-93', '11-93', '04-93', '03-94', '08-94', '05-93',\n",
       "       '06-93', '04-94', '10-93', '01-94', '06-94', '08-93', '01-95',\n",
       "       '02-94', '07-94', '10-94', '11-94', '05-94', '09-94', '12-94',\n",
       "       '02-95', '05-96', '05-95', '03-95', '07-95', '09-95', '10-95',\n",
       "       '04-95', '01-96', '06-95', '08-95', '11-95', '02-96', '12-95',\n",
       "       '03-96', '04-96'], dtype=object)"
      ]
     },
     "metadata": {},
     "execution_count": 32
    }
   ],
   "source": [
    "df.RDATE.unique()"
   ]
  },
  {
   "cell_type": "code",
   "execution_count": 112,
   "metadata": {},
   "outputs": [
    {
     "output_type": "stream",
     "name": "stdout",
     "text": [
      "count     9762\nunique      25\ntop         16\nfreq       848\nName: HOURLOCAL, dtype: object\n"
     ]
    },
    {
     "output_type": "execute_result",
     "data": {
      "text/plain": [
       "count     9762\n",
       "unique      61\n",
       "top         34\n",
       "freq       194\n",
       "Name: MINLOCAL, dtype: object"
      ]
     },
     "metadata": {},
     "execution_count": 112
    }
   ],
   "source": [
    "print(df.HOURLOCAL.describe())\n",
    "\n",
    "df.MINLOCAL.describe()"
   ]
  },
  {
   "cell_type": "code",
   "execution_count": 39,
   "metadata": {},
   "outputs": [
    {
     "output_type": "execute_result",
     "data": {
      "text/plain": [
       "count     9762\n",
       "unique       7\n",
       "top          6\n",
       "freq      1667\n",
       "Name: DAYLOCAL, dtype: object"
      ]
     },
     "metadata": {},
     "execution_count": 39
    }
   ],
   "source": [
    "df.DAYLOCAL.describe() "
   ]
  },
  {
   "cell_type": "code",
   "execution_count": 76,
   "metadata": {},
   "outputs": [
    {
     "output_type": "execute_result",
     "data": {
      "text/plain": [
       "95    3276\n",
       "94    2974\n",
       "93    1714\n",
       "96    1377\n",
       "92     285\n",
       "91     136\n",
       "Name: RYEAR, dtype: int64"
      ]
     },
     "metadata": {},
     "execution_count": 76
    }
   ],
   "source": [
    "df.RYEAR.value_counts()"
   ]
  },
  {
   "source": [
    "print(df.HOSPNUM.describe())\n",
    "\n",
    "df.HOSPNUM.isnull().sum()"
   ],
   "cell_type": "code",
   "metadata": {},
   "execution_count": 87,
   "outputs": [
    {
     "output_type": "stream",
     "name": "stdout",
     "text": [
      "count     9762\nunique     454\ntop        134\nfreq       247\nName: HOSPNUM, dtype: object\n"
     ]
    },
    {
     "output_type": "execute_result",
     "data": {
      "text/plain": [
       "0"
      ]
     },
     "metadata": {},
     "execution_count": 87
    }
   ]
  },
  {
   "cell_type": "code",
   "execution_count": 88,
   "metadata": {},
   "outputs": [
    {
     "output_type": "stream",
     "name": "stdout",
     "text": [
      "count     9762\nunique      36\ntop         UK\nfreq      3197\nName: COUNTRY, dtype: object\n"
     ]
    },
    {
     "output_type": "execute_result",
     "data": {
      "text/plain": [
       "0"
      ]
     },
     "metadata": {},
     "execution_count": 88
    }
   ],
   "source": [
    "print(df.COUNTRY.describe())\n",
    "\n",
    "df.COUNTRY.isnull().sum()"
   ]
  },
  {
   "cell_type": "code",
   "execution_count": 89,
   "metadata": {},
   "outputs": [
    {
     "output_type": "stream",
     "name": "stdout",
     "text": [
      "count     9762\nunique      48\ntop         24\nfreq       796\nName: RDELAY, dtype: object\n"
     ]
    },
    {
     "output_type": "execute_result",
     "data": {
      "text/plain": [
       "0"
      ]
     },
     "metadata": {},
     "execution_count": 89
    }
   ],
   "source": [
    "# Delay between stroke and randomisation in hours\n",
    "print(df.RDELAY.describe())\n",
    "\n",
    "df.RDELAY.isnull().sum()"
   ]
  },
  {
   "cell_type": "code",
   "execution_count": 90,
   "metadata": {},
   "outputs": [
    {
     "output_type": "stream",
     "name": "stdout",
     "text": [
      "count     9762\nunique       3\ntop          F\nfreq      7518\nName: RCONSC, dtype: object\n"
     ]
    },
    {
     "output_type": "execute_result",
     "data": {
      "text/plain": [
       "0"
      ]
     },
     "metadata": {},
     "execution_count": 90
    }
   ],
   "source": [
    "# Conscious state at randomisation (F - fully alert, D - drowsy, U - unconscious)\n",
    "print(df.RCONSC.describe())\n",
    "\n",
    "df.RCONSC.isnull().sum()"
   ]
  },
  {
   "cell_type": "code",
   "execution_count": 91,
   "metadata": {},
   "outputs": [
    {
     "output_type": "stream",
     "name": "stdout",
     "text": [
      "count     9762\nunique       2\ntop          M\nfreq      5261\nName: SEX, dtype: object\n"
     ]
    },
    {
     "output_type": "execute_result",
     "data": {
      "text/plain": [
       "0"
      ]
     },
     "metadata": {},
     "execution_count": 91
    }
   ],
   "source": [
    "print(df.SEX.describe())\n",
    "\n",
    "df.SEX.isnull().sum()"
   ]
  },
  {
   "cell_type": "code",
   "execution_count": 92,
   "metadata": {},
   "outputs": [
    {
     "output_type": "stream",
     "name": "stdout",
     "text": [
      "count     9762\nunique      78\ntop         74\nfreq       430\nName: AGE, dtype: object\n"
     ]
    },
    {
     "output_type": "execute_result",
     "data": {
      "text/plain": [
       "0"
      ]
     },
     "metadata": {},
     "execution_count": 92
    }
   ],
   "source": [
    "print(df.AGE.describe())\n",
    "\n",
    "df.AGE.isnull().sum()"
   ]
  },
  {
   "cell_type": "code",
   "execution_count": 93,
   "metadata": {},
   "outputs": [
    {
     "output_type": "stream",
     "name": "stdout",
     "text": [
      "count     9762\nunique       2\ntop          N\nfreq      6909\nName: RSLEEP, dtype: object\n"
     ]
    },
    {
     "output_type": "execute_result",
     "data": {
      "text/plain": [
       "0"
      ]
     },
     "metadata": {},
     "execution_count": 93
    }
   ],
   "source": [
    "# Symptoms noted on waking (Y/N)\n",
    "print(df.RSLEEP.describe())\n",
    "\n",
    "df.RSLEEP.isnull().sum()"
   ]
  },
  {
   "cell_type": "code",
   "execution_count": 94,
   "metadata": {},
   "outputs": [
    {
     "output_type": "stream",
     "name": "stdout",
     "text": [
      "count     9278\nunique       2\ntop          N\nfreq      7718\nName: RATRIAL, dtype: object\n"
     ]
    },
    {
     "output_type": "execute_result",
     "data": {
      "text/plain": [
       "484"
      ]
     },
     "metadata": {},
     "execution_count": 94
    }
   ],
   "source": [
    "# Atrial fibrillation (Y/N); not coded for pilot phase - 484 patients (984)\n",
    "# Atrial fibrillation (AF or A-fib) is an abnormal heart rhythm (arrhythmia) characterized by the rapid and irregular beating of the atrial chambers of the heart.\n",
    "\n",
    "print(df.RATRIAL.describe())\n",
    "\n",
    "df.RATRIAL.isnull().sum()"
   ]
  },
  {
   "cell_type": "code",
   "execution_count": 96,
   "metadata": {},
   "outputs": [
    {
     "output_type": "stream",
     "name": "stdout",
     "text": [
      "count     9762\nunique       2\ntop          Y\nfreq      6492\nName: RCT, dtype: object\n"
     ]
    },
    {
     "output_type": "execute_result",
     "data": {
      "text/plain": [
       "0"
      ]
     },
     "metadata": {},
     "execution_count": 96
    }
   ],
   "source": [
    "# CT before randomistion (Y/N)\n",
    "print(df.RCT.describe())\n",
    "\n",
    "df.RCT.isnull().sum()"
   ]
  },
  {
   "cell_type": "code",
   "execution_count": 97,
   "metadata": {},
   "outputs": [
    {
     "output_type": "stream",
     "name": "stdout",
     "text": [
      "count     9762\nunique       2\ntop          N\nfreq      6590\nName: RVISINF, dtype: object\n"
     ]
    },
    {
     "output_type": "execute_result",
     "data": {
      "text/plain": [
       "0"
      ]
     },
     "metadata": {},
     "execution_count": 97
    }
   ],
   "source": [
    "# Infarct visible on CT (Y/N)\n",
    "print(df.RVISINF.describe())\n",
    "\n",
    "df.RVISINF.isnull().sum()"
   ]
  },
  {
   "cell_type": "code",
   "execution_count": 98,
   "metadata": {},
   "outputs": [
    {
     "output_type": "stream",
     "name": "stdout",
     "text": [
      "count     9587\nunique       2\ntop          N\nfreq      9367\nName: RHEP24, dtype: object\n"
     ]
    },
    {
     "output_type": "execute_result",
     "data": {
      "text/plain": [
       "175"
      ]
     },
     "metadata": {},
     "execution_count": 98
    }
   ],
   "source": [
    "# Heparin within 24 hours prior to randomisation (Y/N)\n",
    "print(df.RHEP24.describe())\n",
    "\n",
    "df.RHEP24.isnull().sum()"
   ]
  },
  {
   "cell_type": "code",
   "execution_count": 99,
   "metadata": {},
   "outputs": [
    {
     "output_type": "stream",
     "name": "stdout",
     "text": [
      "count     9278\nunique       2\ntop          N\nfreq      7312\nName: RASP3, dtype: object\n"
     ]
    },
    {
     "output_type": "execute_result",
     "data": {
      "text/plain": [
       "484"
      ]
     },
     "metadata": {},
     "execution_count": 99
    }
   ],
   "source": [
    "# Aspirin within 3 days prior to randomisation (Y/N)\n",
    "print(df.RASP3.describe())\n",
    "\n",
    "df.RASP3.isnull().sum()"
   ]
  },
  {
   "cell_type": "code",
   "execution_count": 100,
   "metadata": {},
   "outputs": [
    {
     "output_type": "stream",
     "name": "stdout",
     "text": [
      "count     9762\nunique     141\ntop        160\nfreq      1246\nName: RSBP, dtype: object\n"
     ]
    },
    {
     "output_type": "execute_result",
     "data": {
      "text/plain": [
       "0"
      ]
     },
     "metadata": {},
     "execution_count": 100
    }
   ],
   "source": [
    "# Systolic blood pressure at randomisation (mmHg)\n",
    "print(df.RSBP.describe())\n",
    "\n",
    "df.RSBP.isnull().sum()"
   ]
  },
  {
   "cell_type": "code",
   "execution_count": 101,
   "metadata": {},
   "outputs": [
    {
     "output_type": "stream",
     "name": "stdout",
     "text": [
      "count     9762\nunique       3\ntop          Y\nfreq      7060\nName: RDEF1, dtype: object\n"
     ]
    },
    {
     "output_type": "execute_result",
     "data": {
      "text/plain": [
       "0"
      ]
     },
     "metadata": {},
     "execution_count": 101
    }
   ],
   "source": [
    "# Face deficit (Y/N/C=can't assess)\n",
    "print(df.RDEF1.describe())\n",
    "\n",
    "df.RDEF1.isnull().sum()"
   ]
  },
  {
   "cell_type": "code",
   "execution_count": 102,
   "metadata": {},
   "outputs": [
    {
     "output_type": "stream",
     "name": "stdout",
     "text": [
      "count     9762\nunique       3\ntop          Y\nfreq      8314\nName: RDEF2, dtype: object\n"
     ]
    },
    {
     "output_type": "execute_result",
     "data": {
      "text/plain": [
       "0"
      ]
     },
     "metadata": {},
     "execution_count": 102
    }
   ],
   "source": [
    "# Arm/hand deficit (Y/N/C=can't assess)\n",
    "print(df.RDEF2.describe())\n",
    "\n",
    "df.RDEF2.isnull().sum()"
   ]
  },
  {
   "cell_type": "code",
   "execution_count": 103,
   "metadata": {},
   "outputs": [
    {
     "output_type": "stream",
     "name": "stdout",
     "text": [
      "count     9762\nunique       3\ntop          Y\nfreq      7304\nName: RDEF3, dtype: object\n"
     ]
    },
    {
     "output_type": "execute_result",
     "data": {
      "text/plain": [
       "0"
      ]
     },
     "metadata": {},
     "execution_count": 103
    }
   ],
   "source": [
    "# Leg/foot deficit (Y/N/C=can't assess)\n",
    "print(df.RDEF3.describe())\n",
    "\n",
    "df.RDEF3.isnull().sum()"
   ]
  },
  {
   "cell_type": "code",
   "execution_count": 104,
   "metadata": {},
   "outputs": [
    {
     "output_type": "stream",
     "name": "stdout",
     "text": [
      "count     9762\nunique       3\ntop          N\nfreq      5177\nName: RDEF4, dtype: object\n"
     ]
    },
    {
     "output_type": "execute_result",
     "data": {
      "text/plain": [
       "0"
      ]
     },
     "metadata": {},
     "execution_count": 104
    }
   ],
   "source": [
    "#Dysphasia (Y/N/C=can't assess)\n",
    "# Dysphasia is a partial or complete impairment of the ability to communicate resulting from brain injury.\n",
    "print(df.RDEF4.describe())\n",
    "\n",
    "df.RDEF4.isnull().sum()"
   ]
  },
  {
   "cell_type": "code",
   "execution_count": 105,
   "metadata": {},
   "outputs": [
    {
     "output_type": "stream",
     "name": "stdout",
     "text": [
      "count     9762\nunique       3\ntop          N\nfreq      6243\nName: RDEF5, dtype: object\n"
     ]
    },
    {
     "output_type": "execute_result",
     "data": {
      "text/plain": [
       "0"
      ]
     },
     "metadata": {},
     "execution_count": 105
    }
   ],
   "source": [
    "# Hemianopia (Y/N/C=can't assess)\n",
    "# defective vision or blindness in half of the visual field; usually applied to bilateral defects caused by a single lesion.\n",
    "print(df.RDEF5.describe())\n",
    "\n",
    "df.RDEF5.isnull().sum()"
   ]
  },
  {
   "cell_type": "code",
   "execution_count": 106,
   "metadata": {},
   "outputs": [
    {
     "output_type": "stream",
     "name": "stdout",
     "text": [
      "count     9762\nunique       3\ntop          N\nfreq      6469\nName: RDEF6, dtype: object\n"
     ]
    },
    {
     "output_type": "execute_result",
     "data": {
      "text/plain": [
       "0"
      ]
     },
     "metadata": {},
     "execution_count": 106
    }
   ],
   "source": [
    "# Visuospatial disorder (Y/N/C=can't assess)\n",
    "# pertaining to visual perception of spatial relationships.\n",
    "print(df.RDEF6.describe())\n",
    "\n",
    "df.RDEF6.isnull().sum()"
   ]
  },
  {
   "cell_type": "code",
   "execution_count": 107,
   "metadata": {},
   "outputs": [
    {
     "output_type": "stream",
     "name": "stdout",
     "text": [
      "count     9762\nunique       3\ntop          N\nfreq      7860\nName: RDEF7, dtype: object\n"
     ]
    },
    {
     "output_type": "execute_result",
     "data": {
      "text/plain": [
       "0"
      ]
     },
     "metadata": {},
     "execution_count": 107
    }
   ],
   "source": [
    "# Brainstem/cerebellar signs (Y/N/C=can't assess)\n",
    "# A cerebellar stroke is one of the less common types of strokes. It occurs when a blood vessel is blocked or bleeding, causing complete interruption to a portion of the cerebellum.\n",
    "#  brainstem - The central stalk-like axis of the lower CNS, which connects the brain with the spinal cord.\n",
    "#  cerebellum - The smaller sub-brain lying below and behind the CEREBRUM. \n",
    "# The cerebellum is the portion of the brain that controls movement and maintains balance\n",
    " \n",
    "print(df.RDEF7.describe())\n",
    "\n",
    "df.RDEF7.isnull().sum()"
   ]
  },
  {
   "cell_type": "code",
   "execution_count": 108,
   "metadata": {},
   "outputs": [
    {
     "output_type": "stream",
     "name": "stdout",
     "text": [
      "count     9762\nunique       3\ntop          N\nfreq      8481\nName: RDEF8, dtype: object\n"
     ]
    },
    {
     "output_type": "execute_result",
     "data": {
      "text/plain": [
       "0"
      ]
     },
     "metadata": {},
     "execution_count": 108
    }
   ],
   "source": [
    "# Other deficit (Y/N/C=can't assess)\n",
    "print(df.RDEF8.describe())\n",
    "\n",
    "df.RDEF8.isnull().sum()"
   ]
  },
  {
   "cell_type": "code",
   "execution_count": 109,
   "metadata": {},
   "outputs": [
    {
     "output_type": "stream",
     "name": "stdout",
     "text": [
      "count     9762\nunique       5\ntop       PACS\nfreq      3976\nName: STYPE, dtype: object\n"
     ]
    },
    {
     "output_type": "execute_result",
     "data": {
      "text/plain": [
       "0"
      ]
     },
     "metadata": {},
     "execution_count": 109
    }
   ],
   "source": [
    "# Stroke subtype (TACS/PACS/POCS/LACS/other\n",
    "# The deficits were classified as one of the Oxfordshire Community Stroke Project (OCSP) categories: total anterior circulation syndrome (TACS), partial anterior circulation syndrome (PACS), posterior circulation syndrome (POCS) and lacunar syndrome (LACS).\n",
    "# https://en.wikipedia.org/wiki/Total_anterior_circulation_infarct\n",
    "# https://en.wikipedia.org/wiki/Partial_anterior_circulation_infarct\n",
    "# https://en.wikipedia.org/wiki/Posterior_circulation_infarct\n",
    "# https://en.wikipedia.org/wiki/Lacunar_stroke\n",
    "\n",
    "print(df.STYPE.describe())\n",
    "\n",
    "df.STYPE.isnull().sum()"
   ]
  },
  {
   "cell_type": "code",
   "execution_count": 113,
   "metadata": {},
   "outputs": [
    {
     "output_type": "stream",
     "name": "stdout",
     "text": [
      "count     9762\nunique       2\ntop          Y\nfreq      4918\nName: RXASP, dtype: object\n"
     ]
    },
    {
     "output_type": "execute_result",
     "data": {
      "text/plain": [
       "0"
      ]
     },
     "metadata": {},
     "execution_count": 113
    }
   ],
   "source": [
    "# Trial aspirin allocated (Y/N)\n",
    "\n",
    "print(df.RXASP.describe())\n",
    "\n",
    "df.RXASP.isnull().sum()"
   ]
  },
  {
   "cell_type": "code",
   "execution_count": 114,
   "metadata": {},
   "outputs": [
    {
     "output_type": "stream",
     "name": "stdout",
     "text": [
      "count     9762\nunique       4\ntop          N\nfreq      4899\nName: RXHEP, dtype: object\n"
     ]
    },
    {
     "output_type": "execute_result",
     "data": {
      "text/plain": [
       "0"
      ]
     },
     "metadata": {},
     "execution_count": 114
    }
   ],
   "source": [
    "# Trial heparin allocated (M/L/N) [M is coded as H=high in pilot]\n",
    "\n",
    "print(df.RXHEP.describe())\n",
    "\n",
    "df.RXHEP.isnull().sum()"
   ]
  },
  {
   "source": [
    "Data collected on 14 day/discharge form about treatments given in hospital"
   ],
   "cell_type": "markdown",
   "metadata": {}
  },
  {
   "cell_type": "code",
   "execution_count": 115,
   "metadata": {},
   "outputs": [
    {
     "output_type": "stream",
     "name": "stdout",
     "text": [
      "count     9750\nunique       5\ntop          N\nfreq      5142\nName: DASP14, dtype: object\n"
     ]
    },
    {
     "output_type": "execute_result",
     "data": {
      "text/plain": [
       "12"
      ]
     },
     "metadata": {},
     "execution_count": 115
    }
   ],
   "source": [
    "# Aspirin given for 14 days or till death or discharge (Y/N)\n",
    "\n",
    "print(df.DASP14.describe())\n",
    "\n",
    "df.DASP14.isnull().sum()"
   ]
  },
  {
   "cell_type": "code",
   "execution_count": 116,
   "metadata": {},
   "outputs": [
    {
     "output_type": "stream",
     "name": "stdout",
     "text": [
      "count     9681\nunique       3\ntop          Y\nfreq      5798\nName: DASPLT, dtype: object\n"
     ]
    },
    {
     "output_type": "execute_result",
     "data": {
      "text/plain": [
       "81"
      ]
     },
     "metadata": {},
     "execution_count": 116
    }
   ],
   "source": [
    "# Discharged on long term aspirin (Y/N)\n",
    "\n",
    "print(df.DASPLT.describe())\n",
    "\n",
    "df.DASPLT.isnull().sum()"
   ]
  },
  {
   "cell_type": "code",
   "execution_count": 117,
   "metadata": {},
   "outputs": [
    {
     "output_type": "stream",
     "name": "stdout",
     "text": [
      "count     9748\nunique       3\ntop          N\nfreq      7461\nName: DLH14, dtype: object\n"
     ]
    },
    {
     "output_type": "execute_result",
     "data": {
      "text/plain": [
       "14"
      ]
     },
     "metadata": {},
     "execution_count": 117
    }
   ],
   "source": [
    "# Low dose heparin given for 14 days or till death/discharge (Y/N)\n",
    "print(df.DLH14.describe())\n",
    "\n",
    "df.DLH14.isnull().sum()"
   ]
  },
  {
   "cell_type": "code",
   "execution_count": 118,
   "metadata": {},
   "outputs": [
    {
     "output_type": "stream",
     "name": "stdout",
     "text": [
      "count     9264\nunique       3\ntop          N\nfreq      7202\nName: DMH14, dtype: object\n"
     ]
    },
    {
     "output_type": "execute_result",
     "data": {
      "text/plain": [
       "498"
      ]
     },
     "metadata": {},
     "execution_count": 118
    }
   ],
   "source": [
    "# Medium dose heparin given for 14 days or till death/discharge (Y/N)\n",
    "print(df.DMH14.describe())\n",
    "\n",
    "df.DMH14.isnull().sum()"
   ]
  },
  {
   "cell_type": "code",
   "execution_count": 119,
   "metadata": {},
   "outputs": [
    {
     "output_type": "stream",
     "name": "stdout",
     "text": [
      "count     484\nunique      2\ntop         N\nfreq      393\nName: DHH14, dtype: object\n"
     ]
    },
    {
     "output_type": "execute_result",
     "data": {
      "text/plain": [
       "9278"
      ]
     },
     "metadata": {},
     "execution_count": 119
    }
   ],
   "source": [
    "# Medium dose heparin given for 14 days etc in pilot (combine with above)\n",
    "print(df.DHH14.describe())\n",
    "\n",
    "df.DHH14.isnull().sum()"
   ]
  },
  {
   "cell_type": "code",
   "execution_count": 120,
   "metadata": {},
   "outputs": [
    {
     "output_type": "stream",
     "name": "stdout",
     "text": [
      "count     9762\nunique      15\ntop         14\nfreq      5102\nName: ONDRUG, dtype: object\n"
     ]
    },
    {
     "output_type": "execute_result",
     "data": {
      "text/plain": [
       "0"
      ]
     },
     "metadata": {},
     "execution_count": 120
    }
   ],
   "source": [
    "# Estimate of time in days on trial treatment\n",
    "print(df.ONDRUG.describe())\n",
    "\n",
    "df.ONDRUG.isnull().sum()"
   ]
  },
  {
   "cell_type": "code",
   "execution_count": 121,
   "metadata": {},
   "outputs": [
    {
     "output_type": "stream",
     "name": "stdout",
     "text": [
      "count     9610\nunique       3\ntop          N\nfreq      9364\nName: DSCH, dtype: object\n"
     ]
    },
    {
     "output_type": "execute_result",
     "data": {
      "text/plain": [
       "152"
      ]
     },
     "metadata": {},
     "execution_count": 121
    }
   ],
   "source": [
    "#Non trial subcutaneous heparin (Y/N)\n",
    "\n",
    "print(df.DSCH.describe())\n",
    "\n",
    "df.DSCH.isnull().sum()"
   ]
  },
  {
   "cell_type": "code",
   "execution_count": 122,
   "metadata": {},
   "outputs": [
    {
     "output_type": "stream",
     "name": "stdout",
     "text": [
      "count     9610\nunique       3\ntop          N\nfreq      9417\nName: DIVH, dtype: object\n"
     ]
    },
    {
     "output_type": "execute_result",
     "data": {
      "text/plain": [
       "152"
      ]
     },
     "metadata": {},
     "execution_count": 122
    }
   ],
   "source": [
    "# Non trial intravenous heparin (Y/N)\n",
    "\n",
    "print(df.DIVH.describe())\n",
    "\n",
    "df.DIVH.isnull().sum()"
   ]
  },
  {
   "cell_type": "code",
   "execution_count": 123,
   "metadata": {},
   "outputs": [
    {
     "output_type": "stream",
     "name": "stdout",
     "text": [
      "count     9751\nunique       3\ntop          N\nfreq      9361\nName: DAP, dtype: object\n"
     ]
    },
    {
     "output_type": "execute_result",
     "data": {
      "text/plain": [
       "11"
      ]
     },
     "metadata": {},
     "execution_count": 123
    }
   ],
   "source": [
    "# Non trial antiplatelet drug (Y/N)\n",
    "\n",
    "print(df.DAP.describe())\n",
    "\n",
    "df.DAP.isnull().sum()"
   ]
  },
  {
   "cell_type": "code",
   "execution_count": 124,
   "metadata": {},
   "outputs": [
    {
     "output_type": "stream",
     "name": "stdout",
     "text": [
      "count     9751\nunique       3\ntop          N\nfreq      9424\nName: DOAC, dtype: object\n"
     ]
    },
    {
     "output_type": "execute_result",
     "data": {
      "text/plain": [
       "11"
      ]
     },
     "metadata": {},
     "execution_count": 124
    }
   ],
   "source": [
    "# Other anticoagulants (Y/N)\n",
    "\n",
    "print(df.DOAC.describe())\n",
    "\n",
    "df.DOAC.isnull().sum()"
   ]
  },
  {
   "cell_type": "code",
   "execution_count": 125,
   "metadata": {},
   "outputs": [
    {
     "output_type": "stream",
     "name": "stdout",
     "text": [
      "count     9747\nunique       3\ntop          N\nfreq      8686\nName: DGORM, dtype: object\n"
     ]
    },
    {
     "output_type": "execute_result",
     "data": {
      "text/plain": [
       "15"
      ]
     },
     "metadata": {},
     "execution_count": 125
    }
   ],
   "source": [
    "# Glycerol or manitol (Y/N)\n",
    "\n",
    "print(df.DGORM.describe())\n",
    "\n",
    "df.DGORM.isnull().sum()"
   ]
  },
  {
   "cell_type": "code",
   "execution_count": 126,
   "metadata": {},
   "outputs": [
    {
     "output_type": "stream",
     "name": "stdout",
     "text": [
      "count     9746\nunique       3\ntop          N\nfreq      9378\nName: DSTER, dtype: object\n"
     ]
    },
    {
     "output_type": "execute_result",
     "data": {
      "text/plain": [
       "16"
      ]
     },
     "metadata": {},
     "execution_count": 126
    }
   ],
   "source": [
    "# Steroids (Y/N)\n",
    "\n",
    "print(df.DSTER.describe())\n",
    "\n",
    "df.DSTER.isnull().sum()"
   ]
  },
  {
   "cell_type": "code",
   "execution_count": 127,
   "metadata": {},
   "outputs": [
    {
     "output_type": "stream",
     "name": "stdout",
     "text": [
      "count     9745\nunique       3\ntop          N\nfreq      8655\nName: DCAA, dtype: object\n"
     ]
    },
    {
     "output_type": "execute_result",
     "data": {
      "text/plain": [
       "17"
      ]
     },
     "metadata": {},
     "execution_count": 127
    }
   ],
   "source": [
    "# Calcium antagonists (Y/N)\n",
    "\n",
    "print(df.DCAA.describe())\n",
    "\n",
    "df.DCAA.isnull().sum()"
   ]
  },
  {
   "cell_type": "code",
   "execution_count": 128,
   "metadata": {},
   "outputs": [
    {
     "output_type": "stream",
     "name": "stdout",
     "text": [
      "count     9746\nunique       3\ntop          N\nfreq      9449\nName: DHAEMD, dtype: object\n"
     ]
    },
    {
     "output_type": "execute_result",
     "data": {
      "text/plain": [
       "16"
      ]
     },
     "metadata": {},
     "execution_count": 128
    }
   ],
   "source": [
    "# Haemodilution (Y/N)\n",
    "\n",
    "print(df.DHAEMD.describe())\n",
    "\n",
    "df.DHAEMD.isnull().sum()"
   ]
  },
  {
   "cell_type": "code",
   "execution_count": 130,
   "metadata": {},
   "outputs": [
    {
     "output_type": "stream",
     "name": "stdout",
     "text": [
      "count     9264\nunique       3\ntop          N\nfreq      9226\nName: DCAREND, dtype: object\n"
     ]
    },
    {
     "output_type": "execute_result",
     "data": {
      "text/plain": [
       "498"
      ]
     },
     "metadata": {},
     "execution_count": 130
    }
   ],
   "source": [
    "# Carotid surgery (Y/N)\n",
    "# Carotid artery stenosis is a narrowing or constriction of any part of the carotid arteries\n",
    "\n",
    "print(df.DCAREND.describe())\n",
    "\n",
    "df.DCAREND.isnull().sum()"
   ]
  },
  {
   "cell_type": "code",
   "execution_count": null,
   "metadata": {},
   "outputs": [],
   "source": [
    "# Thrombolysis (Y/N)\n",
    "# Thrombolysis, also called fibrinolytic therapy, is the breakdown (lysis) of blood clots formed in blood vessels, using medication.\n",
    "\n",
    "print(df.DTHROMB.describe())\n",
    "\n",
    "df.DTHROMB.isnull().sum()"
   ]
  },
  {
   "cell_type": "code",
   "execution_count": 131,
   "metadata": {},
   "outputs": [
    {
     "output_type": "stream",
     "name": "stdout",
     "text": [
      "count     9754\nunique       3\ntop          N\nfreq      9674\nName: DMAJNCH, dtype: object\n"
     ]
    },
    {
     "output_type": "execute_result",
     "data": {
      "text/plain": [
       "8"
      ]
     },
     "metadata": {},
     "execution_count": 131
    }
   ],
   "source": [
    "# Major non-cerebral haemorrhage (Y/N)\n",
    "# DMAJNCHD - Date of above (yyyy/mm/dd)\n",
    "# DMAJNCHX - Comment on above\n",
    "\n",
    "print(df.DMAJNCH.describe())\n",
    "\n",
    "df.DMAJNCH.isnull().sum()"
   ]
  },
  {
   "cell_type": "code",
   "execution_count": 132,
   "metadata": {},
   "outputs": [
    {
     "output_type": "stream",
     "name": "stdout",
     "text": [
      "count     9754\nunique       3\ntop          N\nfreq      9426\nName: DSIDE, dtype: object\n"
     ]
    },
    {
     "output_type": "execute_result",
     "data": {
      "text/plain": [
       "8"
      ]
     },
     "metadata": {},
     "execution_count": 132
    }
   ],
   "source": [
    "# Other side effect (Y/N)\n",
    "#DSIDED - Date of above (yyyy/mm/dd)\n",
    "# DSIDEX - Comment on above\n",
    "\n",
    "print(df.DSIDE.describe())\n",
    "\n",
    "df.DSIDE.isnull().sum()"
   ]
  },
  {
   "source": [
    "Final diagnosis of initial event"
   ],
   "cell_type": "markdown",
   "metadata": {}
  },
  {
   "cell_type": "code",
   "execution_count": 133,
   "metadata": {},
   "outputs": [
    {
     "output_type": "stream",
     "name": "stdout",
     "text": [
      "count     9750\nunique       4\ntop          Y\nfreq      8748\nName: DDIAGISC, dtype: object\n"
     ]
    },
    {
     "output_type": "execute_result",
     "data": {
      "text/plain": [
       "12"
      ]
     },
     "metadata": {},
     "execution_count": 133
    }
   ],
   "source": [
    "# Ischaemic stroke\n",
    "# https://en.wikipedia.org/wiki/Cerebral_infarction\n",
    "\n",
    "print(df.DDIAGISC.describe())\n",
    "\n",
    "df.DDIAGISC.isnull().sum()"
   ]
  },
  {
   "cell_type": "code",
   "execution_count": 134,
   "metadata": {},
   "outputs": [
    {
     "output_type": "stream",
     "name": "stdout",
     "text": [
      "count     9750\nunique       3\ntop          N\nfreq      9439\nName: DDIAGHA, dtype: object\n"
     ]
    },
    {
     "output_type": "execute_result",
     "data": {
      "text/plain": [
       "12"
      ]
     },
     "metadata": {},
     "execution_count": 134
    }
   ],
   "source": [
    "# Haemorrhagic stroke\n",
    "# https://en.wikipedia.org/wiki/Intracerebral_hemorrhage\n",
    "\n",
    "print(df.DDIAGHA.describe())\n",
    "\n",
    "df.DDIAGHA.isnull().sum()"
   ]
  },
  {
   "cell_type": "code",
   "execution_count": 135,
   "metadata": {},
   "outputs": [
    {
     "output_type": "stream",
     "name": "stdout",
     "text": [
      "count     9752\nunique       3\ntop          N\nfreq      9259\nName: DDIAGUN, dtype: object\n"
     ]
    },
    {
     "output_type": "execute_result",
     "data": {
      "text/plain": [
       "10"
      ]
     },
     "metadata": {},
     "execution_count": 135
    }
   ],
   "source": [
    "# Indeterminate stroke\n",
    "\n",
    "print(df.DDIAGUN.describe())\n",
    "\n",
    "df.DDIAGUN.isnull().sum()"
   ]
  },
  {
   "cell_type": "code",
   "execution_count": 136,
   "metadata": {},
   "outputs": [
    {
     "output_type": "stream",
     "name": "stdout",
     "text": [
      "count     9750\nunique       3\ntop          N\nfreq      9549\nName: DNOSTRK, dtype: object\n"
     ]
    },
    {
     "output_type": "execute_result",
     "data": {
      "text/plain": [
       "12"
      ]
     },
     "metadata": {},
     "execution_count": 136
    }
   ],
   "source": [
    "# Not a stroke\n",
    "# DNOSTRKX - Comment on above\n",
    "\n",
    "print(df.DNOSTRK.describe())\n",
    "\n",
    "df.DNOSTRK.isnull().sum()"
   ]
  },
  {
   "source": [
    "Recurrent stroke within 14 days"
   ],
   "cell_type": "markdown",
   "metadata": {}
  },
  {
   "cell_type": "code",
   "execution_count": 137,
   "metadata": {},
   "outputs": [
    {
     "output_type": "stream",
     "name": "stdout",
     "text": [
      "count     9751\nunique       3\ntop          N\nfreq      9542\nName: DRSISC, dtype: object\n"
     ]
    },
    {
     "output_type": "execute_result",
     "data": {
      "text/plain": [
       "11"
      ]
     },
     "metadata": {},
     "execution_count": 137
    }
   ],
   "source": [
    "# Ischaemic recurrent stroke\n",
    "# DRSISCD - Date of above (yyyy/mm/dd)\n",
    "\n",
    "print(df.DRSISC.describe())\n",
    "\n",
    "df.DRSISC.isnull().sum()"
   ]
  },
  {
   "cell_type": "code",
   "execution_count": 138,
   "metadata": {},
   "outputs": [
    {
     "output_type": "stream",
     "name": "stdout",
     "text": [
      "count     9754\nunique       3\ntop          N\nfreq      9698\nName: DRSH, dtype: object\n"
     ]
    },
    {
     "output_type": "execute_result",
     "data": {
      "text/plain": [
       "8"
      ]
     },
     "metadata": {},
     "execution_count": 138
    }
   ],
   "source": [
    "# Unknown type\n",
    "# DRSUNKD - Date of above (yyyy/mm/dd)\n",
    "\n",
    "print(df.DRSUNK.describe())\n",
    "\n",
    "df.DRSUNK.isnull().sum()"
   ]
  },
  {
   "cell_type": "code",
   "execution_count": 139,
   "metadata": {},
   "outputs": [
    {
     "output_type": "stream",
     "name": "stdout",
     "text": [
      "count     9754\nunique       3\ntop          N\nfreq      9698\nName: DRSH, dtype: object\n"
     ]
    },
    {
     "output_type": "execute_result",
     "data": {
      "text/plain": [
       "8"
      ]
     },
     "metadata": {},
     "execution_count": 139
    }
   ],
   "source": [
    "# Haemorrhagic stroke\n",
    "# DRSHD - Date of above (yyyy/mm/dd)\n",
    "\n",
    "print(df.DRSH.describe())\n",
    "\n",
    "df.DRSH.isnull().sum()"
   ]
  },
  {
   "source": [
    "Other events within 14 days"
   ],
   "cell_type": "markdown",
   "metadata": {}
  },
  {
   "cell_type": "code",
   "execution_count": 140,
   "metadata": {},
   "outputs": [
    {
     "output_type": "stream",
     "name": "stdout",
     "text": [
      "count     9754\nunique       3\ntop          N\nfreq      9684\nName: DPE, dtype: object\n"
     ]
    },
    {
     "output_type": "execute_result",
     "data": {
      "text/plain": [
       "8"
      ]
     },
     "metadata": {},
     "execution_count": 140
    }
   ],
   "source": [
    "# Pulmonary embolism\n",
    "# Pulmonary embolism (PE) is a blockage of an artery in the lungs by a substance that has moved from elsewhere in the body through the bloodstream (embolism).\n",
    "# DPED - Date of above (yyyy/mm/dd)\n",
    "\n",
    "print(df.DPE.describe())\n",
    "\n",
    "df.DPE.isnull().sum()"
   ]
  },
  {
   "cell_type": "code",
   "execution_count": 141,
   "metadata": {},
   "outputs": [
    {
     "output_type": "stream",
     "name": "stdout",
     "text": [
      "count     9745\nunique       3\ntop          Y\nfreq      5163\nName: DALIVE, dtype: object\n"
     ]
    },
    {
     "output_type": "execute_result",
     "data": {
      "text/plain": [
       "17"
      ]
     },
     "metadata": {},
     "execution_count": 141
    }
   ],
   "source": [
    "# Discharged alive from hospital\n",
    "\n",
    "print(df.DALIVE.describe())\n",
    "\n",
    "df.DALIVE.isnull().sum()"
   ]
  },
  {
   "cell_type": "code",
   "execution_count": 142,
   "metadata": {},
   "outputs": [
    {
     "output_type": "stream",
     "name": "stdout",
     "text": [
      "count     5163\nunique     107\ntop         14\nfreq       446\nName: DALIVED, dtype: object\n"
     ]
    },
    {
     "output_type": "execute_result",
     "data": {
      "text/plain": [
       "4599"
      ]
     },
     "metadata": {},
     "execution_count": 142
    }
   ],
   "source": [
    "# Date of above (yyyy/mm/dd)\n",
    "\n",
    "print(df.DALIVED.describe())\n",
    "\n",
    "df.DALIVED.isnull().sum()"
   ]
  },
  {
   "cell_type": "code",
   "execution_count": 143,
   "metadata": {},
   "outputs": [
    {
     "output_type": "stream",
     "name": "stdout",
     "text": [
      "count     4861\nunique       6\ntop          A\nfreq      3553\nName: DPLACE, dtype: object\n"
     ]
    },
    {
     "output_type": "execute_result",
     "data": {
      "text/plain": [
       "4901"
      ]
     },
     "metadata": {},
     "execution_count": 143
    }
   ],
   "source": [
    "# Discharge destination (A-Home/B-Relatives home/C-Residential care/D-Nursing home/E-Other hospital departments/U-Unknown)\n",
    "\n",
    "print(df.DPLACE.describe())\n",
    "\n",
    "df.DPLACE.isnull().sum()"
   ]
  },
  {
   "cell_type": "code",
   "execution_count": 144,
   "metadata": {},
   "outputs": [
    {
     "output_type": "stream",
     "name": "stdout",
     "text": [
      "count     9753\nunique       3\ntop          N\nfreq      8683\nName: DDEAD, dtype: object\n"
     ]
    },
    {
     "output_type": "execute_result",
     "data": {
      "text/plain": [
       "9"
      ]
     },
     "metadata": {},
     "execution_count": 144
    }
   ],
   "source": [
    "# Dead on discharge form\n",
    "\n",
    "print(df.DDEAD.describe())\n",
    "\n",
    "df.DDEAD.isnull().sum()"
   ]
  },
  {
   "cell_type": "code",
   "execution_count": 145,
   "metadata": {},
   "outputs": [
    {
     "output_type": "stream",
     "name": "stdout",
     "text": [
      "count     1068\nunique      60\ntop          1\nfreq       108\nName: DDEADD, dtype: object\n"
     ]
    },
    {
     "output_type": "execute_result",
     "data": {
      "text/plain": [
       "8694"
      ]
     },
     "metadata": {},
     "execution_count": 145
    }
   ],
   "source": [
    "# Date of above (yyyy/mm/dd); NOTE: this death is not necessarily within 14 days of randomisation\n",
    "\n",
    "print(df.DDEADD.describe())\n",
    "\n",
    "df.DDEADD.isnull().sum()"
   ]
  },
  {
   "source": [
    "Data collected at 6 months"
   ],
   "cell_type": "markdown",
   "metadata": {}
  },
  {
   "cell_type": "code",
   "execution_count": 148,
   "metadata": {},
   "outputs": [
    {
     "output_type": "stream",
     "name": "stdout",
     "text": [
      "count     9741\nunique       2\ntop          N\nfreq      7473\nName: FDEAD, dtype: object\n"
     ]
    },
    {
     "output_type": "execute_result",
     "data": {
      "text/plain": [
       "21"
      ]
     },
     "metadata": {},
     "execution_count": 148
    }
   ],
   "source": [
    "# Dead at six month follow-up (Y/N)\n",
    "\n",
    "print(df.FDEAD.describe())\n",
    "\n",
    "df.FDEAD.isnull().sum()"
   ]
  },
  {
   "cell_type": "code",
   "execution_count": 149,
   "metadata": {},
   "outputs": [
    {
     "output_type": "stream",
     "name": "stdout",
     "text": [
      "count       0\nunique      0\ntop       NaN\nfreq      NaN\nName: FLASTD, dtype: object\n"
     ]
    },
    {
     "output_type": "execute_result",
     "data": {
      "text/plain": [
       "9762"
      ]
     },
     "metadata": {},
     "execution_count": 149
    }
   ],
   "source": [
    "# Date of last contact\n",
    "\n",
    "print(df.FLASTD.describe())\n",
    "\n",
    "df.FLASTD.isnull().sum()"
   ]
  },
  {
   "cell_type": "code",
   "execution_count": 150,
   "metadata": {},
   "outputs": [
    {
     "output_type": "stream",
     "name": "stdout",
     "text": [
      "count     2258\nunique     228\ntop          1\nfreq       110\nName: FDEADD, dtype: object\n"
     ]
    },
    {
     "output_type": "execute_result",
     "data": {
      "text/plain": [
       "7504"
      ]
     },
     "metadata": {},
     "execution_count": 150
    }
   ],
   "source": [
    "# Date of death; NOTE: this death is not necessarily within 6 months of  randomisation\n",
    "\n",
    "print(df.FDEADD.describe())\n",
    "\n",
    "df.FDEADD.isnull().sum()"
   ]
  },
  {
   "cell_type": "code",
   "execution_count": 151,
   "metadata": {},
   "outputs": [
    {
     "output_type": "stream",
     "name": "stdout",
     "text": [
      "count     2266\nunique       9\ntop          1\nfreq       797\nName: FDEADC, dtype: object\n"
     ]
    },
    {
     "output_type": "execute_result",
     "data": {
      "text/plain": [
       "7496"
      ]
     },
     "metadata": {},
     "execution_count": 151
    }
   ],
   "source": [
    "# Cause of death (1-Initial stroke/2-Recurrent stroke (ischaemic or unknown)/3-Recurrent stroke (haemorrhagic)/4-Pneumonia/5-Coronary heart disease/6-Pulmonary embolism/7-Other vascular or unknown/8-Non-vascular/0-unknown)\n",
    "\n",
    "# FDEADX - comment on death\n",
    "\n",
    "print(df.FDEADC.describe())\n",
    "\n",
    "df.FDEADC.isnull().sum()"
   ]
  },
  {
   "cell_type": "code",
   "execution_count": 152,
   "metadata": {},
   "outputs": [
    {
     "output_type": "stream",
     "name": "stdout",
     "text": [
      "count     7511\nunique       3\ntop          N\nfreq      5507\nName: FRECOVER, dtype: object\n"
     ]
    },
    {
     "output_type": "execute_result",
     "data": {
      "text/plain": [
       "2251"
      ]
     },
     "metadata": {},
     "execution_count": 152
    }
   ],
   "source": [
    "# Fully recovered at 6 month follow-up (Y/N)\n",
    "\n",
    "print(df.FRECOVER.describe())\n",
    "\n",
    "df.FRECOVER.isnull().sum()"
   ]
  },
  {
   "cell_type": "code",
   "execution_count": 153,
   "metadata": {},
   "outputs": [
    {
     "output_type": "stream",
     "name": "stdout",
     "text": [
      "count     7475\nunique       3\ntop          Y\nfreq      3819\nName: FDENNIS, dtype: object\n"
     ]
    },
    {
     "output_type": "execute_result",
     "data": {
      "text/plain": [
       "2287"
      ]
     },
     "metadata": {},
     "execution_count": 153
    }
   ],
   "source": [
    "# Dependent at 6 month follow-up (Y/N)\n",
    "\n",
    "print(df.FDENNIS.describe())\n",
    "\n",
    "df.FDENNIS.isnull().sum()"
   ]
  },
  {
   "cell_type": "code",
   "execution_count": 154,
   "metadata": {},
   "outputs": [
    {
     "output_type": "stream",
     "name": "stdout",
     "text": [
      "count     7474\nunique       6\ntop          A\nfreq      5873\nName: FPLACE, dtype: object\n"
     ]
    },
    {
     "output_type": "execute_result",
     "data": {
      "text/plain": [
       "2288"
      ]
     },
     "metadata": {},
     "execution_count": 154
    }
   ],
   "source": [
    "# Place of residance at 6 month follow-up (A-Home/B-Relatives home/C-Residential care/D-Nursing home/E-Other hospital departments/U-Unknown)\n",
    "\n",
    "print(df.FPLACE.describe())\n",
    "\n",
    "df.FPLACE.isnull().sum()"
   ]
  },
  {
   "cell_type": "code",
   "execution_count": 155,
   "metadata": {},
   "outputs": [
    {
     "output_type": "stream",
     "name": "stdout",
     "text": [
      "count     7439\nunique       4\ntop          Y\nfreq      5249\nName: FAP, dtype: object\n"
     ]
    },
    {
     "output_type": "execute_result",
     "data": {
      "text/plain": [
       "2323"
      ]
     },
     "metadata": {},
     "execution_count": 155
    }
   ],
   "source": [
    "# On antiplatelet drugs\n",
    "\n",
    "print(df.FAP.describe())\n",
    "\n",
    "df.FAP.isnull().sum()"
   ]
  },
  {
   "source": [
    "Other data and derived variables"
   ],
   "cell_type": "markdown",
   "metadata": {}
  },
  {
   "cell_type": "code",
   "execution_count": 157,
   "metadata": {},
   "outputs": [
    {
     "output_type": "stream",
     "name": "stdout",
     "text": [
      "count     9755\nunique     322\ntop         21\nfreq       360\nName: FU1_RECD, dtype: object\n"
     ]
    },
    {
     "output_type": "execute_result",
     "data": {
      "text/plain": [
       "7"
      ]
     },
     "metadata": {},
     "execution_count": 157
    }
   ],
   "source": [
    "# Date discharge form received\n",
    "\n",
    "print(df.FU1_RECD.describe())\n",
    "\n",
    "df.FU1_RECD.isnull().sum()"
   ]
  },
  {
   "cell_type": "code",
   "execution_count": 158,
   "metadata": {},
   "outputs": [
    {
     "output_type": "stream",
     "name": "stdout",
     "text": [
      "count     9742\nunique     452\ntop        183\nfreq       245\nName: FU2_DONE, dtype: object\n"
     ]
    },
    {
     "output_type": "execute_result",
     "data": {
      "text/plain": [
       "20"
      ]
     },
     "metadata": {},
     "execution_count": 158
    }
   ],
   "source": [
    "# Date 6 month follow-up done\n",
    "\n",
    "print(df.FU2_DONE.describe())\n",
    "\n",
    "df.FU2_DONE.isnull().sum()"
   ]
  },
  {
   "cell_type": "code",
   "execution_count": 159,
   "metadata": {},
   "outputs": [
    {
     "output_type": "stream",
     "name": "stdout",
     "text": [
      "count     9520\nunique     301\ntop         14\nfreq      1603\nName: FU1_COMP, dtype: object\n"
     ]
    },
    {
     "output_type": "execute_result",
     "data": {
      "text/plain": [
       "242"
      ]
     },
     "metadata": {},
     "execution_count": 159
    }
   ],
   "source": [
    "# Date discharge form completed\n",
    "\n",
    "print(df.FU1_COMP.describe())\n",
    "\n",
    "df.FU1_COMP.isnull().sum()"
   ]
  },
  {
   "cell_type": "code",
   "execution_count": 160,
   "metadata": {},
   "outputs": [
    {
     "output_type": "stream",
     "name": "stdout",
     "text": [
      "count     9755\nunique       2\ntop          Y\nfreq      9298\nName: CMPLASP, dtype: object\n"
     ]
    },
    {
     "output_type": "execute_result",
     "data": {
      "text/plain": [
       "7"
      ]
     },
     "metadata": {},
     "execution_count": 160
    }
   ],
   "source": [
    "# Compliant for aspirin\n",
    "\n",
    "print(df.CMPLASP.describe())\n",
    "\n",
    "df.CMPLASP.isnull().sum()"
   ]
  },
  {
   "cell_type": "code",
   "execution_count": 161,
   "metadata": {},
   "outputs": [
    {
     "output_type": "stream",
     "name": "stdout",
     "text": [
      "count     9755\nunique       2\ntop          Y\nfreq      9224\nName: CMPLHEP, dtype: object\n"
     ]
    },
    {
     "output_type": "execute_result",
     "data": {
      "text/plain": [
       "7"
      ]
     },
     "metadata": {},
     "execution_count": 161
    }
   ],
   "source": [
    "# Compliant for heparin\n",
    "\n",
    "print(df.CMPLHEP.describe())\n",
    "\n",
    "df.CMPLHEP.isnull().sum()"
   ]
  },
  {
   "cell_type": "code",
   "execution_count": 162,
   "metadata": {},
   "outputs": [
    {
     "output_type": "stream",
     "name": "stdout",
     "text": [
      "count     9762\nunique    9762\ntop       1698\nfreq         1\nName: ID, dtype: object\n"
     ]
    },
    {
     "output_type": "execute_result",
     "data": {
      "text/plain": [
       "0"
      ]
     },
     "metadata": {},
     "execution_count": 162
    }
   ],
   "source": [
    "# Indicator variable for death (1=died; 0=did not die)\n",
    "\n",
    "print(df.ID.describe())\n",
    "\n",
    "df.ID.isnull().sum()"
   ]
  },
  {
   "cell_type": "code",
   "execution_count": 163,
   "metadata": {},
   "outputs": [
    {
     "output_type": "stream",
     "name": "stdout",
     "text": [
      "count     9761\nunique     425\ntop        183\nfreq       232\nName: TD, dtype: object\n"
     ]
    },
    {
     "output_type": "execute_result",
     "data": {
      "text/plain": [
       "1"
      ]
     },
     "metadata": {},
     "execution_count": 163
    }
   ],
   "source": [
    "# Time of death or censoring in days\n",
    "\n",
    "print(df.TD.describe())\n",
    "\n",
    "df.TD.isnull().sum()"
   ]
  },
  {
   "cell_type": "code",
   "execution_count": 164,
   "metadata": {},
   "outputs": [
    {
     "output_type": "stream",
     "name": "stdout",
     "text": [
      "count       9762\nunique      5605\ntop       0.9596\nfreq           9\nName: EXPDD, dtype: object\n"
     ]
    },
    {
     "output_type": "execute_result",
     "data": {
      "text/plain": [
       "0"
      ]
     },
     "metadata": {},
     "execution_count": 164
    }
   ],
   "source": [
    "# Predicted probability of death/dependence at 6 month\n",
    "\n",
    "print(df.EXPDD.describe())\n",
    "\n",
    "df.EXPDD.isnull().sum()"
   ]
  },
  {
   "cell_type": "code",
   "execution_count": 165,
   "metadata": {},
   "outputs": [
    {
     "output_type": "stream",
     "name": "stdout",
     "text": [
      "count       9762\nunique      4524\ntop       0.0594\nfreq          12\nName: EXPD6, dtype: object\n"
     ]
    },
    {
     "output_type": "execute_result",
     "data": {
      "text/plain": [
       "0"
      ]
     },
     "metadata": {},
     "execution_count": 165
    }
   ],
   "source": [
    "# Predicted probability of death at 6 month\n",
    "\n",
    "print(df.EXPD6.describe())\n",
    "\n",
    "df.EXPD6.isnull().sum()"
   ]
  },
  {
   "cell_type": "code",
   "execution_count": 166,
   "metadata": {},
   "outputs": [
    {
     "output_type": "stream",
     "name": "stdout",
     "text": [
      "count       9762\nunique      2703\ntop       0.0345\nfreq          27\nName: EXPD14, dtype: object\n"
     ]
    },
    {
     "output_type": "execute_result",
     "data": {
      "text/plain": [
       "0"
      ]
     },
     "metadata": {},
     "execution_count": 166
    }
   ],
   "source": [
    "# Predicted probability of death at 14 days\n",
    "\n",
    "print(df.EXPD14.describe())\n",
    "\n",
    "df.EXPD14.isnull().sum()"
   ]
  },
  {
   "cell_type": "code",
   "execution_count": 167,
   "metadata": {},
   "outputs": [
    {
     "output_type": "stream",
     "name": "stdout",
     "text": [
      "count     9762\nunique       2\ntop          1\nfreq      9761\nName: SET14D, dtype: object\n"
     ]
    },
    {
     "output_type": "execute_result",
     "data": {
      "text/plain": [
       "0"
      ]
     },
     "metadata": {},
     "execution_count": 167
    }
   ],
   "source": [
    "# Know to be dead or alive at 14 days (1=Yes, 0=No); this does not necessarily mean that we know outcome at 6 monts – see OCCODE for this\n",
    "\n",
    "print(df.SET14D.describe())\n",
    "\n",
    "df.SET14D.isnull().sum()"
   ]
  },
  {
   "cell_type": "code",
   "execution_count": 168,
   "metadata": {},
   "outputs": [
    {
     "output_type": "stream",
     "name": "stdout",
     "text": [
      "count     9762\nunique       2\ntop          0\nfreq      8837\nName: ID14, dtype: object\n"
     ]
    },
    {
     "output_type": "execute_result",
     "data": {
      "text/plain": [
       "0"
      ]
     },
     "metadata": {},
     "execution_count": 168
    }
   ],
   "source": [
    "# Indicator of death at 14 days\n",
    "\n",
    "print(df.ID14.describe())\n",
    "\n",
    "df.ID14.isnull().sum()"
   ]
  },
  {
   "cell_type": "code",
   "execution_count": 169,
   "metadata": {},
   "outputs": [
    {
     "output_type": "stream",
     "name": "stdout",
     "text": [
      "count     9762\nunique       5\ntop          2\nfreq      3903\nName: OCCODE, dtype: object\n"
     ]
    },
    {
     "output_type": "execute_result",
     "data": {
      "text/plain": [
       "0"
      ]
     },
     "metadata": {},
     "execution_count": 169
    }
   ],
   "source": [
    "# Six month outcome (1-dead/2-dependent/3-not recovered/4-recovered/8 or 9 – missing status\n",
    "\n",
    "print(df.OCCODE.describe())\n",
    "\n",
    "df.OCCODE.isnull().sum()"
   ]
  },
  {
   "source": [
    "Indicator variables for specific causes of death"
   ],
   "cell_type": "markdown",
   "metadata": {}
  },
  {
   "cell_type": "code",
   "execution_count": 171,
   "metadata": {},
   "outputs": [
    {
     "output_type": "stream",
     "name": "stdout",
     "text": [
      "count     9762\nunique       2\ntop          0\nfreq      8975\nName: DEAD1, dtype: object\n"
     ]
    },
    {
     "output_type": "execute_result",
     "data": {
      "text/plain": [
       "0"
      ]
     },
     "metadata": {},
     "execution_count": 171
    }
   ],
   "source": [
    "# Initial stroke\n",
    "\n",
    "print(df.DEAD1.describe())\n",
    "\n",
    "df.DEAD1.isnull().sum()"
   ]
  },
  {
   "cell_type": "code",
   "execution_count": 172,
   "metadata": {},
   "outputs": [
    {
     "output_type": "stream",
     "name": "stdout",
     "text": [
      "count     9762\nunique       2\ntop          0\nfreq      9492\nName: DEAD2, dtype: object\n"
     ]
    },
    {
     "output_type": "execute_result",
     "data": {
      "text/plain": [
       "0"
      ]
     },
     "metadata": {},
     "execution_count": 172
    }
   ],
   "source": [
    "# Reccurent ischaemic/unknown stroke\n",
    "\n",
    "print(df.DEAD2.describe())\n",
    "\n",
    "df.DEAD2.isnull().sum()"
   ]
  },
  {
   "cell_type": "code",
   "execution_count": 173,
   "metadata": {},
   "outputs": [
    {
     "output_type": "stream",
     "name": "stdout",
     "text": [
      "count     9762\nunique       2\ntop          0\nfreq      9722\nName: DEAD3, dtype: object\n"
     ]
    },
    {
     "output_type": "execute_result",
     "data": {
      "text/plain": [
       "0"
      ]
     },
     "metadata": {},
     "execution_count": 173
    }
   ],
   "source": [
    "# Reccurent haemorrhagic stroke\n",
    "\n",
    "print(df.DEAD3.describe())\n",
    "\n",
    "df.DEAD3.isnull().sum()"
   ]
  },
  {
   "cell_type": "code",
   "execution_count": 174,
   "metadata": {},
   "outputs": [
    {
     "output_type": "stream",
     "name": "stdout",
     "text": [
      "count     9762\nunique       2\ntop          0\nfreq      9331\nName: DEAD4, dtype: object\n"
     ]
    },
    {
     "output_type": "execute_result",
     "data": {
      "text/plain": [
       "0"
      ]
     },
     "metadata": {},
     "execution_count": 174
    }
   ],
   "source": [
    "# Pneumonia\n",
    "\n",
    "print(df.DEAD4.describe())\n",
    "\n",
    "df.DEAD4.isnull().sum()"
   ]
  },
  {
   "cell_type": "code",
   "execution_count": 175,
   "metadata": {},
   "outputs": [
    {
     "output_type": "stream",
     "name": "stdout",
     "text": [
      "count     9762\nunique       2\ntop          0\nfreq      9580\nName: DEAD5, dtype: object\n"
     ]
    },
    {
     "output_type": "execute_result",
     "data": {
      "text/plain": [
       "0"
      ]
     },
     "metadata": {},
     "execution_count": 175
    }
   ],
   "source": [
    "# Coronary heart disease\n",
    "\n",
    "print(df.DEAD5.describe())\n",
    "\n",
    "df.DEAD5.isnull().sum()"
   ]
  },
  {
   "cell_type": "code",
   "execution_count": 176,
   "metadata": {},
   "outputs": [
    {
     "output_type": "stream",
     "name": "stdout",
     "text": [
      "count     9762\nunique       2\ntop          0\nfreq      9674\nName: DEAD6, dtype: object\n"
     ]
    },
    {
     "output_type": "execute_result",
     "data": {
      "text/plain": [
       "0"
      ]
     },
     "metadata": {},
     "execution_count": 176
    }
   ],
   "source": [
    "# Pulmonary embolism\n",
    "\n",
    "print(df.DEAD6.describe())\n",
    "\n",
    "df.DEAD6.isnull().sum()"
   ]
  },
  {
   "cell_type": "code",
   "execution_count": 177,
   "metadata": {},
   "outputs": [
    {
     "output_type": "stream",
     "name": "stdout",
     "text": [
      "count     9762\nunique       2\ntop          0\nfreq      9479\nName: DEAD7, dtype: object\n"
     ]
    },
    {
     "output_type": "execute_result",
     "data": {
      "text/plain": [
       "0"
      ]
     },
     "metadata": {},
     "execution_count": 177
    }
   ],
   "source": [
    "# Other vascular or unknown\n",
    "\n",
    "print(df.DEAD7.describe())\n",
    "\n",
    "df.DEAD7.isnull().sum()"
   ]
  },
  {
   "cell_type": "code",
   "execution_count": 178,
   "metadata": {},
   "outputs": [
    {
     "output_type": "stream",
     "name": "stdout",
     "text": [
      "count     9762\nunique       2\ntop          0\nfreq      9644\nName: DEAD8, dtype: object\n"
     ]
    },
    {
     "output_type": "execute_result",
     "data": {
      "text/plain": [
       "0"
      ]
     },
     "metadata": {},
     "execution_count": 178
    }
   ],
   "source": [
    "# Non vascular\n",
    "\n",
    "print(df.DEAD8.describe())\n",
    "\n",
    "df.DEAD8.isnull().sum()"
   ]
  },
  {
   "cell_type": "code",
   "execution_count": 4,
   "metadata": {},
   "outputs": [
    {
     "output_type": "stream",
     "name": "stdout",
     "text": [
      "count     9762\nunique       2\ntop          0\nfreq      9677\nName: H14, dtype: object\n"
     ]
    },
    {
     "output_type": "execute_result",
     "data": {
      "text/plain": [
       "0"
      ]
     },
     "metadata": {},
     "execution_count": 4
    }
   ],
   "source": [
    "# Cerebral bleed/heamorrhagic stroke within 14 days; this is slightly wider definition than DRSH an is used for analysis of cerebral bleeds\n",
    "\n",
    "print(df.H14.describe())\n",
    "\n",
    "df.H14.isnull().sum()"
   ]
  },
  {
   "cell_type": "code",
   "execution_count": 5,
   "metadata": {},
   "outputs": [
    {
     "output_type": "stream",
     "name": "stdout",
     "text": [
      "count     9762\nunique       2\ntop          0\nfreq      9563\nName: ISC14, dtype: object\n"
     ]
    },
    {
     "output_type": "execute_result",
     "data": {
      "text/plain": [
       "0"
      ]
     },
     "metadata": {},
     "execution_count": 5
    }
   ],
   "source": [
    "# Indicator of ischaemic stroke within 14 days\n",
    "\n",
    "print(df.ISC14.describe())\n",
    "\n",
    "df.ISC14.isnull().sum()"
   ]
  },
  {
   "cell_type": "code",
   "execution_count": 6,
   "metadata": {},
   "outputs": [
    {
     "output_type": "stream",
     "name": "stdout",
     "text": [
      "count     9762\nunique       2\ntop          0\nfreq      9627\nName: NK14, dtype: object\n"
     ]
    },
    {
     "output_type": "execute_result",
     "data": {
      "text/plain": [
       "0"
      ]
     },
     "metadata": {},
     "execution_count": 6
    }
   ],
   "source": [
    "# Indicator of indeterminate stroke within 14 days\n",
    "\n",
    "print(df.NK14.describe())\n",
    "\n",
    "df.NK14.isnull().sum()"
   ]
  },
  {
   "cell_type": "code",
   "execution_count": 8,
   "metadata": {},
   "outputs": [
    {
     "output_type": "stream",
     "name": "stdout",
     "text": [
      "count     9762\nunique       2\ntop          0\nfreq      9730\nName: HTI14, dtype: object\n"
     ]
    },
    {
     "output_type": "execute_result",
     "data": {
      "text/plain": [
       "0"
      ]
     },
     "metadata": {},
     "execution_count": 8
    }
   ],
   "source": [
    "# Indicator of haemorrhagic transformation within 14 days\n",
    "\n",
    "print(df.HTI14.describe())\n",
    "\n",
    "df.HTI14.isnull().sum()"
   ]
  },
  {
   "cell_type": "code",
   "execution_count": 10,
   "metadata": {},
   "outputs": [
    {
     "output_type": "stream",
     "name": "stdout",
     "text": [
      "count     9762\nunique       2\ntop          0\nfreq      9689\nName: PE14, dtype: object\n"
     ]
    },
    {
     "output_type": "execute_result",
     "data": {
      "text/plain": [
       "0"
      ]
     },
     "metadata": {},
     "execution_count": 10
    }
   ],
   "source": [
    "# Indicator of pulmonary embolism within 14 days\n",
    "print(df.PE14.describe())\n",
    "\n",
    "df.PE14.isnull().sum()"
   ]
  },
  {
   "cell_type": "code",
   "execution_count": 11,
   "metadata": {},
   "outputs": [
    {
     "output_type": "stream",
     "name": "stdout",
     "text": [
      "count     9762\nunique       2\ntop          0\nfreq      9750\nName: DVT14, dtype: object\n"
     ]
    },
    {
     "output_type": "execute_result",
     "data": {
      "text/plain": [
       "0"
      ]
     },
     "metadata": {},
     "execution_count": 11
    }
   ],
   "source": [
    "# Indicator of deep vein thrombosis on discharge form\n",
    "\n",
    "print(df.DVT14.describe())\n",
    "\n",
    "df.DVT14.isnull().sum()"
   ]
  },
  {
   "cell_type": "code",
   "execution_count": 12,
   "metadata": {},
   "outputs": [
    {
     "output_type": "stream",
     "name": "stdout",
     "text": [
      "count     9762\nunique       2\ntop          0\nfreq      9683\nName: TRAN14, dtype: object\n"
     ]
    },
    {
     "output_type": "execute_result",
     "data": {
      "text/plain": [
       "0"
      ]
     },
     "metadata": {},
     "execution_count": 12
    }
   ],
   "source": [
    "# Indicator of major non-cerebral bleed within 14 days\n",
    "\n",
    "print(df.TRAN14.describe())\n",
    "\n",
    "df.TRAN14.isnull().sum()"
   ]
  },
  {
   "cell_type": "code",
   "execution_count": 13,
   "metadata": {},
   "outputs": [
    {
     "output_type": "stream",
     "name": "stdout",
     "text": [
      "count     9762\nunique       2\ntop          0\nfreq      9508\nName: NCB14, dtype: object\n"
     ]
    },
    {
     "output_type": "execute_result",
     "data": {
      "text/plain": [
       "0"
      ]
     },
     "metadata": {},
     "execution_count": 13
    }
   ],
   "source": [
    "# Indicator of any non-cerebral bleed within 14 days\n",
    "\n",
    "print(df.NCB14.describe())\n",
    "\n",
    "df.NCB14.isnull().sum()"
   ]
  },
  {
   "cell_type": "code",
   "execution_count": 14,
   "metadata": {},
   "outputs": [
    {
     "output_type": "stream",
     "name": "stdout",
     "text": [
      "Column Name:  RATRIAL\nMissing values :  484\nColumn Name:  RHEP24\nMissing values :  175\nColumn Name:  RASP3\nMissing values :  484\nColumn Name:  DASP14\nMissing values :  12\nColumn Name:  DASPLT\nMissing values :  81\nColumn Name:  DLH14\nMissing values :  14\nColumn Name:  DMH14\nMissing values :  498\nColumn Name:  DHH14\nMissing values :  9278\nColumn Name:  DSCH\nMissing values :  152\nColumn Name:  DIVH\nMissing values :  152\nColumn Name:  DAP\nMissing values :  11\nColumn Name:  DOAC\nMissing values :  11\nColumn Name:  DGORM\nMissing values :  15\nColumn Name:  DSTER\nMissing values :  16\nColumn Name:  DCAA\nMissing values :  17\nColumn Name:  DHAEMD\nMissing values :  16\nColumn Name:  DCAREND\nMissing values :  498\nColumn Name:  DTHROMB\nMissing values :  158\nColumn Name:  DMAJNCH\nMissing values :  8\nColumn Name:  DMAJNCHD\nMissing values :  9686\nColumn Name:  DMAJNCHX\nMissing values :  9689\nColumn Name:  DSIDE\nMissing values :  8\nColumn Name:  DSIDED\nMissing values :  9442\nColumn Name:  DSIDEX\nMissing values :  9438\nColumn Name:  DDIAGISC\nMissing values :  12\nColumn Name:  DDIAGHA\nMissing values :  12\nColumn Name:  DDIAGUN\nMissing values :  10\nColumn Name:  DNOSTRK\nMissing values :  12\nColumn Name:  DNOSTRKX\nMissing values :  9560\nColumn Name:  DRSISC\nMissing values :  11\nColumn Name:  DRSISCD\nMissing values :  9556\nColumn Name:  DRSH\nMissing values :  8\nColumn Name:  DRSHD\nMissing values :  9709\nColumn Name:  DRSUNK\nMissing values :  497\nColumn Name:  DRSUNKD\nMissing values :  9626\nColumn Name:  DPE\nMissing values :  8\nColumn Name:  DPED\nMissing values :  9695\nColumn Name:  DALIVE\nMissing values :  17\nColumn Name:  DALIVED\nMissing values :  4599\nColumn Name:  DPLACE\nMissing values :  4901\nColumn Name:  DDEAD\nMissing values :  9\nColumn Name:  DDEADD\nMissing values :  8694\nColumn Name:  DDEADC\nMissing values :  8545\nColumn Name:  DDEADX\nMissing values :  9673\nColumn Name:  FDEAD\nMissing values :  21\nColumn Name:  FLASTD\nMissing values :  9762\nColumn Name:  FDEADD\nMissing values :  7504\nColumn Name:  FDEADC\nMissing values :  7496\nColumn Name:  FDEADX\nMissing values :  9356\nColumn Name:  FRECOVER\nMissing values :  2251\nColumn Name:  FDENNIS\nMissing values :  2287\nColumn Name:  FPLACE\nMissing values :  2288\nColumn Name:  FAP\nMissing values :  2323\nColumn Name:  FOAC\nMissing values :  2325\nColumn Name:  FU1_RECD\nMissing values :  7\nColumn Name:  FU2_DONE\nMissing values :  20\nColumn Name:  FU1_COMP\nMissing values :  242\nColumn Name:  NCCODE\nMissing values :  9008\nColumn Name:  CMPLASP\nMissing values :  7\nColumn Name:  CMPLHEP\nMissing values :  7\nColumn Name:  TD\nMissing values :  1\n"
     ]
    }
   ],
   "source": [
    "for column in df.columns:\n",
    "    columnSeriesObj = df[column]\n",
    "    if columnSeriesObj.isnull().sum() != 0:\n",
    "        print('Column Name: ', column)\n",
    "        print('Missing values : ', columnSeriesObj.isnull().sum() )"
   ]
  },
  {
   "cell_type": "code",
   "execution_count": 19,
   "metadata": {},
   "outputs": [],
   "source": [
    "# merge DHH14 into DMH14 \n",
    "# (DHH14 = Medium dose heparin given for 14 days etc in pilot (combine with DMH14))\n",
    "df['DMH14'] = np.where(df['DMH14'].isnull() == True, df['DHH14'], df['DMH14'])"
   ]
  },
  {
   "cell_type": "code",
   "execution_count": 20,
   "metadata": {},
   "outputs": [
    {
     "output_type": "execute_result",
     "data": {
      "text/plain": [
       "14"
      ]
     },
     "metadata": {},
     "execution_count": 20
    }
   ],
   "source": [
    "df.DMH14.isnull().sum()"
   ]
  },
  {
   "cell_type": "code",
   "execution_count": 25,
   "metadata": {},
   "outputs": [],
   "source": [
    "# drop the following columns due too many missing values (> 1000, ecxept 'DPLACE','FRECOVER', 'FDENNIS','FPLACE', 'FAP', 'FOAC') (or merging with other columns, i.e. DHH14)\n",
    "df = df.drop(['DHH14', 'DMAJNCHD', 'DMAJNCHX', 'DSIDED', 'DSIDEX', 'DNOSTRKX', 'DRSISCD', 'DRSHD', 'DRSUNKD', 'DPED', 'DALIVED', 'DDEADD', 'DDEADC',  'DDEADX', 'FLASTD', 'FDEADD', 'FDEADC', 'FDEADX', 'NCCODE'], axis=1)"
   ]
  },
  {
   "cell_type": "code",
   "execution_count": 26,
   "metadata": {},
   "outputs": [],
   "source": [
    "df.to_csv('data/Train1_clean.csv') "
   ]
  },
  {
   "cell_type": "code",
   "execution_count": null,
   "metadata": {},
   "outputs": [],
   "source": []
  }
 ],
 "metadata": {
  "kernelspec": {
   "name": "python3",
   "display_name": "Python 3",
   "language": "python"
  },
  "language_info": {
   "codemirror_mode": {
    "name": "ipython",
    "version": 3
   },
   "file_extension": ".py",
   "mimetype": "text/x-python",
   "name": "python",
   "nbconvert_exporter": "python",
   "pygments_lexer": "ipython3",
   "version": "3.8.5-final"
  }
 },
 "nbformat": 4,
 "nbformat_minor": 4
}