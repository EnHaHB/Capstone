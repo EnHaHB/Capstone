{
 "cells": [
  {
   "cell_type": "code",
   "execution_count": 1,
   "metadata": {},
   "outputs": [],
   "source": [
    "import pandas as pd\n",
    "import numpy as np"
   ]
  },
  {
   "cell_type": "code",
   "execution_count": 2,
   "metadata": {},
   "outputs": [],
   "source": [
    "#df = pd.read_csv('data/Train1.csv', error_bad_lines=False, index_col=False, dtype= 'unicode')\n"
   ]
  },
  {
   "cell_type": "code",
   "execution_count": 3,
   "metadata": {},
   "outputs": [],
   "source": [
    "df = pd.read_csv('data/IST_corrected.csv', low_memory = False)"
   ]
  },
  {
   "cell_type": "code",
   "execution_count": 4,
   "metadata": {},
   "outputs": [
    {
     "output_type": "stream",
     "name": "stdout",
     "text": [
      "<class 'pandas.core.frame.DataFrame'>\nRangeIndex: 19435 entries, 0 to 19434\nColumns: 112 entries, HOSPNUM to NCB14\ndtypes: float64(20), int64(29), object(63)\nmemory usage: 16.6+ MB\n"
     ]
    }
   ],
   "source": [
    "df.info()"
   ]
  },
  {
   "cell_type": "code",
   "execution_count": 5,
   "metadata": {},
   "outputs": [
    {
     "output_type": "execute_result",
     "data": {
      "text/plain": [
       "   HOSPNUM  RDELAY RCONSC SEX  AGE RSLEEP RATRIAL RCT RVISINF RHEP24  ...  \\\n",
       "0        1      17      D   M   69      Y     NaN   Y       Y    NaN  ...   \n",
       "1        1      10      F   M   76      Y     NaN   Y       N    NaN  ...   \n",
       "2        1      43      F   F   71      N     NaN   Y       N    NaN  ...   \n",
       "3        1       6      F   M   81      N     NaN   N       N    NaN  ...   \n",
       "4        4      20      F   M   78      N     NaN   N       N    NaN  ...   \n",
       "\n",
       "  DEAD8  H14 ISC14 NK14 STRK14 HTI14 PE14 DVT14 TRAN14 NCB14  \n",
       "0     0    0     0    0      0     0    0     0      0     0  \n",
       "1     0    0     0    0      0     0    0     0      0     0  \n",
       "2     0    0     0    0      0     0    0     0      0     0  \n",
       "3     0    0     0    0      0     0    0     0      0     0  \n",
       "4     0    0     0    0      0     0    0     0      0     0  \n",
       "\n",
       "[5 rows x 112 columns]"
      ],
      "text/html": "<div>\n<style scoped>\n    .dataframe tbody tr th:only-of-type {\n        vertical-align: middle;\n    }\n\n    .dataframe tbody tr th {\n        vertical-align: top;\n    }\n\n    .dataframe thead th {\n        text-align: right;\n    }\n</style>\n<table border=\"1\" class=\"dataframe\">\n  <thead>\n    <tr style=\"text-align: right;\">\n      <th></th>\n      <th>HOSPNUM</th>\n      <th>RDELAY</th>\n      <th>RCONSC</th>\n      <th>SEX</th>\n      <th>AGE</th>\n      <th>RSLEEP</th>\n      <th>RATRIAL</th>\n      <th>RCT</th>\n      <th>RVISINF</th>\n      <th>RHEP24</th>\n      <th>...</th>\n      <th>DEAD8</th>\n      <th>H14</th>\n      <th>ISC14</th>\n      <th>NK14</th>\n      <th>STRK14</th>\n      <th>HTI14</th>\n      <th>PE14</th>\n      <th>DVT14</th>\n      <th>TRAN14</th>\n      <th>NCB14</th>\n    </tr>\n  </thead>\n  <tbody>\n    <tr>\n      <th>0</th>\n      <td>1</td>\n      <td>17</td>\n      <td>D</td>\n      <td>M</td>\n      <td>69</td>\n      <td>Y</td>\n      <td>NaN</td>\n      <td>Y</td>\n      <td>Y</td>\n      <td>NaN</td>\n      <td>...</td>\n      <td>0</td>\n      <td>0</td>\n      <td>0</td>\n      <td>0</td>\n      <td>0</td>\n      <td>0</td>\n      <td>0</td>\n      <td>0</td>\n      <td>0</td>\n      <td>0</td>\n    </tr>\n    <tr>\n      <th>1</th>\n      <td>1</td>\n      <td>10</td>\n      <td>F</td>\n      <td>M</td>\n      <td>76</td>\n      <td>Y</td>\n      <td>NaN</td>\n      <td>Y</td>\n      <td>N</td>\n      <td>NaN</td>\n      <td>...</td>\n      <td>0</td>\n      <td>0</td>\n      <td>0</td>\n      <td>0</td>\n      <td>0</td>\n      <td>0</td>\n      <td>0</td>\n      <td>0</td>\n      <td>0</td>\n      <td>0</td>\n    </tr>\n    <tr>\n      <th>2</th>\n      <td>1</td>\n      <td>43</td>\n      <td>F</td>\n      <td>F</td>\n      <td>71</td>\n      <td>N</td>\n      <td>NaN</td>\n      <td>Y</td>\n      <td>N</td>\n      <td>NaN</td>\n      <td>...</td>\n      <td>0</td>\n      <td>0</td>\n      <td>0</td>\n      <td>0</td>\n      <td>0</td>\n      <td>0</td>\n      <td>0</td>\n      <td>0</td>\n      <td>0</td>\n      <td>0</td>\n    </tr>\n    <tr>\n      <th>3</th>\n      <td>1</td>\n      <td>6</td>\n      <td>F</td>\n      <td>M</td>\n      <td>81</td>\n      <td>N</td>\n      <td>NaN</td>\n      <td>N</td>\n      <td>N</td>\n      <td>NaN</td>\n      <td>...</td>\n      <td>0</td>\n      <td>0</td>\n      <td>0</td>\n      <td>0</td>\n      <td>0</td>\n      <td>0</td>\n      <td>0</td>\n      <td>0</td>\n      <td>0</td>\n      <td>0</td>\n    </tr>\n    <tr>\n      <th>4</th>\n      <td>4</td>\n      <td>20</td>\n      <td>F</td>\n      <td>M</td>\n      <td>78</td>\n      <td>N</td>\n      <td>NaN</td>\n      <td>N</td>\n      <td>N</td>\n      <td>NaN</td>\n      <td>...</td>\n      <td>0</td>\n      <td>0</td>\n      <td>0</td>\n      <td>0</td>\n      <td>0</td>\n      <td>0</td>\n      <td>0</td>\n      <td>0</td>\n      <td>0</td>\n      <td>0</td>\n    </tr>\n  </tbody>\n</table>\n<p>5 rows × 112 columns</p>\n</div>"
     },
     "metadata": {},
     "execution_count": 5
    }
   ],
   "source": [
    "df.head()"
   ]
  },
  {
   "cell_type": "code",
   "execution_count": 6,
   "metadata": {},
   "outputs": [],
   "source": [
    "#df.columns.tolist()"
   ]
  },
  {
   "cell_type": "code",
   "execution_count": 7,
   "metadata": {},
   "outputs": [],
   "source": [
    "#df.isnull().sum().tolist()"
   ]
  },
  {
   "cell_type": "code",
   "execution_count": 8,
   "metadata": {},
   "outputs": [
    {
     "output_type": "execute_result",
     "data": {
      "text/plain": [
       "Empty DataFrame\n",
       "Columns: [HOSPNUM, RDELAY, RCONSC, SEX, AGE, RSLEEP, RATRIAL, RCT, RVISINF, RHEP24, RASP3, RSBP, RDEF1, RDEF2, RDEF3, RDEF4, RDEF5, RDEF6, RDEF7, RDEF8, STYPE, RDATE, HOURLOCAL, MINLOCAL, DAYLOCAL, RXASP, RXHEP, DASP14, DASPLT, DLH14, DMH14, DHH14, ONDRUG, DSCH, DIVH, DAP, DOAC, DGORM, DSTER, DCAA, DHAEMD, DCAREND, DTHROMB, DMAJNCH, DMAJNCHD, DMAJNCHX, DSIDE, DSIDED, DSIDEX, DDIAGISC, DDIAGHA, DDIAGUN, DNOSTRK, DNOSTRKX, DRSISC, DRSISCD, DRSH, DRSHD, DRSUNK, DRSUNKD, DPE, DPED, DALIVE, DALIVED, DPLACE, DDEAD, DDEADD, DDEADC, DDEADX, FDEAD, FLASTD, FDEADD, FDEADC, FDEADX, FRECOVER, FDENNIS, FPLACE, FAP, FOAC, FU1_RECD, FU2_DONE, COUNTRY, CNTRYNUM, FU1_COMP, NCCODE, CMPLASP, CMPLHEP, DIED, TD, EXPDD, EXPD6, EXPD14, SET14D, ID14, OCCODE, DEAD1, DEAD2, DEAD3, DEAD4, DEAD5, ...]\n",
       "Index: []\n",
       "\n",
       "[0 rows x 112 columns]"
      ],
      "text/html": "<div>\n<style scoped>\n    .dataframe tbody tr th:only-of-type {\n        vertical-align: middle;\n    }\n\n    .dataframe tbody tr th {\n        vertical-align: top;\n    }\n\n    .dataframe thead th {\n        text-align: right;\n    }\n</style>\n<table border=\"1\" class=\"dataframe\">\n  <thead>\n    <tr style=\"text-align: right;\">\n      <th></th>\n      <th>HOSPNUM</th>\n      <th>RDELAY</th>\n      <th>RCONSC</th>\n      <th>SEX</th>\n      <th>AGE</th>\n      <th>RSLEEP</th>\n      <th>RATRIAL</th>\n      <th>RCT</th>\n      <th>RVISINF</th>\n      <th>RHEP24</th>\n      <th>...</th>\n      <th>DEAD8</th>\n      <th>H14</th>\n      <th>ISC14</th>\n      <th>NK14</th>\n      <th>STRK14</th>\n      <th>HTI14</th>\n      <th>PE14</th>\n      <th>DVT14</th>\n      <th>TRAN14</th>\n      <th>NCB14</th>\n    </tr>\n  </thead>\n  <tbody>\n  </tbody>\n</table>\n<p>0 rows × 112 columns</p>\n</div>"
     },
     "metadata": {},
     "execution_count": 8
    }
   ],
   "source": [
    "# check for duplicates\n",
    "double = df[df.duplicated()]\n",
    "double"
   ]
  },
  {
   "cell_type": "code",
   "execution_count": 9,
   "metadata": {},
   "outputs": [
    {
     "output_type": "execute_result",
     "data": {
      "text/plain": [
       "{'int64': Index(['HOSPNUM', 'RDELAY', 'AGE', 'RSBP', 'HOURLOCAL', 'MINLOCAL', 'DAYLOCAL',\n",
       "        'CNTRYNUM', 'DIED', 'SET14D', 'ID14', 'OCCODE', 'DEAD1', 'DEAD2',\n",
       "        'DEAD3', 'DEAD4', 'DEAD5', 'DEAD6', 'DEAD7', 'DEAD8', 'H14', 'ISC14',\n",
       "        'NK14', 'STRK14', 'HTI14', 'PE14', 'DVT14', 'TRAN14', 'NCB14'],\n",
       "       dtype='object'),\n",
       " 'float64': Index(['ONDRUG', 'DMAJNCHD', 'DSIDED', 'DRSISCD', 'DRSHD', 'DRSUNKD', 'DPED',\n",
       "        'DALIVED', 'DDEADD', 'DDEADC', 'FLASTD', 'FDEADD', 'FDEADC', 'FU1_RECD',\n",
       "        'FU2_DONE', 'FU1_COMP', 'TD', 'EXPDD', 'EXPD6', 'EXPD14'],\n",
       "       dtype='object'),\n",
       " 'object': Index(['RCONSC', 'SEX', 'RSLEEP', 'RATRIAL', 'RCT', 'RVISINF', 'RHEP24',\n",
       "        'RASP3', 'RDEF1', 'RDEF2', 'RDEF3', 'RDEF4', 'RDEF5', 'RDEF6', 'RDEF7',\n",
       "        'RDEF8', 'STYPE', 'RDATE', 'RXASP', 'RXHEP', 'DASP14', 'DASPLT',\n",
       "        'DLH14', 'DMH14', 'DHH14', 'DSCH', 'DIVH', 'DAP', 'DOAC', 'DGORM',\n",
       "        'DSTER', 'DCAA', 'DHAEMD', 'DCAREND', 'DTHROMB', 'DMAJNCH', 'DMAJNCHX',\n",
       "        'DSIDE', 'DSIDEX', 'DDIAGISC', 'DDIAGHA', 'DDIAGUN', 'DNOSTRK',\n",
       "        'DNOSTRKX', 'DRSISC', 'DRSH', 'DRSUNK', 'DPE', 'DALIVE', 'DPLACE',\n",
       "        'DDEAD', 'DDEADX', 'FDEAD', 'FDEADX', 'FRECOVER', 'FDENNIS', 'FPLACE',\n",
       "        'FAP', 'FOAC', 'COUNTRY', 'NCCODE', 'CMPLASP', 'CMPLHEP'],\n",
       "       dtype='object')}"
      ]
     },
     "metadata": {},
     "execution_count": 9
    }
   ],
   "source": [
    "df_types = df.columns.to_series().groupby(df.dtypes).groups\n",
    "{k.name: v for k, v in df_types.items()}"
   ]
  },
  {
   "cell_type": "code",
   "execution_count": 10,
   "metadata": {},
   "outputs": [],
   "source": [
    "object_col = list(df.select_dtypes(include='object').columns)\n",
    "num_col = list(df.select_dtypes(include=['float64', 'int64']).columns)"
   ]
  },
  {
   "cell_type": "code",
   "execution_count": 11,
   "metadata": {},
   "outputs": [],
   "source": [
    "#object_col"
   ]
  },
  {
   "cell_type": "code",
   "execution_count": 12,
   "metadata": {
    "tags": []
   },
   "outputs": [
    {
     "output_type": "stream",
     "name": "stdout",
     "text": [
      "\n",
      "Colunm Name :  RCONSC\n",
      "Describe:  count     19435\n",
      "unique        3\n",
      "top           F\n",
      "freq      14921\n",
      "Name: RCONSC, dtype: object\n",
      "Unique values :  ['D' 'F' 'U']\n",
      "\n",
      "Colunm Name :  SEX\n",
      "Describe:  count     19435\n",
      "unique        2\n",
      "top           M\n",
      "freq      10407\n",
      "Name: SEX, dtype: object\n",
      "Unique values :  ['M' 'F']\n",
      "\n",
      "Colunm Name :  RSLEEP\n",
      "Describe:  count     19435\n",
      "unique        2\n",
      "top           N\n",
      "freq      13750\n",
      "Name: RSLEEP, dtype: object\n",
      "Unique values :  ['Y' 'N']\n",
      "\n",
      "Colunm Name :  RATRIAL\n",
      "Describe:  count     18451\n",
      "unique        2\n",
      "top           N\n",
      "freq      15282\n",
      "Name: RATRIAL, dtype: object\n",
      "Unique values :  [nan 'Y' 'N']\n",
      "\n",
      "Colunm Name :  RCT\n",
      "Describe:  count     19435\n",
      "unique        2\n",
      "top           Y\n",
      "freq      13024\n",
      "Name: RCT, dtype: object\n",
      "Unique values :  ['Y' 'N']\n",
      "\n",
      "Colunm Name :  RVISINF\n",
      "Describe:  count     19435\n",
      "unique        2\n",
      "top           N\n",
      "freq      13020\n",
      "Name: RVISINF, dtype: object\n",
      "Unique values :  ['Y' 'N']\n",
      "\n",
      "Colunm Name :  RHEP24\n",
      "Describe:  count     19091\n",
      "unique        2\n",
      "top           N\n",
      "freq      18655\n",
      "Name: RHEP24, dtype: object\n",
      "Unique values :  [nan 'N' 'Y']\n",
      "\n",
      "Colunm Name :  RASP3\n",
      "Describe:  count     18451\n",
      "unique        2\n",
      "top           N\n",
      "freq      14511\n",
      "Name: RASP3, dtype: object\n",
      "Unique values :  [nan 'N' 'Y']\n",
      "\n",
      "Colunm Name :  RDEF1\n",
      "Describe:  count     19435\n",
      "unique        3\n",
      "top           Y\n",
      "freq      14099\n",
      "Name: RDEF1, dtype: object\n",
      "Unique values :  ['N' 'Y' 'C']\n",
      "\n",
      "Colunm Name :  RDEF2\n",
      "Describe:  count     19435\n",
      "unique        3\n",
      "top           Y\n",
      "freq      16645\n",
      "Name: RDEF2, dtype: object\n",
      "Unique values :  ['N' 'Y' 'C']\n",
      "\n",
      "Colunm Name :  RDEF3\n",
      "Describe:  count     19435\n",
      "unique        3\n",
      "top           Y\n",
      "freq      14678\n",
      "Name: RDEF3, dtype: object\n",
      "Unique values :  ['N' 'Y' 'C']\n",
      "\n",
      "Colunm Name :  RDEF4\n",
      "Describe:  count     19435\n",
      "unique        3\n",
      "top           N\n",
      "freq      10342\n",
      "Name: RDEF4, dtype: object\n",
      "Unique values :  ['Y' 'N' 'C']\n",
      "\n",
      "Colunm Name :  RDEF5\n",
      "Describe:  count     19435\n",
      "unique        3\n",
      "top           N\n",
      "freq      12394\n",
      "Name: RDEF5, dtype: object\n",
      "Unique values :  ['N' 'Y' 'C']\n",
      "\n",
      "Colunm Name :  RDEF6\n",
      "Describe:  count     19435\n",
      "unique        3\n",
      "top           N\n",
      "freq      12809\n",
      "Name: RDEF6, dtype: object\n",
      "Unique values :  ['Y' 'N' 'C']\n",
      "\n",
      "Colunm Name :  RDEF7\n",
      "Describe:  count     19435\n",
      "unique        3\n",
      "top           N\n",
      "freq      15704\n",
      "Name: RDEF7, dtype: object\n",
      "Unique values :  ['N' 'Y' 'C']\n",
      "\n",
      "Colunm Name :  RDEF8\n",
      "Describe:  count     19435\n",
      "unique        3\n",
      "top           N\n",
      "freq      16967\n",
      "Name: RDEF8, dtype: object\n",
      "Unique values :  ['Y' 'N' 'C']\n",
      "\n",
      "Colunm Name :  STYPE\n",
      "Describe:  count     19435\n",
      "unique        5\n",
      "top        PACS\n",
      "freq       7855\n",
      "Name: STYPE, dtype: object\n",
      "Unique values :  ['PACS' 'LACS' 'POCS' 'OTH' 'TACS']\n",
      "\n",
      "Colunm Name :  RDATE\n",
      "Describe:  count      19435\n",
      "unique        65\n",
      "top       lis-95\n",
      "freq         680\n",
      "Name: RDATE, dtype: object\n",
      "\n",
      "Colunm Name :  RXASP\n",
      "Describe:  count     19435\n",
      "unique        2\n",
      "top           Y\n",
      "freq       9720\n",
      "Name: RXASP, dtype: object\n",
      "Unique values :  ['Y' 'N']\n",
      "\n",
      "Colunm Name :  RXHEP\n",
      "Describe:  count     19435\n",
      "unique        4\n",
      "top           N\n",
      "freq       9718\n",
      "Name: RXHEP, dtype: object\n",
      "Unique values :  ['N' 'L' 'H' 'M']\n",
      "\n",
      "Colunm Name :  DASP14\n",
      "Describe:  count     19413\n",
      "unique        5\n",
      "top           N\n",
      "freq      10326\n",
      "Name: DASP14, dtype: object\n",
      "Unique values :  ['Y' 'N' 'U' nan]\n",
      "\n",
      "Colunm Name :  DASPLT\n",
      "Describe:  count     19288\n",
      "unique        3\n",
      "top           Y\n",
      "freq      11566\n",
      "Name: DASPLT, dtype: object\n",
      "Unique values :  ['Y' 'N' nan 'U']\n",
      "\n",
      "Colunm Name :  DLH14\n",
      "Describe:  count     19413\n",
      "unique        3\n",
      "top           N\n",
      "freq      14860\n",
      "Name: DLH14, dtype: object\n",
      "Unique values :  ['N' 'Y' 'U' nan]\n",
      "\n",
      "Colunm Name :  DMH14\n",
      "Describe:  count     18429\n",
      "unique        3\n",
      "top           N\n",
      "freq      14318\n",
      "Name: DMH14, dtype: object\n",
      "Unique values :  [nan 'N' 'Y' 'U']\n",
      "\n",
      "Colunm Name :  DHH14\n",
      "Describe:  count     984\n",
      "unique      2\n",
      "top         N\n",
      "freq      794\n",
      "Name: DHH14, dtype: object\n",
      "Unique values :  ['N' 'Y' nan]\n",
      "\n",
      "Colunm Name :  DSCH\n",
      "Describe:  count     19130\n",
      "unique        3\n",
      "top           N\n",
      "freq      18643\n",
      "Name: DSCH, dtype: object\n",
      "Unique values :  [nan 'N' 'Y' 'U']\n",
      "\n",
      "Colunm Name :  DIVH\n",
      "Describe:  count     19130\n",
      "unique        3\n",
      "top           N\n",
      "freq      18740\n",
      "Name: DIVH, dtype: object\n",
      "Unique values :  [nan 'N' 'Y' 'U']\n",
      "\n",
      "Colunm Name :  DAP\n",
      "Describe:  count     19417\n",
      "unique        3\n",
      "top           N\n",
      "freq      18629\n",
      "Name: DAP, dtype: object\n",
      "Unique values :  ['N' 'Y' nan 'U']\n",
      "\n",
      "Colunm Name :  DOAC\n",
      "Describe:  count     19417\n",
      "unique        3\n",
      "top           N\n",
      "freq      18758\n",
      "Name: DOAC, dtype: object\n",
      "Unique values :  ['N' 'Y' nan 'U']\n",
      "\n",
      "Colunm Name :  DGORM\n",
      "Describe:  count     19412\n",
      "unique        3\n",
      "top           N\n",
      "freq      17358\n",
      "Name: DGORM, dtype: object\n",
      "Unique values :  ['N' 'Y' nan 'U']\n",
      "\n",
      "Colunm Name :  DSTER\n",
      "Describe:  count     19407\n",
      "unique        3\n",
      "top           N\n",
      "freq      18672\n",
      "Name: DSTER, dtype: object\n",
      "Unique values :  ['N' 'Y' nan 'U']\n",
      "\n",
      "Colunm Name :  DCAA\n",
      "Describe:  count     19406\n",
      "unique        3\n",
      "top           N\n",
      "freq      17193\n",
      "Name: DCAA, dtype: object\n",
      "Unique values :  ['N' 'Y' nan 'U']\n",
      "\n",
      "Colunm Name :  DHAEMD\n",
      "Describe:  count     19407\n",
      "unique        3\n",
      "top           N\n",
      "freq      18828\n",
      "Name: DHAEMD, dtype: object\n",
      "Unique values :  ['N' nan 'Y' 'U']\n",
      "\n",
      "Colunm Name :  DCAREND\n",
      "Describe:  count     18430\n",
      "unique        3\n",
      "top           N\n",
      "freq      18352\n",
      "Name: DCAREND, dtype: object\n",
      "Unique values :  [nan 'N' 'Y' 'U']\n",
      "\n",
      "Colunm Name :  DTHROMB\n",
      "Describe:  count     19120\n",
      "unique        3\n",
      "top           N\n",
      "freq      19090\n",
      "Name: DTHROMB, dtype: object\n",
      "Unique values :  [nan 'N' 'Y' 'U']\n",
      "\n",
      "Colunm Name :  DMAJNCH\n",
      "Describe:  count     19421\n",
      "unique        3\n",
      "top           N\n",
      "freq      19259\n",
      "Name: DMAJNCH, dtype: object\n",
      "Unique values :  ['N' 'Y' 'U' nan]\n",
      "\n",
      "Colunm Name :  DMAJNCHX\n",
      "Describe:  count            145\n",
      "unique           117\n",
      "top       HAEMATURIA\n",
      "freq               7\n",
      "Name: DMAJNCHX, dtype: object\n",
      "\n",
      "Colunm Name :  DSIDE\n",
      "Describe:  count     19421\n",
      "unique        3\n",
      "top           N\n",
      "freq      18768\n",
      "Name: DSIDE, dtype: object\n",
      "Unique values :  ['N' 'Y' 'U' nan]\n",
      "\n",
      "Colunm Name :  DSIDEX\n",
      "Describe:  count            638\n",
      "unique           515\n",
      "top       HAEMATURIA\n",
      "freq              17\n",
      "Name: DSIDEX, dtype: object\n",
      "\n",
      "Colunm Name :  DDIAGISC\n",
      "Describe:  count     19412\n",
      "unique        4\n",
      "top           Y\n",
      "freq      17398\n",
      "Name: DDIAGISC, dtype: object\n",
      "Unique values :  ['Y' 'N' 'U' nan]\n",
      "\n",
      "Colunm Name :  DDIAGHA\n",
      "Describe:  count     19409\n",
      "unique        3\n",
      "top           N\n",
      "freq      18804\n",
      "Name: DDIAGHA, dtype: object\n",
      "Unique values :  ['N' 'Y' nan 'U']\n",
      "\n",
      "Colunm Name :  DDIAGUN\n",
      "Describe:  count     19412\n",
      "unique        3\n",
      "top           N\n",
      "freq      18414\n",
      "Name: DDIAGUN, dtype: object\n",
      "Unique values :  ['N' 'Y' nan 'U']\n",
      "\n",
      "Colunm Name :  DNOSTRK\n",
      "Describe:  count     19409\n",
      "unique        3\n",
      "top           N\n",
      "freq      18983\n",
      "Name: DNOSTRK, dtype: object\n",
      "Unique values :  ['N' 'Y' nan 'U']\n",
      "\n",
      "Colunm Name :  DNOSTRKX\n",
      "Describe:  count     427\n",
      "unique    252\n",
      "top       TIA\n",
      "freq      100\n",
      "Name: DNOSTRKX, dtype: object\n",
      "\n",
      "Colunm Name :  DRSISC\n",
      "Describe:  count     19417\n",
      "unique        3\n",
      "top           N\n",
      "freq      18995\n",
      "Name: DRSISC, dtype: object\n",
      "Unique values :  ['N' 'Y' nan 'U']\n",
      "\n",
      "Colunm Name :  DRSH\n",
      "Describe:  count     19420\n",
      "unique        3\n",
      "top           N\n",
      "freq      19314\n",
      "Name: DRSH, dtype: object\n",
      "Unique values :  ['N' 'Y' 'U' nan]\n",
      "\n",
      "Colunm Name :  DRSUNK\n",
      "Describe:  count     18428\n",
      "unique        3\n",
      "top           N\n",
      "freq      18159\n",
      "Name: DRSUNK, dtype: object\n",
      "Unique values :  [nan 'N' 'Y' 'U']\n",
      "\n",
      "Colunm Name :  DPE\n",
      "Describe:  count     19421\n",
      "unique        3\n",
      "top           N\n",
      "freq      19287\n",
      "Name: DPE, dtype: object\n",
      "Unique values :  ['N' 'Y' 'U' nan]\n",
      "\n",
      "Colunm Name :  DALIVE\n",
      "Describe:  count     19407\n",
      "unique        3\n",
      "top           Y\n",
      "freq      10322\n",
      "Name: DALIVE, dtype: object\n",
      "Unique values :  ['N' 'Y' nan 'U']\n",
      "\n",
      "Colunm Name :  DPLACE\n",
      "Describe:  count     9726\n",
      "unique       6\n",
      "top          A\n",
      "freq      7062\n",
      "Name: DPLACE, dtype: object\n",
      "Unique values :  [nan 'A' 'U' 'D' 'E' 'B' 'C']\n",
      "\n",
      "Colunm Name :  DDEAD\n",
      "Describe:  count     19416\n",
      "unique        3\n",
      "top           N\n",
      "freq      17376\n",
      "Name: DDEAD, dtype: object\n",
      "Unique values :  ['N' 'Y' nan 'U']\n",
      "\n",
      "Colunm Name :  DDEADX\n",
      "Describe:  count         168\n",
      "unique        138\n",
      "top       UNKNOWN\n",
      "freq            7\n",
      "Name: DDEADX, dtype: object\n",
      "\n",
      "Colunm Name :  FDEAD\n",
      "Describe:  count     19336\n",
      "unique        3\n",
      "top           N\n",
      "freq      14910\n",
      "Name: FDEAD, dtype: object\n",
      "Unique values :  ['N' 'U' 'Y' nan]\n",
      "\n",
      "Colunm Name :  FDEADX\n",
      "Describe:  count         784\n",
      "unique        382\n",
      "top       UNKNOWN\n",
      "freq          142\n",
      "Name: FDEADX, dtype: object\n",
      "\n",
      "Colunm Name :  FRECOVER\n",
      "Describe:  count     15015\n",
      "unique        3\n",
      "top           N\n",
      "freq      11088\n",
      "Name: FRECOVER, dtype: object\n",
      "Unique values :  ['N' 'Y' 'U' nan]\n",
      "\n",
      "Colunm Name :  FDENNIS\n",
      "Describe:  count     14936\n",
      "unique        3\n",
      "top           Y\n",
      "freq       7727\n",
      "Name: FDENNIS, dtype: object\n",
      "Unique values :  ['Y' 'N' 'U' nan]\n",
      "\n",
      "Colunm Name :  FPLACE\n",
      "Describe:  count     14933\n",
      "unique        6\n",
      "top           A\n",
      "freq      11607\n",
      "Name: FPLACE, dtype: object\n",
      "Unique values :  ['E' 'A' 'D' 'U' nan 'B' 'C']\n",
      "\n",
      "Colunm Name :  FAP\n",
      "Describe:  count     14867\n",
      "unique        4\n",
      "top           Y\n",
      "freq      10516\n",
      "Name: FAP, dtype: object\n",
      "Unique values :  [nan 'U' 'N' 'Y']\n",
      "\n",
      "Colunm Name :  FOAC\n",
      "Describe:  count     14861\n",
      "unique        3\n",
      "top           N\n",
      "freq      12323\n",
      "Name: FOAC, dtype: object\n",
      "Unique values :  [nan 'U' 'N' 'Y']\n",
      "\n",
      "Colunm Name :  COUNTRY\n",
      "Describe:  count     19435\n",
      "unique       36\n",
      "top          UK\n",
      "freq       6257\n",
      "Name: COUNTRY, dtype: object\n",
      "\n",
      "Colunm Name :  NCCODE\n",
      "Describe:  count     1519\n",
      "unique      25\n",
      "top          4\n",
      "freq       296\n",
      "Name: NCCODE, dtype: object\n",
      "\n",
      "Colunm Name :  CMPLASP\n",
      "Describe:  count     19422\n",
      "unique        2\n",
      "top           Y\n",
      "freq      18495\n",
      "Name: CMPLASP, dtype: object\n",
      "Unique values :  ['Y' 'N' nan]\n",
      "\n",
      "Colunm Name :  CMPLHEP\n",
      "Describe:  count     19422\n",
      "unique        2\n",
      "top           Y\n",
      "freq      18359\n",
      "Name: CMPLHEP, dtype: object\n",
      "Unique values :  ['Y' 'N' nan]\n"
     ]
    }
   ],
   "source": [
    "# Iterate over object columns\n",
    "for column in object_col:\n",
    "    columnSeriesObj = df[column]\n",
    "    print()\n",
    "    print('Colunm Name : ', column)\n",
    "    print('Describe: ', columnSeriesObj.describe())\n",
    "    if columnSeriesObj.nunique() <= 6:\n",
    "        df[column] = df[column].str.upper()                     # all strings in uppercase\n",
    "        print('Unique values : ', columnSeriesObj.unique())"
   ]
  },
  {
   "cell_type": "code",
   "execution_count": 13,
   "metadata": {},
   "outputs": [
    {
     "output_type": "stream",
     "name": "stdout",
     "text": [
      "\n",
      "Colunm Name :  HOSPNUM\n",
      "Describe:  count    19435.000000\n",
      "mean       200.055467\n",
      "std        160.335093\n",
      "min          1.000000\n",
      "25%         60.000000\n",
      "50%        159.000000\n",
      "75%        319.000000\n",
      "max        568.000000\n",
      "Name: HOSPNUM, dtype: float64\n",
      "\n",
      "Colunm Name :  RDELAY\n",
      "Describe:  count    19435.000000\n",
      "mean        20.124363\n",
      "std         12.470330\n",
      "min          1.000000\n",
      "25%          9.000000\n",
      "50%         19.000000\n",
      "75%         29.000000\n",
      "max         48.000000\n",
      "Name: RDELAY, dtype: float64\n",
      "\n",
      "Colunm Name :  AGE\n",
      "Describe:  count    19435.000000\n",
      "mean        71.715410\n",
      "std         11.619714\n",
      "min         16.000000\n",
      "25%         65.000000\n",
      "50%         73.000000\n",
      "75%         80.000000\n",
      "max         99.000000\n",
      "Name: AGE, dtype: float64\n",
      "\n",
      "Colunm Name :  RSBP\n",
      "Describe:  count    19435.000000\n",
      "mean       160.159197\n",
      "std         27.610382\n",
      "min         70.000000\n",
      "25%        140.000000\n",
      "50%        160.000000\n",
      "75%        180.000000\n",
      "max        295.000000\n",
      "Name: RSBP, dtype: float64\n",
      "\n",
      "Colunm Name :  HOURLOCAL\n",
      "Describe:  count    19435.000000\n",
      "mean        15.581528\n",
      "std         12.076144\n",
      "min          0.000000\n",
      "25%         11.000000\n",
      "50%         14.000000\n",
      "75%         17.000000\n",
      "max         99.000000\n",
      "Name: HOURLOCAL, dtype: float64\n",
      "\n",
      "Colunm Name :  MINLOCAL\n",
      "Describe:  count    19435.000000\n",
      "mean        30.840340\n",
      "std         19.356143\n",
      "min          0.000000\n",
      "25%         15.000000\n",
      "50%         30.000000\n",
      "75%         45.000000\n",
      "max         99.000000\n",
      "Name: MINLOCAL, dtype: float64\n",
      "\n",
      "Colunm Name :  DAYLOCAL\n",
      "Describe:  count    19435.000000\n",
      "mean         4.084435\n",
      "std          1.842469\n",
      "min          1.000000\n",
      "25%          3.000000\n",
      "50%          4.000000\n",
      "75%          6.000000\n",
      "max          7.000000\n",
      "Name: DAYLOCAL, dtype: float64\n",
      "\n",
      "Colunm Name :  ONDRUG\n",
      "Describe:  count    19434.000000\n",
      "mean        10.885561\n",
      "std          4.182254\n",
      "min          0.000000\n",
      "25%          8.000000\n",
      "50%         14.000000\n",
      "75%         14.000000\n",
      "max         14.000000\n",
      "Name: ONDRUG, dtype: float64\n",
      "\n",
      "Colunm Name :  DMAJNCHD\n",
      "Describe:  count    149.000000\n",
      "mean       9.590604\n",
      "std       22.408075\n",
      "min        0.000000\n",
      "25%        4.000000\n",
      "50%        6.000000\n",
      "75%       10.000000\n",
      "max      267.000000\n",
      "Name: DMAJNCHD, dtype: float64\n",
      "\n",
      "Colunm Name :  DSIDED\n",
      "Describe:  count    633.000000\n",
      "mean       7.624013\n",
      "std       21.232532\n",
      "min        0.000000\n",
      "25%        2.000000\n",
      "50%        5.000000\n",
      "75%        9.000000\n",
      "max      368.000000\n",
      "Name: DSIDED, dtype: float64\n",
      "\n",
      "Colunm Name :  DRSISCD\n",
      "Describe:  count    413.000000\n",
      "mean       5.694915\n",
      "std       13.768858\n",
      "min        0.000000\n",
      "25%        1.000000\n",
      "50%        3.000000\n",
      "75%        7.000000\n",
      "max      252.000000\n",
      "Name: DRSISCD, dtype: float64\n",
      "\n",
      "Colunm Name :  DRSHD\n",
      "Describe:  count    97.000000\n",
      "mean      6.536082\n",
      "std       7.766195\n",
      "min       0.000000\n",
      "25%       2.000000\n",
      "50%       5.000000\n",
      "75%       9.000000\n",
      "max      65.000000\n",
      "Name: DRSHD, dtype: float64\n",
      "\n",
      "Colunm Name :  DRSUNKD\n",
      "Describe:  count    260.000000\n",
      "mean       7.284615\n",
      "std       10.499299\n",
      "min        0.000000\n",
      "25%        2.000000\n",
      "50%        4.000000\n",
      "75%        9.000000\n",
      "max      101.000000\n",
      "Name: DRSUNKD, dtype: float64\n",
      "\n",
      "Colunm Name :  DPED\n",
      "Describe:  count    125.000000\n",
      "mean      10.640000\n",
      "std        9.659026\n",
      "min        0.000000\n",
      "25%        5.000000\n",
      "50%        9.000000\n",
      "75%       14.000000\n",
      "max       69.000000\n",
      "Name: DPED, dtype: float64\n",
      "\n",
      "Colunm Name :  DALIVED\n",
      "Describe:  count    10322.000000\n",
      "mean        13.140961\n",
      "std         15.249569\n",
      "min          0.000000\n",
      "25%          6.000000\n",
      "50%         11.000000\n",
      "75%         15.000000\n",
      "max        392.000000\n",
      "Name: DALIVED, dtype: float64\n",
      "\n",
      "Colunm Name :  DDEADD\n",
      "Describe:  count    2034.000000\n",
      "mean        9.831367\n",
      "std        17.051514\n",
      "min         0.000000\n",
      "25%         3.000000\n",
      "50%         6.000000\n",
      "75%        12.000000\n",
      "max       579.000000\n",
      "Name: DDEADD, dtype: float64\n",
      "\n",
      "Colunm Name :  DDEADC\n",
      "Describe:  count    2334.000000\n",
      "mean        2.404456\n",
      "std         2.172007\n",
      "min         0.000000\n",
      "25%         1.000000\n",
      "50%         1.000000\n",
      "75%         4.000000\n",
      "max         8.000000\n",
      "Name: DDEADC, dtype: float64\n",
      "\n",
      "Colunm Name :  FLASTD\n",
      "Describe:  count     58.000000\n",
      "mean      81.172414\n",
      "std       98.238367\n",
      "min        0.000000\n",
      "25%       10.000000\n",
      "50%       50.000000\n",
      "75%      128.000000\n",
      "max      606.000000\n",
      "Name: FLASTD, dtype: float64\n",
      "\n",
      "Colunm Name :  FDEADD\n",
      "Describe:  count    4346.000000\n",
      "mean       46.676484\n",
      "std        57.498329\n",
      "min         0.000000\n",
      "25%         7.000000\n",
      "50%        22.000000\n",
      "75%        66.000000\n",
      "max       579.000000\n",
      "Name: FDEADD, dtype: float64\n",
      "\n",
      "Colunm Name :  FDEADC\n",
      "Describe:  count    4364.000000\n",
      "mean        3.441797\n",
      "std         2.382524\n",
      "min         0.000000\n",
      "25%         1.000000\n",
      "50%         4.000000\n",
      "75%         5.000000\n",
      "max         8.000000\n",
      "Name: FDEADC, dtype: float64\n",
      "\n",
      "Colunm Name :  FU1_RECD\n",
      "Describe:  count    19422.000000\n",
      "mean        47.822057\n",
      "std         52.095201\n",
      "min          0.000000\n",
      "25%         22.000000\n",
      "50%         31.000000\n",
      "75%         54.000000\n",
      "max       1036.000000\n",
      "Name: FU1_RECD, dtype: float64\n",
      "\n",
      "Colunm Name :  FU2_DONE\n",
      "Describe:  count    19336.000000\n",
      "mean       185.032168\n",
      "std         73.052666\n",
      "min          0.000000\n",
      "25%        176.000000\n",
      "50%        189.000000\n",
      "75%        209.000000\n",
      "max       1573.000000\n",
      "Name: FU2_DONE, dtype: float64\n",
      "\n",
      "Colunm Name :  CNTRYNUM\n",
      "Describe:  count    19435.000000\n",
      "mean        20.965629\n",
      "std          8.439510\n",
      "min          1.000000\n",
      "25%         14.000000\n",
      "50%         25.000000\n",
      "75%         27.000000\n",
      "max         44.000000\n",
      "Name: CNTRYNUM, dtype: float64\n",
      "\n",
      "Colunm Name :  FU1_COMP\n",
      "Describe:  count    18965.000000\n",
      "mean        31.366201\n",
      "std         46.669627\n",
      "min          0.000000\n",
      "25%         13.000000\n",
      "50%         16.000000\n",
      "75%         30.000000\n",
      "max        957.000000\n",
      "Name: FU1_COMP, dtype: float64\n",
      "\n",
      "Colunm Name :  DIED\n",
      "Describe:  count    19435.000000\n",
      "mean         0.224852\n",
      "std          0.417496\n",
      "min          0.000000\n",
      "25%          0.000000\n",
      "50%          0.000000\n",
      "75%          0.000000\n",
      "max          1.000000\n",
      "Name: DIED, dtype: float64\n",
      "\n",
      "Colunm Name :  TD\n",
      "Describe:  count    19433.000000\n",
      "mean       167.646581\n",
      "std         83.199984\n",
      "min          0.000000\n",
      "25%        163.000000\n",
      "50%        186.000000\n",
      "75%        205.000000\n",
      "max       1322.000000\n",
      "Name: TD, dtype: float64\n",
      "\n",
      "Colunm Name :  EXPDD\n",
      "Describe:  count    19435.000000\n",
      "mean         0.629215\n",
      "std          0.230564\n",
      "min          0.089100\n",
      "25%          0.439100\n",
      "50%          0.637800\n",
      "75%          0.836750\n",
      "max          0.995200\n",
      "Name: EXPDD, dtype: float64\n",
      "\n",
      "Colunm Name :  EXPD6\n",
      "Describe:  count    19435.000000\n",
      "mean         0.229676\n",
      "std          0.194553\n",
      "min          0.003500\n",
      "25%          0.084600\n",
      "50%          0.160100\n",
      "75%          0.319200\n",
      "max          0.901200\n",
      "Name: EXPD6, dtype: float64\n",
      "\n",
      "Colunm Name :  EXPD14\n",
      "Describe:  count    19435.000000\n",
      "mean         0.094167\n",
      "std          0.104473\n",
      "min          0.005000\n",
      "25%          0.028500\n",
      "50%          0.047100\n",
      "75%          0.113100\n",
      "max          0.576100\n",
      "Name: EXPD14, dtype: float64\n",
      "\n",
      "Colunm Name :  SET14D\n",
      "Describe:  count    19435.000000\n",
      "mean         0.999897\n",
      "std          0.010144\n",
      "min          0.000000\n",
      "25%          1.000000\n",
      "50%          1.000000\n",
      "75%          1.000000\n",
      "max          1.000000\n",
      "Name: SET14D, dtype: float64\n",
      "\n",
      "Colunm Name :  ID14\n",
      "Describe:  count    19435.000000\n",
      "mean         0.091639\n",
      "std          0.288523\n",
      "min          0.000000\n",
      "25%          0.000000\n",
      "50%          0.000000\n",
      "75%          0.000000\n",
      "max          1.000000\n",
      "Name: ID14, dtype: float64\n",
      "\n",
      "Colunm Name :  OCCODE\n",
      "Describe:  count    19435.000000\n",
      "mean         2.328891\n",
      "std          1.068117\n",
      "min          0.000000\n",
      "25%          2.000000\n",
      "50%          2.000000\n",
      "75%          3.000000\n",
      "max          9.000000\n",
      "Name: OCCODE, dtype: float64\n",
      "\n",
      "Colunm Name :  DEAD1\n",
      "Describe:  count    19435.000000\n",
      "mean         0.076203\n",
      "std          0.265329\n",
      "min          0.000000\n",
      "25%          0.000000\n",
      "50%          0.000000\n",
      "75%          0.000000\n",
      "max          1.000000\n",
      "Name: DEAD1, dtype: float64\n",
      "\n",
      "Colunm Name :  DEAD2\n",
      "Describe:  count    19435.000000\n",
      "mean         0.027682\n",
      "std          0.164064\n",
      "min          0.000000\n",
      "25%          0.000000\n",
      "50%          0.000000\n",
      "75%          0.000000\n",
      "max          1.000000\n",
      "Name: DEAD2, dtype: float64\n",
      "\n",
      "Colunm Name :  DEAD3\n",
      "Describe:  count    19435.000000\n",
      "mean         0.003962\n",
      "std          0.062821\n",
      "min          0.000000\n",
      "25%          0.000000\n",
      "50%          0.000000\n",
      "75%          0.000000\n",
      "max          1.000000\n",
      "Name: DEAD3, dtype: float64\n",
      "\n",
      "Colunm Name :  DEAD4\n",
      "Describe:  count    19435.000000\n",
      "mean         0.043015\n",
      "std          0.202897\n",
      "min          0.000000\n",
      "25%          0.000000\n",
      "50%          0.000000\n",
      "75%          0.000000\n",
      "max          1.000000\n",
      "Name: DEAD4, dtype: float64\n",
      "\n",
      "Colunm Name :  DEAD5\n",
      "Describe:  count    19435.000000\n",
      "mean         0.019089\n",
      "std          0.136842\n",
      "min          0.000000\n",
      "25%          0.000000\n",
      "50%          0.000000\n",
      "75%          0.000000\n",
      "max          1.000000\n",
      "Name: DEAD5, dtype: float64\n",
      "\n",
      "Colunm Name :  DEAD6\n",
      "Describe:  count    19435.000000\n",
      "mean         0.008799\n",
      "std          0.093389\n",
      "min          0.000000\n",
      "25%          0.000000\n",
      "50%          0.000000\n",
      "75%          0.000000\n",
      "max          1.000000\n",
      "Name: DEAD6, dtype: float64\n",
      "\n",
      "Colunm Name :  DEAD7\n",
      "Describe:  count    19435.000000\n",
      "mean         0.027631\n",
      "std          0.163916\n",
      "min          0.000000\n",
      "25%          0.000000\n",
      "50%          0.000000\n",
      "75%          0.000000\n",
      "max          1.000000\n",
      "Name: DEAD7, dtype: float64\n",
      "\n",
      "Colunm Name :  DEAD8\n",
      "Describe:  count    19435.000000\n",
      "mean         0.011834\n",
      "std          0.108143\n",
      "min          0.000000\n",
      "25%          0.000000\n",
      "50%          0.000000\n",
      "75%          0.000000\n",
      "max          1.000000\n",
      "Name: DEAD8, dtype: float64\n",
      "\n",
      "Colunm Name :  H14\n",
      "Describe:  count    19435.000000\n",
      "mean         0.008284\n",
      "std          0.090641\n",
      "min          0.000000\n",
      "25%          0.000000\n",
      "50%          0.000000\n",
      "75%          0.000000\n",
      "max          1.000000\n",
      "Name: H14, dtype: float64\n",
      "\n",
      "Colunm Name :  ISC14\n",
      "Describe:  count    19435.000000\n",
      "mean         0.020324\n",
      "std          0.141110\n",
      "min          0.000000\n",
      "25%          0.000000\n",
      "50%          0.000000\n",
      "75%          0.000000\n",
      "max          1.000000\n",
      "Name: ISC14, dtype: float64\n",
      "\n",
      "Colunm Name :  NK14\n",
      "Describe:  count    19435.000000\n",
      "mean         0.013378\n",
      "std          0.114890\n",
      "min          0.000000\n",
      "25%          0.000000\n",
      "50%          0.000000\n",
      "75%          0.000000\n",
      "max          1.000000\n",
      "Name: NK14, dtype: float64\n",
      "\n",
      "Colunm Name :  STRK14\n",
      "Describe:  count    19435.000000\n",
      "mean         0.041523\n",
      "std          0.199502\n",
      "min          0.000000\n",
      "25%          0.000000\n",
      "50%          0.000000\n",
      "75%          0.000000\n",
      "max          1.000000\n",
      "Name: STRK14, dtype: float64\n",
      "\n",
      "Colunm Name :  HTI14\n",
      "Describe:  count    19435.000000\n",
      "mean         0.003036\n",
      "std          0.055015\n",
      "min          0.000000\n",
      "25%          0.000000\n",
      "50%          0.000000\n",
      "75%          0.000000\n",
      "max          1.000000\n",
      "Name: HTI14, dtype: float64\n",
      "\n",
      "Colunm Name :  PE14\n",
      "Describe:  count    19435.000000\n",
      "mean         0.006895\n",
      "std          0.082750\n",
      "min          0.000000\n",
      "25%          0.000000\n",
      "50%          0.000000\n",
      "75%          0.000000\n",
      "max          1.000000\n",
      "Name: PE14, dtype: float64\n",
      "\n",
      "Colunm Name :  DVT14\n",
      "Describe:  count    19435.000000\n",
      "mean         0.001132\n",
      "std          0.033627\n",
      "min          0.000000\n",
      "25%          0.000000\n",
      "50%          0.000000\n",
      "75%          0.000000\n",
      "max          1.000000\n",
      "Name: DVT14, dtype: float64\n",
      "\n",
      "Colunm Name :  TRAN14\n",
      "Describe:  count    19435.000000\n",
      "mean         0.008541\n",
      "std          0.092026\n",
      "min          0.000000\n",
      "25%          0.000000\n",
      "50%          0.000000\n",
      "75%          0.000000\n",
      "max          1.000000\n",
      "Name: TRAN14, dtype: float64\n",
      "\n",
      "Colunm Name :  NCB14\n",
      "Describe:  count    19435.000000\n",
      "mean         0.027322\n",
      "std          0.163024\n",
      "min          0.000000\n",
      "25%          0.000000\n",
      "50%          0.000000\n",
      "75%          0.000000\n",
      "max          1.000000\n",
      "Name: NCB14, dtype: float64\n"
     ]
    }
   ],
   "source": [
    "# Iterate over numeric columns\n",
    "for column in num_col:\n",
    "    columnSeriesObj = df[column]\n",
    "    print()\n",
    "    print('Colunm Name : ', column)\n",
    "    print('Describe: ', columnSeriesObj.describe())\n"
   ]
  },
  {
   "cell_type": "code",
   "execution_count": 14,
   "metadata": {},
   "outputs": [
    {
     "output_type": "execute_result",
     "data": {
      "text/plain": [
       "array(['sty-91', 'lut-91', 'mar-91', 'kwi-91', 'maj-91', 'cze-91',\n",
       "       'lip-91', 'sie-91', 'wrz-91', 'pa�-91', 'lis-91', 'gru-91',\n",
       "       'sty-92', 'lut-92', 'mar-92', 'kwi-92', 'maj-92', 'cze-92',\n",
       "       'lip-92', 'sie-92', 'wrz-92', 'pa�-92', 'lis-92', 'gru-92',\n",
       "       'sty-93', 'lut-93', 'mar-93', 'lip-93', 'sty-94', 'wrz-93',\n",
       "       'sie-93', 'gru-93', 'lis-93', 'kwi-93', 'mar-94', 'wrz-94',\n",
       "       'lip-94', 'sie-94', 'maj-93', 'pa�-93', 'kwi-94', 'lut-94',\n",
       "       'maj-94', 'cze-93', 'cze-94', 'gru-94', 'sty-95', 'pa�-94',\n",
       "       'lis-94', 'lut-95', 'lip-95', 'maj-96', 'maj-95', 'mar-95',\n",
       "       'wrz-95', 'pa�-95', 'kwi-95', 'lut-96', 'sty-96', 'cze-95',\n",
       "       'sie-95', 'lis-95', 'gru-95', 'mar-96', 'kwi-96'], dtype=object)"
      ]
     },
     "metadata": {},
     "execution_count": 14
    }
   ],
   "source": [
    "df.RDATE.unique() # probably polish (https://en.wikipedia.org/wiki/Slavic_calendar)"
   ]
  },
  {
   "cell_type": "code",
   "execution_count": 15,
   "metadata": {},
   "outputs": [],
   "source": [
    "#extract year from RDATE\n",
    "df['RYEAR'] = df.RDATE.str.extract(r'(\\d{2})', expand=False)"
   ]
  },
  {
   "cell_type": "code",
   "execution_count": 16,
   "metadata": {},
   "outputs": [
    {
     "output_type": "execute_result",
     "data": {
      "text/plain": [
       "array(['91', '92', '93', '94', '95', '96'], dtype=object)"
      ]
     },
     "metadata": {},
     "execution_count": 16
    }
   ],
   "source": [
    "df.RYEAR.unique()"
   ]
  },
  {
   "source": [
    "Month (EN) | Month (PL) | Month (in df)\n",
    ":----- | ----: | -----:\n",
    "January  | styczeń | sty\n",
    "February  | luty  | lut\n",
    "March | (brzezień) | Mar\n",
    "April | kwiecień | kwi\n",
    "May | (trawień) | maj\n",
    "June | czerwiec | cze\n",
    "July | lipiec | lip\n",
    "August | sierpień | sie\n",
    "September | wrzesień | wrz\n",
    "Ocotber | październik | pa�\n",
    "November | listopad | lis\n",
    "December | grudzień | gru"
   ],
   "cell_type": "markdown",
   "metadata": {}
  },
  {
   "cell_type": "code",
   "execution_count": 17,
   "metadata": {},
   "outputs": [],
   "source": [
    "#df.RDATE.to_string()\n",
    "#type(df.RDATE)"
   ]
  },
  {
   "cell_type": "code",
   "execution_count": 18,
   "metadata": {},
   "outputs": [],
   "source": [
    "# equivalents/translations for months\n",
    "month_dict = {'sty': '01', 'lut': '02', 'mar': '03', 'kwi': '04', 'maj': '05', 'cze': '06',\n",
    "                'lip': '07', 'sie': '08', 'wrz': '09', 'pa�': '10', 'lis': '11', 'gru': '12'}"
   ]
  },
  {
   "cell_type": "code",
   "execution_count": 19,
   "metadata": {},
   "outputs": [],
   "source": [
    "# replace string in RDATE with number (according to month)\n",
    "df.RDATE = df.RDATE.replace(month_dict, regex=True)"
   ]
  },
  {
   "cell_type": "code",
   "execution_count": 20,
   "metadata": {},
   "outputs": [
    {
     "output_type": "execute_result",
     "data": {
      "text/plain": [
       "array(['01-91', '02-91', '03-91', '04-91', '05-91', '06-91', '07-91',\n",
       "       '08-91', '09-91', '10-91', '11-91', '12-91', '01-92', '02-92',\n",
       "       '03-92', '04-92', '05-92', '06-92', '07-92', '08-92', '09-92',\n",
       "       '10-92', '11-92', '12-92', '01-93', '02-93', '03-93', '07-93',\n",
       "       '01-94', '09-93', '08-93', '12-93', '11-93', '04-93', '03-94',\n",
       "       '09-94', '07-94', '08-94', '05-93', '10-93', '04-94', '02-94',\n",
       "       '05-94', '06-93', '06-94', '12-94', '01-95', '10-94', '11-94',\n",
       "       '02-95', '07-95', '05-96', '05-95', '03-95', '09-95', '10-95',\n",
       "       '04-95', '02-96', '01-96', '06-95', '08-95', '11-95', '12-95',\n",
       "       '03-96', '04-96'], dtype=object)"
      ]
     },
     "metadata": {},
     "execution_count": 20
    }
   ],
   "source": [
    "df.RDATE.unique()"
   ]
  },
  {
   "cell_type": "code",
   "execution_count": 21,
   "metadata": {},
   "outputs": [
    {
     "output_type": "stream",
     "name": "stdout",
     "text": [
      "UK      6257\nITAL    3437\nSWIT    1631\nPOLA     759\nNETH     728\nSWED     636\nAUSL     597\nARGE     545\nNORW     526\nSPAI     478\nCZEC     466\nNEW      453\nPORT     415\nBELG     305\nTURK     286\nAUST     230\nINDI     229\nGREE     152\nSING     140\nUSA      131\nCANA     117\nHONG     115\nISRA     114\nHUNG     105\nSLOK      86\nFINL      85\nBRAS      83\nSOUT      69\nCHIL      65\nEIRE      58\nSLOV      53\nDENM      35\nSRI       20\nROMA      18\nJAPA       9\nFRAN       2\nName: COUNTRY, dtype: int64\n"
     ]
    },
    {
     "output_type": "execute_result",
     "data": {
      "text/plain": [
       "27    6257\n",
       "14    3437\n",
       "25    1631\n",
       "18     759\n",
       "15     728\n",
       "24     636\n",
       "1      597\n",
       "29     545\n",
       "17     526\n",
       "22     478\n",
       "7      466\n",
       "16     453\n",
       "19     415\n",
       "3      305\n",
       "35     286\n",
       "2      230\n",
       "37     229\n",
       "31     152\n",
       "34     140\n",
       "28     131\n",
       "5      117\n",
       "30     115\n",
       "13     114\n",
       "36     105\n",
       "44      86\n",
       "10      85\n",
       "42      83\n",
       "21      69\n",
       "6       65\n",
       "9       58\n",
       "20      53\n",
       "8       35\n",
       "23      20\n",
       "33      18\n",
       "38       9\n",
       "11       2\n",
       "Name: CNTRYNUM, dtype: int64"
      ]
     },
     "metadata": {},
     "execution_count": 21
    }
   ],
   "source": [
    "print(df.COUNTRY.value_counts())\n",
    "df.CNTRYNUM.value_counts()"
   ]
  },
  {
   "cell_type": "code",
   "execution_count": 22,
   "metadata": {},
   "outputs": [],
   "source": [
    "df['COUNTRY_ISO'] = df['COUNTRY'].replace({'UK': 'GB', 'ITAL': 'IT', 'SWIT': 'CH', 'POLA': 'PL', 'NETH': 'NL', \n",
    "    'SWED': 'SE', 'AUSL': 'AU', 'NORW': 'NO', 'ARGE': 'AR', 'SPAI': 'ES', 'CZEC': 'CZ', 'NEW': 'NZ', 'PORT': 'PT',\n",
    "    'BELG': 'BE', 'TURK': 'TR', 'AUST': 'AT', 'INDI': 'IN', 'GREE': 'GR', 'SING': 'SG', 'USA': 'USA', 'CANA': 'CA',\n",
    "    'ISRA': 'IL', 'HUNG': 'HU', 'HONG': 'HK', 'SLOK': 'SK', 'FINL': 'FI', 'BRAS': 'BR', 'EIRE': 'IE', 'CHIL': 'CL',\n",
    "    'SOUT': 'ZA', 'SLOV': 'SI', 'DENM': 'DK', 'ROMA': 'RO', 'SRI': 'LK', 'JAPA': 'JP', 'FRAN': 'FR'})"
   ]
  },
  {
   "cell_type": "code",
   "execution_count": 23,
   "metadata": {},
   "outputs": [],
   "source": [
    "#df.COUNTRY_ISO.value_counts()"
   ]
  },
  {
   "cell_type": "code",
   "execution_count": 24,
   "metadata": {},
   "outputs": [
    {
     "output_type": "execute_result",
     "data": {
      "text/plain": [
       "0        (63.0, 70.0]\n",
       "1        (70.0, 76.0]\n",
       "2        (70.0, 76.0]\n",
       "3        (76.0, 82.0]\n",
       "4        (76.0, 82.0]\n",
       "             ...     \n",
       "19430    (63.0, 70.0]\n",
       "19431    (70.0, 76.0]\n",
       "19432    (76.0, 82.0]\n",
       "19433    (82.0, 99.0]\n",
       "19434    (15.0, 63.0]\n",
       "Name: AGE, Length: 19435, dtype: category\n",
       "Categories (5, interval[float64]): [(15.0, 63.0] < (63.0, 70.0] < (70.0, 76.0] < (76.0, 82.0] < (82.0, 99.0]]"
      ]
     },
     "metadata": {},
     "execution_count": 24
    }
   ],
   "source": [
    "pd.qcut(x=df['AGE'], q=5, precision=0)"
   ]
  },
  {
   "cell_type": "code",
   "execution_count": 25,
   "metadata": {},
   "outputs": [],
   "source": [
    "# bin AGE into equally sized bins\n",
    "labels = ['16 - 63', '64 - 70', '71 - 76', '77 - 82', '83 - 99']\n",
    "df['AGE_bin'] = pd.qcut(x=df['AGE'], q=5, labels = labels, precision=0)"
   ]
  },
  {
   "cell_type": "code",
   "execution_count": 26,
   "metadata": {},
   "outputs": [
    {
     "output_type": "execute_result",
     "data": {
      "text/plain": [
       "71 - 76    4266\n",
       "16 - 63    4232\n",
       "77 - 82    3937\n",
       "64 - 70    3570\n",
       "83 - 99    3430\n",
       "Name: AGE_bin, dtype: int64"
      ]
     },
     "metadata": {},
     "execution_count": 26
    }
   ],
   "source": [
    "df.AGE_bin.value_counts()"
   ]
  },
  {
   "cell_type": "code",
   "execution_count": 27,
   "metadata": {},
   "outputs": [
    {
     "output_type": "execute_result",
     "data": {
      "text/plain": [
       "RHEP24  RASP3  RHEP24\n",
       "N       N      N         14195\n",
       "        Y      N          3827\n",
       "Y       N      Y           316\n",
       "        Y      Y           113\n",
       "Name: RHEP24, dtype: int64"
      ]
     },
     "metadata": {},
     "execution_count": 27
    }
   ],
   "source": [
    "group_hep24 = df.groupby(by = ['RHEP24', 'RASP3'])\n",
    "group_hep24['RHEP24'].value_counts()"
   ]
  },
  {
   "cell_type": "code",
   "execution_count": 28,
   "metadata": {},
   "outputs": [],
   "source": [
    "# replace H with M\n",
    "df['RXHEP'].replace('H','M', inplace=True)"
   ]
  },
  {
   "cell_type": "code",
   "execution_count": 29,
   "metadata": {},
   "outputs": [
    {
     "output_type": "stream",
     "name": "stdout",
     "text": [
      "count     19435\nunique        3\ntop           N\nfreq       9718\nName: RXHEP, dtype: object\n['N' 'L' 'M']\n"
     ]
    }
   ],
   "source": [
    "print(df.RXHEP.describe())\n",
    "print(df.RXHEP.unique())"
   ]
  },
  {
   "cell_type": "code",
   "execution_count": 30,
   "metadata": {},
   "outputs": [],
   "source": [
    "# merge DHH14 into DMH14 \n",
    "# (DHH14 = Medium dose heparin given for 14 days etc in pilot (combine with DMH14))\n",
    "df['DMH14'] = np.where(df['DMH14'].isnull() == True, df['DHH14'], df['DMH14'])"
   ]
  },
  {
   "cell_type": "code",
   "execution_count": 31,
   "metadata": {},
   "outputs": [],
   "source": [
    "# new variable: RXHEP14\n",
    "# Heparin given for 14 days or till death/discharge (Y, N)\n",
    "#df['RXHEP14'] = np.where(df[\"RXHEP\"] == 'M', df['DMH14'], 'N')\n",
    "#df['RXHEP14'] = np.where(df[\"RXHEP\"] == 'L', df['DLH14'], 'N')\n",
    "\n",
    "conditions = [\n",
    "    df['RXHEP'].eq('M') & df['DMH14'].eq('Y'),\n",
    "    df['RXHEP'].eq('L') & df['DLH14'].eq('Y')]\n",
    "\n",
    "choices = ['Y','Y']\n",
    "\n",
    "df['RXHEP14'] = np.select(conditions, choices, default='N')"
   ]
  },
  {
   "cell_type": "code",
   "execution_count": 32,
   "metadata": {},
   "outputs": [],
   "source": [
    "# new variable: HEP14\n",
    "# Dose Heparin given for 14 days or till death/discharge (Y, N)\n",
    "\n",
    "conditions = [\n",
    "    df['RXHEP'].eq('M') & df['DMH14'].eq('Y'),\n",
    "    df['RXHEP'].eq('L') & df['DLH14'].eq('Y')]\n",
    "\n",
    "choices = ['M','L']\n",
    "\n",
    "df['HEP14'] = np.select(conditions, choices, default='N')"
   ]
  },
  {
   "cell_type": "code",
   "execution_count": 33,
   "metadata": {},
   "outputs": [
    {
     "output_type": "stream",
     "name": "stdout",
     "text": [
      "HEP14  RXHEP\nL      L        4450\nM      M        4242\nN      N        9718\n       M         614\n       L         411\nName: RXHEP, dtype: int64\nDASP14  RXASP\nN       N        9552\n        Y         775\nU       N           9\n        Y           5\nY       Y        8929\n        N         143\nName: RXASP, dtype: int64\n"
     ]
    }
   ],
   "source": [
    "# Do the patients receive the treatment they were assigned to? \n",
    "# No => Go with DASP14 an HEP14, i.e. the treatment the patients actually received. \n",
    "print(df['RXHEP'].groupby(by = [df['HEP14']]).value_counts())\n",
    "print(df['RXASP'].groupby(df['DASP14']).value_counts())"
   ]
  },
  {
   "cell_type": "code",
   "execution_count": 34,
   "metadata": {},
   "outputs": [],
   "source": [
    "df = df[df['DASP14'] != 'U']"
   ]
  },
  {
   "cell_type": "code",
   "execution_count": 35,
   "metadata": {},
   "outputs": [
    {
     "output_type": "stream",
     "name": "stderr",
     "text": [
      "<ipython-input-35-9d27da6e70cb>:13: SettingWithCopyWarning: \nA value is trying to be set on a copy of a slice from a DataFrame.\nTry using .loc[row_indexer,col_indexer] = value instead\n\nSee the caveats in the documentation: https://pandas.pydata.org/pandas-docs/stable/user_guide/indexing.html#returning-a-view-versus-a-copy\n  df['TREAT14'] = np.select(conditions, choices, default='Control')\n"
     ]
    }
   ],
   "source": [
    "# new variable: TREAT14 (Meds given for 14 days or till death or discharge)\n",
    "# Treatment: 'Aspirin','Aspirin + Medium Heparin','Aspirin + Low Heparin', 'Medium Heparin', 'Low Heparin'\n",
    "\n",
    "conditions = [\n",
    "    df['DASP14'].eq('Y') & df['HEP14'].eq('N'),     # Aspirin - no Heparin\n",
    "    df['DASP14'].eq('Y') & df['HEP14'].eq('M'),     # Aspirin + Medium Heparin\n",
    "    df['DASP14'].eq('Y') & df['HEP14'].eq('L'),     # Aspirin + Low Heparin\n",
    "    df['HEP14'].eq('M'),                            # Medium Heparin\n",
    "    df['HEP14'].eq('L')]                            # Low Heparin\n",
    "\n",
    "choices = ['Aspirin','Aspirin + Medium Heparin','Aspirin + Low Heparin', 'Medium Heparin', 'Low Heparin']\n",
    "\n",
    "df['TREAT14'] = np.select(conditions, choices, default='Control')"
   ]
  },
  {
   "cell_type": "code",
   "execution_count": 36,
   "metadata": {},
   "outputs": [
    {
     "output_type": "execute_result",
     "data": {
      "text/plain": [
       "Control                     5896\n",
       "Aspirin                     4833\n",
       "Low Heparin                 2263\n",
       "Medium Heparin              2190\n",
       "Aspirin + Low Heparin       2187\n",
       "Aspirin + Medium Heparin    2052\n",
       "Name: TREAT14, dtype: int64"
      ]
     },
     "metadata": {},
     "execution_count": 36
    }
   ],
   "source": [
    "df.TREAT14.value_counts()"
   ]
  },
  {
   "cell_type": "code",
   "execution_count": 37,
   "metadata": {},
   "outputs": [
    {
     "output_type": "stream",
     "name": "stderr",
     "text": [
      "<ipython-input-37-16efcd267539>:11: SettingWithCopyWarning: \nA value is trying to be set on a copy of a slice from a DataFrame.\nTry using .loc[row_indexer,col_indexer] = value instead\n\nSee the caveats in the documentation: https://pandas.pydata.org/pandas-docs/stable/user_guide/indexing.html#returning-a-view-versus-a-copy\n  df['DMEDS'] = np.select(conditions, choices, default='N')\n"
     ]
    }
   ],
   "source": [
    "# new variable: DMEDS\n",
    "# additional medication beside ASP or HEP\n",
    "\n",
    "conditions = [\n",
    "    df['DSCH'].eq('Y'), df['DIVH'].eq('Y'), df['DAP'].eq('Y'), df['DOAC'].eq('Y'),\n",
    "    df['DGORM'].eq('Y'), df['DSTER'].eq('Y'), df['DCAA'].eq('Y')]\n",
    "\n",
    "choices = ['Subcut. Heparin','Intrav. Heparin','Antiplatelet drug','Other coanticoagulants',\n",
    "    'Glycerol or mannitol','Steroids','Calcium antagonist']\n",
    "\n",
    "df['DMEDS'] = np.select(conditions, choices, default='N')"
   ]
  },
  {
   "cell_type": "code",
   "execution_count": 38,
   "metadata": {},
   "outputs": [
    {
     "output_type": "execute_result",
     "data": {
      "text/plain": [
       "count     19421\n",
       "unique        8\n",
       "top           N\n",
       "freq      13947\n",
       "Name: DMEDS, dtype: object"
      ]
     },
     "metadata": {},
     "execution_count": 38
    }
   ],
   "source": [
    "df.DMEDS.describe()"
   ]
  },
  {
   "cell_type": "code",
   "execution_count": 39,
   "metadata": {},
   "outputs": [
    {
     "output_type": "stream",
     "name": "stderr",
     "text": [
      "<ipython-input-39-f404c2935962>:9: SettingWithCopyWarning: \nA value is trying to be set on a copy of a slice from a DataFrame.\nTry using .loc[row_indexer,col_indexer] = value instead\n\nSee the caveats in the documentation: https://pandas.pydata.org/pandas-docs/stable/user_guide/indexing.html#returning-a-view-versus-a-copy\n  df['DIAG'] = np.select(conditions, choices, default='Unknown')\n"
     ]
    }
   ],
   "source": [
    "# new variable: DIAG\n",
    "# combine all types of first stroke\n",
    "\n",
    "conditions = [\n",
    "    df['DDIAGISC'].eq('Y'), df['DDIAGHA'].eq('Y'), df['DDIAGUN'].eq('Y'), df['DNOSTRK'].eq('Y')]\n",
    "\n",
    "choices = ['Ischaemic stroke','Haemorrhagic stroke','Indeterminate stroke','Not a stroke']\n",
    "\n",
    "df['DIAG'] = np.select(conditions, choices, default='Unknown')"
   ]
  },
  {
   "cell_type": "code",
   "execution_count": 40,
   "metadata": {},
   "outputs": [
    {
     "output_type": "stream",
     "name": "stderr",
     "text": [
      "<ipython-input-40-19349cbf916d>:9: SettingWithCopyWarning: \nA value is trying to be set on a copy of a slice from a DataFrame.\nTry using .loc[row_indexer,col_indexer] = value instead\n\nSee the caveats in the documentation: https://pandas.pydata.org/pandas-docs/stable/user_guide/indexing.html#returning-a-view-versus-a-copy\n  df['DIAGSTR'] = np.select(conditions, choices, default='Unknown')\n"
     ]
    }
   ],
   "source": [
    "# new variable: DIAGSTR\n",
    "# combine all types of first stroke - without DNOSTRK' + drop 'Unknown'\n",
    "\n",
    "conditions = [\n",
    "    df['DDIAGISC'].eq('Y'), df['DDIAGHA'].eq('Y'), df['DDIAGUN'].eq('Y')]\n",
    "\n",
    "choices = ['Ischaemic stroke','Haemorrhagic stroke','Indeterminate stroke']\n",
    "\n",
    "df['DIAGSTR'] = np.select(conditions, choices, default='Unknown')"
   ]
  },
  {
   "cell_type": "code",
   "execution_count": 41,
   "metadata": {},
   "outputs": [
    {
     "output_type": "execute_result",
     "data": {
      "text/plain": [
       "Ischaemic stroke        17393\n",
       "Indeterminate stroke      991\n",
       "Haemorrhagic stroke       598\n",
       "Unknown                   439\n",
       "Name: DIAGSTR, dtype: int64"
      ]
     },
     "metadata": {},
     "execution_count": 41
    }
   ],
   "source": [
    "df.DIAGSTR.value_counts()"
   ]
  },
  {
   "cell_type": "code",
   "execution_count": 42,
   "metadata": {},
   "outputs": [],
   "source": [
    "df = df[df['DIAGSTR'] != 'Unknown']"
   ]
  },
  {
   "cell_type": "code",
   "execution_count": 43,
   "metadata": {},
   "outputs": [],
   "source": [
    "# new variable: RDIAG14\n",
    "# combine all types of recurrent stroke (within 14 days)\n",
    "\n",
    "conditions = [\n",
    "    df['DRSISC'].eq('Y'), df['DRSH'].eq('Y'), df['DRSUNK'].eq('Y'), df['DPE'].eq('Y')]\n",
    "\n",
    "choices = ['Ischaemic stroke','Haemorrhagic stroke','Unknown type', 'Pulmonary embolism']\n",
    "\n",
    "df['RDIAG14'] = np.select(conditions, choices, default='None')"
   ]
  },
  {
   "cell_type": "code",
   "execution_count": 44,
   "metadata": {},
   "outputs": [
    {
     "output_type": "execute_result",
     "data": {
      "text/plain": [
       "None                   18100\n",
       "Ischaemic stroke         412\n",
       "Unknown type             256\n",
       "Pulmonary embolism       120\n",
       "Haemorrhagic stroke       94\n",
       "Name: RDIAG14, dtype: int64"
      ]
     },
     "metadata": {},
     "execution_count": 44
    }
   ],
   "source": [
    "df.RDIAG14.value_counts()"
   ]
  },
  {
   "cell_type": "code",
   "execution_count": 45,
   "metadata": {},
   "outputs": [],
   "source": [
    "# new variable: RDISCH14\n",
    "# Discharged after 14 days - alive or dead?\n",
    "\n",
    "conditions = [\n",
    "    df['DALIVE'].eq('Y'), df['DDEAD'].eq('Y'), df['DALIVE'].eq('N')]\n",
    "\n",
    "choices = ['Discharged alive from hospital', 'Dead on discharge form', 'Not discharged']\n",
    "\n",
    "df['RDISCH14'] = np.select(conditions, choices, default= 'Unknown')"
   ]
  },
  {
   "cell_type": "code",
   "execution_count": 46,
   "metadata": {},
   "outputs": [
    {
     "output_type": "execute_result",
     "data": {
      "text/plain": [
       "Discharged alive from hospital    10034\n",
       "Not discharged                     6943\n",
       "Dead on discharge form             2000\n",
       "Unknown                               5\n",
       "Name: RDISCH14, dtype: int64"
      ]
     },
     "metadata": {},
     "execution_count": 46
    }
   ],
   "source": [
    "df.RDISCH14.value_counts()"
   ]
  },
  {
   "cell_type": "code",
   "execution_count": 47,
   "metadata": {},
   "outputs": [],
   "source": [
    "df = df[df['RDISCH14'] != 'Unknown']"
   ]
  },
  {
   "cell_type": "code",
   "execution_count": 48,
   "metadata": {},
   "outputs": [
    {
     "output_type": "stream",
     "name": "stdout",
     "text": [
      "DALIVE  DDEAD\nN       N         6937\n        Y         1991\nY       N        10034\nName: DDEAD, dtype: int64\n"
     ]
    }
   ],
   "source": [
    "# neither dead nor alive?! - not discharged?\n",
    "# DALIVE - Discharged alive from hospital\n",
    "# DDEAD - Dead on discharge form\n",
    "print(df['DDEAD'].groupby(df['DALIVE']).value_counts())"
   ]
  },
  {
   "cell_type": "code",
   "execution_count": 49,
   "metadata": {},
   "outputs": [
    {
     "output_type": "stream",
     "name": "stdout",
     "text": [
      "DPLACE  DALIVE\nA       Y         6847\nB       Y          274\nC       Y          253\nD       Y          527\nE       Y         1529\nU       Y           20\nName: DALIVE, dtype: int64\nDPLACE  DDEAD\nA       N        6847\nB       N         274\nC       N         253\nD       N         527\nE       N        1529\nU       N          20\nName: DDEAD, dtype: int64\n"
     ]
    }
   ],
   "source": [
    "# DPLACE - Discharge destination\n",
    "# only patients that were alive were discharged to certain destinations\n",
    "print(df['DALIVE'].groupby(df['DPLACE']).value_counts())\n",
    "print(df['DDEAD'].groupby(df['DPLACE']).value_counts())"
   ]
  },
  {
   "cell_type": "code",
   "execution_count": 50,
   "metadata": {},
   "outputs": [
    {
     "output_type": "execute_result",
     "data": {
      "text/plain": [
       "DPLACE  DDEAD  DALIVE  FDEAD\n",
       "A       N      Y       N        6374\n",
       "                       Y         393\n",
       "                       U          21\n",
       "B       N      Y       N         234\n",
       "                       Y          32\n",
       "                       U           4\n",
       "C       N      Y       N         220\n",
       "                       Y          31\n",
       "D       N      Y       N         382\n",
       "                       Y         141\n",
       "                       U           1\n",
       "E       N      Y       N        1274\n",
       "                       Y         243\n",
       "                       U           6\n",
       "U       N      Y       N          20\n",
       "Name: FDEAD, dtype: int64"
      ]
     },
     "metadata": {},
     "execution_count": 50
    }
   ],
   "source": [
    "# discharged patients were alive and may have died within 6 months\n",
    "group_da = df.groupby(by=['DPLACE', 'DDEAD','DALIVE'])\n",
    "group_da['FDEAD'].value_counts()"
   ]
  },
  {
   "cell_type": "code",
   "execution_count": 51,
   "metadata": {},
   "outputs": [
    {
     "output_type": "stream",
     "name": "stdout",
     "text": [
      "DDEADC  DDEAD\n0.0     N        299\n1.0     Y        972\n2.0     Y        221\n3.0     Y         45\n4.0     Y        368\n5.0     Y        158\n6.0     Y         88\n7.0     Y        106\n8.0     Y         41\nName: DDEAD, dtype: int64\nDDEADC  DALIVE\n0.0     Y         157\n        N         142\n1.0     N         967\n2.0     N         221\n3.0     N          45\n4.0     N         367\n5.0     N         158\n6.0     N          85\n7.0     N         106\n8.0     N          41\nName: DALIVE, dtype: int64\n"
     ]
    }
   ],
   "source": [
    "# DDEADC - Cause of death\n",
    "# 0 in DDEADC have not died?\n",
    "print(df['DDEAD'].groupby(df['DDEADC']).value_counts())\n",
    "print(df['DALIVE'].groupby(df['DDEADC']).value_counts())"
   ]
  },
  {
   "cell_type": "code",
   "execution_count": 52,
   "metadata": {},
   "outputs": [
    {
     "output_type": "execute_result",
     "data": {
      "text/plain": [
       "OCCODE  DDEAD  DALIVE  FDEAD\n",
       "1       N      N       Y        1303\n",
       "               Y       Y         833\n",
       "        Y      N       Y        1990\n",
       "2       N      N       N        3840\n",
       "                       Y          55\n",
       "                       U           2\n",
       "               Y       N        3784\n",
       "                       Y          71\n",
       "                       U           1\n",
       "        Y      N       N           1\n",
       "3       N      N       N        1092\n",
       "               Y       N        2660\n",
       "4       N      N       N         614\n",
       "               Y       N        2574\n",
       "                       U           1\n",
       "9       N      N       U          18\n",
       "               Y       U          31\n",
       "Name: FDEAD, dtype: int64"
      ]
     },
     "metadata": {},
     "execution_count": 52
    }
   ],
   "source": [
    "# when DALIVE = N equals \"not discharged\" then patients should appear in OCCODE (outcome @ 6 months; 1 - dead @ 6 months)\n",
    "group_da = df.groupby(by=['OCCODE', 'DDEAD','DALIVE'])\n",
    "group_da['FDEAD'].value_counts()"
   ]
  },
  {
   "cell_type": "code",
   "execution_count": 53,
   "metadata": {},
   "outputs": [
    {
     "output_type": "stream",
     "name": "stdout",
     "text": [
      "OCCODE  FDENNIS  SEX\n1       N        F         1\n2       U        F        16\n                 M         8\n        Y        F      3915\n                 M      3690\n3       N        M      2366\n                 F      1387\n4       N        M      1981\n                 F      1202\n        U        F         4\n                 M         2\n9       U        M         9\n                 F         6\nName: SEX, dtype: int64\n"
     ]
    }
   ],
   "source": [
    "# OCCODE has more info on dependency/recovery after 6 months than FDENNIS (no unknown)\n",
    "group_depen = df.groupby(by=['OCCODE', 'FDENNIS'])\n",
    "print(group_depen['SEX'].value_counts())"
   ]
  },
  {
   "cell_type": "code",
   "execution_count": 54,
   "metadata": {},
   "outputs": [],
   "source": [
    "\n",
    "# new variable: DEAD\n",
    "# Cause of death (regardless of time - within 14 days or 6 months)\n",
    "\n",
    "conditions = [\n",
    "    df['DEAD1'].eq(1), df['DEAD2'].eq(1), df['DEAD3'].eq(1), df['DEAD4'].eq(1), \n",
    "    df['DEAD5'].eq(1), df['DEAD6'].eq(1), df['DEAD7'].eq(1), df['DEAD8'].eq(1)]\n",
    "\n",
    "choices = ['Initial stroke','Recurrent stroke (ischemiac/unknown)', 'Recurrent stroke (haemorraghic)', 'Pneumonia', 'Coronary heart disease', 'Pulmonary embolism', 'Other vascular or unknown', 'Non vascular']\n",
    "\n",
    "df['DEAD'] = np.select(conditions, choices, default='Alive')"
   ]
  },
  {
   "cell_type": "code",
   "execution_count": 55,
   "metadata": {},
   "outputs": [
    {
     "output_type": "execute_result",
     "data": {
      "text/plain": [
       "Alive                                   14835\n",
       "Initial stroke                           1472\n",
       "Pneumonia                                 819\n",
       "Recurrent stroke (ischemiac/unknown)      534\n",
       "Other vascular or unknown                 522\n",
       "Coronary heart disease                    370\n",
       "Non vascular                              179\n",
       "Pulmonary embolism                        169\n",
       "Recurrent stroke (haemorraghic)            77\n",
       "Name: DEAD, dtype: int64"
      ]
     },
     "metadata": {},
     "execution_count": 55
    }
   ],
   "source": [
    "df.DEAD.value_counts()"
   ]
  },
  {
   "cell_type": "code",
   "execution_count": 56,
   "metadata": {},
   "outputs": [],
   "source": [
    "df['DDEADC'].replace({1: 'Initial Stroke', 2: 'Recurrent stroke (ischaemic or unknown)', 3: 'Recurrent stroke (haemorrhagic)', \n",
    "4: 'Pneumonia', 5: 'Coronary heart disease', 6: 'Pulmonary embolism', 7: 'Other vascular or unknown', 8: 'Non-vascular', 0: 'Unknown'}, inplace=True)"
   ]
  },
  {
   "cell_type": "code",
   "execution_count": 57,
   "metadata": {},
   "outputs": [],
   "source": [
    "df['FDEADC'].replace({1: 'Initial Stroke', 2: 'Recurrent stroke (ischaemic or unknown)', 3: 'Recurrent stroke (haemorrhagic)', \n",
    "4: 'Pneumonia', 5: 'Coronary heart disease', 6: 'Pulmonary embolism', 7: 'Other vascular or unknown', 8: 'Non-vascular', 0: 'Unknown'}, inplace=True)"
   ]
  },
  {
   "cell_type": "code",
   "execution_count": 58,
   "metadata": {},
   "outputs": [
    {
     "output_type": "execute_result",
     "data": {
      "text/plain": [
       "DDEADC                                   FDEADC                                   DEAD                                \n",
       "Coronary heart disease                   Coronary heart disease                   Coronary heart disease                  158\n",
       "Initial Stroke                           Initial Stroke                           Initial stroke                          972\n",
       "Non-vascular                             Non-vascular                             Non vascular                             38\n",
       "                                                                                  Other vascular or unknown                 3\n",
       "Other vascular or unknown                Other vascular or unknown                Other vascular or unknown               106\n",
       "Pneumonia                                Pneumonia                                Pneumonia                               368\n",
       "Pulmonary embolism                       Pulmonary embolism                       Pulmonary embolism                       87\n",
       "Recurrent stroke (haemorrhagic)          Recurrent stroke (haemorrhagic)          Recurrent stroke (haemorraghic)          45\n",
       "Recurrent stroke (ischaemic or unknown)  Recurrent stroke (ischaemic or unknown)  Recurrent stroke (ischemiac/unknown)    221\n",
       "Unknown                                  Coronary heart disease                   Coronary heart disease                    3\n",
       "                                         Initial Stroke                           Initial stroke                            3\n",
       "                                         Non-vascular                             Non vascular                              1\n",
       "                                         Other vascular or unknown                Other vascular or unknown                 3\n",
       "                                         Pneumonia                                Pneumonia                                 7\n",
       "                                         Pulmonary embolism                       Pulmonary embolism                        4\n",
       "                                         Recurrent stroke (ischaemic or unknown)  Recurrent stroke (ischemiac/unknown)      6\n",
       "                                         Unknown                                  Other vascular or unknown                 2\n",
       "Name: DEAD, dtype: int64"
      ]
     },
     "metadata": {},
     "execution_count": 58
    }
   ],
   "source": [
    "# check if correct - 4 patients not correctly assigned - but FDEADC is in line with all deaths (either within 14 days or 6 months - use this variable)\n",
    "group_dc = df.groupby(by = ['DDEADC','FDEADC'])\n",
    "group_dc['DEAD'].value_counts()"
   ]
  },
  {
   "cell_type": "code",
   "execution_count": 59,
   "metadata": {},
   "outputs": [],
   "source": [
    "df['DPLACE'].replace({'A': 'Home', 'B': 'Relatives home', 'C': 'Residential care', 'D': 'Nursing home', 'E': 'Other hospital departments', 'U': 'Unknown'}, inplace=True)"
   ]
  },
  {
   "cell_type": "code",
   "execution_count": 60,
   "metadata": {},
   "outputs": [],
   "source": [
    "df['FPLACE'].replace({'A': 'Home', 'B': 'Relatives home', 'C': 'Residential care', 'D': 'Nursing home', 'E': 'Other hospital departments', 'U': 'Unknown'}, inplace=True)"
   ]
  },
  {
   "cell_type": "code",
   "execution_count": 61,
   "metadata": {},
   "outputs": [],
   "source": [
    "df['FDEADC'].replace({1: 'Initial Stroke', 2: 'Recurrent stroke (ischaemic or unknown)', 3: 'Recurrent stroke (haemorrhagic)', \n",
    "4: 'Pneumonia', 5: 'Coronary heart disease', 6: 'Pulmonary embolism', 7: 'Other vascular or unknown', 8: 'Non-vascular', 0: 'Unknown'}, inplace=True)"
   ]
  },
  {
   "cell_type": "code",
   "execution_count": 62,
   "metadata": {},
   "outputs": [
    {
     "output_type": "execute_result",
     "data": {
      "text/plain": [
       "2    7755\n",
       "1    4141\n",
       "3    3753\n",
       "4    3189\n",
       "0      90\n",
       "9      49\n",
       "Name: OCCODE, dtype: int64"
      ]
     },
     "metadata": {},
     "execution_count": 62
    }
   ],
   "source": [
    "# drop '0' and '9' - not many values and the values equla to \"missing or unknown\"\n",
    "df.OCCODE.value_counts()"
   ]
  },
  {
   "cell_type": "code",
   "execution_count": 63,
   "metadata": {},
   "outputs": [],
   "source": [
    "df = df[df['OCCODE'] != '0']\n",
    "df = df[df['OCCODE'] != '9']"
   ]
  },
  {
   "cell_type": "code",
   "execution_count": 64,
   "metadata": {},
   "outputs": [],
   "source": [
    "df = df[df['OCCODE'] != 9]"
   ]
  },
  {
   "cell_type": "code",
   "execution_count": 65,
   "metadata": {},
   "outputs": [
    {
     "output_type": "execute_result",
     "data": {
      "text/plain": [
       "2    7755\n",
       "1    4141\n",
       "3    3753\n",
       "4    3189\n",
       "0      90\n",
       "Name: OCCODE, dtype: int64"
      ]
     },
     "metadata": {},
     "execution_count": 65
    }
   ],
   "source": [
    "df.OCCODE.value_counts()"
   ]
  },
  {
   "cell_type": "code",
   "execution_count": 66,
   "metadata": {},
   "outputs": [],
   "source": [
    "df['OCCODE'].replace({1: 'Dead', 2: 'Dependent', 3: 'Not recovered', 4: 'Recovered'}, inplace=True)"
   ]
  },
  {
   "cell_type": "code",
   "execution_count": 67,
   "metadata": {},
   "outputs": [
    {
     "output_type": "stream",
     "name": "stdout",
     "text": [
      "Column Name:  RATRIAL\n",
      "Missing values :  972\n",
      "Column Name:  RHEP24\n",
      "Missing values :  340\n",
      "Column Name:  RASP3\n",
      "Missing values :  972\n",
      "Column Name:  DASP14\n",
      "Missing values :  8\n",
      "Column Name:  DASPLT\n",
      "Missing values :  131\n",
      "Column Name:  DLH14\n",
      "Missing values :  8\n",
      "Column Name:  DMH14\n",
      "Missing values :  8\n",
      "Column Name:  DHH14\n",
      "Missing values :  17956\n",
      "Column Name:  ONDRUG\n",
      "Missing values :  1\n",
      "Column Name:  DSCH\n",
      "Missing values :  287\n",
      "Column Name:  DIVH\n",
      "Missing values :  287\n",
      "Column Name:  DAP\n",
      "Missing values :  4\n",
      "Column Name:  DOAC\n",
      "Missing values :  4\n",
      "Column Name:  DGORM\n",
      "Missing values :  9\n",
      "Column Name:  DSTER\n",
      "Missing values :  14\n",
      "Column Name:  DCAA\n",
      "Missing values :  15\n",
      "Column Name:  DHAEMD\n",
      "Missing values :  14\n",
      "Column Name:  DCAREND\n",
      "Missing values :  979\n",
      "Column Name:  DTHROMB\n",
      "Missing values :  297\n",
      "Column Name:  DMAJNCHD\n",
      "Missing values :  18780\n",
      "Column Name:  DMAJNCHX\n",
      "Missing values :  18784\n",
      "Column Name:  DSIDED\n",
      "Missing values :  18302\n",
      "Column Name:  DSIDEX\n",
      "Missing values :  18297\n",
      "Column Name:  DDIAGISC\n",
      "Missing values :  6\n",
      "Column Name:  DDIAGHA\n",
      "Missing values :  8\n",
      "Column Name:  DDIAGUN\n",
      "Missing values :  7\n",
      "Column Name:  DNOSTRK\n",
      "Missing values :  9\n",
      "Column Name:  DNOSTRKX\n",
      "Missing values :  18918\n",
      "Column Name:  DRSISC\n",
      "Missing values :  4\n",
      "Column Name:  DRSISCD\n",
      "Missing values :  18517\n",
      "Column Name:  DRSH\n",
      "Missing values :  1\n",
      "Column Name:  DRSHD\n",
      "Missing values :  18832\n",
      "Column Name:  DRSUNK\n",
      "Missing values :  979\n",
      "Column Name:  DRSUNKD\n",
      "Missing values :  18670\n",
      "Column Name:  DPED\n",
      "Missing values :  18804\n",
      "Column Name:  DALIVE\n",
      "Missing values :  9\n",
      "Column Name:  DALIVED\n",
      "Missing values :  8925\n",
      "Column Name:  DPLACE\n",
      "Missing values :  9508\n",
      "Column Name:  DDEAD\n",
      "Missing values :  6\n",
      "Column Name:  DDEADD\n",
      "Missing values :  16928\n",
      "Column Name:  DDEADC\n",
      "Missing values :  16631\n",
      "Column Name:  DDEADX\n",
      "Missing values :  18781\n",
      "Column Name:  FDEAD\n",
      "Missing values :  92\n",
      "Column Name:  FLASTD\n",
      "Missing values :  18923\n",
      "Column Name:  FDEADD\n",
      "Missing values :  14684\n",
      "Column Name:  FDEADC\n",
      "Missing values :  14665\n",
      "Column Name:  FDEADX\n",
      "Missing values :  18209\n",
      "Column Name:  FRECOVER\n",
      "Missing values :  4353\n",
      "Column Name:  FDENNIS\n",
      "Missing values :  4356\n",
      "Column Name:  FPLACE\n",
      "Missing values :  4359\n",
      "Column Name:  FAP\n",
      "Missing values :  4426\n",
      "Column Name:  FOAC\n",
      "Missing values :  4432\n",
      "Column Name:  FU2_DONE\n",
      "Missing values :  92\n",
      "Column Name:  FU1_COMP\n",
      "Missing values :  453\n",
      "Column Name:  NCCODE\n",
      "Missing values :  17526\n"
     ]
    }
   ],
   "source": [
    "for column in df.columns:\n",
    "    columnSeriesObj = df[column]\n",
    "    if columnSeriesObj.isnull().sum() != 0:\n",
    "        print('Column Name: ', column)\n",
    "        print('Missing values : ', columnSeriesObj.isnull().sum() )"
   ]
  },
  {
   "source": [
    "+ Drop NAs:\n",
    "    + RATRIAL not noted during trial phase (984 patients) - kick out for model if needed\n",
    "    + RHEP24 and RASP3 (info on meds prior to first stroke) - kick out if needed/no additional info\n",
    "    + DMH14 and DLH14\n",
    "    + DRSISC\n",
    "    \n",
    "+ Drop entirely:\n",
    "    + DHH14 - (was merged with DMH14)\n",
    "    + FDENNIS - is included in OCCODE ('dependent' after 6 months)\n",
    "    + 'DMAJNCHX', 'DSIDED', 'DSIDEX', 'DNOSTRKX', 'DDEADX', 'FLASTD', 'FDEADX', 'NCCODE' - (no additional info and many missing values)"
   ],
   "cell_type": "markdown",
   "metadata": {}
  },
  {
   "cell_type": "code",
   "execution_count": 68,
   "metadata": {},
   "outputs": [],
   "source": [
    "# drop the following columns entirely\n",
    "df = df.drop(['DHH14', 'FDENNIS', 'DMAJNCHX', 'DSIDED', 'DSIDEX', 'DNOSTRKX', 'DDEADX', 'FLASTD', 'FDEADX', 'NCCODE'], axis=1)"
   ]
  },
  {
   "cell_type": "code",
   "execution_count": 69,
   "metadata": {},
   "outputs": [
    {
     "output_type": "stream",
     "name": "stdout",
     "text": [
      "Column Name:  RATRIAL\n",
      "Missing values :  972\n",
      "Column Name:  RHEP24\n",
      "Missing values :  340\n",
      "Column Name:  RASP3\n",
      "Missing values :  972\n",
      "Column Name:  DASP14\n",
      "Missing values :  8\n",
      "Column Name:  DASPLT\n",
      "Missing values :  131\n",
      "Column Name:  DLH14\n",
      "Missing values :  8\n",
      "Column Name:  DMH14\n",
      "Missing values :  8\n",
      "Column Name:  ONDRUG\n",
      "Missing values :  1\n",
      "Column Name:  DSCH\n",
      "Missing values :  287\n",
      "Column Name:  DIVH\n",
      "Missing values :  287\n",
      "Column Name:  DAP\n",
      "Missing values :  4\n",
      "Column Name:  DOAC\n",
      "Missing values :  4\n",
      "Column Name:  DGORM\n",
      "Missing values :  9\n",
      "Column Name:  DSTER\n",
      "Missing values :  14\n",
      "Column Name:  DCAA\n",
      "Missing values :  15\n",
      "Column Name:  DHAEMD\n",
      "Missing values :  14\n",
      "Column Name:  DCAREND\n",
      "Missing values :  979\n",
      "Column Name:  DTHROMB\n",
      "Missing values :  297\n",
      "Column Name:  DMAJNCHD\n",
      "Missing values :  18780\n",
      "Column Name:  DDIAGISC\n",
      "Missing values :  6\n",
      "Column Name:  DDIAGHA\n",
      "Missing values :  8\n",
      "Column Name:  DDIAGUN\n",
      "Missing values :  7\n",
      "Column Name:  DNOSTRK\n",
      "Missing values :  9\n",
      "Column Name:  DRSISC\n",
      "Missing values :  4\n",
      "Column Name:  DRSISCD\n",
      "Missing values :  18517\n",
      "Column Name:  DRSH\n",
      "Missing values :  1\n",
      "Column Name:  DRSHD\n",
      "Missing values :  18832\n",
      "Column Name:  DRSUNK\n",
      "Missing values :  979\n",
      "Column Name:  DRSUNKD\n",
      "Missing values :  18670\n",
      "Column Name:  DPED\n",
      "Missing values :  18804\n",
      "Column Name:  DALIVE\n",
      "Missing values :  9\n",
      "Column Name:  DALIVED\n",
      "Missing values :  8925\n",
      "Column Name:  DPLACE\n",
      "Missing values :  9508\n",
      "Column Name:  DDEAD\n",
      "Missing values :  6\n",
      "Column Name:  DDEADD\n",
      "Missing values :  16928\n",
      "Column Name:  DDEADC\n",
      "Missing values :  16631\n",
      "Column Name:  FDEAD\n",
      "Missing values :  92\n",
      "Column Name:  FDEADD\n",
      "Missing values :  14684\n",
      "Column Name:  FDEADC\n",
      "Missing values :  14665\n",
      "Column Name:  FRECOVER\n",
      "Missing values :  4353\n",
      "Column Name:  FPLACE\n",
      "Missing values :  4359\n",
      "Column Name:  FAP\n",
      "Missing values :  4426\n",
      "Column Name:  FOAC\n",
      "Missing values :  4432\n",
      "Column Name:  FU2_DONE\n",
      "Missing values :  92\n",
      "Column Name:  FU1_COMP\n",
      "Missing values :  453\n"
     ]
    }
   ],
   "source": [
    "for column in df.columns:\n",
    "    columnSeriesObj = df[column]\n",
    "    if columnSeriesObj.isnull().sum() != 0:\n",
    "        print('Column Name: ', column)\n",
    "        print('Missing values : ', columnSeriesObj.isnull().sum() )"
   ]
  },
  {
   "cell_type": "code",
   "execution_count": 70,
   "metadata": {},
   "outputs": [],
   "source": [
    "\n",
    "df = df.dropna(subset=['DLH14', 'DMH14', 'ONDRUG', 'DDIAGISC', 'DDIAGHA', 'DDIAGUN', 'DNOSTRK', 'DRSISC', 'DRSH', 'DALIVE', 'DDEAD', 'FDEAD'])\n",
    "#df_dropped.info()"
   ]
  },
  {
   "cell_type": "code",
   "execution_count": 71,
   "metadata": {},
   "outputs": [],
   "source": [
    "#save clean file\n",
    "df.to_csv('data/IST_corrected_clean.csv') "
   ]
  },
  {
   "cell_type": "code",
   "execution_count": 72,
   "metadata": {},
   "outputs": [
    {
     "output_type": "error",
     "ename": "ModuleNotFoundError",
     "evalue": "No module named 'missingno'",
     "traceback": [
      "\u001b[0;31m---------------------------------------------------------------------------\u001b[0m",
      "\u001b[0;31mModuleNotFoundError\u001b[0m                       Traceback (most recent call last)",
      "\u001b[0;32m<ipython-input-72-74f8e347f364>\u001b[0m in \u001b[0;36m<module>\u001b[0;34m\u001b[0m\n\u001b[0;32m----> 1\u001b[0;31m \u001b[0;32mimport\u001b[0m \u001b[0mmissingno\u001b[0m \u001b[0;32mas\u001b[0m \u001b[0mmsno\u001b[0m\u001b[0;34m\u001b[0m\u001b[0;34m\u001b[0m\u001b[0m\n\u001b[0m",
      "\u001b[0;31mModuleNotFoundError\u001b[0m: No module named 'missingno'"
     ]
    }
   ],
   "source": [
    "import missingno as msno"
   ]
  },
  {
   "cell_type": "code",
   "execution_count": null,
   "metadata": {},
   "outputs": [],
   "source": [
    "msno.bar(df_bs);"
   ]
  },
  {
   "cell_type": "code",
   "execution_count": null,
   "metadata": {},
   "outputs": [],
   "source": [
    "msno.matrix(df_bs);"
   ]
  },
  {
   "cell_type": "code",
   "execution_count": null,
   "metadata": {},
   "outputs": [],
   "source": [
    "# sorted by weight\n",
    "sorted = df_bs.sort_values('weight')\n",
    "msno.matrix(sorted);"
   ]
  },
  {
   "cell_type": "code",
   "execution_count": null,
   "metadata": {},
   "outputs": [],
   "source": []
  },
  {
   "cell_type": "code",
   "execution_count": null,
   "metadata": {},
   "outputs": [],
   "source": []
  }
 ],
 "metadata": {
  "kernelspec": {
   "name": "python385jvsc74a57bd064e7fe895b7a30084ff24eba202738ac5aa85c3b47075d056ba99cbf74e6a593",
   "display_name": "Python 3.8.5 64-bit ('.venv': venv)",
   "language": "python"
  },
  "language_info": {
   "codemirror_mode": {
    "name": "ipython",
    "version": 3
   },
   "file_extension": ".py",
   "mimetype": "text/x-python",
   "name": "python",
   "nbconvert_exporter": "python",
   "pygments_lexer": "ipython3",
   "version": "3.8.5-final"
  }
 },
 "nbformat": 4,
 "nbformat_minor": 4
}