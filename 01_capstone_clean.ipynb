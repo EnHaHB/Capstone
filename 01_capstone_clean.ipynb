{
 "cells": [
  {
   "cell_type": "code",
   "execution_count": 1,
   "metadata": {},
   "outputs": [],
   "source": [
    "import pandas as pd\n",
    "import numpy as np"
   ]
  },
  {
   "cell_type": "code",
   "execution_count": 2,
   "metadata": {},
   "outputs": [],
   "source": [
    "df = pd.read_csv('data/Train1.csv', error_bad_lines=False, index_col=False, dtype= 'unicode')\n"
   ]
  },
  {
   "cell_type": "code",
   "execution_count": 3,
   "metadata": {},
   "outputs": [
    {
     "output_type": "stream",
     "name": "stdout",
     "text": [
      "<class 'pandas.core.frame.DataFrame'>\nRangeIndex: 9762 entries, 0 to 9761\nColumns: 113 entries, ID to NCB14\ndtypes: object(113)\nmemory usage: 8.4+ MB\n"
     ]
    }
   ],
   "source": [
    "df.info()"
   ]
  },
  {
   "cell_type": "code",
   "execution_count": 4,
   "metadata": {},
   "outputs": [
    {
     "output_type": "execute_result",
     "data": {
      "text/plain": [
       "  ID HOSPNUM RDELAY RCONSC SEX AGE RSLEEP RATRIAL RCT RVISINF  ... DEAD8 H14  \\\n",
       "0  1       1     17      D   M  69      Y     NaN   Y       Y  ...     0   0   \n",
       "1  2       1     10      F   M  76      Y     NaN   Y       N  ...     0   0   \n",
       "2  3       1     24      F   M  23      N     NaN   Y       N  ...     0   0   \n",
       "3  4       1      5      D   F  83      N     NaN   N       N  ...     0   0   \n",
       "4  6       1      8      D   F  64      Y     NaN   Y       Y  ...     0   0   \n",
       "\n",
       "  ISC14 NK14 STRK14 HTI14 PE14 DVT14 TRAN14 NCB14  \n",
       "0     0    0      0     0    0     0      0     0  \n",
       "1     0    0      0     0    0     0      0     0  \n",
       "2     0    0      0     0    0     0      0     0  \n",
       "3     0    0      0     0    0     0      0     0  \n",
       "4     0    0      0     0    0     0      0     0  \n",
       "\n",
       "[5 rows x 113 columns]"
      ],
      "text/html": "<div>\n<style scoped>\n    .dataframe tbody tr th:only-of-type {\n        vertical-align: middle;\n    }\n\n    .dataframe tbody tr th {\n        vertical-align: top;\n    }\n\n    .dataframe thead th {\n        text-align: right;\n    }\n</style>\n<table border=\"1\" class=\"dataframe\">\n  <thead>\n    <tr style=\"text-align: right;\">\n      <th></th>\n      <th>ID</th>\n      <th>HOSPNUM</th>\n      <th>RDELAY</th>\n      <th>RCONSC</th>\n      <th>SEX</th>\n      <th>AGE</th>\n      <th>RSLEEP</th>\n      <th>RATRIAL</th>\n      <th>RCT</th>\n      <th>RVISINF</th>\n      <th>...</th>\n      <th>DEAD8</th>\n      <th>H14</th>\n      <th>ISC14</th>\n      <th>NK14</th>\n      <th>STRK14</th>\n      <th>HTI14</th>\n      <th>PE14</th>\n      <th>DVT14</th>\n      <th>TRAN14</th>\n      <th>NCB14</th>\n    </tr>\n  </thead>\n  <tbody>\n    <tr>\n      <th>0</th>\n      <td>1</td>\n      <td>1</td>\n      <td>17</td>\n      <td>D</td>\n      <td>M</td>\n      <td>69</td>\n      <td>Y</td>\n      <td>NaN</td>\n      <td>Y</td>\n      <td>Y</td>\n      <td>...</td>\n      <td>0</td>\n      <td>0</td>\n      <td>0</td>\n      <td>0</td>\n      <td>0</td>\n      <td>0</td>\n      <td>0</td>\n      <td>0</td>\n      <td>0</td>\n      <td>0</td>\n    </tr>\n    <tr>\n      <th>1</th>\n      <td>2</td>\n      <td>1</td>\n      <td>10</td>\n      <td>F</td>\n      <td>M</td>\n      <td>76</td>\n      <td>Y</td>\n      <td>NaN</td>\n      <td>Y</td>\n      <td>N</td>\n      <td>...</td>\n      <td>0</td>\n      <td>0</td>\n      <td>0</td>\n      <td>0</td>\n      <td>0</td>\n      <td>0</td>\n      <td>0</td>\n      <td>0</td>\n      <td>0</td>\n      <td>0</td>\n    </tr>\n    <tr>\n      <th>2</th>\n      <td>3</td>\n      <td>1</td>\n      <td>24</td>\n      <td>F</td>\n      <td>M</td>\n      <td>23</td>\n      <td>N</td>\n      <td>NaN</td>\n      <td>Y</td>\n      <td>N</td>\n      <td>...</td>\n      <td>0</td>\n      <td>0</td>\n      <td>0</td>\n      <td>0</td>\n      <td>0</td>\n      <td>0</td>\n      <td>0</td>\n      <td>0</td>\n      <td>0</td>\n      <td>0</td>\n    </tr>\n    <tr>\n      <th>3</th>\n      <td>4</td>\n      <td>1</td>\n      <td>5</td>\n      <td>D</td>\n      <td>F</td>\n      <td>83</td>\n      <td>N</td>\n      <td>NaN</td>\n      <td>N</td>\n      <td>N</td>\n      <td>...</td>\n      <td>0</td>\n      <td>0</td>\n      <td>0</td>\n      <td>0</td>\n      <td>0</td>\n      <td>0</td>\n      <td>0</td>\n      <td>0</td>\n      <td>0</td>\n      <td>0</td>\n    </tr>\n    <tr>\n      <th>4</th>\n      <td>6</td>\n      <td>1</td>\n      <td>8</td>\n      <td>D</td>\n      <td>F</td>\n      <td>64</td>\n      <td>Y</td>\n      <td>NaN</td>\n      <td>Y</td>\n      <td>Y</td>\n      <td>...</td>\n      <td>0</td>\n      <td>0</td>\n      <td>0</td>\n      <td>0</td>\n      <td>0</td>\n      <td>0</td>\n      <td>0</td>\n      <td>0</td>\n      <td>0</td>\n      <td>0</td>\n    </tr>\n  </tbody>\n</table>\n<p>5 rows × 113 columns</p>\n</div>"
     },
     "metadata": {},
     "execution_count": 4
    }
   ],
   "source": [
    "df.head()"
   ]
  },
  {
   "cell_type": "code",
   "execution_count": 5,
   "metadata": {},
   "outputs": [
    {
     "output_type": "execute_result",
     "data": {
      "text/plain": [
       "['ID',\n",
       " 'HOSPNUM',\n",
       " 'RDELAY',\n",
       " 'RCONSC',\n",
       " 'SEX',\n",
       " 'AGE',\n",
       " 'RSLEEP',\n",
       " 'RATRIAL',\n",
       " 'RCT',\n",
       " 'RVISINF',\n",
       " 'RHEP24',\n",
       " 'RASP3',\n",
       " 'RSBP',\n",
       " 'RDEF1',\n",
       " 'RDEF2',\n",
       " 'RDEF3',\n",
       " 'RDEF4',\n",
       " 'RDEF5',\n",
       " 'RDEF6',\n",
       " 'RDEF7',\n",
       " 'RDEF8',\n",
       " 'STYPE',\n",
       " 'RDATE',\n",
       " 'HOURLOCAL',\n",
       " 'MINLOCAL',\n",
       " 'DAYLOCAL',\n",
       " 'RXASP',\n",
       " 'RXHEP',\n",
       " 'DASP14',\n",
       " 'DASPLT',\n",
       " 'DLH14',\n",
       " 'DMH14',\n",
       " 'DHH14',\n",
       " 'ONDRUG',\n",
       " 'DSCH',\n",
       " 'DIVH',\n",
       " 'DAP',\n",
       " 'DOAC',\n",
       " 'DGORM',\n",
       " 'DSTER',\n",
       " 'DCAA',\n",
       " 'DHAEMD',\n",
       " 'DCAREND',\n",
       " 'DTHROMB',\n",
       " 'DMAJNCH',\n",
       " 'DMAJNCHD',\n",
       " 'DMAJNCHX',\n",
       " 'DSIDE',\n",
       " 'DSIDED',\n",
       " 'DSIDEX',\n",
       " 'DDIAGISC',\n",
       " 'DDIAGHA',\n",
       " 'DDIAGUN',\n",
       " 'DNOSTRK',\n",
       " 'DNOSTRKX',\n",
       " 'DRSISC',\n",
       " 'DRSISCD',\n",
       " 'DRSH',\n",
       " 'DRSHD',\n",
       " 'DRSUNK',\n",
       " 'DRSUNKD',\n",
       " 'DPE',\n",
       " 'DPED',\n",
       " 'DALIVE',\n",
       " 'DALIVED',\n",
       " 'DPLACE',\n",
       " 'DDEAD',\n",
       " 'DDEADD',\n",
       " 'DDEADC',\n",
       " 'DDEADX',\n",
       " 'FDEAD',\n",
       " 'FLASTD',\n",
       " 'FDEADD',\n",
       " 'FDEADC',\n",
       " 'FDEADX',\n",
       " 'FRECOVER',\n",
       " 'FDENNIS',\n",
       " 'FPLACE',\n",
       " 'FAP',\n",
       " 'FOAC',\n",
       " 'FU1_RECD',\n",
       " 'FU2_DONE',\n",
       " 'COUNTRY',\n",
       " 'CNTRYNUM',\n",
       " 'FU1_COMP',\n",
       " 'NCCODE',\n",
       " 'CMPLASP',\n",
       " 'CMPLHEP',\n",
       " 'DIED',\n",
       " 'TD',\n",
       " 'EXPDD',\n",
       " 'EXPD6',\n",
       " 'EXPD14',\n",
       " 'SET14D',\n",
       " 'ID14',\n",
       " 'OCCODE',\n",
       " 'DEAD1',\n",
       " 'DEAD2',\n",
       " 'DEAD3',\n",
       " 'DEAD4',\n",
       " 'DEAD5',\n",
       " 'DEAD6',\n",
       " 'DEAD7',\n",
       " 'DEAD8',\n",
       " 'H14',\n",
       " 'ISC14',\n",
       " 'NK14',\n",
       " 'STRK14',\n",
       " 'HTI14',\n",
       " 'PE14',\n",
       " 'DVT14',\n",
       " 'TRAN14',\n",
       " 'NCB14']"
      ]
     },
     "metadata": {},
     "execution_count": 5
    }
   ],
   "source": [
    "df.columns.tolist()"
   ]
  },
  {
   "cell_type": "code",
   "execution_count": 6,
   "metadata": {},
   "outputs": [
    {
     "output_type": "execute_result",
     "data": {
      "text/plain": [
       "[0,\n",
       " 0,\n",
       " 0,\n",
       " 0,\n",
       " 0,\n",
       " 0,\n",
       " 0,\n",
       " 484,\n",
       " 0,\n",
       " 0,\n",
       " 175,\n",
       " 484,\n",
       " 0,\n",
       " 0,\n",
       " 0,\n",
       " 0,\n",
       " 0,\n",
       " 0,\n",
       " 0,\n",
       " 0,\n",
       " 0,\n",
       " 0,\n",
       " 0,\n",
       " 0,\n",
       " 0,\n",
       " 0,\n",
       " 0,\n",
       " 0,\n",
       " 12,\n",
       " 81,\n",
       " 14,\n",
       " 498,\n",
       " 9278,\n",
       " 0,\n",
       " 152,\n",
       " 152,\n",
       " 11,\n",
       " 11,\n",
       " 15,\n",
       " 16,\n",
       " 17,\n",
       " 16,\n",
       " 498,\n",
       " 158,\n",
       " 8,\n",
       " 9686,\n",
       " 9689,\n",
       " 8,\n",
       " 9442,\n",
       " 9438,\n",
       " 12,\n",
       " 12,\n",
       " 10,\n",
       " 12,\n",
       " 9560,\n",
       " 11,\n",
       " 9556,\n",
       " 8,\n",
       " 9709,\n",
       " 497,\n",
       " 9626,\n",
       " 8,\n",
       " 9695,\n",
       " 17,\n",
       " 4599,\n",
       " 4901,\n",
       " 9,\n",
       " 8694,\n",
       " 8545,\n",
       " 9673,\n",
       " 21,\n",
       " 9762,\n",
       " 7504,\n",
       " 7496,\n",
       " 9356,\n",
       " 2251,\n",
       " 2287,\n",
       " 2288,\n",
       " 2323,\n",
       " 2325,\n",
       " 7,\n",
       " 20,\n",
       " 0,\n",
       " 0,\n",
       " 242,\n",
       " 9008,\n",
       " 7,\n",
       " 7,\n",
       " 0,\n",
       " 1,\n",
       " 0,\n",
       " 0,\n",
       " 0,\n",
       " 0,\n",
       " 0,\n",
       " 0,\n",
       " 0,\n",
       " 0,\n",
       " 0,\n",
       " 0,\n",
       " 0,\n",
       " 0,\n",
       " 0,\n",
       " 0,\n",
       " 0,\n",
       " 0,\n",
       " 0,\n",
       " 0,\n",
       " 0,\n",
       " 0,\n",
       " 0,\n",
       " 0,\n",
       " 0]"
      ]
     },
     "metadata": {},
     "execution_count": 6
    }
   ],
   "source": [
    "df.isnull().sum().tolist()"
   ]
  },
  {
   "cell_type": "code",
   "execution_count": 7,
   "metadata": {},
   "outputs": [
    {
     "output_type": "execute_result",
     "data": {
      "text/plain": [
       "Empty DataFrame\n",
       "Columns: [ID, HOSPNUM, RDELAY, RCONSC, SEX, AGE, RSLEEP, RATRIAL, RCT, RVISINF, RHEP24, RASP3, RSBP, RDEF1, RDEF2, RDEF3, RDEF4, RDEF5, RDEF6, RDEF7, RDEF8, STYPE, RDATE, HOURLOCAL, MINLOCAL, DAYLOCAL, RXASP, RXHEP, DASP14, DASPLT, DLH14, DMH14, DHH14, ONDRUG, DSCH, DIVH, DAP, DOAC, DGORM, DSTER, DCAA, DHAEMD, DCAREND, DTHROMB, DMAJNCH, DMAJNCHD, DMAJNCHX, DSIDE, DSIDED, DSIDEX, DDIAGISC, DDIAGHA, DDIAGUN, DNOSTRK, DNOSTRKX, DRSISC, DRSISCD, DRSH, DRSHD, DRSUNK, DRSUNKD, DPE, DPED, DALIVE, DALIVED, DPLACE, DDEAD, DDEADD, DDEADC, DDEADX, FDEAD, FLASTD, FDEADD, FDEADC, FDEADX, FRECOVER, FDENNIS, FPLACE, FAP, FOAC, FU1_RECD, FU2_DONE, COUNTRY, CNTRYNUM, FU1_COMP, NCCODE, CMPLASP, CMPLHEP, DIED, TD, EXPDD, EXPD6, EXPD14, SET14D, ID14, OCCODE, DEAD1, DEAD2, DEAD3, DEAD4, ...]\n",
       "Index: []\n",
       "\n",
       "[0 rows x 113 columns]"
      ],
      "text/html": "<div>\n<style scoped>\n    .dataframe tbody tr th:only-of-type {\n        vertical-align: middle;\n    }\n\n    .dataframe tbody tr th {\n        vertical-align: top;\n    }\n\n    .dataframe thead th {\n        text-align: right;\n    }\n</style>\n<table border=\"1\" class=\"dataframe\">\n  <thead>\n    <tr style=\"text-align: right;\">\n      <th></th>\n      <th>ID</th>\n      <th>HOSPNUM</th>\n      <th>RDELAY</th>\n      <th>RCONSC</th>\n      <th>SEX</th>\n      <th>AGE</th>\n      <th>RSLEEP</th>\n      <th>RATRIAL</th>\n      <th>RCT</th>\n      <th>RVISINF</th>\n      <th>...</th>\n      <th>DEAD8</th>\n      <th>H14</th>\n      <th>ISC14</th>\n      <th>NK14</th>\n      <th>STRK14</th>\n      <th>HTI14</th>\n      <th>PE14</th>\n      <th>DVT14</th>\n      <th>TRAN14</th>\n      <th>NCB14</th>\n    </tr>\n  </thead>\n  <tbody>\n  </tbody>\n</table>\n<p>0 rows × 113 columns</p>\n</div>"
     },
     "metadata": {},
     "execution_count": 7
    }
   ],
   "source": [
    "# check for duplicates\n",
    "double = df[df.duplicated()]\n",
    "double"
   ]
  },
  {
   "cell_type": "code",
   "execution_count": 8,
   "metadata": {},
   "outputs": [
    {
     "output_type": "execute_result",
     "data": {
      "text/plain": [
       "array(['sty-91', 'lut-91', 'Mar-91', 'kwi-91', 'maj-91', 'cze-91',\n",
       "       'lip-91', 'sie-91', 'wrz-91', 'pa�-91', 'lis-91', 'gru-91',\n",
       "       'sty-92', 'lut-92', 'Mar-92', 'kwi-92', 'maj-92', 'cze-92',\n",
       "       'lip-92', 'sie-92', 'wrz-92', 'pa�-92', 'lis-92', 'gru-92',\n",
       "       'sty-93', 'lut-93', 'Mar-93', 'lip-93', 'wrz-93', 'gru-93',\n",
       "       'lis-93', 'kwi-93', 'Mar-94', 'sie-94', 'maj-93', 'cze-93',\n",
       "       'kwi-94', 'pa�-93', 'sty-94', 'cze-94', 'sie-93', 'sty-95',\n",
       "       'lut-94', 'lip-94', 'pa�-94', 'lis-94', 'maj-94', 'wrz-94',\n",
       "       'gru-94', 'lut-95', 'maj-96', 'maj-95', 'Mar-95', 'lip-95',\n",
       "       'wrz-95', 'pa�-95', 'kwi-95', 'sty-96', 'cze-95', 'sie-95',\n",
       "       'lis-95', 'lut-96', 'gru-95', 'Mar-96', 'kwi-96'], dtype=object)"
      ]
     },
     "metadata": {},
     "execution_count": 8
    }
   ],
   "source": [
    "df.RDATE.unique() # probably polish (https://en.wikipedia.org/wiki/Slavic_calendar)"
   ]
  },
  {
   "cell_type": "code",
   "execution_count": 9,
   "metadata": {},
   "outputs": [
    {
     "output_type": "execute_result",
     "data": {
      "text/plain": [
       "0       sty-91\n",
       "1       sty-91\n",
       "2       lut-91\n",
       "3       Mar-91\n",
       "4       Mar-91\n",
       "         ...  \n",
       "9757    lip-93\n",
       "9758    maj-93\n",
       "9759    lip-94\n",
       "9760    lut-94\n",
       "9761    gru-93\n",
       "Name: RDATE, Length: 9762, dtype: object"
      ]
     },
     "metadata": {},
     "execution_count": 9
    }
   ],
   "source": [
    "df.RDATE"
   ]
  },
  {
   "cell_type": "code",
   "execution_count": 10,
   "metadata": {},
   "outputs": [],
   "source": [
    "#extract year from RDATE\n",
    "df['RYEAR'] = df.RDATE.str.extract(r'(\\d{2})', expand=False)"
   ]
  },
  {
   "cell_type": "code",
   "execution_count": 11,
   "metadata": {},
   "outputs": [
    {
     "output_type": "execute_result",
     "data": {
      "text/plain": [
       "array(['91', '92', '93', '94', '95', '96'], dtype=object)"
      ]
     },
     "metadata": {},
     "execution_count": 11
    }
   ],
   "source": [
    "df.RYEAR.unique()"
   ]
  },
  {
   "source": [
    "Month (EN) | Month (PL) | Month (in df)\n",
    ":----- | ----: | -----:\n",
    "January  | styczeń | sty\n",
    "February  | luty  | lut\n",
    "March | (brzezień) | Mar\n",
    "April | kwiecień | kwi\n",
    "May | (trawień) | maj\n",
    "June | czerwiec | cze\n",
    "July | lipiec | lip\n",
    "August | sierpień | sie\n",
    "September | wrzesień | wrz\n",
    "Ocotber | październik | pa�\n",
    "November | listopad | lis\n",
    "December | grudzień | gru"
   ],
   "cell_type": "markdown",
   "metadata": {}
  },
  {
   "cell_type": "code",
   "execution_count": 12,
   "metadata": {},
   "outputs": [],
   "source": [
    "#df.RDATE.to_string()\n",
    "#type(df.RDATE)"
   ]
  },
  {
   "cell_type": "code",
   "execution_count": 13,
   "metadata": {},
   "outputs": [],
   "source": [
    "# equivalents/translations for months\n",
    "month_dict = {'sty': '01', 'lut': '02', 'Mar': '03', 'kwi': '04', 'maj': '05', 'cze': '06',\n",
    "                'lip': '07', 'sie': '08', 'wrz': '09', 'pa�': '10', 'lis': '11', 'gru': '12'}"
   ]
  },
  {
   "cell_type": "code",
   "execution_count": 14,
   "metadata": {},
   "outputs": [],
   "source": [
    "# replace string in RDATE with number (according to month)\n",
    "df.RDATE = df.RDATE.replace(month_dict, regex=True)"
   ]
  },
  {
   "cell_type": "code",
   "execution_count": 15,
   "metadata": {},
   "outputs": [
    {
     "output_type": "execute_result",
     "data": {
      "text/plain": [
       "array(['01-91', '02-91', '03-91', '04-91', '05-91', '06-91', '07-91',\n",
       "       '08-91', '09-91', '10-91', '11-91', '12-91', '01-92', '02-92',\n",
       "       '03-92', '04-92', '05-92', '06-92', '07-92', '08-92', '09-92',\n",
       "       '10-92', '11-92', '12-92', '01-93', '02-93', '03-93', '07-93',\n",
       "       '09-93', '12-93', '11-93', '04-93', '03-94', '08-94', '05-93',\n",
       "       '06-93', '04-94', '10-93', '01-94', '06-94', '08-93', '01-95',\n",
       "       '02-94', '07-94', '10-94', '11-94', '05-94', '09-94', '12-94',\n",
       "       '02-95', '05-96', '05-95', '03-95', '07-95', '09-95', '10-95',\n",
       "       '04-95', '01-96', '06-95', '08-95', '11-95', '02-96', '12-95',\n",
       "       '03-96', '04-96'], dtype=object)"
      ]
     },
     "metadata": {},
     "execution_count": 15
    }
   ],
   "source": [
    "df.RDATE.unique()"
   ]
  },
  {
   "cell_type": "code",
   "execution_count": 16,
   "metadata": {},
   "outputs": [
    {
     "output_type": "stream",
     "name": "stdout",
     "text": [
      "count     9762\nunique      25\ntop         16\nfreq       848\nName: HOURLOCAL, dtype: object\n"
     ]
    },
    {
     "output_type": "execute_result",
     "data": {
      "text/plain": [
       "count     9762\n",
       "unique      61\n",
       "top         34\n",
       "freq       194\n",
       "Name: MINLOCAL, dtype: object"
      ]
     },
     "metadata": {},
     "execution_count": 16
    }
   ],
   "source": [
    "print(df.HOURLOCAL.describe())\n",
    "\n",
    "df.MINLOCAL.describe()"
   ]
  },
  {
   "cell_type": "code",
   "execution_count": 17,
   "metadata": {},
   "outputs": [
    {
     "output_type": "execute_result",
     "data": {
      "text/plain": [
       "count     9762\n",
       "unique       7\n",
       "top          6\n",
       "freq      1667\n",
       "Name: DAYLOCAL, dtype: object"
      ]
     },
     "metadata": {},
     "execution_count": 17
    }
   ],
   "source": [
    "df.DAYLOCAL.describe() "
   ]
  },
  {
   "cell_type": "code",
   "execution_count": 18,
   "metadata": {},
   "outputs": [
    {
     "output_type": "execute_result",
     "data": {
      "text/plain": [
       "95    3276\n",
       "94    2974\n",
       "93    1714\n",
       "96    1377\n",
       "92     285\n",
       "91     136\n",
       "Name: RYEAR, dtype: int64"
      ]
     },
     "metadata": {},
     "execution_count": 18
    }
   ],
   "source": [
    "df.RYEAR.value_counts()"
   ]
  },
  {
   "source": [
    "print(df.HOSPNUM.describe())\n",
    "\n",
    "df.HOSPNUM.isnull().sum()"
   ],
   "cell_type": "code",
   "metadata": {},
   "execution_count": 19,
   "outputs": [
    {
     "output_type": "stream",
     "name": "stdout",
     "text": [
      "count     9762\nunique     454\ntop        134\nfreq       247\nName: HOSPNUM, dtype: object\n"
     ]
    },
    {
     "output_type": "execute_result",
     "data": {
      "text/plain": [
       "0"
      ]
     },
     "metadata": {},
     "execution_count": 19
    }
   ]
  },
  {
   "cell_type": "code",
   "execution_count": 20,
   "metadata": {},
   "outputs": [
    {
     "output_type": "stream",
     "name": "stdout",
     "text": [
      "count     9762\nunique      36\ntop         UK\nfreq      3197\nName: COUNTRY, dtype: object\n"
     ]
    },
    {
     "output_type": "execute_result",
     "data": {
      "text/plain": [
       "0"
      ]
     },
     "metadata": {},
     "execution_count": 20
    }
   ],
   "source": [
    "print(df.COUNTRY.describe())\n",
    "\n",
    "df.COUNTRY.isnull().sum()"
   ]
  },
  {
   "cell_type": "code",
   "execution_count": 21,
   "metadata": {},
   "outputs": [
    {
     "output_type": "stream",
     "name": "stdout",
     "text": [
      "UK      3197\nITAL    1779\nSWIT     854\nPOLA     364\nNETH     344\nSWED     310\nAUSL     276\nNORW     274\nARGE     263\nSPAI     242\nCZEC     234\nNEW      231\nPORT     205\nBELG     144\nTURK     141\nAUST     112\nINDI     102\nGREE      66\nSING      65\nUSA       61\nCANA      54\nISRA      53\nHUNG      49\nHONG      49\nSLOK      43\nFINL      38\nBRAS      37\nEIRE      34\nCHIL      31\nSOUT      31\nSLOV      27\nDENM      20\nROMA      15\nSRI       12\nJAPA       4\nFRAN       1\nName: COUNTRY, dtype: int64\n"
     ]
    },
    {
     "output_type": "execute_result",
     "data": {
      "text/plain": [
       "27    3197\n",
       "14    1779\n",
       "25     854\n",
       "18     364\n",
       "15     344\n",
       "24     310\n",
       "1      276\n",
       "17     274\n",
       "29     263\n",
       "22     242\n",
       "7      234\n",
       "16     231\n",
       "19     205\n",
       "3      144\n",
       "35     141\n",
       "2      112\n",
       "37     102\n",
       "31      66\n",
       "34      65\n",
       "28      61\n",
       "5       54\n",
       "13      53\n",
       "36      49\n",
       "30      49\n",
       "44      43\n",
       "10      38\n",
       "42      37\n",
       "9       34\n",
       "6       31\n",
       "21      31\n",
       "20      27\n",
       "8       20\n",
       "33      15\n",
       "23      12\n",
       "38       4\n",
       "11       1\n",
       "Name: CNTRYNUM, dtype: int64"
      ]
     },
     "metadata": {},
     "execution_count": 21
    }
   ],
   "source": [
    "print(df.COUNTRY.value_counts())\n",
    "df.CNTRYNUM.value_counts()"
   ]
  },
  {
   "cell_type": "code",
   "execution_count": 22,
   "metadata": {},
   "outputs": [],
   "source": [
    "df['COUNTRY_ISO'] = df['COUNTRY'].replace({'UK': 'GB', 'ITAL': 'IT', 'SWIT': 'CH', 'POLA': 'PL', 'NETH': 'NL', \n",
    "    'SWED': 'SE', 'AUSL': 'AU', 'NORW': 'NO', 'ARGE': 'AR', 'SPAI': 'ES', 'CZEC': 'CZ', 'NEW': 'NZ', 'PORT': 'PT',\n",
    "    'BELG': 'BE', 'TURK': 'TR', 'AUST': 'AT', 'INDI': 'IN', 'GREE': 'GR', 'SING': 'SG', 'USA': 'USA', 'CANA': 'CA',\n",
    "    'ISRA': 'IL', 'HUNG': 'HU', 'HONG': 'HK', 'SLOK': 'SK', 'FINL': 'FI', 'BRAS': 'BR', 'EIRE': 'IE', 'CHIL': 'CL',\n",
    "    'SOUT': 'ZA', 'SLOV': 'SI', 'DENM': 'DK', 'ROMA': 'RO', 'SRI': 'LK', 'JAPA': 'JP', 'FRAN': 'FR'})"
   ]
  },
  {
   "cell_type": "code",
   "execution_count": 23,
   "metadata": {},
   "outputs": [
    {
     "output_type": "execute_result",
     "data": {
      "text/plain": [
       "GB     3197\n",
       "IT     1779\n",
       "CH      854\n",
       "PL      364\n",
       "NL      344\n",
       "SE      310\n",
       "AU      276\n",
       "NO      274\n",
       "AR      263\n",
       "ES      242\n",
       "CZ      234\n",
       "NZ      231\n",
       "PT      205\n",
       "BE      144\n",
       "TR      141\n",
       "AT      112\n",
       "IN      102\n",
       "GR       66\n",
       "SG       65\n",
       "USA      61\n",
       "CA       54\n",
       "IL       53\n",
       "HK       49\n",
       "HU       49\n",
       "SK       43\n",
       "FI       38\n",
       "BR       37\n",
       "IE       34\n",
       "ZA       31\n",
       "CL       31\n",
       "SI       27\n",
       "DK       20\n",
       "RO       15\n",
       "LK       12\n",
       "JP        4\n",
       "FR        1\n",
       "Name: COUNTRY_ISO, dtype: int64"
      ]
     },
     "metadata": {},
     "execution_count": 23
    }
   ],
   "source": [
    "df.COUNTRY_ISO.value_counts()"
   ]
  },
  {
   "cell_type": "code",
   "execution_count": 24,
   "metadata": {},
   "outputs": [
    {
     "output_type": "stream",
     "name": "stdout",
     "text": [
      "count     9762\nunique      48\ntop         24\nfreq       796\nName: RDELAY, dtype: object\n"
     ]
    },
    {
     "output_type": "execute_result",
     "data": {
      "text/plain": [
       "0"
      ]
     },
     "metadata": {},
     "execution_count": 24
    }
   ],
   "source": [
    "# Delay between stroke and randomisation in hours\n",
    "print(df.RDELAY.describe())\n",
    "\n",
    "df.RDELAY.isnull().sum()"
   ]
  },
  {
   "cell_type": "code",
   "execution_count": 25,
   "metadata": {},
   "outputs": [
    {
     "output_type": "stream",
     "name": "stdout",
     "text": [
      "count     9762\nunique       3\ntop          F\nfreq      7518\nName: RCONSC, dtype: object\n"
     ]
    },
    {
     "output_type": "execute_result",
     "data": {
      "text/plain": [
       "0"
      ]
     },
     "metadata": {},
     "execution_count": 25
    }
   ],
   "source": [
    "# Conscious state at randomisation (F - fully alert, D - drowsy, U - unconscious)\n",
    "print(df.RCONSC.describe())\n",
    "\n",
    "df.RCONSC.isnull().sum()"
   ]
  },
  {
   "cell_type": "code",
   "execution_count": 26,
   "metadata": {},
   "outputs": [
    {
     "output_type": "stream",
     "name": "stdout",
     "text": [
      "count     9762\nunique       2\ntop          M\nfreq      5261\nName: SEX, dtype: object\n"
     ]
    },
    {
     "output_type": "execute_result",
     "data": {
      "text/plain": [
       "0"
      ]
     },
     "metadata": {},
     "execution_count": 26
    }
   ],
   "source": [
    "print(df.SEX.describe())\n",
    "\n",
    "df.SEX.isnull().sum()"
   ]
  },
  {
   "cell_type": "code",
   "execution_count": 27,
   "metadata": {},
   "outputs": [
    {
     "output_type": "stream",
     "name": "stdout",
     "text": [
      "count     9762\nunique      78\ntop         74\nfreq       430\nName: AGE, dtype: object\n"
     ]
    },
    {
     "output_type": "execute_result",
     "data": {
      "text/plain": [
       "0"
      ]
     },
     "metadata": {},
     "execution_count": 27
    }
   ],
   "source": [
    "print(df.AGE.describe())\n",
    "\n",
    "df.AGE.isnull().sum()"
   ]
  },
  {
   "cell_type": "code",
   "execution_count": 28,
   "metadata": {},
   "outputs": [
    {
     "output_type": "stream",
     "name": "stdout",
     "text": [
      "count     9762\nunique       2\ntop          N\nfreq      6909\nName: RSLEEP, dtype: object\n"
     ]
    },
    {
     "output_type": "execute_result",
     "data": {
      "text/plain": [
       "0"
      ]
     },
     "metadata": {},
     "execution_count": 28
    }
   ],
   "source": [
    "# Symptoms noted on waking (Y/N)\n",
    "print(df.RSLEEP.describe())\n",
    "\n",
    "df.RSLEEP.isnull().sum()"
   ]
  },
  {
   "cell_type": "code",
   "execution_count": 29,
   "metadata": {},
   "outputs": [
    {
     "output_type": "stream",
     "name": "stdout",
     "text": [
      "count     9278\nunique       2\ntop          N\nfreq      7718\nName: RATRIAL, dtype: object\n"
     ]
    },
    {
     "output_type": "execute_result",
     "data": {
      "text/plain": [
       "484"
      ]
     },
     "metadata": {},
     "execution_count": 29
    }
   ],
   "source": [
    "# Atrial fibrillation (Y/N); not coded for pilot phase - 484 patients (984)\n",
    "# Atrial fibrillation (AF or A-fib) is an abnormal heart rhythm (arrhythmia) characterized by the rapid and irregular beating of the atrial chambers of the heart.\n",
    "\n",
    "print(df.RATRIAL.describe())\n",
    "\n",
    "df.RATRIAL.isnull().sum()"
   ]
  },
  {
   "cell_type": "code",
   "execution_count": 30,
   "metadata": {},
   "outputs": [
    {
     "output_type": "stream",
     "name": "stdout",
     "text": [
      "count     9762\nunique       2\ntop          Y\nfreq      6492\nName: RCT, dtype: object\n"
     ]
    },
    {
     "output_type": "execute_result",
     "data": {
      "text/plain": [
       "0"
      ]
     },
     "metadata": {},
     "execution_count": 30
    }
   ],
   "source": [
    "# CT before randomistion (Y/N)\n",
    "print(df.RCT.describe())\n",
    "\n",
    "df.RCT.isnull().sum()"
   ]
  },
  {
   "cell_type": "code",
   "execution_count": 31,
   "metadata": {},
   "outputs": [
    {
     "output_type": "stream",
     "name": "stdout",
     "text": [
      "count     9762\n",
      "unique       2\n",
      "top          N\n",
      "freq      6590\n",
      "Name: RVISINF, dtype: object\n"
     ]
    },
    {
     "output_type": "execute_result",
     "data": {
      "text/plain": [
       "0"
      ]
     },
     "metadata": {},
     "execution_count": 31
    }
   ],
   "source": [
    "# Infarct visible on CT (Y/N)\n",
    "print(df.RVISINF.describe())\n",
    "\n",
    "df.RVISINF.isnull().sum()"
   ]
  },
  {
   "cell_type": "code",
   "execution_count": 32,
   "metadata": {},
   "outputs": [
    {
     "output_type": "stream",
     "name": "stdout",
     "text": [
      "count     9587\nunique       2\ntop          N\nfreq      9367\nName: RHEP24, dtype: object\n"
     ]
    },
    {
     "output_type": "execute_result",
     "data": {
      "text/plain": [
       "175"
      ]
     },
     "metadata": {},
     "execution_count": 32
    }
   ],
   "source": [
    "# Heparin within 24 hours prior to randomisation (Y/N)\n",
    "print(df.RHEP24.describe())\n",
    "\n",
    "df.RHEP24.isnull().sum()"
   ]
  },
  {
   "cell_type": "code",
   "execution_count": 33,
   "metadata": {},
   "outputs": [
    {
     "output_type": "stream",
     "name": "stdout",
     "text": [
      "count     9278\nunique       2\ntop          N\nfreq      7312\nName: RASP3, dtype: object\n"
     ]
    },
    {
     "output_type": "execute_result",
     "data": {
      "text/plain": [
       "484"
      ]
     },
     "metadata": {},
     "execution_count": 33
    }
   ],
   "source": [
    "# Aspirin within 3 days prior to randomisation (Y/N)\n",
    "print(df.RASP3.describe())\n",
    "\n",
    "df.RASP3.isnull().sum()"
   ]
  },
  {
   "cell_type": "code",
   "execution_count": 34,
   "metadata": {},
   "outputs": [
    {
     "output_type": "stream",
     "name": "stdout",
     "text": [
      "count     9762\nunique     141\ntop        160\nfreq      1246\nName: RSBP, dtype: object\n"
     ]
    },
    {
     "output_type": "execute_result",
     "data": {
      "text/plain": [
       "0"
      ]
     },
     "metadata": {},
     "execution_count": 34
    }
   ],
   "source": [
    "# Systolic blood pressure at randomisation (mmHg)\n",
    "print(df.RSBP.describe())\n",
    "\n",
    "df.RSBP.isnull().sum()"
   ]
  },
  {
   "cell_type": "code",
   "execution_count": 35,
   "metadata": {},
   "outputs": [
    {
     "output_type": "stream",
     "name": "stdout",
     "text": [
      "count     9762\nunique       3\ntop          Y\nfreq      7060\nName: RDEF1, dtype: object\n"
     ]
    },
    {
     "output_type": "execute_result",
     "data": {
      "text/plain": [
       "0"
      ]
     },
     "metadata": {},
     "execution_count": 35
    }
   ],
   "source": [
    "# Face deficit (Y/N/C=can't assess)\n",
    "print(df.RDEF1.describe())\n",
    "\n",
    "df.RDEF1.isnull().sum()"
   ]
  },
  {
   "cell_type": "code",
   "execution_count": 36,
   "metadata": {},
   "outputs": [
    {
     "output_type": "stream",
     "name": "stdout",
     "text": [
      "count     9762\nunique       3\ntop          Y\nfreq      8314\nName: RDEF2, dtype: object\n"
     ]
    },
    {
     "output_type": "execute_result",
     "data": {
      "text/plain": [
       "0"
      ]
     },
     "metadata": {},
     "execution_count": 36
    }
   ],
   "source": [
    "# Arm/hand deficit (Y/N/C=can't assess)\n",
    "print(df.RDEF2.describe())\n",
    "\n",
    "df.RDEF2.isnull().sum()"
   ]
  },
  {
   "cell_type": "code",
   "execution_count": 37,
   "metadata": {},
   "outputs": [
    {
     "output_type": "stream",
     "name": "stdout",
     "text": [
      "count     9762\n",
      "unique       3\n",
      "top          Y\n",
      "freq      7304\n",
      "Name: RDEF3, dtype: object\n"
     ]
    },
    {
     "output_type": "execute_result",
     "data": {
      "text/plain": [
       "0"
      ]
     },
     "metadata": {},
     "execution_count": 37
    }
   ],
   "source": [
    "# Leg/foot deficit (Y/N/C=can't assess)\n",
    "print(df.RDEF3.describe())\n",
    "\n",
    "df.RDEF3.isnull().sum()"
   ]
  },
  {
   "cell_type": "code",
   "execution_count": 38,
   "metadata": {},
   "outputs": [
    {
     "output_type": "stream",
     "name": "stdout",
     "text": [
      "count     9762\nunique       3\ntop          N\nfreq      5177\nName: RDEF4, dtype: object\n"
     ]
    },
    {
     "output_type": "execute_result",
     "data": {
      "text/plain": [
       "0"
      ]
     },
     "metadata": {},
     "execution_count": 38
    }
   ],
   "source": [
    "#Dysphasia (Y/N/C=can't assess)\n",
    "# Dysphasia is a partial or complete impairment of the ability to communicate resulting from brain injury.\n",
    "print(df.RDEF4.describe())\n",
    "\n",
    "df.RDEF4.isnull().sum()"
   ]
  },
  {
   "cell_type": "code",
   "execution_count": 39,
   "metadata": {},
   "outputs": [
    {
     "output_type": "stream",
     "name": "stdout",
     "text": [
      "count     9762\n",
      "unique       3\n",
      "top          N\n",
      "freq      6243\n",
      "Name: RDEF5, dtype: object\n"
     ]
    },
    {
     "output_type": "execute_result",
     "data": {
      "text/plain": [
       "0"
      ]
     },
     "metadata": {},
     "execution_count": 39
    }
   ],
   "source": [
    "# Hemianopia (Y/N/C=can't assess)\n",
    "# defective vision or blindness in half of the visual field; usually applied to bilateral defects caused by a single lesion.\n",
    "print(df.RDEF5.describe())\n",
    "\n",
    "df.RDEF5.isnull().sum()"
   ]
  },
  {
   "cell_type": "code",
   "execution_count": 40,
   "metadata": {},
   "outputs": [
    {
     "output_type": "stream",
     "name": "stdout",
     "text": [
      "count     9762\nunique       3\ntop          N\nfreq      6469\nName: RDEF6, dtype: object\n"
     ]
    },
    {
     "output_type": "execute_result",
     "data": {
      "text/plain": [
       "0"
      ]
     },
     "metadata": {},
     "execution_count": 40
    }
   ],
   "source": [
    "# Visuospatial disorder (Y/N/C=can't assess)\n",
    "# pertaining to visual perception of spatial relationships.\n",
    "print(df.RDEF6.describe())\n",
    "\n",
    "df.RDEF6.isnull().sum()"
   ]
  },
  {
   "cell_type": "code",
   "execution_count": 41,
   "metadata": {},
   "outputs": [
    {
     "output_type": "stream",
     "name": "stdout",
     "text": [
      "count     9762\n",
      "unique       3\n",
      "top          N\n",
      "freq      7860\n",
      "Name: RDEF7, dtype: object\n"
     ]
    },
    {
     "output_type": "execute_result",
     "data": {
      "text/plain": [
       "0"
      ]
     },
     "metadata": {},
     "execution_count": 41
    }
   ],
   "source": [
    "# Brainstem/cerebellar signs (Y/N/C=can't assess)\n",
    "# A cerebellar stroke is one of the less common types of strokes. It occurs when a blood vessel is blocked or bleeding, causing complete interruption to a portion of the cerebellum.\n",
    "#  brainstem - The central stalk-like axis of the lower CNS, which connects the brain with the spinal cord.\n",
    "#  cerebellum - The smaller sub-brain lying below and behind the CEREBRUM. \n",
    "# The cerebellum is the portion of the brain that controls movement and maintains balance\n",
    " \n",
    "print(df.RDEF7.describe())\n",
    "\n",
    "df.RDEF7.isnull().sum()"
   ]
  },
  {
   "cell_type": "code",
   "execution_count": 42,
   "metadata": {},
   "outputs": [
    {
     "output_type": "stream",
     "name": "stdout",
     "text": [
      "count     9762\nunique       3\ntop          N\nfreq      8481\nName: RDEF8, dtype: object\n"
     ]
    },
    {
     "output_type": "execute_result",
     "data": {
      "text/plain": [
       "0"
      ]
     },
     "metadata": {},
     "execution_count": 42
    }
   ],
   "source": [
    "# Other deficit (Y/N/C=can't assess)\n",
    "print(df.RDEF8.describe())\n",
    "\n",
    "df.RDEF8.isnull().sum()"
   ]
  },
  {
   "cell_type": "code",
   "execution_count": 43,
   "metadata": {},
   "outputs": [
    {
     "output_type": "stream",
     "name": "stdout",
     "text": [
      "count     9762\nunique       5\ntop       PACS\nfreq      3976\nName: STYPE, dtype: object\n"
     ]
    },
    {
     "output_type": "execute_result",
     "data": {
      "text/plain": [
       "0"
      ]
     },
     "metadata": {},
     "execution_count": 43
    }
   ],
   "source": [
    "# Stroke subtype (TACS/PACS/POCS/LACS/other\n",
    "# The deficits were classified as one of the Oxfordshire Community Stroke Project (OCSP) categories: total anterior circulation syndrome (TACS), partial anterior circulation syndrome (PACS), posterior circulation syndrome (POCS) and lacunar syndrome (LACS).\n",
    "# https://en.wikipedia.org/wiki/Total_anterior_circulation_infarct\n",
    "# https://en.wikipedia.org/wiki/Partial_anterior_circulation_infarct\n",
    "# https://en.wikipedia.org/wiki/Posterior_circulation_infarct\n",
    "# https://en.wikipedia.org/wiki/Lacunar_stroke\n",
    "\n",
    "print(df.STYPE.describe())\n",
    "\n",
    "df.STYPE.isnull().sum()"
   ]
  },
  {
   "cell_type": "code",
   "execution_count": 44,
   "metadata": {},
   "outputs": [
    {
     "output_type": "stream",
     "name": "stdout",
     "text": [
      "count     9762\nunique       2\ntop          Y\nfreq      4918\nName: RXASP, dtype: object\n"
     ]
    },
    {
     "output_type": "execute_result",
     "data": {
      "text/plain": [
       "0"
      ]
     },
     "metadata": {},
     "execution_count": 44
    }
   ],
   "source": [
    "# Trial aspirin allocated (Y/N)\n",
    "\n",
    "print(df.RXASP.describe())\n",
    "\n",
    "df.RXASP.isnull().sum()"
   ]
  },
  {
   "cell_type": "code",
   "execution_count": 45,
   "metadata": {},
   "outputs": [
    {
     "output_type": "stream",
     "name": "stdout",
     "text": [
      "count     9762\nunique       4\ntop          N\nfreq      4899\nName: RXHEP, dtype: object\n"
     ]
    },
    {
     "output_type": "execute_result",
     "data": {
      "text/plain": [
       "0"
      ]
     },
     "metadata": {},
     "execution_count": 45
    }
   ],
   "source": [
    "# Trial heparin allocated (M/L/N) [M is coded as H=high in pilot]\n",
    "\n",
    "print(df.RXHEP.describe())\n",
    "\n",
    "df.RXHEP.isnull().sum()"
   ]
  },
  {
   "cell_type": "code",
   "execution_count": 46,
   "metadata": {},
   "outputs": [],
   "source": [
    "# replace H with M\n",
    "df['RXHEP'].replace('H','M', inplace=True)"
   ]
  },
  {
   "cell_type": "code",
   "execution_count": 47,
   "metadata": {},
   "outputs": [
    {
     "output_type": "stream",
     "name": "stdout",
     "text": [
      "count     9762\nunique       3\ntop          N\nfreq      4899\nName: RXHEP, dtype: object\n"
     ]
    }
   ],
   "source": [
    "print(df.RXHEP.describe())"
   ]
  },
  {
   "source": [
    "Data collected on 14 day/discharge form about treatments given in hospital"
   ],
   "cell_type": "markdown",
   "metadata": {}
  },
  {
   "cell_type": "code",
   "execution_count": 48,
   "metadata": {},
   "outputs": [
    {
     "output_type": "stream",
     "name": "stdout",
     "text": [
      "count     9750\nunique       5\ntop          N\nfreq      5142\nName: DASP14, dtype: object\n"
     ]
    },
    {
     "output_type": "execute_result",
     "data": {
      "text/plain": [
       "12"
      ]
     },
     "metadata": {},
     "execution_count": 48
    }
   ],
   "source": [
    "# Aspirin given for 14 days or till death or discharge (Y/N)\n",
    "\n",
    "print(df.DASP14.describe())\n",
    "\n",
    "df.DASP14.isnull().sum()"
   ]
  },
  {
   "cell_type": "code",
   "execution_count": 49,
   "metadata": {},
   "outputs": [
    {
     "output_type": "execute_result",
     "data": {
      "text/plain": [
       "N    5142\n",
       "Y    4601\n",
       "U       5\n",
       "n       1\n",
       "y       1\n",
       "Name: DASP14, dtype: int64"
      ]
     },
     "metadata": {},
     "execution_count": 49
    }
   ],
   "source": [
    "df.DASP14.value_counts()"
   ]
  },
  {
   "cell_type": "code",
   "execution_count": 50,
   "metadata": {},
   "outputs": [],
   "source": [
    "df['DASP14'].replace('y','Y', inplace=True)\n",
    "df['DASP14'].replace('n','N', inplace=True)"
   ]
  },
  {
   "cell_type": "code",
   "execution_count": 51,
   "metadata": {},
   "outputs": [
    {
     "output_type": "execute_result",
     "data": {
      "text/plain": [
       "N    5143\n",
       "Y    4602\n",
       "U       5\n",
       "Name: DASP14, dtype: int64"
      ]
     },
     "metadata": {},
     "execution_count": 51
    }
   ],
   "source": [
    "df.DASP14.value_counts()"
   ]
  },
  {
   "cell_type": "code",
   "execution_count": 52,
   "metadata": {},
   "outputs": [
    {
     "output_type": "stream",
     "name": "stdout",
     "text": [
      "count     9681\nunique       3\ntop          Y\nfreq      5798\nName: DASPLT, dtype: object\n"
     ]
    },
    {
     "output_type": "execute_result",
     "data": {
      "text/plain": [
       "81"
      ]
     },
     "metadata": {},
     "execution_count": 52
    }
   ],
   "source": [
    "# Discharged on long term aspirin (Y/N)\n",
    "\n",
    "print(df.DASPLT.describe())\n",
    "\n",
    "df.DASPLT.isnull().sum()"
   ]
  },
  {
   "cell_type": "code",
   "execution_count": 53,
   "metadata": {},
   "outputs": [
    {
     "output_type": "stream",
     "name": "stdout",
     "text": [
      "count     9748\nunique       3\ntop          N\nfreq      7461\nName: DLH14, dtype: object\n"
     ]
    },
    {
     "output_type": "execute_result",
     "data": {
      "text/plain": [
       "14"
      ]
     },
     "metadata": {},
     "execution_count": 53
    }
   ],
   "source": [
    "# Low dose heparin given for 14 days or till death/discharge (Y/N)\n",
    "print(df.DLH14.describe())\n",
    "\n",
    "df.DLH14.isnull().sum()"
   ]
  },
  {
   "cell_type": "code",
   "execution_count": 54,
   "metadata": {},
   "outputs": [
    {
     "output_type": "stream",
     "name": "stdout",
     "text": [
      "count     9264\nunique       3\ntop          N\nfreq      7202\nName: DMH14, dtype: object\n"
     ]
    },
    {
     "output_type": "execute_result",
     "data": {
      "text/plain": [
       "498"
      ]
     },
     "metadata": {},
     "execution_count": 54
    }
   ],
   "source": [
    "# Medium dose heparin given for 14 days or till death/discharge (Y/N)\n",
    "print(df.DMH14.describe())\n",
    "\n",
    "df.DMH14.isnull().sum()"
   ]
  },
  {
   "cell_type": "code",
   "execution_count": 55,
   "metadata": {},
   "outputs": [
    {
     "output_type": "stream",
     "name": "stdout",
     "text": [
      "count     484\nunique      2\ntop         N\nfreq      393\nName: DHH14, dtype: object\n"
     ]
    },
    {
     "output_type": "execute_result",
     "data": {
      "text/plain": [
       "9278"
      ]
     },
     "metadata": {},
     "execution_count": 55
    }
   ],
   "source": [
    "# Medium dose heparin given for 14 days etc in pilot (combine with above)\n",
    "print(df.DHH14.describe())\n",
    "\n",
    "df.DHH14.isnull().sum()"
   ]
  },
  {
   "cell_type": "code",
   "execution_count": null,
   "metadata": {},
   "outputs": [],
   "source": []
  },
  {
   "cell_type": "code",
   "execution_count": null,
   "metadata": {},
   "outputs": [],
   "source": []
  },
  {
   "cell_type": "code",
   "execution_count": null,
   "metadata": {},
   "outputs": [],
   "source": []
  },
  {
   "cell_type": "code",
   "execution_count": 56,
   "metadata": {},
   "outputs": [
    {
     "output_type": "stream",
     "name": "stdout",
     "text": [
      "count     9762\nunique      15\ntop         14\nfreq      5102\nName: ONDRUG, dtype: object\n"
     ]
    },
    {
     "output_type": "execute_result",
     "data": {
      "text/plain": [
       "0"
      ]
     },
     "metadata": {},
     "execution_count": 56
    }
   ],
   "source": [
    "# Estimate of time in days on trial treatment\n",
    "print(df.ONDRUG.describe())\n",
    "\n",
    "df.ONDRUG.isnull().sum()"
   ]
  },
  {
   "cell_type": "code",
   "execution_count": 57,
   "metadata": {},
   "outputs": [
    {
     "output_type": "stream",
     "name": "stdout",
     "text": [
      "count     9610\nunique       3\ntop          N\nfreq      9364\nName: DSCH, dtype: object\n"
     ]
    },
    {
     "output_type": "execute_result",
     "data": {
      "text/plain": [
       "152"
      ]
     },
     "metadata": {},
     "execution_count": 57
    }
   ],
   "source": [
    "#Non trial subcutaneous heparin (Y/N) (administered under the skin)\n",
    "\n",
    "print(df.DSCH.describe())\n",
    "\n",
    "df.DSCH.isnull().sum()"
   ]
  },
  {
   "cell_type": "code",
   "execution_count": 58,
   "metadata": {},
   "outputs": [
    {
     "output_type": "stream",
     "name": "stdout",
     "text": [
      "count     9610\nunique       3\ntop          N\nfreq      9417\nName: DIVH, dtype: object\n"
     ]
    },
    {
     "output_type": "execute_result",
     "data": {
      "text/plain": [
       "152"
      ]
     },
     "metadata": {},
     "execution_count": 58
    }
   ],
   "source": [
    "# Non trial intravenous heparin (Y/N) (administered into vein)\n",
    "\n",
    "print(df.DIVH.describe())\n",
    "\n",
    "df.DIVH.isnull().sum()"
   ]
  },
  {
   "cell_type": "code",
   "execution_count": 59,
   "metadata": {},
   "outputs": [
    {
     "output_type": "stream",
     "name": "stdout",
     "text": [
      "count     9751\nunique       3\ntop          N\nfreq      9361\nName: DAP, dtype: object\n"
     ]
    },
    {
     "output_type": "execute_result",
     "data": {
      "text/plain": [
       "11"
      ]
     },
     "metadata": {},
     "execution_count": 59
    }
   ],
   "source": [
    "# Non trial antiplatelet drug (Y/N)\n",
    "\n",
    "print(df.DAP.describe())\n",
    "\n",
    "df.DAP.isnull().sum()"
   ]
  },
  {
   "cell_type": "code",
   "execution_count": 60,
   "metadata": {},
   "outputs": [
    {
     "output_type": "stream",
     "name": "stdout",
     "text": [
      "count     9751\nunique       3\ntop          N\nfreq      9424\nName: DOAC, dtype: object\n"
     ]
    },
    {
     "output_type": "execute_result",
     "data": {
      "text/plain": [
       "11"
      ]
     },
     "metadata": {},
     "execution_count": 60
    }
   ],
   "source": [
    "# Other anticoagulants (Y/N)\n",
    "# is a member of a class of pharmaceuticals that decrease platelet aggregation and inhibit thrombus formation\n",
    "\n",
    "print(df.DOAC.describe())\n",
    "\n",
    "df.DOAC.isnull().sum()"
   ]
  },
  {
   "cell_type": "code",
   "execution_count": 61,
   "metadata": {},
   "outputs": [
    {
     "output_type": "stream",
     "name": "stdout",
     "text": [
      "count     9747\n",
      "unique       3\n",
      "top          N\n",
      "freq      8686\n",
      "Name: DGORM, dtype: object\n"
     ]
    },
    {
     "output_type": "execute_result",
     "data": {
      "text/plain": [
       "15"
      ]
     },
     "metadata": {},
     "execution_count": 61
    }
   ],
   "source": [
    "# Glycerol or manitol (Y/N)\n",
    "# reduce intracranial pressure \n",
    "\n",
    "print(df.DGORM.describe())\n",
    "\n",
    "df.DGORM.isnull().sum()"
   ]
  },
  {
   "cell_type": "code",
   "execution_count": 62,
   "metadata": {},
   "outputs": [
    {
     "output_type": "stream",
     "name": "stdout",
     "text": [
      "count     9746\nunique       3\ntop          N\nfreq      9378\nName: DSTER, dtype: object\n"
     ]
    },
    {
     "output_type": "execute_result",
     "data": {
      "text/plain": [
       "16"
      ]
     },
     "metadata": {},
     "execution_count": 62
    }
   ],
   "source": [
    "# Steroids (Y/N)\n",
    "\n",
    "print(df.DSTER.describe())\n",
    "\n",
    "df.DSTER.isnull().sum()"
   ]
  },
  {
   "cell_type": "code",
   "execution_count": 63,
   "metadata": {},
   "outputs": [
    {
     "output_type": "stream",
     "name": "stdout",
     "text": [
      "count     9745\nunique       3\ntop          N\nfreq      8655\nName: DCAA, dtype: object\n"
     ]
    },
    {
     "output_type": "execute_result",
     "data": {
      "text/plain": [
       "17"
      ]
     },
     "metadata": {},
     "execution_count": 63
    }
   ],
   "source": [
    "# Calcium antagonists (Y/N)\n",
    "\n",
    "print(df.DCAA.describe())\n",
    "\n",
    "df.DCAA.isnull().sum()"
   ]
  },
  {
   "cell_type": "code",
   "execution_count": 64,
   "metadata": {},
   "outputs": [
    {
     "output_type": "stream",
     "name": "stdout",
     "text": [
      "count     9746\nunique       3\ntop          N\nfreq      9449\nName: DHAEMD, dtype: object\n"
     ]
    },
    {
     "output_type": "execute_result",
     "data": {
      "text/plain": [
       "16"
      ]
     },
     "metadata": {},
     "execution_count": 64
    }
   ],
   "source": [
    "# Haemodilution (Y/N)\n",
    "# Increase in the volume of plasma in relation to red blood cells; reduced concentration of red blood cells in the circulation.\n",
    "\n",
    "print(df.DHAEMD.describe())\n",
    "\n",
    "df.DHAEMD.isnull().sum()"
   ]
  },
  {
   "cell_type": "code",
   "execution_count": 65,
   "metadata": {},
   "outputs": [
    {
     "output_type": "stream",
     "name": "stdout",
     "text": [
      "count     9264\nunique       3\ntop          N\nfreq      9226\nName: DCAREND, dtype: object\n"
     ]
    },
    {
     "output_type": "execute_result",
     "data": {
      "text/plain": [
       "498"
      ]
     },
     "metadata": {},
     "execution_count": 65
    }
   ],
   "source": [
    "# Carotid surgery (Y/N)\n",
    "# Carotid artery stenosis is a narrowing or constriction of any part of the carotid arteries\n",
    "\n",
    "print(df.DCAREND.describe())\n",
    "\n",
    "df.DCAREND.isnull().sum()"
   ]
  },
  {
   "cell_type": "code",
   "execution_count": 66,
   "metadata": {},
   "outputs": [
    {
     "output_type": "stream",
     "name": "stdout",
     "text": [
      "count     9604\n",
      "unique       3\n",
      "top          N\n",
      "freq      9590\n",
      "Name: DTHROMB, dtype: object\n"
     ]
    },
    {
     "output_type": "execute_result",
     "data": {
      "text/plain": [
       "158"
      ]
     },
     "metadata": {},
     "execution_count": 66
    }
   ],
   "source": [
    "# Thrombolysis (Y/N)\n",
    "# Thrombolysis, also called fibrinolytic therapy, is the breakdown (lysis) of blood clots formed in blood vessels, using medication.\n",
    "\n",
    "print(df.DTHROMB.describe())\n",
    "\n",
    "df.DTHROMB.isnull().sum()"
   ]
  },
  {
   "cell_type": "code",
   "execution_count": 67,
   "metadata": {},
   "outputs": [
    {
     "output_type": "stream",
     "name": "stdout",
     "text": [
      "count     9754\n",
      "unique       3\n",
      "top          N\n",
      "freq      9674\n",
      "Name: DMAJNCH, dtype: object\n"
     ]
    },
    {
     "output_type": "execute_result",
     "data": {
      "text/plain": [
       "8"
      ]
     },
     "metadata": {},
     "execution_count": 67
    }
   ],
   "source": [
    "# Major non-cerebral haemorrhage (Y/N)\n",
    "# DMAJNCHD - Date of above (yyyy/mm/dd)\n",
    "# DMAJNCHX - Comment on above\n",
    "\n",
    "print(df.DMAJNCH.describe())\n",
    "\n",
    "df.DMAJNCH.isnull().sum()"
   ]
  },
  {
   "cell_type": "code",
   "execution_count": 68,
   "metadata": {},
   "outputs": [
    {
     "output_type": "stream",
     "name": "stdout",
     "text": [
      "count     9754\nunique       3\ntop          N\nfreq      9426\nName: DSIDE, dtype: object\n"
     ]
    },
    {
     "output_type": "execute_result",
     "data": {
      "text/plain": [
       "8"
      ]
     },
     "metadata": {},
     "execution_count": 68
    }
   ],
   "source": [
    "# Other side effect (Y/N)\n",
    "#DSIDED - Date of above (yyyy/mm/dd)\n",
    "# DSIDEX - Comment on above\n",
    "\n",
    "print(df.DSIDE.describe())\n",
    "\n",
    "df.DSIDE.isnull().sum()"
   ]
  },
  {
   "source": [
    "Final diagnosis of initial event"
   ],
   "cell_type": "markdown",
   "metadata": {}
  },
  {
   "cell_type": "code",
   "execution_count": 69,
   "metadata": {},
   "outputs": [
    {
     "output_type": "stream",
     "name": "stdout",
     "text": [
      "count     9750\nunique       4\ntop          Y\nfreq      8748\nName: DDIAGISC, dtype: object\nY    8748\nN     993\nU       8\nu       1\nName: DDIAGISC, dtype: int64\n"
     ]
    },
    {
     "output_type": "execute_result",
     "data": {
      "text/plain": [
       "12"
      ]
     },
     "metadata": {},
     "execution_count": 69
    }
   ],
   "source": [
    "# Ischaemic stroke\n",
    "# https://en.wikipedia.org/wiki/Cerebral_infarction\n",
    "\n",
    "print(df.DDIAGISC.describe())\n",
    "print(df.DDIAGISC.value_counts())\n",
    "df.DDIAGISC.isnull().sum()"
   ]
  },
  {
   "cell_type": "code",
   "execution_count": 70,
   "metadata": {},
   "outputs": [],
   "source": [
    "df['DDIAGISC'].replace('u','U', inplace=True)"
   ]
  },
  {
   "cell_type": "code",
   "execution_count": 71,
   "metadata": {},
   "outputs": [
    {
     "output_type": "stream",
     "name": "stdout",
     "text": [
      "count     9750\n",
      "unique       3\n",
      "top          N\n",
      "freq      9439\n",
      "Name: DDIAGHA, dtype: object\n",
      "N    9439\n",
      "Y     309\n",
      "U       2\n",
      "Name: DDIAGHA, dtype: int64\n"
     ]
    },
    {
     "output_type": "execute_result",
     "data": {
      "text/plain": [
       "12"
      ]
     },
     "metadata": {},
     "execution_count": 71
    }
   ],
   "source": [
    "# Haemorrhagic stroke\n",
    "# https://en.wikipedia.org/wiki/Intracerebral_hemorrhage\n",
    "\n",
    "print(df.DDIAGHA.describe())\n",
    "print(df.DDIAGHA.value_counts())\n",
    "df.DDIAGHA.isnull().sum()"
   ]
  },
  {
   "cell_type": "code",
   "execution_count": 72,
   "metadata": {},
   "outputs": [
    {
     "output_type": "stream",
     "name": "stdout",
     "text": [
      "count     9752\nunique       3\ntop          N\nfreq      9259\nName: DDIAGUN, dtype: object\nN    9259\nY     491\nU       2\nName: DDIAGUN, dtype: int64\n"
     ]
    },
    {
     "output_type": "execute_result",
     "data": {
      "text/plain": [
       "10"
      ]
     },
     "metadata": {},
     "execution_count": 72
    }
   ],
   "source": [
    "# Indeterminate stroke\n",
    "\n",
    "print(df.DDIAGUN.describe())\n",
    "print(df.DDIAGUN.value_counts())\n",
    "df.DDIAGUN.isnull().sum()"
   ]
  },
  {
   "cell_type": "code",
   "execution_count": 73,
   "metadata": {},
   "outputs": [
    {
     "output_type": "stream",
     "name": "stdout",
     "text": [
      "count     9750\nunique       3\ntop          N\nfreq      9549\nName: DNOSTRK, dtype: object\nN    9549\nY     199\nU       2\nName: DNOSTRK, dtype: int64\n"
     ]
    },
    {
     "output_type": "execute_result",
     "data": {
      "text/plain": [
       "12"
      ]
     },
     "metadata": {},
     "execution_count": 73
    }
   ],
   "source": [
    "# Not a stroke\n",
    "# DNOSTRKX - Comment on above\n",
    "\n",
    "print(df.DNOSTRK.describe())\n",
    "print(df.DNOSTRK.value_counts())\n",
    "df.DNOSTRK.isnull().sum()"
   ]
  },
  {
   "source": [
    "Recurrent stroke within 14 days"
   ],
   "cell_type": "markdown",
   "metadata": {}
  },
  {
   "cell_type": "code",
   "execution_count": 74,
   "metadata": {},
   "outputs": [
    {
     "output_type": "stream",
     "name": "stdout",
     "text": [
      "count     9751\nunique       3\ntop          N\nfreq      9542\nName: DRSISC, dtype: object\n"
     ]
    },
    {
     "output_type": "execute_result",
     "data": {
      "text/plain": [
       "11"
      ]
     },
     "metadata": {},
     "execution_count": 74
    }
   ],
   "source": [
    "# Ischaemic recurrent stroke\n",
    "# DRSISCD - Date of above (yyyy/mm/dd)\n",
    "\n",
    "print(df.DRSISC.describe())\n",
    "\n",
    "df.DRSISC.isnull().sum()"
   ]
  },
  {
   "cell_type": "code",
   "execution_count": 75,
   "metadata": {},
   "outputs": [
    {
     "output_type": "stream",
     "name": "stdout",
     "text": [
      "count     9265\nunique       3\ntop          N\nfreq      9126\nName: DRSUNK, dtype: object\n"
     ]
    },
    {
     "output_type": "execute_result",
     "data": {
      "text/plain": [
       "497"
      ]
     },
     "metadata": {},
     "execution_count": 75
    }
   ],
   "source": [
    "# Unknown type\n",
    "# DRSUNKD - Date of above (yyyy/mm/dd)\n",
    "\n",
    "print(df.DRSUNK.describe())\n",
    "\n",
    "df.DRSUNK.isnull().sum()"
   ]
  },
  {
   "cell_type": "code",
   "execution_count": 76,
   "metadata": {},
   "outputs": [
    {
     "output_type": "stream",
     "name": "stdout",
     "text": [
      "count     9754\n",
      "unique       3\n",
      "top          N\n",
      "freq      9698\n",
      "Name: DRSH, dtype: object\n"
     ]
    },
    {
     "output_type": "execute_result",
     "data": {
      "text/plain": [
       "8"
      ]
     },
     "metadata": {},
     "execution_count": 76
    }
   ],
   "source": [
    "# Haemorrhagic stroke\n",
    "# DRSHD - Date of above (yyyy/mm/dd)\n",
    "\n",
    "print(df.DRSH.describe())\n",
    "\n",
    "df.DRSH.isnull().sum()"
   ]
  },
  {
   "source": [
    "Other events within 14 days"
   ],
   "cell_type": "markdown",
   "metadata": {}
  },
  {
   "cell_type": "code",
   "execution_count": 77,
   "metadata": {},
   "outputs": [
    {
     "output_type": "stream",
     "name": "stdout",
     "text": [
      "count     9754\nunique       3\ntop          N\nfreq      9684\nName: DPE, dtype: object\n"
     ]
    },
    {
     "output_type": "execute_result",
     "data": {
      "text/plain": [
       "8"
      ]
     },
     "metadata": {},
     "execution_count": 77
    }
   ],
   "source": [
    "# Pulmonary embolism\n",
    "# Pulmonary embolism (PE) is a blockage of an artery in the lungs by a substance that has moved from elsewhere in the body through the bloodstream (embolism).\n",
    "# DPED - Date of above (yyyy/mm/dd)\n",
    "\n",
    "print(df.DPE.describe())\n",
    "\n",
    "df.DPE.isnull().sum()"
   ]
  },
  {
   "cell_type": "code",
   "execution_count": 78,
   "metadata": {},
   "outputs": [
    {
     "output_type": "stream",
     "name": "stdout",
     "text": [
      "count     9745\nunique       3\ntop          Y\nfreq      5163\nName: DALIVE, dtype: object\n"
     ]
    },
    {
     "output_type": "execute_result",
     "data": {
      "text/plain": [
       "17"
      ]
     },
     "metadata": {},
     "execution_count": 78
    }
   ],
   "source": [
    "# Discharged alive from hospital\n",
    "\n",
    "print(df.DALIVE.describe())\n",
    "\n",
    "df.DALIVE.isnull().sum()"
   ]
  },
  {
   "cell_type": "code",
   "execution_count": 79,
   "metadata": {},
   "outputs": [
    {
     "output_type": "stream",
     "name": "stdout",
     "text": [
      "count     5163\nunique     107\ntop         14\nfreq       446\nName: DALIVED, dtype: object\n"
     ]
    },
    {
     "output_type": "execute_result",
     "data": {
      "text/plain": [
       "4599"
      ]
     },
     "metadata": {},
     "execution_count": 79
    }
   ],
   "source": [
    "# Date of above (yyyy/mm/dd)\n",
    "\n",
    "print(df.DALIVED.describe())\n",
    "\n",
    "df.DALIVED.isnull().sum()"
   ]
  },
  {
   "cell_type": "code",
   "execution_count": 80,
   "metadata": {},
   "outputs": [
    {
     "output_type": "stream",
     "name": "stdout",
     "text": [
      "count     4861\nunique       6\ntop          A\nfreq      3553\nName: DPLACE, dtype: object\nA    3553\nE     787\nD     258\nB     138\nC     118\nU       7\nName: DPLACE, dtype: int64\n"
     ]
    },
    {
     "output_type": "execute_result",
     "data": {
      "text/plain": [
       "4901"
      ]
     },
     "metadata": {},
     "execution_count": 80
    }
   ],
   "source": [
    "# Discharge destination (A-Home/B-Relatives home/C-Residential care/D-Nursing home/E-Other hospital departments/U-Unknown)\n",
    "\n",
    "print(df.DPLACE.describe())\n",
    "print(df.DPLACE.value_counts())\n",
    "df.DPLACE.isnull().sum()"
   ]
  },
  {
   "cell_type": "code",
   "execution_count": 81,
   "metadata": {},
   "outputs": [
    {
     "output_type": "stream",
     "name": "stdout",
     "text": [
      "count     9753\nunique       3\ntop          N\nfreq      8683\nName: DDEAD, dtype: object\n"
     ]
    },
    {
     "output_type": "execute_result",
     "data": {
      "text/plain": [
       "9"
      ]
     },
     "metadata": {},
     "execution_count": 81
    }
   ],
   "source": [
    "# Dead on discharge form\n",
    "\n",
    "print(df.DDEAD.describe())\n",
    "\n",
    "df.DDEAD.isnull().sum()"
   ]
  },
  {
   "cell_type": "code",
   "execution_count": 82,
   "metadata": {},
   "outputs": [
    {
     "output_type": "stream",
     "name": "stdout",
     "text": [
      "count     1068\nunique      60\ntop          1\nfreq       108\nName: DDEADD, dtype: object\n"
     ]
    },
    {
     "output_type": "execute_result",
     "data": {
      "text/plain": [
       "8694"
      ]
     },
     "metadata": {},
     "execution_count": 82
    }
   ],
   "source": [
    "# Date of above (yyyy/mm/dd); NOTE: this death is not necessarily within 14 days of randomisation\n",
    "\n",
    "print(df.DDEADD.describe())\n",
    "\n",
    "df.DDEADD.isnull().sum()"
   ]
  },
  {
   "source": [
    "Data collected at 6 months"
   ],
   "cell_type": "markdown",
   "metadata": {}
  },
  {
   "cell_type": "code",
   "execution_count": 83,
   "metadata": {},
   "outputs": [
    {
     "output_type": "stream",
     "name": "stdout",
     "text": [
      "count     9741\nunique       2\ntop          N\nfreq      7473\nName: FDEAD, dtype: object\n"
     ]
    },
    {
     "output_type": "execute_result",
     "data": {
      "text/plain": [
       "21"
      ]
     },
     "metadata": {},
     "execution_count": 83
    }
   ],
   "source": [
    "# Dead at six month follow-up (Y/N)\n",
    "\n",
    "print(df.FDEAD.describe())\n",
    "\n",
    "df.FDEAD.isnull().sum()"
   ]
  },
  {
   "cell_type": "code",
   "execution_count": 84,
   "metadata": {},
   "outputs": [
    {
     "output_type": "stream",
     "name": "stdout",
     "text": [
      "count       0\nunique      0\ntop       NaN\nfreq      NaN\nName: FLASTD, dtype: object\n"
     ]
    },
    {
     "output_type": "execute_result",
     "data": {
      "text/plain": [
       "9762"
      ]
     },
     "metadata": {},
     "execution_count": 84
    }
   ],
   "source": [
    "# Date of last contact\n",
    "\n",
    "print(df.FLASTD.describe())\n",
    "\n",
    "df.FLASTD.isnull().sum()"
   ]
  },
  {
   "cell_type": "code",
   "execution_count": 85,
   "metadata": {},
   "outputs": [
    {
     "output_type": "stream",
     "name": "stdout",
     "text": [
      "count     2258\n",
      "unique     228\n",
      "top          1\n",
      "freq       110\n",
      "Name: FDEADD, dtype: object\n"
     ]
    },
    {
     "output_type": "execute_result",
     "data": {
      "text/plain": [
       "7504"
      ]
     },
     "metadata": {},
     "execution_count": 85
    }
   ],
   "source": [
    "# Date of death; NOTE: this death is not necessarily within 6 months of  randomisation\n",
    "\n",
    "print(df.FDEADD.describe())\n",
    "\n",
    "df.FDEADD.isnull().sum()"
   ]
  },
  {
   "cell_type": "code",
   "execution_count": 143,
   "metadata": {},
   "outputs": [
    {
     "output_type": "execute_result",
     "data": {
      "text/plain": [
       "N    7473\n",
       "Y    2268\n",
       "Name: FDEAD, dtype: int64"
      ]
     },
     "metadata": {},
     "execution_count": 143
    }
   ],
   "source": [
    "df.FDEAD.value_counts()"
   ]
  },
  {
   "cell_type": "code",
   "execution_count": 86,
   "metadata": {},
   "outputs": [
    {
     "output_type": "stream",
     "name": "stdout",
     "text": [
      "count     2266\nunique       9\ntop          1\nfreq       797\nName: FDEADC, dtype: object\n"
     ]
    },
    {
     "output_type": "execute_result",
     "data": {
      "text/plain": [
       "7496"
      ]
     },
     "metadata": {},
     "execution_count": 86
    }
   ],
   "source": [
    "# Cause of death (1-Initial stroke/2-Recurrent stroke (ischaemic or unknown)/3-Recurrent stroke (haemorrhagic)/4-Pneumonia/5-Coronary heart disease/6-Pulmonary embolism/7-Other vascular or unknown/8-Non-vascular/0-unknown)\n",
    "\n",
    "# FDEADX - comment on death\n",
    "\n",
    "print(df.FDEADC.describe())\n",
    "\n",
    "df.FDEADC.isnull().sum()"
   ]
  },
  {
   "cell_type": "code",
   "execution_count": 87,
   "metadata": {},
   "outputs": [
    {
     "output_type": "stream",
     "name": "stdout",
     "text": [
      "count     7511\nunique       3\ntop          N\nfreq      5507\nName: FRECOVER, dtype: object\n"
     ]
    },
    {
     "output_type": "execute_result",
     "data": {
      "text/plain": [
       "2251"
      ]
     },
     "metadata": {},
     "execution_count": 87
    }
   ],
   "source": [
    "# Fully recovered at 6 month follow-up (Y/N)\n",
    "\n",
    "print(df.FRECOVER.describe())\n",
    "\n",
    "df.FRECOVER.isnull().sum()"
   ]
  },
  {
   "cell_type": "code",
   "execution_count": 88,
   "metadata": {},
   "outputs": [
    {
     "output_type": "stream",
     "name": "stdout",
     "text": [
      "count     7475\nunique       3\ntop          Y\nfreq      3819\nName: FDENNIS, dtype: object\n"
     ]
    },
    {
     "output_type": "execute_result",
     "data": {
      "text/plain": [
       "2287"
      ]
     },
     "metadata": {},
     "execution_count": 88
    }
   ],
   "source": [
    "# Dependent at 6 month follow-up (Y/N)\n",
    "\n",
    "print(df.FDENNIS.describe())\n",
    "\n",
    "df.FDENNIS.isnull().sum()"
   ]
  },
  {
   "cell_type": "code",
   "execution_count": 89,
   "metadata": {},
   "outputs": [
    {
     "output_type": "stream",
     "name": "stdout",
     "text": [
      "count     7474\nunique       6\ntop          A\nfreq      5873\nName: FPLACE, dtype: object\n"
     ]
    },
    {
     "output_type": "execute_result",
     "data": {
      "text/plain": [
       "2288"
      ]
     },
     "metadata": {},
     "execution_count": 89
    }
   ],
   "source": [
    "# Place of residance at 6 month follow-up (A-Home/B-Relatives home/C-Residential care/D-Nursing home/E-Other hospital departments/U-Unknown)\n",
    "\n",
    "print(df.FPLACE.describe())\n",
    "\n",
    "df.FPLACE.isnull().sum()"
   ]
  },
  {
   "cell_type": "code",
   "execution_count": 90,
   "metadata": {},
   "outputs": [
    {
     "output_type": "stream",
     "name": "stdout",
     "text": [
      "count     7439\nunique       4\ntop          Y\nfreq      5249\nName: FAP, dtype: object\n"
     ]
    },
    {
     "output_type": "execute_result",
     "data": {
      "text/plain": [
       "2323"
      ]
     },
     "metadata": {},
     "execution_count": 90
    }
   ],
   "source": [
    "# On antiplatelet drugs\n",
    "\n",
    "print(df.FAP.describe())\n",
    "\n",
    "df.FAP.isnull().sum()"
   ]
  },
  {
   "cell_type": "code",
   "execution_count": 91,
   "metadata": {},
   "outputs": [],
   "source": [
    "df['FAP'].replace('n','N', inplace=True)"
   ]
  },
  {
   "source": [
    "Other data and derived variables"
   ],
   "cell_type": "markdown",
   "metadata": {}
  },
  {
   "cell_type": "code",
   "execution_count": 92,
   "metadata": {},
   "outputs": [
    {
     "output_type": "stream",
     "name": "stdout",
     "text": [
      "count     9755\nunique     322\ntop         21\nfreq       360\nName: FU1_RECD, dtype: object\n"
     ]
    },
    {
     "output_type": "execute_result",
     "data": {
      "text/plain": [
       "7"
      ]
     },
     "metadata": {},
     "execution_count": 92
    }
   ],
   "source": [
    "# Date discharge form received\n",
    "\n",
    "print(df.FU1_RECD.describe())\n",
    "\n",
    "df.FU1_RECD.isnull().sum()"
   ]
  },
  {
   "cell_type": "code",
   "execution_count": 93,
   "metadata": {},
   "outputs": [
    {
     "output_type": "stream",
     "name": "stdout",
     "text": [
      "count     9742\nunique     452\ntop        183\nfreq       245\nName: FU2_DONE, dtype: object\n"
     ]
    },
    {
     "output_type": "execute_result",
     "data": {
      "text/plain": [
       "20"
      ]
     },
     "metadata": {},
     "execution_count": 93
    }
   ],
   "source": [
    "# Date 6 month follow-up done\n",
    "\n",
    "print(df.FU2_DONE.describe())\n",
    "\n",
    "df.FU2_DONE.isnull().sum()"
   ]
  },
  {
   "cell_type": "code",
   "execution_count": 94,
   "metadata": {},
   "outputs": [
    {
     "output_type": "stream",
     "name": "stdout",
     "text": [
      "count     9520\nunique     301\ntop         14\nfreq      1603\nName: FU1_COMP, dtype: object\n"
     ]
    },
    {
     "output_type": "execute_result",
     "data": {
      "text/plain": [
       "242"
      ]
     },
     "metadata": {},
     "execution_count": 94
    }
   ],
   "source": [
    "# Date discharge form completed\n",
    "\n",
    "print(df.FU1_COMP.describe())\n",
    "\n",
    "df.FU1_COMP.isnull().sum()"
   ]
  },
  {
   "cell_type": "code",
   "execution_count": 95,
   "metadata": {},
   "outputs": [
    {
     "output_type": "stream",
     "name": "stdout",
     "text": [
      "count     9755\nunique       2\ntop          Y\nfreq      9298\nName: CMPLASP, dtype: object\n"
     ]
    },
    {
     "output_type": "execute_result",
     "data": {
      "text/plain": [
       "7"
      ]
     },
     "metadata": {},
     "execution_count": 95
    }
   ],
   "source": [
    "# Compliant for aspirin\n",
    "\n",
    "print(df.CMPLASP.describe())\n",
    "\n",
    "df.CMPLASP.isnull().sum()"
   ]
  },
  {
   "cell_type": "code",
   "execution_count": 96,
   "metadata": {},
   "outputs": [
    {
     "output_type": "stream",
     "name": "stdout",
     "text": [
      "count     9755\n",
      "unique       2\n",
      "top          Y\n",
      "freq      9224\n",
      "Name: CMPLHEP, dtype: object\n"
     ]
    },
    {
     "output_type": "execute_result",
     "data": {
      "text/plain": [
       "7"
      ]
     },
     "metadata": {},
     "execution_count": 96
    }
   ],
   "source": [
    "# Compliant for heparin\n",
    "\n",
    "print(df.CMPLHEP.describe())\n",
    "\n",
    "df.CMPLHEP.isnull().sum()"
   ]
  },
  {
   "cell_type": "code",
   "execution_count": 97,
   "metadata": {},
   "outputs": [
    {
     "output_type": "stream",
     "name": "stdout",
     "text": [
      "count     9762\nunique    9762\ntop       6350\nfreq         1\nName: ID, dtype: object\n"
     ]
    },
    {
     "output_type": "execute_result",
     "data": {
      "text/plain": [
       "0"
      ]
     },
     "metadata": {},
     "execution_count": 97
    }
   ],
   "source": [
    "# Indicator variable for death (1=died; 0=did not die)\n",
    "\n",
    "print(df.ID.describe())\n",
    "\n",
    "df.ID.isnull().sum()"
   ]
  },
  {
   "cell_type": "code",
   "execution_count": 98,
   "metadata": {},
   "outputs": [
    {
     "output_type": "stream",
     "name": "stdout",
     "text": [
      "count     9761\nunique     425\ntop        183\nfreq       232\nName: TD, dtype: object\n"
     ]
    },
    {
     "output_type": "execute_result",
     "data": {
      "text/plain": [
       "1"
      ]
     },
     "metadata": {},
     "execution_count": 98
    }
   ],
   "source": [
    "# Time of death or censoring in days\n",
    "\n",
    "print(df.TD.describe())\n",
    "\n",
    "df.TD.isnull().sum()"
   ]
  },
  {
   "cell_type": "code",
   "execution_count": 99,
   "metadata": {},
   "outputs": [
    {
     "output_type": "stream",
     "name": "stdout",
     "text": [
      "count       9762\nunique      5605\ntop       0.9596\nfreq           9\nName: EXPDD, dtype: object\n"
     ]
    },
    {
     "output_type": "execute_result",
     "data": {
      "text/plain": [
       "0"
      ]
     },
     "metadata": {},
     "execution_count": 99
    }
   ],
   "source": [
    "# Predicted probability of death/dependence at 6 month\n",
    "\n",
    "print(df.EXPDD.describe())\n",
    "\n",
    "df.EXPDD.isnull().sum()"
   ]
  },
  {
   "cell_type": "code",
   "execution_count": 100,
   "metadata": {},
   "outputs": [
    {
     "output_type": "stream",
     "name": "stdout",
     "text": [
      "count       9762\nunique      4524\ntop       0.0594\nfreq          12\nName: EXPD6, dtype: object\n"
     ]
    },
    {
     "output_type": "execute_result",
     "data": {
      "text/plain": [
       "0"
      ]
     },
     "metadata": {},
     "execution_count": 100
    }
   ],
   "source": [
    "# Predicted probability of death at 6 month\n",
    "\n",
    "print(df.EXPD6.describe())\n",
    "\n",
    "df.EXPD6.isnull().sum()"
   ]
  },
  {
   "cell_type": "code",
   "execution_count": 101,
   "metadata": {},
   "outputs": [
    {
     "output_type": "stream",
     "name": "stdout",
     "text": [
      "count       9762\nunique      2703\ntop       0.0345\nfreq          27\nName: EXPD14, dtype: object\n"
     ]
    },
    {
     "output_type": "execute_result",
     "data": {
      "text/plain": [
       "0"
      ]
     },
     "metadata": {},
     "execution_count": 101
    }
   ],
   "source": [
    "# Predicted probability of death at 14 days\n",
    "\n",
    "print(df.EXPD14.describe())\n",
    "\n",
    "df.EXPD14.isnull().sum()"
   ]
  },
  {
   "cell_type": "code",
   "execution_count": 102,
   "metadata": {},
   "outputs": [
    {
     "output_type": "stream",
     "name": "stdout",
     "text": [
      "count     9762\nunique       2\ntop          1\nfreq      9761\nName: SET14D, dtype: object\n"
     ]
    },
    {
     "output_type": "execute_result",
     "data": {
      "text/plain": [
       "0"
      ]
     },
     "metadata": {},
     "execution_count": 102
    }
   ],
   "source": [
    "# Know to be dead or alive at 14 days (1=Yes, 0=No); this does not necessarily mean that we know outcome at 6 monts – see OCCODE for this\n",
    "\n",
    "print(df.SET14D.describe())\n",
    "\n",
    "df.SET14D.isnull().sum()"
   ]
  },
  {
   "cell_type": "code",
   "execution_count": 103,
   "metadata": {},
   "outputs": [
    {
     "output_type": "stream",
     "name": "stdout",
     "text": [
      "count     9762\nunique       2\ntop          0\nfreq      8837\nName: ID14, dtype: object\n"
     ]
    },
    {
     "output_type": "execute_result",
     "data": {
      "text/plain": [
       "0"
      ]
     },
     "metadata": {},
     "execution_count": 103
    }
   ],
   "source": [
    "# Indicator of death at 14 days\n",
    "\n",
    "print(df.ID14.describe())\n",
    "\n",
    "df.ID14.isnull().sum()"
   ]
  },
  {
   "cell_type": "code",
   "execution_count": 104,
   "metadata": {},
   "outputs": [
    {
     "output_type": "stream",
     "name": "stdout",
     "text": [
      "count     9762\nunique       5\ntop          2\nfreq      3903\nName: OCCODE, dtype: object\n"
     ]
    },
    {
     "output_type": "execute_result",
     "data": {
      "text/plain": [
       "0"
      ]
     },
     "metadata": {},
     "execution_count": 104
    }
   ],
   "source": [
    "# Six month outcome (1-dead/2-dependent/3-not recovered/4-recovered/8 or 9 – missing status\n",
    "\n",
    "print(df.OCCODE.describe())\n",
    "\n",
    "df.OCCODE.isnull().sum()"
   ]
  },
  {
   "cell_type": "code",
   "execution_count": 142,
   "metadata": {},
   "outputs": [
    {
     "output_type": "execute_result",
     "data": {
      "text/plain": [
       "2    3903\n",
       "1    2200\n",
       "3    1960\n",
       "4    1680\n",
       "0      19\n",
       "Name: OCCODE, dtype: int64"
      ]
     },
     "metadata": {},
     "execution_count": 142
    }
   ],
   "source": [
    "df.OCCODE.value_counts()"
   ]
  },
  {
   "source": [
    "Indicator variables for specific causes of death"
   ],
   "cell_type": "markdown",
   "metadata": {}
  },
  {
   "cell_type": "code",
   "execution_count": 105,
   "metadata": {},
   "outputs": [
    {
     "output_type": "stream",
     "name": "stdout",
     "text": [
      "count     9762\nunique       2\ntop          0\nfreq      8975\nName: DEAD1, dtype: object\n"
     ]
    },
    {
     "output_type": "execute_result",
     "data": {
      "text/plain": [
       "0"
      ]
     },
     "metadata": {},
     "execution_count": 105
    }
   ],
   "source": [
    "# Initial stroke\n",
    "\n",
    "print(df.DEAD1.describe())\n",
    "\n",
    "df.DEAD1.isnull().sum()"
   ]
  },
  {
   "cell_type": "code",
   "execution_count": 106,
   "metadata": {},
   "outputs": [
    {
     "output_type": "stream",
     "name": "stdout",
     "text": [
      "count     9762\nunique       2\ntop          0\nfreq      9492\nName: DEAD2, dtype: object\n"
     ]
    },
    {
     "output_type": "execute_result",
     "data": {
      "text/plain": [
       "0"
      ]
     },
     "metadata": {},
     "execution_count": 106
    }
   ],
   "source": [
    "# Reccurent ischaemic/unknown stroke\n",
    "\n",
    "print(df.DEAD2.describe())\n",
    "\n",
    "df.DEAD2.isnull().sum()"
   ]
  },
  {
   "cell_type": "code",
   "execution_count": 107,
   "metadata": {},
   "outputs": [
    {
     "output_type": "stream",
     "name": "stdout",
     "text": [
      "count     9762\nunique       2\ntop          0\nfreq      9722\nName: DEAD3, dtype: object\n"
     ]
    },
    {
     "output_type": "execute_result",
     "data": {
      "text/plain": [
       "0"
      ]
     },
     "metadata": {},
     "execution_count": 107
    }
   ],
   "source": [
    "# Reccurent haemorrhagic stroke\n",
    "\n",
    "print(df.DEAD3.describe())\n",
    "\n",
    "df.DEAD3.isnull().sum()"
   ]
  },
  {
   "cell_type": "code",
   "execution_count": 108,
   "metadata": {},
   "outputs": [
    {
     "output_type": "stream",
     "name": "stdout",
     "text": [
      "count     9762\nunique       2\ntop          0\nfreq      9331\nName: DEAD4, dtype: object\n"
     ]
    },
    {
     "output_type": "execute_result",
     "data": {
      "text/plain": [
       "0"
      ]
     },
     "metadata": {},
     "execution_count": 108
    }
   ],
   "source": [
    "# Pneumonia\n",
    "\n",
    "print(df.DEAD4.describe())\n",
    "\n",
    "df.DEAD4.isnull().sum()"
   ]
  },
  {
   "cell_type": "code",
   "execution_count": 109,
   "metadata": {},
   "outputs": [
    {
     "output_type": "stream",
     "name": "stdout",
     "text": [
      "count     9762\nunique       2\ntop          0\nfreq      9580\nName: DEAD5, dtype: object\n"
     ]
    },
    {
     "output_type": "execute_result",
     "data": {
      "text/plain": [
       "0"
      ]
     },
     "metadata": {},
     "execution_count": 109
    }
   ],
   "source": [
    "# Coronary heart disease\n",
    "\n",
    "print(df.DEAD5.describe())\n",
    "\n",
    "df.DEAD5.isnull().sum()"
   ]
  },
  {
   "cell_type": "code",
   "execution_count": 110,
   "metadata": {},
   "outputs": [
    {
     "output_type": "stream",
     "name": "stdout",
     "text": [
      "count     9762\nunique       2\ntop          0\nfreq      9674\nName: DEAD6, dtype: object\n"
     ]
    },
    {
     "output_type": "execute_result",
     "data": {
      "text/plain": [
       "0"
      ]
     },
     "metadata": {},
     "execution_count": 110
    }
   ],
   "source": [
    "# Pulmonary embolism\n",
    "\n",
    "print(df.DEAD6.describe())\n",
    "\n",
    "df.DEAD6.isnull().sum()"
   ]
  },
  {
   "cell_type": "code",
   "execution_count": 111,
   "metadata": {},
   "outputs": [
    {
     "output_type": "stream",
     "name": "stdout",
     "text": [
      "count     9762\nunique       2\ntop          0\nfreq      9479\nName: DEAD7, dtype: object\n"
     ]
    },
    {
     "output_type": "execute_result",
     "data": {
      "text/plain": [
       "0"
      ]
     },
     "metadata": {},
     "execution_count": 111
    }
   ],
   "source": [
    "# Other vascular or unknown\n",
    "\n",
    "print(df.DEAD7.describe())\n",
    "\n",
    "df.DEAD7.isnull().sum()"
   ]
  },
  {
   "cell_type": "code",
   "execution_count": 112,
   "metadata": {},
   "outputs": [
    {
     "output_type": "stream",
     "name": "stdout",
     "text": [
      "count     9762\nunique       2\ntop          0\nfreq      9644\nName: DEAD8, dtype: object\n"
     ]
    },
    {
     "output_type": "execute_result",
     "data": {
      "text/plain": [
       "0"
      ]
     },
     "metadata": {},
     "execution_count": 112
    }
   ],
   "source": [
    "# Non vascular\n",
    "\n",
    "print(df.DEAD8.describe())\n",
    "\n",
    "df.DEAD8.isnull().sum()"
   ]
  },
  {
   "cell_type": "code",
   "execution_count": 113,
   "metadata": {},
   "outputs": [
    {
     "output_type": "stream",
     "name": "stdout",
     "text": [
      "count     9762\nunique       2\ntop          0\nfreq      9677\nName: H14, dtype: object\n"
     ]
    },
    {
     "output_type": "execute_result",
     "data": {
      "text/plain": [
       "0"
      ]
     },
     "metadata": {},
     "execution_count": 113
    }
   ],
   "source": [
    "# Cerebral bleed/heamorrhagic stroke within 14 days; this is slightly wider definition than DRSH an is used for analysis of cerebral bleeds\n",
    "\n",
    "print(df.H14.describe())\n",
    "\n",
    "df.H14.isnull().sum()"
   ]
  },
  {
   "cell_type": "code",
   "execution_count": 114,
   "metadata": {},
   "outputs": [
    {
     "output_type": "stream",
     "name": "stdout",
     "text": [
      "count     9762\nunique       2\ntop          0\nfreq      9563\nName: ISC14, dtype: object\n"
     ]
    },
    {
     "output_type": "execute_result",
     "data": {
      "text/plain": [
       "0"
      ]
     },
     "metadata": {},
     "execution_count": 114
    }
   ],
   "source": [
    "# Indicator of ischaemic stroke within 14 days\n",
    "\n",
    "print(df.ISC14.describe())\n",
    "\n",
    "df.ISC14.isnull().sum()"
   ]
  },
  {
   "cell_type": "code",
   "execution_count": 115,
   "metadata": {},
   "outputs": [
    {
     "output_type": "stream",
     "name": "stdout",
     "text": [
      "count     9762\nunique       2\ntop          0\nfreq      9627\nName: NK14, dtype: object\n"
     ]
    },
    {
     "output_type": "execute_result",
     "data": {
      "text/plain": [
       "0"
      ]
     },
     "metadata": {},
     "execution_count": 115
    }
   ],
   "source": [
    "# Indicator of indeterminate stroke within 14 days\n",
    "\n",
    "print(df.NK14.describe())\n",
    "\n",
    "df.NK14.isnull().sum()"
   ]
  },
  {
   "cell_type": "code",
   "execution_count": 116,
   "metadata": {},
   "outputs": [
    {
     "output_type": "stream",
     "name": "stdout",
     "text": [
      "count     9762\nunique       2\ntop          0\nfreq      9730\nName: HTI14, dtype: object\n"
     ]
    },
    {
     "output_type": "execute_result",
     "data": {
      "text/plain": [
       "0"
      ]
     },
     "metadata": {},
     "execution_count": 116
    }
   ],
   "source": [
    "# Indicator of haemorrhagic transformation within 14 days\n",
    "\n",
    "print(df.HTI14.describe())\n",
    "\n",
    "df.HTI14.isnull().sum()"
   ]
  },
  {
   "cell_type": "code",
   "execution_count": 117,
   "metadata": {},
   "outputs": [
    {
     "output_type": "stream",
     "name": "stdout",
     "text": [
      "count     9762\nunique       2\ntop          0\nfreq      9689\nName: PE14, dtype: object\n"
     ]
    },
    {
     "output_type": "execute_result",
     "data": {
      "text/plain": [
       "0"
      ]
     },
     "metadata": {},
     "execution_count": 117
    }
   ],
   "source": [
    "# Indicator of pulmonary embolism within 14 days\n",
    "print(df.PE14.describe())\n",
    "\n",
    "df.PE14.isnull().sum()"
   ]
  },
  {
   "cell_type": "code",
   "execution_count": 118,
   "metadata": {},
   "outputs": [
    {
     "output_type": "stream",
     "name": "stdout",
     "text": [
      "count     9762\nunique       2\ntop          0\nfreq      9750\nName: DVT14, dtype: object\n"
     ]
    },
    {
     "output_type": "execute_result",
     "data": {
      "text/plain": [
       "0"
      ]
     },
     "metadata": {},
     "execution_count": 118
    }
   ],
   "source": [
    "# Indicator of deep vein thrombosis on discharge form\n",
    "\n",
    "print(df.DVT14.describe())\n",
    "\n",
    "df.DVT14.isnull().sum()"
   ]
  },
  {
   "cell_type": "code",
   "execution_count": 119,
   "metadata": {},
   "outputs": [
    {
     "output_type": "stream",
     "name": "stdout",
     "text": [
      "count     9762\nunique       2\ntop          0\nfreq      9683\nName: TRAN14, dtype: object\n"
     ]
    },
    {
     "output_type": "execute_result",
     "data": {
      "text/plain": [
       "0"
      ]
     },
     "metadata": {},
     "execution_count": 119
    }
   ],
   "source": [
    "# Indicator of major non-cerebral bleed within 14 days\n",
    "\n",
    "print(df.TRAN14.describe())\n",
    "\n",
    "df.TRAN14.isnull().sum()"
   ]
  },
  {
   "cell_type": "code",
   "execution_count": 120,
   "metadata": {},
   "outputs": [
    {
     "output_type": "stream",
     "name": "stdout",
     "text": [
      "count     9762\nunique       2\ntop          0\nfreq      9508\nName: NCB14, dtype: object\n"
     ]
    },
    {
     "output_type": "execute_result",
     "data": {
      "text/plain": [
       "0"
      ]
     },
     "metadata": {},
     "execution_count": 120
    }
   ],
   "source": [
    "# Indicator of any non-cerebral bleed within 14 days\n",
    "\n",
    "print(df.NCB14.describe())\n",
    "\n",
    "df.NCB14.isnull().sum()"
   ]
  },
  {
   "cell_type": "code",
   "execution_count": 121,
   "metadata": {},
   "outputs": [
    {
     "output_type": "stream",
     "name": "stdout",
     "text": [
      "Column Name:  RATRIAL\n",
      "Missing values :  484\n",
      "Column Name:  RHEP24\n",
      "Missing values :  175\n",
      "Column Name:  RASP3\n",
      "Missing values :  484\n",
      "Column Name:  DASP14\n",
      "Missing values :  12\n",
      "Column Name:  DASPLT\n",
      "Missing values :  81\n",
      "Column Name:  DLH14\n",
      "Missing values :  14\n",
      "Column Name:  DMH14\n",
      "Missing values :  498\n",
      "Column Name:  DHH14\n",
      "Missing values :  9278\n",
      "Column Name:  DSCH\n",
      "Missing values :  152\n",
      "Column Name:  DIVH\n",
      "Missing values :  152\n",
      "Column Name:  DAP\n",
      "Missing values :  11\n",
      "Column Name:  DOAC\n",
      "Missing values :  11\n",
      "Column Name:  DGORM\n",
      "Missing values :  15\n",
      "Column Name:  DSTER\n",
      "Missing values :  16\n",
      "Column Name:  DCAA\n",
      "Missing values :  17\n",
      "Column Name:  DHAEMD\n",
      "Missing values :  16\n",
      "Column Name:  DCAREND\n",
      "Missing values :  498\n",
      "Column Name:  DTHROMB\n",
      "Missing values :  158\n",
      "Column Name:  DMAJNCH\n",
      "Missing values :  8\n",
      "Column Name:  DMAJNCHD\n",
      "Missing values :  9686\n",
      "Column Name:  DMAJNCHX\n",
      "Missing values :  9689\n",
      "Column Name:  DSIDE\n",
      "Missing values :  8\n",
      "Column Name:  DSIDED\n",
      "Missing values :  9442\n",
      "Column Name:  DSIDEX\n",
      "Missing values :  9438\n",
      "Column Name:  DDIAGISC\n",
      "Missing values :  12\n",
      "Column Name:  DDIAGHA\n",
      "Missing values :  12\n",
      "Column Name:  DDIAGUN\n",
      "Missing values :  10\n",
      "Column Name:  DNOSTRK\n",
      "Missing values :  12\n",
      "Column Name:  DNOSTRKX\n",
      "Missing values :  9560\n",
      "Column Name:  DRSISC\n",
      "Missing values :  11\n",
      "Column Name:  DRSISCD\n",
      "Missing values :  9556\n",
      "Column Name:  DRSH\n",
      "Missing values :  8\n",
      "Column Name:  DRSHD\n",
      "Missing values :  9709\n",
      "Column Name:  DRSUNK\n",
      "Missing values :  497\n",
      "Column Name:  DRSUNKD\n",
      "Missing values :  9626\n",
      "Column Name:  DPE\n",
      "Missing values :  8\n",
      "Column Name:  DPED\n",
      "Missing values :  9695\n",
      "Column Name:  DALIVE\n",
      "Missing values :  17\n",
      "Column Name:  DALIVED\n",
      "Missing values :  4599\n",
      "Column Name:  DPLACE\n",
      "Missing values :  4901\n",
      "Column Name:  DDEAD\n",
      "Missing values :  9\n",
      "Column Name:  DDEADD\n",
      "Missing values :  8694\n",
      "Column Name:  DDEADC\n",
      "Missing values :  8545\n",
      "Column Name:  DDEADX\n",
      "Missing values :  9673\n",
      "Column Name:  FDEAD\n",
      "Missing values :  21\n",
      "Column Name:  FLASTD\n",
      "Missing values :  9762\n",
      "Column Name:  FDEADD\n",
      "Missing values :  7504\n",
      "Column Name:  FDEADC\n",
      "Missing values :  7496\n",
      "Column Name:  FDEADX\n",
      "Missing values :  9356\n",
      "Column Name:  FRECOVER\n",
      "Missing values :  2251\n",
      "Column Name:  FDENNIS\n",
      "Missing values :  2287\n",
      "Column Name:  FPLACE\n",
      "Missing values :  2288\n",
      "Column Name:  FAP\n",
      "Missing values :  2323\n",
      "Column Name:  FOAC\n",
      "Missing values :  2325\n",
      "Column Name:  FU1_RECD\n",
      "Missing values :  7\n",
      "Column Name:  FU2_DONE\n",
      "Missing values :  20\n",
      "Column Name:  FU1_COMP\n",
      "Missing values :  242\n",
      "Column Name:  NCCODE\n",
      "Missing values :  9008\n",
      "Column Name:  CMPLASP\n",
      "Missing values :  7\n",
      "Column Name:  CMPLHEP\n",
      "Missing values :  7\n",
      "Column Name:  TD\n",
      "Missing values :  1\n"
     ]
    }
   ],
   "source": [
    "for column in df.columns:\n",
    "    columnSeriesObj = df[column]\n",
    "    if columnSeriesObj.isnull().sum() != 0:\n",
    "        print('Column Name: ', column)\n",
    "        print('Missing values : ', columnSeriesObj.isnull().sum() )"
   ]
  },
  {
   "cell_type": "code",
   "execution_count": 122,
   "metadata": {},
   "outputs": [],
   "source": [
    "# merge DHH14 into DMH14 \n",
    "# (DHH14 = Medium dose heparin given for 14 days etc in pilot (combine with DMH14))\n",
    "df['DMH14'] = np.where(df['DMH14'].isnull() == True, df['DHH14'], df['DMH14'])"
   ]
  },
  {
   "cell_type": "code",
   "execution_count": 123,
   "metadata": {},
   "outputs": [
    {
     "output_type": "execute_result",
     "data": {
      "text/plain": [
       "14"
      ]
     },
     "metadata": {},
     "execution_count": 123
    }
   ],
   "source": [
    "df.DMH14.isnull().sum()"
   ]
  },
  {
   "cell_type": "code",
   "execution_count": 124,
   "metadata": {},
   "outputs": [],
   "source": [
    "# drop the following columns due too many missing values (> 1000, ecxept 'DPLACE','FRECOVER', 'FDENNIS','FPLACE', 'FAP', 'FOAC') (or merging with other columns, i.e. DHH14) -- 'DDEADD', 'DDEADC', 'FDEADC'\n",
    "df = df.drop(['DHH14', 'DMAJNCHD', 'DMAJNCHX', 'DSIDED', 'DSIDEX', 'DNOSTRKX', 'DRSISCD', 'DRSHD', 'DRSUNKD', 'DPED', 'DALIVED',  'DDEADX', 'FLASTD', 'FDEADD', 'FDEADX', 'NCCODE'], axis=1)"
   ]
  },
  {
   "cell_type": "code",
   "execution_count": 125,
   "metadata": {},
   "outputs": [],
   "source": [
    "# new variable: RXHEP14\n",
    "# Heparin given for 14 days or till death/discharge (Y, N)\n",
    "#df['RXHEP14'] = np.where(df[\"RXHEP\"] == 'M', df['DMH14'], 'N')\n",
    "#df['RXHEP14'] = np.where(df[\"RXHEP\"] == 'L', df['DLH14'], 'N')\n",
    "\n",
    "conditions = [\n",
    "    df['RXHEP'].eq('M') & df['DMH14'].eq('Y'),\n",
    "    df['RXHEP'].eq('L') & df['DLH14'].eq('Y')]\n",
    "\n",
    "choices = ['Y','Y']\n",
    "\n",
    "df['RXHEP14'] = np.select(conditions, choices, default='N')"
   ]
  },
  {
   "cell_type": "code",
   "execution_count": 126,
   "metadata": {},
   "outputs": [],
   "source": [
    "# new variable: HEP14\n",
    "# Dose Heparin given for 14 days or till death/discharge (Y, N)\n",
    "\n",
    "conditions = [\n",
    "    df['RXHEP'].eq('M') & df['DMH14'].eq('Y'),\n",
    "    df['RXHEP'].eq('L') & df['DLH14'].eq('Y')]\n",
    "\n",
    "choices = ['M','L']\n",
    "\n",
    "df['HEP14'] = np.select(conditions, choices, default='N')"
   ]
  },
  {
   "cell_type": "code",
   "execution_count": 127,
   "metadata": {},
   "outputs": [
    {
     "output_type": "stream",
     "name": "stdout",
     "text": [
      "N    4899\nL    2435\nM    2428\nName: RXHEP, dtype: int64\nN    7595\nY    2147\nU       6\nName: DMH14, dtype: int64\nN    7461\nY    2283\nU       4\nName: DLH14, dtype: int64\nN    5408\nY    4354\nName: RXHEP14, dtype: int64\n"
     ]
    },
    {
     "output_type": "execute_result",
     "data": {
      "text/plain": [
       "N    5408\n",
       "L    2234\n",
       "M    2120\n",
       "Name: HEP14, dtype: int64"
      ]
     },
     "metadata": {},
     "execution_count": 127
    }
   ],
   "source": [
    "print(df.RXHEP.value_counts())\n",
    "print(df.DMH14.value_counts())\n",
    "print(df.DLH14.value_counts())\n",
    "print(df.RXHEP14.value_counts())\n",
    "df.HEP14.value_counts()"
   ]
  },
  {
   "cell_type": "code",
   "execution_count": 128,
   "metadata": {},
   "outputs": [
    {
     "output_type": "execute_result",
     "data": {
      "text/plain": [
       "count     9762\n",
       "unique       3\n",
       "top          N\n",
       "freq      5408\n",
       "Name: HEP14, dtype: object"
      ]
     },
     "metadata": {},
     "execution_count": 128
    }
   ],
   "source": [
    "df.HEP14.describe()"
   ]
  },
  {
   "cell_type": "code",
   "execution_count": 129,
   "metadata": {},
   "outputs": [],
   "source": [
    "# new variable: DMEDS\n",
    "# additional medication beside ASP or HEP\n",
    "\n",
    "conditions = [\n",
    "    df['DSCH'].eq('Y'), df['DIVH'].eq('Y'), df['DAP'].eq('Y'), df['DOAC'].eq('Y'),\n",
    "    df['DGORM'].eq('Y'), df['DSTER'].eq('Y'), df['DCAA'].eq('Y')]\n",
    "\n",
    "choices = ['Y','Y','Y','Y','Y','Y','Y']\n",
    "\n",
    "df['DMEDS'] = np.select(conditions, choices, default='N')"
   ]
  },
  {
   "cell_type": "code",
   "execution_count": 130,
   "metadata": {},
   "outputs": [
    {
     "output_type": "execute_result",
     "data": {
      "text/plain": [
       "count     9762\n",
       "unique       2\n",
       "top          N\n",
       "freq      7007\n",
       "Name: DMEDS, dtype: object"
      ]
     },
     "metadata": {},
     "execution_count": 130
    }
   ],
   "source": [
    "df.DMEDS.describe()"
   ]
  },
  {
   "cell_type": "code",
   "execution_count": 131,
   "metadata": {},
   "outputs": [],
   "source": [
    "# new variable: DIAG\n",
    "# combine all types of first stroke\n",
    "\n",
    "conditions = [\n",
    "    df['DDIAGISC'].eq('Y'), df['DDIAGHA'].eq('Y'), df['DDIAGUN'].eq('Y'), df['DNOSTRK'].eq('Y')]\n",
    "\n",
    "choices = ['Ischaemic stroke','Haemorrhagic stroke','Indeterminate stroke','Not a stroke']\n",
    "\n",
    "df['DIAG'] = np.select(conditions, choices, default='Unknown')"
   ]
  },
  {
   "cell_type": "code",
   "execution_count": 132,
   "metadata": {},
   "outputs": [],
   "source": [
    "# new variable: RDIAG14\n",
    "# combine all types of recurrent stroke\n",
    "\n",
    "conditions = [\n",
    "    df['DRSISC'].eq('Y'), df['DRSH'].eq('Y'), df['DRSUNK'].eq('Y'), df['DPE'].eq('Y')]\n",
    "\n",
    "choices = ['Ischaemic stroke','Haemorrhagic stroke','Unknown type', 'Pulmonary embolism']\n",
    "\n",
    "df['RDIAG14'] = np.select(conditions, choices, default='None')"
   ]
  },
  {
   "cell_type": "code",
   "execution_count": 133,
   "metadata": {},
   "outputs": [
    {
     "output_type": "execute_result",
     "data": {
      "text/plain": [
       "None                   9303\n",
       "Ischaemic stroke        206\n",
       "Unknown type            136\n",
       "Pulmonary embolism       67\n",
       "Haemorrhagic stroke      50\n",
       "Name: RDIAG14, dtype: int64"
      ]
     },
     "metadata": {},
     "execution_count": 133
    }
   ],
   "source": [
    "df.RDIAG14.value_counts()"
   ]
  },
  {
   "cell_type": "code",
   "execution_count": 134,
   "metadata": {},
   "outputs": [],
   "source": [
    "# new variable: RDISCH14\n",
    "# Discharged after 14 days - alive or dead?\n",
    "\n",
    "conditions = [\n",
    "    df['DALIVE'].eq('Y'), df['DDEAD'].eq('Y'), df['DALIVE'].eq('N')]\n",
    "\n",
    "choices = ['Discharged alive from hospital', 'Dead on discharge form', 'Not discharged']\n",
    "\n",
    "df['RDISCH14'] = np.select(conditions, choices, default='Unknown')"
   ]
  },
  {
   "cell_type": "code",
   "execution_count": 135,
   "metadata": {},
   "outputs": [
    {
     "output_type": "execute_result",
     "data": {
      "text/plain": [
       "Discharged alive from hospital    5163\n",
       "Not discharged                    3518\n",
       "Dead on discharge form            1068\n",
       "Unknown                             13\n",
       "Name: RDISCH14, dtype: int64"
      ]
     },
     "metadata": {},
     "execution_count": 135
    }
   ],
   "source": [
    "df.RDISCH14.value_counts()"
   ]
  },
  {
   "cell_type": "code",
   "execution_count": 136,
   "metadata": {},
   "outputs": [
    {
     "output_type": "stream",
     "name": "stdout",
     "text": [
      "DALIVE  DDEAD\nN       N        3516\n        Y        1062\nU       U           2\nY       N        5163\nName: DDEAD, dtype: int64\n"
     ]
    }
   ],
   "source": [
    "# neither dead nor alive?! - not discharged?\n",
    "print(df['DDEAD'].groupby(df['DALIVE']).value_counts())"
   ]
  },
  {
   "cell_type": "code",
   "execution_count": 137,
   "metadata": {},
   "outputs": [
    {
     "output_type": "stream",
     "name": "stdout",
     "text": [
      "DPLACE  DALIVE\nA       Y         3553\nB       Y          138\nC       Y          118\nD       Y          258\nE       Y          787\nU       Y            7\nName: DALIVE, dtype: int64\nDDEAD  DPLACE\nN      A         3553\n       E          787\n       D          258\n       B          138\n       C          118\n       U            7\nName: DPLACE, dtype: int64\n"
     ]
    }
   ],
   "source": [
    "print(df['DALIVE'].groupby(df['DPLACE']).value_counts())\n",
    "print(df['DPLACE'].groupby(df['DDEAD']).value_counts())"
   ]
  },
  {
   "cell_type": "code",
   "execution_count": 138,
   "metadata": {},
   "outputs": [
    {
     "output_type": "execute_result",
     "data": {
      "text/plain": [
       "N    8683\n",
       "Y    1068\n",
       "U       2\n",
       "Name: DDEAD, dtype: int64"
      ]
     },
     "metadata": {},
     "execution_count": 138
    }
   ],
   "source": [
    "df.DDEAD.value_counts()"
   ]
  },
  {
   "cell_type": "code",
   "execution_count": 139,
   "metadata": {},
   "outputs": [
    {
     "output_type": "execute_result",
     "data": {
      "text/plain": [
       "1    526\n",
       "4    191\n",
       "0    150\n",
       "2    116\n",
       "5     71\n",
       "7     61\n",
       "6     49\n",
       "8     28\n",
       "3     25\n",
       "Name: DDEADC, dtype: int64"
      ]
     },
     "metadata": {},
     "execution_count": 139
    }
   ],
   "source": [
    "df.DDEADC.value_counts()"
   ]
  },
  {
   "cell_type": "code",
   "execution_count": 140,
   "metadata": {},
   "outputs": [
    {
     "output_type": "stream",
     "name": "stdout",
     "text": [
      "DDEADC  DDEAD\n0       N        150\n1       Y        526\n2       Y        116\n3       Y         25\n4       Y        191\n5       Y         71\n6       Y         49\n7       Y         61\n8       Y         28\nName: DDEAD, dtype: int64\n"
     ]
    },
    {
     "output_type": "execute_result",
     "data": {
      "text/plain": [
       "DDEADC  DALIVE\n",
       "0       N          80\n",
       "        Y          70\n",
       "1       N         524\n",
       "2       N         116\n",
       "3       N          25\n",
       "4       N         190\n",
       "5       N          71\n",
       "6       N          47\n",
       "7       N          60\n",
       "8       N          28\n",
       "Name: DALIVE, dtype: int64"
      ]
     },
     "metadata": {},
     "execution_count": 140
    }
   ],
   "source": [
    "# 0 in DDEADC have not died\n",
    "print(df['DDEAD'].groupby(df['DDEADC']).value_counts())\n",
    "df['DALIVE'].groupby(df['DDEADC']).value_counts()"
   ]
  },
  {
   "cell_type": "code",
   "execution_count": 146,
   "metadata": {},
   "outputs": [
    {
     "output_type": "execute_result",
     "data": {
      "text/plain": [
       "0    8975\n",
       "1     787\n",
       "Name: DEAD1, dtype: int64"
      ]
     },
     "metadata": {},
     "execution_count": 146
    }
   ],
   "source": [
    "df.DEAD1.value_counts()"
   ]
  },
  {
   "cell_type": "code",
   "execution_count": 155,
   "metadata": {},
   "outputs": [],
   "source": [
    "# new variable: DEAD\n",
    "# Cause of death (regardless of time - within 14 days or 6 months)\n",
    "\n",
    "conditions = [\n",
    "    df['DEAD1'].eq('1'), df['DEAD2'].eq('1'), df['DEAD3'].eq('1'), df['DEAD4'].eq('1'), \n",
    "    df['DEAD5'].eq('1'), df['DEAD6'].eq('1'), df['DEAD7'].eq('1'), df['DEAD8'].eq('1')]\n",
    "\n",
    "choices = ['Initial stroke','Recurrent stroke (ischemiac/unknown)', 'Recurrent stroke (haemorraghic)', 'Pneumonia',\n",
    "    'Coronary heart disease', 'Pulmonary embolism', 'Other vascular or unknown', 'Non vascular']\n",
    "\n",
    "df['DEAD'] = np.select(conditions, choices, default='Alive')"
   ]
  },
  {
   "cell_type": "code",
   "execution_count": 156,
   "metadata": {},
   "outputs": [
    {
     "output_type": "execute_result",
     "data": {
      "text/plain": [
       "Alive                                   7563\n",
       "Initial stroke                           787\n",
       "Pneumonia                                431\n",
       "Other vascular or unknown                283\n",
       "Recurrent stroke (ischemiac/unknown)     270\n",
       "Coronary heart disease                   182\n",
       "Non vascular                             118\n",
       "Pulmonary embolism                        88\n",
       "Recurrent stroke (haemorraghic)           40\n",
       "Name: DEAD, dtype: int64"
      ]
     },
     "metadata": {},
     "execution_count": 156
    }
   ],
   "source": [
    "df.DEAD.value_counts()"
   ]
  },
  {
   "cell_type": "code",
   "execution_count": null,
   "metadata": {},
   "outputs": [],
   "source": []
  },
  {
   "cell_type": "code",
   "execution_count": 157,
   "metadata": {},
   "outputs": [],
   "source": [
    "#save clean file\n",
    "df.to_csv('data/Train1_clean.csv') "
   ]
  },
  {
   "cell_type": "code",
   "execution_count": null,
   "metadata": {},
   "outputs": [],
   "source": []
  }
 ],
 "metadata": {
  "kernelspec": {
   "name": "python3",
   "display_name": "Python 3",
   "language": "python"
  },
  "language_info": {
   "codemirror_mode": {
    "name": "ipython",
    "version": 3
   },
   "file_extension": ".py",
   "mimetype": "text/x-python",
   "name": "python",
   "nbconvert_exporter": "python",
   "pygments_lexer": "ipython3",
   "version": "3.8.5-final"
  }
 },
 "nbformat": 4,
 "nbformat_minor": 4
}