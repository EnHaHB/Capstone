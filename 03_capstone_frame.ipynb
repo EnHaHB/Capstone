{
 "metadata": {
  "language_info": {
   "codemirror_mode": {
    "name": "ipython",
    "version": 3
   },
   "file_extension": ".py",
   "mimetype": "text/x-python",
   "name": "python",
   "nbconvert_exporter": "python",
   "pygments_lexer": "ipython3",
   "version": 3
  },
  "orig_nbformat": 2
 },
 "nbformat": 4,
 "nbformat_minor": 2,
 "cells": [
  {
   "source": [
    "# After a stroke  \n",
    "\n",
    "The IST study aimed to examine the effects of administering heparin or aspirin within the first 48 hours after the patient suffered from a stroke. The "
   ],
   "cell_type": "markdown",
   "metadata": {}
  },
  {
   "source": [
    "## Questions\n",
    "\n",
    "+ Survival rate after two weeks and good long-term outcome (recovered - and independent)\n",
    "    + aspirin vs non-aspirin\n",
    "        + aspirin vs non-aspirin subdivided in prior aspirin\n",
    "        + aspirin vs non-aspirin subdivided in hours between onset and randomisation (3, 6, 12, 24, 48)\n",
    "    + heparin vs non-heparin\n",
    "        + non vs low vs medium heparin\n",
    "        + heparin vs non-heparin subdivided in prior heparin\n",
    "        + heparin vs non-heparin subdivided in hours between onset and randomisation (3, 6, 12, 24, 48)\n",
    "    + combination of aspirin and heparin \n",
    "        + (significantly) different outcome than separate effects of aspirin and heparin\n",
    "\n",
    "+ How did aspirin and/or heparin effect the patients life? \n",
    "    + Did it result in fewer recurrent strokes and/or deaths?\n",
    "    + Did aspirin or heparin alter the outcome considering the severity of a stroke?\n",
    "+ Did certain types of strokes and/or severity of strokes affect the outcome? \n",
    "+ Did age affect the immediate (14 days) or long-term outcome (6 months)?\n",
    "+ Were men and women affected differently by strokes?\n",
    "+ What happened after a stroke? \n",
    "    + How often did a recurrent stroke happen?\n",
    "        + Did the systolic blood pressure after a stroke give an indication about another stroke?\n",
    "        + Did an abnormal heart rate after a stroke give an indication about another stroke?\n",
    "    + Where did men and women live afterwards?\n",
    "    + What was the recovery rate?\n",
    "+ What was the main cause of death - after 6 months?\n",
    "\n",
    "+ How well can we predict the occurrence of a recurrent stroke?\n"
   ],
   "cell_type": "markdown",
   "metadata": {}
  },
  {
   "source": [
    "## Data Overview\n",
    "\n",
    "+ When & where was the data collected\n",
    "+ Patients age and gender\n",
    "+ Abnormal heart rate (ATRIAL) \n",
    "+ Systolic blood pressure (RSBP)\n",
    "+ Type of strokes\n",
    "+ Which treatment did the patients receive?"
   ],
   "cell_type": "markdown",
   "metadata": {}
  },
  {
   "source": [
    "## Types of ischaemic strokes\n",
    "\n",
    "### Total anterior circulation stroke syndrome [(TACS)](https://en.wikipedia.org/wiki/Total_anterior_circulation_infarct)\n",
    "TACS refers to the symptoms of a patient who clinically appears to have suffered from a total anterior circulation infarct, but who has not yet had any diagnostic imaging (e.g. CT Scan) to confirm the diagnosis.\n",
    "\n",
    "It is diagnosed when it causes all 3 of the following symptoms:\n",
    "\n",
    "+ Higher dysfunction\n",
    "    + Dysphasia (Dysphasia is a partial or complete impairment of the ability to communicate resulting from brain injury.)\n",
    "    + Visuospatial disturbances (Pertaining to visual perception of spatial relationships.)\n",
    "    + Decreased level of consciousness\n",
    "+ Homonymous hemianopia (Defective vision or blindness in half of the visual field; usually applied to bilateral defects caused by a single lesion.)\n",
    "+ Motor and Sensory Defects (≥2/3 of face, arm, leg)\n",
    "\n",
    "\n",
    "### Partial anterior circulation stroke syndrome [(PACS)](https://en.wikipedia.org/wiki/Partial_anterior_circulation_infarct) \n",
    "PACS refers to the symptoms of a patient who clinically appears to have suffered from a partial anterior circulation infarct, but who has not yet had any diagnostic imaging (e.g. CT Scan) to confirm the diagnosis.\n",
    "\n",
    "It is diagnosed by any one of the following\n",
    "\n",
    "+ 2 out of 3 features of\n",
    "    + Higher dysfunction\n",
    "        + Dysphasia\n",
    "        + Visuospatial disturbances\n",
    "    + Homonymous hemianopia\n",
    "    + Motor and Sensory Defects (>2/3 of face, arm, leg)\n",
    "+ Higher dysfunction alone\n",
    "+ Partial Motor or Sensory Defect\n",
    "If all of the above symptoms are present, a Total Anterior Circulation Infarct is more likely.\n",
    "\n",
    "### Posterior circulation stroke syndrome [POCS)](https://en.wikipedia.org/wiki/Posterior_circulation_infarct) \n",
    "POCS refers to the symptoms of a patient who clinically appears to have had a posterior circulation infarct, but who has not yet had any diagnostic imaging (e.g. CT Scan) to confirm the diagnosis.\n",
    "\n",
    "It can cause the following symptoms:\n",
    "\n",
    "+ Cranial nerve palsy AND contralateral motor/sensory defect\n",
    "+ Bilateral motor or sensory defect\n",
    "+ Eye movement problems (e.g.nystagmus)\n",
    "+ Cerebellar dysfunction\n",
    "+ Isolated homonymous hemianopia\n",
    "+ Vertigo\n",
    "\n",
    "It has also been associated with deafness.\n",
    "\n",
    "### Lacunar stroke or lacunar cerebral infarct (LACI) \n",
    "LACS is the most common type of ischaemic stroke, resulting from the occlusion of small penetrating arteries that provide blood to the brain's deep structures. Patients who present with symptoms of a lacunar stroke, but who have not yet had diagnostic imaging performed, may be described as suffering from lacunar stroke syndrome (LACS).\n",
    "\n",
    "true cortical signs (aphasia, visuospatial neglect, gaze deviation, and visual field defects) are always absent in lacunar strokes\n"
   ],
   "cell_type": "markdown",
   "metadata": {}
  },
  {
   "cell_type": "code",
   "execution_count": null,
   "metadata": {},
   "outputs": [],
   "source": []
  }
 ]
}