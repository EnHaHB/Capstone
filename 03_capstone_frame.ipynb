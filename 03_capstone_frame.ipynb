{
 "metadata": {
  "language_info": {
   "codemirror_mode": {
    "name": "ipython",
    "version": 3
   },
   "file_extension": ".py",
   "mimetype": "text/x-python",
   "name": "python",
   "nbconvert_exporter": "python",
   "pygments_lexer": "ipython3",
   "version": 3
  },
  "orig_nbformat": 2
 },
 "nbformat": 4,
 "nbformat_minor": 2,
 "cells": [
  {
   "source": [
    "# After a stroke  \n",
    "\n",
    "The IST study aimed to examine the effects of administering heparin or aspirin within the first 48 hours after the patient suffered from a stroke. The "
   ],
   "cell_type": "markdown",
   "metadata": {}
  },
  {
   "source": [
    "## Questions\n",
    "\n",
    "+ How did aspirin or heparin effect the patients life? \n",
    "    + Did it result in fewer recurrent strokes and/or deaths?\n",
    "    + Did aspirin or heparin alter the outcome considering the severity of a stroke?\n",
    "+ Did certain types of strokes and/or severity of strokes affect the outcome? \n",
    "+ Did age affect the immediate (14 days) or long-term outcome (6 months)?\n",
    "+ Were men and women affected differently by strokes?\n",
    "+ What happened after a stroke? \n",
    "    + How often did a recurrent stroke happen?\n",
    "        + Did the systolic blood pressure after a stroke give an indication about another stroke?\n",
    "        + Did an abnormal heart rate after a stroke give an indication about another stroke?\n",
    "    + Where did men and women live afterwards?\n",
    "    + What was the recovery rate?\n",
    "+ What was the main cause of death - after 6 months?\n",
    "\n",
    "+ How well can we predict the occurrence of a recurrent stroke?\n"
   ],
   "cell_type": "markdown",
   "metadata": {}
  },
  {
   "source": [
    "## Data Overview\n",
    "\n",
    "+ When was the data collected\n",
    "+ Where was it collected\n",
    "+ Patients age and gender\n",
    "+ Abnormal heart rate (ATRIAL) \n",
    "+ Systolic blood pressure (RSBP)\n",
    "+ Deficits (face, arm/hand, leg/foot, dysphasia, hemianopia, visuospatial disorder, brainstem/cerebellar signs, other deficit)\n",
    "+ Type of strokes"
   ],
   "cell_type": "markdown",
   "metadata": {}
  }
 ]
}