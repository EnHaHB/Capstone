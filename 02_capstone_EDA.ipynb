{
 "cells": [
  {
   "cell_type": "code",
   "execution_count": 2,
   "metadata": {},
   "outputs": [],
   "source": [
    "import pandas as pd\n",
    "import numpy as np"
   ]
  },
  {
   "cell_type": "code",
   "execution_count": 21,
   "metadata": {},
   "outputs": [],
   "source": [
    "df = pd.read_csv('data/Train1_clean.csv',  index_col= [0])\n"
   ]
  },
  {
   "cell_type": "code",
   "execution_count": 22,
   "metadata": {},
   "outputs": [
    {
     "output_type": "stream",
     "name": "stdout",
     "text": [
      "<class 'pandas.core.frame.DataFrame'>\nInt64Index: 9762 entries, 0 to 9761\nData columns (total 95 columns):\n #   Column     Non-Null Count  Dtype  \n---  ------     --------------  -----  \n 0   ID         9762 non-null   int64  \n 1   HOSPNUM    9762 non-null   int64  \n 2   RDELAY     9762 non-null   int64  \n 3   RCONSC     9762 non-null   object \n 4   SEX        9762 non-null   object \n 5   AGE        9762 non-null   int64  \n 6   RSLEEP     9762 non-null   object \n 7   RATRIAL    9278 non-null   object \n 8   RCT        9762 non-null   object \n 9   RVISINF    9762 non-null   object \n 10  RHEP24     9587 non-null   object \n 11  RASP3      9278 non-null   object \n 12  RSBP       9762 non-null   int64  \n 13  RDEF1      9762 non-null   object \n 14  RDEF2      9762 non-null   object \n 15  RDEF3      9762 non-null   object \n 16  RDEF4      9762 non-null   object \n 17  RDEF5      9762 non-null   object \n 18  RDEF6      9762 non-null   object \n 19  RDEF7      9762 non-null   object \n 20  RDEF8      9762 non-null   object \n 21  STYPE      9762 non-null   object \n 22  RDATE      9762 non-null   object \n 23  HOURLOCAL  9762 non-null   int64  \n 24  MINLOCAL   9762 non-null   int64  \n 25  DAYLOCAL   9762 non-null   int64  \n 26  RXASP      9762 non-null   object \n 27  RXHEP      9762 non-null   object \n 28  DASP14     9750 non-null   object \n 29  DASPLT     9681 non-null   object \n 30  DLH14      9748 non-null   object \n 31  DMH14      9748 non-null   object \n 32  ONDRUG     9762 non-null   int64  \n 33  DSCH       9610 non-null   object \n 34  DIVH       9610 non-null   object \n 35  DAP        9751 non-null   object \n 36  DOAC       9751 non-null   object \n 37  DGORM      9747 non-null   object \n 38  DSTER      9746 non-null   object \n 39  DCAA       9745 non-null   object \n 40  DHAEMD     9746 non-null   object \n 41  DCAREND    9264 non-null   object \n 42  DTHROMB    9604 non-null   object \n 43  DMAJNCH    9754 non-null   object \n 44  DSIDE      9754 non-null   object \n 45  DDIAGISC   9750 non-null   object \n 46  DDIAGHA    9750 non-null   object \n 47  DDIAGUN    9752 non-null   object \n 48  DNOSTRK    9750 non-null   object \n 49  DRSISC     9751 non-null   object \n 50  DRSH       9754 non-null   object \n 51  DRSUNK     9265 non-null   object \n 52  DPE        9754 non-null   object \n 53  DALIVE     9745 non-null   object \n 54  DPLACE     4861 non-null   object \n 55  DDEAD      9753 non-null   object \n 56  FDEAD      9741 non-null   object \n 57  FRECOVER   7511 non-null   object \n 58  FDENNIS    7475 non-null   object \n 59  FPLACE     7474 non-null   object \n 60  FAP        7439 non-null   object \n 61  FOAC       7437 non-null   object \n 62  FU1_RECD   9755 non-null   float64\n 63  FU2_DONE   9742 non-null   float64\n 64  COUNTRY    9762 non-null   object \n 65  CNTRYNUM   9762 non-null   int64  \n 66  FU1_COMP   9520 non-null   float64\n 67  CMPLASP    9755 non-null   object \n 68  CMPLHEP    9755 non-null   object \n 69  DIED       9762 non-null   int64  \n 70  TD         9761 non-null   float64\n 71  EXPDD      9762 non-null   float64\n 72  EXPD6      9762 non-null   float64\n 73  EXPD14     9762 non-null   float64\n 74  SET14D     9762 non-null   int64  \n 75  ID14       9762 non-null   int64  \n 76  OCCODE     9762 non-null   int64  \n 77  DEAD1      9762 non-null   int64  \n 78  DEAD2      9762 non-null   int64  \n 79  DEAD3      9762 non-null   int64  \n 80  DEAD4      9762 non-null   int64  \n 81  DEAD5      9762 non-null   int64  \n 82  DEAD6      9762 non-null   int64  \n 83  DEAD7      9762 non-null   int64  \n 84  DEAD8      9762 non-null   int64  \n 85  H14        9762 non-null   int64  \n 86  ISC14      9762 non-null   int64  \n 87  NK14       9762 non-null   int64  \n 88  STRK14     9762 non-null   int64  \n 89  HTI14      9762 non-null   int64  \n 90  PE14       9762 non-null   int64  \n 91  DVT14      9762 non-null   int64  \n 92  TRAN14     9762 non-null   int64  \n 93  NCB14      9762 non-null   int64  \n 94  RYEAR      9762 non-null   int64  \ndtypes: float64(7), int64(32), object(56)\nmemory usage: 7.1+ MB\n"
     ]
    }
   ],
   "source": [
    "df.info()"
   ]
  },
  {
   "cell_type": "code",
   "execution_count": 23,
   "metadata": {},
   "outputs": [
    {
     "output_type": "execute_result",
     "data": {
      "text/plain": [
       "            ID  HOSPNUM  RDELAY RCONSC SEX  AGE RSLEEP RATRIAL RCT RVISINF  \\\n",
       "Unnamed: 0                                                                   \n",
       "0            1        1      17      D   M   69      Y     NaN   Y       Y   \n",
       "1            2        1      10      F   M   76      Y     NaN   Y       N   \n",
       "2            3        1      24      F   M   23      N     NaN   Y       N   \n",
       "3            4        1       5      D   F   83      N     NaN   N       N   \n",
       "4            6        1       8      D   F   64      Y     NaN   Y       Y   \n",
       "\n",
       "            ... H14 ISC14  NK14 STRK14 HTI14 PE14 DVT14 TRAN14 NCB14 RYEAR  \n",
       "Unnamed: 0  ...                                                             \n",
       "0           ...   0     0     0      0     0    0     0      0     0    91  \n",
       "1           ...   0     0     0      0     0    0     0      0     0    91  \n",
       "2           ...   0     0     0      0     0    0     0      0     0    91  \n",
       "3           ...   0     0     0      0     0    0     0      0     0    91  \n",
       "4           ...   0     0     0      0     0    0     0      0     0    91  \n",
       "\n",
       "[5 rows x 95 columns]"
      ],
      "text/html": "<div>\n<style scoped>\n    .dataframe tbody tr th:only-of-type {\n        vertical-align: middle;\n    }\n\n    .dataframe tbody tr th {\n        vertical-align: top;\n    }\n\n    .dataframe thead th {\n        text-align: right;\n    }\n</style>\n<table border=\"1\" class=\"dataframe\">\n  <thead>\n    <tr style=\"text-align: right;\">\n      <th></th>\n      <th>ID</th>\n      <th>HOSPNUM</th>\n      <th>RDELAY</th>\n      <th>RCONSC</th>\n      <th>SEX</th>\n      <th>AGE</th>\n      <th>RSLEEP</th>\n      <th>RATRIAL</th>\n      <th>RCT</th>\n      <th>RVISINF</th>\n      <th>...</th>\n      <th>H14</th>\n      <th>ISC14</th>\n      <th>NK14</th>\n      <th>STRK14</th>\n      <th>HTI14</th>\n      <th>PE14</th>\n      <th>DVT14</th>\n      <th>TRAN14</th>\n      <th>NCB14</th>\n      <th>RYEAR</th>\n    </tr>\n    <tr>\n      <th>Unnamed: 0</th>\n      <th></th>\n      <th></th>\n      <th></th>\n      <th></th>\n      <th></th>\n      <th></th>\n      <th></th>\n      <th></th>\n      <th></th>\n      <th></th>\n      <th></th>\n      <th></th>\n      <th></th>\n      <th></th>\n      <th></th>\n      <th></th>\n      <th></th>\n      <th></th>\n      <th></th>\n      <th></th>\n      <th></th>\n    </tr>\n  </thead>\n  <tbody>\n    <tr>\n      <th>0</th>\n      <td>1</td>\n      <td>1</td>\n      <td>17</td>\n      <td>D</td>\n      <td>M</td>\n      <td>69</td>\n      <td>Y</td>\n      <td>NaN</td>\n      <td>Y</td>\n      <td>Y</td>\n      <td>...</td>\n      <td>0</td>\n      <td>0</td>\n      <td>0</td>\n      <td>0</td>\n      <td>0</td>\n      <td>0</td>\n      <td>0</td>\n      <td>0</td>\n      <td>0</td>\n      <td>91</td>\n    </tr>\n    <tr>\n      <th>1</th>\n      <td>2</td>\n      <td>1</td>\n      <td>10</td>\n      <td>F</td>\n      <td>M</td>\n      <td>76</td>\n      <td>Y</td>\n      <td>NaN</td>\n      <td>Y</td>\n      <td>N</td>\n      <td>...</td>\n      <td>0</td>\n      <td>0</td>\n      <td>0</td>\n      <td>0</td>\n      <td>0</td>\n      <td>0</td>\n      <td>0</td>\n      <td>0</td>\n      <td>0</td>\n      <td>91</td>\n    </tr>\n    <tr>\n      <th>2</th>\n      <td>3</td>\n      <td>1</td>\n      <td>24</td>\n      <td>F</td>\n      <td>M</td>\n      <td>23</td>\n      <td>N</td>\n      <td>NaN</td>\n      <td>Y</td>\n      <td>N</td>\n      <td>...</td>\n      <td>0</td>\n      <td>0</td>\n      <td>0</td>\n      <td>0</td>\n      <td>0</td>\n      <td>0</td>\n      <td>0</td>\n      <td>0</td>\n      <td>0</td>\n      <td>91</td>\n    </tr>\n    <tr>\n      <th>3</th>\n      <td>4</td>\n      <td>1</td>\n      <td>5</td>\n      <td>D</td>\n      <td>F</td>\n      <td>83</td>\n      <td>N</td>\n      <td>NaN</td>\n      <td>N</td>\n      <td>N</td>\n      <td>...</td>\n      <td>0</td>\n      <td>0</td>\n      <td>0</td>\n      <td>0</td>\n      <td>0</td>\n      <td>0</td>\n      <td>0</td>\n      <td>0</td>\n      <td>0</td>\n      <td>91</td>\n    </tr>\n    <tr>\n      <th>4</th>\n      <td>6</td>\n      <td>1</td>\n      <td>8</td>\n      <td>D</td>\n      <td>F</td>\n      <td>64</td>\n      <td>Y</td>\n      <td>NaN</td>\n      <td>Y</td>\n      <td>Y</td>\n      <td>...</td>\n      <td>0</td>\n      <td>0</td>\n      <td>0</td>\n      <td>0</td>\n      <td>0</td>\n      <td>0</td>\n      <td>0</td>\n      <td>0</td>\n      <td>0</td>\n      <td>91</td>\n    </tr>\n  </tbody>\n</table>\n<p>5 rows × 95 columns</p>\n</div>"
     },
     "metadata": {},
     "execution_count": 23
    }
   ],
   "source": [
    "df.head()"
   ]
  },
  {
   "cell_type": "code",
   "execution_count": null,
   "metadata": {},
   "outputs": [],
   "source": []
  }
 ],
 "metadata": {
  "kernelspec": {
   "name": "python3",
   "display_name": "Python 3",
   "language": "python"
  },
  "language_info": {
   "codemirror_mode": {
    "name": "ipython",
    "version": 3
   },
   "file_extension": ".py",
   "mimetype": "text/x-python",
   "name": "python",
   "nbconvert_exporter": "python",
   "pygments_lexer": "ipython3",
   "version": "3.8.5-final"
  }
 },
 "nbformat": 4,
 "nbformat_minor": 4
}