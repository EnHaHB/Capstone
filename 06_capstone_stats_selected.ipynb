{
 "metadata": {
  "language_info": {
   "codemirror_mode": {
    "name": "ipython",
    "version": 3
   },
   "file_extension": ".py",
   "mimetype": "text/x-python",
   "name": "python",
   "nbconvert_exporter": "python",
   "pygments_lexer": "ipython3",
   "version": "3.8.5-final"
  },
  "orig_nbformat": 2,
  "kernelspec": {
   "name": "python385jvsc74a57bd0dfc5d0dd744cbec0456b8573611d628f609fcc5b86d89bed03e8b080136e7ef6",
   "display_name": "Python 3.8.5 64-bit ('.venv')"
  }
 },
 "nbformat": 4,
 "nbformat_minor": 2,
 "cells": [
  {
   "cell_type": "code",
   "execution_count": 1,
   "metadata": {},
   "outputs": [],
   "source": [
    "import pandas as pd\n",
    "import numpy as np\n",
    "import seaborn as sns\n",
    "import matplotlib.pyplot as plt\n",
    "\n",
    "from scipy.stats import kruskal, mannwhitneyu\n",
    "\n",
    "from itertools import product\n",
    " "
   ]
  },
  {
   "cell_type": "code",
   "execution_count": 2,
   "metadata": {},
   "outputs": [],
   "source": [
    "df = pd.read_csv('data/IST_corrected_clean.csv',  index_col= [0])"
   ]
  },
  {
   "cell_type": "code",
   "execution_count": 4,
   "metadata": {},
   "outputs": [],
   "source": [
    "def print_stats(stat, p):\n",
    "    print('stat = %.3f, p = %.3f' % (stat, p))\n",
    "    if p > 0.05:\n",
    "\t    print('Probably the same distribution')\n",
    "    else:\n",
    "\t    print('Probably different distributions')"
   ]
  },
  {
   "source": [
    "# Hypothesis testing"
   ],
   "cell_type": "markdown",
   "metadata": {}
  },
  {
   "source": [
    "+ aspirin vs non-aspirin\n",
    "+ heparin vs non-heparin\n",
    "    + non vs low vs medium heparin\n",
    "+ combination of aspirin and heparin\n",
    "    + (significantly) different outcome than separate effects of aspirin and heparin"
   ],
   "cell_type": "markdown",
   "metadata": {}
  },
  {
   "source": [
    "## Aspirin vs  No aspirin\n",
    "\n"
   ],
   "cell_type": "markdown",
   "metadata": {}
  },
  {
   "source": [
    "### Outcome after 14 days\n",
    "\n",
    "The endpoint after 14 days is 'DDEAD'. It includes information whether a patient has passed away within 14 days or not."
   ],
   "cell_type": "markdown",
   "metadata": {}
  },
  {
   "source": [
    "Group patients and their status concerning Aspirin treatment (Y/N) - and their outcome after 14 days."
   ],
   "cell_type": "markdown",
   "metadata": {}
  },
  {
   "cell_type": "code",
   "execution_count": 5,
   "metadata": {},
   "outputs": [],
   "source": [
    "list_asp14 = df.groupby('DASP14')['DDEAD'].apply(list)"
   ]
  },
  {
   "cell_type": "code",
   "execution_count": 6,
   "metadata": {},
   "outputs": [
    {
     "output_type": "execute_result",
     "data": {
      "text/plain": [
       "DASP14\n",
       "N    [N, N, N, N, N, N, N, N, N, N, N, N, N, N, N, ...\n",
       "Y    [N, N, N, N, N, N, Y, N, N, N, N, N, N, N, N, ...\n",
       "Name: DDEAD, dtype: object"
      ]
     },
     "metadata": {},
     "execution_count": 6
    }
   ],
   "source": [
    "list_asp14"
   ]
  },
  {
   "cell_type": "code",
   "execution_count": 7,
   "metadata": {},
   "outputs": [
    {
     "output_type": "stream",
     "name": "stdout",
     "text": [
      "Kruskal Wallis\nstat = 10.229, p = 0.001\nProbably different distributions\n"
     ]
    }
   ],
   "source": [
    "stat, p = kruskal(list_asp14[0], list_asp14[1])\n",
    "print('Kruskal Wallis')\n",
    "print_stats(stat, p)"
   ]
  },
  {
   "cell_type": "code",
   "execution_count": 8,
   "metadata": {},
   "outputs": [
    {
     "output_type": "execute_result",
     "data": {
      "text/plain": [
       "DASP14  DDEAD\n",
       "N       N        8318\n",
       "        Y        1102\n",
       "Y       N        7429\n",
       "        Y         843\n",
       "Name: DDEAD, dtype: int64"
      ]
     },
     "metadata": {},
     "execution_count": 8
    }
   ],
   "source": [
    "group_asp = df.groupby('DASP14')\n",
    "group_asp['DDEAD'].value_counts()"
   ]
  },
  {
   "cell_type": "code",
   "execution_count": 9,
   "metadata": {},
   "outputs": [],
   "source": [
    "asp14_nn = group_asp['DDEAD'].value_counts()[0]\n",
    "asp14_ny = group_asp['DDEAD'].value_counts()[1]\n",
    "asp14_yn = group_asp['DDEAD'].value_counts()[2]\n",
    "asp14_yy = group_asp['DDEAD'].value_counts()[3]"
   ]
  },
  {
   "cell_type": "code",
   "execution_count": 10,
   "metadata": {},
   "outputs": [
    {
     "output_type": "stream",
     "name": "stdout",
     "text": [
      "--- No aspirin during study ---\n88.3 % of patients living 14 days after their stroke\n\n--- Aspirin during study ---\n89.8 % of patients living 14 days after their stroke\n"
     ]
    }
   ],
   "source": [
    "print(f\"--- No aspirin during study ---\")\n",
    "print(f'{round((asp14_nn / (asp14_nn + asp14_ny) * 100),1)} % of patients living 14 days after their stroke')\n",
    "print()\n",
    "print(f\"--- Aspirin during study ---\")\n",
    "print(f'{round((asp14_yn/ (asp14_yn + asp14_yy) * 100),1)} % of patients living 14 days after their stroke')"
   ]
  },
  {
   "source": [
    "When comparing the groups by implementing the Kruskal Wallis Test, we see that there is a significant difference between patients who were given Aspirin in comparison to those who didn't, after 14 days. More patients that did not receive Aspirin passed away compared to those who received Aspirin.\n"
   ],
   "cell_type": "markdown",
   "metadata": {}
  },
  {
   "source": [
    "### Outcome after 6 months"
   ],
   "cell_type": "markdown",
   "metadata": {}
  },
  {
   "source": [
    "There are two endpoints that are interesting after 6 months, that is 'FRECOVER', which is the information of full recovery, as well as 'FDEAD', which is information on patients who have passed away."
   ],
   "cell_type": "markdown",
   "metadata": {}
  },
  {
   "cell_type": "code",
   "execution_count": 11,
   "metadata": {},
   "outputs": [
    {
     "output_type": "execute_result",
     "data": {
      "text/plain": [
       "FRECOVER  OCCODE       \n",
       "N         Dependent        6594\n",
       "          Not recovered    3562\n",
       "          Dead                1\n",
       "Y         Recovered        2999\n",
       "          Dependent         374\n",
       "Name: OCCODE, dtype: int64"
      ]
     },
     "metadata": {},
     "execution_count": 11
    }
   ],
   "source": [
    "# FRECOVER (Y) is not equal to \"recovered\" in OCCODE\n",
    "r_group = df.groupby('FRECOVER')\n",
    "r_group.OCCODE.value_counts()"
   ]
  },
  {
   "source": [
    "FRECOVER (Y) is not equal to \"recovered\" in OCCODE. So we create a new variable based on OCCODE."
   ],
   "cell_type": "markdown",
   "metadata": {}
  },
  {
   "cell_type": "code",
   "execution_count": 12,
   "metadata": {},
   "outputs": [],
   "source": [
    "df['RECO'] = (df.OCCODE == 'Recovered')"
   ]
  },
  {
   "cell_type": "code",
   "execution_count": 13,
   "metadata": {},
   "outputs": [
    {
     "output_type": "stream",
     "name": "stdout",
     "text": [
      "DASP14\nN    [False, True, False, False, False, True, False...\nY    [False, False, False, False, False, False, Fal...\nName: RECO, dtype: object\n\nKruskal Wallis\nstat = 17.712, p = 0.000\nProbably different distributions\n"
     ]
    }
   ],
   "source": [
    "list_asp6 = df.groupby('DASP14')['RECO'].apply(list)\n",
    "print(list_asp6)\n",
    "print()\n",
    "stat, p = kruskal(list_asp6[0], list_asp6[1])\n",
    "print('Kruskal Wallis')\n",
    "print_stats(stat, p)"
   ]
  },
  {
   "cell_type": "code",
   "execution_count": 14,
   "metadata": {},
   "outputs": [
    {
     "output_type": "execute_result",
     "data": {
      "text/plain": [
       "DASP14  RECO \n",
       "N       False    7928\n",
       "        True     1492\n",
       "Y       False    6765\n",
       "        True     1507\n",
       "Name: RECO, dtype: int64"
      ]
     },
     "metadata": {},
     "execution_count": 14
    }
   ],
   "source": [
    "group_asp['RECO'].value_counts()"
   ]
  },
  {
   "cell_type": "code",
   "execution_count": 15,
   "metadata": {},
   "outputs": [],
   "source": [
    "asp6_nf = group_asp['RECO'].value_counts()[0]\n",
    "asp6_nt = group_asp['RECO'].value_counts()[1]\n",
    "asp6_yf = group_asp['RECO'].value_counts()[2]\n",
    "asp6_yt = group_asp['RECO'].value_counts()[3]"
   ]
  },
  {
   "cell_type": "code",
   "execution_count": 16,
   "metadata": {},
   "outputs": [
    {
     "output_type": "stream",
     "name": "stdout",
     "text": [
      "--- No aspirin during study ---\n84.2 % of patients living 14 days after their stroke\n\n--- Aspirin during study ---\n81.8 % of patients living 14 days after their stroke\n"
     ]
    }
   ],
   "source": [
    "print(f\"--- No aspirin during study ---\")\n",
    "print(f'{round((asp6_nf / (asp6_nf + asp6_nt) * 100),1)} % of patients living 14 days after their stroke')\n",
    "print()\n",
    "print(f\"--- Aspirin during study ---\")\n",
    "print(f'{round((asp6_yf / (asp6_yf + asp6_yt) * 100),1)} % of patients living 14 days after their stroke')"
   ]
  },
  {
   "source": [
    "Patients who did not receive aspirin during the study were more likely to recover within 6 months after their stroke. In slight contrast, there were more patients alive after 6 months who did receive aspirin."
   ],
   "cell_type": "markdown",
   "metadata": {}
  },
  {
   "cell_type": "code",
   "execution_count": 17,
   "metadata": {},
   "outputs": [
    {
     "output_type": "stream",
     "name": "stdout",
     "text": [
      "DASP14\nN    [N, N, N, N, N, N, N, N, N, N, N, N, N, N, N, ...\nY    [N, N, N, N, N, N, Y, N, N, N, N, N, N, N, N, ...\nName: FDEAD, dtype: object\n\nKruskal Wallis\nstat = 20.170, p = 0.000\nProbably different distributions\n"
     ]
    }
   ],
   "source": [
    "list_asp6 = df.groupby('DASP14')['FDEAD'].apply(list)\n",
    "print(list_asp6)\n",
    "print()\n",
    "stat, p = kruskal(list_asp6[0], list_asp6[1])\n",
    "print('Kruskal Wallis')\n",
    "print_stats(stat, p)"
   ]
  },
  {
   "cell_type": "code",
   "execution_count": 18,
   "metadata": {},
   "outputs": [
    {
     "output_type": "execute_result",
     "data": {
      "text/plain": [
       "DASP14  FDEAD\n",
       "N       N        7077\n",
       "        Y        2343\n",
       "Y       N        6452\n",
       "        Y        1820\n",
       "Name: FDEAD, dtype: int64"
      ]
     },
     "metadata": {},
     "execution_count": 18
    }
   ],
   "source": [
    "group_asp['FDEAD'].value_counts()"
   ]
  },
  {
   "cell_type": "code",
   "execution_count": 19,
   "metadata": {},
   "outputs": [],
   "source": [
    "asp6_nn = group_asp['FDEAD'].value_counts()[0]\n",
    "asp6_ny = group_asp['FDEAD'].value_counts()[1]\n",
    "asp6_yn = group_asp['FDEAD'].value_counts()[2]\n",
    "asp6_yy = group_asp['FDEAD'].value_counts()[3]"
   ]
  },
  {
   "cell_type": "code",
   "execution_count": 20,
   "metadata": {},
   "outputs": [
    {
     "output_type": "stream",
     "name": "stdout",
     "text": [
      "--- No aspirin during study ---\n75.1 % of patients living 6 months after their stroke\n\n--- Aspirin during study ---\n78.0 % of patients living 6 months after their stroke\n"
     ]
    }
   ],
   "source": [
    "print(f\"--- No aspirin during study ---\")\n",
    "print(f'{round((asp6_nn / (asp6_nn + asp6_ny) * 100),1)} % of patients living 6 months after their stroke')\n",
    "print()\n",
    "print(f\"--- Aspirin during study ---\")\n",
    "print(f'{round((asp6_yn/ (asp6_yn + asp6_yy) * 100),1)} % of patients living 6 months after their stroke')"
   ]
  },
  {
   "cell_type": "code",
   "execution_count": null,
   "metadata": {},
   "outputs": [],
   "source": []
  },
  {
   "source": [
    "## Heparin vs non-heparin\n"
   ],
   "cell_type": "markdown",
   "metadata": {}
  },
  {
   "source": [
    "### Outcome after 14 days"
   ],
   "cell_type": "markdown",
   "metadata": {}
  },
  {
   "cell_type": "code",
   "execution_count": 21,
   "metadata": {},
   "outputs": [],
   "source": [
    "list_hep14 = df.groupby(by = ['RXHEP14'])['DDEAD'].apply(list)"
   ]
  },
  {
   "cell_type": "code",
   "execution_count": 22,
   "metadata": {},
   "outputs": [
    {
     "output_type": "execute_result",
     "data": {
      "text/plain": [
       "RXHEP14\n",
       "N    [N, N, N, N, N, N, Y, N, N, N, N, N, N, N, N, ...\n",
       "Y    [N, N, N, N, N, N, N, N, N, N, N, N, N, N, N, ...\n",
       "Name: DDEAD, dtype: object"
      ]
     },
     "metadata": {},
     "execution_count": 22
    }
   ],
   "source": [
    "list_hep14"
   ]
  },
  {
   "cell_type": "code",
   "execution_count": 23,
   "metadata": {},
   "outputs": [
    {
     "output_type": "stream",
     "name": "stdout",
     "text": [
      "stat = 0.657, p = 0.418\nProbably the same distribution\n"
     ]
    }
   ],
   "source": [
    "stat, p = kruskal(list_hep14[0], list_hep14[1])\n",
    "print_stats(stat, p)"
   ]
  },
  {
   "source": [
    "After 14 days: No difference between heparin and no heparin."
   ],
   "cell_type": "markdown",
   "metadata": {}
  },
  {
   "source": [
    "### Outcome after 6 months"
   ],
   "cell_type": "markdown",
   "metadata": {}
  },
  {
   "cell_type": "code",
   "execution_count": 24,
   "metadata": {},
   "outputs": [
    {
     "output_type": "stream",
     "name": "stdout",
     "text": [
      "stat = 5.983, p = 0.014\nProbably different distributions\n"
     ]
    }
   ],
   "source": [
    "list_hep6 = df.groupby(by = ['RXHEP14'])['RECO'].apply(list)\n",
    "stat, p = kruskal(list_hep6[0] , list_hep6[1])\n",
    "print_stats(stat, p)"
   ]
  },
  {
   "cell_type": "code",
   "execution_count": 25,
   "metadata": {},
   "outputs": [
    {
     "output_type": "execute_result",
     "data": {
      "text/plain": [
       "RXHEP14  RECO \n",
       "N        False    8153\n",
       "         True     1591\n",
       "Y        False    6540\n",
       "         True     1408\n",
       "Name: RECO, dtype: int64"
      ]
     },
     "metadata": {},
     "execution_count": 25
    }
   ],
   "source": [
    "group_hep = df.groupby('RXHEP14')\n",
    "group_hep['RECO'].value_counts()"
   ]
  },
  {
   "cell_type": "code",
   "execution_count": 26,
   "metadata": {},
   "outputs": [],
   "source": [
    "hep6_nf = group_hep['RECO'].value_counts()[0]\n",
    "hep6_nt = group_hep['RECO'].value_counts()[1]\n",
    "hep6_yf = group_hep['RECO'].value_counts()[2]\n",
    "hep6_yt = group_hep['RECO'].value_counts()[3]"
   ]
  },
  {
   "cell_type": "code",
   "execution_count": 27,
   "metadata": {},
   "outputs": [
    {
     "output_type": "stream",
     "name": "stdout",
     "text": [
      "--- No heparin during study ---\n83.7 % of patients living 6 months after their stroke\n\n--- Heparin during study ---\n82.3 % of patients living 6 months after their stroke\n"
     ]
    }
   ],
   "source": [
    "print(f\"--- No heparin during study ---\")\n",
    "print(f'{round((hep6_nf / (hep6_nf + hep6_nt) * 100),1)} % of patients living 6 months after their stroke')\n",
    "print()\n",
    "print(f\"--- Heparin during study ---\")\n",
    "print(f'{round((hep6_yf / (hep6_yf + hep6_yt) * 100),1)} % of patients living 6 months after their stroke')"
   ]
  },
  {
   "source": [
    "Patients who did not receive heparin during the study were more likely to be alive after 6 months. Though, the difference seems to be minor. Heparin treatment did not have an effect on the outcome 'FDEAD'."
   ],
   "cell_type": "markdown",
   "metadata": {}
  },
  {
   "cell_type": "code",
   "execution_count": 28,
   "metadata": {},
   "outputs": [
    {
     "output_type": "stream",
     "name": "stdout",
     "text": [
      "stat = 0.683, p = 0.409\nProbably the same distribution\n"
     ]
    }
   ],
   "source": [
    "list_hep6 = df.groupby(by = ['RXHEP14'])['FDEAD'].apply(list)\n",
    "stat, p = kruskal(list_hep6[0] , list_hep6[1])\n",
    "print_stats(stat, p)"
   ]
  },
  {
   "cell_type": "code",
   "execution_count": null,
   "metadata": {},
   "outputs": [],
   "source": []
  },
  {
   "source": [
    "## No vs low vs medium heparin\n"
   ],
   "cell_type": "markdown",
   "metadata": {}
  },
  {
   "source": [
    "## Outcome after 14 days"
   ],
   "cell_type": "markdown",
   "metadata": {}
  },
  {
   "cell_type": "code",
   "execution_count": 29,
   "metadata": {},
   "outputs": [],
   "source": [
    "list2_hep14 = df.groupby(by = ['HEP14'])['DDEAD'].apply(list)"
   ]
  },
  {
   "cell_type": "code",
   "execution_count": 30,
   "metadata": {},
   "outputs": [
    {
     "output_type": "execute_result",
     "data": {
      "text/plain": [
       "HEP14\n",
       "L    [N, N, N, N, N, N, N, N, Y, N, N, N, N, N, N, ...\n",
       "M    [N, N, N, N, N, N, N, N, Y, N, N, N, N, N, N, ...\n",
       "N    [N, N, N, N, N, N, Y, N, N, N, N, N, N, N, N, ...\n",
       "Name: DDEAD, dtype: object"
      ]
     },
     "metadata": {},
     "execution_count": 30
    }
   ],
   "source": [
    "list2_hep14 "
   ]
  },
  {
   "cell_type": "code",
   "execution_count": 31,
   "metadata": {},
   "outputs": [
    {
     "output_type": "stream",
     "name": "stdout",
     "text": [
      "stat = 1.507, p = 0.471\nProbably the same distribution\n"
     ]
    }
   ],
   "source": [
    "stat, p = kruskal(list2_hep14[0], list2_hep14[1], list2_hep14[2])\n",
    "print_stats(stat, p)"
   ]
  },
  {
   "source": [
    "After 14 days: No difference between low, medium and no heparin."
   ],
   "cell_type": "markdown",
   "metadata": {}
  },
  {
   "source": [
    "### Outcome after 6 months"
   ],
   "cell_type": "markdown",
   "metadata": {}
  },
  {
   "cell_type": "code",
   "execution_count": 32,
   "metadata": {},
   "outputs": [
    {
     "output_type": "stream",
     "name": "stdout",
     "text": [
      "stat = 6.073, p = 0.048\nProbably different distributions\n"
     ]
    }
   ],
   "source": [
    "list2_hep6 = df.groupby(by = ['HEP14'])['RECO'].apply(list)\n",
    "stat, p = kruskal(list2_hep6[0], list2_hep6[1], list2_hep6[2])\n",
    "print_stats(stat, p)"
   ]
  },
  {
   "cell_type": "code",
   "execution_count": 33,
   "metadata": {},
   "outputs": [
    {
     "output_type": "execute_result",
     "data": {
      "text/plain": [
       "HEP14  RECO \n",
       "L      False    3354\n",
       "       True      716\n",
       "M      False    3186\n",
       "       True      692\n",
       "N      False    8153\n",
       "       True     1591\n",
       "Name: RECO, dtype: int64"
      ]
     },
     "metadata": {},
     "execution_count": 33
    }
   ],
   "source": [
    "group_hep2 = df.groupby('HEP14')\n",
    "group_hep2['RECO'].value_counts()"
   ]
  },
  {
   "cell_type": "code",
   "execution_count": 34,
   "metadata": {},
   "outputs": [],
   "source": [
    "hep6_lf = group_hep2['RECO'].value_counts()[0]\n",
    "hep6_lt = group_hep2['RECO'].value_counts()[1]\n",
    "hep6_mf = group_hep2['RECO'].value_counts()[2]\n",
    "hep6_mt = group_hep2['RECO'].value_counts()[3]\n",
    "hep6_nf = group_hep2['RECO'].value_counts()[4]\n",
    "hep6_nt = group_hep2['RECO'].value_counts()[5]"
   ]
  },
  {
   "cell_type": "code",
   "execution_count": 35,
   "metadata": {},
   "outputs": [
    {
     "output_type": "stream",
     "name": "stdout",
     "text": [
      "--- No heparin during study ---\n83.7 % of patients living 6 months after their stroke\n\n--- Low heparin during study ---\n82.4 % of patients living 6 months after their stroke\n\n--- Medium heparin during study ---\n82.2 % of patients living 6 months after their stroke\n"
     ]
    }
   ],
   "source": [
    "print(f\"--- No heparin during study ---\")\n",
    "print(f'{round((hep6_nf / (hep6_nf + hep6_nt) * 100),1)} % of patients living 6 months after their stroke')\n",
    "print()\n",
    "print(f\"--- Low heparin during study ---\")\n",
    "print(f'{round((hep6_lf / (hep6_lf + hep6_lt) * 100),1)} % of patients living 6 months after their stroke')\n",
    "print()\n",
    "print(f\"--- Medium heparin during study ---\")\n",
    "print(f'{round((hep6_mf / (hep6_mf + hep6_mt) * 100),1)} % of patients living 6 months after their stroke')"
   ]
  },
  {
   "source": [
    "Slightly more patients were alive after 6 months when they received neither low nor medium heparin. Again, the different heparin treatments did not have an effect on outcome 'FDEAD'."
   ],
   "cell_type": "markdown",
   "metadata": {}
  },
  {
   "cell_type": "code",
   "execution_count": 36,
   "metadata": {},
   "outputs": [
    {
     "output_type": "stream",
     "name": "stdout",
     "text": [
      "stat = 0.724, p = 0.696\nProbably the same distribution\n"
     ]
    }
   ],
   "source": [
    "list2_hep6 = df.groupby(by = ['HEP14'])['FDEAD'].apply(list)\n",
    "stat, p = kruskal(list2_hep6[0], list2_hep6[1], list2_hep6[2])\n",
    "print_stats(stat, p)"
   ]
  },
  {
   "cell_type": "code",
   "execution_count": null,
   "metadata": {},
   "outputs": [],
   "source": []
  },
  {
   "source": [
    "## Combination of aspirin and heparin\n",
    "(significantly) different outcome than separate effects of aspirin and heparin"
   ],
   "cell_type": "markdown",
   "metadata": {}
  },
  {
   "cell_type": "code",
   "execution_count": 37,
   "metadata": {},
   "outputs": [
    {
     "output_type": "execute_result",
     "data": {
      "text/plain": [
       "array(['Aspirin', 'Low Heparin', 'Medium Heparin',\n",
       "       'Aspirin + Medium Heparin', 'Control', 'Aspirin + Low Heparin'],\n",
       "      dtype=object)"
      ]
     },
     "metadata": {},
     "execution_count": 37
    }
   ],
   "source": [
    "df.TREAT14.unique()"
   ]
  },
  {
   "source": [
    "### Outcome after 14 days"
   ],
   "cell_type": "markdown",
   "metadata": {}
  },
  {
   "cell_type": "code",
   "execution_count": 38,
   "metadata": {},
   "outputs": [],
   "source": [
    "list_treat14 = df.groupby(by = ['TREAT14'])['DDEAD'].apply(list)"
   ]
  },
  {
   "cell_type": "code",
   "execution_count": 39,
   "metadata": {},
   "outputs": [
    {
     "output_type": "execute_result",
     "data": {
      "text/plain": [
       "TREAT14\n",
       "Aspirin                     [N, N, Y, N, N, N, N, N, N, N, N, Y, N, N, N, ...\n",
       "Aspirin + Low Heparin       [N, N, N, N, N, N, N, N, N, N, N, N, N, N, Y, ...\n",
       "Aspirin + Medium Heparin    [N, N, N, N, N, N, N, N, N, N, N, Y, N, N, N, ...\n",
       "Control                     [N, N, N, N, N, N, N, N, N, N, N, Y, N, N, N, ...\n",
       "Low Heparin                 [N, N, N, Y, N, N, N, N, N, N, N, N, N, N, Y, ...\n",
       "Medium Heparin              [N, N, N, Y, N, N, N, N, N, N, N, N, Y, N, N, ...\n",
       "Name: DDEAD, dtype: object"
      ]
     },
     "metadata": {},
     "execution_count": 39
    }
   ],
   "source": [
    "list_treat14"
   ]
  },
  {
   "cell_type": "code",
   "execution_count": 40,
   "metadata": {},
   "outputs": [
    {
     "output_type": "stream",
     "name": "stdout",
     "text": [
      "stat = 13.481, p = 0.019\nProbably different distributions\n"
     ]
    }
   ],
   "source": [
    "stat, p = kruskal(list_treat14[0], list_treat14[1], list_treat14[2], list_treat14[3],list_treat14[4], list_treat14[5])\n",
    "print_stats(stat, p)"
   ]
  },
  {
   "cell_type": "code",
   "execution_count": 41,
   "metadata": {},
   "outputs": [
    {
     "output_type": "stream",
     "name": "stdout",
     "text": [
      "0 0\n",
      "stat = 9741698.000, p = 0.500\n",
      "Probably the same distribution\n",
      "\n",
      "0 1\n",
      "stat = 4385251.000, p = 0.331\n",
      "Probably the same distribution\n",
      "\n",
      "0 2\n",
      "stat = 4078360.000, p = 0.153\n",
      "Probably the same distribution\n",
      "\n",
      "0 3\n",
      "stat = 11530134.000, p = 0.001\n",
      "Probably different distributions\n",
      "\n",
      "0 4\n",
      "stat = 4531618.000, p = 0.089\n",
      "Probably the same distribution\n",
      "\n",
      "0 5\n",
      "stat = 4392024.000, p = 0.074\n",
      "Probably the same distribution\n",
      "\n",
      "1 0\n",
      "stat = 4385251.000, p = 0.331\n",
      "Probably the same distribution\n",
      "\n",
      "1 1\n",
      "stat = 1988018.000, p = 0.500\n",
      "Probably the same distribution\n",
      "\n",
      "1 2\n",
      "stat = 1835828.000, p = 0.108\n",
      "Probably the same distribution\n",
      "\n",
      "1 3\n",
      "stat = 5189949.000, p = 0.003\n",
      "Probably different distributions\n",
      "\n",
      "1 4\n",
      "stat = 2039840.000, p = 0.066\n",
      "Probably the same distribution\n",
      "\n",
      "1 5\n",
      "stat = 1976997.000, p = 0.056\n",
      "Probably the same distribution\n",
      "\n",
      "2 0\n",
      "stat = 4078360.000, p = 0.153\n",
      "Probably the same distribution\n",
      "\n",
      "2 1\n",
      "stat = 1835828.000, p = 0.108\n",
      "Probably the same distribution\n",
      "\n",
      "2 2\n",
      "stat = 1737248.000, p = 0.500\n",
      "Probably the same distribution\n",
      "\n",
      "2 3\n",
      "stat = 4911944.000, p = 0.098\n",
      "Probably the same distribution\n",
      "\n",
      "2 4\n",
      "stat = 1930360.000, p = 0.409\n",
      "Probably the same distribution\n",
      "\n",
      "2 5\n",
      "stat = 1870912.000, p = 0.373\n",
      "Probably the same distribution\n",
      "\n",
      "3 0\n",
      "stat = 11530134.000, p = 0.001\n",
      "Probably different distributions\n",
      "\n",
      "3 1\n",
      "stat = 5189949.000, p = 0.003\n",
      "Probably different distributions\n",
      "\n",
      "3 2\n",
      "stat = 4911944.000, p = 0.098\n",
      "Probably the same distribution\n",
      "\n",
      "3 3\n",
      "stat = 14204450.000, p = 0.500\n",
      "Probably the same distribution\n",
      "\n",
      "3 4\n",
      "stat = 5483386.000, p = 0.144\n",
      "Probably the same distribution\n",
      "\n",
      "3 5\n",
      "stat = 5324764.000, p = 0.174\n",
      "Probably the same distribution\n",
      "\n",
      "4 0\n",
      "stat = 4531618.000, p = 0.089\n",
      "Probably the same distribution\n",
      "\n",
      "4 1\n",
      "stat = 2039840.000, p = 0.066\n",
      "Probably the same distribution\n",
      "\n",
      "4 2\n",
      "stat = 1930360.000, p = 0.409\n",
      "Probably the same distribution\n",
      "\n",
      "4 3\n",
      "stat = 5483386.000, p = 0.144\n",
      "Probably the same distribution\n",
      "\n",
      "4 4\n",
      "stat = 2154888.000, p = 0.500\n",
      "Probably the same distribution\n",
      "\n",
      "4 5\n",
      "stat = 2088530.000, p = 0.461\n",
      "Probably the same distribution\n",
      "\n",
      "5 0\n",
      "stat = 4392024.000, p = 0.074\n",
      "Probably the same distribution\n",
      "\n",
      "5 1\n",
      "stat = 1976997.000, p = 0.056\n",
      "Probably the same distribution\n",
      "\n",
      "5 2\n",
      "stat = 1870912.000, p = 0.373\n",
      "Probably the same distribution\n",
      "\n",
      "5 3\n",
      "stat = 5324764.000, p = 0.174\n",
      "Probably the same distribution\n",
      "\n",
      "5 4\n",
      "stat = 2088530.000, p = 0.461\n",
      "Probably the same distribution\n",
      "\n",
      "5 5\n",
      "stat = 2028098.000, p = 0.500\n",
      "Probably the same distribution\n",
      "\n"
     ]
    }
   ],
   "source": [
    "iterator = product(enumerate(list_treat14), enumerate(list_treat14))\n",
    "for (first_idx, first_group), (second_idx, second_group) in iterator:\n",
    "    print(first_idx, second_idx)\n",
    "    stat, p = mannwhitneyu(first_group, second_group)\n",
    "    print_stats(stat, p)\n",
    "    print()"
   ]
  },
  {
   "cell_type": "code",
   "execution_count": 42,
   "metadata": {},
   "outputs": [
    {
     "output_type": "execute_result",
     "data": {
      "text/plain": [
       "TREAT14                   DDEAD\n",
       "Aspirin                   N        3969\n",
       "                          Y         445\n",
       "Aspirin + Low Heparin     N        1800\n",
       "                          Y         194\n",
       "Aspirin + Medium Heparin  N        1660\n",
       "                          Y         204\n",
       "Control                   N        4687\n",
       "                          Y         643\n",
       "Low Heparin               N        1844\n",
       "                          Y         232\n",
       "Medium Heparin            N        1787\n",
       "                          Y         227\n",
       "Name: DDEAD, dtype: int64"
      ]
     },
     "metadata": {},
     "execution_count": 42
    }
   ],
   "source": [
    "group_treat = df.groupby(by = ['TREAT14'])\n",
    "group_treat['DDEAD'].value_counts()"
   ]
  },
  {
   "cell_type": "code",
   "execution_count": 43,
   "metadata": {},
   "outputs": [],
   "source": [
    "treat14_a_n = group_treat['DDEAD'].value_counts()[0]\n",
    "treat14_a_y = group_treat['DDEAD'].value_counts()[1]\n",
    "\n",
    "treat14_alh_n = group_treat['DDEAD'].value_counts()[2]\n",
    "treat14_alh_y = group_treat['DDEAD'].value_counts()[3]\n",
    "\n",
    "treat14_amh_n = group_treat['DDEAD'].value_counts()[4]\n",
    "treat14_amh_y = group_treat['DDEAD'].value_counts()[5]\n",
    "\n",
    "treat14_c_n = group_treat['DDEAD'].value_counts()[6]\n",
    "treat14_c_y = group_treat['DDEAD'].value_counts()[7]\n",
    "\n",
    "treat14_lh_n = group_treat['DDEAD'].value_counts()[8]\n",
    "treat14_lh_y = group_treat['DDEAD'].value_counts()[9]\n",
    "\n",
    "treat14_mh_n = group_treat['DDEAD'].value_counts()[10]\n",
    "treat14_mh_y = group_treat['DDEAD'].value_counts()[11]\n"
   ]
  },
  {
   "cell_type": "code",
   "execution_count": 44,
   "metadata": {},
   "outputs": [
    {
     "output_type": "stream",
     "name": "stdout",
     "text": [
      "--- Aspirin during study ---\n89.9 % of patients living 14 days after their stroke\n-- Significantly different compared to the control group (p < 0.05)\n\n--- Aspirin + Low Heparin during study ---\n90.3 % of patients living 14 days after their stroke\n-- Significantly different compared to both Heparin groups and the control group (p < 0.05)\n\n--- Aspirin + Medium Heparin during study ---\n89.1 % of patients living 14 days after their stroke\n\n--- Low Heparin during study ---\n88.8 % of patients living 14 days after their stroke\n\n--- Medium Heparin during study ---\n88.7 % of patients living 14 days after their stroke\n\n--- Control (neither Aspirin nor Heparin during study) ---\n87.9 % of patients living 14 days after their stroke\n\n"
     ]
    }
   ],
   "source": [
    "print(f\"--- Aspirin during study ---\")\n",
    "print(f'{round((treat14_a_n / (treat14_a_n + treat14_a_y) * 100),1)} % of patients living 14 days after their stroke')\n",
    "print(f'-- Significantly different compared to the control group (p < 0.05)')\n",
    "print()\n",
    "print(f\"--- Aspirin + Low Heparin during study ---\")\n",
    "print(f'{round((treat14_alh_n / (treat14_alh_n + treat14_alh_y) * 100),1)} % of patients living 14 days after their stroke')\n",
    "print(f'-- Significantly different compared to both Heparin groups and the control group (p < 0.05)')\n",
    "print()\n",
    "print(f\"--- Aspirin + Medium Heparin during study ---\")\n",
    "print(f'{round((treat14_amh_n / (treat14_amh_n + treat14_amh_y) * 100),1)} % of patients living 14 days after their stroke')\n",
    "print()\n",
    "print(f\"--- Low Heparin during study ---\")\n",
    "print(f'{round((treat14_lh_n / (treat14_lh_n + treat14_lh_y) * 100),1)} % of patients living 14 days after their stroke')\n",
    "print()\n",
    "print(f\"--- Medium Heparin during study ---\")\n",
    "print(f'{round((treat14_mh_n / (treat14_mh_n + treat14_mh_y) * 100),1)} % of patients living 14 days after their stroke')\n",
    "print()\n",
    "print(f\"--- Control (neither Aspirin nor Heparin during study) ---\")\n",
    "print(f'{round((treat14_c_n / (treat14_c_n + treat14_c_y) * 100),1)} % of patients living 14 days after their stroke')\n",
    "print()"
   ]
  },
  {
   "source": [
    "### Outcome after 6 months"
   ],
   "cell_type": "markdown",
   "metadata": {}
  },
  {
   "cell_type": "code",
   "execution_count": 45,
   "metadata": {},
   "outputs": [],
   "source": [
    "list_treat6 = df.groupby(by = ['TREAT14'])['RECO'].apply(list)"
   ]
  },
  {
   "cell_type": "code",
   "execution_count": 46,
   "metadata": {},
   "outputs": [
    {
     "output_type": "stream",
     "name": "stdout",
     "text": [
      "stat = 26.771, p = 0.000\nProbably different distributions\n"
     ]
    }
   ],
   "source": [
    "stat, p = kruskal(list_treat6[0], list_treat6[1], list_treat6[2], list_treat6[3],list_treat6[4], list_treat6[5])\n",
    "print_stats(stat, p)"
   ]
  },
  {
   "cell_type": "code",
   "execution_count": 47,
   "metadata": {},
   "outputs": [
    {
     "output_type": "stream",
     "name": "stdout",
     "text": [
      "0 0\n",
      "stat = 9741698.000, p = 0.500\n",
      "Probably the same distribution\n",
      "\n",
      "0 1\n",
      "stat = 4395471.000, p = 0.454\n",
      "Probably the same distribution\n",
      "\n",
      "0 2\n",
      "stat = 4091412.000, p = 0.305\n",
      "Probably the same distribution\n",
      "\n",
      "0 3\n",
      "stat = 11377047.000, p = 0.000\n",
      "Probably different distributions\n",
      "\n",
      "0 4\n",
      "stat = 4539231.000, p = 0.181\n",
      "Probably the same distribution\n",
      "\n",
      "0 5\n",
      "stat = 4398506.000, p = 0.155\n",
      "Probably the same distribution\n",
      "\n",
      "1 0\n",
      "stat = 4395471.000, p = 0.454\n",
      "Probably the same distribution\n",
      "\n",
      "1 1\n",
      "stat = 1988018.000, p = 0.500\n",
      "Probably the same distribution\n",
      "\n",
      "1 2\n",
      "stat = 1846040.000, p = 0.297\n",
      "Probably the same distribution\n",
      "\n",
      "1 3\n",
      "stat = 5145902.000, p = 0.000\n",
      "Probably different distributions\n",
      "\n",
      "1 4\n",
      "stat = 2053059.000, p = 0.249\n",
      "Probably the same distribution\n",
      "\n",
      "1 5\n",
      "stat = 1989413.000, p = 0.221\n",
      "Probably the same distribution\n",
      "\n",
      "2 0\n",
      "stat = 4091412.000, p = 0.305\n",
      "Probably the same distribution\n",
      "\n",
      "2 1\n",
      "stat = 1846040.000, p = 0.297\n",
      "Probably the same distribution\n",
      "\n",
      "2 2\n",
      "stat = 1737248.000, p = 0.500\n",
      "Probably the same distribution\n",
      "\n",
      "2 3\n",
      "stat = 4777352.000, p = 0.000\n",
      "Probably different distributions\n",
      "\n",
      "2 4\n",
      "stat = 1906332.000, p = 0.114\n",
      "Probably the same distribution\n",
      "\n",
      "2 5\n",
      "stat = 1847220.000, p = 0.098\n",
      "Probably the same distribution\n",
      "\n",
      "3 0\n",
      "stat = 11377047.000, p = 0.000\n",
      "Probably different distributions\n",
      "\n",
      "3 1\n",
      "stat = 5145902.000, p = 0.000\n",
      "Probably different distributions\n",
      "\n",
      "3 2\n",
      "stat = 4777352.000, p = 0.000\n",
      "Probably different distributions\n",
      "\n",
      "3 3\n",
      "stat = 14204450.000, p = 0.500\n",
      "Probably the same distribution\n",
      "\n",
      "3 4\n",
      "stat = 5402193.000, p = 0.006\n",
      "Probably different distributions\n",
      "\n",
      "3 5\n",
      "stat = 5247087.000, p = 0.009\n",
      "Probably different distributions\n",
      "\n",
      "4 0\n",
      "stat = 4539231.000, p = 0.181\n",
      "Probably the same distribution\n",
      "\n",
      "4 1\n",
      "stat = 2053059.000, p = 0.249\n",
      "Probably the same distribution\n",
      "\n",
      "4 2\n",
      "stat = 1906332.000, p = 0.114\n",
      "Probably the same distribution\n",
      "\n",
      "4 3\n",
      "stat = 5402193.000, p = 0.006\n",
      "Probably different distributions\n",
      "\n",
      "4 4\n",
      "stat = 2154888.000, p = 0.500\n",
      "Probably the same distribution\n",
      "\n",
      "4 5\n",
      "stat = 2088105.000, p = 0.461\n",
      "Probably the same distribution\n",
      "\n",
      "5 0\n",
      "stat = 4398506.000, p = 0.155\n",
      "Probably the same distribution\n",
      "\n",
      "5 1\n",
      "stat = 1989413.000, p = 0.221\n",
      "Probably the same distribution\n",
      "\n",
      "5 2\n",
      "stat = 1847220.000, p = 0.098\n",
      "Probably the same distribution\n",
      "\n",
      "5 3\n",
      "stat = 5247087.000, p = 0.009\n",
      "Probably different distributions\n",
      "\n",
      "5 4\n",
      "stat = 2088105.000, p = 0.461\n",
      "Probably the same distribution\n",
      "\n",
      "5 5\n",
      "stat = 2028098.000, p = 0.500\n",
      "Probably the same distribution\n",
      "\n"
     ]
    }
   ],
   "source": [
    "iterator = product(enumerate(list_treat6), enumerate(list_treat6))\n",
    "for (first_idx, first_group), (second_idx, second_group) in iterator:\n",
    "    print(first_idx, second_idx)\n",
    "    stat, p = mannwhitneyu(first_group, second_group)\n",
    "    print_stats(stat, p)\n",
    "    print()"
   ]
  },
  {
   "cell_type": "code",
   "execution_count": 48,
   "metadata": {},
   "outputs": [
    {
     "output_type": "execute_result",
     "data": {
      "text/plain": [
       "TREAT14                   RECO \n",
       "Aspirin                   False    3614\n",
       "                          True      800\n",
       "Aspirin + Low Heparin     False    1635\n",
       "                          True      359\n",
       "Aspirin + Medium Heparin  False    1516\n",
       "                          True      348\n",
       "Control                   False    4539\n",
       "                          True      791\n",
       "Low Heparin               False    1719\n",
       "                          True      357\n",
       "Medium Heparin            False    1670\n",
       "                          True      344\n",
       "Name: RECO, dtype: int64"
      ]
     },
     "metadata": {},
     "execution_count": 48
    }
   ],
   "source": [
    "group_treat['RECO'].value_counts()"
   ]
  },
  {
   "cell_type": "code",
   "execution_count": 49,
   "metadata": {},
   "outputs": [],
   "source": [
    "treat6_a_f = group_treat['RECO'].value_counts()[0]\n",
    "treat6_a_t = group_treat['RECO'].value_counts()[1]\n",
    "\n",
    "treat6_alh_f = group_treat['RECO'].value_counts()[2]\n",
    "treat6_alh_t = group_treat['RECO'].value_counts()[3]\n",
    "\n",
    "treat6_amh_f = group_treat['RECO'].value_counts()[4]\n",
    "treat6_amh_t = group_treat['RECO'].value_counts()[5]\n",
    "\n",
    "treat6_c_f = group_treat['RECO'].value_counts()[6]\n",
    "treat6_c_t = group_treat['RECO'].value_counts()[7]\n",
    "\n",
    "treat6_lh_f = group_treat['RECO'].value_counts()[8]\n",
    "treat6_lh_t = group_treat['RECO'].value_counts()[9]\n",
    "\n",
    "treat6_mh_f = group_treat['RECO'].value_counts()[10]\n",
    "treat6_mh_t = group_treat['RECO'].value_counts()[11]"
   ]
  },
  {
   "cell_type": "code",
   "execution_count": 50,
   "metadata": {},
   "outputs": [
    {
     "output_type": "stream",
     "name": "stdout",
     "text": [
      "--- Aspirin during study ---\n81.9 % of patients living 6 months after their stroke\n-- Significantly different compared to control (p < 0.01)\n\n--- Aspirin + Low Heparin during study ---\n82.0 % of patients living 6 months after their stroke\n-- Significantly different compared to control (p < 0.01)\n\n--- Aspirin + Medium Heparin during study ---\n81.3 % of patients living 6 months after their stroke\n-- Significantly different compared to control (p < 0.01)\n\n--- Low Heparin during study ---\n82.8 % of patients living 6 months after their stroke\n-- Significantly different compared to control (p < 0.01)\n\n--- Medium Heparin during study ---\n82.9 % of patients living 6 monthsafter their stroke\n-- Significantly different compared to control (p < 0.01)\n\n--- Control (neither Aspirin nor Heparin during study) ---\n85.2 % of patients living 6 months after their stroke\n-- Significantly different compared to all treatments (p < 0.01)\n\n"
     ]
    }
   ],
   "source": [
    "print(f\"--- Aspirin during study ---\")\n",
    "print(f'{round((treat6_a_f / (treat6_a_f + treat6_a_t) * 100),1)} % of patients living 6 months after their stroke')\n",
    "print(f'-- Significantly different compared to control (p < 0.01)')\n",
    "print()\n",
    "print(f\"--- Aspirin + Low Heparin during study ---\")\n",
    "print(f'{round((treat6_alh_f / (treat6_alh_f + treat6_alh_t) * 100),1)} % of patients living 6 months after their stroke')\n",
    "print(f'-- Significantly different compared to control (p < 0.01)')\n",
    "print()\n",
    "print(f\"--- Aspirin + Medium Heparin during study ---\")\n",
    "print(f'{round((treat6_amh_f / (treat6_amh_f + treat6_amh_t) * 100),1)} % of patients living 6 months after their stroke')\n",
    "print(f'-- Significantly different compared to control (p < 0.01)')\n",
    "print()\n",
    "print(f\"--- Low Heparin during study ---\")\n",
    "print(f'{round((treat6_lh_f / (treat6_lh_f + treat6_lh_t) * 100),1)} % of patients living 6 months after their stroke')\n",
    "print(f'-- Significantly different compared to control (p < 0.01)')\n",
    "print()\n",
    "print(f\"--- Medium Heparin during study ---\")\n",
    "print(f'{round((treat6_mh_f / (treat6_mh_f + treat6_mh_t) * 100),1)} % of patients living 6 monthsafter their stroke')\n",
    "print(f'-- Significantly different compared to control (p < 0.01)')\n",
    "print()\n",
    "print(f\"--- Control (neither Aspirin nor Heparin during study) ---\")\n",
    "print(f'{round((treat6_c_f / (treat6_c_f + treat6_c_t) * 100),1)} % of patients living 6 months after their stroke')\n",
    "print(f'-- Significantly different compared to all treatments (p < 0.01)')\n",
    "print()"
   ]
  },
  {
   "source": [
    "Patients who did receive neither of the treatments were more likely to recover within 6 months. Though, the group itself was much larger (over 5000 patients, compared to about 2000 patients in the other groups), which may have an impact on the outcome. \n",
    "\n",
    "When looking at the 'FDEAD' outcome, we see the same as before. The patients who did not receive either treatment were more likely to be dead after 6 months."
   ],
   "cell_type": "markdown",
   "metadata": {}
  },
  {
   "cell_type": "code",
   "execution_count": 51,
   "metadata": {},
   "outputs": [
    {
     "output_type": "stream",
     "name": "stdout",
     "text": [
      "stat = 21.883, p = 0.001\nProbably different distributions\n"
     ]
    }
   ],
   "source": [
    "list_treat6 = df.groupby(by = ['TREAT14'])['FDEAD'].apply(list)\n",
    "stat, p = kruskal(list_treat6[0], list_treat6[1], list_treat6[2], list_treat6[3],list_treat6[4], list_treat6[5])\n",
    "print_stats(stat, p)"
   ]
  },
  {
   "cell_type": "code",
   "execution_count": 52,
   "metadata": {},
   "outputs": [
    {
     "output_type": "execute_result",
     "data": {
      "text/plain": [
       "TREAT14\n",
       "Aspirin                     [N, N, Y, N, N, N, N, N, N, N, N, Y, Y, N, N, ...\n",
       "Aspirin + Low Heparin       [N, N, N, N, N, Y, N, N, N, N, N, Y, N, N, Y, ...\n",
       "Aspirin + Medium Heparin    [N, N, N, N, N, N, N, N, N, N, N, Y, N, N, N, ...\n",
       "Control                     [N, N, N, N, N, N, N, N, N, N, N, Y, Y, N, N, ...\n",
       "Low Heparin                 [N, N, N, Y, N, Y, N, N, N, N, N, N, N, N, Y, ...\n",
       "Medium Heparin              [N, N, N, Y, N, N, N, N, N, N, N, N, Y, N, N, ...\n",
       "Name: FDEAD, dtype: object"
      ]
     },
     "metadata": {},
     "execution_count": 52
    }
   ],
   "source": [
    "list_treat6"
   ]
  },
  {
   "cell_type": "code",
   "execution_count": 53,
   "metadata": {
    "tags": []
   },
   "outputs": [
    {
     "output_type": "stream",
     "name": "stdout",
     "text": [
      "0 0\n",
      "stat = 9741698.000, p = 0.500\n",
      "Probably the same distribution\n",
      "\n",
      "0 1\n",
      "stat = 4385882.000, p = 0.381\n",
      "Probably the same distribution\n",
      "\n",
      "0 2\n",
      "stat = 4090016.000, p = 0.307\n",
      "Probably the same distribution\n",
      "\n",
      "0 3\n",
      "stat = 11372866.000, p = 0.000\n",
      "Probably different distributions\n",
      "\n",
      "0 4\n",
      "stat = 4459777.000, p = 0.009\n",
      "Probably different distributions\n",
      "\n",
      "0 5\n",
      "stat = 4350286.000, p = 0.029\n",
      "Probably different distributions\n",
      "\n",
      "1 0\n",
      "stat = 4385882.000, p = 0.381\n",
      "Probably the same distribution\n",
      "\n",
      "1 1\n",
      "stat = 1988018.000, p = 0.500\n",
      "Probably the same distribution\n",
      "\n",
      "1 2\n",
      "stat = 1841360.000, p = 0.246\n",
      "Probably the same distribution\n",
      "\n",
      "1 3\n",
      "stat = 5119666.000, p = 0.001\n",
      "Probably different distributions\n",
      "\n",
      "1 4\n",
      "stat = 2007683.000, p = 0.012\n",
      "Probably different distributions\n",
      "\n",
      "1 5\n",
      "stat = 1958430.000, p = 0.031\n",
      "Probably different distributions\n",
      "\n",
      "2 0\n",
      "stat = 4090016.000, p = 0.307\n",
      "Probably the same distribution\n",
      "\n",
      "2 1\n",
      "stat = 1841360.000, p = 0.246\n",
      "Probably the same distribution\n",
      "\n",
      "2 2\n",
      "stat = 1737248.000, p = 0.500\n",
      "Probably the same distribution\n",
      "\n",
      "2 3\n",
      "stat = 4831456.000, p = 0.009\n",
      "Probably different distributions\n",
      "\n",
      "2 4\n",
      "stat = 1894540.000, p = 0.062\n",
      "Probably the same distribution\n",
      "\n",
      "2 5\n",
      "stat = 1847968.000, p = 0.127\n",
      "Probably the same distribution\n",
      "\n",
      "3 0\n",
      "stat = 11372866.000, p = 0.000\n",
      "Probably different distributions\n",
      "\n",
      "3 1\n",
      "stat = 5119666.000, p = 0.001\n",
      "Probably different distributions\n",
      "\n",
      "3 2\n",
      "stat = 4831456.000, p = 0.009\n",
      "Probably different distributions\n",
      "\n",
      "3 3\n",
      "stat = 14204450.000, p = 0.500\n",
      "Probably the same distribution\n",
      "\n",
      "3 4\n",
      "stat = 5496169.000, p = 0.279\n",
      "Probably the same distribution\n",
      "\n",
      "3 5\n",
      "stat = 5303406.000, p = 0.146\n",
      "Probably the same distribution\n",
      "\n",
      "4 0\n",
      "stat = 4459777.000, p = 0.009\n",
      "Probably different distributions\n",
      "\n",
      "4 1\n",
      "stat = 2007683.000, p = 0.012\n",
      "Probably different distributions\n",
      "\n",
      "4 2\n",
      "stat = 1894540.000, p = 0.062\n",
      "Probably the same distribution\n",
      "\n",
      "4 3\n",
      "stat = 5496169.000, p = 0.279\n",
      "Probably the same distribution\n",
      "\n",
      "4 4\n",
      "stat = 2154888.000, p = 0.500\n",
      "Probably the same distribution\n",
      "\n",
      "4 5\n",
      "stat = 2079385.000, p = 0.346\n",
      "Probably the same distribution\n",
      "\n",
      "5 0\n",
      "stat = 4350286.000, p = 0.029\n",
      "Probably different distributions\n",
      "\n",
      "5 1\n",
      "stat = 1958430.000, p = 0.031\n",
      "Probably different distributions\n",
      "\n",
      "5 2\n",
      "stat = 1847968.000, p = 0.127\n",
      "Probably the same distribution\n",
      "\n",
      "5 3\n",
      "stat = 5303406.000, p = 0.146\n",
      "Probably the same distribution\n",
      "\n",
      "5 4\n",
      "stat = 2079385.000, p = 0.346\n",
      "Probably the same distribution\n",
      "\n",
      "5 5\n",
      "stat = 2028098.000, p = 0.500\n",
      "Probably the same distribution\n",
      "\n"
     ]
    }
   ],
   "source": [
    "iterator = product(enumerate(list_treat6), enumerate(list_treat6))\n",
    "for (first_idx, first_group), (second_idx, second_group) in iterator:\n",
    "    print(first_idx, second_idx)\n",
    "    stat, p = mannwhitneyu(first_group, second_group)\n",
    "    print_stats(stat, p)\n",
    "    print()"
   ]
  },
  {
   "cell_type": "code",
   "execution_count": 54,
   "metadata": {},
   "outputs": [
    {
     "output_type": "execute_result",
     "data": {
      "text/plain": [
       "TREAT14                   FDEAD\n",
       "Aspirin                   N        3445\n",
       "                          Y         969\n",
       "Aspirin + Low Heparin     N        1563\n",
       "                          Y         431\n",
       "Aspirin + Medium Heparin  N        1444\n",
       "                          Y         420\n",
       "Control                   N        3983\n",
       "                          Y        1347\n",
       "Low Heparin               N        1565\n",
       "                          Y         511\n",
       "Medium Heparin            N        1529\n",
       "                          Y         485\n",
       "Name: FDEAD, dtype: int64"
      ]
     },
     "metadata": {},
     "execution_count": 54
    }
   ],
   "source": [
    "group_treat['FDEAD'].value_counts()"
   ]
  },
  {
   "cell_type": "code",
   "execution_count": 55,
   "metadata": {},
   "outputs": [],
   "source": [
    "treat6_a_n = group_treat['FDEAD'].value_counts()[0]\n",
    "treat6_a_y = group_treat['FDEAD'].value_counts()[1]\n",
    "\n",
    "treat6_alh_n = group_treat['FDEAD'].value_counts()[2]\n",
    "treat6_alh_y = group_treat['FDEAD'].value_counts()[3]\n",
    "\n",
    "treat6_amh_n = group_treat['FDEAD'].value_counts()[4]\n",
    "treat6_amh_y = group_treat['FDEAD'].value_counts()[5]\n",
    "\n",
    "treat6_c_n = group_treat['FDEAD'].value_counts()[6]\n",
    "treat6_c_y = group_treat['FDEAD'].value_counts()[7]\n",
    "\n",
    "treat6_lh_n = group_treat['FDEAD'].value_counts()[8]\n",
    "treat6_lh_y = group_treat['FDEAD'].value_counts()[9]\n",
    "\n",
    "treat6_mh_n = group_treat['FDEAD'].value_counts()[10]\n",
    "treat6_mh_y = group_treat['FDEAD'].value_counts()[11]"
   ]
  },
  {
   "cell_type": "code",
   "execution_count": 56,
   "metadata": {},
   "outputs": [
    {
     "output_type": "stream",
     "name": "stdout",
     "text": [
      "--- Aspirin during study ---\n78.0 % of patients living 6 months after their stroke\n-- Significantly different compared to both Heparin groups and the control group (p < 0.05)\n\n--- Aspirin + Low Heparin during study ---\n78.4 % of patients living 6 months after their stroke\n-- Significantly different compared to both Heparin groups and the control group(p < 0.05)\n\n--- Aspirin + Medium Heparin during study ---\n77.5 % of patients living 6 months after their stroke\n-- Significantly different compared to the control group (p < 0.05)\n\n--- Low Heparin during study ---\n75.4 % of patients living 6 months after their stroke\n\n--- Medium Heparin during study ---\n75.9 % of patients living 6 monthsafter their stroke\n\n--- Control (neither Aspirin nor Heparin during study) ---\n74.7 % of patients living 6 months after their stroke\n\n"
     ]
    }
   ],
   "source": [
    "print(f\"--- Aspirin during study ---\")\n",
    "print(f'{round((treat6_a_n / (treat6_a_n + treat6_a_y) * 100),1)} % of patients living 6 months after their stroke')\n",
    "print(f'-- Significantly different compared to both Heparin groups and the control group (p < 0.05)')\n",
    "print()\n",
    "print(f\"--- Aspirin + Low Heparin during study ---\")\n",
    "print(f'{round((treat6_alh_n / (treat6_alh_n + treat6_alh_y) * 100),1)} % of patients living 6 months after their stroke')\n",
    "print(f'-- Significantly different compared to both Heparin groups and the control group(p < 0.05)')\n",
    "print()\n",
    "print(f\"--- Aspirin + Medium Heparin during study ---\")\n",
    "print(f'{round((treat6_amh_n / (treat6_amh_n + treat6_amh_y) * 100),1)} % of patients living 6 months after their stroke')\n",
    "print(f'-- Significantly different compared to the control group (p < 0.05)')\n",
    "print()\n",
    "print(f\"--- Low Heparin during study ---\")\n",
    "print(f'{round((treat6_lh_n / (treat6_lh_n + treat6_lh_y) * 100),1)} % of patients living 6 months after their stroke')\n",
    "print()\n",
    "print(f\"--- Medium Heparin during study ---\")\n",
    "print(f'{round((treat6_mh_n / (treat6_mh_n + treat6_mh_y) * 100),1)} % of patients living 6 monthsafter their stroke')\n",
    "print()\n",
    "print(f\"--- Control (neither Aspirin nor Heparin during study) ---\")\n",
    "print(f'{round((treat6_c_n / (treat6_c_n + treat6_c_y) * 100),1)} % of patients living 6 months after their stroke')\n",
    "print()"
   ]
  },
  {
   "cell_type": "code",
   "execution_count": null,
   "metadata": {},
   "outputs": [],
   "source": []
  }
 ]
}