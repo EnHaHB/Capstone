{
 "metadata": {
  "language_info": {
   "codemirror_mode": {
    "name": "ipython",
    "version": 3
   },
   "file_extension": ".py",
   "mimetype": "text/x-python",
   "name": "python",
   "nbconvert_exporter": "python",
   "pygments_lexer": "ipython3",
   "version": "3.8.5-final"
  },
  "orig_nbformat": 2,
  "kernelspec": {
   "name": "python385jvsc74a57bd038a764f01a07450ab51d79bed6549f58eb0f97e1979a68da4b3ad39e0a49809a",
   "display_name": "Python 3.8.5 64-bit ('3.8.5': pyenv)"
  }
 },
 "nbformat": 4,
 "nbformat_minor": 2,
 "cells": [
  {
   "cell_type": "code",
   "execution_count": 12,
   "metadata": {},
   "outputs": [],
   "source": [
    "import pandas as pd\n",
    "import numpy as np\n",
    "import seaborn as sns\n",
    "import matplotlib.pyplot as plt\n",
    "\n",
    "from scipy.stats import kruskal, mannwhitneyu\n",
    "\n",
    "from itertools import product\n",
    " "
   ]
  },
  {
   "cell_type": "code",
   "execution_count": 13,
   "metadata": {},
   "outputs": [],
   "source": [
    "df = pd.read_csv('data/IST_corrected_clean.csv',  index_col= [0])"
   ]
  },
  {
   "cell_type": "code",
   "execution_count": 14,
   "metadata": {},
   "outputs": [],
   "source": [
    "def print_stats(stat, p):\n",
    "    print('stat = %.3f, p = %.3f' % (stat, p))\n",
    "    if p > 0.05:\n",
    "\t    print('Probably the same distribution')\n",
    "    else:\n",
    "\t    print('Probably different distributions')"
   ]
  },
  {
   "source": [
    "# Hypothesis testing"
   ],
   "cell_type": "markdown",
   "metadata": {}
  },
  {
   "source": [
    "+ aspirin vs non-aspirin\n",
    "+ heparin vs non-heparin\n",
    "    + non vs low vs medium heparin\n",
    "+ combination of aspirin and heparin\n",
    "    + (significantly) different outcome than separate effects of aspirin and heparin"
   ],
   "cell_type": "markdown",
   "metadata": {}
  },
  {
   "source": [
    "## Aspirin vs  No aspirin\n",
    "\n"
   ],
   "cell_type": "markdown",
   "metadata": {}
  },
  {
   "source": [
    "### Outcome after 14 days\n",
    "\n",
    "The endpoint after 14 days is 'DDEAD'. It includes information whether a patient has passed away within 14 days or not."
   ],
   "cell_type": "markdown",
   "metadata": {}
  },
  {
   "source": [
    "Group patients and their status concerning Aspirin treatment (Y/N) - and their outcome after 14 days."
   ],
   "cell_type": "markdown",
   "metadata": {}
  },
  {
   "cell_type": "code",
   "execution_count": 15,
   "metadata": {},
   "outputs": [],
   "source": [
    "list_asp14 = df.groupby('DASP14')['DDEAD'].apply(list)"
   ]
  },
  {
   "cell_type": "code",
   "execution_count": 16,
   "metadata": {},
   "outputs": [
    {
     "output_type": "execute_result",
     "data": {
      "text/plain": [
       "DASP14\n",
       "N    [N, N, N, N, N, N, N, N, N, N, N, N, N, N, N, ...\n",
       "Y    [N, N, N, N, N, N, Y, Y, N, N, N, N, N, N, N, ...\n",
       "Name: DDEAD, dtype: object"
      ]
     },
     "metadata": {},
     "execution_count": 16
    }
   ],
   "source": [
    "list_asp14"
   ]
  },
  {
   "cell_type": "code",
   "execution_count": 17,
   "metadata": {},
   "outputs": [
    {
     "output_type": "stream",
     "name": "stdout",
     "text": [
      "Kruskal Wallis\nstat = 10.405, p = 0.001\nProbably different distributions\n"
     ]
    }
   ],
   "source": [
    "stat, p = kruskal(list_asp14[0], list_asp14[1])\n",
    "print('Kruskal Wallis')\n",
    "print_stats(stat, p)"
   ]
  },
  {
   "cell_type": "code",
   "execution_count": 46,
   "metadata": {},
   "outputs": [
    {
     "output_type": "execute_result",
     "data": {
      "text/plain": [
       "DASP14  DDEAD\n",
       "N       N        8820\n",
       "        Y        1122\n",
       "Y       N        7933\n",
       "        Y         865\n",
       "Name: DDEAD, dtype: int64"
      ]
     },
     "metadata": {},
     "execution_count": 46
    }
   ],
   "source": [
    "group_asp = df.groupby('DASP14')\n",
    "group_asp['DDEAD'].value_counts()"
   ]
  },
  {
   "cell_type": "code",
   "execution_count": 47,
   "metadata": {},
   "outputs": [],
   "source": [
    "asp14_nn = group_asp['DDEAD'].value_counts()[0]\n",
    "asp14_ny = group_asp['DDEAD'].value_counts()[1]\n",
    "asp14_yn = group_asp['DDEAD'].value_counts()[2]\n",
    "asp14_yy = group_asp['DDEAD'].value_counts()[3]"
   ]
  },
  {
   "cell_type": "code",
   "execution_count": 49,
   "metadata": {},
   "outputs": [
    {
     "output_type": "stream",
     "name": "stdout",
     "text": [
      "--- No aspirin during study ---\n88.7 % of patients living 14 days after their stroke\n\n--- Aspirin during study ---\n90.2 % of patients living 14 days after their stroke\n"
     ]
    }
   ],
   "source": [
    "print(f\"--- No aspirin during study ---\")\n",
    "print(f'{round((asp14_nn / (asp14_nn + asp14_ny) * 100),1)} % of patients living 14 days after their stroke')\n",
    "print()\n",
    "print(f\"--- Aspirin during study ---\")\n",
    "print(f'{round((asp14_yn/ (asp14_yn + asp14_yy) * 100),1)} % of patients living 14 days after their stroke')"
   ]
  },
  {
   "source": [
    "When comparing the groups by implementing the Kruskal Wallis Test, we see that there is a significant difference between patients who were given Aspirin in comparison to those who didn't, after 14 days. More patients that did not receive Aspirin passed away compared to those who received Aspirin.\n"
   ],
   "cell_type": "markdown",
   "metadata": {}
  },
  {
   "source": [
    "### Outcome after 6 months"
   ],
   "cell_type": "markdown",
   "metadata": {}
  },
  {
   "source": [
    "There are two endpoints that are interesting after 6 months, that is 'FRECOVER', which is the information of full recovery, as well as 'FDEAD', which is information on patients who have passed away."
   ],
   "cell_type": "markdown",
   "metadata": {}
  },
  {
   "cell_type": "code",
   "execution_count": 45,
   "metadata": {},
   "outputs": [
    {
     "output_type": "stream",
     "name": "stdout",
     "text": [
      "DASP14\nN    [N, Y, N, N, N, Y, N, N, N, N, N, N, N, N, Y, ...\nY    [N, N, N, N, N, N, nan, nan, N, N, N, N, Y, N,...\nName: FRECOVER, dtype: object\n\nKruskal Wallis\nstat = 2.949, p = 0.086\nProbably the same distribution\n"
     ]
    }
   ],
   "source": [
    "list_asp6 = df.groupby('DASP14')['FRECOVER'].apply(list)\n",
    "print(list_asp6)\n",
    "print()\n",
    "stat, p = kruskal(list_asp6[0], list_asp6[1])\n",
    "print('Kruskal Wallis')\n",
    "print_stats(stat, p)"
   ]
  },
  {
   "source": [
    "No difference in terms of recovery when patients received aspirin or not. Though, there is a significant difference between patients who died and who received aspirin compared to those who did not."
   ],
   "cell_type": "markdown",
   "metadata": {}
  },
  {
   "cell_type": "code",
   "execution_count": 20,
   "metadata": {},
   "outputs": [
    {
     "output_type": "stream",
     "name": "stdout",
     "text": [
      "DASP14\nN    [N, N, N, N, N, N, N, N, N, N, N, N, N, N, N, ...\nY    [N, N, N, N, N, N, Y, Y, N, N, N, N, N, N, N, ...\nName: FDEAD, dtype: object\n\nKruskal Wallis\nstat = 20.668, p = 0.000\nProbably different distributions\n"
     ]
    }
   ],
   "source": [
    "list_asp6 = df.groupby('DASP14')['FDEAD'].apply(list)\n",
    "print(list_asp6)\n",
    "print()\n",
    "stat, p = kruskal(list_asp6[0], list_asp6[1])\n",
    "print('Kruskal Wallis')\n",
    "print_stats(stat, p)"
   ]
  },
  {
   "cell_type": "code",
   "execution_count": 27,
   "metadata": {},
   "outputs": [
    {
     "output_type": "execute_result",
     "data": {
      "text/plain": [
       "DASP14  FDEAD\n",
       "N       N        7561\n",
       "        Y        2381\n",
       "Y       N        6936\n",
       "        Y        1862\n",
       "Name: FDEAD, dtype: int64"
      ]
     },
     "metadata": {},
     "execution_count": 27
    }
   ],
   "source": [
    "group_asp['FDEAD'].value_counts()"
   ]
  },
  {
   "cell_type": "code",
   "execution_count": 28,
   "metadata": {},
   "outputs": [],
   "source": [
    "asp6_nn = group_asp['FDEAD'].value_counts()[0]\n",
    "asp6_ny = group_asp['FDEAD'].value_counts()[1]\n",
    "asp6_yn = group_asp['FDEAD'].value_counts()[2]\n",
    "asp6_yy = group_asp['FDEAD'].value_counts()[3]"
   ]
  },
  {
   "cell_type": "code",
   "execution_count": 33,
   "metadata": {},
   "outputs": [
    {
     "output_type": "stream",
     "name": "stdout",
     "text": [
      "--- No aspirin during study ---\n76.1 % of patients living 6 months after their stroke\n\n--- Aspirin during study ---\n78.8 % of patients living 6 months after their stroke\n"
     ]
    }
   ],
   "source": [
    "print(f\"--- No aspirin during study ---\")\n",
    "print(f'{round((asp6_nn / (asp6_nn + asp6_ny) * 100),1)} % of patients living 6 months after their stroke')\n",
    "print()\n",
    "print(f\"--- Aspirin during study ---\")\n",
    "print(f'{round((asp6_yn/ (asp6_yn + asp6_yy) * 100),1)} % of patients living 6 months after their stroke')"
   ]
  },
  {
   "source": [
    "## Heparin vs non-heparin\n"
   ],
   "cell_type": "markdown",
   "metadata": {}
  },
  {
   "source": [
    "### Outcome after 14 days"
   ],
   "cell_type": "markdown",
   "metadata": {}
  },
  {
   "cell_type": "code",
   "execution_count": 103,
   "metadata": {},
   "outputs": [],
   "source": [
    "list_hep14 = df.groupby(by = ['RXHEP14'])['DDEAD'].apply(list)"
   ]
  },
  {
   "cell_type": "code",
   "execution_count": 104,
   "metadata": {},
   "outputs": [
    {
     "output_type": "execute_result",
     "data": {
      "text/plain": [
       "RXHEP14\n",
       "N    [N, N, N, N, N, N, N, Y, Y, N, N, N, N, N, N, ...\n",
       "Y    [N, N, N, N, N, N, N, N, N, N, N, N, N, N, N, ...\n",
       "Name: DDEAD, dtype: object"
      ]
     },
     "metadata": {},
     "execution_count": 104
    }
   ],
   "source": [
    "list_hep14"
   ]
  },
  {
   "cell_type": "code",
   "execution_count": 105,
   "metadata": {},
   "outputs": [
    {
     "output_type": "stream",
     "name": "stdout",
     "text": [
      "stat = 0.756, p = 0.385\nProbably the same distribution\n"
     ]
    }
   ],
   "source": [
    "stat, p = kruskal(list_hep14[0], list_hep14[1])\n",
    "print_stats(stat, p)"
   ]
  },
  {
   "source": [
    "After 14 days: No difference between heparin and no heparin."
   ],
   "cell_type": "markdown",
   "metadata": {}
  },
  {
   "source": [
    "### Outcome after 6 months"
   ],
   "cell_type": "markdown",
   "metadata": {}
  },
  {
   "cell_type": "code",
   "execution_count": 179,
   "metadata": {},
   "outputs": [
    {
     "output_type": "stream",
     "name": "stdout",
     "text": [
      "stat = 0.552, p = 0.458\nProbably the same distribution\n"
     ]
    }
   ],
   "source": [
    "list_hep6 = df.groupby(by = ['RXHEP14'])['FRECOVER'].apply(list)\n",
    "stat, p = kruskal(list_hep6[0] , list_hep6[1])\n",
    "print_stats(stat, p)"
   ]
  },
  {
   "cell_type": "code",
   "execution_count": 180,
   "metadata": {},
   "outputs": [
    {
     "output_type": "stream",
     "name": "stdout",
     "text": [
      "stat = 0.877, p = 0.349\nProbably the same distribution\n"
     ]
    }
   ],
   "source": [
    "list_hep6 = df.groupby(by = ['RXHEP14'])['FDEAD'].apply(list)\n",
    "stat, p = kruskal(list_hep6[0] , list_hep6[1])\n",
    "print_stats(stat, p)"
   ]
  },
  {
   "cell_type": "code",
   "execution_count": null,
   "metadata": {},
   "outputs": [],
   "source": []
  },
  {
   "source": [
    "## No vs low vs medium heparin\n"
   ],
   "cell_type": "markdown",
   "metadata": {}
  },
  {
   "source": [
    "## Outcome after 14 days"
   ],
   "cell_type": "markdown",
   "metadata": {}
  },
  {
   "cell_type": "code",
   "execution_count": 115,
   "metadata": {},
   "outputs": [],
   "source": [
    "list2_hep14 = df.groupby(by = ['HEP14'])['DDEAD'].apply(list)"
   ]
  },
  {
   "cell_type": "code",
   "execution_count": 116,
   "metadata": {},
   "outputs": [
    {
     "output_type": "execute_result",
     "data": {
      "text/plain": [
       "HEP14\n",
       "L    [N, N, N, N, N, N, N, N, N, N, N, Y, N, N, N, ...\n",
       "M    [N, N, N, N, N, N, N, N, N, Y, N, Y, N, N, N, ...\n",
       "N    [N, N, N, N, N, N, N, Y, Y, N, N, N, N, N, N, ...\n",
       "Name: DDEAD, dtype: object"
      ]
     },
     "metadata": {},
     "execution_count": 116
    }
   ],
   "source": [
    "list2_hep14 "
   ]
  },
  {
   "cell_type": "code",
   "execution_count": 117,
   "metadata": {},
   "outputs": [
    {
     "output_type": "stream",
     "name": "stdout",
     "text": [
      "stat = 2.035, p = 0.362\nProbably the same distribution\n"
     ]
    }
   ],
   "source": [
    "stat, p = kruskal(list2_hep14[0], list2_hep14[1], list2_hep14[2])\n",
    "print_stats(stat, p)"
   ]
  },
  {
   "source": [
    "After 14 days: No difference between low, medium and no heparin."
   ],
   "cell_type": "markdown",
   "metadata": {}
  },
  {
   "source": [
    "### Outcome after 6 months"
   ],
   "cell_type": "markdown",
   "metadata": {}
  },
  {
   "cell_type": "code",
   "execution_count": 181,
   "metadata": {},
   "outputs": [
    {
     "output_type": "stream",
     "name": "stdout",
     "text": [
      "stat = 0.756, p = 0.685\nProbably the same distribution\n"
     ]
    }
   ],
   "source": [
    "list2_hep6 = df.groupby(by = ['HEP14'])['FRECOVER'].apply(list)\n",
    "stat, p = kruskal(list2_hep6[0], list2_hep6[1], list2_hep6[2])\n",
    "print_stats(stat, p)"
   ]
  },
  {
   "cell_type": "code",
   "execution_count": 182,
   "metadata": {},
   "outputs": [
    {
     "output_type": "stream",
     "name": "stdout",
     "text": [
      "stat = 1.050, p = 0.592\nProbably the same distribution\n"
     ]
    }
   ],
   "source": [
    "list2_hep6 = df.groupby(by = ['HEP14'])['FDEAD'].apply(list)\n",
    "stat, p = kruskal(list2_hep6[0], list2_hep6[1], list2_hep6[2])\n",
    "print_stats(stat, p)"
   ]
  },
  {
   "cell_type": "code",
   "execution_count": null,
   "metadata": {},
   "outputs": [],
   "source": []
  },
  {
   "source": [
    "## Combination of aspirin and heparin\n",
    "(significantly) different outcome than separate effects of aspirin and heparin"
   ],
   "cell_type": "markdown",
   "metadata": {}
  },
  {
   "cell_type": "code",
   "execution_count": 63,
   "metadata": {},
   "outputs": [
    {
     "output_type": "execute_result",
     "data": {
      "text/plain": [
       "array(['Aspirin', 'Low Heparin', 'Medium Heparin',\n",
       "       'Aspirin + Medium Heparin', 'Control', 'Aspirin + Low Heparin'],\n",
       "      dtype=object)"
      ]
     },
     "metadata": {},
     "execution_count": 63
    }
   ],
   "source": [
    "df.TREAT14.unique()"
   ]
  },
  {
   "source": [
    "### Outcome after 14 days"
   ],
   "cell_type": "markdown",
   "metadata": {}
  },
  {
   "cell_type": "code",
   "execution_count": 143,
   "metadata": {},
   "outputs": [],
   "source": [
    "list_treat14 = df.groupby(by = ['TREAT14'])['DDEAD'].apply(list)"
   ]
  },
  {
   "cell_type": "code",
   "execution_count": 144,
   "metadata": {},
   "outputs": [
    {
     "output_type": "execute_result",
     "data": {
      "text/plain": [
       "TREAT14\n",
       "Aspirin                     [N, N, Y, Y, N, N, N, N, N, N, N, N, N, N, N, ...\n",
       "Aspirin + Low Heparin       [N, N, N, N, N, N, N, N, N, N, N, N, N, N, N, ...\n",
       "Aspirin + Medium Heparin    [N, N, N, N, N, Y, N, N, N, N, N, N, N, Y, N, ...\n",
       "Control                     [N, N, N, N, N, N, N, N, N, N, Y, N, N, N, Y, ...\n",
       "Low Heparin                 [N, N, N, N, N, Y, N, N, N, N, N, N, N, N, N, ...\n",
       "Medium Heparin              [N, N, N, N, Y, N, N, N, N, N, N, N, N, N, N, ...\n",
       "Name: DDEAD, dtype: object"
      ]
     },
     "metadata": {},
     "execution_count": 144
    }
   ],
   "source": [
    "list_treat14"
   ]
  },
  {
   "cell_type": "code",
   "execution_count": 145,
   "metadata": {},
   "outputs": [
    {
     "output_type": "stream",
     "name": "stdout",
     "text": [
      "stat = 14.675, p = 0.012\nProbably different distributions\n"
     ]
    }
   ],
   "source": [
    "stat, p = kruskal(list_treat14[0], list_treat14[1], list_treat14[2], list_treat14[3],list_treat14[4], list_treat14[5])\n",
    "print_stats(stat, p)"
   ]
  },
  {
   "cell_type": "code",
   "execution_count": 146,
   "metadata": {},
   "outputs": [
    {
     "output_type": "stream",
     "name": "stdout",
     "text": [
      "0 0\n",
      "stat = 11007432.000, p = 0.500\n",
      "Probably the same distribution\n",
      "\n",
      "0 1\n",
      "stat = 4971980.000, p = 0.220\n",
      "Probably the same distribution\n",
      "\n",
      "0 2\n",
      "stat = 4646727.500, p = 0.127\n",
      "Probably the same distribution\n",
      "\n",
      "0 3\n",
      "stat = 12954773.500, p = 0.001\n",
      "Probably different distributions\n",
      "\n",
      "0 4\n",
      "stat = 5105552.000, p = 0.083\n",
      "Probably the same distribution\n",
      "\n",
      "0 5\n",
      "stat = 4965158.000, p = 0.080\n",
      "Probably the same distribution\n",
      "\n",
      "1 0\n",
      "stat = 4971980.000, p = 0.220\n",
      "Probably the same distribution\n",
      "\n",
      "1 1\n",
      "stat = 2272712.000, p = 0.500\n",
      "Probably the same distribution\n",
      "\n",
      "1 2\n",
      "stat = 2098778.500, p = 0.052\n",
      "Probably the same distribution\n",
      "\n",
      "1 3\n",
      "stat = 5850916.500, p = 0.001\n",
      "Probably different distributions\n",
      "\n",
      "1 4\n",
      "stat = 2305992.000, p = 0.033\n",
      "Probably different distributions\n",
      "\n",
      "1 5\n",
      "stat = 2242578.000, p = 0.032\n",
      "Probably different distributions\n",
      "\n",
      "2 0\n",
      "stat = 4646727.500, p = 0.127\n",
      "Probably the same distribution\n",
      "\n",
      "2 1\n",
      "stat = 2098778.500, p = 0.052\n",
      "Probably the same distribution\n",
      "\n",
      "2 2\n",
      "stat = 1998000.500, p = 0.500\n",
      "Probably the same distribution\n",
      "\n",
      "2 3\n",
      "stat = 5570788.500, p = 0.125\n",
      "Probably the same distribution\n",
      "\n",
      "2 4\n",
      "stat = 2195319.000, p = 0.432\n",
      "Probably the same distribution\n",
      "\n",
      "2 5\n",
      "stat = 2134956.000, p = 0.424\n",
      "Probably the same distribution\n",
      "\n",
      "3 0\n",
      "stat = 12954773.500, p = 0.001\n",
      "Probably different distributions\n",
      "\n",
      "3 1\n",
      "stat = 5850916.500, p = 0.001\n",
      "Probably different distributions\n",
      "\n",
      "3 2\n",
      "stat = 5570788.500, p = 0.125\n",
      "Probably the same distribution\n",
      "\n",
      "3 3\n",
      "stat = 15831564.500, p = 0.500\n",
      "Probably the same distribution\n",
      "\n",
      "3 4\n",
      "stat = 6141013.000, p = 0.162\n",
      "Probably the same distribution\n",
      "\n",
      "3 5\n",
      "stat = 5974912.000, p = 0.172\n",
      "Probably the same distribution\n",
      "\n",
      "4 0\n",
      "stat = 5105552.000, p = 0.083\n",
      "Probably the same distribution\n",
      "\n",
      "4 1\n",
      "stat = 2305992.000, p = 0.033\n",
      "Probably different distributions\n",
      "\n",
      "4 2\n",
      "stat = 2195319.000, p = 0.432\n",
      "Probably the same distribution\n",
      "\n",
      "4 3\n",
      "stat = 6141013.000, p = 0.162\n",
      "Probably the same distribution\n",
      "\n",
      "4 4\n",
      "stat = 2420000.000, p = 0.500\n",
      "Probably the same distribution\n",
      "\n",
      "4 5\n",
      "stat = 2353460.000, p = 0.490\n",
      "Probably the same distribution\n",
      "\n",
      "5 0\n",
      "stat = 4965158.000, p = 0.080\n",
      "Probably the same distribution\n",
      "\n",
      "5 1\n",
      "stat = 2242578.000, p = 0.032\n",
      "Probably different distributions\n",
      "\n",
      "5 2\n",
      "stat = 2134956.000, p = 0.424\n",
      "Probably the same distribution\n",
      "\n",
      "5 3\n",
      "stat = 5974912.000, p = 0.172\n",
      "Probably the same distribution\n",
      "\n",
      "5 4\n",
      "stat = 2353460.000, p = 0.490\n",
      "Probably the same distribution\n",
      "\n",
      "5 5\n",
      "stat = 2289800.000, p = 0.500\n",
      "Probably the same distribution\n",
      "\n"
     ]
    }
   ],
   "source": [
    "iterator = product(enumerate(list_treat14), enumerate(list_treat14))\n",
    "for (first_idx, first_group), (second_idx, second_group) in iterator:\n",
    "    print(first_idx, second_idx)\n",
    "    stat, p = mannwhitneyu(first_group, second_group)\n",
    "    print_stats(stat, p)\n",
    "    print()"
   ]
  },
  {
   "cell_type": "code",
   "execution_count": 35,
   "metadata": {},
   "outputs": [
    {
     "output_type": "execute_result",
     "data": {
      "text/plain": [
       "TREAT14                   DDEAD\n",
       "Aspirin                   N        4223\n",
       "                          Y         457\n",
       "Aspirin + Low Heparin     N        1930\n",
       "                          Y         195\n",
       "Aspirin + Medium Heparin  N        1780\n",
       "                          Y         213\n",
       "Control                   N        4957\n",
       "                          Y         652\n",
       "Low Heparin               N        1961\n",
       "                          Y         238\n",
       "Medium Heparin            N        1906\n",
       "                          Y         232\n",
       "Name: DDEAD, dtype: int64"
      ]
     },
     "metadata": {},
     "execution_count": 35
    }
   ],
   "source": [
    "group_treat = df.groupby(by = ['TREAT14'])\n",
    "group_treat['DDEAD'].value_counts()"
   ]
  },
  {
   "cell_type": "code",
   "execution_count": 36,
   "metadata": {},
   "outputs": [],
   "source": [
    "treat14_a_n = group_treat['DDEAD'].value_counts()[0]\n",
    "treat14_a_y = group_treat['DDEAD'].value_counts()[1]\n",
    "\n",
    "treat14_alh_n = group_treat['DDEAD'].value_counts()[2]\n",
    "treat14_alh_y = group_treat['DDEAD'].value_counts()[3]\n",
    "\n",
    "treat14_amh_n = group_treat['DDEAD'].value_counts()[4]\n",
    "treat14_amh_y = group_treat['DDEAD'].value_counts()[5]\n",
    "\n",
    "treat14_c_n = group_treat['DDEAD'].value_counts()[6]\n",
    "treat14_c_y = group_treat['DDEAD'].value_counts()[7]\n",
    "\n",
    "treat14_lh_n = group_treat['DDEAD'].value_counts()[8]\n",
    "treat14_lh_y = group_treat['DDEAD'].value_counts()[9]\n",
    "\n",
    "treat14_mh_n = group_treat['DDEAD'].value_counts()[10]\n",
    "treat14_mh_y = group_treat['DDEAD'].value_counts()[11]\n"
   ]
  },
  {
   "cell_type": "code",
   "execution_count": 44,
   "metadata": {},
   "outputs": [
    {
     "output_type": "stream",
     "name": "stdout",
     "text": [
      "--- Aspirin during study ---\n90.2 % of patients living 14 days after their stroke\n-- Significantly different compared to the control group (p < 0.05)\n\n--- Aspirin + Low Heparin during study ---\n90.8 % of patients living 14 days after their stroke\n-- Significantly different compared to both Heparin groups and the control group (p < 0.05)\n\n--- Aspirin + Medium Heparin during study ---\n89.3 % of patients living 14 days after their stroke\n\n--- Low Heparin during study ---\n89.2 % of patients living 14 days after their stroke\n\n--- Medium Heparin during study ---\n89.1 % of patients living 14 days after their stroke\n\n--- Control (neither Aspirin nor Heparin during study) ---\n88.4 % of patients living 14 days after their stroke\n\n"
     ]
    }
   ],
   "source": [
    "print(f\"--- Aspirin during study ---\")\n",
    "print(f'{round((treat14_a_n / (treat14_a_n + treat14_a_y) * 100),1)} % of patients living 14 days after their stroke')\n",
    "print(f'-- Significantly different compared to the control group (p < 0.05)')\n",
    "print()\n",
    "print(f\"--- Aspirin + Low Heparin during study ---\")\n",
    "print(f'{round((treat14_alh_n / (treat14_alh_n + treat14_alh_y) * 100),1)} % of patients living 14 days after their stroke')\n",
    "print(f'-- Significantly different compared to both Heparin groups and the control group (p < 0.05)')\n",
    "print()\n",
    "print(f\"--- Aspirin + Medium Heparin during study ---\")\n",
    "print(f'{round((treat14_amh_n / (treat14_amh_n + treat14_amh_y) * 100),1)} % of patients living 14 days after their stroke')\n",
    "print()\n",
    "print(f\"--- Low Heparin during study ---\")\n",
    "print(f'{round((treat14_lh_n / (treat14_lh_n + treat14_lh_y) * 100),1)} % of patients living 14 days after their stroke')\n",
    "print()\n",
    "print(f\"--- Medium Heparin during study ---\")\n",
    "print(f'{round((treat14_mh_n / (treat14_mh_n + treat14_mh_y) * 100),1)} % of patients living 14 days after their stroke')\n",
    "print()\n",
    "print(f\"--- Control (neither Aspirin nor Heparin during study) ---\")\n",
    "print(f'{round((treat14_c_n / (treat14_c_n + treat14_c_y) * 100),1)} % of patients living 14 days after their stroke')\n",
    "print()"
   ]
  },
  {
   "source": [
    "### Outcome after 6 months"
   ],
   "cell_type": "markdown",
   "metadata": {}
  },
  {
   "cell_type": "code",
   "execution_count": 153,
   "metadata": {},
   "outputs": [],
   "source": [
    "list_treat6 = df.groupby(by = ['TREAT14'])['FRECOVER'].apply(list)"
   ]
  },
  {
   "cell_type": "code",
   "execution_count": 154,
   "metadata": {},
   "outputs": [
    {
     "output_type": "stream",
     "name": "stdout",
     "text": [
      "stat = 4.687, p = 0.455\nProbably the same distribution\n"
     ]
    }
   ],
   "source": [
    "stat, p = kruskal(list_treat6[0], list_treat6[1], list_treat6[2], list_treat6[3],list_treat6[4], list_treat6[5])\n",
    "print_stats(stat, p)"
   ]
  },
  {
   "cell_type": "code",
   "execution_count": 187,
   "metadata": {},
   "outputs": [
    {
     "output_type": "stream",
     "name": "stdout",
     "text": [
      "stat = 23.753, p = 0.000\nProbably different distributions\n"
     ]
    }
   ],
   "source": [
    "list_treat6 = df.groupby(by = ['TREAT14'])['FDEAD'].apply(list)\n",
    "stat, p = kruskal(list_treat6[0], list_treat6[1], list_treat6[2], list_treat6[3],list_treat6[4], list_treat6[5])\n",
    "print_stats(stat, p)"
   ]
  },
  {
   "cell_type": "code",
   "execution_count": 41,
   "metadata": {},
   "outputs": [
    {
     "output_type": "execute_result",
     "data": {
      "text/plain": [
       "TREAT14\n",
       "Aspirin                     [N, N, Y, Y, N, N, N, N, N, N, N, N, N, N, N, ...\n",
       "Aspirin + Low Heparin       [N, N, N, N, N, N, Y, N, N, N, N, N, N, Y, N, ...\n",
       "Aspirin + Medium Heparin    [N, N, N, N, N, Y, N, N, N, N, N, N, N, Y, N, ...\n",
       "Control                     [N, N, N, N, N, N, N, N, N, N, Y, N, N, N, Y, ...\n",
       "Low Heparin                 [N, N, N, N, N, Y, N, N, Y, N, N, N, N, N, N, ...\n",
       "Medium Heparin              [N, N, N, N, Y, N, N, N, N, N, N, N, N, N, N, ...\n",
       "Name: FDEAD, dtype: object"
      ]
     },
     "metadata": {},
     "execution_count": 41
    }
   ],
   "source": [
    "list_treat6"
   ]
  },
  {
   "cell_type": "code",
   "execution_count": 8,
   "metadata": {
    "tags": []
   },
   "outputs": [
    {
     "output_type": "stream",
     "name": "stdout",
     "text": [
      "0 0\nstat = 11007432.000, p = 0.500\nProbably the same distribution\n\n0 1\nstat = 4977864.000, p = 0.327\nProbably the same distribution\n\n0 2\nstat = 4652452.000, p = 0.234\nProbably the same distribution\n\n0 3\nstat = 12764314.000, p = 0.000\nProbably different distributions\n\n0 4\nstat = 5028574.000, p = 0.008\nProbably different distributions\n\n0 5\nstat = 4916824.000, p = 0.027\nProbably different distributions\n\n1 0\nstat = 4977864.000, p = 0.327\nProbably the same distribution\n\n1 1\nstat = 2272712.000, p = 0.500\nProbably the same distribution\n\n1 2\nstat = 2103873.500, p = 0.159\nProbably the same distribution\n\n1 3\nstat = 5771337.000, p = 0.000\nProbably different distributions\n\n1 4\nstat = 2273739.500, p = 0.008\nProbably different distributions\n\n1 5\nstat = 2223272.000, p = 0.022\nProbably different distributions\n\n2 0\nstat = 4652452.000, p = 0.234\nProbably the same distribution\n\n2 1\nstat = 2103873.500, p = 0.159\nProbably the same distribution\n\n2 2\nstat = 1998000.500, p = 0.500\nProbably the same distribution\n\n2 3\nstat = 5482686.000, p = 0.012\nProbably different distributions\n\n2 4\nstat = 2159818.500, p = 0.085\nProbably the same distribution\n\n2 5\nstat = 2111738.500, p = 0.164\nProbably the same distribution\n\n3 0\nstat = 12764314.000, p = 0.000\nProbably different distributions\n\n3 1\nstat = 5771337.000, p = 0.000\nProbably different distributions\n\n3 2\nstat = 5482686.000, p = 0.012\nProbably different distributions\n\n3 3\nstat = 15831564.500, p = 0.500\nProbably the same distribution\n\n3 4\nstat = 6143934.500, p = 0.246\nProbably the same distribution\n\n3 5\nstat = 5945917.000, p = 0.126\nProbably the same distribution\n\n4 0\nstat = 5028574.000, p = 0.008\nProbably different distributions\n\n4 1\nstat = 2273739.500, p = 0.008\nProbably different distributions\n\n4 2\nstat = 2159818.500, p = 0.085\nProbably the same distribution\n\n4 3\nstat = 6143934.500, p = 0.246\nProbably the same distribution\n\n4 4\nstat = 2420000.000, p = 0.500\nProbably the same distribution\n\n4 5\nstat = 2342087.500, p = 0.347\nProbably the same distribution\n\n5 0\nstat = 4916824.000, p = 0.027\nProbably different distributions\n\n5 1\nstat = 2223272.000, p = 0.022\nProbably different distributions\n\n5 2\nstat = 2111738.500, p = 0.164\nProbably the same distribution\n\n5 3\nstat = 5945917.000, p = 0.126\nProbably the same distribution\n\n5 4\nstat = 2342087.500, p = 0.347\nProbably the same distribution\n\n5 5\nstat = 2289800.000, p = 0.500\nProbably the same distribution\n\n"
     ]
    }
   ],
   "source": [
    "iterator = product(enumerate(list_treat6), enumerate(list_treat6))\n",
    "for (first_idx, first_group), (second_idx, second_group) in iterator:\n",
    "    print(first_idx, second_idx)\n",
    "    stat, p = mannwhitneyu(first_group, second_group)\n",
    "    print_stats(stat, p)\n",
    "    print()"
   ]
  },
  {
   "cell_type": "code",
   "execution_count": 38,
   "metadata": {},
   "outputs": [
    {
     "output_type": "execute_result",
     "data": {
      "text/plain": [
       "TREAT14                   FDEAD\n",
       "Aspirin                   N        3692\n",
       "                          Y         988\n",
       "Aspirin + Low Heparin     N        1687\n",
       "                          Y         438\n",
       "Aspirin + Medium Heparin  N        1557\n",
       "                          Y         436\n",
       "Control                   N        4241\n",
       "                          Y        1368\n",
       "Low Heparin               N        1680\n",
       "                          Y         519\n",
       "Medium Heparin            N        1644\n",
       "                          Y         494\n",
       "Name: FDEAD, dtype: int64"
      ]
     },
     "metadata": {},
     "execution_count": 38
    }
   ],
   "source": [
    "group_treat['FDEAD'].value_counts()"
   ]
  },
  {
   "cell_type": "code",
   "execution_count": 39,
   "metadata": {},
   "outputs": [],
   "source": [
    "treat6_a_n = group_treat['FDEAD'].value_counts()[0]\n",
    "treat6_a_y = group_treat['FDEAD'].value_counts()[1]\n",
    "\n",
    "treat6_alh_n = group_treat['FDEAD'].value_counts()[2]\n",
    "treat6_alh_y = group_treat['FDEAD'].value_counts()[3]\n",
    "\n",
    "treat6_amh_n = group_treat['FDEAD'].value_counts()[4]\n",
    "treat6_amh_y = group_treat['FDEAD'].value_counts()[5]\n",
    "\n",
    "treat6_c_n = group_treat['FDEAD'].value_counts()[6]\n",
    "treat6_c_y = group_treat['FDEAD'].value_counts()[7]\n",
    "\n",
    "treat6_lh_n = group_treat['FDEAD'].value_counts()[8]\n",
    "treat6_lh_y = group_treat['FDEAD'].value_counts()[9]\n",
    "\n",
    "treat6_mh_n = group_treat['FDEAD'].value_counts()[10]\n",
    "treat6_mh_y = group_treat['FDEAD'].value_counts()[11]"
   ]
  },
  {
   "cell_type": "code",
   "execution_count": 43,
   "metadata": {},
   "outputs": [
    {
     "output_type": "stream",
     "name": "stdout",
     "text": [
      "--- Aspirin during study ---\n78.9 % of patients living 6 months after their stroke\n-- Significantly different compared to both Heparin groups and the control group (p < 0.05)\n\n--- Aspirin + Low Heparin during study ---\n79.4 % of patients living 6 months after their stroke\n-- Significantly different compared to both Heparin groups and the control group(p < 0.05)\n\n--- Aspirin + Medium Heparin during study ---\n78.1 % of patients living 6 months after their stroke\n-- Significantly different compared to the control group (p < 0.05)\n\n--- Low Heparin during study ---\n76.4 % of patients living 6 months after their stroke\n\n--- Medium Heparin during study ---\n76.9 % of patients living 6 monthsafter their stroke\n\n--- Control (neither Aspirin nor Heparin during study) ---\n75.6 % of patients living 6 months after their stroke\n\n"
     ]
    }
   ],
   "source": [
    "print(f\"--- Aspirin during study ---\")\n",
    "print(f'{round((treat6_a_n / (treat6_a_n + treat6_a_y) * 100),1)} % of patients living 6 months after their stroke')\n",
    "print(f'-- Significantly different compared to both Heparin groups and the control group (p < 0.05)')\n",
    "print()\n",
    "print(f\"--- Aspirin + Low Heparin during study ---\")\n",
    "print(f'{round((treat6_alh_n / (treat6_alh_n + treat6_alh_y) * 100),1)} % of patients living 6 months after their stroke')\n",
    "print(f'-- Significantly different compared to both Heparin groups and the control group(p < 0.05)')\n",
    "print()\n",
    "print(f\"--- Aspirin + Medium Heparin during study ---\")\n",
    "print(f'{round((treat6_amh_n / (treat6_amh_n + treat6_amh_y) * 100),1)} % of patients living 6 months after their stroke')\n",
    "print(f'-- Significantly different compared to the control group (p < 0.05)')\n",
    "print()\n",
    "print(f\"--- Low Heparin during study ---\")\n",
    "print(f'{round((treat6_lh_n / (treat6_lh_n + treat6_lh_y) * 100),1)} % of patients living 6 months after their stroke')\n",
    "print()\n",
    "print(f\"--- Medium Heparin during study ---\")\n",
    "print(f'{round((treat6_mh_n / (treat6_mh_n + treat6_mh_y) * 100),1)} % of patients living 6 monthsafter their stroke')\n",
    "print()\n",
    "print(f\"--- Control (neither Aspirin nor Heparin during study) ---\")\n",
    "print(f'{round((treat6_c_n / (treat6_c_n + treat6_c_y) * 100),1)} % of patients living 6 months after their stroke')\n",
    "print()"
   ]
  },
  {
   "cell_type": "code",
   "execution_count": null,
   "metadata": {},
   "outputs": [],
   "source": []
  }
 ]
}